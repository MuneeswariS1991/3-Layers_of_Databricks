{
 "cells": [
  {
   "cell_type": "code",
   "execution_count": 0,
   "metadata": {
    "application/vnd.databricks.v1+cell": {
     "cellMetadata": {},
     "inputWidgets": {},
     "nuid": "9bba87b9-633a-46a3-8353-04d6b4dc3ddc",
     "showTitle": false,
     "title": ""
    }
   },
   "outputs": [
    {
     "output_type": "display_data",
     "data": {
      "text/plain": [
       "\u001B[0;31m---------------------------------------------------------------------------\u001B[0m\n",
       "\u001B[0;31mExecutionError\u001B[0m                            Traceback (most recent call last)\n",
       "\u001B[0;32m<command-1546152148558855>\u001B[0m in \u001B[0;36m<cell line: 1>\u001B[0;34m()\u001B[0m\n",
       "\u001B[0;32m----> 1\u001B[0;31m \u001B[0mdbutils\u001B[0m\u001B[0;34m.\u001B[0m\u001B[0mfs\u001B[0m\u001B[0;34m.\u001B[0m\u001B[0mmkdirs\u001B[0m\u001B[0;34m(\u001B[0m\u001B[0;34m\"/FileStore/kaggle.json\"\u001B[0m\u001B[0;34m)\u001B[0m\u001B[0;34m\u001B[0m\u001B[0;34m\u001B[0m\u001B[0m\n",
       "\u001B[0m\n",
       "\u001B[0;32m/databricks/python_shell/dbruntime/dbutils.py\u001B[0m in \u001B[0;36mf_with_exception_handling\u001B[0;34m(*args, **kwargs)\u001B[0m\n",
       "\u001B[1;32m    360\u001B[0m                     \u001B[0mexc\u001B[0m\u001B[0;34m.\u001B[0m\u001B[0m__context__\u001B[0m \u001B[0;34m=\u001B[0m \u001B[0;32mNone\u001B[0m\u001B[0;34m\u001B[0m\u001B[0;34m\u001B[0m\u001B[0m\n",
       "\u001B[1;32m    361\u001B[0m                     \u001B[0mexc\u001B[0m\u001B[0;34m.\u001B[0m\u001B[0m__cause__\u001B[0m \u001B[0;34m=\u001B[0m \u001B[0;32mNone\u001B[0m\u001B[0;34m\u001B[0m\u001B[0;34m\u001B[0m\u001B[0m\n",
       "\u001B[0;32m--> 362\u001B[0;31m                     \u001B[0;32mraise\u001B[0m \u001B[0mexc\u001B[0m\u001B[0;34m\u001B[0m\u001B[0;34m\u001B[0m\u001B[0m\n",
       "\u001B[0m\u001B[1;32m    363\u001B[0m \u001B[0;34m\u001B[0m\u001B[0m\n",
       "\u001B[1;32m    364\u001B[0m             \u001B[0;32mreturn\u001B[0m \u001B[0mf_with_exception_handling\u001B[0m\u001B[0;34m\u001B[0m\u001B[0;34m\u001B[0m\u001B[0m\n",
       "\n",
       "\u001B[0;31mExecutionError\u001B[0m: An error occurred while calling o377.mkdirs.\n",
       ": org.apache.hadoop.fs.FileAlreadyExistsException: Path is a file: s3a://databricks-prod-storage-oregon/devtierprod1/4288583834871954/FileStore/kaggle.json\n",
       "\tat com.databricks.backend.daemon.data.client.DbfsClient.send0(DbfsClient.scala:124)\n",
       "\tat com.databricks.backend.daemon.data.client.DbfsClient.sendIdempotent(DbfsClient.scala:69)\n",
       "\tat com.databricks.backend.daemon.data.client.DatabricksFileSystemV1.mkdirs(DatabricksFileSystemV1.scala:268)\n",
       "\tat com.databricks.backend.daemon.data.client.DatabricksFileSystem.mkdirs(DatabricksFileSystem.scala:212)\n",
       "\tat org.apache.hadoop.fs.FileSystem.mkdirs(FileSystem.java:2388)\n",
       "\tat com.databricks.backend.daemon.dbutils.FSUtils.$anonfun$mkdirs$3(DBUtilsCore.scala:294)\n",
       "\tat com.databricks.backend.daemon.dbutils.FSUtils.withFsSafetyCheck(DBUtilsCore.scala:142)\n",
       "\tat com.databricks.backend.daemon.dbutils.FSUtils.$anonfun$mkdirs$2(DBUtilsCore.scala:292)\n",
       "\tat com.databricks.backend.daemon.dbutils.FSUtils.checkPermission(DBUtilsCore.scala:137)\n",
       "\tat com.databricks.backend.daemon.dbutils.FSUtils.$anonfun$mkdirs$1(DBUtilsCore.scala:292)\n",
       "\tat com.databricks.logging.UsageLogging.$anonfun$recordOperation$1(UsageLogging.scala:541)\n",
       "\tat com.databricks.logging.UsageLogging.executeThunkAndCaptureResultTags$1(UsageLogging.scala:636)\n",
       "\tat com.databricks.logging.UsageLogging.$anonfun$recordOperationWithResultTags$4(UsageLogging.scala:657)\n",
       "\tat com.databricks.logging.UsageLogging.$anonfun$withAttributionContext$1(UsageLogging.scala:398)\n",
       "\tat scala.util.DynamicVariable.withValue(DynamicVariable.scala:62)\n",
       "\tat com.databricks.logging.AttributionContext$.withValue(AttributionContext.scala:147)\n",
       "\tat com.databricks.logging.UsageLogging.withAttributionContext(UsageLogging.scala:396)\n",
       "\tat com.databricks.logging.UsageLogging.withAttributionContext$(UsageLogging.scala:393)\n",
       "\tat com.databricks.backend.daemon.dbutils.FSUtils.withAttributionContext(DBUtilsCore.scala:66)\n",
       "\tat com.databricks.logging.UsageLogging.withAttributionTags(UsageLogging.scala:441)\n",
       "\tat com.databricks.logging.UsageLogging.withAttributionTags$(UsageLogging.scala:426)\n",
       "\tat com.databricks.backend.daemon.dbutils.FSUtils.withAttributionTags(DBUtilsCore.scala:66)\n",
       "\tat com.databricks.logging.UsageLogging.recordOperationWithResultTags(UsageLogging.scala:631)\n",
       "\tat com.databricks.logging.UsageLogging.recordOperationWithResultTags$(UsageLogging.scala:550)\n",
       "\tat com.databricks.backend.daemon.dbutils.FSUtils.recordOperationWithResultTags(DBUtilsCore.scala:66)\n",
       "\tat com.databricks.logging.UsageLogging.recordOperation(UsageLogging.scala:541)\n",
       "\tat com.databricks.logging.UsageLogging.recordOperation$(UsageLogging.scala:511)\n",
       "\tat com.databricks.backend.daemon.dbutils.FSUtils.recordOperation(DBUtilsCore.scala:66)\n",
       "\tat com.databricks.backend.daemon.dbutils.FSUtils.recordDbutilsFsOp(DBUtilsCore.scala:130)\n",
       "\tat com.databricks.backend.daemon.dbutils.FSUtils.mkdirs(DBUtilsCore.scala:291)\n",
       "\tat sun.reflect.NativeMethodAccessorImpl.invoke0(Native Method)\n",
       "\tat sun.reflect.NativeMethodAccessorImpl.invoke(NativeMethodAccessorImpl.java:62)\n",
       "\tat sun.reflect.DelegatingMethodAccessorImpl.invoke(DelegatingMethodAccessorImpl.java:43)\n",
       "\tat java.lang.reflect.Method.invoke(Method.java:498)\n",
       "\tat py4j.reflection.MethodInvoker.invoke(MethodInvoker.java:244)\n",
       "\tat py4j.reflection.ReflectionEngine.invoke(ReflectionEngine.java:380)\n",
       "\tat py4j.Gateway.invoke(Gateway.java:306)\n",
       "\tat py4j.commands.AbstractCommand.invokeMethod(AbstractCommand.java:132)\n",
       "\tat py4j.commands.CallCommand.execute(CallCommand.java:79)\n",
       "\tat py4j.ClientServerConnection.waitForCommands(ClientServerConnection.java:195)\n",
       "\tat py4j.ClientServerConnection.run(ClientServerConnection.java:115)\n",
       "\tat java.lang.Thread.run(Thread.java:750)\n"
      ]
     },
     "metadata": {
      "application/vnd.databricks.v1+output": {
       "arguments": {},
       "data": "\u001B[0;31m---------------------------------------------------------------------------\u001B[0m\n\u001B[0;31mExecutionError\u001B[0m                            Traceback (most recent call last)\n\u001B[0;32m<command-1546152148558855>\u001B[0m in \u001B[0;36m<cell line: 1>\u001B[0;34m()\u001B[0m\n\u001B[0;32m----> 1\u001B[0;31m \u001B[0mdbutils\u001B[0m\u001B[0;34m.\u001B[0m\u001B[0mfs\u001B[0m\u001B[0;34m.\u001B[0m\u001B[0mmkdirs\u001B[0m\u001B[0;34m(\u001B[0m\u001B[0;34m\"/FileStore/kaggle.json\"\u001B[0m\u001B[0;34m)\u001B[0m\u001B[0;34m\u001B[0m\u001B[0;34m\u001B[0m\u001B[0m\n\u001B[0m\n\u001B[0;32m/databricks/python_shell/dbruntime/dbutils.py\u001B[0m in \u001B[0;36mf_with_exception_handling\u001B[0;34m(*args, **kwargs)\u001B[0m\n\u001B[1;32m    360\u001B[0m                     \u001B[0mexc\u001B[0m\u001B[0;34m.\u001B[0m\u001B[0m__context__\u001B[0m \u001B[0;34m=\u001B[0m \u001B[0;32mNone\u001B[0m\u001B[0;34m\u001B[0m\u001B[0;34m\u001B[0m\u001B[0m\n\u001B[1;32m    361\u001B[0m                     \u001B[0mexc\u001B[0m\u001B[0;34m.\u001B[0m\u001B[0m__cause__\u001B[0m \u001B[0;34m=\u001B[0m \u001B[0;32mNone\u001B[0m\u001B[0;34m\u001B[0m\u001B[0;34m\u001B[0m\u001B[0m\n\u001B[0;32m--> 362\u001B[0;31m                     \u001B[0;32mraise\u001B[0m \u001B[0mexc\u001B[0m\u001B[0;34m\u001B[0m\u001B[0;34m\u001B[0m\u001B[0m\n\u001B[0m\u001B[1;32m    363\u001B[0m \u001B[0;34m\u001B[0m\u001B[0m\n\u001B[1;32m    364\u001B[0m             \u001B[0;32mreturn\u001B[0m \u001B[0mf_with_exception_handling\u001B[0m\u001B[0;34m\u001B[0m\u001B[0;34m\u001B[0m\u001B[0m\n\n\u001B[0;31mExecutionError\u001B[0m: An error occurred while calling o377.mkdirs.\n: org.apache.hadoop.fs.FileAlreadyExistsException: Path is a file: s3a://databricks-prod-storage-oregon/devtierprod1/4288583834871954/FileStore/kaggle.json\n\tat com.databricks.backend.daemon.data.client.DbfsClient.send0(DbfsClient.scala:124)\n\tat com.databricks.backend.daemon.data.client.DbfsClient.sendIdempotent(DbfsClient.scala:69)\n\tat com.databricks.backend.daemon.data.client.DatabricksFileSystemV1.mkdirs(DatabricksFileSystemV1.scala:268)\n\tat com.databricks.backend.daemon.data.client.DatabricksFileSystem.mkdirs(DatabricksFileSystem.scala:212)\n\tat org.apache.hadoop.fs.FileSystem.mkdirs(FileSystem.java:2388)\n\tat com.databricks.backend.daemon.dbutils.FSUtils.$anonfun$mkdirs$3(DBUtilsCore.scala:294)\n\tat com.databricks.backend.daemon.dbutils.FSUtils.withFsSafetyCheck(DBUtilsCore.scala:142)\n\tat com.databricks.backend.daemon.dbutils.FSUtils.$anonfun$mkdirs$2(DBUtilsCore.scala:292)\n\tat com.databricks.backend.daemon.dbutils.FSUtils.checkPermission(DBUtilsCore.scala:137)\n\tat com.databricks.backend.daemon.dbutils.FSUtils.$anonfun$mkdirs$1(DBUtilsCore.scala:292)\n\tat com.databricks.logging.UsageLogging.$anonfun$recordOperation$1(UsageLogging.scala:541)\n\tat com.databricks.logging.UsageLogging.executeThunkAndCaptureResultTags$1(UsageLogging.scala:636)\n\tat com.databricks.logging.UsageLogging.$anonfun$recordOperationWithResultTags$4(UsageLogging.scala:657)\n\tat com.databricks.logging.UsageLogging.$anonfun$withAttributionContext$1(UsageLogging.scala:398)\n\tat scala.util.DynamicVariable.withValue(DynamicVariable.scala:62)\n\tat com.databricks.logging.AttributionContext$.withValue(AttributionContext.scala:147)\n\tat com.databricks.logging.UsageLogging.withAttributionContext(UsageLogging.scala:396)\n\tat com.databricks.logging.UsageLogging.withAttributionContext$(UsageLogging.scala:393)\n\tat com.databricks.backend.daemon.dbutils.FSUtils.withAttributionContext(DBUtilsCore.scala:66)\n\tat com.databricks.logging.UsageLogging.withAttributionTags(UsageLogging.scala:441)\n\tat com.databricks.logging.UsageLogging.withAttributionTags$(UsageLogging.scala:426)\n\tat com.databricks.backend.daemon.dbutils.FSUtils.withAttributionTags(DBUtilsCore.scala:66)\n\tat com.databricks.logging.UsageLogging.recordOperationWithResultTags(UsageLogging.scala:631)\n\tat com.databricks.logging.UsageLogging.recordOperationWithResultTags$(UsageLogging.scala:550)\n\tat com.databricks.backend.daemon.dbutils.FSUtils.recordOperationWithResultTags(DBUtilsCore.scala:66)\n\tat com.databricks.logging.UsageLogging.recordOperation(UsageLogging.scala:541)\n\tat com.databricks.logging.UsageLogging.recordOperation$(UsageLogging.scala:511)\n\tat com.databricks.backend.daemon.dbutils.FSUtils.recordOperation(DBUtilsCore.scala:66)\n\tat com.databricks.backend.daemon.dbutils.FSUtils.recordDbutilsFsOp(DBUtilsCore.scala:130)\n\tat com.databricks.backend.daemon.dbutils.FSUtils.mkdirs(DBUtilsCore.scala:291)\n\tat sun.reflect.NativeMethodAccessorImpl.invoke0(Native Method)\n\tat sun.reflect.NativeMethodAccessorImpl.invoke(NativeMethodAccessorImpl.java:62)\n\tat sun.reflect.DelegatingMethodAccessorImpl.invoke(DelegatingMethodAccessorImpl.java:43)\n\tat java.lang.reflect.Method.invoke(Method.java:498)\n\tat py4j.reflection.MethodInvoker.invoke(MethodInvoker.java:244)\n\tat py4j.reflection.ReflectionEngine.invoke(ReflectionEngine.java:380)\n\tat py4j.Gateway.invoke(Gateway.java:306)\n\tat py4j.commands.AbstractCommand.invokeMethod(AbstractCommand.java:132)\n\tat py4j.commands.CallCommand.execute(CallCommand.java:79)\n\tat py4j.ClientServerConnection.waitForCommands(ClientServerConnection.java:195)\n\tat py4j.ClientServerConnection.run(ClientServerConnection.java:115)\n\tat java.lang.Thread.run(Thread.java:750)\n",
       "errorSummary": "org.apache.hadoop.fs.FileAlreadyExistsException: Path is a file: s3a://databricks-prod-storage-oregon/devtierprod1/4288583834871954/FileStore/kaggle.json",
       "errorTraceType": "ansi",
       "metadata": {},
       "type": "ipynbError"
      }
     },
     "output_type": "display_data"
    }
   ],
   "source": [
    "%python\n",
    "dbutils.fs.mkdirs(\"/FileStore/kaggle.json\")\n"
   ]
  },
  {
   "cell_type": "code",
   "execution_count": 0,
   "metadata": {
    "application/vnd.databricks.v1+cell": {
     "cellMetadata": {},
     "inputWidgets": {},
     "nuid": "bc73979d-b0e4-45bc-819f-aebd70a8190e",
     "showTitle": false,
     "title": ""
    }
   },
   "outputs": [],
   "source": [
    "path='dbfs:/FileStore/kaggle.json'\n",
    "spark_credentials_df=spark.read.format('json').option('header','true').option('inferschema','true').load(path)"
   ]
  },
  {
   "cell_type": "code",
   "execution_count": 0,
   "metadata": {
    "application/vnd.databricks.v1+cell": {
     "cellMetadata": {},
     "inputWidgets": {},
     "nuid": "63339dfd-56c3-46c0-a32e-36ffd1eb7e92",
     "showTitle": false,
     "title": ""
    }
   },
   "outputs": [
    {
     "output_type": "display_data",
     "data": {
      "text/plain": [
       "\u001B[0;31m---------------------------------------------------------------------------\u001B[0m\n",
       "\u001B[0;31mAnalysisException\u001B[0m                         Traceback (most recent call last)\n",
       "\u001B[0;32m<command-1546152148558857>\u001B[0m in \u001B[0;36m<cell line: 1>\u001B[0;34m()\u001B[0m\n",
       "\u001B[0;32m----> 1\u001B[0;31m \u001B[0mdisplay\u001B[0m\u001B[0;34m(\u001B[0m\u001B[0mspark_credentials_df\u001B[0m\u001B[0;34m)\u001B[0m\u001B[0;34m\u001B[0m\u001B[0;34m\u001B[0m\u001B[0m\n",
       "\u001B[0m\n",
       "\u001B[0;32m/databricks/python_shell/dbruntime/display.py\u001B[0m in \u001B[0;36mdisplay\u001B[0;34m(self, input, *args, **kwargs)\u001B[0m\n",
       "\u001B[1;32m     81\u001B[0m                     \u001B[0;32mraise\u001B[0m \u001B[0mException\u001B[0m\u001B[0;34m(\u001B[0m\u001B[0;34m'Triggers can only be set for streaming queries.'\u001B[0m\u001B[0;34m)\u001B[0m\u001B[0;34m\u001B[0m\u001B[0;34m\u001B[0m\u001B[0m\n",
       "\u001B[1;32m     82\u001B[0m \u001B[0;34m\u001B[0m\u001B[0m\n",
       "\u001B[0;32m---> 83\u001B[0;31m                 \u001B[0mself\u001B[0m\u001B[0;34m.\u001B[0m\u001B[0madd_custom_display_data\u001B[0m\u001B[0;34m(\u001B[0m\u001B[0;34m\"table\"\u001B[0m\u001B[0;34m,\u001B[0m \u001B[0minput\u001B[0m\u001B[0;34m.\u001B[0m\u001B[0m_jdf\u001B[0m\u001B[0;34m)\u001B[0m\u001B[0;34m\u001B[0m\u001B[0;34m\u001B[0m\u001B[0m\n",
       "\u001B[0m\u001B[1;32m     84\u001B[0m \u001B[0;34m\u001B[0m\u001B[0m\n",
       "\u001B[1;32m     85\u001B[0m         \u001B[0;32melif\u001B[0m \u001B[0misinstance\u001B[0m\u001B[0;34m(\u001B[0m\u001B[0minput\u001B[0m\u001B[0;34m,\u001B[0m \u001B[0mlist\u001B[0m\u001B[0;34m)\u001B[0m\u001B[0;34m:\u001B[0m\u001B[0;34m\u001B[0m\u001B[0;34m\u001B[0m\u001B[0m\n",
       "\n",
       "\u001B[0;32m/databricks/python_shell/dbruntime/display.py\u001B[0m in \u001B[0;36madd_custom_display_data\u001B[0;34m(self, data_type, data)\u001B[0m\n",
       "\u001B[1;32m     34\u001B[0m     \u001B[0;32mdef\u001B[0m \u001B[0madd_custom_display_data\u001B[0m\u001B[0;34m(\u001B[0m\u001B[0mself\u001B[0m\u001B[0;34m,\u001B[0m \u001B[0mdata_type\u001B[0m\u001B[0;34m,\u001B[0m \u001B[0mdata\u001B[0m\u001B[0;34m)\u001B[0m\u001B[0;34m:\u001B[0m\u001B[0;34m\u001B[0m\u001B[0;34m\u001B[0m\u001B[0m\n",
       "\u001B[1;32m     35\u001B[0m         \u001B[0mcustom_display_key\u001B[0m \u001B[0;34m=\u001B[0m \u001B[0mstr\u001B[0m\u001B[0;34m(\u001B[0m\u001B[0muuid\u001B[0m\u001B[0;34m.\u001B[0m\u001B[0muuid4\u001B[0m\u001B[0;34m(\u001B[0m\u001B[0;34m)\u001B[0m\u001B[0;34m)\u001B[0m\u001B[0;34m\u001B[0m\u001B[0;34m\u001B[0m\u001B[0m\n",
       "\u001B[0;32m---> 36\u001B[0;31m         \u001B[0mreturn_code\u001B[0m \u001B[0;34m=\u001B[0m \u001B[0mself\u001B[0m\u001B[0;34m.\u001B[0m\u001B[0mentry_point\u001B[0m\u001B[0;34m.\u001B[0m\u001B[0maddCustomDisplayData\u001B[0m\u001B[0;34m(\u001B[0m\u001B[0mcustom_display_key\u001B[0m\u001B[0;34m,\u001B[0m \u001B[0mdata_type\u001B[0m\u001B[0;34m,\u001B[0m \u001B[0mdata\u001B[0m\u001B[0;34m)\u001B[0m\u001B[0;34m\u001B[0m\u001B[0;34m\u001B[0m\u001B[0m\n",
       "\u001B[0m\u001B[1;32m     37\u001B[0m         ip_display({\n",
       "\u001B[1;32m     38\u001B[0m             \u001B[0;34m\"application/vnd.databricks.v1+display\"\u001B[0m\u001B[0;34m:\u001B[0m \u001B[0mcustom_display_key\u001B[0m\u001B[0;34m,\u001B[0m\u001B[0;34m\u001B[0m\u001B[0;34m\u001B[0m\u001B[0m\n",
       "\n",
       "\u001B[0;32m/databricks/spark/python/lib/py4j-0.10.9.5-src.zip/py4j/java_gateway.py\u001B[0m in \u001B[0;36m__call__\u001B[0;34m(self, *args)\u001B[0m\n",
       "\u001B[1;32m   1319\u001B[0m \u001B[0;34m\u001B[0m\u001B[0m\n",
       "\u001B[1;32m   1320\u001B[0m         \u001B[0manswer\u001B[0m \u001B[0;34m=\u001B[0m \u001B[0mself\u001B[0m\u001B[0;34m.\u001B[0m\u001B[0mgateway_client\u001B[0m\u001B[0;34m.\u001B[0m\u001B[0msend_command\u001B[0m\u001B[0;34m(\u001B[0m\u001B[0mcommand\u001B[0m\u001B[0;34m)\u001B[0m\u001B[0;34m\u001B[0m\u001B[0;34m\u001B[0m\u001B[0m\n",
       "\u001B[0;32m-> 1321\u001B[0;31m         return_value = get_return_value(\n",
       "\u001B[0m\u001B[1;32m   1322\u001B[0m             answer, self.gateway_client, self.target_id, self.name)\n",
       "\u001B[1;32m   1323\u001B[0m \u001B[0;34m\u001B[0m\u001B[0m\n",
       "\n",
       "\u001B[0;32m/databricks/spark/python/pyspark/sql/utils.py\u001B[0m in \u001B[0;36mdeco\u001B[0;34m(*a, **kw)\u001B[0m\n",
       "\u001B[1;32m    200\u001B[0m                 \u001B[0;31m# Hide where the exception came from that shows a non-Pythonic\u001B[0m\u001B[0;34m\u001B[0m\u001B[0;34m\u001B[0m\u001B[0;34m\u001B[0m\u001B[0m\n",
       "\u001B[1;32m    201\u001B[0m                 \u001B[0;31m# JVM exception message.\u001B[0m\u001B[0;34m\u001B[0m\u001B[0;34m\u001B[0m\u001B[0;34m\u001B[0m\u001B[0m\n",
       "\u001B[0;32m--> 202\u001B[0;31m                 \u001B[0;32mraise\u001B[0m \u001B[0mconverted\u001B[0m \u001B[0;32mfrom\u001B[0m \u001B[0;32mNone\u001B[0m\u001B[0;34m\u001B[0m\u001B[0;34m\u001B[0m\u001B[0m\n",
       "\u001B[0m\u001B[1;32m    203\u001B[0m             \u001B[0;32melse\u001B[0m\u001B[0;34m:\u001B[0m\u001B[0;34m\u001B[0m\u001B[0;34m\u001B[0m\u001B[0m\n",
       "\u001B[1;32m    204\u001B[0m                 \u001B[0;32mraise\u001B[0m\u001B[0;34m\u001B[0m\u001B[0;34m\u001B[0m\u001B[0m\n",
       "\n",
       "\u001B[0;31mAnalysisException\u001B[0m: \n",
       "Since Spark 2.3, the queries from raw JSON/CSV files are disallowed when the\n",
       "referenced columns only include the internal corrupt record column\n",
       "(named _corrupt_record by default). For example:\n",
       "spark.read.schema(schema).csv(file).filter($\"_corrupt_record\".isNotNull).count()\n",
       "and spark.read.schema(schema).csv(file).select(\"_corrupt_record\").show().\n",
       "Instead, you can cache or save the parsed results and then send the same query.\n",
       "For example, val df = spark.read.schema(schema).csv(file).cache() and then\n",
       "df.filter($\"_corrupt_record\".isNotNull).count().\n",
       "      "
      ]
     },
     "metadata": {
      "application/vnd.databricks.v1+output": {
       "arguments": {},
       "data": "\u001B[0;31m---------------------------------------------------------------------------\u001B[0m\n\u001B[0;31mAnalysisException\u001B[0m                         Traceback (most recent call last)\n\u001B[0;32m<command-1546152148558857>\u001B[0m in \u001B[0;36m<cell line: 1>\u001B[0;34m()\u001B[0m\n\u001B[0;32m----> 1\u001B[0;31m \u001B[0mdisplay\u001B[0m\u001B[0;34m(\u001B[0m\u001B[0mspark_credentials_df\u001B[0m\u001B[0;34m)\u001B[0m\u001B[0;34m\u001B[0m\u001B[0;34m\u001B[0m\u001B[0m\n\u001B[0m\n\u001B[0;32m/databricks/python_shell/dbruntime/display.py\u001B[0m in \u001B[0;36mdisplay\u001B[0;34m(self, input, *args, **kwargs)\u001B[0m\n\u001B[1;32m     81\u001B[0m                     \u001B[0;32mraise\u001B[0m \u001B[0mException\u001B[0m\u001B[0;34m(\u001B[0m\u001B[0;34m'Triggers can only be set for streaming queries.'\u001B[0m\u001B[0;34m)\u001B[0m\u001B[0;34m\u001B[0m\u001B[0;34m\u001B[0m\u001B[0m\n\u001B[1;32m     82\u001B[0m \u001B[0;34m\u001B[0m\u001B[0m\n\u001B[0;32m---> 83\u001B[0;31m                 \u001B[0mself\u001B[0m\u001B[0;34m.\u001B[0m\u001B[0madd_custom_display_data\u001B[0m\u001B[0;34m(\u001B[0m\u001B[0;34m\"table\"\u001B[0m\u001B[0;34m,\u001B[0m \u001B[0minput\u001B[0m\u001B[0;34m.\u001B[0m\u001B[0m_jdf\u001B[0m\u001B[0;34m)\u001B[0m\u001B[0;34m\u001B[0m\u001B[0;34m\u001B[0m\u001B[0m\n\u001B[0m\u001B[1;32m     84\u001B[0m \u001B[0;34m\u001B[0m\u001B[0m\n\u001B[1;32m     85\u001B[0m         \u001B[0;32melif\u001B[0m \u001B[0misinstance\u001B[0m\u001B[0;34m(\u001B[0m\u001B[0minput\u001B[0m\u001B[0;34m,\u001B[0m \u001B[0mlist\u001B[0m\u001B[0;34m)\u001B[0m\u001B[0;34m:\u001B[0m\u001B[0;34m\u001B[0m\u001B[0;34m\u001B[0m\u001B[0m\n\n\u001B[0;32m/databricks/python_shell/dbruntime/display.py\u001B[0m in \u001B[0;36madd_custom_display_data\u001B[0;34m(self, data_type, data)\u001B[0m\n\u001B[1;32m     34\u001B[0m     \u001B[0;32mdef\u001B[0m \u001B[0madd_custom_display_data\u001B[0m\u001B[0;34m(\u001B[0m\u001B[0mself\u001B[0m\u001B[0;34m,\u001B[0m \u001B[0mdata_type\u001B[0m\u001B[0;34m,\u001B[0m \u001B[0mdata\u001B[0m\u001B[0;34m)\u001B[0m\u001B[0;34m:\u001B[0m\u001B[0;34m\u001B[0m\u001B[0;34m\u001B[0m\u001B[0m\n\u001B[1;32m     35\u001B[0m         \u001B[0mcustom_display_key\u001B[0m \u001B[0;34m=\u001B[0m \u001B[0mstr\u001B[0m\u001B[0;34m(\u001B[0m\u001B[0muuid\u001B[0m\u001B[0;34m.\u001B[0m\u001B[0muuid4\u001B[0m\u001B[0;34m(\u001B[0m\u001B[0;34m)\u001B[0m\u001B[0;34m)\u001B[0m\u001B[0;34m\u001B[0m\u001B[0;34m\u001B[0m\u001B[0m\n\u001B[0;32m---> 36\u001B[0;31m         \u001B[0mreturn_code\u001B[0m \u001B[0;34m=\u001B[0m \u001B[0mself\u001B[0m\u001B[0;34m.\u001B[0m\u001B[0mentry_point\u001B[0m\u001B[0;34m.\u001B[0m\u001B[0maddCustomDisplayData\u001B[0m\u001B[0;34m(\u001B[0m\u001B[0mcustom_display_key\u001B[0m\u001B[0;34m,\u001B[0m \u001B[0mdata_type\u001B[0m\u001B[0;34m,\u001B[0m \u001B[0mdata\u001B[0m\u001B[0;34m)\u001B[0m\u001B[0;34m\u001B[0m\u001B[0;34m\u001B[0m\u001B[0m\n\u001B[0m\u001B[1;32m     37\u001B[0m         ip_display({\n\u001B[1;32m     38\u001B[0m             \u001B[0;34m\"application/vnd.databricks.v1+display\"\u001B[0m\u001B[0;34m:\u001B[0m \u001B[0mcustom_display_key\u001B[0m\u001B[0;34m,\u001B[0m\u001B[0;34m\u001B[0m\u001B[0;34m\u001B[0m\u001B[0m\n\n\u001B[0;32m/databricks/spark/python/lib/py4j-0.10.9.5-src.zip/py4j/java_gateway.py\u001B[0m in \u001B[0;36m__call__\u001B[0;34m(self, *args)\u001B[0m\n\u001B[1;32m   1319\u001B[0m \u001B[0;34m\u001B[0m\u001B[0m\n\u001B[1;32m   1320\u001B[0m         \u001B[0manswer\u001B[0m \u001B[0;34m=\u001B[0m \u001B[0mself\u001B[0m\u001B[0;34m.\u001B[0m\u001B[0mgateway_client\u001B[0m\u001B[0;34m.\u001B[0m\u001B[0msend_command\u001B[0m\u001B[0;34m(\u001B[0m\u001B[0mcommand\u001B[0m\u001B[0;34m)\u001B[0m\u001B[0;34m\u001B[0m\u001B[0;34m\u001B[0m\u001B[0m\n\u001B[0;32m-> 1321\u001B[0;31m         return_value = get_return_value(\n\u001B[0m\u001B[1;32m   1322\u001B[0m             answer, self.gateway_client, self.target_id, self.name)\n\u001B[1;32m   1323\u001B[0m \u001B[0;34m\u001B[0m\u001B[0m\n\n\u001B[0;32m/databricks/spark/python/pyspark/sql/utils.py\u001B[0m in \u001B[0;36mdeco\u001B[0;34m(*a, **kw)\u001B[0m\n\u001B[1;32m    200\u001B[0m                 \u001B[0;31m# Hide where the exception came from that shows a non-Pythonic\u001B[0m\u001B[0;34m\u001B[0m\u001B[0;34m\u001B[0m\u001B[0;34m\u001B[0m\u001B[0m\n\u001B[1;32m    201\u001B[0m                 \u001B[0;31m# JVM exception message.\u001B[0m\u001B[0;34m\u001B[0m\u001B[0;34m\u001B[0m\u001B[0;34m\u001B[0m\u001B[0m\n\u001B[0;32m--> 202\u001B[0;31m                 \u001B[0;32mraise\u001B[0m \u001B[0mconverted\u001B[0m \u001B[0;32mfrom\u001B[0m \u001B[0;32mNone\u001B[0m\u001B[0;34m\u001B[0m\u001B[0;34m\u001B[0m\u001B[0m\n\u001B[0m\u001B[1;32m    203\u001B[0m             \u001B[0;32melse\u001B[0m\u001B[0;34m:\u001B[0m\u001B[0;34m\u001B[0m\u001B[0;34m\u001B[0m\u001B[0m\n\u001B[1;32m    204\u001B[0m                 \u001B[0;32mraise\u001B[0m\u001B[0;34m\u001B[0m\u001B[0;34m\u001B[0m\u001B[0m\n\n\u001B[0;31mAnalysisException\u001B[0m: \nSince Spark 2.3, the queries from raw JSON/CSV files are disallowed when the\nreferenced columns only include the internal corrupt record column\n(named _corrupt_record by default). For example:\nspark.read.schema(schema).csv(file).filter($\"_corrupt_record\".isNotNull).count()\nand spark.read.schema(schema).csv(file).select(\"_corrupt_record\").show().\nInstead, you can cache or save the parsed results and then send the same query.\nFor example, val df = spark.read.schema(schema).csv(file).cache() and then\ndf.filter($\"_corrupt_record\".isNotNull).count().\n      ",
       "errorSummary": "<span class='ansi-red-fg'>AnalysisException</span>: \nSince Spark 2.3, the queries from raw JSON/CSV files are disallowed when the\nreferenced columns only include the internal corrupt record column\n(named _corrupt_record by default). For example:\nspark.read.schema(schema).csv(file).filter($\"_corrupt_record\".isNotNull).count()\nand spark.read.schema(schema).csv(file).select(\"_corrupt_record\").show().\nInstead, you can cache or save the parsed results and then send the same query.\nFor example, val df = spark.read.schema(schema).csv(file).cache() and then\ndf.filter($\"_corrupt_record\".isNotNull).count().\n      ",
       "errorTraceType": "ansi",
       "metadata": {},
       "type": "ipynbError"
      }
     },
     "output_type": "display_data"
    }
   ],
   "source": [
    "display(spark_credentials_df)"
   ]
  },
  {
   "cell_type": "code",
   "execution_count": 0,
   "metadata": {
    "application/vnd.databricks.v1+cell": {
     "cellMetadata": {},
     "inputWidgets": {},
     "nuid": "377e592f-bf14-4b48-94a6-56f67472748a",
     "showTitle": false,
     "title": ""
    }
   },
   "outputs": [],
   "source": [
    "user_name=spark_credentials_df.select(spark_credentials_df.username).take(1)[0]['username']\n",
    "key=spark_credentials_df.select(spark_credentials_df.key).take(1)[0]['key']"
   ]
  },
  {
   "cell_type": "code",
   "execution_count": 0,
   "metadata": {
    "application/vnd.databricks.v1+cell": {
     "cellMetadata": {},
     "inputWidgets": {},
     "nuid": "0031fcf1-6bdf-4397-a391-c5b6a33d756f",
     "showTitle": false,
     "title": ""
    }
   },
   "outputs": [
    {
     "output_type": "stream",
     "name": "stdout",
     "output_type": "stream",
     "text": [
      "Collecting kaggle\n  Downloading kaggle-1.5.13.tar.gz (63 kB)\nRequirement already satisfied: six>=1.10 in /databricks/python3/lib/python3.9/site-packages (from kaggle) (1.16.0)\nRequirement already satisfied: certifi in /databricks/python3/lib/python3.9/site-packages (from kaggle) (2021.10.8)\nRequirement already satisfied: python-dateutil in /databricks/python3/lib/python3.9/site-packages (from kaggle) (2.8.2)\nRequirement already satisfied: requests in /databricks/python3/lib/python3.9/site-packages (from kaggle) (2.26.0)\nCollecting tqdm\n  Downloading tqdm-4.65.0-py3-none-any.whl (77 kB)\nCollecting python-slugify\n  Downloading python_slugify-8.0.1-py2.py3-none-any.whl (9.7 kB)\nRequirement already satisfied: urllib3 in /databricks/python3/lib/python3.9/site-packages (from kaggle) (1.26.7)\nCollecting text-unidecode>=1.3\n  Downloading text_unidecode-1.3-py2.py3-none-any.whl (78 kB)\nRequirement already satisfied: idna<4,>=2.5 in /databricks/python3/lib/python3.9/site-packages (from requests->kaggle) (3.2)\nRequirement already satisfied: charset-normalizer~=2.0.0 in /databricks/python3/lib/python3.9/site-packages (from requests->kaggle) (2.0.4)\nBuilding wheels for collected packages: kaggle\n  Building wheel for kaggle (setup.py): started\n  Building wheel for kaggle (setup.py): finished with status 'done'\n  Created wheel for kaggle: filename=kaggle-1.5.13-py3-none-any.whl size=77734 sha256=4a4ecd49af881a9af5960de2e58a237b88471fbed28b34fe1d594eb2a2b9cde5\n  Stored in directory: /root/.cache/pip/wheels/9c/45/15/6d6d116cd2539fb8f450d64b0aee4a480e5366bb11b42ac763\nSuccessfully built kaggle\nInstalling collected packages: text-unidecode, tqdm, python-slugify, kaggle\nSuccessfully installed kaggle-1.5.13 python-slugify-8.0.1 text-unidecode-1.3 tqdm-4.65.0\nWARNING: You are using pip version 21.2.4; however, version 23.0.1 is available.\nYou should consider upgrading via the '/local_disk0/.ephemeral_nfs/envs/pythonEnv-c6fb888a-78d1-4aeb-8cb1-f26d595bc6b8/bin/python -m pip install --upgrade pip' command.\n"
     ]
    }
   ],
   "source": [
    "%sh\n",
    "pip install kaggle"
   ]
  },
  {
   "cell_type": "code",
   "execution_count": 0,
   "metadata": {
    "application/vnd.databricks.v1+cell": {
     "cellMetadata": {},
     "inputWidgets": {},
     "nuid": "7f8c3873-1812-45a7-a0d5-8994ce454c2f",
     "showTitle": false,
     "title": ""
    }
   },
   "outputs": [],
   "source": [
    "def autunticate_kaggle(user_name,key):\n",
    "\n",
    "    import os\n",
    "    os.environ['KAGGLE_USERNAME']=user_name\n",
    "    os.environ['KAGGLE_KEY']=key\n",
    "\n",
    "    from kaggle.api.kaggle_api_extended import KaggleApi\n",
    "\n",
    "    api=KaggleApi()\n",
    "    api.authenticate()\n",
    "    \n",
    "    return api"
   ]
  },
  {
   "cell_type": "code",
   "execution_count": 0,
   "metadata": {
    "application/vnd.databricks.v1+cell": {
     "cellMetadata": {},
     "inputWidgets": {},
     "nuid": "f788fbc1-a13c-4d0b-8e51-93009c183309",
     "showTitle": false,
     "title": ""
    }
   },
   "outputs": [
    {
     "output_type": "display_data",
     "data": {
      "text/plain": [
       "\u001B[0;31m---------------------------------------------------------------------------\u001B[0m\n",
       "\u001B[0;31mNameError\u001B[0m                                 Traceback (most recent call last)\n",
       "\u001B[0;32m<command-1546152148558861>\u001B[0m in \u001B[0;36m<cell line: 1>\u001B[0;34m()\u001B[0m\n",
       "\u001B[0;32m----> 1\u001B[0;31m \u001B[0mautunticate_kaggle\u001B[0m\u001B[0;34m(\u001B[0m\u001B[0muser_name\u001B[0m\u001B[0;34m,\u001B[0m\u001B[0mkey\u001B[0m\u001B[0;34m)\u001B[0m\u001B[0;34m\u001B[0m\u001B[0;34m\u001B[0m\u001B[0m\n",
       "\u001B[0m\n",
       "\u001B[0;31mNameError\u001B[0m: name 'user_name' is not defined"
      ]
     },
     "metadata": {
      "application/vnd.databricks.v1+output": {
       "arguments": {},
       "data": "\u001B[0;31m---------------------------------------------------------------------------\u001B[0m\n\u001B[0;31mNameError\u001B[0m                                 Traceback (most recent call last)\n\u001B[0;32m<command-1546152148558861>\u001B[0m in \u001B[0;36m<cell line: 1>\u001B[0;34m()\u001B[0m\n\u001B[0;32m----> 1\u001B[0;31m \u001B[0mautunticate_kaggle\u001B[0m\u001B[0;34m(\u001B[0m\u001B[0muser_name\u001B[0m\u001B[0;34m,\u001B[0m\u001B[0mkey\u001B[0m\u001B[0;34m)\u001B[0m\u001B[0;34m\u001B[0m\u001B[0;34m\u001B[0m\u001B[0m\n\u001B[0m\n\u001B[0;31mNameError\u001B[0m: name 'user_name' is not defined",
       "errorSummary": "<span class='ansi-red-fg'>NameError</span>: name 'user_name' is not defined",
       "errorTraceType": "ansi",
       "metadata": {},
       "type": "ipynbError"
      }
     },
     "output_type": "display_data"
    }
   ],
   "source": [
    "autunticate_kaggle(user_name,key)"
   ]
  },
  {
   "cell_type": "code",
   "execution_count": 0,
   "metadata": {
    "application/vnd.databricks.v1+cell": {
     "cellMetadata": {},
     "inputWidgets": {},
     "nuid": "c9b84560-abc6-4974-ac8e-e02159ac51f6",
     "showTitle": false,
     "title": ""
    }
   },
   "outputs": [
    {
     "output_type": "stream",
     "name": "stdout",
     "output_type": "stream",
     "text": [
      "Traceback (most recent call last):\n  File \"/local_disk0/.ephemeral_nfs/envs/pythonEnv-e2fdc0e9-210a-45c4-8bdb-d0896408dcef/bin/kaggle\", line 5, in <module>\n    from kaggle.cli import main\n  File \"/local_disk0/.ephemeral_nfs/envs/pythonEnv-e2fdc0e9-210a-45c4-8bdb-d0896408dcef/lib/python3.9/site-packages/kaggle/__init__.py\", line 23, in <module>\n    api.authenticate()\n  File \"/local_disk0/.ephemeral_nfs/envs/pythonEnv-e2fdc0e9-210a-45c4-8bdb-d0896408dcef/lib/python3.9/site-packages/kaggle/api/kaggle_api_extended.py\", line 164, in authenticate\n    raise IOError('Could not find {}. Make sure it\\'s located in'\nOSError: Could not find kaggle.json. Make sure it's located in /root/.kaggle. Or use the environment method.\n"
     ]
    }
   ],
   "source": [
    "%sh\n",
    "kaggle datasets download -d songseungwon/2020-udemy-courses-dataset\n"
   ]
  },
  {
   "cell_type": "code",
   "execution_count": 0,
   "metadata": {
    "application/vnd.databricks.v1+cell": {
     "cellMetadata": {},
     "inputWidgets": {},
     "nuid": "25986235-005c-4ae7-9c22-7ce9906adf50",
     "showTitle": false,
     "title": ""
    }
   },
   "outputs": [
    {
     "output_type": "stream",
     "name": "stdout",
     "output_type": "stream",
     "text": [
      "Out[22]: True"
     ]
    }
   ],
   "source": [
    "dbutils.fs.mkdirs('dbfs:/FileStore/udemy_mount')"
   ]
  },
  {
   "cell_type": "code",
   "execution_count": 0,
   "metadata": {
    "application/vnd.databricks.v1+cell": {
     "cellMetadata": {},
     "inputWidgets": {},
     "nuid": "2e106afa-32a2-46a2-8501-f72391a7c9af",
     "showTitle": false,
     "title": ""
    }
   },
   "outputs": [
    {
     "output_type": "display_data",
     "data": {
      "text/plain": [
       "\u001B[0;31m---------------------------------------------------------------------------\u001B[0m\n",
       "\u001B[0;31mExecutionError\u001B[0m                            Traceback (most recent call last)\n",
       "\u001B[0;32m<command-1546152148558864>\u001B[0m in \u001B[0;36m<cell line: 1>\u001B[0;34m()\u001B[0m\n",
       "\u001B[0;32m----> 1\u001B[0;31m \u001B[0mdbutils\u001B[0m\u001B[0;34m.\u001B[0m\u001B[0mfs\u001B[0m\u001B[0;34m.\u001B[0m\u001B[0mmv\u001B[0m\u001B[0;34m(\u001B[0m\u001B[0;34m'file:/udemy/'\u001B[0m\u001B[0;34m,\u001B[0m\u001B[0;34m'dbfs:/FileStore/udemy_mount'\u001B[0m\u001B[0;34m,\u001B[0m\u001B[0mrecurse\u001B[0m\u001B[0;34m=\u001B[0m\u001B[0;32mTrue\u001B[0m\u001B[0;34m)\u001B[0m\u001B[0;34m\u001B[0m\u001B[0;34m\u001B[0m\u001B[0m\n",
       "\u001B[0m\n",
       "\u001B[0;32m/databricks/python_shell/dbruntime/dbutils.py\u001B[0m in \u001B[0;36mf_with_exception_handling\u001B[0;34m(*args, **kwargs)\u001B[0m\n",
       "\u001B[1;32m    360\u001B[0m                     \u001B[0mexc\u001B[0m\u001B[0;34m.\u001B[0m\u001B[0m__context__\u001B[0m \u001B[0;34m=\u001B[0m \u001B[0;32mNone\u001B[0m\u001B[0;34m\u001B[0m\u001B[0;34m\u001B[0m\u001B[0m\n",
       "\u001B[1;32m    361\u001B[0m                     \u001B[0mexc\u001B[0m\u001B[0;34m.\u001B[0m\u001B[0m__cause__\u001B[0m \u001B[0;34m=\u001B[0m \u001B[0;32mNone\u001B[0m\u001B[0;34m\u001B[0m\u001B[0;34m\u001B[0m\u001B[0m\n",
       "\u001B[0;32m--> 362\u001B[0;31m                     \u001B[0;32mraise\u001B[0m \u001B[0mexc\u001B[0m\u001B[0;34m\u001B[0m\u001B[0;34m\u001B[0m\u001B[0m\n",
       "\u001B[0m\u001B[1;32m    363\u001B[0m \u001B[0;34m\u001B[0m\u001B[0m\n",
       "\u001B[1;32m    364\u001B[0m             \u001B[0;32mreturn\u001B[0m \u001B[0mf_with_exception_handling\u001B[0m\u001B[0;34m\u001B[0m\u001B[0;34m\u001B[0m\u001B[0m\n",
       "\n",
       "\u001B[0;31mExecutionError\u001B[0m: An error occurred while calling o377.mv.\n",
       ": java.io.FileNotFoundException: File file:/udemy does not exist\n",
       "\tat org.apache.hadoop.fs.RawLocalFileSystem.deprecatedGetFileStatus(RawLocalFileSystem.java:779)\n",
       "\tat org.apache.hadoop.fs.RawLocalFileSystem.getFileLinkStatusInternal(RawLocalFileSystem.java:1100)\n",
       "\tat org.apache.hadoop.fs.RawLocalFileSystem.getFileStatus(RawLocalFileSystem.java:769)\n",
       "\tat org.apache.hadoop.fs.FilterFileSystem.getFileStatus(FilterFileSystem.java:462)\n",
       "\tat com.databricks.backend.daemon.driver.WorkspaceLocalFileSystem.super$getFileStatus(WorkspaceLocalFileSystem.scala:75)\n",
       "\tat com.databricks.backend.daemon.driver.WorkspaceLocalFileSystem.$anonfun$getFileStatus$1(WorkspaceLocalFileSystem.scala:75)\n",
       "\tat com.databricks.backend.daemon.driver.WorkspaceLocalFileSystem.$anonfun$getFileStatus$1$adapted(WorkspaceLocalFileSystem.scala:74)\n",
       "\tat com.databricks.backend.daemon.driver.WSFSCredentialForwardingHelper.$anonfun$withWSFSCredentials$1(WorkspaceLocalFileSystem.scala:215)\n",
       "\tat com.databricks.backend.daemon.driver.WSFSCredentialForwardingHelper.withWSFSCredentials(WorkspaceLocalFileSystem.scala:186)\n",
       "\tat com.databricks.backend.daemon.driver.WSFSCredentialForwardingHelper.withWSFSCredentials(WorkspaceLocalFileSystem.scala:215)\n",
       "\tat com.databricks.backend.daemon.driver.WSFSCredentialForwardingHelper.withWSFSCredentials$(WorkspaceLocalFileSystem.scala:213)\n",
       "\tat com.databricks.backend.daemon.driver.WorkspaceLocalFileSystem.withWSFSCredentials(WorkspaceLocalFileSystem.scala:32)\n",
       "\tat com.databricks.backend.daemon.driver.WorkspaceLocalFileSystem.getFileStatus(WorkspaceLocalFileSystem.scala:74)\n",
       "\tat com.databricks.backend.daemon.dbutils.FSUtils.$anonfun$withMvSafetyChecks$2(DBUtilsCore.scala:178)\n",
       "\tat com.databricks.backend.daemon.dbutils.FSUtils.withFsSafetyCheck(DBUtilsCore.scala:142)\n",
       "\tat com.databricks.backend.daemon.dbutils.FSUtils.$anonfun$withMvSafetyChecks$1(DBUtilsCore.scala:174)\n",
       "\tat com.databricks.backend.daemon.dbutils.FSUtils.withFsSafetyCheck(DBUtilsCore.scala:142)\n",
       "\tat com.databricks.backend.daemon.dbutils.FSUtils.withMvSafetyChecks(DBUtilsCore.scala:174)\n",
       "\tat com.databricks.backend.daemon.dbutils.FSUtils.$anonfun$mv$2(DBUtilsCore.scala:345)\n",
       "\tat com.databricks.backend.daemon.dbutils.FSUtils.checkPermission(DBUtilsCore.scala:137)\n",
       "\tat com.databricks.backend.daemon.dbutils.FSUtils.$anonfun$mv$1(DBUtilsCore.scala:345)\n",
       "\tat com.databricks.logging.UsageLogging.$anonfun$recordOperation$1(UsageLogging.scala:541)\n",
       "\tat com.databricks.logging.UsageLogging.executeThunkAndCaptureResultTags$1(UsageLogging.scala:636)\n",
       "\tat com.databricks.logging.UsageLogging.$anonfun$recordOperationWithResultTags$4(UsageLogging.scala:657)\n",
       "\tat com.databricks.logging.UsageLogging.$anonfun$withAttributionContext$1(UsageLogging.scala:398)\n",
       "\tat scala.util.DynamicVariable.withValue(DynamicVariable.scala:62)\n",
       "\tat com.databricks.logging.AttributionContext$.withValue(AttributionContext.scala:147)\n",
       "\tat com.databricks.logging.UsageLogging.withAttributionContext(UsageLogging.scala:396)\n",
       "\tat com.databricks.logging.UsageLogging.withAttributionContext$(UsageLogging.scala:393)\n",
       "\tat com.databricks.backend.daemon.dbutils.FSUtils.withAttributionContext(DBUtilsCore.scala:66)\n",
       "\tat com.databricks.logging.UsageLogging.withAttributionTags(UsageLogging.scala:441)\n",
       "\tat com.databricks.logging.UsageLogging.withAttributionTags$(UsageLogging.scala:426)\n",
       "\tat com.databricks.backend.daemon.dbutils.FSUtils.withAttributionTags(DBUtilsCore.scala:66)\n",
       "\tat com.databricks.logging.UsageLogging.recordOperationWithResultTags(UsageLogging.scala:631)\n",
       "\tat com.databricks.logging.UsageLogging.recordOperationWithResultTags$(UsageLogging.scala:550)\n",
       "\tat com.databricks.backend.daemon.dbutils.FSUtils.recordOperationWithResultTags(DBUtilsCore.scala:66)\n",
       "\tat com.databricks.logging.UsageLogging.recordOperation(UsageLogging.scala:541)\n",
       "\tat com.databricks.logging.UsageLogging.recordOperation$(UsageLogging.scala:511)\n",
       "\tat com.databricks.backend.daemon.dbutils.FSUtils.recordOperation(DBUtilsCore.scala:66)\n",
       "\tat com.databricks.backend.daemon.dbutils.FSUtils.recordDbutilsFsOp(DBUtilsCore.scala:130)\n",
       "\tat com.databricks.backend.daemon.dbutils.FSUtils.mv(DBUtilsCore.scala:344)\n",
       "\tat sun.reflect.NativeMethodAccessorImpl.invoke0(Native Method)\n",
       "\tat sun.reflect.NativeMethodAccessorImpl.invoke(NativeMethodAccessorImpl.java:62)\n",
       "\tat sun.reflect.DelegatingMethodAccessorImpl.invoke(DelegatingMethodAccessorImpl.java:43)\n",
       "\tat java.lang.reflect.Method.invoke(Method.java:498)\n",
       "\tat py4j.reflection.MethodInvoker.invoke(MethodInvoker.java:244)\n",
       "\tat py4j.reflection.ReflectionEngine.invoke(ReflectionEngine.java:380)\n",
       "\tat py4j.Gateway.invoke(Gateway.java:306)\n",
       "\tat py4j.commands.AbstractCommand.invokeMethod(AbstractCommand.java:132)\n",
       "\tat py4j.commands.CallCommand.execute(CallCommand.java:79)\n",
       "\tat py4j.ClientServerConnection.waitForCommands(ClientServerConnection.java:195)\n",
       "\tat py4j.ClientServerConnection.run(ClientServerConnection.java:115)\n",
       "\tat java.lang.Thread.run(Thread.java:750)\n"
      ]
     },
     "metadata": {
      "application/vnd.databricks.v1+output": {
       "arguments": {},
       "data": "\u001B[0;31m---------------------------------------------------------------------------\u001B[0m\n\u001B[0;31mExecutionError\u001B[0m                            Traceback (most recent call last)\n\u001B[0;32m<command-1546152148558864>\u001B[0m in \u001B[0;36m<cell line: 1>\u001B[0;34m()\u001B[0m\n\u001B[0;32m----> 1\u001B[0;31m \u001B[0mdbutils\u001B[0m\u001B[0;34m.\u001B[0m\u001B[0mfs\u001B[0m\u001B[0;34m.\u001B[0m\u001B[0mmv\u001B[0m\u001B[0;34m(\u001B[0m\u001B[0;34m'file:/udemy/'\u001B[0m\u001B[0;34m,\u001B[0m\u001B[0;34m'dbfs:/FileStore/udemy_mount'\u001B[0m\u001B[0;34m,\u001B[0m\u001B[0mrecurse\u001B[0m\u001B[0;34m=\u001B[0m\u001B[0;32mTrue\u001B[0m\u001B[0;34m)\u001B[0m\u001B[0;34m\u001B[0m\u001B[0;34m\u001B[0m\u001B[0m\n\u001B[0m\n\u001B[0;32m/databricks/python_shell/dbruntime/dbutils.py\u001B[0m in \u001B[0;36mf_with_exception_handling\u001B[0;34m(*args, **kwargs)\u001B[0m\n\u001B[1;32m    360\u001B[0m                     \u001B[0mexc\u001B[0m\u001B[0;34m.\u001B[0m\u001B[0m__context__\u001B[0m \u001B[0;34m=\u001B[0m \u001B[0;32mNone\u001B[0m\u001B[0;34m\u001B[0m\u001B[0;34m\u001B[0m\u001B[0m\n\u001B[1;32m    361\u001B[0m                     \u001B[0mexc\u001B[0m\u001B[0;34m.\u001B[0m\u001B[0m__cause__\u001B[0m \u001B[0;34m=\u001B[0m \u001B[0;32mNone\u001B[0m\u001B[0;34m\u001B[0m\u001B[0;34m\u001B[0m\u001B[0m\n\u001B[0;32m--> 362\u001B[0;31m                     \u001B[0;32mraise\u001B[0m \u001B[0mexc\u001B[0m\u001B[0;34m\u001B[0m\u001B[0;34m\u001B[0m\u001B[0m\n\u001B[0m\u001B[1;32m    363\u001B[0m \u001B[0;34m\u001B[0m\u001B[0m\n\u001B[1;32m    364\u001B[0m             \u001B[0;32mreturn\u001B[0m \u001B[0mf_with_exception_handling\u001B[0m\u001B[0;34m\u001B[0m\u001B[0;34m\u001B[0m\u001B[0m\n\n\u001B[0;31mExecutionError\u001B[0m: An error occurred while calling o377.mv.\n: java.io.FileNotFoundException: File file:/udemy does not exist\n\tat org.apache.hadoop.fs.RawLocalFileSystem.deprecatedGetFileStatus(RawLocalFileSystem.java:779)\n\tat org.apache.hadoop.fs.RawLocalFileSystem.getFileLinkStatusInternal(RawLocalFileSystem.java:1100)\n\tat org.apache.hadoop.fs.RawLocalFileSystem.getFileStatus(RawLocalFileSystem.java:769)\n\tat org.apache.hadoop.fs.FilterFileSystem.getFileStatus(FilterFileSystem.java:462)\n\tat com.databricks.backend.daemon.driver.WorkspaceLocalFileSystem.super$getFileStatus(WorkspaceLocalFileSystem.scala:75)\n\tat com.databricks.backend.daemon.driver.WorkspaceLocalFileSystem.$anonfun$getFileStatus$1(WorkspaceLocalFileSystem.scala:75)\n\tat com.databricks.backend.daemon.driver.WorkspaceLocalFileSystem.$anonfun$getFileStatus$1$adapted(WorkspaceLocalFileSystem.scala:74)\n\tat com.databricks.backend.daemon.driver.WSFSCredentialForwardingHelper.$anonfun$withWSFSCredentials$1(WorkspaceLocalFileSystem.scala:215)\n\tat com.databricks.backend.daemon.driver.WSFSCredentialForwardingHelper.withWSFSCredentials(WorkspaceLocalFileSystem.scala:186)\n\tat com.databricks.backend.daemon.driver.WSFSCredentialForwardingHelper.withWSFSCredentials(WorkspaceLocalFileSystem.scala:215)\n\tat com.databricks.backend.daemon.driver.WSFSCredentialForwardingHelper.withWSFSCredentials$(WorkspaceLocalFileSystem.scala:213)\n\tat com.databricks.backend.daemon.driver.WorkspaceLocalFileSystem.withWSFSCredentials(WorkspaceLocalFileSystem.scala:32)\n\tat com.databricks.backend.daemon.driver.WorkspaceLocalFileSystem.getFileStatus(WorkspaceLocalFileSystem.scala:74)\n\tat com.databricks.backend.daemon.dbutils.FSUtils.$anonfun$withMvSafetyChecks$2(DBUtilsCore.scala:178)\n\tat com.databricks.backend.daemon.dbutils.FSUtils.withFsSafetyCheck(DBUtilsCore.scala:142)\n\tat com.databricks.backend.daemon.dbutils.FSUtils.$anonfun$withMvSafetyChecks$1(DBUtilsCore.scala:174)\n\tat com.databricks.backend.daemon.dbutils.FSUtils.withFsSafetyCheck(DBUtilsCore.scala:142)\n\tat com.databricks.backend.daemon.dbutils.FSUtils.withMvSafetyChecks(DBUtilsCore.scala:174)\n\tat com.databricks.backend.daemon.dbutils.FSUtils.$anonfun$mv$2(DBUtilsCore.scala:345)\n\tat com.databricks.backend.daemon.dbutils.FSUtils.checkPermission(DBUtilsCore.scala:137)\n\tat com.databricks.backend.daemon.dbutils.FSUtils.$anonfun$mv$1(DBUtilsCore.scala:345)\n\tat com.databricks.logging.UsageLogging.$anonfun$recordOperation$1(UsageLogging.scala:541)\n\tat com.databricks.logging.UsageLogging.executeThunkAndCaptureResultTags$1(UsageLogging.scala:636)\n\tat com.databricks.logging.UsageLogging.$anonfun$recordOperationWithResultTags$4(UsageLogging.scala:657)\n\tat com.databricks.logging.UsageLogging.$anonfun$withAttributionContext$1(UsageLogging.scala:398)\n\tat scala.util.DynamicVariable.withValue(DynamicVariable.scala:62)\n\tat com.databricks.logging.AttributionContext$.withValue(AttributionContext.scala:147)\n\tat com.databricks.logging.UsageLogging.withAttributionContext(UsageLogging.scala:396)\n\tat com.databricks.logging.UsageLogging.withAttributionContext$(UsageLogging.scala:393)\n\tat com.databricks.backend.daemon.dbutils.FSUtils.withAttributionContext(DBUtilsCore.scala:66)\n\tat com.databricks.logging.UsageLogging.withAttributionTags(UsageLogging.scala:441)\n\tat com.databricks.logging.UsageLogging.withAttributionTags$(UsageLogging.scala:426)\n\tat com.databricks.backend.daemon.dbutils.FSUtils.withAttributionTags(DBUtilsCore.scala:66)\n\tat com.databricks.logging.UsageLogging.recordOperationWithResultTags(UsageLogging.scala:631)\n\tat com.databricks.logging.UsageLogging.recordOperationWithResultTags$(UsageLogging.scala:550)\n\tat com.databricks.backend.daemon.dbutils.FSUtils.recordOperationWithResultTags(DBUtilsCore.scala:66)\n\tat com.databricks.logging.UsageLogging.recordOperation(UsageLogging.scala:541)\n\tat com.databricks.logging.UsageLogging.recordOperation$(UsageLogging.scala:511)\n\tat com.databricks.backend.daemon.dbutils.FSUtils.recordOperation(DBUtilsCore.scala:66)\n\tat com.databricks.backend.daemon.dbutils.FSUtils.recordDbutilsFsOp(DBUtilsCore.scala:130)\n\tat com.databricks.backend.daemon.dbutils.FSUtils.mv(DBUtilsCore.scala:344)\n\tat sun.reflect.NativeMethodAccessorImpl.invoke0(Native Method)\n\tat sun.reflect.NativeMethodAccessorImpl.invoke(NativeMethodAccessorImpl.java:62)\n\tat sun.reflect.DelegatingMethodAccessorImpl.invoke(DelegatingMethodAccessorImpl.java:43)\n\tat java.lang.reflect.Method.invoke(Method.java:498)\n\tat py4j.reflection.MethodInvoker.invoke(MethodInvoker.java:244)\n\tat py4j.reflection.ReflectionEngine.invoke(ReflectionEngine.java:380)\n\tat py4j.Gateway.invoke(Gateway.java:306)\n\tat py4j.commands.AbstractCommand.invokeMethod(AbstractCommand.java:132)\n\tat py4j.commands.CallCommand.execute(CallCommand.java:79)\n\tat py4j.ClientServerConnection.waitForCommands(ClientServerConnection.java:195)\n\tat py4j.ClientServerConnection.run(ClientServerConnection.java:115)\n\tat java.lang.Thread.run(Thread.java:750)\n",
       "errorSummary": "java.io.FileNotFoundException: File file:/udemy does not exist",
       "errorTraceType": "ansi",
       "metadata": {},
       "type": "ipynbError"
      }
     },
     "output_type": "display_data"
    }
   ],
   "source": [
    "\n",
    "\n",
    "dbutils.fs.mv('file:/udemy/','dbfs:/FileStore/udemy_mount',recurse=True)\n"
   ]
  },
  {
   "cell_type": "code",
   "execution_count": 0,
   "metadata": {
    "application/vnd.databricks.v1+cell": {
     "cellMetadata": {},
     "inputWidgets": {},
     "nuid": "542cac77-9701-430e-a0df-02177b4fa1d1",
     "showTitle": false,
     "title": ""
    }
   },
   "outputs": [],
   "source": [
    "kaggle_path='udemy'\n",
    "\n",
    "file_path='dbfs:/dbfs/FileStore/udemy_mnt'\n"
   ]
  },
  {
   "cell_type": "code",
   "execution_count": 0,
   "metadata": {
    "application/vnd.databricks.v1+cell": {
     "cellMetadata": {},
     "inputWidgets": {},
     "nuid": "9675035a-855f-4219-8f6f-40ac1c5e7123",
     "showTitle": false,
     "title": ""
    }
   },
   "outputs": [],
   "source": [
    "# import zipfile\n",
    "# with zipfile.ZipFile('/databricks/driver/2020-udemy-courses-dataset.zip')as zp:\n",
    "#     zp.extractall('/{}/'.format(kaggle_path))\n",
    "#     dbutils.fs.mv('file://',file_path+'{}'.format(kaggle_path),True)\n",
    "#     dbutils.fs.rm('/databricks/driver/ipl-2017.zip')"
   ]
  },
  {
   "cell_type": "code",
   "execution_count": 0,
   "metadata": {
    "application/vnd.databricks.v1+cell": {
     "cellMetadata": {},
     "inputWidgets": {},
     "nuid": "2758c238-5d8d-44e6-b913-8289cc7cb139",
     "showTitle": false,
     "title": ""
    }
   },
   "outputs": [
    {
     "output_type": "stream",
     "name": "stdout",
     "output_type": "stream",
     "text": [
      "Python interpreter will be restarted.\nCollecting beautifulsoup4\n  Downloading beautifulsoup4-4.11.2-py3-none-any.whl (129 kB)\nCollecting soupsieve>1.2\n  Downloading soupsieve-2.4-py3-none-any.whl (37 kB)\nInstalling collected packages: soupsieve, beautifulsoup4\nSuccessfully installed beautifulsoup4-4.11.2 soupsieve-2.4\nPython interpreter will be restarted.\n"
     ]
    }
   ],
   "source": [
    "pip install beautifulsoup4"
   ]
  },
  {
   "cell_type": "code",
   "execution_count": 0,
   "metadata": {
    "application/vnd.databricks.v1+cell": {
     "cellMetadata": {},
     "inputWidgets": {},
     "nuid": "f68b8e25-8c23-45d5-bffc-1814f70dc995",
     "showTitle": false,
     "title": ""
    }
   },
   "outputs": [
    {
     "output_type": "display_data",
     "data": {
      "text/plain": [
       "\u001B[0;31m---------------------------------------------------------------------------\u001B[0m\n",
       "\u001B[0;31mValueError\u001B[0m                                Traceback (most recent call last)\n",
       "\u001B[0;32m<command-1546152148558868>\u001B[0m in \u001B[0;36m<cell line: 1>\u001B[0;34m()\u001B[0m\n",
       "\u001B[0;32m----> 1\u001B[0;31m \u001B[0mdisplay\u001B[0m\u001B[0;34m(\u001B[0m\u001B[0mdbutils\u001B[0m\u001B[0;34m.\u001B[0m\u001B[0mfs\u001B[0m\u001B[0;34m.\u001B[0m\u001B[0mls\u001B[0m\u001B[0;34m(\u001B[0m\u001B[0;34m'dbfs:/FileStore/udemy_mount/'\u001B[0m\u001B[0;34m)\u001B[0m\u001B[0;34m)\u001B[0m\u001B[0;34m\u001B[0m\u001B[0;34m\u001B[0m\u001B[0m\n",
       "\u001B[0m\n",
       "\u001B[0;32m/databricks/python_shell/dbruntime/display.py\u001B[0m in \u001B[0;36mdisplay\u001B[0;34m(self, input, *args, **kwargs)\u001B[0m\n",
       "\u001B[1;32m     84\u001B[0m \u001B[0;34m\u001B[0m\u001B[0m\n",
       "\u001B[1;32m     85\u001B[0m         \u001B[0;32melif\u001B[0m \u001B[0misinstance\u001B[0m\u001B[0;34m(\u001B[0m\u001B[0minput\u001B[0m\u001B[0;34m,\u001B[0m \u001B[0mlist\u001B[0m\u001B[0;34m)\u001B[0m\u001B[0;34m:\u001B[0m\u001B[0;34m\u001B[0m\u001B[0;34m\u001B[0m\u001B[0m\n",
       "\u001B[0;32m---> 86\u001B[0;31m             \u001B[0mself\u001B[0m\u001B[0;34m.\u001B[0m\u001B[0mdisplay\u001B[0m\u001B[0;34m(\u001B[0m\u001B[0mself\u001B[0m\u001B[0;34m.\u001B[0m\u001B[0msparkSession\u001B[0m\u001B[0;34m.\u001B[0m\u001B[0mcreateDataFrame\u001B[0m\u001B[0;34m(\u001B[0m\u001B[0minput\u001B[0m\u001B[0;34m)\u001B[0m\u001B[0;34m)\u001B[0m\u001B[0;34m\u001B[0m\u001B[0;34m\u001B[0m\u001B[0m\n",
       "\u001B[0m\u001B[1;32m     87\u001B[0m         \u001B[0;32melif\u001B[0m \u001B[0mtype\u001B[0m\u001B[0;34m(\u001B[0m\u001B[0minput\u001B[0m\u001B[0;34m)\u001B[0m\u001B[0;34m.\u001B[0m\u001B[0m__module__\u001B[0m \u001B[0;34m==\u001B[0m \u001B[0;34m'pandas.core.frame'\u001B[0m \u001B[0;32mand\u001B[0m \u001B[0mtype\u001B[0m\u001B[0;34m(\u001B[0m\u001B[0minput\u001B[0m\u001B[0;34m)\u001B[0m\u001B[0;34m.\u001B[0m\u001B[0m__name__\u001B[0m \u001B[0;34m==\u001B[0m \u001B[0;34m'DataFrame'\u001B[0m\u001B[0;34m:\u001B[0m\u001B[0;34m\u001B[0m\u001B[0;34m\u001B[0m\u001B[0m\n",
       "\u001B[1;32m     88\u001B[0m             \u001B[0mself\u001B[0m\u001B[0;34m.\u001B[0m\u001B[0mdisplay\u001B[0m\u001B[0;34m(\u001B[0m\u001B[0mself\u001B[0m\u001B[0;34m.\u001B[0m\u001B[0msparkSession\u001B[0m\u001B[0;34m.\u001B[0m\u001B[0mcreateDataFrame\u001B[0m\u001B[0;34m(\u001B[0m\u001B[0minput\u001B[0m\u001B[0;34m)\u001B[0m\u001B[0;34m)\u001B[0m\u001B[0;34m\u001B[0m\u001B[0;34m\u001B[0m\u001B[0m\n",
       "\n",
       "\u001B[0;32m/databricks/spark/python/pyspark/instrumentation_utils.py\u001B[0m in \u001B[0;36mwrapper\u001B[0;34m(*args, **kwargs)\u001B[0m\n",
       "\u001B[1;32m     46\u001B[0m             \u001B[0mstart\u001B[0m \u001B[0;34m=\u001B[0m \u001B[0mtime\u001B[0m\u001B[0;34m.\u001B[0m\u001B[0mperf_counter\u001B[0m\u001B[0;34m(\u001B[0m\u001B[0;34m)\u001B[0m\u001B[0;34m\u001B[0m\u001B[0;34m\u001B[0m\u001B[0m\n",
       "\u001B[1;32m     47\u001B[0m             \u001B[0;32mtry\u001B[0m\u001B[0;34m:\u001B[0m\u001B[0;34m\u001B[0m\u001B[0;34m\u001B[0m\u001B[0m\n",
       "\u001B[0;32m---> 48\u001B[0;31m                 \u001B[0mres\u001B[0m \u001B[0;34m=\u001B[0m \u001B[0mfunc\u001B[0m\u001B[0;34m(\u001B[0m\u001B[0;34m*\u001B[0m\u001B[0margs\u001B[0m\u001B[0;34m,\u001B[0m \u001B[0;34m**\u001B[0m\u001B[0mkwargs\u001B[0m\u001B[0;34m)\u001B[0m\u001B[0;34m\u001B[0m\u001B[0;34m\u001B[0m\u001B[0m\n",
       "\u001B[0m\u001B[1;32m     49\u001B[0m                 logger.log_success(\n",
       "\u001B[1;32m     50\u001B[0m                     \u001B[0mmodule_name\u001B[0m\u001B[0;34m,\u001B[0m \u001B[0mclass_name\u001B[0m\u001B[0;34m,\u001B[0m \u001B[0mfunction_name\u001B[0m\u001B[0;34m,\u001B[0m \u001B[0mtime\u001B[0m\u001B[0;34m.\u001B[0m\u001B[0mperf_counter\u001B[0m\u001B[0;34m(\u001B[0m\u001B[0;34m)\u001B[0m \u001B[0;34m-\u001B[0m \u001B[0mstart\u001B[0m\u001B[0;34m,\u001B[0m \u001B[0msignature\u001B[0m\u001B[0;34m\u001B[0m\u001B[0;34m\u001B[0m\u001B[0m\n",
       "\n",
       "\u001B[0;32m/databricks/spark/python/pyspark/sql/session.py\u001B[0m in \u001B[0;36mcreateDataFrame\u001B[0;34m(self, data, schema, samplingRatio, verifySchema)\u001B[0m\n",
       "\u001B[1;32m    970\u001B[0m                 \u001B[0mdata\u001B[0m\u001B[0;34m,\u001B[0m \u001B[0mschema\u001B[0m\u001B[0;34m,\u001B[0m \u001B[0msamplingRatio\u001B[0m\u001B[0;34m,\u001B[0m \u001B[0mverifySchema\u001B[0m\u001B[0;34m\u001B[0m\u001B[0;34m\u001B[0m\u001B[0m\n",
       "\u001B[1;32m    971\u001B[0m             )\n",
       "\u001B[0;32m--> 972\u001B[0;31m         return self._create_dataframe(\n",
       "\u001B[0m\u001B[1;32m    973\u001B[0m             \u001B[0mdata\u001B[0m\u001B[0;34m,\u001B[0m \u001B[0mschema\u001B[0m\u001B[0;34m,\u001B[0m \u001B[0msamplingRatio\u001B[0m\u001B[0;34m,\u001B[0m \u001B[0mverifySchema\u001B[0m  \u001B[0;31m# type: ignore[arg-type]\u001B[0m\u001B[0;34m\u001B[0m\u001B[0;34m\u001B[0m\u001B[0m\n",
       "\u001B[1;32m    974\u001B[0m         )\n",
       "\n",
       "\u001B[0;32m/databricks/spark/python/pyspark/sql/session.py\u001B[0m in \u001B[0;36m_create_dataframe\u001B[0;34m(self, data, schema, samplingRatio, verifySchema)\u001B[0m\n",
       "\u001B[1;32m   1020\u001B[0m                 \u001B[0mrdd\u001B[0m\u001B[0;34m,\u001B[0m \u001B[0mstruct\u001B[0m \u001B[0;34m=\u001B[0m \u001B[0mself\u001B[0m\u001B[0;34m.\u001B[0m\u001B[0m_createFromRDD\u001B[0m\u001B[0;34m(\u001B[0m\u001B[0mdata\u001B[0m\u001B[0;34m.\u001B[0m\u001B[0mmap\u001B[0m\u001B[0;34m(\u001B[0m\u001B[0mprepare\u001B[0m\u001B[0;34m)\u001B[0m\u001B[0;34m,\u001B[0m \u001B[0mschema\u001B[0m\u001B[0;34m,\u001B[0m \u001B[0msamplingRatio\u001B[0m\u001B[0;34m)\u001B[0m\u001B[0;34m\u001B[0m\u001B[0;34m\u001B[0m\u001B[0m\n",
       "\u001B[1;32m   1021\u001B[0m             \u001B[0;32melse\u001B[0m\u001B[0;34m:\u001B[0m\u001B[0;34m\u001B[0m\u001B[0;34m\u001B[0m\u001B[0m\n",
       "\u001B[0;32m-> 1022\u001B[0;31m                 \u001B[0mrdd\u001B[0m\u001B[0;34m,\u001B[0m \u001B[0mstruct\u001B[0m \u001B[0;34m=\u001B[0m \u001B[0mself\u001B[0m\u001B[0;34m.\u001B[0m\u001B[0m_createFromLocal\u001B[0m\u001B[0;34m(\u001B[0m\u001B[0mmap\u001B[0m\u001B[0;34m(\u001B[0m\u001B[0mprepare\u001B[0m\u001B[0;34m,\u001B[0m \u001B[0mdata\u001B[0m\u001B[0;34m)\u001B[0m\u001B[0;34m,\u001B[0m \u001B[0mschema\u001B[0m\u001B[0;34m)\u001B[0m\u001B[0;34m\u001B[0m\u001B[0;34m\u001B[0m\u001B[0m\n",
       "\u001B[0m\u001B[1;32m   1023\u001B[0m             \u001B[0mjrdd\u001B[0m \u001B[0;34m=\u001B[0m \u001B[0mself\u001B[0m\u001B[0;34m.\u001B[0m\u001B[0m_jvm\u001B[0m\u001B[0;34m.\u001B[0m\u001B[0mSerDeUtil\u001B[0m\u001B[0;34m.\u001B[0m\u001B[0mtoJavaArray\u001B[0m\u001B[0;34m(\u001B[0m\u001B[0mrdd\u001B[0m\u001B[0;34m.\u001B[0m\u001B[0m_to_java_object_rdd\u001B[0m\u001B[0;34m(\u001B[0m\u001B[0;34m)\u001B[0m\u001B[0;34m)\u001B[0m\u001B[0;34m\u001B[0m\u001B[0;34m\u001B[0m\u001B[0m\n",
       "\u001B[1;32m   1024\u001B[0m             \u001B[0mjdf\u001B[0m \u001B[0;34m=\u001B[0m \u001B[0mself\u001B[0m\u001B[0;34m.\u001B[0m\u001B[0m_jsparkSession\u001B[0m\u001B[0;34m.\u001B[0m\u001B[0mapplySchemaToPythonRDD\u001B[0m\u001B[0;34m(\u001B[0m\u001B[0mjrdd\u001B[0m\u001B[0;34m.\u001B[0m\u001B[0mrdd\u001B[0m\u001B[0;34m(\u001B[0m\u001B[0;34m)\u001B[0m\u001B[0;34m,\u001B[0m \u001B[0mstruct\u001B[0m\u001B[0;34m.\u001B[0m\u001B[0mjson\u001B[0m\u001B[0;34m(\u001B[0m\u001B[0;34m)\u001B[0m\u001B[0;34m)\u001B[0m\u001B[0;34m\u001B[0m\u001B[0;34m\u001B[0m\u001B[0m\n",
       "\n",
       "\u001B[0;32m/databricks/spark/python/pyspark/sql/session.py\u001B[0m in \u001B[0;36m_createFromLocal\u001B[0;34m(self, data, schema)\u001B[0m\n",
       "\u001B[1;32m    659\u001B[0m         \u001B[0mwrite\u001B[0m \u001B[0mtemp\u001B[0m \u001B[0mfiles\u001B[0m\u001B[0;34m.\u001B[0m\u001B[0;34m\u001B[0m\u001B[0;34m\u001B[0m\u001B[0m\n",
       "\u001B[1;32m    660\u001B[0m         \"\"\"\n",
       "\u001B[0;32m--> 661\u001B[0;31m         \u001B[0minternal_data\u001B[0m\u001B[0;34m,\u001B[0m \u001B[0mstruct\u001B[0m \u001B[0;34m=\u001B[0m \u001B[0mself\u001B[0m\u001B[0;34m.\u001B[0m\u001B[0m_wrap_data_schema\u001B[0m\u001B[0;34m(\u001B[0m\u001B[0mdata\u001B[0m\u001B[0;34m,\u001B[0m \u001B[0mschema\u001B[0m\u001B[0;34m)\u001B[0m\u001B[0;34m\u001B[0m\u001B[0;34m\u001B[0m\u001B[0m\n",
       "\u001B[0m\u001B[1;32m    662\u001B[0m         \u001B[0;32mreturn\u001B[0m \u001B[0mself\u001B[0m\u001B[0;34m.\u001B[0m\u001B[0m_sc\u001B[0m\u001B[0;34m.\u001B[0m\u001B[0mparallelize\u001B[0m\u001B[0;34m(\u001B[0m\u001B[0minternal_data\u001B[0m\u001B[0;34m)\u001B[0m\u001B[0;34m,\u001B[0m \u001B[0mstruct\u001B[0m\u001B[0;34m\u001B[0m\u001B[0;34m\u001B[0m\u001B[0m\n",
       "\u001B[1;32m    663\u001B[0m \u001B[0;34m\u001B[0m\u001B[0m\n",
       "\n",
       "\u001B[0;32m/databricks/spark/python/pyspark/sql/session.py\u001B[0m in \u001B[0;36m_wrap_data_schema\u001B[0;34m(self, data, schema)\u001B[0m\n",
       "\u001B[1;32m    632\u001B[0m \u001B[0;34m\u001B[0m\u001B[0m\n",
       "\u001B[1;32m    633\u001B[0m         \u001B[0;32mif\u001B[0m \u001B[0mschema\u001B[0m \u001B[0;32mis\u001B[0m \u001B[0;32mNone\u001B[0m \u001B[0;32mor\u001B[0m \u001B[0misinstance\u001B[0m\u001B[0;34m(\u001B[0m\u001B[0mschema\u001B[0m\u001B[0;34m,\u001B[0m \u001B[0;34m(\u001B[0m\u001B[0mlist\u001B[0m\u001B[0;34m,\u001B[0m \u001B[0mtuple\u001B[0m\u001B[0;34m)\u001B[0m\u001B[0;34m)\u001B[0m\u001B[0;34m:\u001B[0m\u001B[0;34m\u001B[0m\u001B[0;34m\u001B[0m\u001B[0m\n",
       "\u001B[0;32m--> 634\u001B[0;31m             \u001B[0mstruct\u001B[0m \u001B[0;34m=\u001B[0m \u001B[0mself\u001B[0m\u001B[0;34m.\u001B[0m\u001B[0m_inferSchemaFromList\u001B[0m\u001B[0;34m(\u001B[0m\u001B[0mdata\u001B[0m\u001B[0;34m,\u001B[0m \u001B[0mnames\u001B[0m\u001B[0;34m=\u001B[0m\u001B[0mschema\u001B[0m\u001B[0;34m)\u001B[0m\u001B[0;34m\u001B[0m\u001B[0;34m\u001B[0m\u001B[0m\n",
       "\u001B[0m\u001B[1;32m    635\u001B[0m             \u001B[0mconverter\u001B[0m \u001B[0;34m=\u001B[0m \u001B[0m_create_converter\u001B[0m\u001B[0;34m(\u001B[0m\u001B[0mstruct\u001B[0m\u001B[0;34m)\u001B[0m\u001B[0;34m\u001B[0m\u001B[0;34m\u001B[0m\u001B[0m\n",
       "\u001B[1;32m    636\u001B[0m             \u001B[0mtupled_data\u001B[0m\u001B[0;34m:\u001B[0m \u001B[0mIterable\u001B[0m\u001B[0;34m[\u001B[0m\u001B[0mTuple\u001B[0m\u001B[0;34m]\u001B[0m \u001B[0;34m=\u001B[0m \u001B[0mmap\u001B[0m\u001B[0;34m(\u001B[0m\u001B[0mconverter\u001B[0m\u001B[0;34m,\u001B[0m \u001B[0mdata\u001B[0m\u001B[0;34m)\u001B[0m\u001B[0;34m\u001B[0m\u001B[0;34m\u001B[0m\u001B[0m\n",
       "\n",
       "\u001B[0;32m/databricks/spark/python/pyspark/sql/session.py\u001B[0m in \u001B[0;36m_inferSchemaFromList\u001B[0;34m(self, data, names)\u001B[0m\n",
       "\u001B[1;32m    519\u001B[0m         \"\"\"\n",
       "\u001B[1;32m    520\u001B[0m         \u001B[0;32mif\u001B[0m \u001B[0;32mnot\u001B[0m \u001B[0mdata\u001B[0m\u001B[0;34m:\u001B[0m\u001B[0;34m\u001B[0m\u001B[0;34m\u001B[0m\u001B[0m\n",
       "\u001B[0;32m--> 521\u001B[0;31m             \u001B[0;32mraise\u001B[0m \u001B[0mValueError\u001B[0m\u001B[0;34m(\u001B[0m\u001B[0;34m\"can not infer schema from empty dataset\"\u001B[0m\u001B[0;34m)\u001B[0m\u001B[0;34m\u001B[0m\u001B[0;34m\u001B[0m\u001B[0m\n",
       "\u001B[0m\u001B[1;32m    522\u001B[0m         \u001B[0minfer_dict_as_struct\u001B[0m \u001B[0;34m=\u001B[0m \u001B[0mself\u001B[0m\u001B[0;34m.\u001B[0m\u001B[0m_jconf\u001B[0m\u001B[0;34m.\u001B[0m\u001B[0minferDictAsStruct\u001B[0m\u001B[0;34m(\u001B[0m\u001B[0;34m)\u001B[0m\u001B[0;34m\u001B[0m\u001B[0;34m\u001B[0m\u001B[0m\n",
       "\u001B[1;32m    523\u001B[0m         \u001B[0mprefer_timestamp_ntz\u001B[0m \u001B[0;34m=\u001B[0m \u001B[0mis_timestamp_ntz_preferred\u001B[0m\u001B[0;34m(\u001B[0m\u001B[0;34m)\u001B[0m\u001B[0;34m\u001B[0m\u001B[0;34m\u001B[0m\u001B[0m\n",
       "\n",
       "\u001B[0;31mValueError\u001B[0m: can not infer schema from empty dataset"
      ]
     },
     "metadata": {
      "application/vnd.databricks.v1+output": {
       "arguments": {},
       "data": "\u001B[0;31m---------------------------------------------------------------------------\u001B[0m\n\u001B[0;31mValueError\u001B[0m                                Traceback (most recent call last)\n\u001B[0;32m<command-1546152148558868>\u001B[0m in \u001B[0;36m<cell line: 1>\u001B[0;34m()\u001B[0m\n\u001B[0;32m----> 1\u001B[0;31m \u001B[0mdisplay\u001B[0m\u001B[0;34m(\u001B[0m\u001B[0mdbutils\u001B[0m\u001B[0;34m.\u001B[0m\u001B[0mfs\u001B[0m\u001B[0;34m.\u001B[0m\u001B[0mls\u001B[0m\u001B[0;34m(\u001B[0m\u001B[0;34m'dbfs:/FileStore/udemy_mount/'\u001B[0m\u001B[0;34m)\u001B[0m\u001B[0;34m)\u001B[0m\u001B[0;34m\u001B[0m\u001B[0;34m\u001B[0m\u001B[0m\n\u001B[0m\n\u001B[0;32m/databricks/python_shell/dbruntime/display.py\u001B[0m in \u001B[0;36mdisplay\u001B[0;34m(self, input, *args, **kwargs)\u001B[0m\n\u001B[1;32m     84\u001B[0m \u001B[0;34m\u001B[0m\u001B[0m\n\u001B[1;32m     85\u001B[0m         \u001B[0;32melif\u001B[0m \u001B[0misinstance\u001B[0m\u001B[0;34m(\u001B[0m\u001B[0minput\u001B[0m\u001B[0;34m,\u001B[0m \u001B[0mlist\u001B[0m\u001B[0;34m)\u001B[0m\u001B[0;34m:\u001B[0m\u001B[0;34m\u001B[0m\u001B[0;34m\u001B[0m\u001B[0m\n\u001B[0;32m---> 86\u001B[0;31m             \u001B[0mself\u001B[0m\u001B[0;34m.\u001B[0m\u001B[0mdisplay\u001B[0m\u001B[0;34m(\u001B[0m\u001B[0mself\u001B[0m\u001B[0;34m.\u001B[0m\u001B[0msparkSession\u001B[0m\u001B[0;34m.\u001B[0m\u001B[0mcreateDataFrame\u001B[0m\u001B[0;34m(\u001B[0m\u001B[0minput\u001B[0m\u001B[0;34m)\u001B[0m\u001B[0;34m)\u001B[0m\u001B[0;34m\u001B[0m\u001B[0;34m\u001B[0m\u001B[0m\n\u001B[0m\u001B[1;32m     87\u001B[0m         \u001B[0;32melif\u001B[0m \u001B[0mtype\u001B[0m\u001B[0;34m(\u001B[0m\u001B[0minput\u001B[0m\u001B[0;34m)\u001B[0m\u001B[0;34m.\u001B[0m\u001B[0m__module__\u001B[0m \u001B[0;34m==\u001B[0m \u001B[0;34m'pandas.core.frame'\u001B[0m \u001B[0;32mand\u001B[0m \u001B[0mtype\u001B[0m\u001B[0;34m(\u001B[0m\u001B[0minput\u001B[0m\u001B[0;34m)\u001B[0m\u001B[0;34m.\u001B[0m\u001B[0m__name__\u001B[0m \u001B[0;34m==\u001B[0m \u001B[0;34m'DataFrame'\u001B[0m\u001B[0;34m:\u001B[0m\u001B[0;34m\u001B[0m\u001B[0;34m\u001B[0m\u001B[0m\n\u001B[1;32m     88\u001B[0m             \u001B[0mself\u001B[0m\u001B[0;34m.\u001B[0m\u001B[0mdisplay\u001B[0m\u001B[0;34m(\u001B[0m\u001B[0mself\u001B[0m\u001B[0;34m.\u001B[0m\u001B[0msparkSession\u001B[0m\u001B[0;34m.\u001B[0m\u001B[0mcreateDataFrame\u001B[0m\u001B[0;34m(\u001B[0m\u001B[0minput\u001B[0m\u001B[0;34m)\u001B[0m\u001B[0;34m)\u001B[0m\u001B[0;34m\u001B[0m\u001B[0;34m\u001B[0m\u001B[0m\n\n\u001B[0;32m/databricks/spark/python/pyspark/instrumentation_utils.py\u001B[0m in \u001B[0;36mwrapper\u001B[0;34m(*args, **kwargs)\u001B[0m\n\u001B[1;32m     46\u001B[0m             \u001B[0mstart\u001B[0m \u001B[0;34m=\u001B[0m \u001B[0mtime\u001B[0m\u001B[0;34m.\u001B[0m\u001B[0mperf_counter\u001B[0m\u001B[0;34m(\u001B[0m\u001B[0;34m)\u001B[0m\u001B[0;34m\u001B[0m\u001B[0;34m\u001B[0m\u001B[0m\n\u001B[1;32m     47\u001B[0m             \u001B[0;32mtry\u001B[0m\u001B[0;34m:\u001B[0m\u001B[0;34m\u001B[0m\u001B[0;34m\u001B[0m\u001B[0m\n\u001B[0;32m---> 48\u001B[0;31m                 \u001B[0mres\u001B[0m \u001B[0;34m=\u001B[0m \u001B[0mfunc\u001B[0m\u001B[0;34m(\u001B[0m\u001B[0;34m*\u001B[0m\u001B[0margs\u001B[0m\u001B[0;34m,\u001B[0m \u001B[0;34m**\u001B[0m\u001B[0mkwargs\u001B[0m\u001B[0;34m)\u001B[0m\u001B[0;34m\u001B[0m\u001B[0;34m\u001B[0m\u001B[0m\n\u001B[0m\u001B[1;32m     49\u001B[0m                 logger.log_success(\n\u001B[1;32m     50\u001B[0m                     \u001B[0mmodule_name\u001B[0m\u001B[0;34m,\u001B[0m \u001B[0mclass_name\u001B[0m\u001B[0;34m,\u001B[0m \u001B[0mfunction_name\u001B[0m\u001B[0;34m,\u001B[0m \u001B[0mtime\u001B[0m\u001B[0;34m.\u001B[0m\u001B[0mperf_counter\u001B[0m\u001B[0;34m(\u001B[0m\u001B[0;34m)\u001B[0m \u001B[0;34m-\u001B[0m \u001B[0mstart\u001B[0m\u001B[0;34m,\u001B[0m \u001B[0msignature\u001B[0m\u001B[0;34m\u001B[0m\u001B[0;34m\u001B[0m\u001B[0m\n\n\u001B[0;32m/databricks/spark/python/pyspark/sql/session.py\u001B[0m in \u001B[0;36mcreateDataFrame\u001B[0;34m(self, data, schema, samplingRatio, verifySchema)\u001B[0m\n\u001B[1;32m    970\u001B[0m                 \u001B[0mdata\u001B[0m\u001B[0;34m,\u001B[0m \u001B[0mschema\u001B[0m\u001B[0;34m,\u001B[0m \u001B[0msamplingRatio\u001B[0m\u001B[0;34m,\u001B[0m \u001B[0mverifySchema\u001B[0m\u001B[0;34m\u001B[0m\u001B[0;34m\u001B[0m\u001B[0m\n\u001B[1;32m    971\u001B[0m             )\n\u001B[0;32m--> 972\u001B[0;31m         return self._create_dataframe(\n\u001B[0m\u001B[1;32m    973\u001B[0m             \u001B[0mdata\u001B[0m\u001B[0;34m,\u001B[0m \u001B[0mschema\u001B[0m\u001B[0;34m,\u001B[0m \u001B[0msamplingRatio\u001B[0m\u001B[0;34m,\u001B[0m \u001B[0mverifySchema\u001B[0m  \u001B[0;31m# type: ignore[arg-type]\u001B[0m\u001B[0;34m\u001B[0m\u001B[0;34m\u001B[0m\u001B[0m\n\u001B[1;32m    974\u001B[0m         )\n\n\u001B[0;32m/databricks/spark/python/pyspark/sql/session.py\u001B[0m in \u001B[0;36m_create_dataframe\u001B[0;34m(self, data, schema, samplingRatio, verifySchema)\u001B[0m\n\u001B[1;32m   1020\u001B[0m                 \u001B[0mrdd\u001B[0m\u001B[0;34m,\u001B[0m \u001B[0mstruct\u001B[0m \u001B[0;34m=\u001B[0m \u001B[0mself\u001B[0m\u001B[0;34m.\u001B[0m\u001B[0m_createFromRDD\u001B[0m\u001B[0;34m(\u001B[0m\u001B[0mdata\u001B[0m\u001B[0;34m.\u001B[0m\u001B[0mmap\u001B[0m\u001B[0;34m(\u001B[0m\u001B[0mprepare\u001B[0m\u001B[0;34m)\u001B[0m\u001B[0;34m,\u001B[0m \u001B[0mschema\u001B[0m\u001B[0;34m,\u001B[0m \u001B[0msamplingRatio\u001B[0m\u001B[0;34m)\u001B[0m\u001B[0;34m\u001B[0m\u001B[0;34m\u001B[0m\u001B[0m\n\u001B[1;32m   1021\u001B[0m             \u001B[0;32melse\u001B[0m\u001B[0;34m:\u001B[0m\u001B[0;34m\u001B[0m\u001B[0;34m\u001B[0m\u001B[0m\n\u001B[0;32m-> 1022\u001B[0;31m                 \u001B[0mrdd\u001B[0m\u001B[0;34m,\u001B[0m \u001B[0mstruct\u001B[0m \u001B[0;34m=\u001B[0m \u001B[0mself\u001B[0m\u001B[0;34m.\u001B[0m\u001B[0m_createFromLocal\u001B[0m\u001B[0;34m(\u001B[0m\u001B[0mmap\u001B[0m\u001B[0;34m(\u001B[0m\u001B[0mprepare\u001B[0m\u001B[0;34m,\u001B[0m \u001B[0mdata\u001B[0m\u001B[0;34m)\u001B[0m\u001B[0;34m,\u001B[0m \u001B[0mschema\u001B[0m\u001B[0;34m)\u001B[0m\u001B[0;34m\u001B[0m\u001B[0;34m\u001B[0m\u001B[0m\n\u001B[0m\u001B[1;32m   1023\u001B[0m             \u001B[0mjrdd\u001B[0m \u001B[0;34m=\u001B[0m \u001B[0mself\u001B[0m\u001B[0;34m.\u001B[0m\u001B[0m_jvm\u001B[0m\u001B[0;34m.\u001B[0m\u001B[0mSerDeUtil\u001B[0m\u001B[0;34m.\u001B[0m\u001B[0mtoJavaArray\u001B[0m\u001B[0;34m(\u001B[0m\u001B[0mrdd\u001B[0m\u001B[0;34m.\u001B[0m\u001B[0m_to_java_object_rdd\u001B[0m\u001B[0;34m(\u001B[0m\u001B[0;34m)\u001B[0m\u001B[0;34m)\u001B[0m\u001B[0;34m\u001B[0m\u001B[0;34m\u001B[0m\u001B[0m\n\u001B[1;32m   1024\u001B[0m             \u001B[0mjdf\u001B[0m \u001B[0;34m=\u001B[0m \u001B[0mself\u001B[0m\u001B[0;34m.\u001B[0m\u001B[0m_jsparkSession\u001B[0m\u001B[0;34m.\u001B[0m\u001B[0mapplySchemaToPythonRDD\u001B[0m\u001B[0;34m(\u001B[0m\u001B[0mjrdd\u001B[0m\u001B[0;34m.\u001B[0m\u001B[0mrdd\u001B[0m\u001B[0;34m(\u001B[0m\u001B[0;34m)\u001B[0m\u001B[0;34m,\u001B[0m \u001B[0mstruct\u001B[0m\u001B[0;34m.\u001B[0m\u001B[0mjson\u001B[0m\u001B[0;34m(\u001B[0m\u001B[0;34m)\u001B[0m\u001B[0;34m)\u001B[0m\u001B[0;34m\u001B[0m\u001B[0;34m\u001B[0m\u001B[0m\n\n\u001B[0;32m/databricks/spark/python/pyspark/sql/session.py\u001B[0m in \u001B[0;36m_createFromLocal\u001B[0;34m(self, data, schema)\u001B[0m\n\u001B[1;32m    659\u001B[0m         \u001B[0mwrite\u001B[0m \u001B[0mtemp\u001B[0m \u001B[0mfiles\u001B[0m\u001B[0;34m.\u001B[0m\u001B[0;34m\u001B[0m\u001B[0;34m\u001B[0m\u001B[0m\n\u001B[1;32m    660\u001B[0m         \"\"\"\n\u001B[0;32m--> 661\u001B[0;31m         \u001B[0minternal_data\u001B[0m\u001B[0;34m,\u001B[0m \u001B[0mstruct\u001B[0m \u001B[0;34m=\u001B[0m \u001B[0mself\u001B[0m\u001B[0;34m.\u001B[0m\u001B[0m_wrap_data_schema\u001B[0m\u001B[0;34m(\u001B[0m\u001B[0mdata\u001B[0m\u001B[0;34m,\u001B[0m \u001B[0mschema\u001B[0m\u001B[0;34m)\u001B[0m\u001B[0;34m\u001B[0m\u001B[0;34m\u001B[0m\u001B[0m\n\u001B[0m\u001B[1;32m    662\u001B[0m         \u001B[0;32mreturn\u001B[0m \u001B[0mself\u001B[0m\u001B[0;34m.\u001B[0m\u001B[0m_sc\u001B[0m\u001B[0;34m.\u001B[0m\u001B[0mparallelize\u001B[0m\u001B[0;34m(\u001B[0m\u001B[0minternal_data\u001B[0m\u001B[0;34m)\u001B[0m\u001B[0;34m,\u001B[0m \u001B[0mstruct\u001B[0m\u001B[0;34m\u001B[0m\u001B[0;34m\u001B[0m\u001B[0m\n\u001B[1;32m    663\u001B[0m \u001B[0;34m\u001B[0m\u001B[0m\n\n\u001B[0;32m/databricks/spark/python/pyspark/sql/session.py\u001B[0m in \u001B[0;36m_wrap_data_schema\u001B[0;34m(self, data, schema)\u001B[0m\n\u001B[1;32m    632\u001B[0m \u001B[0;34m\u001B[0m\u001B[0m\n\u001B[1;32m    633\u001B[0m         \u001B[0;32mif\u001B[0m \u001B[0mschema\u001B[0m \u001B[0;32mis\u001B[0m \u001B[0;32mNone\u001B[0m \u001B[0;32mor\u001B[0m \u001B[0misinstance\u001B[0m\u001B[0;34m(\u001B[0m\u001B[0mschema\u001B[0m\u001B[0;34m,\u001B[0m \u001B[0;34m(\u001B[0m\u001B[0mlist\u001B[0m\u001B[0;34m,\u001B[0m \u001B[0mtuple\u001B[0m\u001B[0;34m)\u001B[0m\u001B[0;34m)\u001B[0m\u001B[0;34m:\u001B[0m\u001B[0;34m\u001B[0m\u001B[0;34m\u001B[0m\u001B[0m\n\u001B[0;32m--> 634\u001B[0;31m             \u001B[0mstruct\u001B[0m \u001B[0;34m=\u001B[0m \u001B[0mself\u001B[0m\u001B[0;34m.\u001B[0m\u001B[0m_inferSchemaFromList\u001B[0m\u001B[0;34m(\u001B[0m\u001B[0mdata\u001B[0m\u001B[0;34m,\u001B[0m \u001B[0mnames\u001B[0m\u001B[0;34m=\u001B[0m\u001B[0mschema\u001B[0m\u001B[0;34m)\u001B[0m\u001B[0;34m\u001B[0m\u001B[0;34m\u001B[0m\u001B[0m\n\u001B[0m\u001B[1;32m    635\u001B[0m             \u001B[0mconverter\u001B[0m \u001B[0;34m=\u001B[0m \u001B[0m_create_converter\u001B[0m\u001B[0;34m(\u001B[0m\u001B[0mstruct\u001B[0m\u001B[0;34m)\u001B[0m\u001B[0;34m\u001B[0m\u001B[0;34m\u001B[0m\u001B[0m\n\u001B[1;32m    636\u001B[0m             \u001B[0mtupled_data\u001B[0m\u001B[0;34m:\u001B[0m \u001B[0mIterable\u001B[0m\u001B[0;34m[\u001B[0m\u001B[0mTuple\u001B[0m\u001B[0;34m]\u001B[0m \u001B[0;34m=\u001B[0m \u001B[0mmap\u001B[0m\u001B[0;34m(\u001B[0m\u001B[0mconverter\u001B[0m\u001B[0;34m,\u001B[0m \u001B[0mdata\u001B[0m\u001B[0;34m)\u001B[0m\u001B[0;34m\u001B[0m\u001B[0;34m\u001B[0m\u001B[0m\n\n\u001B[0;32m/databricks/spark/python/pyspark/sql/session.py\u001B[0m in \u001B[0;36m_inferSchemaFromList\u001B[0;34m(self, data, names)\u001B[0m\n\u001B[1;32m    519\u001B[0m         \"\"\"\n\u001B[1;32m    520\u001B[0m         \u001B[0;32mif\u001B[0m \u001B[0;32mnot\u001B[0m \u001B[0mdata\u001B[0m\u001B[0;34m:\u001B[0m\u001B[0;34m\u001B[0m\u001B[0;34m\u001B[0m\u001B[0m\n\u001B[0;32m--> 521\u001B[0;31m             \u001B[0;32mraise\u001B[0m \u001B[0mValueError\u001B[0m\u001B[0;34m(\u001B[0m\u001B[0;34m\"can not infer schema from empty dataset\"\u001B[0m\u001B[0;34m)\u001B[0m\u001B[0;34m\u001B[0m\u001B[0;34m\u001B[0m\u001B[0m\n\u001B[0m\u001B[1;32m    522\u001B[0m         \u001B[0minfer_dict_as_struct\u001B[0m \u001B[0;34m=\u001B[0m \u001B[0mself\u001B[0m\u001B[0;34m.\u001B[0m\u001B[0m_jconf\u001B[0m\u001B[0;34m.\u001B[0m\u001B[0minferDictAsStruct\u001B[0m\u001B[0;34m(\u001B[0m\u001B[0;34m)\u001B[0m\u001B[0;34m\u001B[0m\u001B[0;34m\u001B[0m\u001B[0m\n\u001B[1;32m    523\u001B[0m         \u001B[0mprefer_timestamp_ntz\u001B[0m \u001B[0;34m=\u001B[0m \u001B[0mis_timestamp_ntz_preferred\u001B[0m\u001B[0;34m(\u001B[0m\u001B[0;34m)\u001B[0m\u001B[0;34m\u001B[0m\u001B[0;34m\u001B[0m\u001B[0m\n\n\u001B[0;31mValueError\u001B[0m: can not infer schema from empty dataset",
       "errorSummary": "<span class='ansi-red-fg'>ValueError</span>: can not infer schema from empty dataset",
       "errorTraceType": "ansi",
       "metadata": {},
       "type": "ipynbError"
      }
     },
     "output_type": "display_data"
    }
   ],
   "source": [
    "display(dbutils.fs.ls('dbfs:/FileStore/udemy_mount/'))"
   ]
  },
  {
   "cell_type": "code",
   "execution_count": 0,
   "metadata": {
    "application/vnd.databricks.v1+cell": {
     "cellMetadata": {},
     "inputWidgets": {},
     "nuid": "2b3512ae-10a1-4a5f-801d-c02964b9cfc8",
     "showTitle": false,
     "title": ""
    }
   },
   "outputs": [
    {
     "output_type": "display_data",
     "data": {
      "text/plain": [
       "\u001B[0;31m---------------------------------------------------------------------------\u001B[0m\n",
       "\u001B[0;31mAnalysisException\u001B[0m                         Traceback (most recent call last)\n",
       "\u001B[0;32m<command-1546152148558869>\u001B[0m in \u001B[0;36m<cell line: 3>\u001B[0;34m()\u001B[0m\n",
       "\u001B[1;32m      1\u001B[0m \u001B[0;32mfrom\u001B[0m \u001B[0mpyspark\u001B[0m\u001B[0;34m.\u001B[0m\u001B[0msql\u001B[0m\u001B[0;34m.\u001B[0m\u001B[0mfunctions\u001B[0m \u001B[0;32mimport\u001B[0m \u001B[0mlit\u001B[0m\u001B[0;34m\u001B[0m\u001B[0;34m\u001B[0m\u001B[0m\n",
       "\u001B[1;32m      2\u001B[0m \u001B[0;31m# df_tech_raw=spark.read.option('header',True).csv(\"dbfs:/FileStore/udemy_mnt/udemy_tech.csv\")\u001B[0m\u001B[0;34m\u001B[0m\u001B[0;34m\u001B[0m\u001B[0;34m\u001B[0m\u001B[0m\n",
       "\u001B[0;32m----> 3\u001B[0;31m \u001B[0mdf_business_raw\u001B[0m\u001B[0;34m=\u001B[0m\u001B[0mspark\u001B[0m\u001B[0;34m.\u001B[0m\u001B[0mread\u001B[0m\u001B[0;34m.\u001B[0m\u001B[0moption\u001B[0m\u001B[0;34m(\u001B[0m\u001B[0;34m'header'\u001B[0m\u001B[0;34m,\u001B[0m\u001B[0;32mTrue\u001B[0m\u001B[0;34m)\u001B[0m\u001B[0;34m.\u001B[0m\u001B[0mcsv\u001B[0m\u001B[0;34m(\u001B[0m\u001B[0;34m\"dbfs:/FileStore/udemy_mount/udemy_business.csv\"\u001B[0m\u001B[0;34m)\u001B[0m\u001B[0;34m\u001B[0m\u001B[0;34m\u001B[0m\u001B[0m\n",
       "\u001B[0m\u001B[1;32m      4\u001B[0m \u001B[0;34m\u001B[0m\u001B[0m\n",
       "\u001B[1;32m      5\u001B[0m \u001B[0;34m\u001B[0m\u001B[0m\n",
       "\n",
       "\u001B[0;32m/databricks/spark/python/pyspark/instrumentation_utils.py\u001B[0m in \u001B[0;36mwrapper\u001B[0;34m(*args, **kwargs)\u001B[0m\n",
       "\u001B[1;32m     46\u001B[0m             \u001B[0mstart\u001B[0m \u001B[0;34m=\u001B[0m \u001B[0mtime\u001B[0m\u001B[0;34m.\u001B[0m\u001B[0mperf_counter\u001B[0m\u001B[0;34m(\u001B[0m\u001B[0;34m)\u001B[0m\u001B[0;34m\u001B[0m\u001B[0;34m\u001B[0m\u001B[0m\n",
       "\u001B[1;32m     47\u001B[0m             \u001B[0;32mtry\u001B[0m\u001B[0;34m:\u001B[0m\u001B[0;34m\u001B[0m\u001B[0;34m\u001B[0m\u001B[0m\n",
       "\u001B[0;32m---> 48\u001B[0;31m                 \u001B[0mres\u001B[0m \u001B[0;34m=\u001B[0m \u001B[0mfunc\u001B[0m\u001B[0;34m(\u001B[0m\u001B[0;34m*\u001B[0m\u001B[0margs\u001B[0m\u001B[0;34m,\u001B[0m \u001B[0;34m**\u001B[0m\u001B[0mkwargs\u001B[0m\u001B[0;34m)\u001B[0m\u001B[0;34m\u001B[0m\u001B[0;34m\u001B[0m\u001B[0m\n",
       "\u001B[0m\u001B[1;32m     49\u001B[0m                 logger.log_success(\n",
       "\u001B[1;32m     50\u001B[0m                     \u001B[0mmodule_name\u001B[0m\u001B[0;34m,\u001B[0m \u001B[0mclass_name\u001B[0m\u001B[0;34m,\u001B[0m \u001B[0mfunction_name\u001B[0m\u001B[0;34m,\u001B[0m \u001B[0mtime\u001B[0m\u001B[0;34m.\u001B[0m\u001B[0mperf_counter\u001B[0m\u001B[0;34m(\u001B[0m\u001B[0;34m)\u001B[0m \u001B[0;34m-\u001B[0m \u001B[0mstart\u001B[0m\u001B[0;34m,\u001B[0m \u001B[0msignature\u001B[0m\u001B[0;34m\u001B[0m\u001B[0;34m\u001B[0m\u001B[0m\n",
       "\n",
       "\u001B[0;32m/databricks/spark/python/pyspark/sql/readwriter.py\u001B[0m in \u001B[0;36mcsv\u001B[0;34m(self, path, schema, sep, encoding, quote, escape, comment, header, inferSchema, ignoreLeadingWhiteSpace, ignoreTrailingWhiteSpace, nullValue, nanValue, positiveInf, negativeInf, dateFormat, timestampFormat, maxColumns, maxCharsPerColumn, maxMalformedLogPerPartition, mode, columnNameOfCorruptRecord, multiLine, charToEscapeQuoteEscaping, samplingRatio, enforceSchema, emptyValue, locale, lineSep, pathGlobFilter, recursiveFileLookup, modifiedBefore, modifiedAfter, unescapedQuoteHandling)\u001B[0m\n",
       "\u001B[1;32m    533\u001B[0m         \u001B[0;32mif\u001B[0m \u001B[0mtype\u001B[0m\u001B[0;34m(\u001B[0m\u001B[0mpath\u001B[0m\u001B[0;34m)\u001B[0m \u001B[0;34m==\u001B[0m \u001B[0mlist\u001B[0m\u001B[0;34m:\u001B[0m\u001B[0;34m\u001B[0m\u001B[0;34m\u001B[0m\u001B[0m\n",
       "\u001B[1;32m    534\u001B[0m             \u001B[0;32massert\u001B[0m \u001B[0mself\u001B[0m\u001B[0;34m.\u001B[0m\u001B[0m_spark\u001B[0m\u001B[0;34m.\u001B[0m\u001B[0m_sc\u001B[0m\u001B[0;34m.\u001B[0m\u001B[0m_jvm\u001B[0m \u001B[0;32mis\u001B[0m \u001B[0;32mnot\u001B[0m \u001B[0;32mNone\u001B[0m\u001B[0;34m\u001B[0m\u001B[0;34m\u001B[0m\u001B[0m\n",
       "\u001B[0;32m--> 535\u001B[0;31m             \u001B[0;32mreturn\u001B[0m \u001B[0mself\u001B[0m\u001B[0;34m.\u001B[0m\u001B[0m_df\u001B[0m\u001B[0;34m(\u001B[0m\u001B[0mself\u001B[0m\u001B[0;34m.\u001B[0m\u001B[0m_jreader\u001B[0m\u001B[0;34m.\u001B[0m\u001B[0mcsv\u001B[0m\u001B[0;34m(\u001B[0m\u001B[0mself\u001B[0m\u001B[0;34m.\u001B[0m\u001B[0m_spark\u001B[0m\u001B[0;34m.\u001B[0m\u001B[0m_sc\u001B[0m\u001B[0;34m.\u001B[0m\u001B[0m_jvm\u001B[0m\u001B[0;34m.\u001B[0m\u001B[0mPythonUtils\u001B[0m\u001B[0;34m.\u001B[0m\u001B[0mtoSeq\u001B[0m\u001B[0;34m(\u001B[0m\u001B[0mpath\u001B[0m\u001B[0;34m)\u001B[0m\u001B[0;34m)\u001B[0m\u001B[0;34m)\u001B[0m\u001B[0;34m\u001B[0m\u001B[0;34m\u001B[0m\u001B[0m\n",
       "\u001B[0m\u001B[1;32m    536\u001B[0m         \u001B[0;32melif\u001B[0m \u001B[0misinstance\u001B[0m\u001B[0;34m(\u001B[0m\u001B[0mpath\u001B[0m\u001B[0;34m,\u001B[0m \u001B[0mRDD\u001B[0m\u001B[0;34m)\u001B[0m\u001B[0;34m:\u001B[0m\u001B[0;34m\u001B[0m\u001B[0;34m\u001B[0m\u001B[0m\n",
       "\u001B[1;32m    537\u001B[0m \u001B[0;34m\u001B[0m\u001B[0m\n",
       "\n",
       "\u001B[0;32m/databricks/spark/python/lib/py4j-0.10.9.5-src.zip/py4j/java_gateway.py\u001B[0m in \u001B[0;36m__call__\u001B[0;34m(self, *args)\u001B[0m\n",
       "\u001B[1;32m   1319\u001B[0m \u001B[0;34m\u001B[0m\u001B[0m\n",
       "\u001B[1;32m   1320\u001B[0m         \u001B[0manswer\u001B[0m \u001B[0;34m=\u001B[0m \u001B[0mself\u001B[0m\u001B[0;34m.\u001B[0m\u001B[0mgateway_client\u001B[0m\u001B[0;34m.\u001B[0m\u001B[0msend_command\u001B[0m\u001B[0;34m(\u001B[0m\u001B[0mcommand\u001B[0m\u001B[0;34m)\u001B[0m\u001B[0;34m\u001B[0m\u001B[0;34m\u001B[0m\u001B[0m\n",
       "\u001B[0;32m-> 1321\u001B[0;31m         return_value = get_return_value(\n",
       "\u001B[0m\u001B[1;32m   1322\u001B[0m             answer, self.gateway_client, self.target_id, self.name)\n",
       "\u001B[1;32m   1323\u001B[0m \u001B[0;34m\u001B[0m\u001B[0m\n",
       "\n",
       "\u001B[0;32m/databricks/spark/python/pyspark/sql/utils.py\u001B[0m in \u001B[0;36mdeco\u001B[0;34m(*a, **kw)\u001B[0m\n",
       "\u001B[1;32m    200\u001B[0m                 \u001B[0;31m# Hide where the exception came from that shows a non-Pythonic\u001B[0m\u001B[0;34m\u001B[0m\u001B[0;34m\u001B[0m\u001B[0;34m\u001B[0m\u001B[0m\n",
       "\u001B[1;32m    201\u001B[0m                 \u001B[0;31m# JVM exception message.\u001B[0m\u001B[0;34m\u001B[0m\u001B[0;34m\u001B[0m\u001B[0;34m\u001B[0m\u001B[0m\n",
       "\u001B[0;32m--> 202\u001B[0;31m                 \u001B[0;32mraise\u001B[0m \u001B[0mconverted\u001B[0m \u001B[0;32mfrom\u001B[0m \u001B[0;32mNone\u001B[0m\u001B[0;34m\u001B[0m\u001B[0;34m\u001B[0m\u001B[0m\n",
       "\u001B[0m\u001B[1;32m    203\u001B[0m             \u001B[0;32melse\u001B[0m\u001B[0;34m:\u001B[0m\u001B[0;34m\u001B[0m\u001B[0;34m\u001B[0m\u001B[0m\n",
       "\u001B[1;32m    204\u001B[0m                 \u001B[0;32mraise\u001B[0m\u001B[0;34m\u001B[0m\u001B[0;34m\u001B[0m\u001B[0m\n",
       "\n",
       "\u001B[0;31mAnalysisException\u001B[0m: Path does not exist: dbfs:/FileStore/udemy_mount/udemy_business.csv"
      ]
     },
     "metadata": {
      "application/vnd.databricks.v1+output": {
       "arguments": {},
       "data": "\u001B[0;31m---------------------------------------------------------------------------\u001B[0m\n\u001B[0;31mAnalysisException\u001B[0m                         Traceback (most recent call last)\n\u001B[0;32m<command-1546152148558869>\u001B[0m in \u001B[0;36m<cell line: 3>\u001B[0;34m()\u001B[0m\n\u001B[1;32m      1\u001B[0m \u001B[0;32mfrom\u001B[0m \u001B[0mpyspark\u001B[0m\u001B[0;34m.\u001B[0m\u001B[0msql\u001B[0m\u001B[0;34m.\u001B[0m\u001B[0mfunctions\u001B[0m \u001B[0;32mimport\u001B[0m \u001B[0mlit\u001B[0m\u001B[0;34m\u001B[0m\u001B[0;34m\u001B[0m\u001B[0m\n\u001B[1;32m      2\u001B[0m \u001B[0;31m# df_tech_raw=spark.read.option('header',True).csv(\"dbfs:/FileStore/udemy_mnt/udemy_tech.csv\")\u001B[0m\u001B[0;34m\u001B[0m\u001B[0;34m\u001B[0m\u001B[0;34m\u001B[0m\u001B[0m\n\u001B[0;32m----> 3\u001B[0;31m \u001B[0mdf_business_raw\u001B[0m\u001B[0;34m=\u001B[0m\u001B[0mspark\u001B[0m\u001B[0;34m.\u001B[0m\u001B[0mread\u001B[0m\u001B[0;34m.\u001B[0m\u001B[0moption\u001B[0m\u001B[0;34m(\u001B[0m\u001B[0;34m'header'\u001B[0m\u001B[0;34m,\u001B[0m\u001B[0;32mTrue\u001B[0m\u001B[0;34m)\u001B[0m\u001B[0;34m.\u001B[0m\u001B[0mcsv\u001B[0m\u001B[0;34m(\u001B[0m\u001B[0;34m\"dbfs:/FileStore/udemy_mount/udemy_business.csv\"\u001B[0m\u001B[0;34m)\u001B[0m\u001B[0;34m\u001B[0m\u001B[0;34m\u001B[0m\u001B[0m\n\u001B[0m\u001B[1;32m      4\u001B[0m \u001B[0;34m\u001B[0m\u001B[0m\n\u001B[1;32m      5\u001B[0m \u001B[0;34m\u001B[0m\u001B[0m\n\n\u001B[0;32m/databricks/spark/python/pyspark/instrumentation_utils.py\u001B[0m in \u001B[0;36mwrapper\u001B[0;34m(*args, **kwargs)\u001B[0m\n\u001B[1;32m     46\u001B[0m             \u001B[0mstart\u001B[0m \u001B[0;34m=\u001B[0m \u001B[0mtime\u001B[0m\u001B[0;34m.\u001B[0m\u001B[0mperf_counter\u001B[0m\u001B[0;34m(\u001B[0m\u001B[0;34m)\u001B[0m\u001B[0;34m\u001B[0m\u001B[0;34m\u001B[0m\u001B[0m\n\u001B[1;32m     47\u001B[0m             \u001B[0;32mtry\u001B[0m\u001B[0;34m:\u001B[0m\u001B[0;34m\u001B[0m\u001B[0;34m\u001B[0m\u001B[0m\n\u001B[0;32m---> 48\u001B[0;31m                 \u001B[0mres\u001B[0m \u001B[0;34m=\u001B[0m \u001B[0mfunc\u001B[0m\u001B[0;34m(\u001B[0m\u001B[0;34m*\u001B[0m\u001B[0margs\u001B[0m\u001B[0;34m,\u001B[0m \u001B[0;34m**\u001B[0m\u001B[0mkwargs\u001B[0m\u001B[0;34m)\u001B[0m\u001B[0;34m\u001B[0m\u001B[0;34m\u001B[0m\u001B[0m\n\u001B[0m\u001B[1;32m     49\u001B[0m                 logger.log_success(\n\u001B[1;32m     50\u001B[0m                     \u001B[0mmodule_name\u001B[0m\u001B[0;34m,\u001B[0m \u001B[0mclass_name\u001B[0m\u001B[0;34m,\u001B[0m \u001B[0mfunction_name\u001B[0m\u001B[0;34m,\u001B[0m \u001B[0mtime\u001B[0m\u001B[0;34m.\u001B[0m\u001B[0mperf_counter\u001B[0m\u001B[0;34m(\u001B[0m\u001B[0;34m)\u001B[0m \u001B[0;34m-\u001B[0m \u001B[0mstart\u001B[0m\u001B[0;34m,\u001B[0m \u001B[0msignature\u001B[0m\u001B[0;34m\u001B[0m\u001B[0;34m\u001B[0m\u001B[0m\n\n\u001B[0;32m/databricks/spark/python/pyspark/sql/readwriter.py\u001B[0m in \u001B[0;36mcsv\u001B[0;34m(self, path, schema, sep, encoding, quote, escape, comment, header, inferSchema, ignoreLeadingWhiteSpace, ignoreTrailingWhiteSpace, nullValue, nanValue, positiveInf, negativeInf, dateFormat, timestampFormat, maxColumns, maxCharsPerColumn, maxMalformedLogPerPartition, mode, columnNameOfCorruptRecord, multiLine, charToEscapeQuoteEscaping, samplingRatio, enforceSchema, emptyValue, locale, lineSep, pathGlobFilter, recursiveFileLookup, modifiedBefore, modifiedAfter, unescapedQuoteHandling)\u001B[0m\n\u001B[1;32m    533\u001B[0m         \u001B[0;32mif\u001B[0m \u001B[0mtype\u001B[0m\u001B[0;34m(\u001B[0m\u001B[0mpath\u001B[0m\u001B[0;34m)\u001B[0m \u001B[0;34m==\u001B[0m \u001B[0mlist\u001B[0m\u001B[0;34m:\u001B[0m\u001B[0;34m\u001B[0m\u001B[0;34m\u001B[0m\u001B[0m\n\u001B[1;32m    534\u001B[0m             \u001B[0;32massert\u001B[0m \u001B[0mself\u001B[0m\u001B[0;34m.\u001B[0m\u001B[0m_spark\u001B[0m\u001B[0;34m.\u001B[0m\u001B[0m_sc\u001B[0m\u001B[0;34m.\u001B[0m\u001B[0m_jvm\u001B[0m \u001B[0;32mis\u001B[0m \u001B[0;32mnot\u001B[0m \u001B[0;32mNone\u001B[0m\u001B[0;34m\u001B[0m\u001B[0;34m\u001B[0m\u001B[0m\n\u001B[0;32m--> 535\u001B[0;31m             \u001B[0;32mreturn\u001B[0m \u001B[0mself\u001B[0m\u001B[0;34m.\u001B[0m\u001B[0m_df\u001B[0m\u001B[0;34m(\u001B[0m\u001B[0mself\u001B[0m\u001B[0;34m.\u001B[0m\u001B[0m_jreader\u001B[0m\u001B[0;34m.\u001B[0m\u001B[0mcsv\u001B[0m\u001B[0;34m(\u001B[0m\u001B[0mself\u001B[0m\u001B[0;34m.\u001B[0m\u001B[0m_spark\u001B[0m\u001B[0;34m.\u001B[0m\u001B[0m_sc\u001B[0m\u001B[0;34m.\u001B[0m\u001B[0m_jvm\u001B[0m\u001B[0;34m.\u001B[0m\u001B[0mPythonUtils\u001B[0m\u001B[0;34m.\u001B[0m\u001B[0mtoSeq\u001B[0m\u001B[0;34m(\u001B[0m\u001B[0mpath\u001B[0m\u001B[0;34m)\u001B[0m\u001B[0;34m)\u001B[0m\u001B[0;34m)\u001B[0m\u001B[0;34m\u001B[0m\u001B[0;34m\u001B[0m\u001B[0m\n\u001B[0m\u001B[1;32m    536\u001B[0m         \u001B[0;32melif\u001B[0m \u001B[0misinstance\u001B[0m\u001B[0;34m(\u001B[0m\u001B[0mpath\u001B[0m\u001B[0;34m,\u001B[0m \u001B[0mRDD\u001B[0m\u001B[0;34m)\u001B[0m\u001B[0;34m:\u001B[0m\u001B[0;34m\u001B[0m\u001B[0;34m\u001B[0m\u001B[0m\n\u001B[1;32m    537\u001B[0m \u001B[0;34m\u001B[0m\u001B[0m\n\n\u001B[0;32m/databricks/spark/python/lib/py4j-0.10.9.5-src.zip/py4j/java_gateway.py\u001B[0m in \u001B[0;36m__call__\u001B[0;34m(self, *args)\u001B[0m\n\u001B[1;32m   1319\u001B[0m \u001B[0;34m\u001B[0m\u001B[0m\n\u001B[1;32m   1320\u001B[0m         \u001B[0manswer\u001B[0m \u001B[0;34m=\u001B[0m \u001B[0mself\u001B[0m\u001B[0;34m.\u001B[0m\u001B[0mgateway_client\u001B[0m\u001B[0;34m.\u001B[0m\u001B[0msend_command\u001B[0m\u001B[0;34m(\u001B[0m\u001B[0mcommand\u001B[0m\u001B[0;34m)\u001B[0m\u001B[0;34m\u001B[0m\u001B[0;34m\u001B[0m\u001B[0m\n\u001B[0;32m-> 1321\u001B[0;31m         return_value = get_return_value(\n\u001B[0m\u001B[1;32m   1322\u001B[0m             answer, self.gateway_client, self.target_id, self.name)\n\u001B[1;32m   1323\u001B[0m \u001B[0;34m\u001B[0m\u001B[0m\n\n\u001B[0;32m/databricks/spark/python/pyspark/sql/utils.py\u001B[0m in \u001B[0;36mdeco\u001B[0;34m(*a, **kw)\u001B[0m\n\u001B[1;32m    200\u001B[0m                 \u001B[0;31m# Hide where the exception came from that shows a non-Pythonic\u001B[0m\u001B[0;34m\u001B[0m\u001B[0;34m\u001B[0m\u001B[0;34m\u001B[0m\u001B[0m\n\u001B[1;32m    201\u001B[0m                 \u001B[0;31m# JVM exception message.\u001B[0m\u001B[0;34m\u001B[0m\u001B[0;34m\u001B[0m\u001B[0;34m\u001B[0m\u001B[0m\n\u001B[0;32m--> 202\u001B[0;31m                 \u001B[0;32mraise\u001B[0m \u001B[0mconverted\u001B[0m \u001B[0;32mfrom\u001B[0m \u001B[0;32mNone\u001B[0m\u001B[0;34m\u001B[0m\u001B[0;34m\u001B[0m\u001B[0m\n\u001B[0m\u001B[1;32m    203\u001B[0m             \u001B[0;32melse\u001B[0m\u001B[0;34m:\u001B[0m\u001B[0;34m\u001B[0m\u001B[0;34m\u001B[0m\u001B[0m\n\u001B[1;32m    204\u001B[0m                 \u001B[0;32mraise\u001B[0m\u001B[0;34m\u001B[0m\u001B[0;34m\u001B[0m\u001B[0m\n\n\u001B[0;31mAnalysisException\u001B[0m: Path does not exist: dbfs:/FileStore/udemy_mount/udemy_business.csv",
       "errorSummary": "<span class='ansi-red-fg'>AnalysisException</span>: Path does not exist: dbfs:/FileStore/udemy_mount/udemy_business.csv",
       "errorTraceType": "ansi",
       "metadata": {},
       "type": "ipynbError"
      }
     },
     "output_type": "display_data"
    }
   ],
   "source": [
    "from pyspark.sql.functions import lit\n",
    "# df_tech_raw=spark.read.option('header',True).csv(\"dbfs:/FileStore/udemy_mnt/udemy_tech.csv\")\n",
    "df_business_raw=spark.read.option('header',True).csv(\"dbfs:/FileStore/udemy_mount/udemy_business.csv\")\n",
    "\n",
    "\n",
    "df_tech_raw=spark.read.option('header',True).csv(\"dbfs:/FileStore/udemy_mount/udemy_tech.csv\")\n",
    "# df_business_raw=spark.read.option('header',True).csv(\"dbfs:/FileStore/udemy_mount/udemy_business.csv\")\n",
    "\n",
    "# df_tech=spark.read.option('header',True).csv(\"dbfs:/FileStore/udemy_mount/udemy_finance.csv\")\n",
    "df_finance_raw=spark.read.option('header',True).csv(\"dbfs:/FileStore/udemy_mount/udemy_finance.csv\")\n",
    "\n",
    "df_office_raw=spark.read.option('header',True).csv(\"dbfs:/FileStore/udemy_mount/udemy_office_productivity.csv\")\n",
    "# df_finance_raw=spark.read.option('header',True).csv(\"dbfs:/FileStore/udemy_mount/udemy_finance.csv\")\n",
    "df_life_style_raw=spark.read.option('header',True).csv(\"dbfs:/FileStore/udemy_mount/udemy_lifestyle.csv\")\n",
    "df_music_raw=spark.read.option('header',True).csv(\"dbfs:/FileStore/udemy_mount/udemy_music.csv\")\n",
    "\n",
    "\n",
    "df_udemy_design_raw=spark.read.option('header',True).csv(\"dbfs:/FileStore/udemy_mount/udemy_design.csv\")\n",
    "df_marketing_raw=spark.read.option('header',True).csv(\"dbfs:/FileStore/udemy_mount/udemy_marketing.csv\")\n",
    "df_photography_raw=spark.read.option('header',True).csv(\"dbfs:/FileStore/udemy_mount/udemy_photography.csv\")\n",
    "\n",
    "\n",
    "\n",
    "\n",
    "\n",
    "\n",
    "# df2 = df1.limit(40)\n",
    "\n",
    "\n"
   ]
  },
  {
   "cell_type": "code",
   "execution_count": 0,
   "metadata": {
    "application/vnd.databricks.v1+cell": {
     "cellMetadata": {},
     "inputWidgets": {},
     "nuid": "3af7f23d-044d-4f19-8b38-4d9d91ef4c8d",
     "showTitle": false,
     "title": ""
    }
   },
   "outputs": [
    {
     "output_type": "display_data",
     "data": {
      "text/plain": [
       "\u001B[0;31m---------------------------------------------------------------------------\u001B[0m\n",
       "\u001B[0;31mNameError\u001B[0m                                 Traceback (most recent call last)\n",
       "\u001B[0;32m<command-1546152148558870>\u001B[0m in \u001B[0;36m<cell line: 2>\u001B[0;34m()\u001B[0m\n",
       "\u001B[1;32m      1\u001B[0m \u001B[0;31m# adding extra  key column\u001B[0m\u001B[0;34m\u001B[0m\u001B[0;34m\u001B[0m\u001B[0;34m\u001B[0m\u001B[0m\n",
       "\u001B[0;32m----> 2\u001B[0;31m \u001B[0mdf_tech_raw\u001B[0m\u001B[0;34m=\u001B[0m\u001B[0mdf_tech_raw\u001B[0m\u001B[0;34m.\u001B[0m\u001B[0mwithColumn\u001B[0m\u001B[0;34m(\u001B[0m\u001B[0;34m'category'\u001B[0m\u001B[0;34m,\u001B[0m\u001B[0mlit\u001B[0m\u001B[0;34m(\u001B[0m\u001B[0;34m'tech'\u001B[0m\u001B[0;34m)\u001B[0m\u001B[0;34m)\u001B[0m\u001B[0;34m\u001B[0m\u001B[0;34m\u001B[0m\u001B[0m\n",
       "\u001B[0m\u001B[1;32m      3\u001B[0m \u001B[0mdf_business_raw\u001B[0m\u001B[0;34m=\u001B[0m\u001B[0mdf_business_raw\u001B[0m\u001B[0;34m.\u001B[0m\u001B[0mwithColumn\u001B[0m\u001B[0;34m(\u001B[0m\u001B[0;34m'category'\u001B[0m\u001B[0;34m,\u001B[0m\u001B[0mlit\u001B[0m\u001B[0;34m(\u001B[0m\u001B[0;34m'bussiness'\u001B[0m\u001B[0;34m)\u001B[0m\u001B[0;34m)\u001B[0m\u001B[0;34m\u001B[0m\u001B[0;34m\u001B[0m\u001B[0m\n",
       "\u001B[1;32m      4\u001B[0m \u001B[0mdf_finance_raw\u001B[0m\u001B[0;34m=\u001B[0m\u001B[0mdf_finance_raw\u001B[0m\u001B[0;34m.\u001B[0m\u001B[0mwithColumn\u001B[0m\u001B[0;34m(\u001B[0m\u001B[0;34m'category'\u001B[0m\u001B[0;34m,\u001B[0m\u001B[0mlit\u001B[0m\u001B[0;34m(\u001B[0m\u001B[0;34m'finance'\u001B[0m\u001B[0;34m)\u001B[0m\u001B[0;34m)\u001B[0m\u001B[0;34m\u001B[0m\u001B[0;34m\u001B[0m\u001B[0m\n",
       "\u001B[1;32m      5\u001B[0m \u001B[0mdf_office_raw\u001B[0m\u001B[0;34m=\u001B[0m\u001B[0mdf_office_raw\u001B[0m\u001B[0;34m.\u001B[0m\u001B[0mwithColumn\u001B[0m\u001B[0;34m(\u001B[0m\u001B[0;34m'category'\u001B[0m\u001B[0;34m,\u001B[0m\u001B[0mlit\u001B[0m\u001B[0;34m(\u001B[0m\u001B[0;34m'office'\u001B[0m\u001B[0;34m)\u001B[0m\u001B[0;34m)\u001B[0m\u001B[0;34m\u001B[0m\u001B[0;34m\u001B[0m\u001B[0m\n",
       "\n",
       "\u001B[0;31mNameError\u001B[0m: name 'df_tech_raw' is not defined"
      ]
     },
     "metadata": {
      "application/vnd.databricks.v1+output": {
       "arguments": {},
       "data": "\u001B[0;31m---------------------------------------------------------------------------\u001B[0m\n\u001B[0;31mNameError\u001B[0m                                 Traceback (most recent call last)\n\u001B[0;32m<command-1546152148558870>\u001B[0m in \u001B[0;36m<cell line: 2>\u001B[0;34m()\u001B[0m\n\u001B[1;32m      1\u001B[0m \u001B[0;31m# adding extra  key column\u001B[0m\u001B[0;34m\u001B[0m\u001B[0;34m\u001B[0m\u001B[0;34m\u001B[0m\u001B[0m\n\u001B[0;32m----> 2\u001B[0;31m \u001B[0mdf_tech_raw\u001B[0m\u001B[0;34m=\u001B[0m\u001B[0mdf_tech_raw\u001B[0m\u001B[0;34m.\u001B[0m\u001B[0mwithColumn\u001B[0m\u001B[0;34m(\u001B[0m\u001B[0;34m'category'\u001B[0m\u001B[0;34m,\u001B[0m\u001B[0mlit\u001B[0m\u001B[0;34m(\u001B[0m\u001B[0;34m'tech'\u001B[0m\u001B[0;34m)\u001B[0m\u001B[0;34m)\u001B[0m\u001B[0;34m\u001B[0m\u001B[0;34m\u001B[0m\u001B[0m\n\u001B[0m\u001B[1;32m      3\u001B[0m \u001B[0mdf_business_raw\u001B[0m\u001B[0;34m=\u001B[0m\u001B[0mdf_business_raw\u001B[0m\u001B[0;34m.\u001B[0m\u001B[0mwithColumn\u001B[0m\u001B[0;34m(\u001B[0m\u001B[0;34m'category'\u001B[0m\u001B[0;34m,\u001B[0m\u001B[0mlit\u001B[0m\u001B[0;34m(\u001B[0m\u001B[0;34m'bussiness'\u001B[0m\u001B[0;34m)\u001B[0m\u001B[0;34m)\u001B[0m\u001B[0;34m\u001B[0m\u001B[0;34m\u001B[0m\u001B[0m\n\u001B[1;32m      4\u001B[0m \u001B[0mdf_finance_raw\u001B[0m\u001B[0;34m=\u001B[0m\u001B[0mdf_finance_raw\u001B[0m\u001B[0;34m.\u001B[0m\u001B[0mwithColumn\u001B[0m\u001B[0;34m(\u001B[0m\u001B[0;34m'category'\u001B[0m\u001B[0;34m,\u001B[0m\u001B[0mlit\u001B[0m\u001B[0;34m(\u001B[0m\u001B[0;34m'finance'\u001B[0m\u001B[0;34m)\u001B[0m\u001B[0;34m)\u001B[0m\u001B[0;34m\u001B[0m\u001B[0;34m\u001B[0m\u001B[0m\n\u001B[1;32m      5\u001B[0m \u001B[0mdf_office_raw\u001B[0m\u001B[0;34m=\u001B[0m\u001B[0mdf_office_raw\u001B[0m\u001B[0;34m.\u001B[0m\u001B[0mwithColumn\u001B[0m\u001B[0;34m(\u001B[0m\u001B[0;34m'category'\u001B[0m\u001B[0;34m,\u001B[0m\u001B[0mlit\u001B[0m\u001B[0;34m(\u001B[0m\u001B[0;34m'office'\u001B[0m\u001B[0;34m)\u001B[0m\u001B[0;34m)\u001B[0m\u001B[0;34m\u001B[0m\u001B[0;34m\u001B[0m\u001B[0m\n\n\u001B[0;31mNameError\u001B[0m: name 'df_tech_raw' is not defined",
       "errorSummary": "<span class='ansi-red-fg'>NameError</span>: name 'df_tech_raw' is not defined",
       "errorTraceType": "ansi",
       "metadata": {},
       "type": "ipynbError"
      }
     },
     "output_type": "display_data"
    }
   ],
   "source": [
    "# adding extra  key column\n",
    "df_tech_raw=df_tech_raw.withColumn('category',lit('tech'))\n",
    "df_business_raw=df_business_raw.withColumn('category',lit('bussiness'))\n",
    "df_finance_raw=df_finance_raw.withColumn('category',lit('finance'))\n",
    "df_office_raw=df_office_raw.withColumn('category',lit('office'))\n",
    "df_life_style_raw=df_life_style_raw.withColumn('category',lit('life_style'))\n",
    "df_music_raw=df_music_raw.withColumn('category',lit('music'))\n",
    "df_udemy_design_raw=df_udemy_design_raw.withColumn('category',lit('design'))\n",
    "df_marketing_raw=df_marketing_raw.withColumn('category',lit('marketing'))\n",
    "df_photography_raw=df_photography_raw.withColumn('category',lit('photography'))\n",
    "\n"
   ]
  },
  {
   "cell_type": "code",
   "execution_count": 0,
   "metadata": {
    "application/vnd.databricks.v1+cell": {
     "cellMetadata": {},
     "inputWidgets": {},
     "nuid": "56c9bd5c-349c-4a1a-862c-ccb291ea3ebe",
     "showTitle": false,
     "title": ""
    }
   },
   "outputs": [
    {
     "output_type": "display_data",
     "data": {
      "text/plain": [
       "\u001B[0;31m---------------------------------------------------------------------------\u001B[0m\n",
       "\u001B[0;31mNameError\u001B[0m                                 Traceback (most recent call last)\n",
       "\u001B[0;32m<command-1546152148558871>\u001B[0m in \u001B[0;36m<cell line: 1>\u001B[0;34m()\u001B[0m\n",
       "\u001B[0;32m----> 1\u001B[0;31m \u001B[0mdf_tech_raw\u001B[0m\u001B[0;34m=\u001B[0m\u001B[0mdf_tech_raw\u001B[0m\u001B[0;34m.\u001B[0m\u001B[0mlimit\u001B[0m\u001B[0;34m(\u001B[0m\u001B[0;36m40\u001B[0m\u001B[0;34m)\u001B[0m\u001B[0;34m\u001B[0m\u001B[0;34m\u001B[0m\u001B[0m\n",
       "\u001B[0m\n",
       "\u001B[0;31mNameError\u001B[0m: name 'df_tech_raw' is not defined"
      ]
     },
     "metadata": {
      "application/vnd.databricks.v1+output": {
       "arguments": {},
       "data": "\u001B[0;31m---------------------------------------------------------------------------\u001B[0m\n\u001B[0;31mNameError\u001B[0m                                 Traceback (most recent call last)\n\u001B[0;32m<command-1546152148558871>\u001B[0m in \u001B[0;36m<cell line: 1>\u001B[0;34m()\u001B[0m\n\u001B[0;32m----> 1\u001B[0;31m \u001B[0mdf_tech_raw\u001B[0m\u001B[0;34m=\u001B[0m\u001B[0mdf_tech_raw\u001B[0m\u001B[0;34m.\u001B[0m\u001B[0mlimit\u001B[0m\u001B[0;34m(\u001B[0m\u001B[0;36m40\u001B[0m\u001B[0;34m)\u001B[0m\u001B[0;34m\u001B[0m\u001B[0;34m\u001B[0m\u001B[0m\n\u001B[0m\n\u001B[0;31mNameError\u001B[0m: name 'df_tech_raw' is not defined",
       "errorSummary": "<span class='ansi-red-fg'>NameError</span>: name 'df_tech_raw' is not defined",
       "errorTraceType": "ansi",
       "metadata": {},
       "type": "ipynbError"
      }
     },
     "output_type": "display_data"
    }
   ],
   "source": [
    "\n",
    "df_tech_raw=df_tech_raw.limit(40)"
   ]
  },
  {
   "cell_type": "code",
   "execution_count": 0,
   "metadata": {
    "application/vnd.databricks.v1+cell": {
     "cellMetadata": {},
     "inputWidgets": {},
     "nuid": "6027ebe8-d243-48e3-8cc3-a18b813b6c05",
     "showTitle": false,
     "title": ""
    }
   },
   "outputs": [],
   "source": [
    "\n",
    "\n",
    "df_business_raw=df_business_raw.limit(40)\n",
    "df_finance_raw=df_finance_raw.limit(40)\n",
    "df_office_raw=df_office_raw.limit(40)\n",
    "df_life_style_raw=df_life_style_raw.limit(40)\n",
    "df_music_raw=df_music_raw.limit(40)\n",
    "df_udemy_design_raw=df_udemy_design_raw.limit(40)\n",
    "df_marketing_raw=df_marketing_raw.limit(40)\n",
    "df_photography_raw=df_photography_raw.limit(40)"
   ]
  },
  {
   "cell_type": "markdown",
   "metadata": {
    "application/vnd.databricks.v1+cell": {
     "cellMetadata": {},
     "inputWidgets": {},
     "nuid": "14ceea3b-deae-483b-87e6-563093787dce",
     "showTitle": false,
     "title": ""
    }
   },
   "source": [
    "#union of multiple DataFrames"
   ]
  },
  {
   "cell_type": "code",
   "execution_count": 0,
   "metadata": {
    "application/vnd.databricks.v1+cell": {
     "cellMetadata": {},
     "inputWidgets": {},
     "nuid": "6662c6a9-8b4a-47ea-a53c-116b81553d6a",
     "showTitle": false,
     "title": ""
    }
   },
   "outputs": [],
   "source": [
    "# src_final_df=df_tech_raw.union(df_business_raw)\n",
    "\n",
    "\n",
    "\n",
    "src_final_df = df_business_raw.union(df_finance_raw).union(df_office_raw).union(df_life_style_raw).union(df_music_raw).union(df_udemy_design_raw).union(df_marketing_raw).union(df_photography_raw).union(df_tech_raw)"
   ]
  },
  {
   "cell_type": "code",
   "execution_count": 0,
   "metadata": {
    "application/vnd.databricks.v1+cell": {
     "cellMetadata": {},
     "inputWidgets": {},
     "nuid": "e45489b3-f258-4b0b-b273-2d25d96201b9",
     "showTitle": false,
     "title": ""
    }
   },
   "outputs": [
    {
     "output_type": "stream",
     "name": "stdout",
     "output_type": "stream",
     "text": [
      "Out[14]: 264"
     ]
    }
   ],
   "source": [
    "src_final_df.count()"
   ]
  },
  {
   "cell_type": "code",
   "execution_count": 0,
   "metadata": {
    "application/vnd.databricks.v1+cell": {
     "cellMetadata": {},
     "inputWidgets": {},
     "nuid": "68205da4-4dbc-4b61-a605-5854b53f228c",
     "showTitle": false,
     "title": ""
    }
   },
   "outputs": [
    {
     "output_type": "display_data",
     "data": {
      "text/html": [
       "<style scoped>\n",
       "  .table-result-container {\n",
       "    max-height: 300px;\n",
       "    overflow: auto;\n",
       "  }\n",
       "  table, th, td {\n",
       "    border: 1px solid black;\n",
       "    border-collapse: collapse;\n",
       "  }\n",
       "  th, td {\n",
       "    padding: 5px;\n",
       "  }\n",
       "  th {\n",
       "    text-align: left;\n",
       "  }\n",
       "</style><div class='table-result-container'><table class='table-result'><thead style='background-color: white'><tr><th>index</th><th>Title</th><th>Summary</th><th>Enrollment</th><th>Stars</th><th>Rating</th><th>Link</th><th>category</th></tr></thead><tbody><tr><td>0</td><td>The Complete SQL Bootcamp 2020: Go from Zero to Hero</td><td>Become an expert at SQL!</td><td>301243</td><td>4.7</td><td>79919</td><td>https://www.udemy.com/course/the-complete-sql-bootcamp/</td><td>bussiness</td></tr><tr><td>1</td><td>Tableau 2020 A-Z: Hands-On Tableau Training for Data Science</td><td>Learn Tableau 2020 for data science step by step. Real-life data analytics exercises & quizzes included. Learn by doing!</td><td>211674</td><td>4.6</td><td>55582</td><td>https://www.udemy.com/course/tableau10/</td><td>bussiness</td></tr><tr><td>2</td><td>PMP Exam Prep Seminar - PMBOK Guide 6</td><td>PMP Exam Prep Seminar - Earn 35 PDUs by completing the entire PMP course</td><td>157957</td><td>4.6</td><td>53858</td><td>https://www.udemy.com/course/pmp-pmbok6-35-pdus/</td><td>bussiness</td></tr><tr><td>3</td><td>The Complete Financial Analyst Course 2020</td><td>Excel, Accounting, Financial Statement Analysis, Business Analysis, Financial Math, PowerPoint: Everything is Included!</td><td>249097</td><td>4.5</td><td>47415</td><td>https://www.udemy.com/course/the-complete-financial-analyst-course/</td><td>bussiness</td></tr><tr><td>4</td><td>An Entire MBA in 1 Course:Award Winning Business School Prof</td><td>** #1 Best Selling Business Course! ** Everything You Need to Know About Business from Start-up to IPO</td><td>376913</td><td>4.5</td><td>42101</td><td>https://www.udemy.com/course/an-entire-mba-in-1-courseaward-winning-business-school-prof/</td><td>bussiness</td></tr><tr><td>5</td><td>Microsoft Power BI - A Complete Introduction [2020 EDITION]</td><td>Learn how to use Microsoft's Power BI Tools, including Power BI Desktop, Power BI Pro (Service) and PowerBI Developer</td><td>126880</td><td>4.6</td><td>38771</td><td>https://www.udemy.com/course/powerbi-complete-introduction/</td><td>bussiness</td></tr><tr><td>6</td><td>Agile Crash Course: Agile Project Management; Agile Delivery</td><td>Get Agile Certified & Learn about the key and most important concepts and tools of Agile Project Management (Scrum)</td><td>98700</td><td>4.3</td><td>31276</td><td>https://www.udemy.com/course/agile-crash-course/</td><td>bussiness</td></tr><tr><td>7</td><td>Beginner to Pro in Excel: Financial Modeling and Valuation</td><td>Financial Modeling in Excel that would allow you to walk into a job and be a rockstar from day one!</td><td>128940</td><td>4.5</td><td>29111</td><td>https://www.udemy.com/course/beginner-to-pro-in-excel-financial-modeling-and-valuation/</td><td>bussiness</td></tr><tr><td>8</td><td>Become a Product Manager | Learn the Skills & Get the Job</td><td>The most complete course available on Product Management. 13+ hours of videos, activities, interviews, & more</td><td>114114</td><td>4.5</td><td>27879</td><td>https://www.udemy.com/course/become-a-product-manager-learn-the-skills-get-a-job/</td><td>bussiness</td></tr><tr><td>9</td><td>The Business Intelligence Analyst Course 2020</td><td>The skills you need to become a BI Analyst - Statistics, Database theory, SQL, Tableau – Everything is included</td><td>118019</td><td>4.5</td><td>24582</td><td>https://www.udemy.com/course/the-business-intelligence-analyst-course-2018/</td><td>bussiness</td></tr><tr><td>10</td><td>Microsoft Power BI - Up & Running With Power BI Desktop</td><td>Transform, analyze & visualize data with Microsoft Power BI Desktop: hands-on demos, projects & 1-on-1 Power BI support</td><td>89006</td><td>4.6</td><td>24388</td><td>https://www.udemy.com/course/microsoft-power-bi-up-running-with-power-bi-desktop/</td><td>bussiness</td></tr><tr><td>11</td><td>Business Analysis Fundamentals</td><td>Set yourself up for success, learn the key business analysis concepts to thrive in your Business Analyst career</td><td>83310</td><td>4.5</td><td>23743</td><td>https://www.udemy.com/course/business-analysis-ba/</td><td>bussiness</td></tr><tr><td>12</td><td>Leadership: Practical Leadership Skills</td><td>Master leadership skills and leadership techniques with this highly practical advice and training</td><td>69860</td><td>4.6</td><td>23283</td><td>https://www.udemy.com/course/practical-leadership/</td><td>bussiness</td></tr><tr><td>13</td><td>The Complete Foundation Stock Trading Course</td><td>Learn To Trade The Stock Market by A Trading Firm CEO. Inc: Technical Analysis, Candlesticks, Stocks, Day Trading +++</td><td>79089</td><td>4.5</td><td>22204</td><td>https://www.udemy.com/course/foundation-course/</td><td>bussiness</td></tr><tr><td>14</td><td>SQL - MySQL for Data Analytics and Business Intelligence</td><td>SQL that will get you hired – SQL for Business Analysis, Marketing, and Data Management</td><td>80470</td><td>4.6</td><td>21951</td><td>https://www.udemy.com/course/sql-mysql-for-data-analytics-and-business-intelligence/</td><td>bussiness</td></tr><tr><td>15</td><td>The Complete Financial Analyst Training & Investing Course</td><td>Succeed as a Financial Analyst &Investor by Award Winning MBA Prof who worked @Goldman, in Hedge Funds & Venture Capital</td><td>183645</td><td>4.5</td><td>21807</td><td>https://www.udemy.com/course/the-complete-financial-analyst-training-and-investing-course/</td><td>bussiness</td></tr><tr><td>16</td><td>The Ultimate Hands-On Hadoop - Tame your Big Data!</td><td>Hadoop tutorial with MapReduce, HDFS, Spark, Flink, Hive, HBase, MongoDB, Cassandra, Kafka + more! Over 25 technologies.</td><td>116200</td><td>4.6</td><td>21636</td><td>https://www.udemy.com/course/the-ultimate-hands-on-hadoop-tame-your-big-data/</td><td>bussiness</td></tr><tr><td>17</td><td>The Complete Investment Banking Course 2020</td><td>The #1 Course to Land a Job in Investment Banking. IPOs, Bonds, M&A, Trading, LBOs, Valuation: Everything is included!</td><td>89441</td><td>4.5</td><td>20326</td><td>https://www.udemy.com/course/the-complete-investment-banking-course-2016/</td><td>bussiness</td></tr><tr><td>18</td><td>How to Start an Amazon FBA Store on a Tight Budget</td><td>The complete Amazon selling blueprint. Start a brand new career today, even if you are on a very small start-up budget.</td><td>73088</td><td>4.6</td><td>19524</td><td>https://www.udemy.com/course/sell-on-amazon-as-small-start-up/</td><td>bussiness</td></tr><tr><td>19</td><td>Deep Learning Prerequisites: The Numpy Stack in Python (V2+)</td><td>The Numpy, Scipy, Pandas, and Matplotlib stack: prep for deep learning, machine learning, and artificial intelligence</td><td>239470</td><td>4.5</td><td>18388</td><td>https://www.udemy.com/course/deep-learning-prerequisites-the-numpy-stack-in-python/</td><td>bussiness</td></tr><tr><td>20</td><td>Python for Finance: Investment Fundamentals & Data Analytics</td><td>Learn Python Programming and Conduct Real-World Financial Analysis in Python - Complete Python Training</td><td>84195</td><td>4.5</td><td>17929</td><td>https://www.udemy.com/course/python-for-finance-investment-fundamentals-data-analytics/</td><td>bussiness</td></tr><tr><td>21</td><td>Introduction to Finance, Accounting, Modeling and Valuation</td><td>Learn Finance & Accounting from Scratch by an Award Winning MBA Professor, Ivy Grad, worked @ Goldman & VC</td><td>142904</td><td>4.5</td><td>17549</td><td>https://www.udemy.com/course/introduction-to-accounting-finance-modeling-valuation-by-chris-haroun/</td><td>bussiness</td></tr><tr><td>22</td><td>Forex Trading A-Z™ - With LIVE Examples of Forex Trading</td><td>Forex Trading - Beginners and Experienced - Learn trading by Doing! Live examples: Forex with Real Money in Metatrader 4</td><td>67924</td><td>4.6</td><td>17220</td><td>https://www.udemy.com/course/forex-trading/</td><td>bussiness</td></tr><tr><td>23</td><td>Write Better Emails: Tactics for Smarter Team Communication</td><td>How to improve your email writing skills to save time & improve communication with your team; easy business writing tips</td><td>51707</td><td>4.4</td><td>16494</td><td>https://www.udemy.com/course/write-better-emails/</td><td>bussiness</td></tr><tr><td>24</td><td>Beginning Project Management: Project Management Level One</td><td>Project Management: Growing a Successful Career as a Project Manager</td><td>49489</td><td>4.5</td><td>15139</td><td>https://www.udemy.com/course/beginning-project-management-project-management-level-one/</td><td>bussiness</td></tr><tr><td>25</td><td>The Complete Shopify Aliexpress Dropship course</td><td>In 2020, secure your financial future, by building a highly profitable Shopify dropshipping business from home</td><td>74795</td><td>4.7</td><td>14215</td><td>https://www.udemy.com/course/the-complete-shopify-aliexpress-dropship-course/</td><td>bussiness</td></tr><tr><td>26</td><td>Writing With Flair: How To Become An Exceptional Writer</td><td>Ex-Wall Street Journal Editor Teaches How To Write With Confidence, Style & Impact</td><td>103488</td><td>4.5</td><td>12679</td><td>https://www.udemy.com/course/writing-with-flair-how-to-become-an-exceptional-writer/</td><td>bussiness</td></tr><tr><td>27</td><td>Agile Fundamentals: Including Scrum and Kanban - 2020</td><td>Master Agile principles, values, approaches, & mindset to help organizations make changes faster and with less expense</td><td>51744</td><td>4.4</td><td>12377</td><td>https://www.udemy.com/course/agile-fundamentals-scrum-kanban-scrumban/</td><td>bussiness</td></tr><tr><td>28</td><td>SQL for Data Analysis: Weekender Crash Course for Beginners</td><td>Using MySQL but applicable to Oracle SQL, Microsoft SQL Server, and PostgreSQL. Taught by a Data Scientist and PM.</td><td>59629</td><td>4.3</td><td>11820</td><td>https://www.udemy.com/course/sql-for-newbs/</td><td>bussiness</td></tr><tr><td>29</td><td>Sales Training: Practical Sales Techniques</td><td>Sales Hacking: Essential sales skills, sales strategies and sales techniques to sell just about anything!</td><td>39333</td><td>4.6</td><td>11805</td><td>https://www.udemy.com/course/master-successful-selling/</td><td>bussiness</td></tr><tr><td>30</td><td>Ninja Writing: The Four Levels Of Writing Mastery</td><td>Turn Your Business Writing, Blogs, Books & Essays Into Masterpieces</td><td>85844</td><td>4.4</td><td>11167</td><td>https://www.udemy.com/course/ninja-writing-the-four-levels-of-writing-mastery/</td><td>bussiness</td></tr><tr><td>31</td><td>Tableau 20 Advanced Training: Master Tableau in Data Science</td><td>Master Tableau 20 in Data Science by solving Real-Life Analytics Problems. Learn Visualisation and Data Mining by doing!</td><td>63752</td><td>4.6</td><td>11121</td><td>https://www.udemy.com/course/tableau10-advanced/</td><td>bussiness</td></tr><tr><td>32</td><td>Conscious Listening</td><td>Transform your confidence and communication by becoming somebody that people love speaking to.</td><td>28408</td><td>4.5</td><td>11011</td><td>https://www.udemy.com/course/conscious-listening/</td><td>bussiness</td></tr><tr><td>33</td><td>Email Etiquette: Write More Effective Emails At Work</td><td>How to write emails that get results. How to write emails that build better working relationships.</td><td>34781</td><td>4.4</td><td>10908</td><td>https://www.udemy.com/course/business-emails/</td><td>bussiness</td></tr><tr><td>34</td><td>Tableau for Beginners: Get CA Certified, Grow Your Career</td><td>Jump into data visualization with hands-on exercises and pass the Certified Associate exam.</td><td>40646</td><td>4.5</td><td>10890</td><td>https://www.udemy.com/course/tableau-accelerate-your-career-and-get-certified/</td><td>bussiness</td></tr><tr><td>35</td><td>The Complete Presentation and Public Speaking/Speech Course</td><td>From page to stage; learn everything you need to know about giving a great speech for business & personal presentations.</td><td>159739</td><td>4.5</td><td>10441</td><td>https://www.udemy.com/course/the-complete-presentation-and-public-speaking-speech-course/</td><td>bussiness</td></tr><tr><td>36</td><td>CAPM Exam Prep Seminar - PMBOK Guide, Sixth Edition</td><td>Pass the CAPM and Earn 25 Contact Hours to Qualify for the CAPM Exam</td><td>29699</td><td>4.6</td><td>10329</td><td>https://www.udemy.com/course/capm-pmbok6/</td><td>bussiness</td></tr><tr><td>37</td><td>Robotic Process Automation - RPA Overview</td><td>Learn Robotic Process Automation to Unleash a Modern RPA Career</td><td>29599</td><td>4.4</td><td>10260</td><td>https://www.udemy.com/course/robotic-process-automation/</td><td>bussiness</td></tr><tr><td>38</td><td>Emotional Intelligence at Work: Learn from Your Emotions</td><td>Master EQ to identify emotions in yourself and others, manage your emotions, and improve your relationships at work.</td><td>21966</td><td>4.5</td><td>10148</td><td>https://www.udemy.com/course/emotional-intelligence-at-work-learn-from-your-emotions/</td><td>bussiness</td></tr><tr><td>39</td><td>Power BI A-Z: Hands-On Power BI Training For Data Science!</td><td>Learn Microsoft Power BI for Data Science and Data Analytics. Build visualizations and BI reports with Power BI Desktop</td><td>73250</td><td>4.4</td><td>9992</td><td>https://www.udemy.com/course/mspowerbi/</td><td>bussiness</td></tr><tr><td>0</td><td>The Complete Financial Analyst Course 2020</td><td>Excel, Accounting, Financial Statement Analysis, Business Analysis, Financial Math, PowerPoint: Everything is Included!</td><td>249123</td><td>4.5</td><td>47466</td><td>https://www.udemy.com/course/the-complete-financial-analyst-course/</td><td>finance</td></tr><tr><td>1</td><td>Beginner to Pro in Excel: Financial Modeling and Valuation</td><td>Financial Modeling in Excel that would allow you to walk into a job and be a rockstar from day one!</td><td>128940</td><td>4.6</td><td>29128</td><td>https://www.udemy.com/course/beginner-to-pro-in-excel-financial-modeling-and-valuation/</td><td>finance</td></tr><tr><td>2</td><td>The Complete Foundation Stock Trading Course</td><td>Learn To Trade The Stock Market by A Trading Firm CEO. Inc: Technical Analysis, Candlesticks, Stocks, Day Trading +++</td><td>79089</td><td>4.5</td><td>22239</td><td>https://www.udemy.com/course/foundation-course/</td><td>finance</td></tr><tr><td>3</td><td>The Complete Financial Analyst Training & Investing Course</td><td>Succeed as a Financial Analyst &Investor by Award Winning MBA Prof who worked @Goldman, in Hedge Funds & Venture Capital</td><td>183645</td><td>4.5</td><td>21818</td><td>https://www.udemy.com/course/the-complete-financial-analyst-training-and-investing-course/</td><td>finance</td></tr><tr><td>4</td><td>Investing In Stocks The Complete Course! (11 Hour)</td><td>Master Investing in the Stock Market with Stocks, Mutual Funds, ETF, from a Top Instructor & Millionaire Stock Portfolio</td><td>111937</td><td>4.4</td><td>20993</td><td>https://www.udemy.com/course/investing-in-stocks/</td><td>finance</td></tr><tr><td>5</td><td>Blockchain and Bitcoin Fundamentals</td><td>Learn the key elements of blockchain and Bitcoin in this bestselling video course and accompanying PDF glossary.</td><td>66320</td><td>4.6</td><td>20726</td><td>https://www.udemy.com/course/blockchain-and-bitcoin-fundamentals/</td><td>finance</td></tr><tr><td>6</td><td>The Complete Investment Banking Course 2020</td><td>The #1 Course to Land a Job in Investment Banking. IPOs, Bonds, M&A, Trading, LBOs, Valuation: Everything is included!</td><td>89447</td><td>4.5</td><td>20346</td><td>https://www.udemy.com/course/the-complete-investment-banking-course-2016/</td><td>finance</td></tr><tr><td>7</td><td>Python for Finance: Investment Fundamentals & Data Analytics</td><td>Learn Python Programming and Conduct Real-World Financial Analysis in Python - Complete Python Training</td><td>84202</td><td>4.5</td><td>17942</td><td>https://www.udemy.com/course/python-for-finance-investment-fundamentals-data-analytics/</td><td>finance</td></tr><tr><td>8</td><td>Introduction to Finance, Accounting, Modeling and Valuation</td><td>Learn Finance & Accounting from Scratch by an Award Winning MBA Professor, Ivy Grad, worked @ Goldman & VC</td><td>142924</td><td>4.5</td><td>17572</td><td>https://www.udemy.com/course/introduction-to-accounting-finance-modeling-valuation-by-chris-haroun/</td><td>finance</td></tr><tr><td>9</td><td>Forex Trading A-Z™ - With LIVE Examples of Forex Trading</td><td>Forex Trading - Beginners and Experienced - Learn trading by Doing! Live examples: Forex with Real Money in Metatrader 4</td><td>67924</td><td>4.6</td><td>17227</td><td>https://www.udemy.com/course/forex-trading/</td><td>finance</td></tr><tr><td>10</td><td>Stock Trading Crash Course !</td><td>Learn from a full time stock trader. Technical Analysis|Chart Patterns|Trading strategies|Swing and intraday trading</td><td>35688</td><td>4.5</td><td>15800</td><td>https://www.udemy.com/course/stock-trading-crash-course/</td><td>finance</td></tr><tr><td>11</td><td>Cryptocurrency Investment Course 2020: Fund your Retirement!</td><td>Complete A-Z Guide to Bitcoin, Blockchain, Ethereum, Altcoins, ICOs, DeFi & how to invest in them for your retirement!</td><td>42214</td><td>4.1</td><td>12136</td><td>https://www.udemy.com/course/cryptocurrency/</td><td>finance</td></tr><tr><td>12</td><td>Accounting in 60 Minutes - A Brief Introduction</td><td>Learn the very basics of accounting in just about an hour.</td><td>80231</td><td>4.5</td><td>9214</td><td>https://www.udemy.com/course/accounting-in-60-minutes-a-brief-introduction/</td><td>finance</td></tr><tr><td>13</td><td>Technical Analysis MasterClass:Trading By Technical Analysis</td><td>Stock Market Technical Analysis Secrets for Forex , Stock Trading , Options , Swing Trading & Day Trading + ASSIGNMENTS</td><td>41213</td><td>4.4</td><td>8770</td><td>https://www.udemy.com/course/technical_analysis/</td><td>finance</td></tr><tr><td>14</td><td>Accounting & Financial Statement Analysis: Complete Training</td><td>Accounting & Financial Ratio Analysis made easy. Learn important accounting skills that will get your foot in the door!</td><td>38469</td><td>4.6</td><td>6381</td><td>https://www.udemy.com/course/accounting-fsa-a-solid-foundation-for-a-career-in-finance/</td><td>finance</td></tr><tr><td>15</td><td>Advanced Stock Trading Course + Strategies</td><td>Learn To Trade The Stock Market by A Trading Firm CEO. For: Stocks, Day Trading, Swing Trading and Financial Trading</td><td>37703</td><td>4.6</td><td>6103</td><td>https://www.udemy.com/course/advanced-course-plus-strategies/</td><td>finance</td></tr><tr><td>16</td><td>The Complete Personal Finance Course: Save,Protect,Make More</td><td>3 Courses in 1! Save,Protect & Make More! By an Award Winning MBA Professor, VC & Best Selling Online Business Teacher.</td><td>87783</td><td>4.6</td><td>5137</td><td>https://www.udemy.com/course/the-complete-personal-finance-course-save-protect-make-more/</td><td>finance</td></tr><tr><td>17</td><td>Options Trading Basics (3-Course Bundle)</td><td>A bundle combines 1)Intro to Call and Put Options 2) Time decay, Implied Volatility, Greeks 3) Call and Puts Live trades</td><td>29099</td><td>4.4</td><td>4913</td><td>https://www.udemy.com/course/learn-options-trading-courses/</td><td>finance</td></tr><tr><td>18</td><td>Beginner to Pro in PowerPoint: Complete PowerPoint Training</td><td>PowerPoint lessons that are easy to apply at work! Become the top PowerPoint user in your office. #1 PowerPoint training</td><td>25951</td><td>4.4</td><td>4890</td><td>https://www.udemy.com/course/powerpoint-master-class-for-business-and-finance-graduates/</td><td>finance</td></tr><tr><td>19</td><td>Value Investing Bootcamp: How to Invest Wisely</td><td>Learn the Secrets of the Best Stock Investors, Manage Your Own Portfolio, And Earn Market Beating Returns</td><td>29990</td><td>4.5</td><td>4270</td><td>https://www.udemy.com/course/value-investing-bootcamp-how-to-invest-wisely/</td><td>finance</td></tr><tr><td>20</td><td>Start Trading Stocks Using Technical Analysis!</td><td>Learn the secrets of professional trading from a former stock broker, and make profits investing today!</td><td>18236</td><td>4.5</td><td>4237</td><td>https://www.udemy.com/course/professional-stock-trader/</td><td>finance</td></tr><tr><td>21</td><td>#1 Cryptocurrency Long-term Investment Opportunity 2017/2018</td><td>Learn Long-term Cryptocurrency Investing and see which Alt Coin I think is the best investment opportunity in 2017!</td><td>13901</td><td>1.8</td><td>4048</td><td>https://www.udemy.com/course/cryptocurrency-course/</td><td>finance</td></tr><tr><td>22</td><td>Excel Crash Course: Master Excel for Financial Analysis</td><td>Beginner to Advanced: Learn Excel Shortcuts, Formulas & Functions for Financial Modeling & Corporate Finance</td><td>20487</td><td>4.4</td><td>3761</td><td>https://www.udemy.com/course/excel-crash-course-master-excel-for-financial-analysis/</td><td>finance</td></tr><tr><td>23</td><td>Financial Planning & Analysis: Building a Company's Budget</td><td>Learn the Fundamental Mechanics of Financial Planning and Position Your Career for Success!</td><td>17167</td><td>4.2</td><td>3671</td><td>https://www.udemy.com/course/financial-planning-analysis-building-a-companys-budget/</td><td>finance</td></tr><tr><td>24</td><td>Accounting: From Beginner to Advanced!</td><td>Learn accounting like never before. Learn easy and fast. Easy to understand Accounting. #1 accounting course online.</td><td>15937</td><td>4.4</td><td>3654</td><td>https://www.udemy.com/course/accounting101/</td><td>finance</td></tr><tr><td>25</td><td>Forex Robots: Automate Your Trading - Forex Robot Included!</td><td>Forex Robots - Learn the secrets to trading on a real Forex Account with Forex Trading Systems. Metatrader 4 EA</td><td>29014</td><td>4.7</td><td>3628</td><td>https://www.udemy.com/course/backtesting/</td><td>finance</td></tr><tr><td>26</td><td>Stock Trading & Investing for Beginners 4-in-1 Course Bundle</td><td>Jumpstart your Stock Trading & Investing journey as Beginners in Stock Market. Learn both financial & technical analysis</td><td>16649</td><td>4.3</td><td>3265</td><td>https://www.udemy.com/course/complete-stock-market-starter-toolkit-for-beginners/</td><td>finance</td></tr><tr><td>27</td><td>Acorns' Guide to Personal Finance</td><td>5 Steps to Building Wealth: Budget Better, Pay Off Debt Faster, Save and Earn More Money and Invest Wisely</td><td>24819</td><td>4.3</td><td>3199</td><td>https://www.udemy.com/course/acorns-guide-to-personal-finance/</td><td>finance</td></tr><tr><td>28</td><td>SAP FICO (Financial Accounting & Management Accounting) </td><td>The course covers both configuration and end-user processes for SAP FICO module</td><td>15327</td><td>4.1</td><td>3016</td><td>https://www.udemy.com/course/sap-fico-training-course/</td><td>finance</td></tr><tr><td>29</td><td>Algorithmic Trading In Forex: Create Your First Forex Robot!</td><td>Trading With Forex Robots: Learn MQL4 Programming By Doing! Create Your First Algorithmic Trading System in MetaTrader 4</td><td>20193</td><td>4.6</td><td>2926</td><td>https://www.udemy.com/course/learn-mql4/</td><td>finance</td></tr><tr><td>30</td><td>Financial Modeling: Build a Complete DCF Valuation Model</td><td>The Ultimate Guide to Company Valuation For Aspiring Investment Bankers and Corporate Finance Practitioners</td><td>17127</td><td>4.5</td><td>2850</td><td>https://www.udemy.com/course/learn-how-to-value-a-company-and-build-a-dcf-model/</td><td>finance</td></tr><tr><td>31</td><td>Options Trading - How to Win with Weekly Options</td><td>An Exact Blueprint for Options Trading Success</td><td>14597</td><td>4.1</td><td>2700</td><td>https://www.udemy.com/course/work-from-home-setup-your-own-options-trading-business/</td><td>finance</td></tr><tr><td>32</td><td>CFA® Level 1 (2020) - Complete Financial Reporting &Analysis</td><td>Deep dive into FRA with the Bestselling CFA® prep course provider | With visual learning + Quizzes</td><td>17481</td><td>4.5</td><td>2668</td><td>https://www.udemy.com/course/cfa-level-1-fra-complete-mastery-course/</td><td>finance</td></tr><tr><td>33</td><td>Options Trading for Rookies: Understand Options Completely</td><td>Part 1: Learn everything you need to know about options, what they are, how they work, buying vs. selling and more!</td><td>13678</td><td>4.7</td><td>2673</td><td>https://www.udemy.com/course/complete-course-introduction-to-option-trading/</td><td>finance</td></tr><tr><td>34</td><td>The Complete Finance Manager Course 2020</td><td>Financial Management, ERP systems, Accounting, Capital budgeting, Presentation design, Management, and Negotiation</td><td>18165</td><td>4.4</td><td>2605</td><td>https://www.udemy.com/course/the-complete-finance-manager-course/</td><td>finance</td></tr><tr><td>35</td><td>Mastering QuickBooks Online</td><td>Become An Expert QuickBooks Online And Learn How To Keep And Maintain QuickBooks Records For Perfect Accuracy</td><td>9256</td><td>4.4</td><td>2587</td><td>https://www.udemy.com/course/mastering-quickbooks-online/</td><td>finance</td></tr><tr><td>36</td><td>Accounting - A Brief Introduction - in 60 Minutes</td><td>Learn the basics of financial accounting in one hour!</td><td>26519</td><td>4.7</td><td>2512</td><td>https://www.udemy.com/course/accounting-in-less-then-one-hour/</td><td>finance</td></tr><tr><td>37</td><td>Complete Day Trading : Stock Trading With Technical Analysis</td><td>Learn Stock Market Day Trading Strategies, Scanning & Trading Momentum Stocks , Nifty/Bank Nifty by Technical Analysis</td><td>16561</td><td>4.4</td><td>2517</td><td>https://www.udemy.com/course/day-trading-strategies-day-trading-with-technical-analysis/</td><td>finance</td></tr><tr><td>38</td><td>The Ultimate QuickBooks Pro Training Bundle - 60+ Hours</td><td>Master QuickBooks Pro with this training bundle consisting of 8 courses, 60+ hours, and over 400 videos.</td><td>17813</td><td>4.4</td><td>2499</td><td>https://www.udemy.com/course/the-ultimate-quickbooks-pro-training-bundle/</td><td>finance</td></tr><tr><td>39</td><td>Options Trading MasterClass: Options With Technical Analysis</td><td>Options Trading+++Strategies , Options Basics & Greeks (A 3-Course Bundle) For Stock & Day Trading By Technical Analysis</td><td>19775</td><td>4.3</td><td>2491</td><td>https://www.udemy.com/course/option-trading-option-strategies-with-technical-analysis/</td><td>finance</td></tr><tr><td>0</td><td>Microsoft Excel - Excel from Beginner to Advanced</td><td>Excel with this A-Z Microsoft Excel Course. Microsoft Excel 2010, 2013, 2016, Excel 2019 and Office 365</td><td>558150</td><td>4.6</td><td>174080</td><td>https://www.udemy.com/course/microsoft-excel-2013-from-beginner-to-advanced-and-beyond/</td><td>office</td></tr><tr><td>1</td><td>Microsoft Excel - Advanced Excel Formulas & Functions</td><td>Master 75+ Excel formulas with hands-on demos from a best-selling Microsoft Excel instructor (Excel '07 - Excel 2019)</td><td>182132</td><td>4.7</td><td>38239</td><td>https://www.udemy.com/course/excel-for-analysts/</td><td>office</td></tr><tr><td>2</td><td>Unlock Excel VBA and Excel Macros</td><td>Automate Complex Tasks with Microsoft Excel VBA & Excel Macros (Real-World Projects included). Achieve More. Save time.</td><td>97548</td><td>4.6</td><td>22865</td><td>https://www.udemy.com/course/excel-vba-and-macros-course/</td><td>office</td></tr><tr><td>3</td><td>Microsoft Excel - Data Analysis with Excel Pivot Tables</td><td>Master Excel Pivot Tables & data analysis with real-world cases from a best-selling Excel instructor (Excel 2010-2019)</td><td>112510</td><td>4.6</td><td>21429</td><td>https://www.udemy.com/course/data-analysis-with-excel-pivot-tables/</td><td>office</td></tr><tr><td>4</td><td>Excel Essentials: The Complete Excel Series - Level 1, 2 & 3</td><td>Excel: The WHOLE Excel Mastery Series In One! From Excel Novice To VBA Programmer - Excel 2013, Excel 2016, Excel 2019</td><td>72269</td><td>4.6</td><td>18116</td><td>https://www.udemy.com/course/excel-essentials-the-complete-series-levels-1-2-3/</td><td>office</td></tr><tr><td>5</td><td>Microsoft Excel - Data Visualization, Excel Charts & Graphs</td><td>Master 20+ Excel charts & graphs and build custom visuals with a best-selling Excel instructor (Excel 2016 - Excel 2019)</td><td>74140</td><td>4.6</td><td>16118</td><td>https://www.udemy.com/course/advanced-excel-charts-graphs/</td><td>office</td></tr><tr><td>6</td><td>Microsoft Excel - From Beginner to Expert in 6 Hours</td><td>This Microsoft Excel class will make you a master of Microsoft Excel. The training uses Excel 2013 for Windows.</td><td>101795</td><td>4.5</td><td>15046</td><td>https://www.udemy.com/course/thebestexcel/</td><td>office</td></tr><tr><td>7</td><td>Master Microsoft Word Beginner to Advanced</td><td>Master the most popular Word Processing tool, Microsoft Word. Microsoft Word 2010, Word 2013, Word 2016, Word 2019</td><td>55439</td><td>4.7</td><td>11351</td><td>https://www.udemy.com/course/microsoft-word-from-beginner-to-advanced-and-beyond/</td><td>office</td></tr><tr><td>8</td><td>Microsoft Project ALL: BEGINNER to EXPERT 10 Projects 9 PDU</td><td>Learn MS Project all version HANDS-ON with COMPLETE real life examples BONUS 125 project files FREE PMI approved 9 PDUs</td><td>47664</td><td>4.5</td><td>11157</td><td>https://www.udemy.com/course/microsoft-project-tutorial/</td><td>office</td></tr><tr><td>9</td><td>Mastering Microsoft Teams (2020)</td><td>Become an expert at using Microsoft Teams to chat, collaborate, and get things done</td><td>33522</td><td>4.4</td><td>10988</td><td>https://www.udemy.com/course/mastering-microsoft-teams/</td><td>office</td></tr><tr><td>10</td><td>Microsoft Excel - Excel Power Query, Power Pivot & DAX</td><td>Learn Excel business intelligence (Power Query, Power Pivot & DAX) with a best-selling Excel instructor (Excel 2013+)</td><td>54533</td><td>4.7</td><td>10933</td><td>https://www.udemy.com/course/microsoft-excel-power-query-power-pivot-dax/</td><td>office</td></tr><tr><td>11</td><td>Microsoft Access 2016 Master Class: Beginner to Advanced</td><td>Quickly learn how Microsoft Access 2016 can make your life easier and more productive!</td><td>43242</td><td>4.6</td><td>10265</td><td>https://www.udemy.com/course/microsoftaccess/</td><td>office</td></tr><tr><td>12</td><td>Master Microsoft Excel Macros and Excel VBA</td><td>Project Based Course on Excel VBA (Visual Basic for Applications) and Excel Macros</td><td>41348</td><td>4.5</td><td>10069</td><td>https://www.udemy.com/course/master-microsoft-excel-macros-and-vba-with-5-simple-projects/</td><td>office</td></tr><tr><td>13</td><td>Visually Effective Excel Dashboards</td><td>Actionable Excel Tips (Templates Included) You Can Use Right Now to Create Eye-Catching Microsoft Excel Dashboards</td><td>43843</td><td>4.6</td><td>9213</td><td>https://www.udemy.com/course/excel-dashboards-reports/</td><td>office</td></tr><tr><td>14</td><td>Powerpoint 2016 2019 - Master powerpoint presentation</td><td>Complete Powerpoint Design Masterclass - 20+ powerpoint presentation slides. Powerpoint from beginner to pro</td><td>46790</td><td>4.5</td><td>8510</td><td>https://www.udemy.com/course/case-study-powerpoint-2013-presentation-slide-by-slide/</td><td>office</td></tr><tr><td>15</td><td>SAP Simplified for Absolute Beginners</td><td>Easy to follow Introduction into SAP ERP</td><td>21652</td><td>4.4</td><td>7110</td><td>https://www.udemy.com/course/sap-simplified-for-absolute-beginners/</td><td>office</td></tr><tr><td>0</td><td>The Art & Science of Figure Drawing: GESTURE</td><td>Learn everything you need to know about drawing dynamic, expressive figures.</td><td>15138</td><td>4.8</td><td>2282</td><td>https://www.udemy.com/course/figuredrawing/</td><td>life_style</td></tr><tr><td>1</td><td>Paint Realistic Watercolor and Botanicals - STUDIO BASICS</td><td>This foundation tutorial will help you understand essential work+studio basics for realistic watercolour and botanicals</td><td>11845</td><td>4.5</td><td>2265</td><td>https://www.udemy.com/course/paint-realistic-watercolor-and-botanicals-studio-basics/</td><td>life_style</td></tr><tr><td>2</td><td>Anime Drawing for Beginners</td><td>Learn how to draw characters in Anime Style!</td><td>10141</td><td>4.6</td><td>2231</td><td>https://www.udemy.com/course/anime-drawing-for-beginners/</td><td>life_style</td></tr><tr><td>3</td><td>HOW TO PAINT FROM BEGINNER TO MASTER</td><td>Oil Painting For All Skill Levels</td><td>11658</td><td>4.6</td><td>2018</td><td>https://www.udemy.com/course/how-to-paint-from-beginner-to-master/</td><td>life_style</td></tr><tr><td>4</td><td>Inside Your Dog's Mind with Victoria Stilwell</td><td>Understanding canine behavior and how dogs think, feel and learn to make dog training easier & more effective.</td><td>8550</td><td>4.4</td><td>1957</td><td>https://www.udemy.com/course/insideyourdogsmind/</td><td>life_style</td></tr><tr><td>5</td><td>The Beginner's Guide to Digital Art with Procreate on iPad!</td><td>Learn the basics of digital art on your iPad with these step-by-step lessons for Procreate, a powerful digital art app!</td><td>8864</td><td>4.6</td><td>1852</td><td>https://www.udemy.com/course/procreate-guide/</td><td>life_style</td></tr><tr><td>6</td><td>Essential Cooking Skills</td><td>Cook like a pro, master the basic techniques used in the World's culinary industry! Key Techniques - Part 1</td><td>9172</td><td>4.5</td><td>1797</td><td>https://www.udemy.com/course/essential-cooking-skills/</td><td>life_style</td></tr><tr><td>7</td><td>The Art & Science of Drawing / DYNAMIC MARK MAKING</td><td>Create compelling drawings using expressive mark making.</td><td>10246</td><td>4.7</td><td>1765</td><td>https://www.udemy.com/course/the-art-science-of-drawing-week-two-dynamic-mark-making/</td><td>life_style</td></tr><tr><td>8</td><td>The Art & Science of Drawing / FORM & SPACE</td><td>Learn to draw in 3-Dimensions</td><td>14913</td><td>4.8</td><td>1732</td><td>https://www.udemy.com/course/the-art-science-of-drawing-weeks-3-4-form-space/</td><td>life_style</td></tr><tr><td>9</td><td>Dr. Ian Dunbar's SIRIUS® Dog Trainer Academy - All 4 Days</td><td>Learn how to train dogs the SIRIUS® way! Learn how to run and promote your own dog-friendly dog training business.</td><td>14836</td><td>4.6</td><td>1706</td><td>https://www.udemy.com/course/sirius-dog-trainer-academy-4days/</td><td>life_style</td></tr><tr><td>10</td><td>Foundations for Mastering Watercolor Painting</td><td>An in-depth, approachable look at painting materials that will make mastering the medium truly possible.</td><td>7317</td><td>4.7</td><td>1637</td><td>https://www.udemy.com/course/foundations-for-mastering-watercolor-painting/</td><td>life_style</td></tr><tr><td>11</td><td>Emotional Intelligence (EQ) Practitioner Cert (ACCREDITED)</td><td>Uncover the powerful Emotional Intelligence change framework & help yourself and others with Emotional Intelligence</td><td>7944</td><td>4.5</td><td>1607</td><td>https://www.udemy.com/course/emotional-intelligence-practitioner-certification/</td><td>life_style</td></tr><tr><td>12</td><td>The Complete Guide to League of Legends</td><td>Learn how to improve your game mechanics, micro/macro knowledge, and rank from former LCS coach, NicoThePico.</td><td>4708</td><td>4.5</td><td>1599</td><td>https://www.udemy.com/course/the-complete-guide-to-league-of-legends/</td><td>life_style</td></tr><tr><td>13</td><td>Meditation Practitioner / Teacher Certification (ACCREDITED)</td><td>A fully Accredited Meditation Practitioner / Teacher Certification course taking you from beginner to professional level</td><td>6390</td><td>4.7</td><td>1571</td><td>https://www.udemy.com/course/meditation-practitioner-teacher-certification-accredited/</td><td>life_style</td></tr><tr><td>14</td><td>The Basics of Household Wiring. The Electrical System A to Z</td><td>Everything Electricity, from your Circuit (Breaker) Panel, Outlets, Switches, Receptacles, Light Fixtures, Cable, Wire..</td><td>6405</td><td>4.3</td><td>1500</td><td>https://www.udemy.com/course/learn-the-basics-of-household-wiring/</td><td>life_style</td></tr><tr><td>15</td><td>Healthy Cooking Fundamentals</td><td>A practical course to take your cooking skills from dull to delicious</td><td>18576</td><td>4.4</td><td>1484</td><td>https://www.udemy.com/course/up-beet-cooking-fundamentals/</td><td>life_style</td></tr><tr><td>0</td><td>How To Sing #1: Complete Vocal Warm ups & Voice Physiology</td><td>Singing Lessons for Vocal Warm Up Tips & Voice Essentials</td><td>22215</td><td>4.6</td><td>2795</td><td>https://www.udemy.com/course/singing-lessons-online/</td><td>music</td></tr><tr><td>1</td><td>Ultimate Ableton Live 10 COMPLETE: Parts 1, 2, and 3</td><td>Learning Ableton Live 10 Suite through tutorials, tracks, and more. Learn the Live software download quickly and easily!</td><td>10865</td><td>4.4</td><td>2634</td><td>https://www.udemy.com/course/ableton-live-10-complete/</td><td>music</td></tr><tr><td>2</td><td>Elite Singing Techniques - Phase I</td><td>Step by step singing system proven to develop great technique and vocal mastery, Results are immediate!</td><td>9680</td><td>4.7</td><td>2595</td><td>https://www.udemy.com/course/elite-singing-techniques-phase-1/</td><td>music</td></tr><tr><td>3</td><td>SINGING SIMPLIFIED #1: The Fast-Track to Singing Like a Pro</td><td>Find your unique voice naturally, while having FUN doing it! A modern approach to singing lessons & vocal training.</td><td>19026</td><td>4.6</td><td>2458</td><td>https://www.udemy.com/course/singing-simplified/</td><td>music</td></tr><tr><td>4</td><td>Music Theory Comprehensive Complete: Part 4, 5, & 6</td><td>Learn music theory through this music theory course app, music theory exercises, and music theory tutorials.</td><td>30767</td><td>4.7</td><td>2107</td><td>https://www.udemy.com/course/music-theory-comprehensive-combined-part-4-5-6/</td><td>music</td></tr><tr><td>5</td><td>The Complete Piano & Music Theory Beginners Course</td><td>Learn all piano and music theory basics quickly, and save big on months of initial private lessons!</td><td>17932</td><td>4.4</td><td>2044</td><td>https://www.udemy.com/course/piano-lessons-music-theory-beginners-course/</td><td>music</td></tr><tr><td>6</td><td>The Professional Bass Masterclass</td><td>Learn the professional techniques, tools, and methods to master bass guitar from beginner to advanced player</td><td>13852</td><td>4.6</td><td>1919</td><td>https://www.udemy.com/course/the-professional-bass-masterclass/</td><td>music</td></tr><tr><td>7</td><td>Learn To Play The Drums</td><td>Become a drummer with a step by step programme to get you from being drumming novice to drumming expert</td><td>11889</td><td>4.6</td><td>1753</td><td>https://www.udemy.com/course/learndrums/</td><td>music</td></tr><tr><td>8</td><td>The Complete EDM Production Course - Produce, Mix & Master</td><td>Learn EDM Production, mixing, mastering, sound design, arrangement, plugins, techniques & more using any software or DAW</td><td>9191</td><td>4.6</td><td>1752</td><td>https://www.udemy.com/course/edm-production/</td><td>music</td></tr><tr><td>9</td><td>Learn piano or keyboard from scratch - Complete piano course</td><td>Piano lessons/ keyboard lessons for beginners. Complete piano course,reading music, improvisation, music theory, chords.</td><td>13673</td><td>4.6</td><td>1683</td><td>https://www.udemy.com/course/learn-to-play-the-piano-from-scratch/</td><td>music</td></tr><tr><td>10</td><td>Beginner Violin Lessons - VIOLIN MASTERY FROM THE BEGINNING.</td><td>Beginner Violin Lessons - Learn Violin from Scratch - The most In depth beginner online violin course available. Violin</td><td>10379</td><td>4.6</td><td>1664</td><td>https://www.udemy.com/course/beginner-violin-lessons-violin-master-course/</td><td>music</td></tr><tr><td>11</td><td>The Complete Piano Course - Master The Piano</td><td>A full guide on learning how to use every single note on the piano.</td><td>12826</td><td>4.5</td><td>1572</td><td>https://www.udemy.com/course/the-complete-piano-course/</td><td>music</td></tr><tr><td>12</td><td>Music Composition 1</td><td>Learn how to compose well-written rhythms and melodies</td><td>10832</td><td>4.4</td><td>1484</td><td>https://www.udemy.com/course/music-composition-1/</td><td>music</td></tr><tr><td>13</td><td>Learn Guitar: Zero to Guitar Fingerpicking in 30 days</td><td>Learn guitar for beginners: guitar fingerpicking in 30 days</td><td>12023</td><td>4.6</td><td>1470</td><td>https://www.udemy.com/course/zero-to-guitar-fingerpicking/</td><td>music</td></tr><tr><td>14</td><td>Lyricology: Perfect Song Structure and Beat Selection!</td><td>Simple techniques for counting bars, song structure and beat selection for aspiring hip hop artists.</td><td>6944</td><td>4.2</td><td>1380</td><td>https://www.udemy.com/course/lyricology-101-perfect-song-structure-and-beat-selection/</td><td>music</td></tr><tr><td>15</td><td>Music Production I - Learn to be a Music Producer!</td><td>Learn how to become a recording/music production engineer with little to no knowledge! Record music like a pro!</td><td>6712</td><td>4.5</td><td>1373</td><td>https://www.udemy.com/course/music-production/</td><td>music</td></tr><tr><td>0</td><td>The Ultimate Drawing Course - Beginner to Advanced</td><td>Learn the #1 most important building block of all art</td><td>403865</td><td>4.5</td><td>98984</td><td>https://www.udemy.com/course/the-ultimate-drawing-course-beginner-to-advanced/</td><td>design</td></tr><tr><td>1</td><td>Character Art School: Complete Character Drawing Course</td><td>Learn How to Draw People and Character Designs Professionally, Drawing for Animation, Comics, Cartoons, Games and More!</td><td>228471</td><td>4.5</td><td>51220</td><td>https://www.udemy.com/course/character-art-school-complete-character-drawing/</td><td>design</td></tr><tr><td>2</td><td>Complete Blender Creator: Learn 3D Modelling for Beginners</td><td>Use Blender to Create Beautiful 3D models for Video Games, 3D Printing & More. Beginners Level Course</td><td>203790</td><td>4.6</td><td>39959</td><td>https://www.udemy.com/course/blendertutorial/</td><td>design</td></tr><tr><td>3</td><td>Design Thinking in 3 Steps</td><td>Understand your audience, envision a creative solution, and test your prototype</td><td>63479</td><td>4.4</td><td>28014</td><td>https://www.udemy.com/course/designit-design-thinking/</td><td>design</td></tr><tr><td>4</td><td>Illustrator CC 2020 MasterClass</td><td>Master Adobe Illustrator CC with this in-depth training for all levels.</td><td>117513</td><td>4.6</td><td>25858</td><td>https://www.udemy.com/course/illustrator-cc-masterclass/</td><td>design</td></tr><tr><td>5</td><td>User Experience Design Essentials - Adobe XD UI UX Design</td><td>Use XD to get a job in UI Design, User Interface, User Experience design, UX design & Web Design</td><td>94235</td><td>4.6</td><td>23988</td><td>https://www.udemy.com/course/ui-ux-web-design-using-adobe-xd/</td><td>design</td></tr><tr><td>6</td><td>Ultimate Photoshop Training: From Beginner to Pro</td><td>Master Photoshop CC 2020 without any previous knowledge with this easy-to-follow course</td><td>121883</td><td>4.6</td><td>20629</td><td>https://www.udemy.com/course/ultimate-photoshop-training-from-beginner-to-pro/</td><td>design</td></tr><tr><td>7</td><td>After Effects CC 2020: Complete Course from Novice to Expert</td><td>Create stunning Motion Graphics, VFX Visual Effects & VFX Compositing with hands-on tutorials & 50+ practice projects.</td><td>106344</td><td>4.6</td><td>20252</td><td>https://www.udemy.com/course/after-effects-kinetic-typography/</td><td>design</td></tr><tr><td>8</td><td>Graphic Design Masterclass - Learn GREAT Design</td><td>The Ultimate Graphic Design Course Which Covers Photoshop, Illustrator, InDesign,Design Theory, Branding and Logo Design</td><td>61002</td><td>4.6</td><td>16282</td><td>https://www.udemy.com/course/graphic-design-masterclass-everything-you-need-to-know/</td><td>design</td></tr><tr><td>9</td><td>Adobe Photoshop CC: Your Complete Beginner to Advanced Class</td><td>Learn the essential tools of Adobe Photoshop CC to jump right in and design beautiful graphics and photos in Photoshop.</td><td>470991</td><td>4.6</td><td>16005</td><td>https://www.udemy.com/course/adobe-photoshop-course/</td><td>design</td></tr><tr><td>10</td><td>Wordpress for Beginners - Master Wordpress Quickly</td><td>In 2020, build a beautiful responsive Wordpress site that looks great on all devices. No experience required.</td><td>64732</td><td>4.5</td><td>15045</td><td>https://www.udemy.com/course/wordpress-for-beginners-course/</td><td>design</td></tr><tr><td>11</td><td>Adobe Photoshop CC – Essentials Training Course</td><td>This Adobe Photoshop Essentials course will teach you Photoshop Retouching as well as Photoshop for graphic design.</td><td>53888</td><td>4.7</td><td>14453</td><td>https://www.udemy.com/course/adobe-photoshop-cc-essentials-training-course/</td><td>design</td></tr><tr><td>12</td><td>Graphic Design Bootcamp: Photoshop, Illustrator, InDesign</td><td>Bestselling Beginner Course! Use Photoshop, Illustrator, & InDesign for logo design, web design, poster design, and more</td><td>86585</td><td>4.5</td><td>13338</td><td>https://www.udemy.com/course/graphic-design-for-beginners/</td><td>design</td></tr><tr><td>13</td><td>The complete AutoCAD 2018-21 course</td><td>A complete course for learning AutoCAD from scratch to professional level</td><td>48556</td><td>4.6</td><td>13295</td><td>https://www.udemy.com/course/autocad-2018-course/</td><td>design</td></tr><tr><td>14</td><td>Web Design for Beginners: Real World Coding in HTML & CSS</td><td>Launch a career as a web designer by learning HTML5, CSS3, responsive design, Sass and more!</td><td>47169</td><td>4.6</td><td>12888</td><td>https://www.udemy.com/course/web-design-for-beginners-real-world-coding-in-html-css/</td><td>design</td></tr><tr><td>15</td><td>Adobe Illustrator CC - Essentials Training Course</td><td>Learn Adobe Illustrator CC graphic design, logo design, and more with this in-depth, practical, easy-to-follow course!</td><td>45570</td><td>4.7</td><td>12250</td><td>https://www.udemy.com/course/adobe-illustrator-course/</td><td>design</td></tr><tr><td>16</td><td>UX & Web Design Master Course: Strategy, Design, Development</td><td>Learn how to apply User Experience (UX) principles to your website designs, code a variety of sites, and increase sales!</td><td>80706</td><td>4.5</td><td>11401</td><td>https://www.udemy.com/course/ux-web-design-master-course-strategy-design-development/</td><td>design</td></tr><tr><td>17</td><td>Drawing and Painting on the iPad with Procreate</td><td>Learn everything you need to know about Procreate with hands on drawing lessons. Now updated for Procreate 5.</td><td>40443</td><td>4.7</td><td>10886</td><td>https://www.udemy.com/course/drawing-and-painting-on-the-ipad-with-procreate/</td><td>design</td></tr><tr><td>18</td><td>User Experience Design Fundamentals</td><td>Design Web Sites and Mobile Apps that Your Users Love and Return to Again and Again with UX Expert Joe Natoli.</td><td>74042</td><td>4.4</td><td>9223</td><td>https://www.udemy.com/course/user-experience-design-fundamentals/</td><td>design</td></tr><tr><td>19</td><td>Adobe InDesign CC - Essentials Training Course</td><td>Build company newsletters, brochures, annual reports. Learn typography, color theory & graphic design skills in InDesign</td><td>35860</td><td>4.7</td><td>9158</td><td>https://www.udemy.com/course/indesign-tutorial-basics-course/</td><td>design</td></tr><tr><td>20</td><td>After Effects CC Masterclass: Complete After Effects Course</td><td>Learn After Effects CC to improve your videos with professional motion graphics and visual effects.</td><td>323449</td><td>4.6</td><td>8784</td><td>https://www.udemy.com/course/after-effects-cc/</td><td>design</td></tr><tr><td>21</td><td>CSS - The Complete Guide 2020 (incl. Flexbox, Grid & Sass)</td><td>Learn CSS for the first time or brush up your CSS skills and dive in even deeper. EVERY web developer has to know CSS.</td><td>43083</td><td>4.7</td><td>8605</td><td>https://www.udemy.com/course/css-the-complete-guide-incl-flexbox-grid-sass/</td><td>design</td></tr><tr><td>22</td><td>Photoshop CC 2020 MasterClass</td><td>Master the World's Best Imaging and Design Application and Become an Adobe Certified Associate.</td><td>45107</td><td>4.6</td><td>8020</td><td>https://www.udemy.com/course/photoshop-cc-masterclass/</td><td>design</td></tr><tr><td>23</td><td>Sketch from A to Z (2020): Become an app designer</td><td>Finally a comprehensive guide to using Sketch for designing mobile applications. Learn to design an app from A to Z.</td><td>27489</td><td>4.7</td><td>7704</td><td>https://www.udemy.com/course/learnsketch3/</td><td>design</td></tr><tr><td>24</td><td>WordPress Theme Development with Bootstrap</td><td>Learn how to confidently develop custom & profitable Responsive WordPress Themes and Websites with no prior experience.</td><td>46795</td><td>4.3</td><td>7501</td><td>https://www.udemy.com/course/bootstrap-to-wordpress/</td><td>design</td></tr><tr><td>25</td><td>Creating 3D environments in Blender</td><td>This course helps you creating wonderful environment scenes, organizing your workflow, and find the right inspiration.</td><td>61021</td><td>4.5</td><td>7481</td><td>https://www.udemy.com/course/blender-environments/</td><td>design</td></tr><tr><td>26</td><td>Photoshop In-Depth: Master all of Photoshop's Tools Easily</td><td>Learn the many tools in Adobe Photoshop with in-depth lectures that explain the tool uses, options + modes in Photoshop.</td><td>165767</td><td>4.4</td><td>7451</td><td>https://www.udemy.com/course/photoshop-tools/</td><td>design</td></tr><tr><td>27</td><td>The Complete App Design Course - UX, UI and Design Thinking</td><td>Learn App Design to Make Beautiful, Lovable Apps</td><td>31444</td><td>4.4</td><td>6848</td><td>https://www.udemy.com/course/the-complete-app-design-course-ux-and-ui-design/</td><td>design</td></tr><tr><td>115</td><td>Fundamentals of Garden Design</td><td>An Introduction to Landscape Design</td><td>6729</td><td>4.4</td><td>1733</td><td>https://www.udemy.com/course/fundamentals-of-garden-design/</td><td>design</td></tr><tr><td>28</td><td>The Ultimate Digital Painting Course - Beginner to Advanced</td><td>Everything from drawing fundamentals to professional painting techniques</td><td>39814</td><td>4.5</td><td>6350</td><td>https://www.udemy.com/course/the-ultimate-digital-painting-course-beginner-to-advanced/</td><td>design</td></tr><tr><td>29</td><td>Become a Game Designer the Complete Series Coding to Design</td><td>Master Unity, 3D game design, 2D game design, coding, C#, game development, 3D animation, programming, level design...</td><td>54712</td><td>4.2</td><td>6299</td><td>https://www.udemy.com/course/become-a-game-designer/</td><td>design</td></tr><tr><td>30</td><td>Landing Page Design & Conversion Rate Optimization 2018</td><td>Triple Your Conversion Rate With These Landing Page Design Principles & Build A Landing Page From Scratch With No Code</td><td>35578</td><td>4.7</td><td>6248</td><td>https://www.udemy.com/course/landing-page-design-best-practices/</td><td>design</td></tr><tr><td>31</td><td>The Complete Graphic Design Theory for Beginners Course</td><td>Learn Graphic Design Theory and the Basic Principles of Color Theory, Typography, Branding, Logo Design, Layout & More!</td><td>26910</td><td>4.6</td><td>6094</td><td>https://www.udemy.com/course/graphic-design-theory-for-beginners-course/</td><td>design</td></tr><tr><td>32</td><td>Crash Course Electronics and PCB Design</td><td>Learn Electronics and PCB Design from the Ground up with Altium CircuitMaker and Labcenter Proteus</td><td>30117</td><td>4.6</td><td>6014</td><td>https://www.udemy.com/course/crash-course-electronics-and-pcb-design/</td><td>design</td></tr><tr><td>33</td><td>DESIGN RULES: Principles + Practices for Great UI Design</td><td>Learn to design powerful user interfaces for apps, sites and systems</td><td>21705</td><td>4.6</td><td>5774</td><td>https://www.udemy.com/course/design-rules/</td><td>design</td></tr><tr><td>34</td><td>Photoshop Beginners Mastery: Zero to Hero in Photoshop</td><td>Learn Photoshop quickly and easily with essentials of Adobe Photoshop to produce beautiful images in Adobe Photoshop.</td><td>215917</td><td>4.3</td><td>5731</td><td>https://www.udemy.com/course/getting-started-in-photoshop/</td><td>design</td></tr><tr><td>35</td><td>How to Work with Interior Design Styles Like a Pro</td><td>Interior Design Styles Demystified</td><td>27388</td><td>4.4</td><td>5717</td><td>https://www.udemy.com/course/learn-how-to-work-with-interior-design-styles-like-a-pro/</td><td>design</td></tr><tr><td>36</td><td>Learn Photoshop, Web Design & Profitable Freelancing</td><td>Learn Photoshop and use it to create amazing website designs and create a high, stable income. No coding needed!</td><td>41283</td><td>4.4</td><td>5614</td><td>https://www.udemy.com/course/learn-photoshop-web-design-profitable-freelancing/</td><td>design</td></tr><tr><td>37</td><td>Learn Adobe Photoshop from Scratch</td><td>The Complete Beginners Guide for Learning Adobe Photoshop</td><td>84955</td><td>4.3</td><td>5443</td><td>https://www.udemy.com/course/learn-adobe-photoshop-from-scratch/</td><td>design</td></tr><tr><td>38</td><td>User Experience (UX): The Ultimate Guide to Usability and UX</td><td>Get a job in UX and build your user research and UX design skills with this hands-on user experience training course.</td><td>19033</td><td>4.6</td><td>5230</td><td>https://www.udemy.com/course/ultimate-guide-to-ux/</td><td>design</td></tr><tr><td>0</td><td>The Complete Digital Marketing Course - 12 Courses in 1</td><td>Master Digital Marketing Strategy, Social Media Marketing, SEO, YouTube, Email, Facebook Marketing, Analytics & More!</td><td>494107</td><td>4.4</td><td>117014</td><td>https://www.udemy.com/course/learn-digital-marketing-course/</td><td>marketing</td></tr><tr><td>1</td><td>Ultimate Google Ads Training 2020: Profit with Pay Per Click</td><td>Google Ads 2020: How our clients have transformed their sales using Google Ads & get your Google Ads certification!</td><td>159200</td><td>4.7</td><td>39979</td><td>https://www.udemy.com/course/the-ultimate-google-adwords-training-course/</td><td>marketing</td></tr><tr><td>2</td><td>Instagram Marketing 2020: Complete Guide To Instagram Growth</td><td>Attract Hyper-Targeted Instagram Followers, Convert Followers to Paying Customers, & Expand your Brand Using Instagram</td><td>128185</td><td>4.4</td><td>24520</td><td>https://www.udemy.com/course/instagram-marketing-for-small-businesses/</td><td>marketing</td></tr><tr><td>3</td><td>Facebook Ads & Facebook Marketing MASTERY 2020 | Coursenvy ®</td><td>Facebook Marketing from beginner to advanced! Join 100,000+ students who MASTERED Facebook and are Facebook Ads experts!</td><td>157240</td><td>4.4</td><td>24351</td><td>https://www.udemy.com/course/facebook-ads-facebook-marketing-mastery-guide/</td><td>marketing</td></tr><tr><td>4</td><td>Digital Marketing Masterclass - 23 Courses in 1</td><td>Grow Your Business with Digital Marketing: Social Media Marketing, Facebook, Content, YouTube, Email Marketing, Websites</td><td>188603</td><td>4.4</td><td>14107</td><td>https://www.udemy.com/course/digital-marketing-masterclass/</td><td>marketing</td></tr><tr><td>5</td><td>SQL for Data Analysis: Weekender Crash Course for Beginners</td><td>Using MySQL but applicable to Oracle SQL, Microsoft SQL Server, and PostgreSQL. Taught by a Data Scientist and PM.</td><td>59684</td><td>4.3</td><td>11851</td><td>https://www.udemy.com/course/sql-for-newbs/</td><td>marketing</td></tr><tr><td>6</td><td>Social Media Marketing MASTERY | Learn Ads on 10+ Platforms</td><td>MASTER online marketing on Twitter, Pinterest, Instagram, YouTube, Facebook, Google and more ad platforms! Coursenvy ®</td><td>80997</td><td>4.4</td><td>11617</td><td>https://www.udemy.com/course/social-media-marketing-ads/</td><td>marketing</td></tr><tr><td>7</td><td>Google Analytics Certification: Become Certified & Earn More</td><td>Become Google Analytics Certified to Land a Job, Get Promoted or Start a New Career in Digital Marketing! 2020 Guide</td><td>75384</td><td>4.5</td><td>11342</td><td>https://www.udemy.com/course/google-analytics-certification/</td><td>marketing</td></tr><tr><td>8</td><td>SEO 2020: Complete SEO Training + SEO for WordPress Websites</td><td>Rank 1 on Google with Technical SEO, 1s Pagespeed, UX SEO, Backlink SEO, Keyword Research SEO + WordPress SEO Training</td><td>63838</td><td>4.4</td><td>11219</td><td>https://www.udemy.com/course/seo-get-to-number1-in-google-search/</td><td>marketing</td></tr><tr><td>9</td><td>The Complete Copywriting Course : Write to Sell Like a Pro</td><td>Write Effective Sales Copy & Grow Your Business & Career // Access Timeless Copywriting Formulas, Templates & FREE Tools</td><td>35975</td><td>4.6</td><td>9604</td><td>https://www.udemy.com/course/the-complete-copywriting-course/</td><td>marketing</td></tr><tr><td>10</td><td>Social Media Marketing - Complete Certificate Course</td><td>The comprehensive social media course, beginner to advanced. Go viral, get started today!</td><td>46693</td><td>4.2</td><td>9312</td><td>https://www.udemy.com/course/learn-social-media-marketing-course/</td><td>marketing</td></tr><tr><td>11</td><td>YouTube Masterclass - Your Complete Guide to YouTube</td><td>Complete guide to starting a YouTube channel, getting more views & subscribers, and building a brand with videos!</td><td>157356</td><td>4.3</td><td>7886</td><td>https://www.udemy.com/course/youtube-masterclass/</td><td>marketing</td></tr><tr><td>12</td><td>ClickBank Success – Affiliate Marketing Without A Website</td><td>Learn and model my proven system for success as a ClickBank affiliate. No hidden secrets - I reveal it all!</td><td>32953</td><td>4.4</td><td>6987</td><td>https://www.udemy.com/course/clickbank-affiliate-marketing-success/</td><td>marketing</td></tr><tr><td>13</td><td>Instagram Marketing 2020: Hashtags, Live, Stories, Ads &more</td><td>Watch me take an account from an idea to 40k followers in 4 months. 14 hours instruction, 8 hours of BTS videos</td><td>73872</td><td>4.4</td><td>6826</td><td>https://www.udemy.com/course/instagram-masterclass-grow-your-account-complete-guide/</td><td>marketing</td></tr><tr><td>14</td><td>[2020] Growth Hacking with Digital Marketing (Version 7.2)</td><td>Become a growth hacker! This course is used by teams at PayPal®, IBM®, Citibank® & many other successful organizations!</td><td>44930</td><td>4.5</td><td>5324</td><td>https://www.udemy.com/course/growth-hacking-masterclass-become-a-digital-marketing-ninja/</td><td>marketing</td></tr><tr><td>15</td><td>Copywriting secrets - How to write copy that sells</td><td>Discover the secrets of copywriting success from the master. From novice to pro in easy stages</td><td>37296</td><td>4.4</td><td>5148</td><td>https://www.udemy.com/course/copywriting-secrets/</td><td>marketing</td></tr><tr><td>16</td><td>Mega Digital Marketing Course A-Z: 12 Courses in 1 + Updates</td><td>Digital Marketing Strategy, Social Media Marketing, WordPress, SEO, Digital Sale, Email, Instagram, Facebook, ads ..</td><td>32765</td><td>4.4</td><td>4989</td><td>https://www.udemy.com/course/digital-marketing-strategy-course-wordpress-seo-instagram-facebook/</td><td>marketing</td></tr><tr><td>17</td><td>Social Media Management - The Complete 2019 Manager Bootcamp</td><td>Become a freelance social media manager | Start a management business | Work from anywhere | Achieve financial freedom</td><td>19260</td><td>4.4</td><td>4883</td><td>https://www.udemy.com/course/social-media-management-complete-manager-bootcamp/</td><td>marketing</td></tr><tr><td>18</td><td>Complete SEO Training With Top SEO Expert Peter Kent!</td><td>Win The SEO Game & Dominate The Search Engines With the Author of Best-Selling Search Engine Optimization for Dummies.</td><td>32573</td><td>4.4</td><td>4257</td><td>https://www.udemy.com/course/search-engine-optimization-for-beginners-seo-that-works/</td><td>marketing</td></tr><tr><td>19</td><td>Seth Godin on Presenting to Persuade</td><td>Build your business, make your point, sell your idea</td><td>11857</td><td>4.4</td><td>4142</td><td>https://www.udemy.com/course/seth-godin-on-powerful-presentations/</td><td>marketing</td></tr><tr><td>20</td><td>2020 Complete SEO Guide to Ranking Local Business Websites</td><td>Watch over my shoulder as I redesign and rank a real live client local business website on the 1st page of Google</td><td>25317</td><td>4.4</td><td>3611</td><td>https://www.udemy.com/course/rank-local-business-websites/</td><td>marketing</td></tr><tr><td>21</td><td>SEO Training: Get Free Traffic to Your Website With SEO</td><td>SEO Training to Rank #1 in Google. SEO Audit, Keyword Research, On Page SEO, Link Building, WordPress SEO & More!</td><td>36736</td><td>4.3</td><td>3586</td><td>https://www.udemy.com/course/seo-roadmap/</td><td>marketing</td></tr><tr><td>22</td><td>Digital Marketing Certification: Master Digital Marketing</td><td>Join Over 100.000 Students Who Have Already Learned All The Secrets of Digital Marketing. Be a Digital Marketing Expert!</td><td>128037</td><td>4.2</td><td>3606</td><td>https://www.udemy.com/course/digital-marketing-seo-google-ads-google-analytics-monitoring/</td><td>marketing</td></tr><tr><td>23</td><td>How Retargeting Works–The Complete Guide To Retargeting Ads!</td><td>What Is Retargeting and How Does It Work? Learn Remarketing Secrets That Will Help You Convert Your Abandoning Visitors!</td><td>25531</td><td>4.7</td><td>3475</td><td>https://www.udemy.com/course/how-retargeting-works/</td><td>marketing</td></tr><tr><td>24</td><td>Social Media Marketing - Content Marketing Masterclass 2020</td><td>Online Digital Marketing / Social Media Strategy For Beginners - Posts / Blogs / Podcasts / Video / Google Local SEO</td><td>24208</td><td>4.3</td><td>3473</td><td>https://www.udemy.com/course/social-media-marketing-masterclass/</td><td>marketing</td></tr><tr><td>25</td><td>How to Create Animated Videos with Powerpoint</td><td>Learn an easy way to create video animation with PowerPoint for business, marketing, online courses, YouTube and more</td><td>12539</td><td>4.6</td><td>2986</td><td>https://www.udemy.com/course/powerpoint-video/</td><td>marketing</td></tr><tr><td>3654</td><td>Email Marketing Made Simple</td><td>Learn the Basics & Fundamentals and Advanced Techniques of Email Marketing</td><td>13</td><td>4.3</td><td>3</td><td>https://www.udemy.com/course/email-marketing-made-simple/</td><td>marketing</td></tr><tr><td>26</td><td>Google AdWords for Beginners 2020</td><td>Learn how to effectively use AdWords to reach more customers online and grow your business.</td><td>23200</td><td>4.2</td><td>2978</td><td>https://www.udemy.com/course/learn-google-adwords-course-for-beginners/</td><td>marketing</td></tr><tr><td>27</td><td>The Complete Facebook Ads Course - Beginner to Advanced</td><td>Master Facebook Advertising and Grow Any Business - Facebook Marketing Strategy, Ad Retargeting, Remarketing & More!</td><td>15753</td><td>4.5</td><td>2931</td><td>https://www.udemy.com/course/facebook-ads-course-beginner-to-advanced/</td><td>marketing</td></tr><tr><td>28</td><td>Content Marketing: Grow Your Business with Content Marketing</td><td>Learn how to use modern content marketing to grow your business and brand! Come up with your own Content Marketing plan!</td><td>165793</td><td>4.4</td><td>2695</td><td>https://www.udemy.com/course/content-marketing-for-beginners/</td><td>marketing</td></tr><tr><td>29</td><td>The Complete Facebook Ads & Marketing Course</td><td>The #1 Guide to Facebook Advertising & Marketing - Join 50,000+ students who are selling with Ads right now!</td><td>83926</td><td>4.1</td><td>2650</td><td>https://www.udemy.com/course/facebook-advertising/</td><td>marketing</td></tr><tr><td>30</td><td>Instagram Marketing 2020 | Grow Organic Followers Naturally!</td><td>Grow Organic Targeted Followers, Quick Brand Awareness, & Turn Page Visits Into Paying Customers w/ Instagram Marketing</td><td>90917</td><td>4.2</td><td>2626</td><td>https://www.udemy.com/course/2020-millennial-insta-marketing-grow-10k-organic-followers/</td><td>marketing</td></tr><tr><td>31</td><td>Modern Copywriting: Writing copy that sells in 2020</td><td>Learn how to strategically deliver words that get people to take action using the art and science of copywriting.</td><td>28076</td><td>4.4</td><td>2535</td><td>https://www.udemy.com/course/modern-copywriting-writing-copy-that-sells-in-2018/</td><td>marketing</td></tr><tr><td>32</td><td>Writing Tools & Hacks: Copywriting/Blogging/Content Writing</td><td>The best FREE writing tools & apps + Hacks to take your copywriting, blogging, & content writing to the next level.</td><td>14065</td><td>4.2</td><td>2498</td><td>https://www.udemy.com/course/writing-tools-hacks/</td><td>marketing</td></tr><tr><td>33</td><td>SEO:Amazon Affiliate Marketing+SEO |250+ Videos |18.0 Hours</td><td>Build Amazon Affiliate Marketing Sites - Niche & Keyword Research, Link Building, Silo Architecture, WordPress SEO</td><td>23704</td><td>4.4</td><td>2408</td><td>https://www.udemy.com/course/seo-complete-guide-to-building-amazon-affiliate-sites/</td><td>marketing</td></tr><tr><td>34</td><td>Business Branding: The Complete Course Part 1 - Strategy</td><td>Build A Strategic Brand From The Ground Up, To Catapult Your Marketing Impact</td><td>9185</td><td>4.6</td><td>2399</td><td>https://www.udemy.com/course/business-branding-complete-course/</td><td>marketing</td></tr><tr><td>35</td><td>Social Media Marketing Agency : Digital Marketing + Business</td><td>Learn to build a business, find clients, & social media marketing all in one. Facebook ads, Instagram, Google ads & ...</td><td>34246</td><td>4.5</td><td>2380</td><td>https://www.udemy.com/course/social-media-marketing-agency-digital-business-facebook-ads-instagram/</td><td>marketing</td></tr><tr><td>36</td><td>The Complete MailChimp Email Marketing Course</td><td>Learn how to use Mailchimp, grow an email subscriber list and build high quality email marketing campaigns!</td><td>16015</td><td>4.3</td><td>2376</td><td>https://www.udemy.com/course/mailchimp-email-marketing/</td><td>marketing</td></tr><tr><td>37</td><td>Copywriting - Become a Freelance Copywriter, your own boss</td><td>Build a successful freelance copywriting business - turn basic writing skills into a paycheck.</td><td>30589</td><td>4.2</td><td>2297</td><td>https://www.udemy.com/course/how-to-become-a-copywriter-from-home/</td><td>marketing</td></tr><tr><td>38</td><td>SEO For WordPress [Beginners]: #1 Step-by-Step SEO System</td><td>\"\"\"SEO For WordPress: Discover How to Easily Get Your Website on Page #1 of Google</td><td> Yahoo! & Bing ..Fast!\"</td><td>31327</td><td>4.5</td><td>2279</td><td>marketing</td></tr><tr><td>0</td><td>Cinematography Course: Shoot Expert Video on Any Camera</td><td>Your Online Guide to Professional Cinematography. Learn to Shoot Stunning Video Like a Professional With Any Camera.</td><td>7983</td><td>4.5</td><td>2335</td><td>https://www.udemy.com/course/cinematographycourse/</td><td>photography</td></tr><tr><td>1</td><td>Adobe Premiere Pro CC 2020: Video Editing for Beginners</td><td>Learn how to edit amazing videos in Adobe Premiere Pro CC 2020 with zero experience.</td><td>203666</td><td>4.5</td><td>2320</td><td>https://www.udemy.com/course/premiere-pro-with-brad-newton/</td><td>photography</td></tr><tr><td>2</td><td>The Complete Final Cut Pro X Course Beginner To Intermediate</td><td>In this complete course students will learn how to edit their videos using Final Cut Pro X from beginner to intermediate</td><td>17236</td><td>4.4</td><td>2111</td><td>https://www.udemy.com/course/finalcutproxcourse/</td><td>photography</td></tr><tr><td>3</td><td>Photography - Become a Better Photographer - Part I</td><td>See results today! 50 photography tips for taking amazing photos with your DSLR, Mirrorless or compact camera.</td><td>14264</td><td>4.7</td><td>1663</td><td>https://www.udemy.com/course/great-photography-tips-photo-tutorials/</td><td>photography</td></tr><tr><td>4</td><td>GIMP 2.10 Masterclass: From Beginner to Pro Photo Editing</td><td>GIMP 2.10 Complete Guide - Learn the Free Photo Editor GIMP. Go From a Beginner to Pro in Photo Editing & Graphic Design</td><td>6314</td><td>4.6</td><td>1598</td><td>https://www.udemy.com/course/gimp-photo-editing/</td><td>photography</td></tr><tr><td>5</td><td>Wedding Photography: Complete Guide to Wedding Photography</td><td>Learn exactly how to become a wedding photographer, start a photo business of your own, and shoot better wedding photos.</td><td>74287</td><td>4.6</td><td>1587</td><td>https://www.udemy.com/course/wedding-photography-course/</td><td>photography</td></tr><tr><td>6</td><td>Night Photography: You Can Shoot Stunning Night Photos</td><td>You will shoot amazing night photos that impress your family and friends with this complete night photography course!</td><td>93955</td><td>4.4</td><td>1586</td><td>https://www.udemy.com/course/night-photography/</td><td>photography</td></tr><tr><td>7</td><td>VIDEO CINEMATOGRAPHY techniques loved by pro filmmakers</td><td>Creative video. Learn what pro broadcast camera ops do to grab and excite an audience. Taught by a pro broadcaster</td><td>7843</td><td>4.5</td><td>1564</td><td>https://www.udemy.com/course/motivate-inspire-and-empower-your-video-audience/</td><td>photography</td></tr><tr><td>8</td><td>Learn Landscape Photography</td><td>Get inspired | Learn more | Go places</td><td>31947</td><td>3.8</td><td>1553</td><td>https://www.udemy.com/course/learn-landscapes/</td><td>photography</td></tr><tr><td>9</td><td>Complete Photography : 21 Courses in 1 [Beginner to Expert]</td><td>Learn Portrait Photography, Landscape Photography, Stock Photography, Photography Composition, Black and White, and more</td><td>69461</td><td>4.3</td><td>1462</td><td>https://www.udemy.com/course/interactive-photography-basics/</td><td>photography</td></tr><tr><td>10</td><td>Adobe Lightroom CC + Classic // Learn Photo Editing by Pro</td><td>Lightroom - Learn all my Lightroom CC Classic secrets & photo editing techniques. Get organized & make your images pop!</td><td>12372</td><td>4.5</td><td>1443</td><td>https://www.udemy.com/course/master-adobe-lightroom-6-in-1-day/</td><td>photography</td></tr><tr><td>11</td><td>Long Exposure Photography: Shoot Your Own Stunning Photos</td><td>A quick start long exposure tutorial that will get you shooting beautiful photographs with your DSLR and iPhone cameras.</td><td>20797</td><td>4.8</td><td>1403</td><td>https://www.udemy.com/course/long-exposure-photography-tutorial/</td><td>photography</td></tr><tr><td>12</td><td>Color Grading with Da Vinci Resolve: Beginner to Advanced</td><td>Learn to grade like a professional with hands-on projects and guidance!</td><td>7739</td><td>4.4</td><td>1327</td><td>https://www.udemy.com/course/color-grading-with-da-vinci-resolve-beginner-to-advanced/</td><td>photography</td></tr><tr><td>13</td><td>Street Photography: How I approach people on the streets...</td><td>Learn how to get over your fear, how to approach people and how to improve the creativity and quality of your photos.</td><td>31866</td><td>4.3</td><td>1320</td><td>https://www.udemy.com/course/streetphotography/</td><td>photography</td></tr><tr><td>14</td><td>Photography Composition & Portrait Photography Masterclass</td><td>Studio Photography Lighting / Street Photography / Creative Photography / DSLR Photography / Black & White Photography</td><td>11280</td><td>4.6</td><td>1265</td><td>https://www.udemy.com/course/creative-photography-composition-masterclass/</td><td>photography</td></tr><tr><td>15</td><td>Phantom & Mavic Filmschool 1- master autopilot with Litchi</td><td>Use autopilot to get amazing cinematic shots with your drone. You will master the Litchi app & take pro footage!</td><td>4316</td><td>4.6</td><td>1252</td><td>https://www.udemy.com/course/phantom-filmschool/</td><td>photography</td></tr><tr><td>0</td><td>2020 Complete Python Bootcamp: From Zero to Hero in Python</td><td>Learn Python like a Professional! Start from the basics and go all the way to creating your own applications and games!</td><td>1100093</td><td>4.6</td><td>318066</td><td>https://www.udemy.com/course/complete-python-bootcamp/</td><td>tech</td></tr><tr><td>1</td><td>The Web Developer Bootcamp</td><td>The only course you need to learn web development - HTML, CSS, JS, Node, and More!</td><td>596726</td><td>4.6</td><td>182997</td><td>https://www.udemy.com/course/the-web-developer-bootcamp/</td><td>tech</td></tr><tr><td>2</td><td>Machine Learning A-Z™: Hands-On Python & R In Data Science</td><td>Learn to create Machine Learning Algorithms in Python and R from two Data Science experts. Code templates included.</td><td>692812</td><td>4.5</td><td>132228</td><td>https://www.udemy.com/course/machinelearning/</td><td>tech</td></tr><tr><td>3</td><td>Angular - The Complete Guide (2020 Edition)</td><td>\"Master Angular 10 (formerly \"\"Angular 2\"\") and build awesome</td><td> reactive web apps with the successor of Angular.js\"</td><td>422557</td><td>4.6</td><td>129984</td><td>tech</td></tr><tr><td>4</td><td>Java Programming Masterclass for Software Developers</td><td>Learn Java In This Course And Become a Computer Programmer. Obtain valuable Core Java Skills And Java Certification</td><td>502572</td><td>4.6</td><td>123798</td><td>https://www.udemy.com/course/java-the-complete-java-developer-course/</td><td>tech</td></tr><tr><td>5</td><td>React - The Complete Guide (incl Hooks, React Router, Redux)</td><td>Dive in and learn React.js from scratch! Learn Reactjs, Hooks, Redux, React Routing, Animations, Next.js and way more!</td><td>304670</td><td>4.6</td><td>90964</td><td>https://www.udemy.com/course/react-the-complete-guide-incl-redux/</td><td>tech</td></tr><tr><td>6</td><td>The Complete 2020 Web Development Bootcamp</td><td>Become a full-stack web developer with just one course. HTML, CSS, Javascript, Node, React, MongoDB and more!</td><td>270656</td><td>4.7</td><td>88098</td><td>https://www.udemy.com/course/the-complete-web-development-bootcamp/</td><td>tech</td></tr><tr><td>7</td><td>Python for Data Science and Machine Learning Bootcamp</td><td>Learn how to use NumPy, Pandas, Seaborn , Matplotlib , Plotly , Scikit-Learn , Machine Learning, Tensorflow , and more!</td><td>387789</td><td>4.6</td><td>87403</td><td>https://www.udemy.com/course/python-for-data-science-and-machine-learning-bootcamp/</td><td>tech</td></tr><tr><td>8</td><td>The Complete JavaScript Course 2020: Build Real Projects!</td><td>Master JavaScript with the most complete course! Projects, challenges, quizzes, JavaScript ES6+, OOP, AJAX, Webpack</td><td>347979</td><td>4.6</td><td>83521</td><td>https://www.udemy.com/course/the-complete-javascript-course/</td><td>tech</td></tr><tr><td>9</td><td>Complete C# Unity Game Developer 2D</td><td>Learn Unity in C# & Code Your First Seven 2D Video Games for Web, Mac & PC. The Tutorials Cover Tilemap (35 hours)</td><td>364934</td><td>4.6</td><td>78989</td><td>https://www.udemy.com/course/unitycourse/</td><td>tech</td></tr><tr><td>10</td><td>The Data Science Course 2020: Complete Data Science Bootcamp</td><td>Complete Data Science Training: Mathematics, Statistics, Python, Advanced Statistics in Python, Machine & Deep Learning</td><td>325047</td><td>4.5</td><td>76907</td><td>https://www.udemy.com/course/the-data-science-course-complete-data-science-bootcamp/</td><td>tech</td></tr><tr><td>11</td><td>Automate the Boring Stuff with Python Programming</td><td>A practical programming course for office workers, academics, and administrators who want to improve their productivity.</td><td>692617</td><td>4.6</td><td>70508</td><td>https://www.udemy.com/course/automate/</td><td>tech</td></tr><tr><td>12</td><td>The Complete Web Developer Course 2.0</td><td>Learn Web Development by building 25 websites and mobile apps using HTML, CSS, Javascript, PHP, Python, MySQL & more!</td><td>273598</td><td>4.5</td><td>63175</td><td>https://www.udemy.com/course/the-complete-web-developer-course-2/</td><td>tech</td></tr><tr><td>13</td><td>Modern React with Redux [2020 Update]</td><td>Master React v16.6.3 and Redux with React Router, Webpack, and Create-React-App. Includes Hooks!</td><td>203214</td><td>4.7</td><td>60835</td><td>https://www.udemy.com/course/react-redux/</td><td>tech</td></tr><tr><td>14</td><td>Learn Python Programming Masterclass</td><td>This Python For Beginners Course Teaches You The Python Language Fast. Includes Python Online Training With Python 3</td><td>240790</td><td>4.5</td><td>58677</td><td>https://www.udemy.com/course/python-the-complete-python-developer-course/</td><td>tech</td></tr><tr><td>15</td><td>The Complete Node.js Developer Course (3rd Edition)</td><td>Learn Node.js by building real-world applications with Node, Express, MongoDB, Jest, and more!</td><td>202922</td><td>4.7</td><td>50885</td><td>https://www.udemy.com/course/the-complete-nodejs-developer-course-2/</td><td>tech</td></tr><tr><td>16</td><td>iOS 13 & Swift 5 - The Complete iOS App Development Bootcamp</td><td>From Beginner to iOS App Developer with Just One Course! Fully Updated with a Comprehensive Module Dedicated to SwiftUI!</td><td>179598</td><td>4.8</td><td>49972</td><td>https://www.udemy.com/course/ios-13-app-development-bootcamp/</td><td>tech</td></tr><tr><td>17</td><td>Selenium WebDriver with Java -Basics to Advanced+Frameworks</td><td>\"\"\"TOP RATED (BEST SELLER) #1 Master SELENIUM java course\"\" -5 Million students learning worldWide with great collaboration\"</td><td>148562</td><td>4.6</td><td>49947</td><td>https://www.udemy.com/course/selenium-real-time-examplesinterview-questions/</td><td>tech</td></tr><tr><td>18</td><td>Unreal Engine C++ Developer: Learn C++ and Make Video Games</td><td>Created in collaboration with Epic Games. Learn C++ from basics while making your first 4 video games in Unreal</td><td>229005</td><td>4.5</td><td>45860</td><td>https://www.udemy.com/course/unrealcourse/</td><td>tech</td></tr><tr><td>19</td><td>The Ultimate MySQL Bootcamp: Go from SQL Beginner to Expert</td><td>Become an In-demand SQL Master by creating complex databases and building reports through real-world projects</td><td>203366</td><td>4.6</td><td>45382</td><td>https://www.udemy.com/course/the-ultimate-mysql-bootcamp-go-from-sql-beginner-to-expert/</td><td>tech</td></tr><tr><td>20</td><td>Spring & Hibernate for Beginners (includes Spring Boot)</td><td>Spring 5: Learn Spring 5 Core, AOP, Spring MVC, Spring Security, Spring REST, Spring Boot 2, Thymeleaf, JPA & Hibernate</td><td>177053</td><td>4.6</td><td>45329</td><td>https://www.udemy.com/course/spring-hibernate-tutorial/</td><td>tech</td></tr><tr><td>21</td><td>Build Responsive Real World Websites with HTML5 and CSS3</td><td>The easiest way to learn modern web design, HTML5 and CSS3 step-by-step from scratch. Design AND code a huge project.</td><td>197609</td><td>4.6</td><td>44710</td><td>https://www.udemy.com/course/design-and-develop-a-killer-website-with-html5-and-css3/</td><td>tech</td></tr><tr><td>22</td><td>The Python Mega Course: Build 10 Real World Applications</td><td>A complete Python course for both beginners and intermediates! Master Python 3 by making 10 amazing Python apps.</td><td>196701</td><td>4.5</td><td>42713</td><td>https://www.udemy.com/course/the-python-mega-course/</td><td>tech</td></tr><tr><td>23</td><td>Docker Mastery: with Kubernetes +Swarm from a Docker Captain</td><td>Build, test, deploy containers with the best mega-course on Docker, Kubernetes, Compose, Swarm and Registry using DevOps</td><td>190291</td><td>4.6</td><td>41383</td><td>https://www.udemy.com/course/docker-mastery/</td><td>tech</td></tr><tr><td>24</td><td>Vue - The Complete Guide (w/ Router, Vuex, Composition API)</td><td>Vue.js is an awesome JavaScript Framework for building Frontend Applications! VueJS mixes the Best of Angular + React!</td><td>138636</td><td>4.7</td><td>41054</td><td>https://www.udemy.com/course/vuejs-2-the-complete-guide/</td><td>tech</td></tr><tr><td>25</td><td>The Complete Web Developer in 2020: Zero to Mastery</td><td>Learn to code and become a Web Developer in 2020 with HTML, CSS, Javascript, React, Node.js, Machine Learning & more!</td><td>138822</td><td>4.7</td><td>40976</td><td>https://www.udemy.com/course/the-complete-web-developer-zero-to-mastery/</td><td>tech</td></tr><tr><td>26</td><td>JavaScript: Understanding the Weird Parts</td><td>An advanced JavaScript course for everyone! Scope, closures, prototypes, 'this', build your own framework, and more.</td><td>152004</td><td>4.7</td><td>39102</td><td>https://www.udemy.com/course/understand-javascript/</td><td>tech</td></tr><tr><td>9358</td><td>PHP 101</td><td>PHP Coding for Beginners</td><td>514</td><td>4.7</td><td>12</td><td>https://www.udemy.com/course/introduction-to-php-101/</td><td>tech</td></tr><tr><td>27</td><td>C# Basics for Beginners: Learn C# Fundamentals by Coding</td><td>Master C# fundamentals in 6 hours - The most popular course with 50,000+ students, packed with tips and exercises!</td><td>124918</td><td>4.5</td><td>38450</td><td>https://www.udemy.com/course/csharp-tutorial-for-beginners/</td><td>tech</td></tr><tr><td>28</td><td>R Programming A-Z™: R For Data Science With Real Exercises!</td><td>Learn Programming In R And R Studio. Data Analytics, Data Science, Statistical Analysis, Packages, Functions, GGPlot2</td><td>188765</td><td>4.6</td><td>35635</td><td>https://www.udemy.com/course/r-programming/</td><td>tech</td></tr><tr><td>29</td><td>The Complete React Native + Hooks Course [2020 Edition]</td><td>Understand React Native v0.62.2 with Hooks, Context, and React Navigation.</td><td>130527</td><td>4.6</td><td>34178</td><td>https://www.udemy.com/course/the-complete-react-native-and-redux-course/</td><td>tech</td></tr><tr><td>30</td><td>Python and Django Full Stack Web Developer Bootcamp</td><td>Learn to build websites with HTML , CSS , Bootstrap , Javascript , jQuery , Python 3 , and Django!</td><td>130584</td><td>4.5</td><td>33670</td><td>https://www.udemy.com/course/python-and-django-full-stack-web-developer-bootcamp/</td><td>tech</td></tr><tr><td>31</td><td>Deep Learning A-Z™: Hands-On Artificial Neural Networks</td><td>Learn to create Deep Learning Algorithms in Python from two Machine Learning & Data Science experts. Templates included.</td><td>278698</td><td>4.5</td><td>33454</td><td>https://www.udemy.com/course/deeplearning/</td><td>tech</td></tr><tr><td>32</td><td>Docker and Kubernetes: The Complete Guide</td><td>Build, test, and deploy Docker applications with Kubernetes while learning production-style development workflows</td><td>149882</td><td>4.7</td><td>31822</td><td>https://www.udemy.com/course/docker-and-kubernetes-the-complete-guide/</td><td>tech</td></tr><tr><td>33</td><td>iOS 11 & Swift 4 - The Complete iOS App Development Bootcamp</td><td>Learn iOS 11 App Development From Beginning to End. Using Xcode 9 and Swift 4. Includes Full ARKit and CoreML Modules!</td><td>116136</td><td>4.6</td><td>31265</td><td>https://www.udemy.com/course/ios11-app-development-bootcamp/</td><td>tech</td></tr><tr><td>34</td><td>The Python Bible™ | Everything You Need to Program in Python</td><td>Build 11 Projects and go from Beginner to Pro in Python with the World's Most Fun Project-Based Python Course!</td><td>103624</td><td>4.6</td><td>29516</td><td>https://www.udemy.com/course/the-python-bible/</td><td>tech</td></tr><tr><td>35</td><td>Beginning C++ Programming - From Beginner to Beyond</td><td>Obtain Modern C++ Object-Oriented Programming (OOP) and STL skills needed for game, system, and application development.</td><td>108689</td><td>4.6</td><td>29286</td><td>https://www.udemy.com/course/beginning-c-plus-plus-programming/</td><td>tech</td></tr><tr><td>36</td><td>Data Science A-Z™: Real-Life Data Science Exercises Included</td><td>Learn Data Science step by step through real Analytics examples. Data Mining, Modeling, Tableau Visualization and more!</td><td>180119</td><td>4.6</td><td>27767</td><td>https://www.udemy.com/course/datascience/</td><td>tech</td></tr><tr><td>37</td><td>Flutter & Dart - The Complete Guide [2020 Edition]</td><td>A Complete Guide to the Flutter SDK & Flutter Framework for building native iOS and Android apps</td><td>99991</td><td>4.6</td><td>27084</td><td>https://www.udemy.com/course/learn-flutter-dart-to-build-ios-android-apps/</td><td>tech</td></tr><tr><td>38</td><td>The Complete Android N Developer Course</td><td>Learn Android App Development with Android 7 Nougat by building real apps including Uber, Whatsapp and Instagram!</td><td>145069</td><td>4.4</td><td>26788</td><td>https://www.udemy.com/course/complete-android-n-developer-course/</td><td>tech</td></tr></tbody></table></div>"
      ]
     },
     "metadata": {
      "application/vnd.databricks.v1+output": {
       "addedWidgets": {},
       "aggData": [],
       "aggError": "",
       "aggOverflow": false,
       "aggSchema": [],
       "aggSeriesLimitReached": false,
       "aggType": "",
       "arguments": {},
       "columnCustomDisplayInfos": {},
       "data": [
        [
         "0",
         "The Complete SQL Bootcamp 2020: Go from Zero to Hero",
         "Become an expert at SQL!",
         "301243",
         "4.7",
         "79919",
         "https://www.udemy.com/course/the-complete-sql-bootcamp/",
         "bussiness"
        ],
        [
         "1",
         "Tableau 2020 A-Z: Hands-On Tableau Training for Data Science",
         "Learn Tableau 2020 for data science step by step. Real-life data analytics exercises & quizzes included. Learn by doing!",
         "211674",
         "4.6",
         "55582",
         "https://www.udemy.com/course/tableau10/",
         "bussiness"
        ],
        [
         "2",
         "PMP Exam Prep Seminar - PMBOK Guide 6",
         "PMP Exam Prep Seminar - Earn 35 PDUs by completing the entire PMP course",
         "157957",
         "4.6",
         "53858",
         "https://www.udemy.com/course/pmp-pmbok6-35-pdus/",
         "bussiness"
        ],
        [
         "3",
         "The Complete Financial Analyst Course 2020",
         "Excel, Accounting, Financial Statement Analysis, Business Analysis, Financial Math, PowerPoint: Everything is Included!",
         "249097",
         "4.5",
         "47415",
         "https://www.udemy.com/course/the-complete-financial-analyst-course/",
         "bussiness"
        ],
        [
         "4",
         "An Entire MBA in 1 Course:Award Winning Business School Prof",
         "** #1 Best Selling Business Course! ** Everything You Need to Know About Business from Start-up to IPO",
         "376913",
         "4.5",
         "42101",
         "https://www.udemy.com/course/an-entire-mba-in-1-courseaward-winning-business-school-prof/",
         "bussiness"
        ],
        [
         "5",
         "Microsoft Power BI - A Complete Introduction [2020 EDITION]",
         "Learn how to use Microsoft's Power BI Tools, including Power BI Desktop, Power BI Pro (Service) and PowerBI Developer",
         "126880",
         "4.6",
         "38771",
         "https://www.udemy.com/course/powerbi-complete-introduction/",
         "bussiness"
        ],
        [
         "6",
         "Agile Crash Course: Agile Project Management; Agile Delivery",
         "Get Agile Certified & Learn about the key and most important concepts and tools of Agile Project Management (Scrum)",
         "98700",
         "4.3",
         "31276",
         "https://www.udemy.com/course/agile-crash-course/",
         "bussiness"
        ],
        [
         "7",
         "Beginner to Pro in Excel: Financial Modeling and Valuation",
         "Financial Modeling in Excel that would allow you to walk into a job and be a rockstar from day one!",
         "128940",
         "4.5",
         "29111",
         "https://www.udemy.com/course/beginner-to-pro-in-excel-financial-modeling-and-valuation/",
         "bussiness"
        ],
        [
         "8",
         "Become a Product Manager | Learn the Skills & Get the Job",
         "The most complete course available on Product Management. 13+ hours of videos, activities, interviews, & more",
         "114114",
         "4.5",
         "27879",
         "https://www.udemy.com/course/become-a-product-manager-learn-the-skills-get-a-job/",
         "bussiness"
        ],
        [
         "9",
         "The Business Intelligence Analyst Course 2020",
         "The skills you need to become a BI Analyst - Statistics, Database theory, SQL, Tableau – Everything is included",
         "118019",
         "4.5",
         "24582",
         "https://www.udemy.com/course/the-business-intelligence-analyst-course-2018/",
         "bussiness"
        ],
        [
         "10",
         "Microsoft Power BI - Up & Running With Power BI Desktop",
         "Transform, analyze & visualize data with Microsoft Power BI Desktop: hands-on demos, projects & 1-on-1 Power BI support",
         "89006",
         "4.6",
         "24388",
         "https://www.udemy.com/course/microsoft-power-bi-up-running-with-power-bi-desktop/",
         "bussiness"
        ],
        [
         "11",
         "Business Analysis Fundamentals",
         "Set yourself up for success, learn the key business analysis concepts to thrive in your Business Analyst career",
         "83310",
         "4.5",
         "23743",
         "https://www.udemy.com/course/business-analysis-ba/",
         "bussiness"
        ],
        [
         "12",
         "Leadership: Practical Leadership Skills",
         "Master leadership skills and leadership techniques with this highly practical advice and training",
         "69860",
         "4.6",
         "23283",
         "https://www.udemy.com/course/practical-leadership/",
         "bussiness"
        ],
        [
         "13",
         "The Complete Foundation Stock Trading Course",
         "Learn To Trade The Stock Market by A Trading Firm CEO. Inc: Technical Analysis, Candlesticks, Stocks, Day Trading +++",
         "79089",
         "4.5",
         "22204",
         "https://www.udemy.com/course/foundation-course/",
         "bussiness"
        ],
        [
         "14",
         "SQL - MySQL for Data Analytics and Business Intelligence",
         "SQL that will get you hired – SQL for Business Analysis, Marketing, and Data Management",
         "80470",
         "4.6",
         "21951",
         "https://www.udemy.com/course/sql-mysql-for-data-analytics-and-business-intelligence/",
         "bussiness"
        ],
        [
         "15",
         "The Complete Financial Analyst Training & Investing Course",
         "Succeed as a Financial Analyst &Investor by Award Winning MBA Prof who worked @Goldman, in Hedge Funds & Venture Capital",
         "183645",
         "4.5",
         "21807",
         "https://www.udemy.com/course/the-complete-financial-analyst-training-and-investing-course/",
         "bussiness"
        ],
        [
         "16",
         "The Ultimate Hands-On Hadoop - Tame your Big Data!",
         "Hadoop tutorial with MapReduce, HDFS, Spark, Flink, Hive, HBase, MongoDB, Cassandra, Kafka + more! Over 25 technologies.",
         "116200",
         "4.6",
         "21636",
         "https://www.udemy.com/course/the-ultimate-hands-on-hadoop-tame-your-big-data/",
         "bussiness"
        ],
        [
         "17",
         "The Complete Investment Banking Course 2020",
         "The #1 Course to Land a Job in Investment Banking. IPOs, Bonds, M&A, Trading, LBOs, Valuation: Everything is included!",
         "89441",
         "4.5",
         "20326",
         "https://www.udemy.com/course/the-complete-investment-banking-course-2016/",
         "bussiness"
        ],
        [
         "18",
         "How to Start an Amazon FBA Store on a Tight Budget",
         "The complete Amazon selling blueprint. Start a brand new career today, even if you are on a very small start-up budget.",
         "73088",
         "4.6",
         "19524",
         "https://www.udemy.com/course/sell-on-amazon-as-small-start-up/",
         "bussiness"
        ],
        [
         "19",
         "Deep Learning Prerequisites: The Numpy Stack in Python (V2+)",
         "The Numpy, Scipy, Pandas, and Matplotlib stack: prep for deep learning, machine learning, and artificial intelligence",
         "239470",
         "4.5",
         "18388",
         "https://www.udemy.com/course/deep-learning-prerequisites-the-numpy-stack-in-python/",
         "bussiness"
        ],
        [
         "20",
         "Python for Finance: Investment Fundamentals & Data Analytics",
         "Learn Python Programming and Conduct Real-World Financial Analysis in Python - Complete Python Training",
         "84195",
         "4.5",
         "17929",
         "https://www.udemy.com/course/python-for-finance-investment-fundamentals-data-analytics/",
         "bussiness"
        ],
        [
         "21",
         "Introduction to Finance, Accounting, Modeling and Valuation",
         "Learn Finance & Accounting from Scratch by an Award Winning MBA Professor, Ivy Grad, worked @ Goldman & VC",
         "142904",
         "4.5",
         "17549",
         "https://www.udemy.com/course/introduction-to-accounting-finance-modeling-valuation-by-chris-haroun/",
         "bussiness"
        ],
        [
         "22",
         "Forex Trading A-Z™ - With LIVE Examples of Forex Trading",
         "Forex Trading - Beginners and Experienced - Learn trading by Doing! Live examples: Forex with Real Money in Metatrader 4",
         "67924",
         "4.6",
         "17220",
         "https://www.udemy.com/course/forex-trading/",
         "bussiness"
        ],
        [
         "23",
         "Write Better Emails: Tactics for Smarter Team Communication",
         "How to improve your email writing skills to save time & improve communication with your team; easy business writing tips",
         "51707",
         "4.4",
         "16494",
         "https://www.udemy.com/course/write-better-emails/",
         "bussiness"
        ],
        [
         "24",
         "Beginning Project Management: Project Management Level One",
         "Project Management: Growing a Successful Career as a Project Manager",
         "49489",
         "4.5",
         "15139",
         "https://www.udemy.com/course/beginning-project-management-project-management-level-one/",
         "bussiness"
        ],
        [
         "25",
         "The Complete Shopify Aliexpress Dropship course",
         "In 2020, secure your financial future, by building a highly profitable Shopify dropshipping business from home",
         "74795",
         "4.7",
         "14215",
         "https://www.udemy.com/course/the-complete-shopify-aliexpress-dropship-course/",
         "bussiness"
        ],
        [
         "26",
         "Writing With Flair: How To Become An Exceptional Writer",
         "Ex-Wall Street Journal Editor Teaches How To Write With Confidence, Style & Impact",
         "103488",
         "4.5",
         "12679",
         "https://www.udemy.com/course/writing-with-flair-how-to-become-an-exceptional-writer/",
         "bussiness"
        ],
        [
         "27",
         "Agile Fundamentals: Including Scrum and Kanban - 2020",
         "Master Agile principles, values, approaches, & mindset to help organizations make changes faster and with less expense",
         "51744",
         "4.4",
         "12377",
         "https://www.udemy.com/course/agile-fundamentals-scrum-kanban-scrumban/",
         "bussiness"
        ],
        [
         "28",
         "SQL for Data Analysis: Weekender Crash Course for Beginners",
         "Using MySQL but applicable to Oracle SQL, Microsoft SQL Server, and PostgreSQL. Taught by a Data Scientist and PM.",
         "59629",
         "4.3",
         "11820",
         "https://www.udemy.com/course/sql-for-newbs/",
         "bussiness"
        ],
        [
         "29",
         "Sales Training: Practical Sales Techniques",
         "Sales Hacking: Essential sales skills, sales strategies and sales techniques to sell just about anything!",
         "39333",
         "4.6",
         "11805",
         "https://www.udemy.com/course/master-successful-selling/",
         "bussiness"
        ],
        [
         "30",
         "Ninja Writing: The Four Levels Of Writing Mastery",
         "Turn Your Business Writing, Blogs, Books & Essays Into Masterpieces",
         "85844",
         "4.4",
         "11167",
         "https://www.udemy.com/course/ninja-writing-the-four-levels-of-writing-mastery/",
         "bussiness"
        ],
        [
         "31",
         "Tableau 20 Advanced Training: Master Tableau in Data Science",
         "Master Tableau 20 in Data Science by solving Real-Life Analytics Problems. Learn Visualisation and Data Mining by doing!",
         "63752",
         "4.6",
         "11121",
         "https://www.udemy.com/course/tableau10-advanced/",
         "bussiness"
        ],
        [
         "32",
         "Conscious Listening",
         "Transform your confidence and communication by becoming somebody that people love speaking to.",
         "28408",
         "4.5",
         "11011",
         "https://www.udemy.com/course/conscious-listening/",
         "bussiness"
        ],
        [
         "33",
         "Email Etiquette: Write More Effective Emails At Work",
         "How to write emails that get results. How to write emails that build better working relationships.",
         "34781",
         "4.4",
         "10908",
         "https://www.udemy.com/course/business-emails/",
         "bussiness"
        ],
        [
         "34",
         "Tableau for Beginners: Get CA Certified, Grow Your Career",
         "Jump into data visualization with hands-on exercises and pass the Certified Associate exam.",
         "40646",
         "4.5",
         "10890",
         "https://www.udemy.com/course/tableau-accelerate-your-career-and-get-certified/",
         "bussiness"
        ],
        [
         "35",
         "The Complete Presentation and Public Speaking/Speech Course",
         "From page to stage; learn everything you need to know about giving a great speech for business & personal presentations.",
         "159739",
         "4.5",
         "10441",
         "https://www.udemy.com/course/the-complete-presentation-and-public-speaking-speech-course/",
         "bussiness"
        ],
        [
         "36",
         "CAPM Exam Prep Seminar - PMBOK Guide, Sixth Edition",
         "Pass the CAPM and Earn 25 Contact Hours to Qualify for the CAPM Exam",
         "29699",
         "4.6",
         "10329",
         "https://www.udemy.com/course/capm-pmbok6/",
         "bussiness"
        ],
        [
         "37",
         "Robotic Process Automation - RPA Overview",
         "Learn Robotic Process Automation to Unleash a Modern RPA Career",
         "29599",
         "4.4",
         "10260",
         "https://www.udemy.com/course/robotic-process-automation/",
         "bussiness"
        ],
        [
         "38",
         "Emotional Intelligence at Work: Learn from Your Emotions",
         "Master EQ to identify emotions in yourself and others, manage your emotions, and improve your relationships at work.",
         "21966",
         "4.5",
         "10148",
         "https://www.udemy.com/course/emotional-intelligence-at-work-learn-from-your-emotions/",
         "bussiness"
        ],
        [
         "39",
         "Power BI A-Z: Hands-On Power BI Training For Data Science!",
         "Learn Microsoft Power BI for Data Science and Data Analytics. Build visualizations and BI reports with Power BI Desktop",
         "73250",
         "4.4",
         "9992",
         "https://www.udemy.com/course/mspowerbi/",
         "bussiness"
        ],
        [
         "0",
         "The Complete Financial Analyst Course 2020",
         "Excel, Accounting, Financial Statement Analysis, Business Analysis, Financial Math, PowerPoint: Everything is Included!",
         "249123",
         "4.5",
         "47466",
         "https://www.udemy.com/course/the-complete-financial-analyst-course/",
         "finance"
        ],
        [
         "1",
         "Beginner to Pro in Excel: Financial Modeling and Valuation",
         "Financial Modeling in Excel that would allow you to walk into a job and be a rockstar from day one!",
         "128940",
         "4.6",
         "29128",
         "https://www.udemy.com/course/beginner-to-pro-in-excel-financial-modeling-and-valuation/",
         "finance"
        ],
        [
         "2",
         "The Complete Foundation Stock Trading Course",
         "Learn To Trade The Stock Market by A Trading Firm CEO. Inc: Technical Analysis, Candlesticks, Stocks, Day Trading +++",
         "79089",
         "4.5",
         "22239",
         "https://www.udemy.com/course/foundation-course/",
         "finance"
        ],
        [
         "3",
         "The Complete Financial Analyst Training & Investing Course",
         "Succeed as a Financial Analyst &Investor by Award Winning MBA Prof who worked @Goldman, in Hedge Funds & Venture Capital",
         "183645",
         "4.5",
         "21818",
         "https://www.udemy.com/course/the-complete-financial-analyst-training-and-investing-course/",
         "finance"
        ],
        [
         "4",
         "Investing In Stocks The Complete Course! (11 Hour)",
         "Master Investing in the Stock Market with Stocks, Mutual Funds, ETF, from a Top Instructor & Millionaire Stock Portfolio",
         "111937",
         "4.4",
         "20993",
         "https://www.udemy.com/course/investing-in-stocks/",
         "finance"
        ],
        [
         "5",
         "Blockchain and Bitcoin Fundamentals",
         "Learn the key elements of blockchain and Bitcoin in this bestselling video course and accompanying PDF glossary.",
         "66320",
         "4.6",
         "20726",
         "https://www.udemy.com/course/blockchain-and-bitcoin-fundamentals/",
         "finance"
        ],
        [
         "6",
         "The Complete Investment Banking Course 2020",
         "The #1 Course to Land a Job in Investment Banking. IPOs, Bonds, M&A, Trading, LBOs, Valuation: Everything is included!",
         "89447",
         "4.5",
         "20346",
         "https://www.udemy.com/course/the-complete-investment-banking-course-2016/",
         "finance"
        ],
        [
         "7",
         "Python for Finance: Investment Fundamentals & Data Analytics",
         "Learn Python Programming and Conduct Real-World Financial Analysis in Python - Complete Python Training",
         "84202",
         "4.5",
         "17942",
         "https://www.udemy.com/course/python-for-finance-investment-fundamentals-data-analytics/",
         "finance"
        ],
        [
         "8",
         "Introduction to Finance, Accounting, Modeling and Valuation",
         "Learn Finance & Accounting from Scratch by an Award Winning MBA Professor, Ivy Grad, worked @ Goldman & VC",
         "142924",
         "4.5",
         "17572",
         "https://www.udemy.com/course/introduction-to-accounting-finance-modeling-valuation-by-chris-haroun/",
         "finance"
        ],
        [
         "9",
         "Forex Trading A-Z™ - With LIVE Examples of Forex Trading",
         "Forex Trading - Beginners and Experienced - Learn trading by Doing! Live examples: Forex with Real Money in Metatrader 4",
         "67924",
         "4.6",
         "17227",
         "https://www.udemy.com/course/forex-trading/",
         "finance"
        ],
        [
         "10",
         "Stock Trading Crash Course !",
         "Learn from a full time stock trader. Technical Analysis|Chart Patterns|Trading strategies|Swing and intraday trading",
         "35688",
         "4.5",
         "15800",
         "https://www.udemy.com/course/stock-trading-crash-course/",
         "finance"
        ],
        [
         "11",
         "Cryptocurrency Investment Course 2020: Fund your Retirement!",
         "Complete A-Z Guide to Bitcoin, Blockchain, Ethereum, Altcoins, ICOs, DeFi & how to invest in them for your retirement!",
         "42214",
         "4.1",
         "12136",
         "https://www.udemy.com/course/cryptocurrency/",
         "finance"
        ],
        [
         "12",
         "Accounting in 60 Minutes - A Brief Introduction",
         "Learn the very basics of accounting in just about an hour.",
         "80231",
         "4.5",
         "9214",
         "https://www.udemy.com/course/accounting-in-60-minutes-a-brief-introduction/",
         "finance"
        ],
        [
         "13",
         "Technical Analysis MasterClass:Trading By Technical Analysis",
         "Stock Market Technical Analysis Secrets for Forex , Stock Trading , Options , Swing Trading & Day Trading + ASSIGNMENTS",
         "41213",
         "4.4",
         "8770",
         "https://www.udemy.com/course/technical_analysis/",
         "finance"
        ],
        [
         "14",
         "Accounting & Financial Statement Analysis: Complete Training",
         "Accounting & Financial Ratio Analysis made easy. Learn important accounting skills that will get your foot in the door!",
         "38469",
         "4.6",
         "6381",
         "https://www.udemy.com/course/accounting-fsa-a-solid-foundation-for-a-career-in-finance/",
         "finance"
        ],
        [
         "15",
         "Advanced Stock Trading Course + Strategies",
         "Learn To Trade The Stock Market by A Trading Firm CEO. For: Stocks, Day Trading, Swing Trading and Financial Trading",
         "37703",
         "4.6",
         "6103",
         "https://www.udemy.com/course/advanced-course-plus-strategies/",
         "finance"
        ],
        [
         "16",
         "The Complete Personal Finance Course: Save,Protect,Make More",
         "3 Courses in 1! Save,Protect & Make More! By an Award Winning MBA Professor, VC & Best Selling Online Business Teacher.",
         "87783",
         "4.6",
         "5137",
         "https://www.udemy.com/course/the-complete-personal-finance-course-save-protect-make-more/",
         "finance"
        ],
        [
         "17",
         "Options Trading Basics (3-Course Bundle)",
         "A bundle combines 1)Intro to Call and Put Options 2) Time decay, Implied Volatility, Greeks 3) Call and Puts Live trades",
         "29099",
         "4.4",
         "4913",
         "https://www.udemy.com/course/learn-options-trading-courses/",
         "finance"
        ],
        [
         "18",
         "Beginner to Pro in PowerPoint: Complete PowerPoint Training",
         "PowerPoint lessons that are easy to apply at work! Become the top PowerPoint user in your office. #1 PowerPoint training",
         "25951",
         "4.4",
         "4890",
         "https://www.udemy.com/course/powerpoint-master-class-for-business-and-finance-graduates/",
         "finance"
        ],
        [
         "19",
         "Value Investing Bootcamp: How to Invest Wisely",
         "Learn the Secrets of the Best Stock Investors, Manage Your Own Portfolio, And Earn Market Beating Returns",
         "29990",
         "4.5",
         "4270",
         "https://www.udemy.com/course/value-investing-bootcamp-how-to-invest-wisely/",
         "finance"
        ],
        [
         "20",
         "Start Trading Stocks Using Technical Analysis!",
         "Learn the secrets of professional trading from a former stock broker, and make profits investing today!",
         "18236",
         "4.5",
         "4237",
         "https://www.udemy.com/course/professional-stock-trader/",
         "finance"
        ],
        [
         "21",
         "#1 Cryptocurrency Long-term Investment Opportunity 2017/2018",
         "Learn Long-term Cryptocurrency Investing and see which Alt Coin I think is the best investment opportunity in 2017!",
         "13901",
         "1.8",
         "4048",
         "https://www.udemy.com/course/cryptocurrency-course/",
         "finance"
        ],
        [
         "22",
         "Excel Crash Course: Master Excel for Financial Analysis",
         "Beginner to Advanced: Learn Excel Shortcuts, Formulas & Functions for Financial Modeling & Corporate Finance",
         "20487",
         "4.4",
         "3761",
         "https://www.udemy.com/course/excel-crash-course-master-excel-for-financial-analysis/",
         "finance"
        ],
        [
         "23",
         "Financial Planning & Analysis: Building a Company's Budget",
         "Learn the Fundamental Mechanics of Financial Planning and Position Your Career for Success!",
         "17167",
         "4.2",
         "3671",
         "https://www.udemy.com/course/financial-planning-analysis-building-a-companys-budget/",
         "finance"
        ],
        [
         "24",
         "Accounting: From Beginner to Advanced!",
         "Learn accounting like never before. Learn easy and fast. Easy to understand Accounting. #1 accounting course online.",
         "15937",
         "4.4",
         "3654",
         "https://www.udemy.com/course/accounting101/",
         "finance"
        ],
        [
         "25",
         "Forex Robots: Automate Your Trading - Forex Robot Included!",
         "Forex Robots - Learn the secrets to trading on a real Forex Account with Forex Trading Systems. Metatrader 4 EA",
         "29014",
         "4.7",
         "3628",
         "https://www.udemy.com/course/backtesting/",
         "finance"
        ],
        [
         "26",
         "Stock Trading & Investing for Beginners 4-in-1 Course Bundle",
         "Jumpstart your Stock Trading & Investing journey as Beginners in Stock Market. Learn both financial & technical analysis",
         "16649",
         "4.3",
         "3265",
         "https://www.udemy.com/course/complete-stock-market-starter-toolkit-for-beginners/",
         "finance"
        ],
        [
         "27",
         "Acorns' Guide to Personal Finance",
         "5 Steps to Building Wealth: Budget Better, Pay Off Debt Faster, Save and Earn More Money and Invest Wisely",
         "24819",
         "4.3",
         "3199",
         "https://www.udemy.com/course/acorns-guide-to-personal-finance/",
         "finance"
        ],
        [
         "28",
         "SAP FICO (Financial Accounting & Management Accounting) ",
         "The course covers both configuration and end-user processes for SAP FICO module",
         "15327",
         "4.1",
         "3016",
         "https://www.udemy.com/course/sap-fico-training-course/",
         "finance"
        ],
        [
         "29",
         "Algorithmic Trading In Forex: Create Your First Forex Robot!",
         "Trading With Forex Robots: Learn MQL4 Programming By Doing! Create Your First Algorithmic Trading System in MetaTrader 4",
         "20193",
         "4.6",
         "2926",
         "https://www.udemy.com/course/learn-mql4/",
         "finance"
        ],
        [
         "30",
         "Financial Modeling: Build a Complete DCF Valuation Model",
         "The Ultimate Guide to Company Valuation For Aspiring Investment Bankers and Corporate Finance Practitioners",
         "17127",
         "4.5",
         "2850",
         "https://www.udemy.com/course/learn-how-to-value-a-company-and-build-a-dcf-model/",
         "finance"
        ],
        [
         "31",
         "Options Trading - How to Win with Weekly Options",
         "An Exact Blueprint for Options Trading Success",
         "14597",
         "4.1",
         "2700",
         "https://www.udemy.com/course/work-from-home-setup-your-own-options-trading-business/",
         "finance"
        ],
        [
         "32",
         "CFA® Level 1 (2020) - Complete Financial Reporting &Analysis",
         "Deep dive into FRA with the Bestselling CFA® prep course provider | With visual learning + Quizzes",
         "17481",
         "4.5",
         "2668",
         "https://www.udemy.com/course/cfa-level-1-fra-complete-mastery-course/",
         "finance"
        ],
        [
         "33",
         "Options Trading for Rookies: Understand Options Completely",
         "Part 1: Learn everything you need to know about options, what they are, how they work, buying vs. selling and more!",
         "13678",
         "4.7",
         "2673",
         "https://www.udemy.com/course/complete-course-introduction-to-option-trading/",
         "finance"
        ],
        [
         "34",
         "The Complete Finance Manager Course 2020",
         "Financial Management, ERP systems, Accounting, Capital budgeting, Presentation design, Management, and Negotiation",
         "18165",
         "4.4",
         "2605",
         "https://www.udemy.com/course/the-complete-finance-manager-course/",
         "finance"
        ],
        [
         "35",
         "Mastering QuickBooks Online",
         "Become An Expert QuickBooks Online And Learn How To Keep And Maintain QuickBooks Records For Perfect Accuracy",
         "9256",
         "4.4",
         "2587",
         "https://www.udemy.com/course/mastering-quickbooks-online/",
         "finance"
        ],
        [
         "36",
         "Accounting - A Brief Introduction - in 60 Minutes",
         "Learn the basics of financial accounting in one hour!",
         "26519",
         "4.7",
         "2512",
         "https://www.udemy.com/course/accounting-in-less-then-one-hour/",
         "finance"
        ],
        [
         "37",
         "Complete Day Trading : Stock Trading With Technical Analysis",
         "Learn Stock Market Day Trading Strategies, Scanning & Trading Momentum Stocks , Nifty/Bank Nifty by Technical Analysis",
         "16561",
         "4.4",
         "2517",
         "https://www.udemy.com/course/day-trading-strategies-day-trading-with-technical-analysis/",
         "finance"
        ],
        [
         "38",
         "The Ultimate QuickBooks Pro Training Bundle - 60+ Hours",
         "Master QuickBooks Pro with this training bundle consisting of 8 courses, 60+ hours, and over 400 videos.",
         "17813",
         "4.4",
         "2499",
         "https://www.udemy.com/course/the-ultimate-quickbooks-pro-training-bundle/",
         "finance"
        ],
        [
         "39",
         "Options Trading MasterClass: Options With Technical Analysis",
         "Options Trading+++Strategies , Options Basics & Greeks (A 3-Course Bundle) For Stock & Day Trading By Technical Analysis",
         "19775",
         "4.3",
         "2491",
         "https://www.udemy.com/course/option-trading-option-strategies-with-technical-analysis/",
         "finance"
        ],
        [
         "0",
         "Microsoft Excel - Excel from Beginner to Advanced",
         "Excel with this A-Z Microsoft Excel Course. Microsoft Excel 2010, 2013, 2016, Excel 2019 and Office 365",
         "558150",
         "4.6",
         "174080",
         "https://www.udemy.com/course/microsoft-excel-2013-from-beginner-to-advanced-and-beyond/",
         "office"
        ],
        [
         "1",
         "Microsoft Excel - Advanced Excel Formulas & Functions",
         "Master 75+ Excel formulas with hands-on demos from a best-selling Microsoft Excel instructor (Excel '07 - Excel 2019)",
         "182132",
         "4.7",
         "38239",
         "https://www.udemy.com/course/excel-for-analysts/",
         "office"
        ],
        [
         "2",
         "Unlock Excel VBA and Excel Macros",
         "Automate Complex Tasks with Microsoft Excel VBA & Excel Macros (Real-World Projects included). Achieve More. Save time.",
         "97548",
         "4.6",
         "22865",
         "https://www.udemy.com/course/excel-vba-and-macros-course/",
         "office"
        ],
        [
         "3",
         "Microsoft Excel - Data Analysis with Excel Pivot Tables",
         "Master Excel Pivot Tables & data analysis with real-world cases from a best-selling Excel instructor (Excel 2010-2019)",
         "112510",
         "4.6",
         "21429",
         "https://www.udemy.com/course/data-analysis-with-excel-pivot-tables/",
         "office"
        ],
        [
         "4",
         "Excel Essentials: The Complete Excel Series - Level 1, 2 & 3",
         "Excel: The WHOLE Excel Mastery Series In One! From Excel Novice To VBA Programmer - Excel 2013, Excel 2016, Excel 2019",
         "72269",
         "4.6",
         "18116",
         "https://www.udemy.com/course/excel-essentials-the-complete-series-levels-1-2-3/",
         "office"
        ],
        [
         "5",
         "Microsoft Excel - Data Visualization, Excel Charts & Graphs",
         "Master 20+ Excel charts & graphs and build custom visuals with a best-selling Excel instructor (Excel 2016 - Excel 2019)",
         "74140",
         "4.6",
         "16118",
         "https://www.udemy.com/course/advanced-excel-charts-graphs/",
         "office"
        ],
        [
         "6",
         "Microsoft Excel - From Beginner to Expert in 6 Hours",
         "This Microsoft Excel class will make you a master of Microsoft Excel. The training uses Excel 2013 for Windows.",
         "101795",
         "4.5",
         "15046",
         "https://www.udemy.com/course/thebestexcel/",
         "office"
        ],
        [
         "7",
         "Master Microsoft Word Beginner to Advanced",
         "Master the most popular Word Processing tool, Microsoft Word. Microsoft Word 2010, Word 2013, Word 2016, Word 2019",
         "55439",
         "4.7",
         "11351",
         "https://www.udemy.com/course/microsoft-word-from-beginner-to-advanced-and-beyond/",
         "office"
        ],
        [
         "8",
         "Microsoft Project ALL: BEGINNER to EXPERT 10 Projects 9 PDU",
         "Learn MS Project all version HANDS-ON with COMPLETE real life examples BONUS 125 project files FREE PMI approved 9 PDUs",
         "47664",
         "4.5",
         "11157",
         "https://www.udemy.com/course/microsoft-project-tutorial/",
         "office"
        ],
        [
         "9",
         "Mastering Microsoft Teams (2020)",
         "Become an expert at using Microsoft Teams to chat, collaborate, and get things done",
         "33522",
         "4.4",
         "10988",
         "https://www.udemy.com/course/mastering-microsoft-teams/",
         "office"
        ],
        [
         "10",
         "Microsoft Excel - Excel Power Query, Power Pivot & DAX",
         "Learn Excel business intelligence (Power Query, Power Pivot & DAX) with a best-selling Excel instructor (Excel 2013+)",
         "54533",
         "4.7",
         "10933",
         "https://www.udemy.com/course/microsoft-excel-power-query-power-pivot-dax/",
         "office"
        ],
        [
         "11",
         "Microsoft Access 2016 Master Class: Beginner to Advanced",
         "Quickly learn how Microsoft Access 2016 can make your life easier and more productive!",
         "43242",
         "4.6",
         "10265",
         "https://www.udemy.com/course/microsoftaccess/",
         "office"
        ],
        [
         "12",
         "Master Microsoft Excel Macros and Excel VBA",
         "Project Based Course on Excel VBA (Visual Basic for Applications) and Excel Macros",
         "41348",
         "4.5",
         "10069",
         "https://www.udemy.com/course/master-microsoft-excel-macros-and-vba-with-5-simple-projects/",
         "office"
        ],
        [
         "13",
         "Visually Effective Excel Dashboards",
         "Actionable Excel Tips (Templates Included) You Can Use Right Now to Create Eye-Catching Microsoft Excel Dashboards",
         "43843",
         "4.6",
         "9213",
         "https://www.udemy.com/course/excel-dashboards-reports/",
         "office"
        ],
        [
         "14",
         "Powerpoint 2016 2019 - Master powerpoint presentation",
         "Complete Powerpoint Design Masterclass - 20+ powerpoint presentation slides. Powerpoint from beginner to pro",
         "46790",
         "4.5",
         "8510",
         "https://www.udemy.com/course/case-study-powerpoint-2013-presentation-slide-by-slide/",
         "office"
        ],
        [
         "15",
         "SAP Simplified for Absolute Beginners",
         "Easy to follow Introduction into SAP ERP",
         "21652",
         "4.4",
         "7110",
         "https://www.udemy.com/course/sap-simplified-for-absolute-beginners/",
         "office"
        ],
        [
         "0",
         "The Art & Science of Figure Drawing: GESTURE",
         "Learn everything you need to know about drawing dynamic, expressive figures.",
         "15138",
         "4.8",
         "2282",
         "https://www.udemy.com/course/figuredrawing/",
         "life_style"
        ],
        [
         "1",
         "Paint Realistic Watercolor and Botanicals - STUDIO BASICS",
         "This foundation tutorial will help you understand essential work+studio basics for realistic watercolour and botanicals",
         "11845",
         "4.5",
         "2265",
         "https://www.udemy.com/course/paint-realistic-watercolor-and-botanicals-studio-basics/",
         "life_style"
        ],
        [
         "2",
         "Anime Drawing for Beginners",
         "Learn how to draw characters in Anime Style!",
         "10141",
         "4.6",
         "2231",
         "https://www.udemy.com/course/anime-drawing-for-beginners/",
         "life_style"
        ],
        [
         "3",
         "HOW TO PAINT FROM BEGINNER TO MASTER",
         "Oil Painting For All Skill Levels",
         "11658",
         "4.6",
         "2018",
         "https://www.udemy.com/course/how-to-paint-from-beginner-to-master/",
         "life_style"
        ],
        [
         "4",
         "Inside Your Dog's Mind with Victoria Stilwell",
         "Understanding canine behavior and how dogs think, feel and learn to make dog training easier & more effective.",
         "8550",
         "4.4",
         "1957",
         "https://www.udemy.com/course/insideyourdogsmind/",
         "life_style"
        ],
        [
         "5",
         "The Beginner's Guide to Digital Art with Procreate on iPad!",
         "Learn the basics of digital art on your iPad with these step-by-step lessons for Procreate, a powerful digital art app!",
         "8864",
         "4.6",
         "1852",
         "https://www.udemy.com/course/procreate-guide/",
         "life_style"
        ],
        [
         "6",
         "Essential Cooking Skills",
         "Cook like a pro, master the basic techniques used in the World's culinary industry! Key Techniques - Part 1",
         "9172",
         "4.5",
         "1797",
         "https://www.udemy.com/course/essential-cooking-skills/",
         "life_style"
        ],
        [
         "7",
         "The Art & Science of Drawing / DYNAMIC MARK MAKING",
         "Create compelling drawings using expressive mark making.",
         "10246",
         "4.7",
         "1765",
         "https://www.udemy.com/course/the-art-science-of-drawing-week-two-dynamic-mark-making/",
         "life_style"
        ],
        [
         "8",
         "The Art & Science of Drawing / FORM & SPACE",
         "Learn to draw in 3-Dimensions",
         "14913",
         "4.8",
         "1732",
         "https://www.udemy.com/course/the-art-science-of-drawing-weeks-3-4-form-space/",
         "life_style"
        ],
        [
         "9",
         "Dr. Ian Dunbar's SIRIUS® Dog Trainer Academy - All 4 Days",
         "Learn how to train dogs the SIRIUS® way! Learn how to run and promote your own dog-friendly dog training business.",
         "14836",
         "4.6",
         "1706",
         "https://www.udemy.com/course/sirius-dog-trainer-academy-4days/",
         "life_style"
        ],
        [
         "10",
         "Foundations for Mastering Watercolor Painting",
         "An in-depth, approachable look at painting materials that will make mastering the medium truly possible.",
         "7317",
         "4.7",
         "1637",
         "https://www.udemy.com/course/foundations-for-mastering-watercolor-painting/",
         "life_style"
        ],
        [
         "11",
         "Emotional Intelligence (EQ) Practitioner Cert (ACCREDITED)",
         "Uncover the powerful Emotional Intelligence change framework & help yourself and others with Emotional Intelligence",
         "7944",
         "4.5",
         "1607",
         "https://www.udemy.com/course/emotional-intelligence-practitioner-certification/",
         "life_style"
        ],
        [
         "12",
         "The Complete Guide to League of Legends",
         "Learn how to improve your game mechanics, micro/macro knowledge, and rank from former LCS coach, NicoThePico.",
         "4708",
         "4.5",
         "1599",
         "https://www.udemy.com/course/the-complete-guide-to-league-of-legends/",
         "life_style"
        ],
        [
         "13",
         "Meditation Practitioner / Teacher Certification (ACCREDITED)",
         "A fully Accredited Meditation Practitioner / Teacher Certification course taking you from beginner to professional level",
         "6390",
         "4.7",
         "1571",
         "https://www.udemy.com/course/meditation-practitioner-teacher-certification-accredited/",
         "life_style"
        ],
        [
         "14",
         "The Basics of Household Wiring. The Electrical System A to Z",
         "Everything Electricity, from your Circuit (Breaker) Panel, Outlets, Switches, Receptacles, Light Fixtures, Cable, Wire..",
         "6405",
         "4.3",
         "1500",
         "https://www.udemy.com/course/learn-the-basics-of-household-wiring/",
         "life_style"
        ],
        [
         "15",
         "Healthy Cooking Fundamentals",
         "A practical course to take your cooking skills from dull to delicious",
         "18576",
         "4.4",
         "1484",
         "https://www.udemy.com/course/up-beet-cooking-fundamentals/",
         "life_style"
        ],
        [
         "0",
         "How To Sing #1: Complete Vocal Warm ups & Voice Physiology",
         "Singing Lessons for Vocal Warm Up Tips & Voice Essentials",
         "22215",
         "4.6",
         "2795",
         "https://www.udemy.com/course/singing-lessons-online/",
         "music"
        ],
        [
         "1",
         "Ultimate Ableton Live 10 COMPLETE: Parts 1, 2, and 3",
         "Learning Ableton Live 10 Suite through tutorials, tracks, and more. Learn the Live software download quickly and easily!",
         "10865",
         "4.4",
         "2634",
         "https://www.udemy.com/course/ableton-live-10-complete/",
         "music"
        ],
        [
         "2",
         "Elite Singing Techniques - Phase I",
         "Step by step singing system proven to develop great technique and vocal mastery, Results are immediate!",
         "9680",
         "4.7",
         "2595",
         "https://www.udemy.com/course/elite-singing-techniques-phase-1/",
         "music"
        ],
        [
         "3",
         "SINGING SIMPLIFIED #1: The Fast-Track to Singing Like a Pro",
         "Find your unique voice naturally, while having FUN doing it! A modern approach to singing lessons & vocal training.",
         "19026",
         "4.6",
         "2458",
         "https://www.udemy.com/course/singing-simplified/",
         "music"
        ],
        [
         "4",
         "Music Theory Comprehensive Complete: Part 4, 5, & 6",
         "Learn music theory through this music theory course app, music theory exercises, and music theory tutorials.",
         "30767",
         "4.7",
         "2107",
         "https://www.udemy.com/course/music-theory-comprehensive-combined-part-4-5-6/",
         "music"
        ],
        [
         "5",
         "The Complete Piano & Music Theory Beginners Course",
         "Learn all piano and music theory basics quickly, and save big on months of initial private lessons!",
         "17932",
         "4.4",
         "2044",
         "https://www.udemy.com/course/piano-lessons-music-theory-beginners-course/",
         "music"
        ],
        [
         "6",
         "The Professional Bass Masterclass",
         "Learn the professional techniques, tools, and methods to master bass guitar from beginner to advanced player",
         "13852",
         "4.6",
         "1919",
         "https://www.udemy.com/course/the-professional-bass-masterclass/",
         "music"
        ],
        [
         "7",
         "Learn To Play The Drums",
         "Become a drummer with a step by step programme to get you from being drumming novice to drumming expert",
         "11889",
         "4.6",
         "1753",
         "https://www.udemy.com/course/learndrums/",
         "music"
        ],
        [
         "8",
         "The Complete EDM Production Course - Produce, Mix & Master",
         "Learn EDM Production, mixing, mastering, sound design, arrangement, plugins, techniques & more using any software or DAW",
         "9191",
         "4.6",
         "1752",
         "https://www.udemy.com/course/edm-production/",
         "music"
        ],
        [
         "9",
         "Learn piano or keyboard from scratch - Complete piano course",
         "Piano lessons/ keyboard lessons for beginners. Complete piano course,reading music, improvisation, music theory, chords.",
         "13673",
         "4.6",
         "1683",
         "https://www.udemy.com/course/learn-to-play-the-piano-from-scratch/",
         "music"
        ],
        [
         "10",
         "Beginner Violin Lessons - VIOLIN MASTERY FROM THE BEGINNING.",
         "Beginner Violin Lessons - Learn Violin from Scratch - The most In depth beginner online violin course available. Violin",
         "10379",
         "4.6",
         "1664",
         "https://www.udemy.com/course/beginner-violin-lessons-violin-master-course/",
         "music"
        ],
        [
         "11",
         "The Complete Piano Course - Master The Piano",
         "A full guide on learning how to use every single note on the piano.",
         "12826",
         "4.5",
         "1572",
         "https://www.udemy.com/course/the-complete-piano-course/",
         "music"
        ],
        [
         "12",
         "Music Composition 1",
         "Learn how to compose well-written rhythms and melodies",
         "10832",
         "4.4",
         "1484",
         "https://www.udemy.com/course/music-composition-1/",
         "music"
        ],
        [
         "13",
         "Learn Guitar: Zero to Guitar Fingerpicking in 30 days",
         "Learn guitar for beginners: guitar fingerpicking in 30 days",
         "12023",
         "4.6",
         "1470",
         "https://www.udemy.com/course/zero-to-guitar-fingerpicking/",
         "music"
        ],
        [
         "14",
         "Lyricology: Perfect Song Structure and Beat Selection!",
         "Simple techniques for counting bars, song structure and beat selection for aspiring hip hop artists.",
         "6944",
         "4.2",
         "1380",
         "https://www.udemy.com/course/lyricology-101-perfect-song-structure-and-beat-selection/",
         "music"
        ],
        [
         "15",
         "Music Production I - Learn to be a Music Producer!",
         "Learn how to become a recording/music production engineer with little to no knowledge! Record music like a pro!",
         "6712",
         "4.5",
         "1373",
         "https://www.udemy.com/course/music-production/",
         "music"
        ],
        [
         "0",
         "The Ultimate Drawing Course - Beginner to Advanced",
         "Learn the #1 most important building block of all art",
         "403865",
         "4.5",
         "98984",
         "https://www.udemy.com/course/the-ultimate-drawing-course-beginner-to-advanced/",
         "design"
        ],
        [
         "1",
         "Character Art School: Complete Character Drawing Course",
         "Learn How to Draw People and Character Designs Professionally, Drawing for Animation, Comics, Cartoons, Games and More!",
         "228471",
         "4.5",
         "51220",
         "https://www.udemy.com/course/character-art-school-complete-character-drawing/",
         "design"
        ],
        [
         "2",
         "Complete Blender Creator: Learn 3D Modelling for Beginners",
         "Use Blender to Create Beautiful 3D models for Video Games, 3D Printing & More. Beginners Level Course",
         "203790",
         "4.6",
         "39959",
         "https://www.udemy.com/course/blendertutorial/",
         "design"
        ],
        [
         "3",
         "Design Thinking in 3 Steps",
         "Understand your audience, envision a creative solution, and test your prototype",
         "63479",
         "4.4",
         "28014",
         "https://www.udemy.com/course/designit-design-thinking/",
         "design"
        ],
        [
         "4",
         "Illustrator CC 2020 MasterClass",
         "Master Adobe Illustrator CC with this in-depth training for all levels.",
         "117513",
         "4.6",
         "25858",
         "https://www.udemy.com/course/illustrator-cc-masterclass/",
         "design"
        ],
        [
         "5",
         "User Experience Design Essentials - Adobe XD UI UX Design",
         "Use XD to get a job in UI Design, User Interface, User Experience design, UX design & Web Design",
         "94235",
         "4.6",
         "23988",
         "https://www.udemy.com/course/ui-ux-web-design-using-adobe-xd/",
         "design"
        ],
        [
         "6",
         "Ultimate Photoshop Training: From Beginner to Pro",
         "Master Photoshop CC 2020 without any previous knowledge with this easy-to-follow course",
         "121883",
         "4.6",
         "20629",
         "https://www.udemy.com/course/ultimate-photoshop-training-from-beginner-to-pro/",
         "design"
        ],
        [
         "7",
         "After Effects CC 2020: Complete Course from Novice to Expert",
         "Create stunning Motion Graphics, VFX Visual Effects & VFX Compositing with hands-on tutorials & 50+ practice projects.",
         "106344",
         "4.6",
         "20252",
         "https://www.udemy.com/course/after-effects-kinetic-typography/",
         "design"
        ],
        [
         "8",
         "Graphic Design Masterclass - Learn GREAT Design",
         "The Ultimate Graphic Design Course Which Covers Photoshop, Illustrator, InDesign,Design Theory, Branding and Logo Design",
         "61002",
         "4.6",
         "16282",
         "https://www.udemy.com/course/graphic-design-masterclass-everything-you-need-to-know/",
         "design"
        ],
        [
         "9",
         "Adobe Photoshop CC: Your Complete Beginner to Advanced Class",
         "Learn the essential tools of Adobe Photoshop CC to jump right in and design beautiful graphics and photos in Photoshop.",
         "470991",
         "4.6",
         "16005",
         "https://www.udemy.com/course/adobe-photoshop-course/",
         "design"
        ],
        [
         "10",
         "Wordpress for Beginners - Master Wordpress Quickly",
         "In 2020, build a beautiful responsive Wordpress site that looks great on all devices. No experience required.",
         "64732",
         "4.5",
         "15045",
         "https://www.udemy.com/course/wordpress-for-beginners-course/",
         "design"
        ],
        [
         "11",
         "Adobe Photoshop CC – Essentials Training Course",
         "This Adobe Photoshop Essentials course will teach you Photoshop Retouching as well as Photoshop for graphic design.",
         "53888",
         "4.7",
         "14453",
         "https://www.udemy.com/course/adobe-photoshop-cc-essentials-training-course/",
         "design"
        ],
        [
         "12",
         "Graphic Design Bootcamp: Photoshop, Illustrator, InDesign",
         "Bestselling Beginner Course! Use Photoshop, Illustrator, & InDesign for logo design, web design, poster design, and more",
         "86585",
         "4.5",
         "13338",
         "https://www.udemy.com/course/graphic-design-for-beginners/",
         "design"
        ],
        [
         "13",
         "The complete AutoCAD 2018-21 course",
         "A complete course for learning AutoCAD from scratch to professional level",
         "48556",
         "4.6",
         "13295",
         "https://www.udemy.com/course/autocad-2018-course/",
         "design"
        ],
        [
         "14",
         "Web Design for Beginners: Real World Coding in HTML & CSS",
         "Launch a career as a web designer by learning HTML5, CSS3, responsive design, Sass and more!",
         "47169",
         "4.6",
         "12888",
         "https://www.udemy.com/course/web-design-for-beginners-real-world-coding-in-html-css/",
         "design"
        ],
        [
         "15",
         "Adobe Illustrator CC - Essentials Training Course",
         "Learn Adobe Illustrator CC graphic design, logo design, and more with this in-depth, practical, easy-to-follow course!",
         "45570",
         "4.7",
         "12250",
         "https://www.udemy.com/course/adobe-illustrator-course/",
         "design"
        ],
        [
         "16",
         "UX & Web Design Master Course: Strategy, Design, Development",
         "Learn how to apply User Experience (UX) principles to your website designs, code a variety of sites, and increase sales!",
         "80706",
         "4.5",
         "11401",
         "https://www.udemy.com/course/ux-web-design-master-course-strategy-design-development/",
         "design"
        ],
        [
         "17",
         "Drawing and Painting on the iPad with Procreate",
         "Learn everything you need to know about Procreate with hands on drawing lessons. Now updated for Procreate 5.",
         "40443",
         "4.7",
         "10886",
         "https://www.udemy.com/course/drawing-and-painting-on-the-ipad-with-procreate/",
         "design"
        ],
        [
         "18",
         "User Experience Design Fundamentals",
         "Design Web Sites and Mobile Apps that Your Users Love and Return to Again and Again with UX Expert Joe Natoli.",
         "74042",
         "4.4",
         "9223",
         "https://www.udemy.com/course/user-experience-design-fundamentals/",
         "design"
        ],
        [
         "19",
         "Adobe InDesign CC - Essentials Training Course",
         "Build company newsletters, brochures, annual reports. Learn typography, color theory & graphic design skills in InDesign",
         "35860",
         "4.7",
         "9158",
         "https://www.udemy.com/course/indesign-tutorial-basics-course/",
         "design"
        ],
        [
         "20",
         "After Effects CC Masterclass: Complete After Effects Course",
         "Learn After Effects CC to improve your videos with professional motion graphics and visual effects.",
         "323449",
         "4.6",
         "8784",
         "https://www.udemy.com/course/after-effects-cc/",
         "design"
        ],
        [
         "21",
         "CSS - The Complete Guide 2020 (incl. Flexbox, Grid & Sass)",
         "Learn CSS for the first time or brush up your CSS skills and dive in even deeper. EVERY web developer has to know CSS.",
         "43083",
         "4.7",
         "8605",
         "https://www.udemy.com/course/css-the-complete-guide-incl-flexbox-grid-sass/",
         "design"
        ],
        [
         "22",
         "Photoshop CC 2020 MasterClass",
         "Master the World's Best Imaging and Design Application and Become an Adobe Certified Associate.",
         "45107",
         "4.6",
         "8020",
         "https://www.udemy.com/course/photoshop-cc-masterclass/",
         "design"
        ],
        [
         "23",
         "Sketch from A to Z (2020): Become an app designer",
         "Finally a comprehensive guide to using Sketch for designing mobile applications. Learn to design an app from A to Z.",
         "27489",
         "4.7",
         "7704",
         "https://www.udemy.com/course/learnsketch3/",
         "design"
        ],
        [
         "24",
         "WordPress Theme Development with Bootstrap",
         "Learn how to confidently develop custom & profitable Responsive WordPress Themes and Websites with no prior experience.",
         "46795",
         "4.3",
         "7501",
         "https://www.udemy.com/course/bootstrap-to-wordpress/",
         "design"
        ],
        [
         "25",
         "Creating 3D environments in Blender",
         "This course helps you creating wonderful environment scenes, organizing your workflow, and find the right inspiration.",
         "61021",
         "4.5",
         "7481",
         "https://www.udemy.com/course/blender-environments/",
         "design"
        ],
        [
         "26",
         "Photoshop In-Depth: Master all of Photoshop's Tools Easily",
         "Learn the many tools in Adobe Photoshop with in-depth lectures that explain the tool uses, options + modes in Photoshop.",
         "165767",
         "4.4",
         "7451",
         "https://www.udemy.com/course/photoshop-tools/",
         "design"
        ],
        [
         "27",
         "The Complete App Design Course - UX, UI and Design Thinking",
         "Learn App Design to Make Beautiful, Lovable Apps",
         "31444",
         "4.4",
         "6848",
         "https://www.udemy.com/course/the-complete-app-design-course-ux-and-ui-design/",
         "design"
        ],
        [
         "115",
         "Fundamentals of Garden Design",
         "An Introduction to Landscape Design",
         "6729",
         "4.4",
         "1733",
         "https://www.udemy.com/course/fundamentals-of-garden-design/",
         "design"
        ],
        [
         "28",
         "The Ultimate Digital Painting Course - Beginner to Advanced",
         "Everything from drawing fundamentals to professional painting techniques",
         "39814",
         "4.5",
         "6350",
         "https://www.udemy.com/course/the-ultimate-digital-painting-course-beginner-to-advanced/",
         "design"
        ],
        [
         "29",
         "Become a Game Designer the Complete Series Coding to Design",
         "Master Unity, 3D game design, 2D game design, coding, C#, game development, 3D animation, programming, level design...",
         "54712",
         "4.2",
         "6299",
         "https://www.udemy.com/course/become-a-game-designer/",
         "design"
        ],
        [
         "30",
         "Landing Page Design & Conversion Rate Optimization 2018",
         "Triple Your Conversion Rate With These Landing Page Design Principles & Build A Landing Page From Scratch With No Code",
         "35578",
         "4.7",
         "6248",
         "https://www.udemy.com/course/landing-page-design-best-practices/",
         "design"
        ],
        [
         "31",
         "The Complete Graphic Design Theory for Beginners Course",
         "Learn Graphic Design Theory and the Basic Principles of Color Theory, Typography, Branding, Logo Design, Layout & More!",
         "26910",
         "4.6",
         "6094",
         "https://www.udemy.com/course/graphic-design-theory-for-beginners-course/",
         "design"
        ],
        [
         "32",
         "Crash Course Electronics and PCB Design",
         "Learn Electronics and PCB Design from the Ground up with Altium CircuitMaker and Labcenter Proteus",
         "30117",
         "4.6",
         "6014",
         "https://www.udemy.com/course/crash-course-electronics-and-pcb-design/",
         "design"
        ],
        [
         "33",
         "DESIGN RULES: Principles + Practices for Great UI Design",
         "Learn to design powerful user interfaces for apps, sites and systems",
         "21705",
         "4.6",
         "5774",
         "https://www.udemy.com/course/design-rules/",
         "design"
        ],
        [
         "34",
         "Photoshop Beginners Mastery: Zero to Hero in Photoshop",
         "Learn Photoshop quickly and easily with essentials of Adobe Photoshop to produce beautiful images in Adobe Photoshop.",
         "215917",
         "4.3",
         "5731",
         "https://www.udemy.com/course/getting-started-in-photoshop/",
         "design"
        ],
        [
         "35",
         "How to Work with Interior Design Styles Like a Pro",
         "Interior Design Styles Demystified",
         "27388",
         "4.4",
         "5717",
         "https://www.udemy.com/course/learn-how-to-work-with-interior-design-styles-like-a-pro/",
         "design"
        ],
        [
         "36",
         "Learn Photoshop, Web Design & Profitable Freelancing",
         "Learn Photoshop and use it to create amazing website designs and create a high, stable income. No coding needed!",
         "41283",
         "4.4",
         "5614",
         "https://www.udemy.com/course/learn-photoshop-web-design-profitable-freelancing/",
         "design"
        ],
        [
         "37",
         "Learn Adobe Photoshop from Scratch",
         "The Complete Beginners Guide for Learning Adobe Photoshop",
         "84955",
         "4.3",
         "5443",
         "https://www.udemy.com/course/learn-adobe-photoshop-from-scratch/",
         "design"
        ],
        [
         "38",
         "User Experience (UX): The Ultimate Guide to Usability and UX",
         "Get a job in UX and build your user research and UX design skills with this hands-on user experience training course.",
         "19033",
         "4.6",
         "5230",
         "https://www.udemy.com/course/ultimate-guide-to-ux/",
         "design"
        ],
        [
         "0",
         "The Complete Digital Marketing Course - 12 Courses in 1",
         "Master Digital Marketing Strategy, Social Media Marketing, SEO, YouTube, Email, Facebook Marketing, Analytics & More!",
         "494107",
         "4.4",
         "117014",
         "https://www.udemy.com/course/learn-digital-marketing-course/",
         "marketing"
        ],
        [
         "1",
         "Ultimate Google Ads Training 2020: Profit with Pay Per Click",
         "Google Ads 2020: How our clients have transformed their sales using Google Ads & get your Google Ads certification!",
         "159200",
         "4.7",
         "39979",
         "https://www.udemy.com/course/the-ultimate-google-adwords-training-course/",
         "marketing"
        ],
        [
         "2",
         "Instagram Marketing 2020: Complete Guide To Instagram Growth",
         "Attract Hyper-Targeted Instagram Followers, Convert Followers to Paying Customers, & Expand your Brand Using Instagram",
         "128185",
         "4.4",
         "24520",
         "https://www.udemy.com/course/instagram-marketing-for-small-businesses/",
         "marketing"
        ],
        [
         "3",
         "Facebook Ads & Facebook Marketing MASTERY 2020 | Coursenvy ®",
         "Facebook Marketing from beginner to advanced! Join 100,000+ students who MASTERED Facebook and are Facebook Ads experts!",
         "157240",
         "4.4",
         "24351",
         "https://www.udemy.com/course/facebook-ads-facebook-marketing-mastery-guide/",
         "marketing"
        ],
        [
         "4",
         "Digital Marketing Masterclass - 23 Courses in 1",
         "Grow Your Business with Digital Marketing: Social Media Marketing, Facebook, Content, YouTube, Email Marketing, Websites",
         "188603",
         "4.4",
         "14107",
         "https://www.udemy.com/course/digital-marketing-masterclass/",
         "marketing"
        ],
        [
         "5",
         "SQL for Data Analysis: Weekender Crash Course for Beginners",
         "Using MySQL but applicable to Oracle SQL, Microsoft SQL Server, and PostgreSQL. Taught by a Data Scientist and PM.",
         "59684",
         "4.3",
         "11851",
         "https://www.udemy.com/course/sql-for-newbs/",
         "marketing"
        ],
        [
         "6",
         "Social Media Marketing MASTERY | Learn Ads on 10+ Platforms",
         "MASTER online marketing on Twitter, Pinterest, Instagram, YouTube, Facebook, Google and more ad platforms! Coursenvy ®",
         "80997",
         "4.4",
         "11617",
         "https://www.udemy.com/course/social-media-marketing-ads/",
         "marketing"
        ],
        [
         "7",
         "Google Analytics Certification: Become Certified & Earn More",
         "Become Google Analytics Certified to Land a Job, Get Promoted or Start a New Career in Digital Marketing! 2020 Guide",
         "75384",
         "4.5",
         "11342",
         "https://www.udemy.com/course/google-analytics-certification/",
         "marketing"
        ],
        [
         "8",
         "SEO 2020: Complete SEO Training + SEO for WordPress Websites",
         "Rank 1 on Google with Technical SEO, 1s Pagespeed, UX SEO, Backlink SEO, Keyword Research SEO + WordPress SEO Training",
         "63838",
         "4.4",
         "11219",
         "https://www.udemy.com/course/seo-get-to-number1-in-google-search/",
         "marketing"
        ],
        [
         "9",
         "The Complete Copywriting Course : Write to Sell Like a Pro",
         "Write Effective Sales Copy & Grow Your Business & Career // Access Timeless Copywriting Formulas, Templates & FREE Tools",
         "35975",
         "4.6",
         "9604",
         "https://www.udemy.com/course/the-complete-copywriting-course/",
         "marketing"
        ],
        [
         "10",
         "Social Media Marketing - Complete Certificate Course",
         "The comprehensive social media course, beginner to advanced. Go viral, get started today!",
         "46693",
         "4.2",
         "9312",
         "https://www.udemy.com/course/learn-social-media-marketing-course/",
         "marketing"
        ],
        [
         "11",
         "YouTube Masterclass - Your Complete Guide to YouTube",
         "Complete guide to starting a YouTube channel, getting more views & subscribers, and building a brand with videos!",
         "157356",
         "4.3",
         "7886",
         "https://www.udemy.com/course/youtube-masterclass/",
         "marketing"
        ],
        [
         "12",
         "ClickBank Success – Affiliate Marketing Without A Website",
         "Learn and model my proven system for success as a ClickBank affiliate. No hidden secrets - I reveal it all!",
         "32953",
         "4.4",
         "6987",
         "https://www.udemy.com/course/clickbank-affiliate-marketing-success/",
         "marketing"
        ],
        [
         "13",
         "Instagram Marketing 2020: Hashtags, Live, Stories, Ads &more",
         "Watch me take an account from an idea to 40k followers in 4 months. 14 hours instruction, 8 hours of BTS videos",
         "73872",
         "4.4",
         "6826",
         "https://www.udemy.com/course/instagram-masterclass-grow-your-account-complete-guide/",
         "marketing"
        ],
        [
         "14",
         "[2020] Growth Hacking with Digital Marketing (Version 7.2)",
         "Become a growth hacker! This course is used by teams at PayPal®, IBM®, Citibank® & many other successful organizations!",
         "44930",
         "4.5",
         "5324",
         "https://www.udemy.com/course/growth-hacking-masterclass-become-a-digital-marketing-ninja/",
         "marketing"
        ],
        [
         "15",
         "Copywriting secrets - How to write copy that sells",
         "Discover the secrets of copywriting success from the master. From novice to pro in easy stages",
         "37296",
         "4.4",
         "5148",
         "https://www.udemy.com/course/copywriting-secrets/",
         "marketing"
        ],
        [
         "16",
         "Mega Digital Marketing Course A-Z: 12 Courses in 1 + Updates",
         "Digital Marketing Strategy, Social Media Marketing, WordPress, SEO, Digital Sale, Email, Instagram, Facebook, ads ..",
         "32765",
         "4.4",
         "4989",
         "https://www.udemy.com/course/digital-marketing-strategy-course-wordpress-seo-instagram-facebook/",
         "marketing"
        ],
        [
         "17",
         "Social Media Management - The Complete 2019 Manager Bootcamp",
         "Become a freelance social media manager | Start a management business | Work from anywhere | Achieve financial freedom",
         "19260",
         "4.4",
         "4883",
         "https://www.udemy.com/course/social-media-management-complete-manager-bootcamp/",
         "marketing"
        ],
        [
         "18",
         "Complete SEO Training With Top SEO Expert Peter Kent!",
         "Win The SEO Game & Dominate The Search Engines With the Author of Best-Selling Search Engine Optimization for Dummies.",
         "32573",
         "4.4",
         "4257",
         "https://www.udemy.com/course/search-engine-optimization-for-beginners-seo-that-works/",
         "marketing"
        ],
        [
         "19",
         "Seth Godin on Presenting to Persuade",
         "Build your business, make your point, sell your idea",
         "11857",
         "4.4",
         "4142",
         "https://www.udemy.com/course/seth-godin-on-powerful-presentations/",
         "marketing"
        ],
        [
         "20",
         "2020 Complete SEO Guide to Ranking Local Business Websites",
         "Watch over my shoulder as I redesign and rank a real live client local business website on the 1st page of Google",
         "25317",
         "4.4",
         "3611",
         "https://www.udemy.com/course/rank-local-business-websites/",
         "marketing"
        ],
        [
         "21",
         "SEO Training: Get Free Traffic to Your Website With SEO",
         "SEO Training to Rank #1 in Google. SEO Audit, Keyword Research, On Page SEO, Link Building, WordPress SEO & More!",
         "36736",
         "4.3",
         "3586",
         "https://www.udemy.com/course/seo-roadmap/",
         "marketing"
        ],
        [
         "22",
         "Digital Marketing Certification: Master Digital Marketing",
         "Join Over 100.000 Students Who Have Already Learned All The Secrets of Digital Marketing. Be a Digital Marketing Expert!",
         "128037",
         "4.2",
         "3606",
         "https://www.udemy.com/course/digital-marketing-seo-google-ads-google-analytics-monitoring/",
         "marketing"
        ],
        [
         "23",
         "How Retargeting Works–The Complete Guide To Retargeting Ads!",
         "What Is Retargeting and How Does It Work? Learn Remarketing Secrets That Will Help You Convert Your Abandoning Visitors!",
         "25531",
         "4.7",
         "3475",
         "https://www.udemy.com/course/how-retargeting-works/",
         "marketing"
        ],
        [
         "24",
         "Social Media Marketing - Content Marketing Masterclass 2020",
         "Online Digital Marketing / Social Media Strategy For Beginners - Posts / Blogs / Podcasts / Video / Google Local SEO",
         "24208",
         "4.3",
         "3473",
         "https://www.udemy.com/course/social-media-marketing-masterclass/",
         "marketing"
        ],
        [
         "25",
         "How to Create Animated Videos with Powerpoint",
         "Learn an easy way to create video animation with PowerPoint for business, marketing, online courses, YouTube and more",
         "12539",
         "4.6",
         "2986",
         "https://www.udemy.com/course/powerpoint-video/",
         "marketing"
        ],
        [
         "3654",
         "Email Marketing Made Simple",
         "Learn the Basics & Fundamentals and Advanced Techniques of Email Marketing",
         "13",
         "4.3",
         "3",
         "https://www.udemy.com/course/email-marketing-made-simple/",
         "marketing"
        ],
        [
         "26",
         "Google AdWords for Beginners 2020",
         "Learn how to effectively use AdWords to reach more customers online and grow your business.",
         "23200",
         "4.2",
         "2978",
         "https://www.udemy.com/course/learn-google-adwords-course-for-beginners/",
         "marketing"
        ],
        [
         "27",
         "The Complete Facebook Ads Course - Beginner to Advanced",
         "Master Facebook Advertising and Grow Any Business - Facebook Marketing Strategy, Ad Retargeting, Remarketing & More!",
         "15753",
         "4.5",
         "2931",
         "https://www.udemy.com/course/facebook-ads-course-beginner-to-advanced/",
         "marketing"
        ],
        [
         "28",
         "Content Marketing: Grow Your Business with Content Marketing",
         "Learn how to use modern content marketing to grow your business and brand! Come up with your own Content Marketing plan!",
         "165793",
         "4.4",
         "2695",
         "https://www.udemy.com/course/content-marketing-for-beginners/",
         "marketing"
        ],
        [
         "29",
         "The Complete Facebook Ads & Marketing Course",
         "The #1 Guide to Facebook Advertising & Marketing - Join 50,000+ students who are selling with Ads right now!",
         "83926",
         "4.1",
         "2650",
         "https://www.udemy.com/course/facebook-advertising/",
         "marketing"
        ],
        [
         "30",
         "Instagram Marketing 2020 | Grow Organic Followers Naturally!",
         "Grow Organic Targeted Followers, Quick Brand Awareness, & Turn Page Visits Into Paying Customers w/ Instagram Marketing",
         "90917",
         "4.2",
         "2626",
         "https://www.udemy.com/course/2020-millennial-insta-marketing-grow-10k-organic-followers/",
         "marketing"
        ],
        [
         "31",
         "Modern Copywriting: Writing copy that sells in 2020",
         "Learn how to strategically deliver words that get people to take action using the art and science of copywriting.",
         "28076",
         "4.4",
         "2535",
         "https://www.udemy.com/course/modern-copywriting-writing-copy-that-sells-in-2018/",
         "marketing"
        ],
        [
         "32",
         "Writing Tools & Hacks: Copywriting/Blogging/Content Writing",
         "The best FREE writing tools & apps + Hacks to take your copywriting, blogging, & content writing to the next level.",
         "14065",
         "4.2",
         "2498",
         "https://www.udemy.com/course/writing-tools-hacks/",
         "marketing"
        ],
        [
         "33",
         "SEO:Amazon Affiliate Marketing+SEO |250+ Videos |18.0 Hours",
         "Build Amazon Affiliate Marketing Sites - Niche & Keyword Research, Link Building, Silo Architecture, WordPress SEO",
         "23704",
         "4.4",
         "2408",
         "https://www.udemy.com/course/seo-complete-guide-to-building-amazon-affiliate-sites/",
         "marketing"
        ],
        [
         "34",
         "Business Branding: The Complete Course Part 1 - Strategy",
         "Build A Strategic Brand From The Ground Up, To Catapult Your Marketing Impact",
         "9185",
         "4.6",
         "2399",
         "https://www.udemy.com/course/business-branding-complete-course/",
         "marketing"
        ],
        [
         "35",
         "Social Media Marketing Agency : Digital Marketing + Business",
         "Learn to build a business, find clients, & social media marketing all in one. Facebook ads, Instagram, Google ads & ...",
         "34246",
         "4.5",
         "2380",
         "https://www.udemy.com/course/social-media-marketing-agency-digital-business-facebook-ads-instagram/",
         "marketing"
        ],
        [
         "36",
         "The Complete MailChimp Email Marketing Course",
         "Learn how to use Mailchimp, grow an email subscriber list and build high quality email marketing campaigns!",
         "16015",
         "4.3",
         "2376",
         "https://www.udemy.com/course/mailchimp-email-marketing/",
         "marketing"
        ],
        [
         "37",
         "Copywriting - Become a Freelance Copywriter, your own boss",
         "Build a successful freelance copywriting business - turn basic writing skills into a paycheck.",
         "30589",
         "4.2",
         "2297",
         "https://www.udemy.com/course/how-to-become-a-copywriter-from-home/",
         "marketing"
        ],
        [
         "38",
         "SEO For WordPress [Beginners]: #1 Step-by-Step SEO System",
         "\"\"\"SEO For WordPress: Discover How to Easily Get Your Website on Page #1 of Google",
         " Yahoo! & Bing ..Fast!\"",
         "31327",
         "4.5",
         "2279",
         "marketing"
        ],
        [
         "0",
         "Cinematography Course: Shoot Expert Video on Any Camera",
         "Your Online Guide to Professional Cinematography. Learn to Shoot Stunning Video Like a Professional With Any Camera.",
         "7983",
         "4.5",
         "2335",
         "https://www.udemy.com/course/cinematographycourse/",
         "photography"
        ],
        [
         "1",
         "Adobe Premiere Pro CC 2020: Video Editing for Beginners",
         "Learn how to edit amazing videos in Adobe Premiere Pro CC 2020 with zero experience.",
         "203666",
         "4.5",
         "2320",
         "https://www.udemy.com/course/premiere-pro-with-brad-newton/",
         "photography"
        ],
        [
         "2",
         "The Complete Final Cut Pro X Course Beginner To Intermediate",
         "In this complete course students will learn how to edit their videos using Final Cut Pro X from beginner to intermediate",
         "17236",
         "4.4",
         "2111",
         "https://www.udemy.com/course/finalcutproxcourse/",
         "photography"
        ],
        [
         "3",
         "Photography - Become a Better Photographer - Part I",
         "See results today! 50 photography tips for taking amazing photos with your DSLR, Mirrorless or compact camera.",
         "14264",
         "4.7",
         "1663",
         "https://www.udemy.com/course/great-photography-tips-photo-tutorials/",
         "photography"
        ],
        [
         "4",
         "GIMP 2.10 Masterclass: From Beginner to Pro Photo Editing",
         "GIMP 2.10 Complete Guide - Learn the Free Photo Editor GIMP. Go From a Beginner to Pro in Photo Editing & Graphic Design",
         "6314",
         "4.6",
         "1598",
         "https://www.udemy.com/course/gimp-photo-editing/",
         "photography"
        ],
        [
         "5",
         "Wedding Photography: Complete Guide to Wedding Photography",
         "Learn exactly how to become a wedding photographer, start a photo business of your own, and shoot better wedding photos.",
         "74287",
         "4.6",
         "1587",
         "https://www.udemy.com/course/wedding-photography-course/",
         "photography"
        ],
        [
         "6",
         "Night Photography: You Can Shoot Stunning Night Photos",
         "You will shoot amazing night photos that impress your family and friends with this complete night photography course!",
         "93955",
         "4.4",
         "1586",
         "https://www.udemy.com/course/night-photography/",
         "photography"
        ],
        [
         "7",
         "VIDEO CINEMATOGRAPHY techniques loved by pro filmmakers",
         "Creative video. Learn what pro broadcast camera ops do to grab and excite an audience. Taught by a pro broadcaster",
         "7843",
         "4.5",
         "1564",
         "https://www.udemy.com/course/motivate-inspire-and-empower-your-video-audience/",
         "photography"
        ],
        [
         "8",
         "Learn Landscape Photography",
         "Get inspired | Learn more | Go places",
         "31947",
         "3.8",
         "1553",
         "https://www.udemy.com/course/learn-landscapes/",
         "photography"
        ],
        [
         "9",
         "Complete Photography : 21 Courses in 1 [Beginner to Expert]",
         "Learn Portrait Photography, Landscape Photography, Stock Photography, Photography Composition, Black and White, and more",
         "69461",
         "4.3",
         "1462",
         "https://www.udemy.com/course/interactive-photography-basics/",
         "photography"
        ],
        [
         "10",
         "Adobe Lightroom CC + Classic // Learn Photo Editing by Pro",
         "Lightroom - Learn all my Lightroom CC Classic secrets & photo editing techniques. Get organized & make your images pop!",
         "12372",
         "4.5",
         "1443",
         "https://www.udemy.com/course/master-adobe-lightroom-6-in-1-day/",
         "photography"
        ],
        [
         "11",
         "Long Exposure Photography: Shoot Your Own Stunning Photos",
         "A quick start long exposure tutorial that will get you shooting beautiful photographs with your DSLR and iPhone cameras.",
         "20797",
         "4.8",
         "1403",
         "https://www.udemy.com/course/long-exposure-photography-tutorial/",
         "photography"
        ],
        [
         "12",
         "Color Grading with Da Vinci Resolve: Beginner to Advanced",
         "Learn to grade like a professional with hands-on projects and guidance!",
         "7739",
         "4.4",
         "1327",
         "https://www.udemy.com/course/color-grading-with-da-vinci-resolve-beginner-to-advanced/",
         "photography"
        ],
        [
         "13",
         "Street Photography: How I approach people on the streets...",
         "Learn how to get over your fear, how to approach people and how to improve the creativity and quality of your photos.",
         "31866",
         "4.3",
         "1320",
         "https://www.udemy.com/course/streetphotography/",
         "photography"
        ],
        [
         "14",
         "Photography Composition & Portrait Photography Masterclass",
         "Studio Photography Lighting / Street Photography / Creative Photography / DSLR Photography / Black & White Photography",
         "11280",
         "4.6",
         "1265",
         "https://www.udemy.com/course/creative-photography-composition-masterclass/",
         "photography"
        ],
        [
         "15",
         "Phantom & Mavic Filmschool 1- master autopilot with Litchi",
         "Use autopilot to get amazing cinematic shots with your drone. You will master the Litchi app & take pro footage!",
         "4316",
         "4.6",
         "1252",
         "https://www.udemy.com/course/phantom-filmschool/",
         "photography"
        ],
        [
         "0",
         "2020 Complete Python Bootcamp: From Zero to Hero in Python",
         "Learn Python like a Professional! Start from the basics and go all the way to creating your own applications and games!",
         "1100093",
         "4.6",
         "318066",
         "https://www.udemy.com/course/complete-python-bootcamp/",
         "tech"
        ],
        [
         "1",
         "The Web Developer Bootcamp",
         "The only course you need to learn web development - HTML, CSS, JS, Node, and More!",
         "596726",
         "4.6",
         "182997",
         "https://www.udemy.com/course/the-web-developer-bootcamp/",
         "tech"
        ],
        [
         "2",
         "Machine Learning A-Z™: Hands-On Python & R In Data Science",
         "Learn to create Machine Learning Algorithms in Python and R from two Data Science experts. Code templates included.",
         "692812",
         "4.5",
         "132228",
         "https://www.udemy.com/course/machinelearning/",
         "tech"
        ],
        [
         "3",
         "Angular - The Complete Guide (2020 Edition)",
         "\"Master Angular 10 (formerly \"\"Angular 2\"\") and build awesome",
         " reactive web apps with the successor of Angular.js\"",
         "422557",
         "4.6",
         "129984",
         "tech"
        ],
        [
         "4",
         "Java Programming Masterclass for Software Developers",
         "Learn Java In This Course And Become a Computer Programmer. Obtain valuable Core Java Skills And Java Certification",
         "502572",
         "4.6",
         "123798",
         "https://www.udemy.com/course/java-the-complete-java-developer-course/",
         "tech"
        ],
        [
         "5",
         "React - The Complete Guide (incl Hooks, React Router, Redux)",
         "Dive in and learn React.js from scratch! Learn Reactjs, Hooks, Redux, React Routing, Animations, Next.js and way more!",
         "304670",
         "4.6",
         "90964",
         "https://www.udemy.com/course/react-the-complete-guide-incl-redux/",
         "tech"
        ],
        [
         "6",
         "The Complete 2020 Web Development Bootcamp",
         "Become a full-stack web developer with just one course. HTML, CSS, Javascript, Node, React, MongoDB and more!",
         "270656",
         "4.7",
         "88098",
         "https://www.udemy.com/course/the-complete-web-development-bootcamp/",
         "tech"
        ],
        [
         "7",
         "Python for Data Science and Machine Learning Bootcamp",
         "Learn how to use NumPy, Pandas, Seaborn , Matplotlib , Plotly , Scikit-Learn , Machine Learning, Tensorflow , and more!",
         "387789",
         "4.6",
         "87403",
         "https://www.udemy.com/course/python-for-data-science-and-machine-learning-bootcamp/",
         "tech"
        ],
        [
         "8",
         "The Complete JavaScript Course 2020: Build Real Projects!",
         "Master JavaScript with the most complete course! Projects, challenges, quizzes, JavaScript ES6+, OOP, AJAX, Webpack",
         "347979",
         "4.6",
         "83521",
         "https://www.udemy.com/course/the-complete-javascript-course/",
         "tech"
        ],
        [
         "9",
         "Complete C# Unity Game Developer 2D",
         "Learn Unity in C# & Code Your First Seven 2D Video Games for Web, Mac & PC. The Tutorials Cover Tilemap (35 hours)",
         "364934",
         "4.6",
         "78989",
         "https://www.udemy.com/course/unitycourse/",
         "tech"
        ],
        [
         "10",
         "The Data Science Course 2020: Complete Data Science Bootcamp",
         "Complete Data Science Training: Mathematics, Statistics, Python, Advanced Statistics in Python, Machine & Deep Learning",
         "325047",
         "4.5",
         "76907",
         "https://www.udemy.com/course/the-data-science-course-complete-data-science-bootcamp/",
         "tech"
        ],
        [
         "11",
         "Automate the Boring Stuff with Python Programming",
         "A practical programming course for office workers, academics, and administrators who want to improve their productivity.",
         "692617",
         "4.6",
         "70508",
         "https://www.udemy.com/course/automate/",
         "tech"
        ],
        [
         "12",
         "The Complete Web Developer Course 2.0",
         "Learn Web Development by building 25 websites and mobile apps using HTML, CSS, Javascript, PHP, Python, MySQL & more!",
         "273598",
         "4.5",
         "63175",
         "https://www.udemy.com/course/the-complete-web-developer-course-2/",
         "tech"
        ],
        [
         "13",
         "Modern React with Redux [2020 Update]",
         "Master React v16.6.3 and Redux with React Router, Webpack, and Create-React-App. Includes Hooks!",
         "203214",
         "4.7",
         "60835",
         "https://www.udemy.com/course/react-redux/",
         "tech"
        ],
        [
         "14",
         "Learn Python Programming Masterclass",
         "This Python For Beginners Course Teaches You The Python Language Fast. Includes Python Online Training With Python 3",
         "240790",
         "4.5",
         "58677",
         "https://www.udemy.com/course/python-the-complete-python-developer-course/",
         "tech"
        ],
        [
         "15",
         "The Complete Node.js Developer Course (3rd Edition)",
         "Learn Node.js by building real-world applications with Node, Express, MongoDB, Jest, and more!",
         "202922",
         "4.7",
         "50885",
         "https://www.udemy.com/course/the-complete-nodejs-developer-course-2/",
         "tech"
        ],
        [
         "16",
         "iOS 13 & Swift 5 - The Complete iOS App Development Bootcamp",
         "From Beginner to iOS App Developer with Just One Course! Fully Updated with a Comprehensive Module Dedicated to SwiftUI!",
         "179598",
         "4.8",
         "49972",
         "https://www.udemy.com/course/ios-13-app-development-bootcamp/",
         "tech"
        ],
        [
         "17",
         "Selenium WebDriver with Java -Basics to Advanced+Frameworks",
         "\"\"\"TOP RATED (BEST SELLER) #1 Master SELENIUM java course\"\" -5 Million students learning worldWide with great collaboration\"",
         "148562",
         "4.6",
         "49947",
         "https://www.udemy.com/course/selenium-real-time-examplesinterview-questions/",
         "tech"
        ],
        [
         "18",
         "Unreal Engine C++ Developer: Learn C++ and Make Video Games",
         "Created in collaboration with Epic Games. Learn C++ from basics while making your first 4 video games in Unreal",
         "229005",
         "4.5",
         "45860",
         "https://www.udemy.com/course/unrealcourse/",
         "tech"
        ],
        [
         "19",
         "The Ultimate MySQL Bootcamp: Go from SQL Beginner to Expert",
         "Become an In-demand SQL Master by creating complex databases and building reports through real-world projects",
         "203366",
         "4.6",
         "45382",
         "https://www.udemy.com/course/the-ultimate-mysql-bootcamp-go-from-sql-beginner-to-expert/",
         "tech"
        ],
        [
         "20",
         "Spring & Hibernate for Beginners (includes Spring Boot)",
         "Spring 5: Learn Spring 5 Core, AOP, Spring MVC, Spring Security, Spring REST, Spring Boot 2, Thymeleaf, JPA & Hibernate",
         "177053",
         "4.6",
         "45329",
         "https://www.udemy.com/course/spring-hibernate-tutorial/",
         "tech"
        ],
        [
         "21",
         "Build Responsive Real World Websites with HTML5 and CSS3",
         "The easiest way to learn modern web design, HTML5 and CSS3 step-by-step from scratch. Design AND code a huge project.",
         "197609",
         "4.6",
         "44710",
         "https://www.udemy.com/course/design-and-develop-a-killer-website-with-html5-and-css3/",
         "tech"
        ],
        [
         "22",
         "The Python Mega Course: Build 10 Real World Applications",
         "A complete Python course for both beginners and intermediates! Master Python 3 by making 10 amazing Python apps.",
         "196701",
         "4.5",
         "42713",
         "https://www.udemy.com/course/the-python-mega-course/",
         "tech"
        ],
        [
         "23",
         "Docker Mastery: with Kubernetes +Swarm from a Docker Captain",
         "Build, test, deploy containers with the best mega-course on Docker, Kubernetes, Compose, Swarm and Registry using DevOps",
         "190291",
         "4.6",
         "41383",
         "https://www.udemy.com/course/docker-mastery/",
         "tech"
        ],
        [
         "24",
         "Vue - The Complete Guide (w/ Router, Vuex, Composition API)",
         "Vue.js is an awesome JavaScript Framework for building Frontend Applications! VueJS mixes the Best of Angular + React!",
         "138636",
         "4.7",
         "41054",
         "https://www.udemy.com/course/vuejs-2-the-complete-guide/",
         "tech"
        ],
        [
         "25",
         "The Complete Web Developer in 2020: Zero to Mastery",
         "Learn to code and become a Web Developer in 2020 with HTML, CSS, Javascript, React, Node.js, Machine Learning & more!",
         "138822",
         "4.7",
         "40976",
         "https://www.udemy.com/course/the-complete-web-developer-zero-to-mastery/",
         "tech"
        ],
        [
         "26",
         "JavaScript: Understanding the Weird Parts",
         "An advanced JavaScript course for everyone! Scope, closures, prototypes, 'this', build your own framework, and more.",
         "152004",
         "4.7",
         "39102",
         "https://www.udemy.com/course/understand-javascript/",
         "tech"
        ],
        [
         "9358",
         "PHP 101",
         "PHP Coding for Beginners",
         "514",
         "4.7",
         "12",
         "https://www.udemy.com/course/introduction-to-php-101/",
         "tech"
        ],
        [
         "27",
         "C# Basics for Beginners: Learn C# Fundamentals by Coding",
         "Master C# fundamentals in 6 hours - The most popular course with 50,000+ students, packed with tips and exercises!",
         "124918",
         "4.5",
         "38450",
         "https://www.udemy.com/course/csharp-tutorial-for-beginners/",
         "tech"
        ],
        [
         "28",
         "R Programming A-Z™: R For Data Science With Real Exercises!",
         "Learn Programming In R And R Studio. Data Analytics, Data Science, Statistical Analysis, Packages, Functions, GGPlot2",
         "188765",
         "4.6",
         "35635",
         "https://www.udemy.com/course/r-programming/",
         "tech"
        ],
        [
         "29",
         "The Complete React Native + Hooks Course [2020 Edition]",
         "Understand React Native v0.62.2 with Hooks, Context, and React Navigation.",
         "130527",
         "4.6",
         "34178",
         "https://www.udemy.com/course/the-complete-react-native-and-redux-course/",
         "tech"
        ],
        [
         "30",
         "Python and Django Full Stack Web Developer Bootcamp",
         "Learn to build websites with HTML , CSS , Bootstrap , Javascript , jQuery , Python 3 , and Django!",
         "130584",
         "4.5",
         "33670",
         "https://www.udemy.com/course/python-and-django-full-stack-web-developer-bootcamp/",
         "tech"
        ],
        [
         "31",
         "Deep Learning A-Z™: Hands-On Artificial Neural Networks",
         "Learn to create Deep Learning Algorithms in Python from two Machine Learning & Data Science experts. Templates included.",
         "278698",
         "4.5",
         "33454",
         "https://www.udemy.com/course/deeplearning/",
         "tech"
        ],
        [
         "32",
         "Docker and Kubernetes: The Complete Guide",
         "Build, test, and deploy Docker applications with Kubernetes while learning production-style development workflows",
         "149882",
         "4.7",
         "31822",
         "https://www.udemy.com/course/docker-and-kubernetes-the-complete-guide/",
         "tech"
        ],
        [
         "33",
         "iOS 11 & Swift 4 - The Complete iOS App Development Bootcamp",
         "Learn iOS 11 App Development From Beginning to End. Using Xcode 9 and Swift 4. Includes Full ARKit and CoreML Modules!",
         "116136",
         "4.6",
         "31265",
         "https://www.udemy.com/course/ios11-app-development-bootcamp/",
         "tech"
        ],
        [
         "34",
         "The Python Bible™ | Everything You Need to Program in Python",
         "Build 11 Projects and go from Beginner to Pro in Python with the World's Most Fun Project-Based Python Course!",
         "103624",
         "4.6",
         "29516",
         "https://www.udemy.com/course/the-python-bible/",
         "tech"
        ],
        [
         "35",
         "Beginning C++ Programming - From Beginner to Beyond",
         "Obtain Modern C++ Object-Oriented Programming (OOP) and STL skills needed for game, system, and application development.",
         "108689",
         "4.6",
         "29286",
         "https://www.udemy.com/course/beginning-c-plus-plus-programming/",
         "tech"
        ],
        [
         "36",
         "Data Science A-Z™: Real-Life Data Science Exercises Included",
         "Learn Data Science step by step through real Analytics examples. Data Mining, Modeling, Tableau Visualization and more!",
         "180119",
         "4.6",
         "27767",
         "https://www.udemy.com/course/datascience/",
         "tech"
        ],
        [
         "37",
         "Flutter & Dart - The Complete Guide [2020 Edition]",
         "A Complete Guide to the Flutter SDK & Flutter Framework for building native iOS and Android apps",
         "99991",
         "4.6",
         "27084",
         "https://www.udemy.com/course/learn-flutter-dart-to-build-ios-android-apps/",
         "tech"
        ],
        [
         "38",
         "The Complete Android N Developer Course",
         "Learn Android App Development with Android 7 Nougat by building real apps including Uber, Whatsapp and Instagram!",
         "145069",
         "4.4",
         "26788",
         "https://www.udemy.com/course/complete-android-n-developer-course/",
         "tech"
        ]
       ],
       "datasetInfos": [],
       "dbfsResultPath": null,
       "isJsonSchema": true,
       "metadata": {},
       "overflow": false,
       "plotOptions": {
        "customPlotOptions": {},
        "displayType": "table",
        "pivotAggregation": null,
        "pivotColumns": null,
        "xColumns": null,
        "yColumns": null
       },
       "removedWidgets": [],
       "schema": [
        {
         "metadata": "{}",
         "name": "index",
         "type": "\"string\""
        },
        {
         "metadata": "{}",
         "name": "Title",
         "type": "\"string\""
        },
        {
         "metadata": "{}",
         "name": "Summary",
         "type": "\"string\""
        },
        {
         "metadata": "{}",
         "name": "Enrollment",
         "type": "\"string\""
        },
        {
         "metadata": "{}",
         "name": "Stars",
         "type": "\"string\""
        },
        {
         "metadata": "{}",
         "name": "Rating",
         "type": "\"string\""
        },
        {
         "metadata": "{}",
         "name": "Link",
         "type": "\"string\""
        },
        {
         "metadata": "{}",
         "name": "category",
         "type": "\"string\""
        }
       ],
       "type": "table"
      }
     },
     "output_type": "display_data"
    }
   ],
   "source": [
    "display(src_final_df)"
   ]
  },
  {
   "cell_type": "code",
   "execution_count": 0,
   "metadata": {
    "application/vnd.databricks.v1+cell": {
     "cellMetadata": {},
     "inputWidgets": {},
     "nuid": "c24ced20-132b-4ae3-ab20-ff6ad4d172a5",
     "showTitle": false,
     "title": ""
    }
   },
   "outputs": [],
   "source": [
    "# dbutils.fs.rm(\"dbfs:/mini_project/DataLake/bronze/udemy1\", True)\n",
    "src_final_df.write.format(\"parquet\").mode(\"overwrite\").saveAsTable(\"bronze.udemy1\")\n",
    "\n"
   ]
  },
  {
   "cell_type": "code",
   "execution_count": 0,
   "metadata": {
    "application/vnd.databricks.v1+cell": {
     "cellMetadata": {},
     "inputWidgets": {},
     "nuid": "27eb5b2d-4a01-4922-a4fe-8ba6dfcdcb40",
     "showTitle": false,
     "title": ""
    }
   },
   "outputs": [
    {
     "output_type": "stream",
     "name": "stdout",
     "output_type": "stream",
     "text": [
      "Out[17]: DataFrame[]"
     ]
    }
   ],
   "source": [
    "spark.sql(\"REFRESH TABLE bronze.udemy1\")"
   ]
  }
 ],
 "metadata": {
  "application/vnd.databricks.v1+notebook": {
   "dashboards": [],
   "language": "python",
   "notebookMetadata": {
    "mostRecentlyExecutedCommandWithImplicitDF": {
     "commandId": 1546152148558859,
     "dataframes": [
      "_sqldf"
     ]
    },
    "pythonIndentUnit": 4
   },
   "notebookName": "NB_BRONZE_UDEMY",
   "widgets": {}
  }
 },
 "nbformat": 4,
 "nbformat_minor": 0
}
