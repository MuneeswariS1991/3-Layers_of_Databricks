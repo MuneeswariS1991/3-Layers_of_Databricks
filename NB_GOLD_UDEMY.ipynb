{
 "cells": [
  {
   "cell_type": "code",
   "execution_count": 0,
   "metadata": {
    "application/vnd.databricks.v1+cell": {
     "cellMetadata": {},
     "inputWidgets": {},
     "nuid": "9d2471e6-9399-4236-86b8-d55cb7928f17",
     "showTitle": false,
     "title": ""
    }
   },
   "outputs": [],
   "source": [
    "df_udemy_silver = spark.read.table(\"silver.udemy2\")\n"
   ]
  },
  {
   "cell_type": "code",
   "execution_count": 0,
   "metadata": {
    "application/vnd.databricks.v1+cell": {
     "cellMetadata": {},
     "inputWidgets": {},
     "nuid": "9778dc4f-6c83-4848-977d-0589786ec9d1",
     "showTitle": false,
     "title": ""
    }
   },
   "outputs": [
    {
     "output_type": "display_data",
     "data": {
      "text/html": [
       "<style scoped>\n",
       "  .table-result-container {\n",
       "    max-height: 300px;\n",
       "    overflow: auto;\n",
       "  }\n",
       "  table, th, td {\n",
       "    border: 1px solid black;\n",
       "    border-collapse: collapse;\n",
       "  }\n",
       "  th, td {\n",
       "    padding: 5px;\n",
       "  }\n",
       "  th {\n",
       "    text-align: left;\n",
       "  }\n",
       "</style><div class='table-result-container'><table class='table-result'><thead style='background-color: white'><tr><th>index</th><th>Title</th><th>Summary</th><th>Enrollment</th><th>Stars</th><th>Rating</th><th>Link</th><th>category</th><th>instructor_tag</th><th>written_rating</th><th>total_students_author</th><th>latest_enroll</th><th>total_courses</th><th>instructor_rating</th><th>img_url</th><th>course_rating</th><th>written_course_rating</th><th>author_name</th><th>last_modified</th><th>created_timestamp</th></tr></thead><tbody><tr><td>0</td><td>The Complete Digital Marketing Course - 12 Courses in 1</td><td>Master Digital Marketing Strategy, Social Media Marketing, SEO, YouTube, Email, Facebook Marketing, Analytics & More!</td><td>494107</td><td>4.4</td><td>117014</td><td>https://www.udemy.com/course/learn-digital-marketing-course/</td><td>marketing</td><td>[Web Developer And Teacher</td><td>463464</td><td>2205928</td><td>737753</td><td>80</td><td>4.5</td><td> https://img-b.udemycdn.com/course/240x135/914296_3670_8.jpg</td><td>4.5</td><td>160871</td><td> Rob Percival</td><td>11/2022</td><td>2023-03-06T14:58:34.549+0000</td></tr><tr><td>1</td><td>Ultimate Google Ads Training 2020: Profit with Pay Per Click</td><td>Google Ads 2020: How our clients have transformed their sales using Google Ads & get your Google Ads certification!</td><td>159200</td><td>4.7</td><td>39979</td><td>https://www.udemy.com/course/the-ultimate-google-adwords-training-course/</td><td>marketing</td><td>[Certified Google AdWords Pro |Co-founder of AdVenture Media</td><td>63417</td><td>239054</td><td>207369</td><td>4</td><td>4.6</td><td> https://img-c.udemycdn.com/course/240x135/671544_9613_5.jpg</td><td>4.6</td><td>50092</td><td> Isaac Rudansky</td><td>10/2021</td><td>2023-03-06T14:58:34.549+0000</td></tr><tr><td>2</td><td>Instagram Marketing 2020: Complete Guide To Instagram Growth</td><td>Attract Hyper-Targeted Instagram Followers, Convert Followers to Paying Customers, & Expand your Brand Using Instagram</td><td>128185</td><td>4.4</td><td>24520</td><td>https://www.udemy.com/course/instagram-marketing-for-small-businesses/</td><td>marketing</td><td>[Passionate Entrepreneur</td><td>40274</td><td>244423</td><td>182624</td><td>11</td><td>4.5</td><td> https://img-b.udemycdn.com/course/240x135/484606_5721_16.jpg</td><td>4.5</td><td>35007</td><td> Benjamin Wilson</td><td>10/2021</td><td>2023-03-06T14:58:34.549+0000</td></tr><tr><td>3</td><td>Facebook Ads & Facebook Marketing MASTERY 2020 | Coursenvy ®</td><td>Facebook Marketing from beginner to advanced! Join 100,000+ students who MASTERED Facebook and are Facebook Ads experts!</td><td>157240</td><td>4.4</td><td>24351</td><td>https://www.udemy.com/course/facebook-ads-facebook-marketing-mastery-guide/</td><td>marketing</td><td>[COURSENVY - Facebook Ads  SMM Expert  Ad Agency  Amazon FBA</td><td>67064</td><td>479282</td><td>208439</td><td>26</td><td>4.4</td><td> https://img-b.udemycdn.com/course/240x135/403314_b091_3.jpg</td><td>4.5</td><td>31870</td><td> COURSE ENVY</td><td>03/2023</td><td>2023-03-06T14:58:34.549+0000</td></tr><tr><td>4</td><td>Digital Marketing Masterclass - 23 Courses in 1</td><td>Grow Your Business with Digital Marketing: Social Media Marketing, Facebook, Content, YouTube, Email Marketing, Websites</td><td>188603</td><td>4.4</td><td>14107</td><td>https://www.udemy.com/course/digital-marketing-masterclass/</td><td>marketing</td><td>[Top-Rated Instructor  2.5 Million+ Students</td><td>144932</td><td>776445</td><td>235908</td><td>72</td><td>4.6</td><td> https://img-c.udemycdn.com/course/240x135/1270870_8e95_14.jpg</td><td>4.5</td><td>20674</td><td> Phil Ebiner</td><td>12/2022</td><td>2023-03-06T14:58:34.549+0000</td></tr><tr><td>5</td><td>SQL for Data Analysis: Weekender Crash Course for Beginners</td><td>Using MySQL but applicable to Oracle SQL, Microsoft SQL Server, and PostgreSQL. Taught by a Data Scientist and PM.</td><td>59684</td><td>4.3</td><td>11851</td><td>https://www.udemy.com/course/sql-for-newbs/</td><td>marketing</td><td>[A Course Series</td><td>14924</td><td>71332</td><td>71335</td><td>1</td><td>4.4</td><td> https://img-c.udemycdn.com/course/240x135/203556_5ff1_3.jpg</td><td>4.4</td><td>14924</td><td> A Course You'll Actually Finish</td><td>09/2022</td><td>2023-03-06T14:58:34.549+0000</td></tr><tr><td>6</td><td>Social Media Marketing MASTERY | Learn Ads on 10+ Platforms</td><td>MASTER online marketing on Twitter, Pinterest, Instagram, YouTube, Facebook, Google and more ad platforms! Coursenvy ®</td><td>80997</td><td>4.4</td><td>11617</td><td>https://www.udemy.com/course/social-media-marketing-ads/</td><td>marketing</td><td>[COURSENVY - Facebook Ads  SMM Expert  Ad Agency  Amazon FBA</td><td>67064</td><td>479282</td><td>123514</td><td>26</td><td>4.4</td><td> https://img-b.udemycdn.com/course/240x135/573984_ce2a_3.jpg</td><td>4.4</td><td>19583</td><td> COURSE ENVY</td><td>02/2023</td><td>2023-03-06T14:58:34.549+0000</td></tr><tr><td>7</td><td>Google Analytics Certification: Become Certified & Earn More</td><td>Become Google Analytics Certified to Land a Job, Get Promoted or Start a New Career in Digital Marketing! 2020 Guide</td><td>75384</td><td>4.5</td><td>11342</td><td>https://www.udemy.com/course/google-analytics-certification/</td><td>marketing</td><td>[Join 1 Million Students In My Best Selling Courses!</td><td>235191</td><td>1312593</td><td>107144</td><td>16</td><td>4.5</td><td> https://img-c.udemycdn.com/course/240x135/328386_6809_11.jpg</td><td>4.4</td><td>16669</td><td> Daragh Walsh</td><td>07/2021</td><td>2023-03-06T14:58:34.549+0000</td></tr><tr><td>9</td><td>The Complete Copywriting Course : Write to Sell Like a Pro</td><td>Write Effective Sales Copy & Grow Your Business & Career // Access Timeless Copywriting Formulas, Templates & FREE Tools</td><td>35975</td><td>4.6</td><td>9604</td><td>https://www.udemy.com/course/the-complete-copywriting-course/</td><td>marketing</td><td>[Teaching the Next Generation of Coders</td><td>507423</td><td>2322346</td><td>76167</td><td>41</td><td>4.5</td><td> https://img-c.udemycdn.com/course/240x135/1575836_367f_13.jpg</td><td>4.6</td><td>19989</td><td> Codestars • over 2 million students worldwide!</td><td>03/2022</td><td>2023-03-06T14:58:34.549+0000</td></tr><tr><td>10</td><td>Social Media Marketing - Complete Certificate Course</td><td>The comprehensive social media course, beginner to advanced. Go viral, get started today!</td><td>46693</td><td>4.2</td><td>9312</td><td>https://www.udemy.com/course/learn-social-media-marketing-course/</td><td>marketing</td><td>[Best-selling instructor & leading social media trainers!</td><td>11702</td><td>80916</td><td>50865</td><td>2</td><td>4.1</td><td> https://img-b.udemycdn.com/course/240x135/450394_b942_8.jpg</td><td>4.1</td><td>10616</td><td> SO ME Academy</td><td>02/2017</td><td>2023-03-06T14:58:34.549+0000</td></tr><tr><td>11</td><td>YouTube Masterclass - Your Complete Guide to YouTube</td><td>Complete guide to starting a YouTube channel, getting more views & subscribers, and building a brand with videos!</td><td>157356</td><td>4.3</td><td>7886</td><td>https://www.udemy.com/course/youtube-masterclass/</td><td>marketing</td><td>[Top-Rated Instructor  2.5 Million+ Students</td><td>389023</td><td>2625059</td><td>177021</td><td>204</td><td>4.6</td><td> https://img-c.udemycdn.com/course/240x135/703140_703a_4.jpg</td><td>4.4</td><td>10584</td><td> Phil Ebiner</td><td>08/2022</td><td>2023-03-06T14:58:34.549+0000</td></tr><tr><td>14</td><td>[2020] Growth Hacking with Digital Marketing (Version 7.2)</td><td>Become a growth hacker! This course is used by teams at PayPal®, IBM®, Citibank® & many other successful organizations!</td><td>44930</td><td>4.5</td><td>5324</td><td>https://www.udemy.com/course/growth-hacking-masterclass-become-a-digital-marketing-ninja/</td><td>marketing</td><td>[Chief Learning Officer at Eazl</td><td>7742</td><td>58432</td><td>58444</td><td>1</td><td>4.4</td><td> https://img-b.udemycdn.com/course/240x135/496924_8ed7_17.jpg</td><td>4.4</td><td>7742</td><td> Davis Jones</td><td>12/2022</td><td>2023-03-06T14:58:34.549+0000</td></tr><tr><td>15</td><td>Copywriting secrets - How to write copy that sells</td><td>Discover the secrets of copywriting success from the master. From novice to pro in easy stages</td><td>37296</td><td>4.4</td><td>5148</td><td>https://www.udemy.com/course/copywriting-secrets/</td><td>marketing</td><td>[Enterprise Technologist and Online Marketing Expert</td><td>17001</td><td>122621</td><td>41845</td><td>16</td><td>4.4</td><td> https://img-c.udemycdn.com/course/240x135/325666_fe45_3.jpg</td><td>4.4</td><td>6236</td><td> Sean Kaye</td><td>04/2018</td><td>2023-03-06T14:58:34.549+0000</td></tr><tr><td>16</td><td>Mega Digital Marketing Course A-Z: 12 Courses in 1 + Updates</td><td>Digital Marketing Strategy, Social Media Marketing, WordPress, SEO, Digital Sale, Email, Instagram, Facebook, ads ..</td><td>32765</td><td>4.4</td><td>4989</td><td>https://www.udemy.com/course/digital-marketing-strategy-course-wordpress-seo-instagram-facebook/</td><td>marketing</td><td>[Digital Instagram Marketer  Author & Entrepreneur</td><td>30371</td><td>347431</td><td>122671</td><td>26</td><td>4.5</td><td> https://img-c.udemycdn.com/course/240x135/1931752_1012_13.jpg</td><td>4.5</td><td>12488</td><td> Pouya Eti • Digital Marketing Expert</td><td>01/2023</td><td>2023-03-06T14:58:34.549+0000</td></tr><tr><td>17</td><td>Social Media Management - The Complete 2019 Manager Bootcamp</td><td>Become a freelance social media manager | Start a management business | Work from anywhere | Achieve financial freedom</td><td>19260</td><td>4.4</td><td>4883</td><td>https://www.udemy.com/course/social-media-management-complete-manager-bootcamp/</td><td>marketing</td><td>[Freelance Marketer (Social Media Manager & Content Writer)</td><td>6885</td><td>38030</td><td>23270</td><td>3</td><td>4.3</td><td> https://img-c.udemycdn.com/course/240x135/1052730_e3b0_3.jpg</td><td>4.4</td><td>6101</td><td> Lottie Mosley</td><td>04/2018</td><td>2023-03-06T14:58:34.549+0000</td></tr><tr><td>18</td><td>Complete SEO Training With Top SEO Expert Peter Kent!</td><td>Win The SEO Game & Dominate The Search Engines With the Author of Best-Selling Search Engine Optimization for Dummies.</td><td>32573</td><td>4.4</td><td>4257</td><td>https://www.udemy.com/course/search-engine-optimization-for-beginners-seo-that-works/</td><td>marketing</td><td>[Author  SEO & E-Commerce Consultant</td><td>5292</td><td>38744</td><td>38744</td><td>1</td><td>4.4</td><td> https://img-b.udemycdn.com/course/240x135/521574_1325_11.jpg</td><td>4.4</td><td>5292</td><td> Peter Kent</td><td>03/2018</td><td>2023-03-06T14:58:34.549+0000</td></tr><tr><td>19</td><td>Seth Godin on Presenting to Persuade</td><td>Build your business, make your point, sell your idea</td><td>11857</td><td>4.4</td><td>4142</td><td>https://www.udemy.com/course/seth-godin-on-powerful-presentations/</td><td>marketing</td><td>[Best-selling author</td><td>21374</td><td>77232</td><td>20818</td><td>10</td><td>4.5</td><td> https://img-c.udemycdn.com/course/240x135/1101380_4d44.jpg</td><td>4.4</td><td>8142</td><td> Seth Godin</td><td>02/2017</td><td>2023-03-06T14:58:34.549+0000</td></tr><tr><td>20</td><td>2020 Complete SEO Guide to Ranking Local Business Websites</td><td>Watch over my shoulder as I redesign and rank a real live client local business website on the 1st page of Google</td><td>25317</td><td>4.4</td><td>3611</td><td>https://www.udemy.com/course/rank-local-business-websites/</td><td>marketing</td><td>[Helping Web Design & SEO Startups</td><td>8132</td><td>59942</td><td>28661</td><td>3</td><td>4.5</td><td> https://img-b.udemycdn.com/course/240x135/632826_9159.jpg</td><td>4.3</td><td>4081</td><td> Christine Maisel</td><td>10/2022</td><td>2023-03-06T14:58:34.549+0000</td></tr><tr><td>21</td><td>SEO Training: Get Free Traffic to Your Website With SEO</td><td>SEO Training to Rank #1 in Google. SEO Audit, Keyword Research, On Page SEO, Link Building, WordPress SEO & More!</td><td>36736</td><td>4.3</td><td>3586</td><td>https://www.udemy.com/course/seo-roadmap/</td><td>marketing</td><td>[Join 1 Million Students In My Best Selling Courses!</td><td>235191</td><td>1312593</td><td>40385</td><td>16</td><td>4.5</td><td> https://img-c.udemycdn.com/course/240x135/365176_1284_12.jpg</td><td>4.4</td><td>4247</td><td> Daragh Walsh</td><td>10/2019</td><td>2023-03-06T14:58:34.549+0000</td></tr><tr><td>22</td><td>Digital Marketing Certification: Master Digital Marketing</td><td>Join Over 100.000 Students Who Have Already Learned All The Secrets of Digital Marketing. Be a Digital Marketing Expert!</td><td>128037</td><td>4.2</td><td>3606</td><td>https://www.udemy.com/course/digital-marketing-seo-google-ads-google-analytics-monitoring/</td><td>marketing</td><td>[Digital Marketing Professional</td><td>4963</td><td>149211</td><td>138432</td><td>2</td><td>3.9</td><td> https://img-c.udemycdn.com/course/240x135/2658548_c93b_6.jpg</td><td>3.8</td><td>4799</td><td> Alexandros Fatsis - Digital Marketing Professional</td><td>08/2020</td><td>2023-03-06T14:58:34.549+0000</td></tr><tr><td>23</td><td>How Retargeting Works–The Complete Guide To Retargeting Ads!</td><td>What Is Retargeting and How Does It Work? Learn Remarketing Secrets That Will Help You Convert Your Abandoning Visitors!</td><td>25531</td><td>4.7</td><td>3475</td><td>https://www.udemy.com/course/how-retargeting-works/</td><td>marketing</td><td>[Certified Google AdWords Pro |Co-founder of AdVenture Media</td><td>63417</td><td>239054</td><td>29747</td><td>4</td><td>4.6</td><td> https://img-c.udemycdn.com/course/240x135/821658_b20b.jpg</td><td>4.6</td><td>4154</td><td> Isaac Rudansky</td><td>06/2016</td><td>2023-03-06T14:58:34.549+0000</td></tr><tr><td>25</td><td>How to Create Animated Videos with Powerpoint</td><td>Learn an easy way to create video animation with PowerPoint for business, marketing, online courses, YouTube and more</td><td>12539</td><td>4.6</td><td>2986</td><td>https://www.udemy.com/course/powerpoint-video/</td><td>marketing</td><td>[Reverse Engineering Successful Business Strategies</td><td>27771</td><td>102304</td><td>22067</td><td>14</td><td>4.6</td><td> https://img-b.udemycdn.com/course/240x135/1460800_303a_5.jpg</td><td>4.7</td><td>5060</td><td> Paul Nekh. | Business | Innovation | Video</td><td>02/2023</td><td>2023-03-06T14:58:34.549+0000</td></tr><tr><td>26</td><td>Google AdWords for Beginners 2020</td><td>Learn how to effectively use AdWords to reach more customers online and grow your business.</td><td>23200</td><td>4.2</td><td>2978</td><td>https://www.udemy.com/course/learn-google-adwords-course-for-beginners/</td><td>marketing</td><td>[Google Certified Marketer</td><td>5013</td><td>37808</td><td>28979</td><td>5</td><td>4.3</td><td> https://img-c.udemycdn.com/course/240x135/50735_c4fd_46.jpg</td><td>4.2</td><td>4061</td><td> Corey Rabazinski</td><td>07/2018</td><td>2023-03-06T14:58:34.549+0000</td></tr><tr><td>27</td><td>The Complete Facebook Ads Course - Beginner to Advanced</td><td>Master Facebook Advertising and Grow Any Business - Facebook Marketing Strategy, Ad Retargeting, Remarketing & More!</td><td>15753</td><td>4.5</td><td>2931</td><td>https://www.udemy.com/course/facebook-ads-course-beginner-to-advanced/</td><td>marketing</td><td>[Join 1 Million Students In My Best Selling Courses!</td><td>463464</td><td>2205928</td><td>18576</td><td>80</td><td>4.5</td><td> https://img-b.udemycdn.com/course/240x135/987428_5392_10.jpg</td><td>4.4</td><td>3469</td><td> Daragh Walsh</td><td>01/2020</td><td>2023-03-06T14:58:34.549+0000</td></tr><tr><td>28</td><td>Content Marketing: Grow Your Business with Content Marketing</td><td>Learn how to use modern content marketing to grow your business and brand! Come up with your own Content Marketing plan!</td><td>165793</td><td>4.4</td><td>2695</td><td>https://www.udemy.com/course/content-marketing-for-beginners/</td><td>marketing</td><td>[Top-Rated Instructor  2.5 Million+ Students</td><td>389023</td><td>2625059</td><td>189323</td><td>204</td><td>4.6</td><td> https://img-c.udemycdn.com/course/240x135/2295965_720a_3.jpg</td><td>4.6</td><td>3789</td><td> Phil Ebiner</td><td>07/2022</td><td>2023-03-06T14:58:34.549+0000</td></tr><tr><td>29</td><td>The Complete Facebook Ads & Marketing Course</td><td>The #1 Guide to Facebook Advertising & Marketing - Join 50,000+ students who are selling with Ads right now!</td><td>83926</td><td>4.1</td><td>2650</td><td>https://www.udemy.com/course/facebook-advertising/</td><td>marketing</td><td>[Superhero Instructor! I teach 400 000 Students in 30 courses</td><td>50033</td><td>415995</td><td>84109</td><td>31</td><td>3.9</td><td> https://img-c.udemycdn.com/course/240x135/941486_b476_5.jpg</td><td>4.3</td><td>2694</td><td> Suppoman ™</td><td>03/2017</td><td>2023-03-06T14:58:34.549+0000</td></tr><tr><td>30</td><td>Instagram Marketing 2020 | Grow Organic Followers Naturally!</td><td>Grow Organic Targeted Followers, Quick Brand Awareness, & Turn Page Visits Into Paying Customers w/ Instagram Marketing</td><td>90917</td><td>4.2</td><td>2626</td><td>https://www.udemy.com/course/2020-millennial-insta-marketing-grow-10k-organic-followers/</td><td>marketing</td><td>[Entrepreneur and CEO of Social Savvy</td><td>4116</td><td>129194</td><td>118082</td><td>3</td><td>4.1</td><td> https://img-c.udemycdn.com/course/240x135/2786494_3de6_5.jpg</td><td>4.4</td><td>3777</td><td> Skyler Chase</td><td>05/2022</td><td>2023-03-06T14:58:34.549+0000</td></tr><tr><td>32</td><td>Writing Tools & Hacks: Copywriting/Blogging/Content Writing</td><td>The best FREE writing tools & apps + Hacks to take your copywriting, blogging, & content writing to the next level.</td><td>14065</td><td>4.2</td><td>2498</td><td>https://www.udemy.com/course/writing-tools-hacks/</td><td>marketing</td><td>[Huffington Post Contributor | Professional Writer & Blogger</td><td>20886</td><td>202727</td><td>23484</td><td>12</td><td>4.2</td><td> https://img-c.udemycdn.com/course/240x135/1331661_87ad_2.jpg</td><td>4.1</td><td>4454</td><td> Tyler Speegle</td><td>05/2022</td><td>2023-03-06T14:58:34.549+0000</td></tr><tr><td>33</td><td>SEO:Amazon Affiliate Marketing+SEO |250+ Videos |18.0 Hours</td><td>Build Amazon Affiliate Marketing Sites - Niche & Keyword Research, Link Building, Silo Architecture, WordPress SEO</td><td>23704</td><td>4.4</td><td>2408</td><td>https://www.udemy.com/course/seo-complete-guide-to-building-amazon-affiliate-sites/</td><td>marketing</td><td>[Our passion is SEO - and we love teaching it</td><td>3316</td><td>33762</td><td>29228</td><td>2</td><td>4.5</td><td> https://img-c.udemycdn.com/course/240x135/657590_edac_4.jpg</td><td>4.5</td><td>3189</td><td> The SEO Academy Leaders in SEO education</td><td>05/2021</td><td>2023-03-06T14:58:34.549+0000</td></tr><tr><td>34</td><td>Business Branding: The Complete Course Part 1 - Strategy</td><td>Build A Strategic Brand From The Ground Up, To Catapult Your Marketing Impact</td><td>9185</td><td>4.6</td><td>2399</td><td>https://www.udemy.com/course/business-branding-complete-course/</td><td>marketing</td><td>[Brand Creator & Strategist</td><td>9498</td><td>28503</td><td>20824</td><td>3</td><td>4.6</td><td> https://img-b.udemycdn.com/course/240x135/2222324_1478_2.jpg</td><td>4.6</td><td>5359</td><td> Steve Houraghan</td><td>11/2019</td><td>2023-03-06T14:58:34.549+0000</td></tr><tr><td>35</td><td>Social Media Marketing Agency : Digital Marketing + Business</td><td>Learn to build a business, find clients, & social media marketing all in one. Facebook ads, Instagram, Google ads & ...</td><td>34246</td><td>4.5</td><td>2380</td><td>https://www.udemy.com/course/social-media-marketing-agency-digital-business-facebook-ads-instagram/</td><td>marketing</td><td>[Digital Instagram Marketer  Author & Entrepreneur</td><td>30371</td><td>347431</td><td>53317</td><td>26</td><td>4.5</td><td> https://img-c.udemycdn.com/course/240x135/2344164_6fb8_9.jpg</td><td>4.5</td><td>4859</td><td> Pouya Eti • Digital Marketing Expert</td><td>01/2023</td><td>2023-03-06T14:58:34.549+0000</td></tr><tr><td>36</td><td>The Complete MailChimp Email Marketing Course</td><td>Learn how to use Mailchimp, grow an email subscriber list and build high quality email marketing campaigns!</td><td>16015</td><td>4.3</td><td>2376</td><td>https://www.udemy.com/course/mailchimp-email-marketing/</td><td>marketing</td><td>[COURSENVY - Facebook Ads  SMM Expert  Ad Agency  Amazon FBA</td><td>67064</td><td>479282</td><td>22130</td><td>26</td><td>4.4</td><td> https://img-c.udemycdn.com/course/240x135/573994_a4a8_2.jpg</td><td>4.3</td><td>3516</td><td> COURSE ENVY</td><td>10/2022</td><td>2023-03-06T14:58:34.549+0000</td></tr><tr><td>37</td><td>Copywriting - Become a Freelance Copywriter, your own boss</td><td>Build a successful freelance copywriting business - turn basic writing skills into a paycheck.</td><td>30589</td><td>4.2</td><td>2297</td><td>https://www.udemy.com/course/how-to-become-a-copywriter-from-home/</td><td>marketing</td><td>[Freelance copywriter and communications consultant</td><td>17001</td><td>122621</td><td>33100</td><td>16</td><td>4.4</td><td> https://img-c.udemycdn.com/course/240x135/12248_0b1d_12.jpg</td><td>4.1</td><td>2898</td><td> Len Smith</td><td>04/2018</td><td>2023-03-06T14:58:34.549+0000</td></tr><tr><td>0</td><td>2020 Complete Python Bootcamp: From Zero to Hero in Python</td><td>Learn Python like a Professional! Start from the basics and go all the way to creating your own applications and games!</td><td>1100093</td><td>4.6</td><td>318066</td><td>https://www.udemy.com/course/complete-python-bootcamp/</td><td>tech</td><td>[Head of Data Science at Pierian Training</td><td>1013752</td><td>3270570</td><td>1691703</td><td>60</td><td>4.6</td><td> https://img-b.udemycdn.com/course/240x135/567828_67d0.jpg</td><td>4.6</td><td>454945</td><td> Jose Portilla</td><td>03/2021</td><td>2023-03-06T14:58:34.549+0000</td></tr><tr><td>1</td><td>The Web Developer Bootcamp</td><td>The only course you need to learn web development - HTML, CSS, JS, Node, and More!</td><td>596726</td><td>4.6</td><td>182997</td><td>https://www.udemy.com/course/the-web-developer-bootcamp/</td><td>tech</td><td>[Developer and Bootcamp Instructor</td><td>449840</td><td>1455406</td><td>855542</td><td>23</td><td>4.7</td><td> https://img-c.udemycdn.com/course/240x135/625204_436a_3.jpg</td><td>4.7</td><td>255631</td><td> Colt Steele</td><td>03/2023</td><td>2023-03-06T14:58:34.549+0000</td></tr><tr><td>4</td><td>Java Programming Masterclass for Software Developers</td><td>Learn Java In This Course And Become a Computer Programmer. Obtain valuable Core Java Skills And Java Certification</td><td>502572</td><td>4.6</td><td>123798</td><td>https://www.udemy.com/course/java-the-complete-java-developer-course/</td><td>tech</td><td>[Java Python Android and C# Expert Developer - 1.28M students</td><td>499903</td><td>1764983</td><td>761779</td><td>56</td><td>4.5</td><td> https://img-c.udemycdn.com/course/240x135/533682_c10c_4.jpg</td><td>4.6</td><td>178097</td><td> Tim Buchalka</td><td>02/2023</td><td>2023-03-06T14:58:34.549+0000</td></tr><tr><td>5</td><td>React - The Complete Guide (incl Hooks, React Router, Redux)</td><td>Dive in and learn React.js from scratch! Learn Reactjs, Hooks, Redux, React Routing, Animations, Next.js and way more!</td><td>304670</td><td>4.6</td><td>90964</td><td>https://www.udemy.com/course/react-the-complete-guide-incl-redux/</td><td>tech</td><td>[Online Education</td><td>906256</td><td>2405327</td><td>708449</td><td>58</td><td>4.6</td><td> https://img-c.udemycdn.com/course/240x135/1362070_b9a1_2.jpg</td><td>4.6</td><td>178263</td><td> Academind by Maximilian Schwarzmüller</td><td>02/2023</td><td>2023-03-06T14:58:34.549+0000</td></tr><tr><td>7</td><td>Python for Data Science and Machine Learning Bootcamp</td><td>Learn how to use NumPy, Pandas, Seaborn , Matplotlib , Plotly , Scikit-Learn , Machine Learning, Tensorflow , and more!</td><td>387789</td><td>4.6</td><td>87403</td><td>https://www.udemy.com/course/python-for-data-science-and-machine-learning-bootcamp/</td><td>tech</td><td>[Head of Data Science at Pierian Training</td><td>1013752</td><td>3270570</td><td>623047</td><td>60</td><td>4.6</td><td> https://img-c.udemycdn.com/course/240x135/903744_8eb2.jpg</td><td>4.6</td><td>127705</td><td> Jose Portilla</td><td>05/2020</td><td>2023-03-06T14:58:34.549+0000</td></tr><tr><td>8</td><td>The Complete JavaScript Course 2020: Build Real Projects!</td><td>Master JavaScript with the most complete course! Projects, challenges, quizzes, JavaScript ES6+, OOP, AJAX, Webpack</td><td>347979</td><td>4.6</td><td>83521</td><td>https://www.udemy.com/course/the-complete-javascript-course/</td><td>tech</td><td>[Web Developer  Designer  and Teacher</td><td>354160</td><td>1624353</td><td>760896</td><td>6</td><td>4.7</td><td> https://img-c.udemycdn.com/course/240x135/851712_fc61_6.jpg</td><td>4.7</td><td>169682</td><td> Jonas Schmedtmann</td><td>11/2022</td><td>2023-03-06T14:58:34.549+0000</td></tr><tr><td>9</td><td>Complete C# Unity Game Developer 2D</td><td>Learn Unity in C# & Code Your First Seven 2D Video Games for Web, Mac & PC. The Tutorials Cover Tilemap (35 hours)</td><td>364934</td><td>4.6</td><td>78989</td><td>https://www.udemy.com/course/unitycourse/</td><td>tech</td><td>[Learn to Make and Sell Games</td><td>138170</td><td>553547</td><td>443417</td><td>7</td><td>4.7</td><td> https://img-c.udemycdn.com/course/240x135/258316_55e9_12.jpg</td><td>4.7</td><td>98096</td><td> GameDev.tv Team</td><td>12/2022</td><td>2023-03-06T14:58:34.549+0000</td></tr><tr><td>11</td><td>Automate the Boring Stuff with Python Programming</td><td>A practical programming course for office workers, academics, and administrators who want to improve their productivity.</td><td>692617</td><td>4.6</td><td>70508</td><td>https://www.udemy.com/course/automate/</td><td>tech</td><td>[Software developer  tech book author</td><td>110780</td><td>1126643</td><td>1078173</td><td>2</td><td>4.6</td><td> https://img-c.udemycdn.com/course/240x135/543600_64d1_4.jpg</td><td>4.7</td><td>105953</td><td> Al Sweigart</td><td>02/2023</td><td>2023-03-06T14:58:34.549+0000</td></tr><tr><td>13</td><td>Modern React with Redux [2020 Update]</td><td>Master React v16.6.3 and Redux with React Router, Webpack, and Create-React-App. Includes Hooks!</td><td>203214</td><td>4.7</td><td>60835</td><td>https://www.udemy.com/course/react-redux/</td><td>tech</td><td>[Engineering Architect</td><td>410251</td><td>1220945</td><td>292867</td><td>32</td><td>4.7</td><td> https://img-b.udemycdn.com/course/240x135/705264_caa9_13.jpg</td><td>4.7</td><td>80725</td><td> Stephen Grider</td><td>03/2023</td><td>2023-03-06T14:58:34.549+0000</td></tr><tr><td>14</td><td>Learn Python Programming Masterclass</td><td>This Python For Beginners Course Teaches You The Python Language Fast. Includes Python Online Training With Python 3</td><td>240790</td><td>4.5</td><td>58677</td><td>https://www.udemy.com/course/python-the-complete-python-developer-course/</td><td>tech</td><td>[Java Python Android and C# Expert Developer - 1.28M students</td><td>499903</td><td>1764983</td><td>408152</td><td>56</td><td>4.5</td><td> https://img-c.udemycdn.com/course/240x135/629302_8a2d_2.jpg</td><td>4.6</td><td>97348</td><td> Tim Buchalka</td><td>01/2023</td><td>2023-03-06T14:58:34.549+0000</td></tr><tr><td>15</td><td>The Complete Node.js Developer Course (3rd Edition)</td><td>Learn Node.js by building real-world applications with Node, Express, MongoDB, Jest, and more!</td><td>202922</td><td>4.7</td><td>50885</td><td>https://www.udemy.com/course/the-complete-nodejs-developer-course-2/</td><td>tech</td><td>[A Full-stack Developer & Teacher</td><td>507423</td><td>2322346</td><td>289449</td><td>41</td><td>4.5</td><td> https://img-c.udemycdn.com/course/240x135/922484_52a1_8.jpg</td><td>4.6</td><td>69021</td><td> Andrew Mead</td><td>03/2021</td><td>2023-03-06T14:58:34.549+0000</td></tr><tr><td>16</td><td>iOS 13 & Swift 5 - The Complete iOS App Development Bootcamp</td><td>From Beginner to iOS App Developer with Just One Course! Fully Updated with a Comprehensive Module Dedicated to SwiftUI!</td><td>179598</td><td>4.8</td><td>49972</td><td>https://www.udemy.com/course/ios-13-app-development-bootcamp/</td><td>tech</td><td>[Developer and Lead Instructor</td><td>590155</td><td>1959760</td><td>331690</td><td>8</td><td>4.7</td><td> https://img-c.udemycdn.com/course/240x135/1778502_f4b9_12.jpg</td><td>4.7</td><td>83478</td><td> Dr. Angela Yu</td><td>11/2021</td><td>2023-03-06T14:58:34.549+0000</td></tr><tr><td>18</td><td>Unreal Engine C++ Developer: Learn C++ and Make Video Games</td><td>Created in collaboration with Epic Games. Learn C++ from basics while making your first 4 video games in Unreal</td><td>229005</td><td>4.5</td><td>45860</td><td>https://www.udemy.com/course/unrealcourse/</td><td>tech</td><td>[GameDev.tv Founder :: Entrepreneur :: Passionate Teacher</td><td>78525</td><td>366782</td><td>332712</td><td>13</td><td>4.7</td><td> https://img-c.udemycdn.com/course/240x135/657932_c7e0_6.jpg</td><td>4.7</td><td>63505</td><td> Ben Tristem</td><td>01/2023</td><td>2023-03-06T14:58:34.549+0000</td></tr><tr><td>19</td><td>The Ultimate MySQL Bootcamp: Go from SQL Beginner to Expert</td><td>Become an In-demand SQL Master by creating complex databases and building reports through real-world projects</td><td>203366</td><td>4.6</td><td>45382</td><td>https://www.udemy.com/course/the-ultimate-mysql-bootcamp-go-from-sql-beginner-to-expert/</td><td>tech</td><td>[Developer and Bootcamp Instructor</td><td>449840</td><td>1455406</td><td>372279</td><td>23</td><td>4.7</td><td> https://img-b.udemycdn.com/course/240x135/1187016_51b3.jpg</td><td>4.6</td><td>78842</td><td> Colt Steele</td><td>03/2023</td><td>2023-03-06T14:58:34.549+0000</td></tr><tr><td>20</td><td>Spring & Hibernate for Beginners (includes Spring Boot)</td><td>Spring 5: Learn Spring 5 Core, AOP, Spring MVC, Spring Security, Spring REST, Spring Boot 2, Thymeleaf, JPA & Hibernate</td><td>177053</td><td>4.6</td><td>45329</td><td>https://www.udemy.com/course/spring-hibernate-tutorial/</td><td>tech</td><td>[Popular Java Spring Instructor - Best Seller</td><td>117226</td><td>611399</td><td>301929</td><td>10</td><td>4.6</td><td> https://img-c.udemycdn.com/course/240x135/647428_be28_6.jpg</td><td>4.6</td><td>69148</td><td> Chad Darby</td><td>03/2023</td><td>2023-03-06T14:58:34.549+0000</td></tr><tr><td>21</td><td>Build Responsive Real World Websites with HTML5 and CSS3</td><td>The easiest way to learn modern web design, HTML5 and CSS3 step-by-step from scratch. Design AND code a huge project.</td><td>197609</td><td>4.6</td><td>44710</td><td>https://www.udemy.com/course/design-and-develop-a-killer-website-with-html5-and-css3/</td><td>tech</td><td>[Web Developer  Designer  and Teacher</td><td>354160</td><td>1624353</td><td>366433</td><td>6</td><td>4.7</td><td> https://img-b.udemycdn.com/course/240x135/437398_46c3_10.jpg</td><td>4.8</td><td>91306</td><td> Jonas Schmedtmann</td><td>11/2022</td><td>2023-03-06T14:58:34.549+0000</td></tr><tr><td>24</td><td>Vue - The Complete Guide (w/ Router, Vuex, Composition API)</td><td>Vue.js is an awesome JavaScript Framework for building Frontend Applications! VueJS mixes the Best of Angular + React!</td><td>138636</td><td>4.7</td><td>41054</td><td>https://www.udemy.com/course/vuejs-2-the-complete-guide/</td><td>tech</td><td>[AWS certified  Professional Web Developer and Instructor</td><td>906256</td><td>2405327</td><td>216043</td><td>58</td><td>4.6</td><td> https://img-c.udemycdn.com/course/240x135/995016_ebf4_3.jpg</td><td>4.7</td><td>58243</td><td> Maximilian Schwarzmüller</td><td>11/2022</td><td>2023-03-06T14:58:34.549+0000</td></tr><tr><td>25</td><td>The Complete Web Developer in 2020: Zero to Mastery</td><td>Learn to code and become a Web Developer in 2020 with HTML, CSS, Javascript, React, Node.js, Machine Learning & more!</td><td>138822</td><td>4.7</td><td>40976</td><td>https://www.udemy.com/course/the-complete-web-developer-zero-to-mastery/</td><td>tech</td><td>[Founder of zerotomastery.io</td><td>255552</td><td>988890</td><td>207564</td><td>26</td><td>4.6</td><td> https://img-b.udemycdn.com/course/240x135/1430746_2f43_10.jpg</td><td>4.7</td><td>59957</td><td> Andrei Neagoie</td><td>03/2023</td><td>2023-03-06T14:58:34.549+0000</td></tr><tr><td>26</td><td>JavaScript: Understanding the Weird Parts</td><td>An advanced JavaScript course for everyone! Scope, closures, prototypes, 'this', build your own framework, and more.</td><td>152004</td><td>4.7</td><td>39102</td><td>https://www.udemy.com/course/understand-javascript/</td><td>tech</td><td>[Software Developer  Architect  and UX Designer</td><td>101061</td><td>329128</td><td>183910</td><td>10</td><td>4.6</td><td> https://img-c.udemycdn.com/course/240x135/364426_2991_6.jpg</td><td>4.7</td><td>46467</td><td> Anthony Alicea</td><td>11/2022</td><td>2023-03-06T14:58:34.549+0000</td></tr><tr><td>9358</td><td>PHP 101</td><td>PHP Coding for Beginners</td><td>514</td><td>4.7</td><td>12</td><td>https://www.udemy.com/course/introduction-to-php-101/</td><td>tech</td><td>[Internet Marketing and Traffic Academy</td><td>790</td><td>45707</td><td>524</td><td>23</td><td>4.0</td><td> https://img-c.udemycdn.com/course/240x135/164774_3a3b_4.jpg</td><td>4.5</td><td>15</td><td> Earners Classroom</td><td>03/2014</td><td>2023-03-06T14:58:34.549+0000</td></tr><tr><td>27</td><td>C# Basics for Beginners: Learn C# Fundamentals by Coding</td><td>Master C# fundamentals in 6 hours - The most popular course with 50,000+ students, packed with tips and exercises!</td><td>124918</td><td>4.5</td><td>38450</td><td>https://www.udemy.com/course/csharp-tutorial-for-beginners/</td><td>tech</td><td>[Passionate Software Engineer and Best-selling Author</td><td>285953</td><td>708498</td><td>203626</td><td>20</td><td>4.5</td><td> https://img-c.udemycdn.com/course/240x135/382002_5d4a.jpg</td><td>4.5</td><td>60706</td><td> Mosh Hamedani</td><td>12/2020</td><td>2023-03-06T14:58:34.549+0000</td></tr><tr><td>28</td><td>R Programming A-Z™: R For Data Science With Real Exercises!</td><td>Learn Programming In R And R Studio. Data Analytics, Data Science, Statistical Analysis, Packages, Functions, GGPlot2</td><td>188765</td><td>4.6</td><td>35635</td><td>https://www.udemy.com/course/r-programming/</td><td>tech</td><td>[Data Scientist</td><td>609473</td><td>2277515</td><td>250375</td><td>104</td><td>4.5</td><td> https://img-b.udemycdn.com/course/240x135/765242_2578_6.jpg</td><td>4.6</td><td>49583</td><td> Kirill Eremenko</td><td>01/2023</td><td>2023-03-06T14:58:34.549+0000</td></tr><tr><td>30</td><td>Python and Django Full Stack Web Developer Bootcamp</td><td>Learn to build websites with HTML , CSS , Bootstrap , Javascript , jQuery , Python 3 , and Django!</td><td>130584</td><td>4.5</td><td>33670</td><td>https://www.udemy.com/course/python-and-django-full-stack-web-developer-bootcamp/</td><td>tech</td><td>[Head of Data Science at Pierian Training</td><td>1013752</td><td>3270570</td><td>194446</td><td>60</td><td>4.6</td><td> https://img-c.udemycdn.com/course/240x135/822444_a6db.jpg</td><td>4.5</td><td>46686</td><td> Jose Portilla</td><td>09/2019</td><td>2023-03-06T14:58:34.549+0000</td></tr><tr><td>31</td><td>Deep Learning A-Z™: Hands-On Artificial Neural Networks</td><td>Learn to create Deep Learning Algorithms in Python from two Machine Learning & Data Science experts. Templates included.</td><td>278698</td><td>4.5</td><td>33454</td><td>https://www.udemy.com/course/deeplearning/</td><td>tech</td><td>[Data Scientist</td><td>609473</td><td>2277515</td><td>350503</td><td>104</td><td>4.5</td><td> https://img-c.udemycdn.com/course/240x135/1151632_de9b.jpg</td><td>4.6</td><td>42272</td><td> Kirill Eremenko</td><td>03/2023</td><td>2023-03-06T14:58:34.549+0000</td></tr><tr><td>32</td><td>Docker and Kubernetes: The Complete Guide</td><td>Build, test, and deploy Docker applications with Kubernetes while learning production-style development workflows</td><td>149882</td><td>4.7</td><td>31822</td><td>https://www.udemy.com/course/docker-and-kubernetes-the-complete-guide/</td><td>tech</td><td>[Engineering Architect</td><td>410251</td><td>1220945</td><td>277134</td><td>32</td><td>4.7</td><td> https://img-c.udemycdn.com/course/240x135/1793828_7999_2.jpg</td><td>4.7</td><td>53252</td><td> Stephen Grider</td><td>03/2023</td><td>2023-03-06T14:58:34.549+0000</td></tr><tr><td>34</td><td>The Python Bible™ | Everything You Need to Program in Python</td><td>Build 11 Projects and go from Beginner to Pro in Python with the World's Most Fun Project-Based Python Course!</td><td>103624</td><td>4.6</td><td>29516</td><td>https://www.udemy.com/course/the-python-bible/</td><td>tech</td><td>[Energetic Instructor with a Project-based Approach</td><td>68654</td><td>268401</td><td>151769</td><td>3</td><td>4.7</td><td> https://img-b.udemycdn.com/course/240x135/903378_f32d_7.jpg</td><td>4.6</td><td>45110</td><td> Ziyad Yehia</td><td>04/2021</td><td>2023-03-06T14:58:34.549+0000</td></tr><tr><td>35</td><td>Beginning C++ Programming - From Beginner to Beyond</td><td>Obtain Modern C++ Object-Oriented Programming (OOP) and STL skills needed for game, system, and application development.</td><td>108689</td><td>4.6</td><td>29286</td><td>https://www.udemy.com/course/beginning-c-plus-plus-programming/</td><td>tech</td><td>[Professional Programmers and Teachers - 1.75M students</td><td>58045</td><td>248166</td><td>243448</td><td>2</td><td>4.6</td><td> https://img-c.udemycdn.com/course/240x135/1576854_9aeb_2.jpg</td><td>4.6</td><td>57264</td><td> Tim Buchalka's Learn Programming Academy</td><td>03/2023</td><td>2023-03-06T14:58:34.549+0000</td></tr><tr><td>36</td><td>Data Science A-Z™: Real-Life Data Science Exercises Included</td><td>Learn Data Science step by step through real Analytics examples. Data Mining, Modeling, Tableau Visualization and more!</td><td>180119</td><td>4.6</td><td>27767</td><td>https://www.udemy.com/course/datascience/</td><td>tech</td><td>[Data Scientist</td><td>609473</td><td>2277515</td><td>211228</td><td>104</td><td>4.5</td><td> https://img-b.udemycdn.com/course/240x135/513244_b831_4.jpg</td><td>4.5</td><td>32920</td><td> Kirill Eremenko</td><td>01/2023</td><td>2023-03-06T14:58:34.549+0000</td></tr><tr><td>37</td><td>Flutter & Dart - The Complete Guide [2020 Edition]</td><td>A Complete Guide to the Flutter SDK & Flutter Framework for building native iOS and Android apps</td><td>99991</td><td>4.6</td><td>27084</td><td>https://www.udemy.com/course/learn-flutter-dart-to-build-ios-android-apps/</td><td>tech</td><td>[Online Education</td><td>906256</td><td>2405327</td><td>239005</td><td>58</td><td>4.6</td><td> https://img-b.udemycdn.com/course/240x135/1708340_7108_5.jpg</td><td>4.6</td><td>58987</td><td> Academind by Maximilian Schwarzmüller</td><td>11/2022</td><td>2023-03-06T14:58:34.549+0000</td></tr><tr><td>38</td><td>The Complete Android N Developer Course</td><td>Learn Android App Development with Android 7 Nougat by building real apps including Uber, Whatsapp and Instagram!</td><td>145069</td><td>4.4</td><td>26788</td><td>https://www.udemy.com/course/complete-android-n-developer-course/</td><td>tech</td><td>[Web Developer And Teacher</td><td>463464</td><td>2205928</td><td>156176</td><td>80</td><td>4.5</td><td> https://img-b.udemycdn.com/course/240x135/951618_0839_2.jpg</td><td>4.3</td><td>28485</td><td> Rob Percival</td><td>08/2021</td><td>2023-03-06T14:58:34.549+0000</td></tr><tr><td>0</td><td>The Complete SQL Bootcamp 2020: Go from Zero to Hero</td><td>Become an expert at SQL!</td><td>301243</td><td>4.7</td><td>79919</td><td>https://www.udemy.com/course/the-complete-sql-bootcamp/</td><td>bussiness</td><td>[Head of Data Science at Pierian Training</td><td>1013752</td><td>3269886</td><td>641558</td><td>60</td><td>4.6</td><td> https://img-c.udemycdn.com/course/240x135/762616_7693_3.jpg</td><td>4.7</td><td>164866</td><td> Jose Portilla</td><td>05/2022</td><td>2023-03-06T14:58:34.549+0000</td></tr><tr><td>1</td><td>Tableau 2020 A-Z: Hands-On Tableau Training for Data Science</td><td>Learn Tableau 2020 for data science step by step. Real-life data analytics exercises & quizzes included. Learn by doing!</td><td>211674</td><td>4.6</td><td>55582</td><td>https://www.udemy.com/course/tableau10/</td><td>bussiness</td><td>[Data Scientist</td><td>609473</td><td>2277515</td><td>339236</td><td>104</td><td>4.5</td><td> https://img-c.udemycdn.com/course/240x135/937678_abd2_3.jpg</td><td>4.6</td><td>88565</td><td> Kirill Eremenko</td><td>01/2023</td><td>2023-03-06T14:58:34.549+0000</td></tr><tr><td>2</td><td>PMP Exam Prep Seminar - PMBOK Guide 6</td><td>PMP Exam Prep Seminar - Earn 35 PDUs by completing the entire PMP course</td><td>157957</td><td>4.6</td><td>53858</td><td>https://www.udemy.com/course/pmp-pmbok6-35-pdus/</td><td>bussiness</td><td>[PMP  PMI-ACP  Project+  ITIL  PSM I  CTT+</td><td>213474</td><td>682347</td><td>291967</td><td>44</td><td>4.6</td><td> https://img-c.udemycdn.com/course/240x135/1361790_2eb7_2.jpg</td><td>4.6</td><td>92161</td><td> Joseph Phillips</td><td>01/2023</td><td>2023-03-06T14:58:34.549+0000</td></tr><tr><td>5</td><td>Microsoft Power BI - A Complete Introduction [2020 EDITION]</td><td>Learn how to use Microsoft's Power BI Tools, including Power BI Desktop, Power BI Pro (Service) and PowerBI Developer</td><td>126880</td><td>4.6</td><td>38771</td><td>https://www.udemy.com/course/powerbi-complete-introduction/</td><td>bussiness</td><td>[Professional Business Analyst and Instructor</td><td>906256</td><td>2405327</td><td>254477</td><td>58</td><td>4.6</td><td> https://img-c.udemycdn.com/course/240x135/1208634_cd50_2.jpg</td><td>4.6</td><td>64066</td><td> Manuel Lorenz</td><td>11/2022</td><td>2023-03-06T14:58:34.549+0000</td></tr><tr><td>6</td><td>Agile Crash Course: Agile Project Management; Agile Delivery</td><td>Get Agile Certified & Learn about the key and most important concepts and tools of Agile Project Management (Scrum)</td><td>98700</td><td>4.3</td><td>31276</td><td>https://www.udemy.com/course/agile-crash-course/</td><td>bussiness</td><td>[Serial entrepreneur  techie  life hacker  expert PM & MBA</td><td>120540</td><td>449464</td><td>220113</td><td>44</td><td>4.4</td><td> https://img-c.udemycdn.com/course/240x135/864146_dbd7_10.jpg</td><td>4.5</td><td>75805</td><td> Mauricio Rubio - Agile Guru & Founder of AgileKB | AgileLee & Ureducation</td><td>02/2023</td><td>2023-03-06T14:58:34.549+0000</td></tr><tr><td>10</td><td>Microsoft Power BI - Up & Running With Power BI Desktop</td><td>Transform, analyze & visualize data with Microsoft Power BI Desktop: hands-on demos, projects & 1-on-1 Power BI support</td><td>89006</td><td>4.6</td><td>24388</td><td>https://www.udemy.com/course/microsoft-power-bi-up-running-with-power-bi-desktop/</td><td>bussiness</td><td>[Award-Winning Analytics & Business Intelligence Training</td><td>267024</td><td>922534</td><td>314040</td><td>6</td><td>4.6</td><td> https://img-c.udemycdn.com/course/240x135/1570206_26c6_5.jpg</td><td>4.6</td><td>82767</td><td> Maven Analytics</td><td>11/2022</td><td>2023-03-06T14:58:34.549+0000</td></tr><tr><td>12</td><td>Leadership: Practical Leadership Skills</td><td>Master leadership skills and leadership techniques with this highly practical advice and training</td><td>69860</td><td>4.6</td><td>23283</td><td>https://www.udemy.com/course/practical-leadership/</td><td>bussiness</td><td>[Management Trainer  Speaker  Author</td><td>219930</td><td>503656</td><td>175331</td><td>32</td><td>4.6</td><td> https://img-c.udemycdn.com/course/240x135/613808_3c1c_6.jpg</td><td>4.6</td><td>60641</td><td> Chris Croft</td><td>03/2022</td><td>2023-03-06T14:58:34.549+0000</td></tr><tr><td>13</td><td>The Complete Foundation Stock Trading Course</td><td>Learn To Trade The Stock Market by A Trading Firm CEO. Inc: Technical Analysis, Candlesticks, Stocks, Day Trading +++</td><td>79089</td><td>4.5</td><td>22204</td><td>https://www.udemy.com/course/foundation-course/</td><td>bussiness</td><td>[Finance & Programming Education</td><td>108457</td><td>332606</td><td>201721</td><td>11</td><td>4.6</td><td> https://img-c.udemycdn.com/course/240x135/1288044_d262_5.jpg</td><td>4.5</td><td>48519</td><td> Mohsen Hassan</td><td>04/2022</td><td>2023-03-06T14:58:34.549+0000</td></tr><tr><td>14</td><td>SQL - MySQL for Data Analytics and Business Intelligence</td><td>SQL that will get you hired – SQL for Business Analysis, Marketing, and Data Management</td><td>80470</td><td>4.6</td><td>21951</td><td>https://www.udemy.com/course/sql-mysql-for-data-analytics-and-business-intelligence/</td><td>bussiness</td><td>[Creating opportunities for Data Science and Finance students</td><td>652690</td><td>2270687</td><td>194798</td><td>91</td><td>4.5</td><td> https://img-b.udemycdn.com/course/240x135/1405632_6e6f_2.jpg</td><td>4.6</td><td>47778</td><td> 365 Careers</td><td>02/2023</td><td>2023-03-06T14:58:34.549+0000</td></tr><tr><td>15</td><td>The Complete Financial Analyst Training & Investing Course</td><td>Succeed as a Financial Analyst &Investor by Award Winning MBA Prof who worked @Goldman, in Hedge Funds & Venture Capital</td><td>183645</td><td>4.5</td><td>21807</td><td>https://www.udemy.com/course/the-complete-financial-analyst-training-and-investing-course/</td><td>bussiness</td><td>[CEO of Haroun MBA Degree Program®</td><td>208696</td><td>1312283</td><td>246955</td><td>70</td><td>4.5</td><td> https://img-b.udemycdn.com/course/240x135/1202988_c73f_20.jpg</td><td>4.6</td><td>30123</td><td> Chris Haroun</td><td>02/2023</td><td>2023-03-06T14:58:34.549+0000</td></tr><tr><td>16</td><td>The Ultimate Hands-On Hadoop - Tame your Big Data!</td><td>Hadoop tutorial with MapReduce, HDFS, Spark, Flink, Hive, HBase, MongoDB, Cassandra, Kafka + more! Over 25 technologies.</td><td>116200</td><td>4.6</td><td>21636</td><td>https://www.udemy.com/course/the-ultimate-hands-on-hadoop-tame-your-big-data/</td><td>bussiness</td><td>[Founder  Sundog Education. Machine Learning Pro</td><td>135796</td><td>636152</td><td>167218</td><td>22</td><td>4.6</td><td> https://img-b.udemycdn.com/course/240x135/996228_af5f_3.jpg</td><td>4.5</td><td>28483</td><td> Sundog Education by Frank Kane</td><td>09/2022</td><td>2023-03-06T14:58:34.549+0000</td></tr><tr><td>18</td><td>How to Start an Amazon FBA Store on a Tight Budget</td><td>The complete Amazon selling blueprint. Start a brand new career today, even if you are on a very small start-up budget.</td><td>73088</td><td>4.6</td><td>19524</td><td>https://www.udemy.com/course/sell-on-amazon-as-small-start-up/</td><td>bussiness</td><td>[Amazon Seller  Blogger  & Online Marketer</td><td>41149</td><td>170621</td><td>106439</td><td>4</td><td>4.6</td><td> https://img-b.udemycdn.com/course/240x135/560388_91e3_3.jpg</td><td>4.6</td><td>26878</td><td> Theo McArthur</td><td>02/2023</td><td>2023-03-06T14:58:34.549+0000</td></tr><tr><td>19</td><td>Deep Learning Prerequisites: The Numpy Stack in Python (V2+)</td><td>The Numpy, Scipy, Pandas, and Matplotlib stack: prep for deep learning, machine learning, and artificial intelligence</td><td>239470</td><td>4.5</td><td>18388</td><td>https://www.udemy.com/course/deep-learning-prerequisites-the-numpy-stack-in-python/</td><td>bussiness</td><td>[Artificial intelligence and machine learning engineer</td><td>146772</td><td>524664</td><td>247377</td><td>33</td><td>4.6</td><td> https://img-c.udemycdn.com/course/240x135/980086_196d_2.jpg</td><td>4.6</td><td>20534</td><td> Lazy Programmer Inc.</td><td>03/2023</td><td>2023-03-06T14:58:34.549+0000</td></tr><tr><td>20</td><td>Python for Finance: Investment Fundamentals & Data Analytics</td><td>Learn Python Programming and Conduct Real-World Financial Analysis in Python - Complete Python Training</td><td>84195</td><td>4.5</td><td>17929</td><td>https://www.udemy.com/course/python-for-finance-investment-fundamentals-data-analytics/</td><td>bussiness</td><td>[Creating opportunities for Data Science and Finance students</td><td>652690</td><td>2270687</td><td>123676</td><td>91</td><td>4.5</td><td> https://img-c.udemycdn.com/course/240x135/1035472_23ce_5.jpg</td><td>4.6</td><td>25728</td><td> 365 Careers</td><td>12/2022</td><td>2023-03-06T14:58:34.549+0000</td></tr><tr><td>21</td><td>Introduction to Finance, Accounting, Modeling and Valuation</td><td>Learn Finance & Accounting from Scratch by an Award Winning MBA Professor, Ivy Grad, worked @ Goldman & VC</td><td>142904</td><td>4.5</td><td>17549</td><td>https://www.udemy.com/course/introduction-to-accounting-finance-modeling-valuation-by-chris-haroun/</td><td>bussiness</td><td>[CEO of Haroun MBA Degree Program®</td><td>208696</td><td>1312283</td><td>189257</td><td>70</td><td>4.5</td><td> https://img-c.udemycdn.com/course/240x135/888716_4225_8.jpg</td><td>4.5</td><td>28563</td><td> Chris Haroun</td><td>02/2023</td><td>2023-03-06T14:58:34.549+0000</td></tr><tr><td>22</td><td>Forex Trading A-Z™ - With LIVE Examples of Forex Trading</td><td>Forex Trading - Beginners and Experienced - Learn trading by Doing! Live examples: Forex with Real Money in Metatrader 4</td><td>67924</td><td>4.6</td><td>17220</td><td>https://www.udemy.com/course/forex-trading/</td><td>bussiness</td><td>[Data Scientist</td><td>35411</td><td>116885</td><td>82973</td><td>7</td><td>4.5</td><td> https://img-c.udemycdn.com/course/240x135/308690_6e17_6.jpg</td><td>4.4</td><td>21000</td><td> Kirill Eremenko</td><td>10/2022</td><td>2023-03-06T14:58:34.549+0000</td></tr><tr><td>23</td><td>Write Better Emails: Tactics for Smarter Team Communication</td><td>How to improve your email writing skills to save time & improve communication with your team; easy business writing tips</td><td>51707</td><td>4.4</td><td>16494</td><td>https://www.udemy.com/course/write-better-emails/</td><td>bussiness</td><td>[Virtual Teams & PM Expert; Bestselling Author; Leader @Cisco</td><td>106496</td><td>282096</td><td>175964</td><td>14</td><td>4.5</td><td> https://img-c.udemycdn.com/course/240x135/946654_dbfb_3.jpg</td><td>4.5</td><td>59669</td><td> Hassan Osman</td><td>12/2022</td><td>2023-03-06T14:58:34.549+0000</td></tr><tr><td>26</td><td>Writing With Flair: How To Become An Exceptional Writer</td><td>Ex-Wall Street Journal Editor Teaches How To Write With Confidence, Style & Impact</td><td>103488</td><td>4.5</td><td>12679</td><td>https://www.udemy.com/course/writing-with-flair-how-to-become-an-exceptional-writer/</td><td>bussiness</td><td>[Ex-Wall Street Journal editor</td><td>66322</td><td>493994</td><td>137368</td><td>13</td><td>4.6</td><td> https://img-c.udemycdn.com/course/240x135/196152_331b_3.jpg</td><td>4.6</td><td>19405</td><td> Shani Raja</td><td>01/2023</td><td>2023-03-06T14:58:34.549+0000</td></tr><tr><td>28</td><td>SQL for Data Analysis: Weekender Crash Course for Beginners</td><td>Using MySQL but applicable to Oracle SQL, Microsoft SQL Server, and PostgreSQL. Taught by a Data Scientist and PM.</td><td>59629</td><td>4.3</td><td>11820</td><td>https://www.udemy.com/course/sql-for-newbs/</td><td>bussiness</td><td>[A Course Series</td><td>14924</td><td>71332</td><td>71335</td><td>1</td><td>4.4</td><td> https://img-c.udemycdn.com/course/240x135/203556_5ff1_3.jpg</td><td>4.4</td><td>14924</td><td> A Course You'll Actually Finish</td><td>09/2022</td><td>2023-03-06T14:58:34.549+0000</td></tr><tr><td>29</td><td>Sales Training: Practical Sales Techniques</td><td>Sales Hacking: Essential sales skills, sales strategies and sales techniques to sell just about anything!</td><td>39333</td><td>4.6</td><td>11805</td><td>https://www.udemy.com/course/master-successful-selling/</td><td>bussiness</td><td>[Management Trainer  Speaker  Author</td><td>219930</td><td>503656</td><td>69453</td><td>32</td><td>4.6</td><td> https://img-c.udemycdn.com/course/240x135/563478_2c35.jpg</td><td>4.6</td><td>21572</td><td> Chris Croft</td><td>03/2020</td><td>2023-03-06T14:58:34.549+0000</td></tr><tr><td>30</td><td>Ninja Writing: The Four Levels Of Writing Mastery</td><td>Turn Your Business Writing, Blogs, Books & Essays Into Masterpieces</td><td>85844</td><td>4.4</td><td>11167</td><td>https://www.udemy.com/course/ninja-writing-the-four-levels-of-writing-mastery/</td><td>bussiness</td><td>[Ex-Wall Street Journal editor</td><td>66322</td><td>493994</td><td>109111</td><td>13</td><td>4.6</td><td> https://img-b.udemycdn.com/course/240x135/736456_f01e_4.jpg</td><td>4.6</td><td>15304</td><td> Shani Raja</td><td>11/2022</td><td>2023-03-06T14:58:34.549+0000</td></tr><tr><td>31</td><td>Tableau 20 Advanced Training: Master Tableau in Data Science</td><td>Master Tableau 20 in Data Science by solving Real-Life Analytics Problems. Learn Visualisation and Data Mining by doing!</td><td>63752</td><td>4.6</td><td>11121</td><td>https://www.udemy.com/course/tableau10-advanced/</td><td>bussiness</td><td>[Data Scientist</td><td>609473</td><td>2277515</td><td>94353</td><td>104</td><td>4.5</td><td> https://img-c.udemycdn.com/course/240x135/946194_028d_6.jpg</td><td>4.7</td><td>15875</td><td> Kirill Eremenko</td><td>01/2023</td><td>2023-03-06T14:58:34.549+0000</td></tr><tr><td>32</td><td>Conscious Listening</td><td>Transform your confidence and communication by becoming somebody that people love speaking to.</td><td>28408</td><td>4.5</td><td>11011</td><td>https://www.udemy.com/course/conscious-listening/</td><td>bussiness</td><td>[Five-time TED speaker and author of \"How to be Heard\"</td><td>47723</td><td>121106</td><td>65972</td><td>3</td><td>4.5</td><td> https://img-b.udemycdn.com/course/240x135/139166_cae0_6.jpg</td><td>4.5</td><td>30345</td><td> Julian Treasure</td><td>08/2017</td><td>2023-03-06T14:58:34.549+0000</td></tr><tr><td>33</td><td>Email Etiquette: Write More Effective Emails At Work</td><td>How to write emails that get results. How to write emails that build better working relationships.</td><td>34781</td><td>4.4</td><td>10908</td><td>https://www.udemy.com/course/business-emails/</td><td>bussiness</td><td>[Cambridge University writing tutor & professional copywriter</td><td>74339</td><td>217829</td><td>98696</td><td>16</td><td>4.5</td><td> https://img-c.udemycdn.com/course/240x135/552372_1adb.jpg</td><td>4.5</td><td>36118</td><td> Clare Lynch</td><td>03/2023</td><td>2023-03-06T14:58:34.549+0000</td></tr><tr><td>35</td><td>The Complete Presentation and Public Speaking/Speech Course</td><td>From page to stage; learn everything you need to know about giving a great speech for business & personal presentations.</td><td>159739</td><td>4.5</td><td>10441</td><td>https://www.udemy.com/course/the-complete-presentation-and-public-speaking-speech-course/</td><td>bussiness</td><td>[CEO of Haroun MBA Degree Program®</td><td>208696</td><td>1312283</td><td>204179</td><td>70</td><td>4.5</td><td> https://img-b.udemycdn.com/course/240x135/1098006_6917_6.jpg</td><td>4.5</td><td>15587</td><td> Chris Haroun</td><td>02/2023</td><td>2023-03-06T14:58:34.549+0000</td></tr><tr><td>38</td><td>Emotional Intelligence at Work: Learn from Your Emotions</td><td>Master EQ to identify emotions in yourself and others, manage your emotions, and improve your relationships at work.</td><td>21966</td><td>4.5</td><td>10148</td><td>https://www.udemy.com/course/emotional-intelligence-at-work-learn-from-your-emotions/</td><td>bussiness</td><td>[Executive Coach/Creator of AwesomeLeader.com/100K+ Students</td><td>62391</td><td>124206</td><td>95678</td><td>4</td><td>4.5</td><td> https://img-c.udemycdn.com/course/240x135/2246852_8860.jpg</td><td>4.5</td><td>47684</td><td> Leila Bulling Towne</td><td>06/2021</td><td>2023-03-06T14:58:34.549+0000</td></tr><tr><td>39</td><td>Power BI A-Z: Hands-On Power BI Training For Data Science!</td><td>Learn Microsoft Power BI for Data Science and Data Analytics. Build visualizations and BI reports with Power BI Desktop</td><td>73250</td><td>4.4</td><td>9992</td><td>https://www.udemy.com/course/mspowerbi/</td><td>bussiness</td><td>[Data Scientist</td><td>609473</td><td>2277515</td><td>103063</td><td>104</td><td>4.5</td><td> https://img-b.udemycdn.com/course/240x135/1007240_c694.jpg</td><td>4.4</td><td>20065</td><td> Kirill Eremenko</td><td>01/2023</td><td>2023-03-06T14:58:34.549+0000</td></tr><tr><td>2</td><td>The Complete Foundation Stock Trading Course</td><td>Learn To Trade The Stock Market by A Trading Firm CEO. Inc: Technical Analysis, Candlesticks, Stocks, Day Trading +++</td><td>79089</td><td>4.5</td><td>22239</td><td>https://www.udemy.com/course/foundation-course/</td><td>finance</td><td>[Finance & Programming Education</td><td>108457</td><td>332606</td><td>201721</td><td>11</td><td>4.6</td><td> https://img-c.udemycdn.com/course/240x135/1288044_d262_5.jpg</td><td>4.5</td><td>48519</td><td> Mohsen Hassan</td><td>04/2022</td><td>2023-03-06T14:58:34.549+0000</td></tr><tr><td>3</td><td>The Complete Financial Analyst Training & Investing Course</td><td>Succeed as a Financial Analyst &Investor by Award Winning MBA Prof who worked @Goldman, in Hedge Funds & Venture Capital</td><td>183645</td><td>4.5</td><td>21818</td><td>https://www.udemy.com/course/the-complete-financial-analyst-training-and-investing-course/</td><td>finance</td><td>[CEO of Haroun MBA Degree Program®</td><td>208696</td><td>1312283</td><td>246955</td><td>70</td><td>4.5</td><td> https://img-c.udemycdn.com/course/240x135/1202988_c73f_20.jpg</td><td>4.6</td><td>30123</td><td> Chris Haroun</td><td>02/2023</td><td>2023-03-06T14:58:34.549+0000</td></tr><tr><td>4</td><td>Investing In Stocks The Complete Course! (11 Hour)</td><td>Master Investing in the Stock Market with Stocks, Mutual Funds, ETF, from a Top Instructor & Millionaire Stock Portfolio</td><td>111937</td><td>4.4</td><td>20993</td><td>https://www.udemy.com/course/investing-in-stocks/</td><td>finance</td><td>[Millionaire Investor|Stocks|Crypto|ChatGPT|Teaching 471 000+</td><td>67186</td><td>474439</td><td>186959</td><td>56</td><td>4.5</td><td> https://img-b.udemycdn.com/course/240x135/964680_b329_4.jpg</td><td>4.5</td><td>34074</td><td> Steve Ballinger MBA</td><td>03/2023</td><td>2023-03-06T14:58:34.549+0000</td></tr><tr><td>5</td><td>Blockchain and Bitcoin Fundamentals</td><td>Learn the key elements of blockchain and Bitcoin in this bestselling video course and accompanying PDF glossary.</td><td>66320</td><td>4.6</td><td>20726</td><td>https://www.udemy.com/course/blockchain-and-bitcoin-fundamentals/</td><td>finance</td><td>[BIT Instructor & Certified Blockchain Professional (CBCP)</td><td>56834</td><td>179259</td><td>116150</td><td>20</td><td>4.5</td><td> https://img-b.udemycdn.com/course/240x135/1151036_64b6_6.jpg</td><td>4.5</td><td>37922</td><td> George Levy</td><td>01/2023</td><td>2023-03-06T14:58:34.549+0000</td></tr><tr><td>7</td><td>Python for Finance: Investment Fundamentals & Data Analytics</td><td>Learn Python Programming and Conduct Real-World Financial Analysis in Python - Complete Python Training</td><td>84202</td><td>4.5</td><td>17942</td><td>https://www.udemy.com/course/python-for-finance-investment-fundamentals-data-analytics/</td><td>finance</td><td>[Creating opportunities for Data Science and Finance students</td><td>652690</td><td>2270687</td><td>123676</td><td>91</td><td>4.5</td><td> https://img-c.udemycdn.com/course/240x135/1035472_23ce_5.jpg</td><td>4.6</td><td>25728</td><td> 365 Careers</td><td>12/2022</td><td>2023-03-06T14:58:34.549+0000</td></tr><tr><td>8</td><td>Introduction to Finance, Accounting, Modeling and Valuation</td><td>Learn Finance & Accounting from Scratch by an Award Winning MBA Professor, Ivy Grad, worked @ Goldman & VC</td><td>142924</td><td>4.5</td><td>17572</td><td>https://www.udemy.com/course/introduction-to-accounting-finance-modeling-valuation-by-chris-haroun/</td><td>finance</td><td>[CEO of Haroun MBA Degree Program®</td><td>208696</td><td>1312283</td><td>189257</td><td>70</td><td>4.5</td><td> https://img-c.udemycdn.com/course/240x135/888716_4225_8.jpg</td><td>4.5</td><td>28563</td><td> Chris Haroun</td><td>02/2023</td><td>2023-03-06T14:58:34.549+0000</td></tr><tr><td>9</td><td>Forex Trading A-Z™ - With LIVE Examples of Forex Trading</td><td>Forex Trading - Beginners and Experienced - Learn trading by Doing! Live examples: Forex with Real Money in Metatrader 4</td><td>67924</td><td>4.6</td><td>17227</td><td>https://www.udemy.com/course/forex-trading/</td><td>finance</td><td>[Data Scientist</td><td>35411</td><td>116885</td><td>82973</td><td>7</td><td>4.5</td><td> https://img-c.udemycdn.com/course/240x135/308690_6e17_6.jpg</td><td>4.4</td><td>21000</td><td> Kirill Eremenko</td><td>10/2022</td><td>2023-03-06T14:58:34.549+0000</td></tr><tr><td>12</td><td>Accounting in 60 Minutes - A Brief Introduction</td><td>Learn the very basics of accounting in just about an hour.</td><td>80231</td><td>4.5</td><td>9214</td><td>https://www.udemy.com/course/accounting-in-60-minutes-a-brief-introduction/</td><td>finance</td><td>[Join Vince for an Enjoyable Class!</td><td>13302</td><td>94781</td><td>89530</td><td>3</td><td>4.5</td><td> https://img-c.udemycdn.com/course/240x135/48841_9110_7.jpg</td><td>4.5</td><td>12858</td><td> Vincent Turner</td><td>07/2021</td><td>2023-03-06T14:58:34.549+0000</td></tr><tr><td>13</td><td>Technical Analysis MasterClass:Trading By Technical Analysis</td><td>Stock Market Technical Analysis Secrets for Forex , Stock Trading , Options , Swing Trading & Day Trading + ASSIGNMENTS</td><td>41213</td><td>4.4</td><td>8770</td><td>https://www.udemy.com/course/technical_analysis/</td><td>finance</td><td>[\"A Mission For Financial Confidence”</td><td>38735</td><td>150239</td><td>103564</td><td>8</td><td>4.5</td><td> https://img-c.udemycdn.com/course/240x135/1255136_1bf6_15.jpg</td><td>4.5</td><td>19969</td><td> Jyoti Bansal (NCFMNISM Certified Technical Analyst & Investment Adviser )</td><td>06/2022</td><td>2023-03-06T14:58:34.549+0000</td></tr><tr><td>14</td><td>Accounting & Financial Statement Analysis: Complete Training</td><td>Accounting & Financial Ratio Analysis made easy. Learn important accounting skills that will get your foot in the door!</td><td>38469</td><td>4.6</td><td>6381</td><td>https://www.udemy.com/course/accounting-fsa-a-solid-foundation-for-a-career-in-finance/</td><td>finance</td><td>[Creating opportunities for Data Science and Finance students</td><td>652690</td><td>2270687</td><td>66164</td><td>91</td><td>4.5</td><td> https://img-b.udemycdn.com/course/240x135/640100_9f85_5.jpg</td><td>4.6</td><td>14243</td><td> 365 Careers</td><td>10/2022</td><td>2023-03-06T14:58:34.549+0000</td></tr><tr><td>15</td><td>Advanced Stock Trading Course + Strategies</td><td>Learn To Trade The Stock Market by A Trading Firm CEO. For: Stocks, Day Trading, Swing Trading and Financial Trading</td><td>37703</td><td>4.6</td><td>6103</td><td>https://www.udemy.com/course/advanced-course-plus-strategies/</td><td>finance</td><td>[Finance & Programming Education</td><td>108457</td><td>332606</td><td>84314</td><td>11</td><td>4.6</td><td> https://img-c.udemycdn.com/course/240x135/1587644_6786_5.jpg</td><td>4.5</td><td>13106</td><td> Mohsen Hassan</td><td>04/2022</td><td>2023-03-06T14:58:34.549+0000</td></tr><tr><td>16</td><td>The Complete Personal Finance Course: Save,Protect,Make More</td><td>3 Courses in 1! Save,Protect & Make More! By an Award Winning MBA Professor, VC & Best Selling Online Business Teacher.</td><td>87783</td><td>4.6</td><td>5137</td><td>https://www.udemy.com/course/the-complete-personal-finance-course-save-protect-make-more/</td><td>finance</td><td>[CEO of Haroun MBA Degree Program®</td><td>208696</td><td>1312283</td><td>133917</td><td>70</td><td>4.5</td><td> https://img-c.udemycdn.com/course/240x135/1356742_c0b1_5.jpg</td><td>4.6</td><td>9005</td><td> Chris Haroun</td><td>02/2023</td><td>2023-03-06T14:58:34.549+0000</td></tr><tr><td>17</td><td>Options Trading Basics (3-Course Bundle)</td><td>A bundle combines 1)Intro to Call and Put Options 2) Time decay, Implied Volatility, Greeks 3) Call and Puts Live trades</td><td>29099</td><td>4.4</td><td>4913</td><td>https://www.udemy.com/course/learn-options-trading-courses/</td><td>finance</td><td>[Options Mentor  Financial markets educator  Trader  Investor</td><td>18527</td><td>116221</td><td>51050</td><td>31</td><td>4.4</td><td> https://img-c.udemycdn.com/course/240x135/43319_36fd_6.jpg</td><td>4.5</td><td>7918</td><td> Hari Swaminathan</td><td>12/2019</td><td>2023-03-06T14:58:34.549+0000</td></tr><tr><td>18</td><td>Beginner to Pro in PowerPoint: Complete PowerPoint Training</td><td>PowerPoint lessons that are easy to apply at work! Become the top PowerPoint user in your office. #1 PowerPoint training</td><td>25951</td><td>4.4</td><td>4890</td><td>https://www.udemy.com/course/powerpoint-master-class-for-business-and-finance-graduates/</td><td>finance</td><td>[Creating opportunities for Data Science and Finance students</td><td>652690</td><td>2270687</td><td>45377</td><td>91</td><td>4.5</td><td> https://img-c.udemycdn.com/course/240x135/383414_6091_5.jpg</td><td>4.5</td><td>10641</td><td> 365 Careers</td><td>07/2021</td><td>2023-03-06T14:58:34.549+0000</td></tr><tr><td>19</td><td>Value Investing Bootcamp: How to Invest Wisely</td><td>Learn the Secrets of the Best Stock Investors, Manage Your Own Portfolio, And Earn Market Beating Returns</td><td>29990</td><td>4.5</td><td>4270</td><td>https://www.udemy.com/course/value-investing-bootcamp-how-to-invest-wisely/</td><td>finance</td><td>[Founder of ValueSpreadsheet.com</td><td>6690</td><td>42842</td><td>42844</td><td>1</td><td>4.4</td><td> https://img-c.udemycdn.com/course/240x135/203732_88ed_4.jpg</td><td>4.4</td><td>6690</td><td> Nick Kraakman</td><td>09/2020</td><td>2023-03-06T14:58:34.549+0000</td></tr><tr><td>20</td><td>Start Trading Stocks Using Technical Analysis!</td><td>Learn the secrets of professional trading from a former stock broker, and make profits investing today!</td><td>18236</td><td>4.5</td><td>4237</td><td>https://www.udemy.com/course/professional-stock-trader/</td><td>finance</td><td>[professional trader and educational instructor</td><td>10311</td><td>35956</td><td>25646</td><td>9</td><td>4.3</td><td> https://img-c.udemycdn.com/course/240x135/746432_cae3_3.jpg</td><td>4.4</td><td>5998</td><td> Corey Halliday</td><td>03/2017</td><td>2023-03-06T14:58:34.549+0000</td></tr><tr><td>21</td><td>#1 Cryptocurrency Long-term Investment Opportunity 2017/2018</td><td>Learn Long-term Cryptocurrency Investing and see which Alt Coin I think is the best investment opportunity in 2017!</td><td>13901</td><td>1.8</td><td>4048</td><td>https://www.udemy.com/course/cryptocurrency-course/</td><td>finance</td><td>[Superhero Instructor! I teach 400 000 Students in 30 courses</td><td>50033</td><td>415995</td><td>13949</td><td>31</td><td>3.9</td><td> https://img-b.udemycdn.com/course/240x135/1316818_a3aa_2.jpg</td><td>1.5</td><td>4071</td><td> Suppoman ™</td><td>05/2020</td><td>2023-03-06T14:58:34.549+0000</td></tr><tr><td>22</td><td>Excel Crash Course: Master Excel for Financial Analysis</td><td>Beginner to Advanced: Learn Excel Shortcuts, Formulas & Functions for Financial Modeling & Corporate Finance</td><td>20487</td><td>4.4</td><td>3761</td><td>https://www.udemy.com/course/excel-crash-course-master-excel-for-financial-analysis/</td><td>finance</td><td>[Corporate Finance Institute</td><td>22803</td><td>139695</td><td>39105</td><td>3</td><td>4.5</td><td> https://img-c.udemycdn.com/course/240x135/985922_4fc9_2.jpg</td><td>4.6</td><td>11187</td><td> Scott Powell</td><td>11/2016</td><td>2023-03-06T14:58:34.549+0000</td></tr><tr><td>23</td><td>Financial Planning & Analysis: Building a Company's Budget</td><td>Learn the Fundamental Mechanics of Financial Planning and Position Your Career for Success!</td><td>17167</td><td>4.2</td><td>3671</td><td>https://www.udemy.com/course/financial-planning-analysis-building-a-companys-budget/</td><td>finance</td><td>[Creating opportunities for Data Science and Finance students</td><td>652690</td><td>2270687</td><td>35246</td><td>91</td><td>4.5</td><td> https://img-c.udemycdn.com/course/240x135/739390_f2ec_4.jpg</td><td>4.6</td><td>7562</td><td> 365 Careers</td><td>08/2022</td><td>2023-03-06T14:58:34.549+0000</td></tr><tr><td>24</td><td>Accounting: From Beginner to Advanced!</td><td>Learn accounting like never before. Learn easy and fast. Easy to understand Accounting. #1 accounting course online.</td><td>15937</td><td>4.4</td><td>3654</td><td>https://www.udemy.com/course/accounting101/</td><td>finance</td><td>[Award-Winning Professor  Investor and Entrepreneur</td><td>12704</td><td>57575</td><td>29029</td><td>10</td><td>4.4</td><td> https://img-c.udemycdn.com/course/240x135/133428_e67a_18.jpg</td><td>4.4</td><td>6562</td><td> Stefan Ignatovski Ph.D.</td><td>04/2022</td><td>2023-03-06T14:58:34.549+0000</td></tr><tr><td>25</td><td>Forex Robots: Automate Your Trading - Forex Robot Included!</td><td>Forex Robots - Learn the secrets to trading on a real Forex Account with Forex Trading Systems. Metatrader 4 EA</td><td>29014</td><td>4.7</td><td>3628</td><td>https://www.udemy.com/course/backtesting/</td><td>finance</td><td>[Data Scientist</td><td>35411</td><td>116885</td><td>33785</td><td>7</td><td>4.5</td><td> https://img-c.udemycdn.com/course/240x135/260470_bdcc_11.jpg</td><td>4.7</td><td>4349</td><td> Kirill Eremenko</td><td>10/2022</td><td>2023-03-06T14:58:34.549+0000</td></tr><tr><td>26</td><td>Stock Trading & Investing for Beginners 4-in-1 Course Bundle</td><td>Jumpstart your Stock Trading & Investing journey as Beginners in Stock Market. Learn both financial & technical analysis</td><td>16649</td><td>4.3</td><td>3265</td><td>https://www.udemy.com/course/complete-stock-market-starter-toolkit-for-beginners/</td><td>finance</td><td>[Stock Advisory & Education</td><td>7607</td><td>46003</td><td>35107</td><td>6</td><td>4.5</td><td> https://img-c.udemycdn.com/course/240x135/696616_c1a6_5.jpg</td><td>4.5</td><td>5237</td><td> Indian Insight | Top 10 PAC Trading Championship</td><td>12/2022</td><td>2023-03-06T14:58:34.549+0000</td></tr><tr><td>27</td><td>Acorns' Guide to Personal Finance</td><td>5 Steps to Building Wealth: Budget Better, Pay Off Debt Faster, Save and Earn More Money and Invest Wisely</td><td>24819</td><td>4.3</td><td>3199</td><td>https://www.udemy.com/course/acorns-guide-to-personal-finance/</td><td>finance</td><td>[Acorns Chief Education Officer</td><td>4686</td><td>29332</td><td>29333</td><td>1</td><td>4.5</td><td> https://img-c.udemycdn.com/course/240x135/1466336_9108_4.jpg</td><td>4.5</td><td>4686</td><td> Jennifer Barrett</td><td>01/2018</td><td>2023-03-06T14:58:34.549+0000</td></tr><tr><td>28</td><td>SAP FICO (Financial Accounting & Management Accounting) </td><td>The course covers both configuration and end-user processes for SAP FICO module</td><td>15327</td><td>4.1</td><td>3016</td><td>https://www.udemy.com/course/sap-fico-training-course/</td><td>finance</td><td>[SAP Functional Consultant</td><td>16620</td><td>77582</td><td>42618</td><td>8</td><td>4.4</td><td> https://img-c.udemycdn.com/course/240x135/1592862_c178_2.jpg</td><td>4.3</td><td>7344</td><td> Rana W Mehmood</td><td>06/2022</td><td>2023-03-06T14:58:34.549+0000</td></tr><tr><td>29</td><td>Algorithmic Trading In Forex: Create Your First Forex Robot!</td><td>Trading With Forex Robots: Learn MQL4 Programming By Doing! Create Your First Algorithmic Trading System in MetaTrader 4</td><td>20193</td><td>4.6</td><td>2926</td><td>https://www.udemy.com/course/learn-mql4/</td><td>finance</td><td>[Data Scientist</td><td>35411</td><td>116885</td><td>24574</td><td>7</td><td>4.5</td><td> https://img-b.udemycdn.com/course/240x135/258232_52db_7.jpg</td><td>4.5</td><td>3639</td><td> Kirill Eremenko</td><td>10/2022</td><td>2023-03-06T14:58:34.549+0000</td></tr><tr><td>30</td><td>Financial Modeling: Build a Complete DCF Valuation Model</td><td>The Ultimate Guide to Company Valuation For Aspiring Investment Bankers and Corporate Finance Practitioners</td><td>17127</td><td>4.5</td><td>2850</td><td>https://www.udemy.com/course/learn-how-to-value-a-company-and-build-a-dcf-model/</td><td>finance</td><td>[Creating opportunities for Data Science and Finance students</td><td>652690</td><td>2270687</td><td>29624</td><td>91</td><td>4.5</td><td> https://img-b.udemycdn.com/course/240x135/358062_8e83_7.jpg</td><td>4.4</td><td>4885</td><td> 365 Careers</td><td>04/2022</td><td>2023-03-06T14:58:34.549+0000</td></tr><tr><td>31</td><td>Options Trading - How to Win with Weekly Options</td><td>An Exact Blueprint for Options Trading Success</td><td>14597</td><td>4.1</td><td>2700</td><td>https://www.udemy.com/course/work-from-home-setup-your-own-options-trading-business/</td><td>finance</td><td>[Professional Stock  Options and Futures Trader</td><td>7112</td><td>27226</td><td>16987</td><td>7</td><td>4.2</td><td> https://img-c.udemycdn.com/course/240x135/627540_bb3c_7.jpg</td><td>4.3</td><td>3142</td><td> Jeff Tompkins</td><td>11/2021</td><td>2023-03-06T14:58:34.549+0000</td></tr><tr><td>33</td><td>Options Trading for Rookies: Understand Options Completely</td><td>Part 1: Learn everything you need to know about options, what they are, how they work, buying vs. selling and more!</td><td>13678</td><td>4.7</td><td>2673</td><td>https://www.udemy.com/course/complete-course-introduction-to-option-trading/</td><td>finance</td><td>[Option Trader | Founder of \"Option Trading for Rookies\"</td><td>20664</td><td>159922</td><td>29610</td><td>20</td><td>4.5</td><td> https://img-c.udemycdn.com/course/240x135/848664_c924_7.jpg</td><td>4.6</td><td>6468</td><td> Kal Zurn</td><td>02/2023</td><td>2023-03-06T14:58:34.549+0000</td></tr><tr><td>35</td><td>Mastering QuickBooks Online</td><td>Become An Expert QuickBooks Online And Learn How To Keep And Maintain QuickBooks Records For Perfect Accuracy</td><td>9256</td><td>4.4</td><td>2587</td><td>https://www.udemy.com/course/mastering-quickbooks-online/</td><td>finance</td><td>[Professor of Computerized Accounting</td><td>10046</td><td>46135</td><td>27444</td><td>40</td><td>4.5</td><td> https://img-b.udemycdn.com/course/240x135/1337064_745d_3.jpg</td><td>4.5</td><td>7674</td><td> Mark Smolen</td><td>01/2023</td><td>2023-03-06T14:58:34.549+0000</td></tr><tr><td>36</td><td>Accounting - A Brief Introduction - in 60 Minutes</td><td>Learn the basics of financial accounting in one hour!</td><td>26519</td><td>4.7</td><td>2512</td><td>https://www.udemy.com/course/accounting-in-less-then-one-hour/</td><td>finance</td><td>[Personal Finance Made Easy!</td><td>6878</td><td>64067</td><td>26713</td><td>7</td><td>4.4</td><td> https://img-c.udemycdn.com/course/240x135/754028_c817_6.jpg</td><td>4.6</td><td>2605</td><td> BrainyMoney and Son Han CFA CPA</td><td>03/2016</td><td>2023-03-06T14:58:34.549+0000</td></tr><tr><td>37</td><td>Complete Day Trading : Stock Trading With Technical Analysis</td><td>Learn Stock Market Day Trading Strategies, Scanning & Trading Momentum Stocks , Nifty/Bank Nifty by Technical Analysis</td><td>16561</td><td>4.4</td><td>2517</td><td>https://www.udemy.com/course/day-trading-strategies-day-trading-with-technical-analysis/</td><td>finance</td><td>[\"A Mission For Financial Confidence”</td><td>38735</td><td>150239</td><td>33902</td><td>8</td><td>4.5</td><td> https://img-b.udemycdn.com/course/240x135/1691546_8dd1_7.jpg</td><td>4.3</td><td>4385</td><td> Jyoti Bansal (NCFMNISM Certified Technical Analyst & Investment Adviser )</td><td>06/2022</td><td>2023-03-06T14:58:34.549+0000</td></tr><tr><td>38</td><td>The Ultimate QuickBooks Pro Training Bundle - 60+ Hours</td><td>Master QuickBooks Pro with this training bundle consisting of 8 courses, 60+ hours, and over 400 videos.</td><td>17813</td><td>4.4</td><td>2499</td><td>https://www.udemy.com/course/the-ultimate-quickbooks-pro-training-bundle/</td><td>finance</td><td>[670 000+ Students  220+ Courses  Learners in 180+ Countries</td><td>103350</td><td>677541</td><td>21664</td><td>221</td><td>4.5</td><td> https://img-c.udemycdn.com/course/240x135/128082_5026_6.jpg</td><td>4.4</td><td>3253</td><td> Simon Sez IT</td><td>11/2022</td><td>2023-03-06T14:58:34.549+0000</td></tr><tr><td>39</td><td>Options Trading MasterClass: Options With Technical Analysis</td><td>Options Trading+++Strategies , Options Basics & Greeks (A 3-Course Bundle) For Stock & Day Trading By Technical Analysis</td><td>19775</td><td>4.3</td><td>2491</td><td>https://www.udemy.com/course/option-trading-option-strategies-with-technical-analysis/</td><td>finance</td><td>[\"A Mission For Financial Confidence”</td><td>38735</td><td>150239</td><td>41890</td><td>8</td><td>4.5</td><td> https://img-c.udemycdn.com/course/240x135/1568560_b2ed_13.jpg</td><td>4.3</td><td>4832</td><td> Jyoti Bansal (NCFMNISM Certified Technical Analyst & Investment Adviser )</td><td>06/2022</td><td>2023-03-06T14:58:34.549+0000</td></tr><tr><td>0</td><td>The Ultimate Drawing Course - Beginner to Advanced</td><td>Learn the #1 most important building block of all art</td><td>403865</td><td>4.5</td><td>98984</td><td>https://www.udemy.com/course/the-ultimate-drawing-course-beginner-to-advanced/</td><td>design</td><td>[Illustrator & Designer</td><td>126084</td><td>586086</td><td>499868</td><td>11</td><td>4.6</td><td> https://img-c.udemycdn.com/course/240x135/874012_c7f2_3.jpg</td><td>4.6</td><td>117358</td><td> Jaysen Batchelor</td><td>03/2022</td><td>2023-03-06T14:58:34.549+0000</td></tr><tr><td>2</td><td>Complete Blender Creator: Learn 3D Modelling for Beginners</td><td>Use Blender to Create Beautiful 3D models for Video Games, 3D Printing & More. Beginners Level Course</td><td>203790</td><td>4.6</td><td>39959</td><td>https://www.udemy.com/course/blendertutorial/</td><td>design</td><td>[Learn to Make and Sell Games</td><td>69866</td><td>336880</td><td>292447</td><td>8</td><td>4.7</td><td> https://img-c.udemycdn.com/course/240x135/438522_500f_7.jpg</td><td>4.7</td><td>57451</td><td> GameDev.tv Team</td><td>11/2022</td><td>2023-03-06T14:58:34.549+0000</td></tr><tr><td>3</td><td>Design Thinking in 3 Steps</td><td>Understand your audience, envision a creative solution, and test your prototype</td><td>63479</td><td>4.4</td><td>28014</td><td>https://www.udemy.com/course/designit-design-thinking/</td><td>design</td><td>[Design What Matters</td><td>49765</td><td>111071</td><td>111076</td><td>1</td><td>4.4</td><td> https://img-c.udemycdn.com/course/240x135/1065056_41ed_5.jpg</td><td>4.4</td><td>49765</td><td> Designit Strategic Design</td><td>06/2020</td><td>2023-03-06T14:58:34.549+0000</td></tr><tr><td>4</td><td>Illustrator CC 2020 MasterClass</td><td>Master Adobe Illustrator CC with this in-depth training for all levels.</td><td>117513</td><td>4.6</td><td>25858</td><td>https://www.udemy.com/course/illustrator-cc-masterclass/</td><td>design</td><td>[Yes I'm a Designer</td><td>51190</td><td>210197</td><td>147740</td><td>26</td><td>4.6</td><td> https://img-b.udemycdn.com/course/240x135/1197206_7201_4.jpg</td><td>4.6</td><td>32459</td><td> Martin Perhiniak</td><td>10/2021</td><td>2023-03-06T14:58:34.549+0000</td></tr><tr><td>5</td><td>User Experience Design Essentials - Adobe XD UI UX Design</td><td>Use XD to get a job in UI Design, User Interface, User Experience design, UX design & Web Design</td><td>94235</td><td>4.6</td><td>23988</td><td>https://www.udemy.com/course/ui-ux-web-design-using-adobe-xd/</td><td>design</td><td>[Adobe Certified Instructor & Adobe Certified Expert</td><td>193417</td><td>618157</td><td>175335</td><td>33</td><td>4.7</td><td> https://img-c.udemycdn.com/course/240x135/1452908_8741_4.jpg</td><td>4.7</td><td>43544</td><td> Daniel Walter Scott</td><td>08/2022</td><td>2023-03-06T14:58:34.549+0000</td></tr><tr><td>6</td><td>Ultimate Photoshop Training: From Beginner to Pro</td><td>Master Photoshop CC 2020 without any previous knowledge with this easy-to-follow course</td><td>121883</td><td>4.6</td><td>20629</td><td>https://www.udemy.com/course/ultimate-photoshop-training-from-beginner-to-pro/</td><td>design</td><td>[Certified Photoshop Instructor & Expert  Web & App Designer</td><td>39472</td><td>272735</td><td>158216</td><td>12</td><td>4.7</td><td> https://img-c.udemycdn.com/course/240x135/1046722_cbd7_6.jpg</td><td>4.7</td><td>27674</td><td> Cristian Doru Barin</td><td>01/2023</td><td>2023-03-06T14:58:34.549+0000</td></tr><tr><td>9</td><td>Adobe Photoshop CC: Your Complete Beginner to Advanced Class</td><td>Learn the essential tools of Adobe Photoshop CC to jump right in and design beautiful graphics and photos in Photoshop.</td><td>470991</td><td>4.6</td><td>16005</td><td>https://www.udemy.com/course/adobe-photoshop-course/</td><td>design</td><td>[Top-Rated Instructor  2.5 Million+ Students</td><td>389023</td><td>2625059</td><td>512841</td><td>204</td><td>4.6</td><td> https://img-c.udemycdn.com/course/240x135/927356_8108_6.jpg</td><td>4.6</td><td>20595</td><td> Phil Ebiner</td><td>12/2022</td><td>2023-03-06T14:58:34.549+0000</td></tr><tr><td>10</td><td>Wordpress for Beginners - Master Wordpress Quickly</td><td>In 2020, build a beautiful responsive Wordpress site that looks great on all devices. No experience required.</td><td>64732</td><td>4.5</td><td>15045</td><td>https://www.udemy.com/course/wordpress-for-beginners-course/</td><td>design</td><td>[Wordpress  SEO & Self-Publishing Expert  teacher and author</td><td>36450</td><td>163056</td><td>112248</td><td>31</td><td>4.6</td><td> https://img-b.udemycdn.com/course/240x135/355212_948a_10.jpg</td><td>4.6</td><td>26457</td><td> Andrew Williams</td><td>02/2023</td><td>2023-03-06T14:58:34.549+0000</td></tr><tr><td>11</td><td>Adobe Photoshop CC – Essentials Training Course</td><td>This Adobe Photoshop Essentials course will teach you Photoshop Retouching as well as Photoshop for graphic design.</td><td>53888</td><td>4.7</td><td>14453</td><td>https://www.udemy.com/course/adobe-photoshop-cc-essentials-training-course/</td><td>design</td><td>[Adobe Certified Instructor & Adobe Certified Expert</td><td>193417</td><td>618157</td><td>116195</td><td>33</td><td>4.7</td><td> https://img-c.udemycdn.com/course/240x135/1747782_399b_3.jpg</td><td>4.8</td><td>29372</td><td> Daniel Walter Scott</td><td>04/2022</td><td>2023-03-06T14:58:34.549+0000</td></tr><tr><td>12</td><td>Graphic Design Bootcamp: Photoshop, Illustrator, InDesign</td><td>Bestselling Beginner Course! Use Photoshop, Illustrator, & InDesign for logo design, web design, poster design, and more</td><td>86585</td><td>4.5</td><td>13338</td><td>https://www.udemy.com/course/graphic-design-for-beginners/</td><td>design</td><td>[Creative Director; Online Teacher to over 128 000 students</td><td>18745</td><td>156510</td><td>116149</td><td>12</td><td>4.5</td><td> https://img-c.udemycdn.com/course/240x135/749542_4762_3.jpg</td><td>4.4</td><td>15955</td><td> Derrick Mitchell</td><td>11/2022</td><td>2023-03-06T14:58:34.549+0000</td></tr><tr><td>13</td><td>The complete AutoCAD 2018-21 course</td><td>A complete course for learning AutoCAD from scratch to professional level</td><td>48556</td><td>4.6</td><td>13295</td><td>https://www.udemy.com/course/autocad-2018-course/</td><td>design</td><td>[Author of Practical AutoCAD Book by Packt publication</td><td>37840</td><td>242179</td><td>89718</td><td>12</td><td>4.6</td><td> https://img-b.udemycdn.com/course/240x135/1271196_5ffa_2.jpg</td><td>4.6</td><td>23536</td><td> Jaiprakash Pandey</td><td>05/2022</td><td>2023-03-06T14:58:34.549+0000</td></tr><tr><td>14</td><td>Web Design for Beginners: Real World Coding in HTML & CSS</td><td>Launch a career as a web designer by learning HTML5, CSS3, responsive design, Sass and more!</td><td>47169</td><td>4.6</td><td>12888</td><td>https://www.udemy.com/course/web-design-for-beginners-real-world-coding-in-html-css/</td><td>design</td><td>[Web Developer</td><td>65329</td><td>221294</td><td>83064</td><td>8</td><td>4.7</td><td> https://img-c.udemycdn.com/course/240x135/246154_d8b0_3.jpg</td><td>4.6</td><td>23418</td><td> Brad Schiff</td><td>07/2020</td><td>2023-03-06T14:58:34.549+0000</td></tr><tr><td>15</td><td>Adobe Illustrator CC - Essentials Training Course</td><td>Learn Adobe Illustrator CC graphic design, logo design, and more with this in-depth, practical, easy-to-follow course!</td><td>45570</td><td>4.7</td><td>12250</td><td>https://www.udemy.com/course/adobe-illustrator-course/</td><td>design</td><td>[Learn Creative Skills</td><td>193417</td><td>618157</td><td>97482</td><td>33</td><td>4.7</td><td> https://img-b.udemycdn.com/course/240x135/1514258_3768_3.jpg</td><td>4.8</td><td>23828</td><td> Video School</td><td>04/2022</td><td>2023-03-06T14:58:34.549+0000</td></tr><tr><td>16</td><td>UX & Web Design Master Course: Strategy, Design, Development</td><td>Learn how to apply User Experience (UX) principles to your website designs, code a variety of sites, and increase sales!</td><td>80706</td><td>4.5</td><td>11401</td><td>https://www.udemy.com/course/ux-web-design-master-course-strategy-design-development/</td><td>design</td><td>[30-year UX + Design Veteran; Consultant  Author & Speaker</td><td>51672</td><td>226563</td><td>100540</td><td>11</td><td>4.5</td><td> https://img-c.udemycdn.com/course/240x135/412738_4543_2.jpg</td><td>4.4</td><td>14400</td><td> Joe Natoli</td><td>03/2020</td><td>2023-03-06T14:58:34.549+0000</td></tr><tr><td>17</td><td>Drawing and Painting on the iPad with Procreate</td><td>Learn everything you need to know about Procreate with hands on drawing lessons. Now updated for Procreate 5.</td><td>40443</td><td>4.7</td><td>10886</td><td>https://www.udemy.com/course/drawing-and-painting-on-the-ipad-with-procreate/</td><td>design</td><td>[Freelance Designer and Illustrator</td><td>24246</td><td>89560</td><td>70413</td><td>10</td><td>4.7</td><td> https://img-c.udemycdn.com/course/240x135/1081714_3862.jpg</td><td>4.7</td><td>16836</td><td> Brad Colbow</td><td>12/2021</td><td>2023-03-06T14:58:34.549+0000</td></tr><tr><td>18</td><td>User Experience Design Fundamentals</td><td>Design Web Sites and Mobile Apps that Your Users Love and Return to Again and Again with UX Expert Joe Natoli.</td><td>74042</td><td>4.4</td><td>9223</td><td>https://www.udemy.com/course/user-experience-design-fundamentals/</td><td>design</td><td>[30-year UX + Design Veteran; Consultant  Author & Speaker</td><td>51672</td><td>226563</td><td>98778</td><td>11</td><td>4.5</td><td> https://img-c.udemycdn.com/course/240x135/58207_2ec2_7.jpg</td><td>4.4</td><td>14250</td><td> Joe Natoli</td><td>12/2019</td><td>2023-03-06T14:58:34.549+0000</td></tr><tr><td>19</td><td>Adobe InDesign CC - Essentials Training Course</td><td>Build company newsletters, brochures, annual reports. Learn typography, color theory & graphic design skills in InDesign</td><td>35860</td><td>4.7</td><td>9158</td><td>https://www.udemy.com/course/indesign-tutorial-basics-course/</td><td>design</td><td>[Adobe Certified Instructor & Adobe Certified Expert</td><td>193417</td><td>618157</td><td>58943</td><td>33</td><td>4.7</td><td> https://img-c.udemycdn.com/course/240x135/1316728_26f9_6.jpg</td><td>4.7</td><td>15349</td><td> Daniel Walter Scott</td><td>11/2021</td><td>2023-03-06T14:58:34.549+0000</td></tr><tr><td>20</td><td>After Effects CC Masterclass: Complete After Effects Course</td><td>Learn After Effects CC to improve your videos with professional motion graphics and visual effects.</td><td>323449</td><td>4.6</td><td>8784</td><td>https://www.udemy.com/course/after-effects-cc/</td><td>design</td><td>[Top-Rated Instructor  2.5 Million+ Students</td><td>389023</td><td>2625059</td><td>341633</td><td>204</td><td>4.6</td><td> https://img-c.udemycdn.com/course/240x135/927360_bab9_5.jpg</td><td>4.6</td><td>12654</td><td> Phil Ebiner</td><td>08/2022</td><td>2023-03-06T14:58:34.549+0000</td></tr><tr><td>21</td><td>CSS - The Complete Guide 2020 (incl. Flexbox, Grid & Sass)</td><td>Learn CSS for the first time or brush up your CSS skills and dive in even deeper. EVERY web developer has to know CSS.</td><td>43083</td><td>4.7</td><td>8605</td><td>https://www.udemy.com/course/css-the-complete-guide-incl-flexbox-grid-sass/</td><td>design</td><td>[Online Education</td><td>102033</td><td>1065927</td><td>86701</td><td>11</td><td>4.6</td><td> https://img-c.udemycdn.com/course/240x135/1561458_7f3b_2.jpg</td><td>4.7</td><td>16005</td><td> Academind by Maximilian Schwarzmüller</td><td>11/2022</td><td>2023-03-06T14:58:34.549+0000</td></tr><tr><td>22</td><td>Photoshop CC 2020 MasterClass</td><td>Master the World's Best Imaging and Design Application and Become an Adobe Certified Associate.</td><td>45107</td><td>4.6</td><td>8020</td><td>https://www.udemy.com/course/photoshop-cc-masterclass/</td><td>design</td><td>[Yes I'm a Designer</td><td>51190</td><td>210197</td><td>58673</td><td>26</td><td>4.6</td><td> https://img-c.udemycdn.com/course/240x135/850426_5596_4.jpg</td><td>4.7</td><td>10634</td><td> Martin Perhiniak</td><td>01/2022</td><td>2023-03-06T14:58:34.549+0000</td></tr><tr><td>23</td><td>Sketch from A to Z (2020): Become an app designer</td><td>Finally a comprehensive guide to using Sketch for designing mobile applications. Learn to design an app from A to Z.</td><td>27489</td><td>4.7</td><td>7704</td><td>https://www.udemy.com/course/learnsketch3/</td><td>design</td><td>[UI/UX Designer & Professor of Design</td><td>10389</td><td>39027</td><td>36710</td><td>3</td><td>4.6</td><td> https://img-c.udemycdn.com/course/240x135/371074_6c73_2.jpg</td><td>4.6</td><td>9990</td><td> Joseph Angelo Todaro</td><td>08/2021</td><td>2023-03-06T14:58:34.549+0000</td></tr><tr><td>24</td><td>WordPress Theme Development with Bootstrap</td><td>Learn how to confidently develop custom & profitable Responsive WordPress Themes and Websites with no prior experience.</td><td>46795</td><td>4.3</td><td>7501</td><td>https://www.udemy.com/course/bootstrap-to-wordpress/</td><td>design</td><td>[Web Designer  Creator & Marketing Consultant</td><td>63394</td><td>589582</td><td>53039</td><td>12</td><td>4.5</td><td> https://img-b.udemycdn.com/course/240x135/271228_ce5b_9.jpg</td><td>4.4</td><td>8223</td><td> Brad Hussey</td><td>02/2022</td><td>2023-03-06T14:58:34.549+0000</td></tr><tr><td>25</td><td>Creating 3D environments in Blender</td><td>This course helps you creating wonderful environment scenes, organizing your workflow, and find the right inspiration.</td><td>61021</td><td>4.5</td><td>7481</td><td>https://www.udemy.com/course/blender-environments/</td><td>design</td><td>[Co-Founder Polyhaven</td><td>11973</td><td>96695</td><td>96715</td><td>1</td><td>4.6</td><td> https://img-c.udemycdn.com/course/240x135/683198_ef78_8.jpg</td><td>4.6</td><td>11973</td><td> Rob Tuytel</td><td>12/2022</td><td>2023-03-06T14:58:34.549+0000</td></tr><tr><td>26</td><td>Photoshop In-Depth: Master all of Photoshop's Tools Easily</td><td>Learn the many tools in Adobe Photoshop with in-depth lectures that explain the tool uses, options + modes in Photoshop.</td><td>165767</td><td>4.4</td><td>7451</td><td>https://www.udemy.com/course/photoshop-tools/</td><td>design</td><td>[Professor / Graphic Designer / Photographer 20+ yrs exp.</td><td>28674</td><td>536330</td><td>167206</td><td>15</td><td>4.4</td><td> https://img-c.udemycdn.com/course/240x135/348116_e9d8_5.jpg</td><td>4.2</td><td>7841</td><td> Chad Neuman Ph.D.</td><td>03/2021</td><td>2023-03-06T14:58:34.549+0000</td></tr><tr><td>27</td><td>The Complete App Design Course - UX, UI and Design Thinking</td><td>Learn App Design to Make Beautiful, Lovable Apps</td><td>31444</td><td>4.4</td><td>6848</td><td>https://www.udemy.com/course/the-complete-app-design-course-ux-and-ui-design/</td><td>design</td><td>[in-Person & Online Development Bootcamp</td><td>11456</td><td>74152</td><td>45361</td><td>6</td><td>4.4</td><td> https://img-c.udemycdn.com/course/240x135/1184844_3714.jpg</td><td>4.4</td><td>10403</td><td> App Brewery Co.</td><td>11/2019</td><td>2023-03-06T14:58:34.549+0000</td></tr><tr><td>115</td><td>Fundamentals of Garden Design</td><td>An Introduction to Landscape Design</td><td>6729</td><td>4.4</td><td>1733</td><td>https://www.udemy.com/course/fundamentals-of-garden-design/</td><td>design</td><td>[Landscape Architect & Educator</td><td>3878</td><td>17218</td><td>14802</td><td>8</td><td>4.5</td><td> https://img-c.udemycdn.com/course/240x135/1242820_a019_2.jpg</td><td>4.5</td><td>3453</td><td> Rob Littlepage</td><td>08/2022</td><td>2023-03-06T14:58:34.549+0000</td></tr><tr><td>28</td><td>The Ultimate Digital Painting Course - Beginner to Advanced</td><td>Everything from drawing fundamentals to professional painting techniques</td><td>39814</td><td>4.5</td><td>6350</td><td>https://www.udemy.com/course/the-ultimate-digital-painting-course-beginner-to-advanced/</td><td>design</td><td>[Illustrator & Designer</td><td>33057</td><td>257017</td><td>90381</td><td>15</td><td>4.5</td><td> https://img-c.udemycdn.com/course/240x135/869812_1fc8_3.jpg</td><td>4.5</td><td>14424</td><td> Jaysen Batchelor</td><td>03/2022</td><td>2023-03-06T14:58:34.549+0000</td></tr><tr><td>29</td><td>Become a Game Designer the Complete Series Coding to Design</td><td>Master Unity, 3D game design, 2D game design, coding, C#, game development, 3D animation, programming, level design...</td><td>54712</td><td>4.2</td><td>6299</td><td>https://www.udemy.com/course/become-a-game-designer/</td><td>design</td><td>[Real world training from game design experts!</td><td>15967</td><td>206050</td><td>67007</td><td>12</td><td>4.4</td><td> https://img-c.udemycdn.com/course/240x135/526534_04bb_4.jpg</td><td>4.5</td><td>7910</td><td> [ School of Game Design ]</td><td>01/2023</td><td>2023-03-06T14:58:34.549+0000</td></tr><tr><td>30</td><td>Landing Page Design & Conversion Rate Optimization 2018</td><td>Triple Your Conversion Rate With These Landing Page Design Principles & Build A Landing Page From Scratch With No Code</td><td>35578</td><td>4.7</td><td>6248</td><td>https://www.udemy.com/course/landing-page-design-best-practices/</td><td>design</td><td>[Certified Google AdWords Pro |Co-founder of AdVenture Media</td><td>63417</td><td>239054</td><td>42092</td><td>4</td><td>4.6</td><td> https://img-c.udemycdn.com/course/240x135/1048360_8a17.jpg</td><td>4.6</td><td>7472</td><td> Isaac Rudansky</td><td>10/2021</td><td>2023-03-06T14:58:34.549+0000</td></tr><tr><td>31</td><td>The Complete Graphic Design Theory for Beginners Course</td><td>Learn Graphic Design Theory and the Basic Principles of Color Theory, Typography, Branding, Logo Design, Layout & More!</td><td>26910</td><td>4.6</td><td>6094</td><td>https://www.udemy.com/course/graphic-design-theory-for-beginners-course/</td><td>design</td><td>[300 000+ Students | Graphic Design  Adobe  Affinity & More</td><td>24915</td><td>274401</td><td>64062</td><td>16</td><td>4.6</td><td> https://img-c.udemycdn.com/course/240x135/1864390_96a5_2.jpg</td><td>4.6</td><td>15290</td><td> Lindsay Marsh</td><td>02/2022</td><td>2023-03-06T14:58:34.549+0000</td></tr><tr><td>32</td><td>Crash Course Electronics and PCB Design</td><td>Learn Electronics and PCB Design from the Ground up with Altium CircuitMaker and Labcenter Proteus</td><td>30117</td><td>4.6</td><td>6014</td><td>https://www.udemy.com/course/crash-course-electronics-and-pcb-design/</td><td>design</td><td>[Computer Scientist / Embedded Engineer / Author</td><td>12028</td><td>66247</td><td>66281</td><td>1</td><td>4.6</td><td> https://img-c.udemycdn.com/course/240x135/401998_6e4a.jpg</td><td>4.6</td><td>12028</td><td> Andre LaMothe</td><td>02/2023</td><td>2023-03-06T14:58:34.549+0000</td></tr><tr><td>33</td><td>DESIGN RULES: Principles + Practices for Great UI Design</td><td>Learn to design powerful user interfaces for apps, sites and systems</td><td>21705</td><td>4.6</td><td>5774</td><td>https://www.udemy.com/course/design-rules/</td><td>design</td><td>[30-year UX + Design Veteran; Consultant  Author & Speaker</td><td>51672</td><td>226563</td><td>42643</td><td>11</td><td>4.5</td><td> https://img-c.udemycdn.com/course/240x135/1595266_8fe6.jpg</td><td>4.7</td><td>11212</td><td> Joe Natoli</td><td>05/2018</td><td>2023-03-06T14:58:34.549+0000</td></tr><tr><td>34</td><td>Photoshop Beginners Mastery: Zero to Hero in Photoshop</td><td>Learn Photoshop quickly and easily with essentials of Adobe Photoshop to produce beautiful images in Adobe Photoshop.</td><td>215917</td><td>4.3</td><td>5731</td><td>https://www.udemy.com/course/getting-started-in-photoshop/</td><td>design</td><td>[Professor / Graphic Designer / Photographer 20+ yrs exp.</td><td>28674</td><td>536330</td><td>218718</td><td>15</td><td>4.4</td><td> https://img-c.udemycdn.com/course/240x135/348146_9dc0_7.jpg</td><td>4.4</td><td>6334</td><td> Chad Neuman Ph.D.</td><td>05/2020</td><td>2023-03-06T14:58:34.549+0000</td></tr><tr><td>35</td><td>How to Work with Interior Design Styles Like a Pro</td><td>Interior Design Styles Demystified</td><td>27388</td><td>4.4</td><td>5717</td><td>https://www.udemy.com/course/learn-how-to-work-with-interior-design-styles-like-a-pro/</td><td>design</td><td>[Interior Designer</td><td>29452</td><td>88946</td><td>47826</td><td>10</td><td>4.5</td><td> https://img-c.udemycdn.com/course/240x135/1136678_f12f_3.jpg</td><td>4.4</td><td>9563</td><td> Erikka Fogleman</td><td>10/2022</td><td>2023-03-06T14:58:34.549+0000</td></tr><tr><td>36</td><td>Learn Photoshop, Web Design & Profitable Freelancing</td><td>Learn Photoshop and use it to create amazing website designs and create a high, stable income. No coding needed!</td><td>41283</td><td>4.4</td><td>5614</td><td>https://www.udemy.com/course/learn-photoshop-web-design-profitable-freelancing/</td><td>design</td><td>[Certified Photoshop Instructor & Expert  Web & App Designer</td><td>39472</td><td>272735</td><td>46217</td><td>12</td><td>4.7</td><td> https://img-c.udemycdn.com/course/240x135/957940_4115_4.jpg</td><td>4.6</td><td>6421</td><td> Cristian Doru Barin</td><td>01/2023</td><td>2023-03-06T14:58:34.549+0000</td></tr><tr><td>37</td><td>Learn Adobe Photoshop from Scratch</td><td>The Complete Beginners Guide for Learning Adobe Photoshop</td><td>84955</td><td>4.3</td><td>5443</td><td>https://www.udemy.com/course/learn-adobe-photoshop-from-scratch/</td><td>design</td><td>[1+ Million Students Worldwide | 200+ Courses</td><td>73526</td><td>1226544</td><td>85456</td><td>170</td><td>3.9</td><td> https://img-c.udemycdn.com/course/240x135/270816_7956_3.jpg</td><td>4.4</td><td>5595</td><td> Eduonix Learning Solutions</td><td>12/2018</td><td>2023-03-06T14:58:34.549+0000</td></tr><tr><td>38</td><td>User Experience (UX): The Ultimate Guide to Usability and UX</td><td>Get a job in UX and build your user research and UX design skills with this hands-on user experience training course.</td><td>19033</td><td>4.6</td><td>5230</td><td>https://www.udemy.com/course/ultimate-guide-to-ux/</td><td>design</td><td>[Author of 'Think Like a UX Researcher'</td><td>10363</td><td>63351</td><td>22513</td><td>5</td><td>4.5</td><td> https://img-c.udemycdn.com/course/240x135/28258_8a7e_14.jpg</td><td>4.6</td><td>6396</td><td> David Travis</td><td>04/2020</td><td>2023-03-06T14:58:34.549+0000</td></tr><tr><td>0</td><td>Cinematography Course: Shoot Expert Video on Any Camera</td><td>Your Online Guide to Professional Cinematography. Learn to Shoot Stunning Video Like a Professional With Any Camera.</td><td>7983</td><td>4.5</td><td>2335</td><td>https://www.udemy.com/course/cinematographycourse/</td><td>photography</td><td>[Pro Photographer  Videographer  Award Winning Youtuber</td><td>30193</td><td>119834</td><td>12558</td><td>5</td><td>4.5</td><td> https://img-b.udemycdn.com/course/240x135/1488956_955e.jpg</td><td>4.6</td><td>3567</td><td> Dale McManus</td><td>06/2018</td><td>2023-03-06T14:58:34.549+0000</td></tr><tr><td>1</td><td>Adobe Premiere Pro CC 2020: Video Editing for Beginners</td><td>Learn how to edit amazing videos in Adobe Premiere Pro CC 2020 with zero experience.</td><td>203666</td><td>4.5</td><td>2320</td><td>https://www.udemy.com/course/premiere-pro-with-brad-newton/</td><td>photography</td><td>[Fitness Coach & YouTuber | 312 000+ Students</td><td>6635</td><td>313783</td><td>212024</td><td>5</td><td>4.6</td><td> https://img-b.udemycdn.com/course/240x135/1920686_e0f7_8.jpg</td><td>4.6</td><td>3647</td><td> Brad Newton</td><td>11/2021</td><td>2023-03-06T14:58:34.549+0000</td></tr><tr><td>2</td><td>The Complete Final Cut Pro X Course Beginner To Intermediate</td><td>In this complete course students will learn how to edit their videos using Final Cut Pro X from beginner to intermediate</td><td>17236</td><td>4.4</td><td>2111</td><td>https://www.udemy.com/course/finalcutproxcourse/</td><td>photography</td><td>[Top-Rated Instructor  800 000+ Students</td><td>68614</td><td>913947</td><td>23012</td><td>85</td><td>4.3</td><td> https://img-c.udemycdn.com/course/240x135/1400814_c83d_2.jpg</td><td>4.1</td><td>3363</td><td> Joe Parys</td><td>11/2020</td><td>2023-03-06T14:58:34.549+0000</td></tr><tr><td>3</td><td>Photography - Become a Better Photographer - Part I</td><td>See results today! 50 photography tips for taking amazing photos with your DSLR, Mirrorless or compact camera.</td><td>14264</td><td>4.7</td><td>1663</td><td>https://www.udemy.com/course/great-photography-tips-photo-tutorials/</td><td>photography</td><td>[Award winning portrait & (ex) wedding photographer</td><td>4984</td><td>29119</td><td>15942</td><td>7</td><td>4.6</td><td> https://img-c.udemycdn.com/course/240x135/15392_15b9_30.jpg</td><td>4.6</td><td>1969</td><td> Bernie Raffe AMPA</td><td>10/2020</td><td>2023-03-06T14:58:34.549+0000</td></tr><tr><td>4</td><td>GIMP 2.10 Masterclass: From Beginner to Pro Photo Editing</td><td>GIMP 2.10 Complete Guide - Learn the Free Photo Editor GIMP. Go From a Beginner to Pro in Photo Editing & Graphic Design</td><td>6314</td><td>4.6</td><td>1598</td><td>https://www.udemy.com/course/gimp-photo-editing/</td><td>photography</td><td>[10+ Year GIMP & WordPress Expert  Designer & Photographer</td><td>3389</td><td>13623</td><td>13225</td><td>3</td><td>4.6</td><td> https://img-c.udemycdn.com/course/240x135/1145580_bfd0_10.jpg</td><td>4.6</td><td>3188</td><td> Michael Davies</td><td>02/2023</td><td>2023-03-06T14:58:34.549+0000</td></tr><tr><td>5</td><td>Wedding Photography: Complete Guide to Wedding Photography</td><td>Learn exactly how to become a wedding photographer, start a photo business of your own, and shoot better wedding photos.</td><td>74287</td><td>4.6</td><td>1587</td><td>https://www.udemy.com/course/wedding-photography-course/</td><td>photography</td><td>[Top-Rated Instructor  2.5 Million+ Students</td><td>389023</td><td>2625059</td><td>76090</td><td>204</td><td>4.6</td><td> https://img-b.udemycdn.com/course/240x135/557386_009f_5.jpg</td><td>4.8</td><td>1933</td><td> Phil Ebiner</td><td>02/2023</td><td>2023-03-06T14:58:34.549+0000</td></tr><tr><td>6</td><td>Night Photography: You Can Shoot Stunning Night Photos</td><td>You will shoot amazing night photos that impress your family and friends with this complete night photography course!</td><td>93955</td><td>4.4</td><td>1586</td><td>https://www.udemy.com/course/night-photography/</td><td>photography</td><td>[Top-Rated Instructor  2.5 Million+ Students</td><td>389023</td><td>2625059</td><td>105698</td><td>204</td><td>4.6</td><td> https://img-c.udemycdn.com/course/240x135/1171588_ab12_9.jpg</td><td>4.5</td><td>2222</td><td> Phil Ebiner</td><td>09/2022</td><td>2023-03-06T14:58:34.549+0000</td></tr><tr><td>7</td><td>VIDEO CINEMATOGRAPHY techniques loved by pro filmmakers</td><td>Creative video. Learn what pro broadcast camera ops do to grab and excite an audience. Taught by a pro broadcaster</td><td>7843</td><td>4.5</td><td>1564</td><td>https://www.udemy.com/course/motivate-inspire-and-empower-your-video-audience/</td><td>photography</td><td>[Award-winning TV broadcaster and director</td><td>7103</td><td>27907</td><td>9798</td><td>8</td><td>4.5</td><td> https://img-c.udemycdn.com/course/240x135/420242_a7fb_9.jpg</td><td>4.6</td><td>1980</td><td> Andrew St.Pierre White</td><td>03/2018</td><td>2023-03-06T14:58:34.549+0000</td></tr><tr><td>8</td><td>Learn Landscape Photography</td><td>Get inspired | Learn more | Go places</td><td>31947</td><td>3.8</td><td>1553</td><td>https://www.udemy.com/course/learn-landscapes/</td><td>photography</td><td>[Pro photographer | Qualified teacher | Photoshop expert</td><td>3299</td><td>56526</td><td>32110</td><td>7</td><td>4.3</td><td> https://img-c.udemycdn.com/course/240x135/1138246_094d.jpg</td><td>4.0</td><td>1624</td><td> Ray Salisbury</td><td>05/2018</td><td>2023-03-06T14:58:34.549+0000</td></tr><tr><td>9</td><td>Complete Photography : 21 Courses in 1 [Beginner to Expert]</td><td>Learn Portrait Photography, Landscape Photography, Stock Photography, Photography Composition, Black and White, and more</td><td>69461</td><td>4.3</td><td>1462</td><td>https://www.udemy.com/course/interactive-photography-basics/</td><td>photography</td><td>[Creative & Engaging Online Courses</td><td>32596</td><td>1329791</td><td>192047</td><td>20</td><td>4.1</td><td> https://img-b.udemycdn.com/course/240x135/1644218_1b3a.jpg</td><td>4.3</td><td>2735</td><td> Creative Online School</td><td>08/2020</td><td>2023-03-06T14:58:34.549+0000</td></tr><tr><td>10</td><td>Adobe Lightroom CC + Classic // Learn Photo Editing by Pro</td><td>Lightroom - Learn all my Lightroom CC Classic secrets & photo editing techniques. Get organized & make your images pop!</td><td>12372</td><td>4.5</td><td>1443</td><td>https://www.udemy.com/course/master-adobe-lightroom-6-in-1-day/</td><td>photography</td><td>[Photography | Photoshop | Lightroom | GIMP | Taught by a Pro</td><td>13633</td><td>238075</td><td>17602</td><td>33</td><td>4.5</td><td> https://img-c.udemycdn.com/course/240x135/557194_faae_18.jpg</td><td>4.6</td><td>2245</td><td> Chris Parker</td><td>03/2023</td><td>2023-03-06T14:58:34.549+0000</td></tr><tr><td>11</td><td>Long Exposure Photography: Shoot Your Own Stunning Photos</td><td>A quick start long exposure tutorial that will get you shooting beautiful photographs with your DSLR and iPhone cameras.</td><td>20797</td><td>4.8</td><td>1403</td><td>https://www.udemy.com/course/long-exposure-photography-tutorial/</td><td>photography</td><td>[Top-Rated Instructor  2.5 Million+ Students</td><td>389023</td><td>2625059</td><td>21109</td><td>204</td><td>4.6</td><td> https://img-c.udemycdn.com/course/240x135/673836_f50c_4.jpg</td><td>4.3</td><td>1456</td><td> Phil Ebiner</td><td>09/2022</td><td>2023-03-06T14:58:34.549+0000</td></tr><tr><td>12</td><td>Color Grading with Da Vinci Resolve: Beginner to Advanced</td><td>Learn to grade like a professional with hands-on projects and guidance!</td><td>7739</td><td>4.4</td><td>1327</td><td>https://www.udemy.com/course/color-grading-with-da-vinci-resolve-beginner-to-advanced/</td><td>photography</td><td>[Freelance Colourist and Visiting Lecturer at Met Film School</td><td>3622</td><td>20353</td><td>19075</td><td>2</td><td>4.5</td><td> https://img-c.udemycdn.com/course/240x135/1924662_bf54_3.jpg</td><td>4.5</td><td>3127</td><td> Matthew Falconer</td><td>03/2023</td><td>2023-03-06T14:58:34.549+0000</td></tr><tr><td>13</td><td>Street Photography: How I approach people on the streets...</td><td>Learn how to get over your fear, how to approach people and how to improve the creativity and quality of your photos.</td><td>31866</td><td>4.3</td><td>1320</td><td>https://www.udemy.com/course/streetphotography/</td><td>photography</td><td>[Streetphotography</td><td>4530</td><td>75114</td><td>32203</td><td>6</td><td>4.5</td><td> https://img-c.udemycdn.com/course/240x135/272718_657b_4.jpg</td><td>4.2</td><td>1399</td><td> Thomas Leuthard</td><td>10/2014</td><td>2023-03-06T14:58:34.549+0000</td></tr><tr><td>14</td><td>Photography Composition & Portrait Photography Masterclass</td><td>Studio Photography Lighting / Street Photography / Creative Photography / DSLR Photography / Black & White Photography</td><td>11280</td><td>4.6</td><td>1265</td><td>https://www.udemy.com/course/creative-photography-composition-masterclass/</td><td>photography</td><td>[Professional Online Training Courses For Beginners</td><td>7020</td><td>116780</td><td>13116</td><td>3</td><td>4.5</td><td> https://img-b.udemycdn.com/course/240x135/1039840_2c07_2.jpg</td><td>4.3</td><td>1605</td><td> Mark Timberlake</td><td>09/2022</td><td>2023-03-06T14:58:34.549+0000</td></tr><tr><td>15</td><td>Phantom & Mavic Filmschool 1- master autopilot with Litchi</td><td>Use autopilot to get amazing cinematic shots with your drone. You will master the Litchi app & take pro footage!</td><td>4316</td><td>4.6</td><td>1252</td><td>https://www.udemy.com/course/phantom-filmschool/</td><td>photography</td><td>[Aerial videographer</td><td>5130</td><td>28424</td><td>4504</td><td>9</td><td>4.5</td><td> https://img-c.udemycdn.com/course/240x135/702694_9ea6_4.jpg</td><td>4.5</td><td>1284</td><td> Laurence Seberini</td><td>02/2019</td><td>2023-03-06T14:58:34.549+0000</td></tr><tr><td>0</td><td>The Art & Science of Figure Drawing: GESTURE</td><td>Learn everything you need to know about drawing dynamic, expressive figures.</td><td>15138</td><td>4.8</td><td>2282</td><td>https://www.udemy.com/course/figuredrawing/</td><td>life_style</td><td>[Artist and Instructor</td><td>28596</td><td>102192</td><td>25419</td><td>12</td><td>4.8</td><td> https://img-c.udemycdn.com/course/240x135/1693410_733a.jpg</td><td>4.8</td><td>3977</td><td> Brent Eviston</td><td>11/2021</td><td>2023-03-06T14:58:34.549+0000</td></tr><tr><td>1</td><td>Paint Realistic Watercolor and Botanicals - STUDIO BASICS</td><td>This foundation tutorial will help you understand essential work+studio basics for realistic watercolour and botanicals</td><td>11845</td><td>4.5</td><td>2265</td><td>https://www.udemy.com/course/paint-realistic-watercolor-and-botanicals-studio-basics/</td><td>life_style</td><td>[Renowned Watercolor Artist and Art Tutor</td><td>4508</td><td>19028</td><td>15630</td><td>5</td><td>4.7</td><td> https://img-c.udemycdn.com/course/240x135/838056_611a_3.jpg</td><td>4.6</td><td>2913</td><td> Heidi Willis</td><td>08/2016</td><td>2023-03-06T14:58:34.549+0000</td></tr><tr><td>2</td><td>Anime Drawing for Beginners</td><td>Learn how to draw characters in Anime Style!</td><td>10141</td><td>4.6</td><td>2231</td><td>https://www.udemy.com/course/anime-drawing-for-beginners/</td><td>life_style</td><td>[Webtoon Artist</td><td>3084</td><td>14716</td><td>13947</td><td>4</td><td>4.7</td><td> https://img-c.udemycdn.com/course/240x135/1358653_3213.jpg</td><td>4.7</td><td>2966</td><td> Pluvias .</td><td>03/2018</td><td>2023-03-06T14:58:34.549+0000</td></tr><tr><td>3</td><td>HOW TO PAINT FROM BEGINNER TO MASTER</td><td>Oil Painting For All Skill Levels</td><td>11658</td><td>4.6</td><td>2018</td><td>https://www.udemy.com/course/how-to-paint-from-beginner-to-master/</td><td>life_style</td><td>[Top Art Instructor</td><td>13655</td><td>84481</td><td>19469</td><td>4</td><td>4.8</td><td> https://img-b.udemycdn.com/course/240x135/1660258_a710_3.jpg</td><td>4.7</td><td>3485</td><td> Joseph Patric Daniels</td><td>10/2022</td><td>2023-03-06T14:58:34.549+0000</td></tr><tr><td>4</td><td>Inside Your Dog's Mind with Victoria Stilwell</td><td>Understanding canine behavior and how dogs think, feel and learn to make dog training easier & more effective.</td><td>8550</td><td>4.4</td><td>1957</td><td>https://www.udemy.com/course/insideyourdogsmind/</td><td>life_style</td><td>[Dog Trainer & Behavior Expert</td><td>2489</td><td>10499</td><td>10499</td><td>1</td><td>4.4</td><td> https://img-c.udemycdn.com/course/240x135/1177482_cafc.jpg</td><td>4.4</td><td>2489</td><td> Victoria Stilwell</td><td>05/2017</td><td>2023-03-06T14:58:34.549+0000</td></tr><tr><td>5</td><td>The Beginner's Guide to Digital Art with Procreate on iPad!</td><td>Learn the basics of digital art on your iPad with these step-by-step lessons for Procreate, a powerful digital art app!</td><td>8864</td><td>4.6</td><td>1852</td><td>https://www.udemy.com/course/procreate-guide/</td><td>life_style</td><td>[Professional colorist & art instructor</td><td>9306</td><td>50534</td><td>11756</td><td>12</td><td>4.6</td><td> https://img-c.udemycdn.com/course/240x135/1338296_cdd3.jpg</td><td>4.5</td><td>2519</td><td> Kurt Michael Russell</td><td>05/2020</td><td>2023-03-06T14:58:34.549+0000</td></tr><tr><td>6</td><td>Essential Cooking Skills</td><td>Cook like a pro, master the basic techniques used in the World's culinary industry! Key Techniques - Part 1</td><td>9172</td><td>4.5</td><td>1797</td><td>https://www.udemy.com/course/essential-cooking-skills/</td><td>life_style</td><td>[Cooking Instructor</td><td>4172</td><td>17910</td><td>16461</td><td>4</td><td>4.5</td><td> https://img-c.udemycdn.com/course/240x135/1113854_d302_2.jpg</td><td>4.4</td><td>3427</td><td> Viorel Copolovici</td><td>11/2017</td><td>2023-03-06T14:58:34.549+0000</td></tr><tr><td>7</td><td>The Art & Science of Drawing / DYNAMIC MARK MAKING</td><td>Create compelling drawings using expressive mark making.</td><td>10246</td><td>4.7</td><td>1765</td><td>https://www.udemy.com/course/the-art-science-of-drawing-week-two-dynamic-mark-making/</td><td>life_style</td><td>[Artist and Instructor</td><td>28596</td><td>102192</td><td>14880</td><td>12</td><td>4.8</td><td> https://img-c.udemycdn.com/course/240x135/1065192_abb5.jpg</td><td>4.8</td><td>2740</td><td> Brent Eviston</td><td>08/2017</td><td>2023-03-06T14:58:34.549+0000</td></tr><tr><td>8</td><td>The Art & Science of Drawing / FORM & SPACE</td><td>Learn to draw in 3-Dimensions</td><td>14913</td><td>4.8</td><td>1732</td><td>https://www.udemy.com/course/the-art-science-of-drawing-weeks-3-4-form-space/</td><td>life_style</td><td>[Artist and Instructor</td><td>28596</td><td>102192</td><td>22587</td><td>12</td><td>4.8</td><td> https://img-c.udemycdn.com/course/240x135/1071120_b439_2.jpg</td><td>4.8</td><td>2764</td><td> Brent Eviston</td><td>01/2017</td><td>2023-03-06T14:58:34.549+0000</td></tr><tr><td>9</td><td>Dr. Ian Dunbar's SIRIUS® Dog Trainer Academy - All 4 Days</td><td>Learn how to train dogs the SIRIUS® way! Learn how to run and promote your own dog-friendly dog training business.</td><td>14836</td><td>4.6</td><td>1706</td><td>https://www.udemy.com/course/sirius-dog-trainer-academy-4days/</td><td>life_style</td><td>[Expert dog trainer  veterinarian and animal behaviorist</td><td>14024</td><td>56639</td><td>17502</td><td>22</td><td>4.6</td><td> https://img-c.udemycdn.com/course/240x135/53424_d671_8.jpg</td><td>4.5</td><td>2098</td><td> Ian Dunbar</td><td>03/2017</td><td>2023-03-06T14:58:34.549+0000</td></tr><tr><td>10</td><td>Foundations for Mastering Watercolor Painting</td><td>An in-depth, approachable look at painting materials that will make mastering the medium truly possible.</td><td>7317</td><td>4.7</td><td>1637</td><td>https://www.udemy.com/course/foundations-for-mastering-watercolor-painting/</td><td>life_style</td><td>[Professional Artist and Fine Arts Educator</td><td>7321</td><td>24714</td><td>10270</td><td>8</td><td>4.7</td><td> https://img-c.udemycdn.com/course/240x135/949316_2a64_11.jpg</td><td>4.8</td><td>2488</td><td> Jill Poyerd</td><td>05/2020</td><td>2023-03-06T14:58:34.549+0000</td></tr><tr><td>11</td><td>Emotional Intelligence (EQ) Practitioner Cert (ACCREDITED)</td><td>Uncover the powerful Emotional Intelligence change framework & help yourself and others with Emotional Intelligence</td><td>7944</td><td>4.5</td><td>1607</td><td>https://www.udemy.com/course/emotional-intelligence-practitioner-certification/</td><td>life_style</td><td>[Best Selling Instructor - Emotional & Behavioural Therapies</td><td>27463</td><td>118533</td><td>13443</td><td>15</td><td>4.7</td><td> https://img-b.udemycdn.com/course/240x135/2226926_9301_3.jpg</td><td>4.6</td><td>2938</td><td> Graham Nicholls</td><td>11/2022</td><td>2023-03-06T14:58:34.549+0000</td></tr><tr><td>12</td><td>The Complete Guide to League of Legends</td><td>Learn how to improve your game mechanics, micro/macro knowledge, and rank from former LCS coach, NicoThePico.</td><td>4708</td><td>4.5</td><td>1599</td><td>https://www.udemy.com/course/the-complete-guide-to-league-of-legends/</td><td>life_style</td><td>[Exclusive courses for gamers  streamers and content creators</td><td>1749</td><td>5389</td><td>5283</td><td>2</td><td>4.0</td><td> https://img-c.udemycdn.com/course/240x135/1712886_5ce0.jpg</td><td>3.8</td><td>1724</td><td> LVLUP Dojo</td><td>10/2018</td><td>2023-03-06T14:58:34.549+0000</td></tr><tr><td>13</td><td>Meditation Practitioner / Teacher Certification (ACCREDITED)</td><td>A fully Accredited Meditation Practitioner / Teacher Certification course taking you from beginner to professional level</td><td>6390</td><td>4.7</td><td>1571</td><td>https://www.udemy.com/course/meditation-practitioner-teacher-certification-accredited/</td><td>life_style</td><td>[Best Selling Instructor - Emotional & Behavioural Therapies</td><td>27463</td><td>118533</td><td>15386</td><td>15</td><td>4.7</td><td> https://img-c.udemycdn.com/course/240x135/2447384_5bd0_4.jpg</td><td>4.7</td><td>3962</td><td> Graham Nicholls</td><td>04/2022</td><td>2023-03-06T14:58:34.549+0000</td></tr><tr><td>14</td><td>The Basics of Household Wiring. The Electrical System A to Z</td><td>Everything Electricity, from your Circuit (Breaker) Panel, Outlets, Switches, Receptacles, Light Fixtures, Cable, Wire..</td><td>6405</td><td>4.3</td><td>1500</td><td>https://www.udemy.com/course/learn-the-basics-of-household-wiring/</td><td>life_style</td><td>[The Internet Electrician</td><td>3026</td><td>13428</td><td>13428</td><td>1</td><td>4.2</td><td> https://img-b.udemycdn.com/course/240x135/1005814_f1b7_4.jpg</td><td>4.2</td><td>3026</td><td> Terry Peterman</td><td>02/2018</td><td>2023-03-06T14:58:34.549+0000</td></tr><tr><td>15</td><td>Healthy Cooking Fundamentals</td><td>A practical course to take your cooking skills from dull to delicious</td><td>18576</td><td>4.4</td><td>1484</td><td>https://www.udemy.com/course/up-beet-cooking-fundamentals/</td><td>life_style</td><td>[Health Supportive Chef  Founder of The Up Beet Kitchen</td><td>2268</td><td>22440</td><td>22440</td><td>1</td><td>4.5</td><td> https://img-c.udemycdn.com/course/240x135/863126_a899_5.jpg</td><td>4.5</td><td>2268</td><td> Chef Nic DeMuth</td><td>06/2016</td><td>2023-03-06T14:58:34.549+0000</td></tr><tr><td>0</td><td>How To Sing #1: Complete Vocal Warm ups & Voice Physiology</td><td>Singing Lessons for Vocal Warm Up Tips & Voice Essentials</td><td>22215</td><td>4.6</td><td>2795</td><td>https://www.udemy.com/course/singing-lessons-online/</td><td>music</td><td>[Vocal coach  songwriter  speaker & author. entreprenuer</td><td>5210</td><td>37724</td><td>27451</td><td>11</td><td>4.6</td><td> https://img-c.udemycdn.com/course/240x135/450918_4af0_3.jpg</td><td>4.8</td><td>3476</td><td> Roma Waterman</td><td>03/2023</td><td>2023-03-06T14:58:34.549+0000</td></tr><tr><td>1</td><td>Ultimate Ableton Live 10 COMPLETE: Parts 1, 2, and 3</td><td>Learning Ableton Live 10 Suite through tutorials, tracks, and more. Learn the Live software download quickly and easily!</td><td>10865</td><td>4.4</td><td>2634</td><td>https://www.udemy.com/course/ableton-live-10-complete/</td><td>music</td><td>[Ph.D / Ableton Certified Trainer</td><td>58096</td><td>260517</td><td>14232</td><td>111</td><td>4.6</td><td> https://img-c.udemycdn.com/course/240x135/1592962_53fb_3.jpg</td><td>4.5</td><td>3429</td><td> Jason Allen</td><td>02/2023</td><td>2023-03-06T14:58:34.549+0000</td></tr><tr><td>2</td><td>Elite Singing Techniques - Phase I</td><td>Step by step singing system proven to develop great technique and vocal mastery, Results are immediate!</td><td>9680</td><td>4.7</td><td>2595</td><td>https://www.udemy.com/course/elite-singing-techniques-phase-1/</td><td>music</td><td>[Professional Vocal Coach & Recording Artist</td><td>4656</td><td>50663</td><td>10945</td><td>3</td><td>4.8</td><td> https://img-c.udemycdn.com/course/240x135/70030_c4e7_8.jpg</td><td>4.7</td><td>2958</td><td> Eric Arceneaux</td><td>09/2019</td><td>2023-03-06T14:58:34.549+0000</td></tr><tr><td>3</td><td>SINGING SIMPLIFIED #1: The Fast-Track to Singing Like a Pro</td><td>Find your unique voice naturally, while having FUN doing it! A modern approach to singing lessons & vocal training.</td><td>19026</td><td>4.6</td><td>2458</td><td>https://www.udemy.com/course/singing-simplified/</td><td>music</td><td>[Musician  Songwriter  Teacher  Entrepreneur</td><td>7088</td><td>51313</td><td>34513</td><td>5</td><td>4.7</td><td> https://img-c.udemycdn.com/course/240x135/1516474_7722.jpg</td><td>4.7</td><td>4216</td><td> Steve Glazer</td><td>02/2023</td><td>2023-03-06T14:58:34.549+0000</td></tr><tr><td>4</td><td>Music Theory Comprehensive Complete: Part 4, 5, & 6</td><td>Learn music theory through this music theory course app, music theory exercises, and music theory tutorials.</td><td>30767</td><td>4.7</td><td>2107</td><td>https://www.udemy.com/course/music-theory-comprehensive-combined-part-4-5-6/</td><td>music</td><td>[Ph.D / Ableton Certified Trainer</td><td>58096</td><td>260517</td><td>42589</td><td>111</td><td>4.6</td><td> https://img-c.udemycdn.com/course/240x135/1148430_c2a8_4.jpg</td><td>4.7</td><td>3213</td><td> Jason Allen</td><td>02/2023</td><td>2023-03-06T14:58:34.549+0000</td></tr><tr><td>5</td><td>The Complete Piano & Music Theory Beginners Course</td><td>Learn all piano and music theory basics quickly, and save big on months of initial private lessons!</td><td>17932</td><td>4.4</td><td>2044</td><td>https://www.udemy.com/course/piano-lessons-music-theory-beginners-course/</td><td>music</td><td>[60 000+ Students  8 000+ Reviews  11 Courses</td><td>8591</td><td>69889</td><td>21885</td><td>11</td><td>4.6</td><td> https://img-c.udemycdn.com/course/240x135/953152_83bd_2.jpg</td><td>4.5</td><td>2654</td><td> Musicians Inspired</td><td>02/2022</td><td>2023-03-06T14:58:34.549+0000</td></tr><tr><td>6</td><td>The Professional Bass Masterclass</td><td>Learn the professional techniques, tools, and methods to master bass guitar from beginner to advanced player</td><td>13852</td><td>4.6</td><td>1919</td><td>https://www.udemy.com/course/the-professional-bass-masterclass/</td><td>music</td><td>[Managing Director  Producer  Writer  Composer  Bassist</td><td>3328</td><td>31532</td><td>21297</td><td>4</td><td>4.5</td><td> https://img-b.udemycdn.com/course/240x135/917432_a517_3.jpg</td><td>4.6</td><td>2898</td><td> Rajiv Narang</td><td>01/2023</td><td>2023-03-06T14:58:34.549+0000</td></tr><tr><td>7</td><td>Learn To Play The Drums</td><td>Become a drummer with a step by step programme to get you from being drumming novice to drumming expert</td><td>11889</td><td>4.6</td><td>1753</td><td>https://www.udemy.com/course/learndrums/</td><td>music</td><td>[UK Freelance drummer</td><td>3620</td><td>23166</td><td>19708</td><td>2</td><td>4.5</td><td> https://img-c.udemycdn.com/course/240x135/392958_b8d3.jpg</td><td>4.4</td><td>2932</td><td> Billy Baker</td><td>02/2023</td><td>2023-03-06T14:58:34.549+0000</td></tr><tr><td>8</td><td>The Complete EDM Production Course - Produce, Mix & Master</td><td>Learn EDM Production, mixing, mastering, sound design, arrangement, plugins, techniques & more using any software or DAW</td><td>9191</td><td>4.6</td><td>1752</td><td>https://www.udemy.com/course/edm-production/</td><td>music</td><td>[Electronic Music Producer/Mixing & Mastering Engineer</td><td>4796</td><td>31262</td><td>14235</td><td>13</td><td>4.6</td><td> https://img-c.udemycdn.com/course/240x135/1765246_4242_2.jpg</td><td>4.7</td><td>2560</td><td> Fuad Murad</td><td>11/2022</td><td>2023-03-06T14:58:34.549+0000</td></tr><tr><td>9</td><td>Learn piano or keyboard from scratch - Complete piano course</td><td>Piano lessons/ keyboard lessons for beginners. Complete piano course,reading music, improvisation, music theory, chords.</td><td>13673</td><td>4.6</td><td>1683</td><td>https://www.udemy.com/course/learn-to-play-the-piano-from-scratch/</td><td>music</td><td>[Teacher  musician and composer</td><td>4918</td><td>41555</td><td>35251</td><td>8</td><td>4.7</td><td> https://img-b.udemycdn.com/course/240x135/1111630_c4ba_5.jpg</td><td>4.7</td><td>3980</td><td> Martin Cohen</td><td>11/2022</td><td>2023-03-06T14:58:34.549+0000</td></tr><tr><td>11</td><td>The Complete Piano Course - Master The Piano</td><td>A full guide on learning how to use every single note on the piano.</td><td>12826</td><td>4.5</td><td>1572</td><td>https://www.udemy.com/course/the-complete-piano-course/</td><td>music</td><td>[Music Teacher  Producer  Pianist</td><td>2038</td><td>15709</td><td>15709</td><td>1</td><td>4.5</td><td> https://img-c.udemycdn.com/course/240x135/574974_2b9d_3.jpg</td><td>4.5</td><td>2038</td><td> Iliya Ryakhovskiy</td><td>12/2016</td><td>2023-03-06T14:58:34.549+0000</td></tr><tr><td>12</td><td>Music Composition 1</td><td>Learn how to compose well-written rhythms and melodies</td><td>10832</td><td>4.4</td><td>1484</td><td>https://www.udemy.com/course/music-composition-1/</td><td>music</td><td>[Award-winning Composer</td><td>4736</td><td>25582</td><td>13804</td><td>10</td><td>4.6</td><td> https://img-c.udemycdn.com/course/240x135/138902_a9a3_11.jpg</td><td>4.6</td><td>1994</td><td> Jonathan Peters</td><td>11/2022</td><td>2023-03-06T14:58:34.549+0000</td></tr><tr><td>13</td><td>Learn Guitar: Zero to Guitar Fingerpicking in 30 days</td><td>Learn guitar for beginners: guitar fingerpicking in 30 days</td><td>12023</td><td>4.6</td><td>1470</td><td>https://www.udemy.com/course/zero-to-guitar-fingerpicking/</td><td>music</td><td>[Guitar Instructor</td><td>2071</td><td>25106</td><td>23379</td><td>1</td><td>4.5</td><td> https://img-b.udemycdn.com/course/240x135/971962_0ee7_3.jpg</td><td>4.5</td><td>2071</td><td> Patrick O'Malley</td><td>02/2022</td><td>2023-03-06T14:58:34.549+0000</td></tr><tr><td>14</td><td>Lyricology: Perfect Song Structure and Beat Selection!</td><td>Simple techniques for counting bars, song structure and beat selection for aspiring hip hop artists.</td><td>6944</td><td>4.2</td><td>1380</td><td>https://www.udemy.com/course/lyricology-101-perfect-song-structure-and-beat-selection/</td><td>music</td><td>[Experimental Hip Hop Artist/Producer</td><td>1858</td><td>9163</td><td>7087</td><td>3</td><td>4.4</td><td> https://img-c.udemycdn.com/course/240x135/761130_e8b7_2.jpg</td><td>4.3</td><td>1426</td><td> Andre Gainer</td><td>03/2016</td><td>2023-03-06T14:58:34.549+0000</td></tr><tr><td>15</td><td>Music Production I - Learn to be a Music Producer!</td><td>Learn how to become a recording/music production engineer with little to no knowledge! Record music like a pro!</td><td>6712</td><td>4.5</td><td>1373</td><td>https://www.udemy.com/course/music-production/</td><td>music</td><td>[Studio Owner/Music Production Engineer|Pro Guitar Player</td><td>2171</td><td>10715</td><td>7682</td><td>3</td><td>4.3</td><td> https://img-c.udemycdn.com/course/240x135/1024722_23e6_6.jpg</td><td>4.5</td><td>1665</td><td> Mitch Houston</td><td>01/2023</td><td>2023-03-06T14:58:34.549+0000</td></tr><tr><td>0</td><td>Microsoft Excel - Excel from Beginner to Advanced</td><td>Excel with this A-Z Microsoft Excel Course. Microsoft Excel 2010, 2013, 2016, Excel 2019 and Office 365</td><td>558150</td><td>4.6</td><td>174080</td><td>https://www.udemy.com/course/microsoft-excel-2013-from-beginner-to-advanced-and-beyond/</td><td>office</td><td>[Microsoft Certified Trainer - 1 Million+ Students</td><td>419234</td><td>1355021</td><td>1213111</td><td>10</td><td>4.6</td><td> https://img-b.udemycdn.com/course/240x135/793796_0e89_2.jpg</td><td>4.7</td><td>361166</td><td> Kyle Pew</td><td>01/2023</td><td>2023-03-06T14:58:34.549+0000</td></tr><tr><td>1</td><td>Microsoft Excel - Advanced Excel Formulas & Functions</td><td>Master 75+ Excel formulas with hands-on demos from a best-selling Microsoft Excel instructor (Excel '07 - Excel 2019)</td><td>182132</td><td>4.7</td><td>38239</td><td>https://www.udemy.com/course/excel-for-analysts/</td><td>office</td><td>[Award-Winning Analytics & Business Intelligence Training</td><td>267024</td><td>922534</td><td>327088</td><td>6</td><td>4.6</td><td> https://img-c.udemycdn.com/course/240x135/516446_4935_5.jpg</td><td>4.7</td><td>76425</td><td> Maven Analytics</td><td>11/2022</td><td>2023-03-06T14:58:34.549+0000</td></tr><tr><td>2</td><td>Unlock Excel VBA and Excel Macros</td><td>Automate Complex Tasks with Microsoft Excel VBA & Excel Macros (Real-World Projects included). Achieve More. Save time.</td><td>97548</td><td>4.6</td><td>22865</td><td>https://www.udemy.com/course/excel-vba-and-macros-course/</td><td>office</td><td>[Microsoft MVP  Bestselling Instructor</td><td>104241</td><td>351425</td><td>175067</td><td>11</td><td>4.7</td><td> https://img-c.udemycdn.com/course/240x135/1506888_52b0_3.jpg</td><td>4.7</td><td>37225</td><td> Leila Gharani</td><td>11/2022</td><td>2023-03-06T14:58:34.549+0000</td></tr><tr><td>3</td><td>Microsoft Excel - Data Analysis with Excel Pivot Tables</td><td>Master Excel Pivot Tables & data analysis with real-world cases from a best-selling Excel instructor (Excel 2010-2019)</td><td>112510</td><td>4.6</td><td>21429</td><td>https://www.udemy.com/course/data-analysis-with-excel-pivot-tables/</td><td>office</td><td>[Award-Winning Analytics & Business Intelligence Training</td><td>267024</td><td>922534</td><td>202208</td><td>6</td><td>4.6</td><td> https://img-c.udemycdn.com/course/240x135/977438_476d_10.jpg</td><td>4.6</td><td>47255</td><td> Maven Analytics</td><td>11/2022</td><td>2023-03-06T14:58:34.549+0000</td></tr><tr><td>4</td><td>Excel Essentials: The Complete Excel Series - Level 1, 2 & 3</td><td>Excel: The WHOLE Excel Mastery Series In One! From Excel Novice To VBA Programmer - Excel 2013, Excel 2016, Excel 2019</td><td>72269</td><td>4.6</td><td>18116</td><td>https://www.udemy.com/course/excel-essentials-the-complete-series-levels-1-2-3/</td><td>office</td><td>[Everything Is Easy  Once You Know How - 165 000+ Students!</td><td>26640</td><td>130529</td><td>99558</td><td>4</td><td>4.6</td><td> https://img-c.udemycdn.com/course/240x135/948866_3bcc_2.jpg</td><td>4.6</td><td>25831</td><td> Alan Jarvis</td><td>01/2023</td><td>2023-03-06T14:58:34.549+0000</td></tr><tr><td>5</td><td>Microsoft Excel - Data Visualization, Excel Charts & Graphs</td><td>Master 20+ Excel charts & graphs and build custom visuals with a best-selling Excel instructor (Excel 2016 - Excel 2019)</td><td>74140</td><td>4.6</td><td>16118</td><td>https://www.udemy.com/course/advanced-excel-charts-graphs/</td><td>office</td><td>[Award-Winning Analytics & Business Intelligence Training</td><td>267024</td><td>922534</td><td>144684</td><td>6</td><td>4.6</td><td> https://img-b.udemycdn.com/course/240x135/636822_bb3b_4.jpg</td><td>4.6</td><td>36664</td><td> Maven Analytics</td><td>11/2022</td><td>2023-03-06T14:58:34.549+0000</td></tr><tr><td>6</td><td>Microsoft Excel - From Beginner to Expert in 6 Hours</td><td>This Microsoft Excel class will make you a master of Microsoft Excel. The training uses Excel 2013 for Windows.</td><td>101795</td><td>4.5</td><td>15046</td><td>https://www.udemy.com/course/thebestexcel/</td><td>office</td><td>[Top-Rated Instructor  Tenured College Professor</td><td>69437</td><td>415825</td><td>136942</td><td>22</td><td>4.6</td><td> https://img-c.udemycdn.com/course/240x135/49250_a658_8.jpg</td><td>4.5</td><td>29285</td><td> Todd McLeod</td><td>01/2023</td><td>2023-03-06T14:58:34.549+0000</td></tr><tr><td>7</td><td>Master Microsoft Word Beginner to Advanced</td><td>Master the most popular Word Processing tool, Microsoft Word. Microsoft Word 2010, Word 2013, Word 2016, Word 2019</td><td>55439</td><td>4.7</td><td>11351</td><td>https://www.udemy.com/course/microsoft-word-from-beginner-to-advanced-and-beyond/</td><td>office</td><td>[Microsoft Certified Trainer - 1 Million+ Students</td><td>419234</td><td>1355021</td><td>89602</td><td>10</td><td>4.6</td><td> https://img-c.udemycdn.com/course/240x135/1235430_7a1d_4.jpg</td><td>4.6</td><td>21615</td><td> Kyle Pew</td><td>08/2019</td><td>2023-03-06T14:58:34.549+0000</td></tr><tr><td>8</td><td>Microsoft Project ALL: BEGINNER to EXPERT 10 Projects 9 PDU</td><td>Learn MS Project all version HANDS-ON with COMPLETE real life examples BONUS 125 project files FREE PMI approved 9 PDUs</td><td>47664</td><td>4.5</td><td>11157</td><td>https://www.udemy.com/course/microsoft-project-tutorial/</td><td>office</td><td>[PlanShare.ai</td><td>25500</td><td>115418</td><td>81156</td><td>10</td><td>4.4</td><td> https://img-c.udemycdn.com/course/240x135/831116_92e7_2.jpg</td><td>4.5</td><td>18112</td><td> Srikanth Shirodkar</td><td>09/2021</td><td>2023-03-06T14:58:34.549+0000</td></tr><tr><td>9</td><td>Mastering Microsoft Teams (2020)</td><td>Become an expert at using Microsoft Teams to chat, collaborate, and get things done</td><td>33522</td><td>4.4</td><td>10988</td><td>https://www.udemy.com/course/mastering-microsoft-teams/</td><td>office</td><td>[Uniquely Engaging eLearning</td><td>22599</td><td>102419</td><td>39484</td><td>105</td><td>4.3</td><td> https://img-b.udemycdn.com/course/240x135/1507666_9416_6.jpg</td><td>4.5</td><td>13171</td><td> Bigger Brains</td><td>11/2022</td><td>2023-03-06T14:58:34.549+0000</td></tr><tr><td>10</td><td>Microsoft Excel - Excel Power Query, Power Pivot & DAX</td><td>Learn Excel business intelligence (Power Query, Power Pivot & DAX) with a best-selling Excel instructor (Excel 2013+)</td><td>54533</td><td>4.7</td><td>10933</td><td>https://www.udemy.com/course/microsoft-excel-power-query-power-pivot-dax/</td><td>office</td><td>[Award-Winning Analytics & Business Intelligence Training</td><td>267024</td><td>922534</td><td>93125</td><td>6</td><td>4.6</td><td> https://img-c.udemycdn.com/course/240x135/1137048_c1d7_4.jpg</td><td>4.7</td><td>19694</td><td> Maven Analytics</td><td>02/2023</td><td>2023-03-06T14:58:34.549+0000</td></tr><tr><td>11</td><td>Microsoft Access 2016 Master Class: Beginner to Advanced</td><td>Quickly learn how Microsoft Access 2016 can make your life easier and more productive!</td><td>43242</td><td>4.6</td><td>10265</td><td>https://www.udemy.com/course/microsoftaccess/</td><td>office</td><td>[Top-Rated Instructor  800 000+ Students</td><td>68614</td><td>913947</td><td>53828</td><td>85</td><td>4.3</td><td> https://img-c.udemycdn.com/course/240x135/845284_cfd2_4.jpg</td><td>4.6</td><td>13289</td><td> Joe Parys</td><td>02/2023</td><td>2023-03-06T14:58:34.549+0000</td></tr><tr><td>12</td><td>Master Microsoft Excel Macros and Excel VBA</td><td>Project Based Course on Excel VBA (Visual Basic for Applications) and Excel Macros</td><td>41348</td><td>4.5</td><td>10069</td><td>https://www.udemy.com/course/master-microsoft-excel-macros-and-vba-with-5-simple-projects/</td><td>office</td><td>[Microsoft Certified Trainer - 1 Million+ Students</td><td>456192</td><td>1469287</td><td>71729</td><td>25</td><td>4.6</td><td> https://img-c.udemycdn.com/course/240x135/690066_6b76_4.jpg</td><td>4.6</td><td>21111</td><td> Kyle Pew</td><td>02/2018</td><td>2023-03-06T14:58:34.549+0000</td></tr><tr><td>13</td><td>Visually Effective Excel Dashboards</td><td>Actionable Excel Tips (Templates Included) You Can Use Right Now to Create Eye-Catching Microsoft Excel Dashboards</td><td>43843</td><td>4.6</td><td>9213</td><td>https://www.udemy.com/course/excel-dashboards-reports/</td><td>office</td><td>[Microsoft MVP  Bestselling Instructor</td><td>104241</td><td>351425</td><td>80500</td><td>11</td><td>4.7</td><td> https://img-c.udemycdn.com/course/240x135/1122362_6b47_4.jpg</td><td>4.7</td><td>16565</td><td> Leila Gharani</td><td>11/2022</td><td>2023-03-06T14:58:34.549+0000</td></tr><tr><td>15</td><td>SAP Simplified for Absolute Beginners</td><td>Easy to follow Introduction into SAP ERP</td><td>21652</td><td>4.4</td><td>7110</td><td>https://www.udemy.com/course/sap-simplified-for-absolute-beginners/</td><td>office</td><td>[Zertifizierte Beraterin für SAP MM  Hobby: Fotobearbeitung</td><td>20071</td><td>68217</td><td>52244</td><td>6</td><td>4.5</td><td> https://img-c.udemycdn.com/course/240x135/826870_0677_2.jpg</td><td>4.4</td><td>16706</td><td> Ulrika Garner</td><td>05/2020</td><td>2023-03-06T14:58:34.549+0000</td></tr></tbody></table></div>"
      ]
     },
     "metadata": {
      "application/vnd.databricks.v1+output": {
       "addedWidgets": {},
       "aggData": [],
       "aggError": "",
       "aggOverflow": false,
       "aggSchema": [],
       "aggSeriesLimitReached": false,
       "aggType": "",
       "arguments": {},
       "columnCustomDisplayInfos": {},
       "data": [
        [
         0,
         "The Complete Digital Marketing Course - 12 Courses in 1",
         "Master Digital Marketing Strategy, Social Media Marketing, SEO, YouTube, Email, Facebook Marketing, Analytics & More!",
         494107,
         4.4,
         117014,
         "https://www.udemy.com/course/learn-digital-marketing-course/",
         "marketing",
         "[Web Developer And Teacher",
         463464,
         2205928,
         737753,
         80,
         4.5,
         " https://img-b.udemycdn.com/course/240x135/914296_3670_8.jpg",
         4.5,
         160871,
         " Rob Percival",
         "11/2022",
         "2023-03-06T14:58:34.549+0000"
        ],
        [
         1,
         "Ultimate Google Ads Training 2020: Profit with Pay Per Click",
         "Google Ads 2020: How our clients have transformed their sales using Google Ads & get your Google Ads certification!",
         159200,
         4.7,
         39979,
         "https://www.udemy.com/course/the-ultimate-google-adwords-training-course/",
         "marketing",
         "[Certified Google AdWords Pro |Co-founder of AdVenture Media",
         63417,
         239054,
         207369,
         4,
         4.6,
         " https://img-c.udemycdn.com/course/240x135/671544_9613_5.jpg",
         4.6,
         50092,
         " Isaac Rudansky",
         "10/2021",
         "2023-03-06T14:58:34.549+0000"
        ],
        [
         2,
         "Instagram Marketing 2020: Complete Guide To Instagram Growth",
         "Attract Hyper-Targeted Instagram Followers, Convert Followers to Paying Customers, & Expand your Brand Using Instagram",
         128185,
         4.4,
         24520,
         "https://www.udemy.com/course/instagram-marketing-for-small-businesses/",
         "marketing",
         "[Passionate Entrepreneur",
         40274,
         244423,
         182624,
         11,
         4.5,
         " https://img-b.udemycdn.com/course/240x135/484606_5721_16.jpg",
         4.5,
         35007,
         " Benjamin Wilson",
         "10/2021",
         "2023-03-06T14:58:34.549+0000"
        ],
        [
         3,
         "Facebook Ads & Facebook Marketing MASTERY 2020 | Coursenvy ®",
         "Facebook Marketing from beginner to advanced! Join 100,000+ students who MASTERED Facebook and are Facebook Ads experts!",
         157240,
         4.4,
         24351,
         "https://www.udemy.com/course/facebook-ads-facebook-marketing-mastery-guide/",
         "marketing",
         "[COURSENVY - Facebook Ads  SMM Expert  Ad Agency  Amazon FBA",
         67064,
         479282,
         208439,
         26,
         4.4,
         " https://img-b.udemycdn.com/course/240x135/403314_b091_3.jpg",
         4.5,
         31870,
         " COURSE ENVY",
         "03/2023",
         "2023-03-06T14:58:34.549+0000"
        ],
        [
         4,
         "Digital Marketing Masterclass - 23 Courses in 1",
         "Grow Your Business with Digital Marketing: Social Media Marketing, Facebook, Content, YouTube, Email Marketing, Websites",
         188603,
         4.4,
         14107,
         "https://www.udemy.com/course/digital-marketing-masterclass/",
         "marketing",
         "[Top-Rated Instructor  2.5 Million+ Students",
         144932,
         776445,
         235908,
         72,
         4.6,
         " https://img-c.udemycdn.com/course/240x135/1270870_8e95_14.jpg",
         4.5,
         20674,
         " Phil Ebiner",
         "12/2022",
         "2023-03-06T14:58:34.549+0000"
        ],
        [
         5,
         "SQL for Data Analysis: Weekender Crash Course for Beginners",
         "Using MySQL but applicable to Oracle SQL, Microsoft SQL Server, and PostgreSQL. Taught by a Data Scientist and PM.",
         59684,
         4.3,
         11851,
         "https://www.udemy.com/course/sql-for-newbs/",
         "marketing",
         "[A Course Series",
         14924,
         71332,
         71335,
         1,
         4.4,
         " https://img-c.udemycdn.com/course/240x135/203556_5ff1_3.jpg",
         4.4,
         14924,
         " A Course You'll Actually Finish",
         "09/2022",
         "2023-03-06T14:58:34.549+0000"
        ],
        [
         6,
         "Social Media Marketing MASTERY | Learn Ads on 10+ Platforms",
         "MASTER online marketing on Twitter, Pinterest, Instagram, YouTube, Facebook, Google and more ad platforms! Coursenvy ®",
         80997,
         4.4,
         11617,
         "https://www.udemy.com/course/social-media-marketing-ads/",
         "marketing",
         "[COURSENVY - Facebook Ads  SMM Expert  Ad Agency  Amazon FBA",
         67064,
         479282,
         123514,
         26,
         4.4,
         " https://img-b.udemycdn.com/course/240x135/573984_ce2a_3.jpg",
         4.4,
         19583,
         " COURSE ENVY",
         "02/2023",
         "2023-03-06T14:58:34.549+0000"
        ],
        [
         7,
         "Google Analytics Certification: Become Certified & Earn More",
         "Become Google Analytics Certified to Land a Job, Get Promoted or Start a New Career in Digital Marketing! 2020 Guide",
         75384,
         4.5,
         11342,
         "https://www.udemy.com/course/google-analytics-certification/",
         "marketing",
         "[Join 1 Million Students In My Best Selling Courses!",
         235191,
         1312593,
         107144,
         16,
         4.5,
         " https://img-c.udemycdn.com/course/240x135/328386_6809_11.jpg",
         4.4,
         16669,
         " Daragh Walsh",
         "07/2021",
         "2023-03-06T14:58:34.549+0000"
        ],
        [
         9,
         "The Complete Copywriting Course : Write to Sell Like a Pro",
         "Write Effective Sales Copy & Grow Your Business & Career // Access Timeless Copywriting Formulas, Templates & FREE Tools",
         35975,
         4.6,
         9604,
         "https://www.udemy.com/course/the-complete-copywriting-course/",
         "marketing",
         "[Teaching the Next Generation of Coders",
         507423,
         2322346,
         76167,
         41,
         4.5,
         " https://img-c.udemycdn.com/course/240x135/1575836_367f_13.jpg",
         4.6,
         19989,
         " Codestars • over 2 million students worldwide!",
         "03/2022",
         "2023-03-06T14:58:34.549+0000"
        ],
        [
         10,
         "Social Media Marketing - Complete Certificate Course",
         "The comprehensive social media course, beginner to advanced. Go viral, get started today!",
         46693,
         4.2,
         9312,
         "https://www.udemy.com/course/learn-social-media-marketing-course/",
         "marketing",
         "[Best-selling instructor & leading social media trainers!",
         11702,
         80916,
         50865,
         2,
         4.1,
         " https://img-b.udemycdn.com/course/240x135/450394_b942_8.jpg",
         4.1,
         10616,
         " SO ME Academy",
         "02/2017",
         "2023-03-06T14:58:34.549+0000"
        ],
        [
         11,
         "YouTube Masterclass - Your Complete Guide to YouTube",
         "Complete guide to starting a YouTube channel, getting more views & subscribers, and building a brand with videos!",
         157356,
         4.3,
         7886,
         "https://www.udemy.com/course/youtube-masterclass/",
         "marketing",
         "[Top-Rated Instructor  2.5 Million+ Students",
         389023,
         2625059,
         177021,
         204,
         4.6,
         " https://img-c.udemycdn.com/course/240x135/703140_703a_4.jpg",
         4.4,
         10584,
         " Phil Ebiner",
         "08/2022",
         "2023-03-06T14:58:34.549+0000"
        ],
        [
         14,
         "[2020] Growth Hacking with Digital Marketing (Version 7.2)",
         "Become a growth hacker! This course is used by teams at PayPal®, IBM®, Citibank® & many other successful organizations!",
         44930,
         4.5,
         5324,
         "https://www.udemy.com/course/growth-hacking-masterclass-become-a-digital-marketing-ninja/",
         "marketing",
         "[Chief Learning Officer at Eazl",
         7742,
         58432,
         58444,
         1,
         4.4,
         " https://img-b.udemycdn.com/course/240x135/496924_8ed7_17.jpg",
         4.4,
         7742,
         " Davis Jones",
         "12/2022",
         "2023-03-06T14:58:34.549+0000"
        ],
        [
         15,
         "Copywriting secrets - How to write copy that sells",
         "Discover the secrets of copywriting success from the master. From novice to pro in easy stages",
         37296,
         4.4,
         5148,
         "https://www.udemy.com/course/copywriting-secrets/",
         "marketing",
         "[Enterprise Technologist and Online Marketing Expert",
         17001,
         122621,
         41845,
         16,
         4.4,
         " https://img-c.udemycdn.com/course/240x135/325666_fe45_3.jpg",
         4.4,
         6236,
         " Sean Kaye",
         "04/2018",
         "2023-03-06T14:58:34.549+0000"
        ],
        [
         16,
         "Mega Digital Marketing Course A-Z: 12 Courses in 1 + Updates",
         "Digital Marketing Strategy, Social Media Marketing, WordPress, SEO, Digital Sale, Email, Instagram, Facebook, ads ..",
         32765,
         4.4,
         4989,
         "https://www.udemy.com/course/digital-marketing-strategy-course-wordpress-seo-instagram-facebook/",
         "marketing",
         "[Digital Instagram Marketer  Author & Entrepreneur",
         30371,
         347431,
         122671,
         26,
         4.5,
         " https://img-c.udemycdn.com/course/240x135/1931752_1012_13.jpg",
         4.5,
         12488,
         " Pouya Eti • Digital Marketing Expert",
         "01/2023",
         "2023-03-06T14:58:34.549+0000"
        ],
        [
         17,
         "Social Media Management - The Complete 2019 Manager Bootcamp",
         "Become a freelance social media manager | Start a management business | Work from anywhere | Achieve financial freedom",
         19260,
         4.4,
         4883,
         "https://www.udemy.com/course/social-media-management-complete-manager-bootcamp/",
         "marketing",
         "[Freelance Marketer (Social Media Manager & Content Writer)",
         6885,
         38030,
         23270,
         3,
         4.3,
         " https://img-c.udemycdn.com/course/240x135/1052730_e3b0_3.jpg",
         4.4,
         6101,
         " Lottie Mosley",
         "04/2018",
         "2023-03-06T14:58:34.549+0000"
        ],
        [
         18,
         "Complete SEO Training With Top SEO Expert Peter Kent!",
         "Win The SEO Game & Dominate The Search Engines With the Author of Best-Selling Search Engine Optimization for Dummies.",
         32573,
         4.4,
         4257,
         "https://www.udemy.com/course/search-engine-optimization-for-beginners-seo-that-works/",
         "marketing",
         "[Author  SEO & E-Commerce Consultant",
         5292,
         38744,
         38744,
         1,
         4.4,
         " https://img-b.udemycdn.com/course/240x135/521574_1325_11.jpg",
         4.4,
         5292,
         " Peter Kent",
         "03/2018",
         "2023-03-06T14:58:34.549+0000"
        ],
        [
         19,
         "Seth Godin on Presenting to Persuade",
         "Build your business, make your point, sell your idea",
         11857,
         4.4,
         4142,
         "https://www.udemy.com/course/seth-godin-on-powerful-presentations/",
         "marketing",
         "[Best-selling author",
         21374,
         77232,
         20818,
         10,
         4.5,
         " https://img-c.udemycdn.com/course/240x135/1101380_4d44.jpg",
         4.4,
         8142,
         " Seth Godin",
         "02/2017",
         "2023-03-06T14:58:34.549+0000"
        ],
        [
         20,
         "2020 Complete SEO Guide to Ranking Local Business Websites",
         "Watch over my shoulder as I redesign and rank a real live client local business website on the 1st page of Google",
         25317,
         4.4,
         3611,
         "https://www.udemy.com/course/rank-local-business-websites/",
         "marketing",
         "[Helping Web Design & SEO Startups",
         8132,
         59942,
         28661,
         3,
         4.5,
         " https://img-b.udemycdn.com/course/240x135/632826_9159.jpg",
         4.3,
         4081,
         " Christine Maisel",
         "10/2022",
         "2023-03-06T14:58:34.549+0000"
        ],
        [
         21,
         "SEO Training: Get Free Traffic to Your Website With SEO",
         "SEO Training to Rank #1 in Google. SEO Audit, Keyword Research, On Page SEO, Link Building, WordPress SEO & More!",
         36736,
         4.3,
         3586,
         "https://www.udemy.com/course/seo-roadmap/",
         "marketing",
         "[Join 1 Million Students In My Best Selling Courses!",
         235191,
         1312593,
         40385,
         16,
         4.5,
         " https://img-c.udemycdn.com/course/240x135/365176_1284_12.jpg",
         4.4,
         4247,
         " Daragh Walsh",
         "10/2019",
         "2023-03-06T14:58:34.549+0000"
        ],
        [
         22,
         "Digital Marketing Certification: Master Digital Marketing",
         "Join Over 100.000 Students Who Have Already Learned All The Secrets of Digital Marketing. Be a Digital Marketing Expert!",
         128037,
         4.2,
         3606,
         "https://www.udemy.com/course/digital-marketing-seo-google-ads-google-analytics-monitoring/",
         "marketing",
         "[Digital Marketing Professional",
         4963,
         149211,
         138432,
         2,
         3.9,
         " https://img-c.udemycdn.com/course/240x135/2658548_c93b_6.jpg",
         3.8,
         4799,
         " Alexandros Fatsis - Digital Marketing Professional",
         "08/2020",
         "2023-03-06T14:58:34.549+0000"
        ],
        [
         23,
         "How Retargeting Works–The Complete Guide To Retargeting Ads!",
         "What Is Retargeting and How Does It Work? Learn Remarketing Secrets That Will Help You Convert Your Abandoning Visitors!",
         25531,
         4.7,
         3475,
         "https://www.udemy.com/course/how-retargeting-works/",
         "marketing",
         "[Certified Google AdWords Pro |Co-founder of AdVenture Media",
         63417,
         239054,
         29747,
         4,
         4.6,
         " https://img-c.udemycdn.com/course/240x135/821658_b20b.jpg",
         4.6,
         4154,
         " Isaac Rudansky",
         "06/2016",
         "2023-03-06T14:58:34.549+0000"
        ],
        [
         25,
         "How to Create Animated Videos with Powerpoint",
         "Learn an easy way to create video animation with PowerPoint for business, marketing, online courses, YouTube and more",
         12539,
         4.6,
         2986,
         "https://www.udemy.com/course/powerpoint-video/",
         "marketing",
         "[Reverse Engineering Successful Business Strategies",
         27771,
         102304,
         22067,
         14,
         4.6,
         " https://img-b.udemycdn.com/course/240x135/1460800_303a_5.jpg",
         4.7,
         5060,
         " Paul Nekh. | Business | Innovation | Video",
         "02/2023",
         "2023-03-06T14:58:34.549+0000"
        ],
        [
         26,
         "Google AdWords for Beginners 2020",
         "Learn how to effectively use AdWords to reach more customers online and grow your business.",
         23200,
         4.2,
         2978,
         "https://www.udemy.com/course/learn-google-adwords-course-for-beginners/",
         "marketing",
         "[Google Certified Marketer",
         5013,
         37808,
         28979,
         5,
         4.3,
         " https://img-c.udemycdn.com/course/240x135/50735_c4fd_46.jpg",
         4.2,
         4061,
         " Corey Rabazinski",
         "07/2018",
         "2023-03-06T14:58:34.549+0000"
        ],
        [
         27,
         "The Complete Facebook Ads Course - Beginner to Advanced",
         "Master Facebook Advertising and Grow Any Business - Facebook Marketing Strategy, Ad Retargeting, Remarketing & More!",
         15753,
         4.5,
         2931,
         "https://www.udemy.com/course/facebook-ads-course-beginner-to-advanced/",
         "marketing",
         "[Join 1 Million Students In My Best Selling Courses!",
         463464,
         2205928,
         18576,
         80,
         4.5,
         " https://img-b.udemycdn.com/course/240x135/987428_5392_10.jpg",
         4.4,
         3469,
         " Daragh Walsh",
         "01/2020",
         "2023-03-06T14:58:34.549+0000"
        ],
        [
         28,
         "Content Marketing: Grow Your Business with Content Marketing",
         "Learn how to use modern content marketing to grow your business and brand! Come up with your own Content Marketing plan!",
         165793,
         4.4,
         2695,
         "https://www.udemy.com/course/content-marketing-for-beginners/",
         "marketing",
         "[Top-Rated Instructor  2.5 Million+ Students",
         389023,
         2625059,
         189323,
         204,
         4.6,
         " https://img-c.udemycdn.com/course/240x135/2295965_720a_3.jpg",
         4.6,
         3789,
         " Phil Ebiner",
         "07/2022",
         "2023-03-06T14:58:34.549+0000"
        ],
        [
         29,
         "The Complete Facebook Ads & Marketing Course",
         "The #1 Guide to Facebook Advertising & Marketing - Join 50,000+ students who are selling with Ads right now!",
         83926,
         4.1,
         2650,
         "https://www.udemy.com/course/facebook-advertising/",
         "marketing",
         "[Superhero Instructor! I teach 400 000 Students in 30 courses",
         50033,
         415995,
         84109,
         31,
         3.9,
         " https://img-c.udemycdn.com/course/240x135/941486_b476_5.jpg",
         4.3,
         2694,
         " Suppoman ™",
         "03/2017",
         "2023-03-06T14:58:34.549+0000"
        ],
        [
         30,
         "Instagram Marketing 2020 | Grow Organic Followers Naturally!",
         "Grow Organic Targeted Followers, Quick Brand Awareness, & Turn Page Visits Into Paying Customers w/ Instagram Marketing",
         90917,
         4.2,
         2626,
         "https://www.udemy.com/course/2020-millennial-insta-marketing-grow-10k-organic-followers/",
         "marketing",
         "[Entrepreneur and CEO of Social Savvy",
         4116,
         129194,
         118082,
         3,
         4.1,
         " https://img-c.udemycdn.com/course/240x135/2786494_3de6_5.jpg",
         4.4,
         3777,
         " Skyler Chase",
         "05/2022",
         "2023-03-06T14:58:34.549+0000"
        ],
        [
         32,
         "Writing Tools & Hacks: Copywriting/Blogging/Content Writing",
         "The best FREE writing tools & apps + Hacks to take your copywriting, blogging, & content writing to the next level.",
         14065,
         4.2,
         2498,
         "https://www.udemy.com/course/writing-tools-hacks/",
         "marketing",
         "[Huffington Post Contributor | Professional Writer & Blogger",
         20886,
         202727,
         23484,
         12,
         4.2,
         " https://img-c.udemycdn.com/course/240x135/1331661_87ad_2.jpg",
         4.1,
         4454,
         " Tyler Speegle",
         "05/2022",
         "2023-03-06T14:58:34.549+0000"
        ],
        [
         33,
         "SEO:Amazon Affiliate Marketing+SEO |250+ Videos |18.0 Hours",
         "Build Amazon Affiliate Marketing Sites - Niche & Keyword Research, Link Building, Silo Architecture, WordPress SEO",
         23704,
         4.4,
         2408,
         "https://www.udemy.com/course/seo-complete-guide-to-building-amazon-affiliate-sites/",
         "marketing",
         "[Our passion is SEO - and we love teaching it",
         3316,
         33762,
         29228,
         2,
         4.5,
         " https://img-c.udemycdn.com/course/240x135/657590_edac_4.jpg",
         4.5,
         3189,
         " The SEO Academy Leaders in SEO education",
         "05/2021",
         "2023-03-06T14:58:34.549+0000"
        ],
        [
         34,
         "Business Branding: The Complete Course Part 1 - Strategy",
         "Build A Strategic Brand From The Ground Up, To Catapult Your Marketing Impact",
         9185,
         4.6,
         2399,
         "https://www.udemy.com/course/business-branding-complete-course/",
         "marketing",
         "[Brand Creator & Strategist",
         9498,
         28503,
         20824,
         3,
         4.6,
         " https://img-b.udemycdn.com/course/240x135/2222324_1478_2.jpg",
         4.6,
         5359,
         " Steve Houraghan",
         "11/2019",
         "2023-03-06T14:58:34.549+0000"
        ],
        [
         35,
         "Social Media Marketing Agency : Digital Marketing + Business",
         "Learn to build a business, find clients, & social media marketing all in one. Facebook ads, Instagram, Google ads & ...",
         34246,
         4.5,
         2380,
         "https://www.udemy.com/course/social-media-marketing-agency-digital-business-facebook-ads-instagram/",
         "marketing",
         "[Digital Instagram Marketer  Author & Entrepreneur",
         30371,
         347431,
         53317,
         26,
         4.5,
         " https://img-c.udemycdn.com/course/240x135/2344164_6fb8_9.jpg",
         4.5,
         4859,
         " Pouya Eti • Digital Marketing Expert",
         "01/2023",
         "2023-03-06T14:58:34.549+0000"
        ],
        [
         36,
         "The Complete MailChimp Email Marketing Course",
         "Learn how to use Mailchimp, grow an email subscriber list and build high quality email marketing campaigns!",
         16015,
         4.3,
         2376,
         "https://www.udemy.com/course/mailchimp-email-marketing/",
         "marketing",
         "[COURSENVY - Facebook Ads  SMM Expert  Ad Agency  Amazon FBA",
         67064,
         479282,
         22130,
         26,
         4.4,
         " https://img-c.udemycdn.com/course/240x135/573994_a4a8_2.jpg",
         4.3,
         3516,
         " COURSE ENVY",
         "10/2022",
         "2023-03-06T14:58:34.549+0000"
        ],
        [
         37,
         "Copywriting - Become a Freelance Copywriter, your own boss",
         "Build a successful freelance copywriting business - turn basic writing skills into a paycheck.",
         30589,
         4.2,
         2297,
         "https://www.udemy.com/course/how-to-become-a-copywriter-from-home/",
         "marketing",
         "[Freelance copywriter and communications consultant",
         17001,
         122621,
         33100,
         16,
         4.4,
         " https://img-c.udemycdn.com/course/240x135/12248_0b1d_12.jpg",
         4.1,
         2898,
         " Len Smith",
         "04/2018",
         "2023-03-06T14:58:34.549+0000"
        ],
        [
         0,
         "2020 Complete Python Bootcamp: From Zero to Hero in Python",
         "Learn Python like a Professional! Start from the basics and go all the way to creating your own applications and games!",
         1100093,
         4.6,
         318066,
         "https://www.udemy.com/course/complete-python-bootcamp/",
         "tech",
         "[Head of Data Science at Pierian Training",
         1013752,
         3270570,
         1691703,
         60,
         4.6,
         " https://img-b.udemycdn.com/course/240x135/567828_67d0.jpg",
         4.6,
         454945,
         " Jose Portilla",
         "03/2021",
         "2023-03-06T14:58:34.549+0000"
        ],
        [
         1,
         "The Web Developer Bootcamp",
         "The only course you need to learn web development - HTML, CSS, JS, Node, and More!",
         596726,
         4.6,
         182997,
         "https://www.udemy.com/course/the-web-developer-bootcamp/",
         "tech",
         "[Developer and Bootcamp Instructor",
         449840,
         1455406,
         855542,
         23,
         4.7,
         " https://img-c.udemycdn.com/course/240x135/625204_436a_3.jpg",
         4.7,
         255631,
         " Colt Steele",
         "03/2023",
         "2023-03-06T14:58:34.549+0000"
        ],
        [
         4,
         "Java Programming Masterclass for Software Developers",
         "Learn Java In This Course And Become a Computer Programmer. Obtain valuable Core Java Skills And Java Certification",
         502572,
         4.6,
         123798,
         "https://www.udemy.com/course/java-the-complete-java-developer-course/",
         "tech",
         "[Java Python Android and C# Expert Developer - 1.28M students",
         499903,
         1764983,
         761779,
         56,
         4.5,
         " https://img-c.udemycdn.com/course/240x135/533682_c10c_4.jpg",
         4.6,
         178097,
         " Tim Buchalka",
         "02/2023",
         "2023-03-06T14:58:34.549+0000"
        ],
        [
         5,
         "React - The Complete Guide (incl Hooks, React Router, Redux)",
         "Dive in and learn React.js from scratch! Learn Reactjs, Hooks, Redux, React Routing, Animations, Next.js and way more!",
         304670,
         4.6,
         90964,
         "https://www.udemy.com/course/react-the-complete-guide-incl-redux/",
         "tech",
         "[Online Education",
         906256,
         2405327,
         708449,
         58,
         4.6,
         " https://img-c.udemycdn.com/course/240x135/1362070_b9a1_2.jpg",
         4.6,
         178263,
         " Academind by Maximilian Schwarzmüller",
         "02/2023",
         "2023-03-06T14:58:34.549+0000"
        ],
        [
         7,
         "Python for Data Science and Machine Learning Bootcamp",
         "Learn how to use NumPy, Pandas, Seaborn , Matplotlib , Plotly , Scikit-Learn , Machine Learning, Tensorflow , and more!",
         387789,
         4.6,
         87403,
         "https://www.udemy.com/course/python-for-data-science-and-machine-learning-bootcamp/",
         "tech",
         "[Head of Data Science at Pierian Training",
         1013752,
         3270570,
         623047,
         60,
         4.6,
         " https://img-c.udemycdn.com/course/240x135/903744_8eb2.jpg",
         4.6,
         127705,
         " Jose Portilla",
         "05/2020",
         "2023-03-06T14:58:34.549+0000"
        ],
        [
         8,
         "The Complete JavaScript Course 2020: Build Real Projects!",
         "Master JavaScript with the most complete course! Projects, challenges, quizzes, JavaScript ES6+, OOP, AJAX, Webpack",
         347979,
         4.6,
         83521,
         "https://www.udemy.com/course/the-complete-javascript-course/",
         "tech",
         "[Web Developer  Designer  and Teacher",
         354160,
         1624353,
         760896,
         6,
         4.7,
         " https://img-c.udemycdn.com/course/240x135/851712_fc61_6.jpg",
         4.7,
         169682,
         " Jonas Schmedtmann",
         "11/2022",
         "2023-03-06T14:58:34.549+0000"
        ],
        [
         9,
         "Complete C# Unity Game Developer 2D",
         "Learn Unity in C# & Code Your First Seven 2D Video Games for Web, Mac & PC. The Tutorials Cover Tilemap (35 hours)",
         364934,
         4.6,
         78989,
         "https://www.udemy.com/course/unitycourse/",
         "tech",
         "[Learn to Make and Sell Games",
         138170,
         553547,
         443417,
         7,
         4.7,
         " https://img-c.udemycdn.com/course/240x135/258316_55e9_12.jpg",
         4.7,
         98096,
         " GameDev.tv Team",
         "12/2022",
         "2023-03-06T14:58:34.549+0000"
        ],
        [
         11,
         "Automate the Boring Stuff with Python Programming",
         "A practical programming course for office workers, academics, and administrators who want to improve their productivity.",
         692617,
         4.6,
         70508,
         "https://www.udemy.com/course/automate/",
         "tech",
         "[Software developer  tech book author",
         110780,
         1126643,
         1078173,
         2,
         4.6,
         " https://img-c.udemycdn.com/course/240x135/543600_64d1_4.jpg",
         4.7,
         105953,
         " Al Sweigart",
         "02/2023",
         "2023-03-06T14:58:34.549+0000"
        ],
        [
         13,
         "Modern React with Redux [2020 Update]",
         "Master React v16.6.3 and Redux with React Router, Webpack, and Create-React-App. Includes Hooks!",
         203214,
         4.7,
         60835,
         "https://www.udemy.com/course/react-redux/",
         "tech",
         "[Engineering Architect",
         410251,
         1220945,
         292867,
         32,
         4.7,
         " https://img-b.udemycdn.com/course/240x135/705264_caa9_13.jpg",
         4.7,
         80725,
         " Stephen Grider",
         "03/2023",
         "2023-03-06T14:58:34.549+0000"
        ],
        [
         14,
         "Learn Python Programming Masterclass",
         "This Python For Beginners Course Teaches You The Python Language Fast. Includes Python Online Training With Python 3",
         240790,
         4.5,
         58677,
         "https://www.udemy.com/course/python-the-complete-python-developer-course/",
         "tech",
         "[Java Python Android and C# Expert Developer - 1.28M students",
         499903,
         1764983,
         408152,
         56,
         4.5,
         " https://img-c.udemycdn.com/course/240x135/629302_8a2d_2.jpg",
         4.6,
         97348,
         " Tim Buchalka",
         "01/2023",
         "2023-03-06T14:58:34.549+0000"
        ],
        [
         15,
         "The Complete Node.js Developer Course (3rd Edition)",
         "Learn Node.js by building real-world applications with Node, Express, MongoDB, Jest, and more!",
         202922,
         4.7,
         50885,
         "https://www.udemy.com/course/the-complete-nodejs-developer-course-2/",
         "tech",
         "[A Full-stack Developer & Teacher",
         507423,
         2322346,
         289449,
         41,
         4.5,
         " https://img-c.udemycdn.com/course/240x135/922484_52a1_8.jpg",
         4.6,
         69021,
         " Andrew Mead",
         "03/2021",
         "2023-03-06T14:58:34.549+0000"
        ],
        [
         16,
         "iOS 13 & Swift 5 - The Complete iOS App Development Bootcamp",
         "From Beginner to iOS App Developer with Just One Course! Fully Updated with a Comprehensive Module Dedicated to SwiftUI!",
         179598,
         4.8,
         49972,
         "https://www.udemy.com/course/ios-13-app-development-bootcamp/",
         "tech",
         "[Developer and Lead Instructor",
         590155,
         1959760,
         331690,
         8,
         4.7,
         " https://img-c.udemycdn.com/course/240x135/1778502_f4b9_12.jpg",
         4.7,
         83478,
         " Dr. Angela Yu",
         "11/2021",
         "2023-03-06T14:58:34.549+0000"
        ],
        [
         18,
         "Unreal Engine C++ Developer: Learn C++ and Make Video Games",
         "Created in collaboration with Epic Games. Learn C++ from basics while making your first 4 video games in Unreal",
         229005,
         4.5,
         45860,
         "https://www.udemy.com/course/unrealcourse/",
         "tech",
         "[GameDev.tv Founder :: Entrepreneur :: Passionate Teacher",
         78525,
         366782,
         332712,
         13,
         4.7,
         " https://img-c.udemycdn.com/course/240x135/657932_c7e0_6.jpg",
         4.7,
         63505,
         " Ben Tristem",
         "01/2023",
         "2023-03-06T14:58:34.549+0000"
        ],
        [
         19,
         "The Ultimate MySQL Bootcamp: Go from SQL Beginner to Expert",
         "Become an In-demand SQL Master by creating complex databases and building reports through real-world projects",
         203366,
         4.6,
         45382,
         "https://www.udemy.com/course/the-ultimate-mysql-bootcamp-go-from-sql-beginner-to-expert/",
         "tech",
         "[Developer and Bootcamp Instructor",
         449840,
         1455406,
         372279,
         23,
         4.7,
         " https://img-b.udemycdn.com/course/240x135/1187016_51b3.jpg",
         4.6,
         78842,
         " Colt Steele",
         "03/2023",
         "2023-03-06T14:58:34.549+0000"
        ],
        [
         20,
         "Spring & Hibernate for Beginners (includes Spring Boot)",
         "Spring 5: Learn Spring 5 Core, AOP, Spring MVC, Spring Security, Spring REST, Spring Boot 2, Thymeleaf, JPA & Hibernate",
         177053,
         4.6,
         45329,
         "https://www.udemy.com/course/spring-hibernate-tutorial/",
         "tech",
         "[Popular Java Spring Instructor - Best Seller",
         117226,
         611399,
         301929,
         10,
         4.6,
         " https://img-c.udemycdn.com/course/240x135/647428_be28_6.jpg",
         4.6,
         69148,
         " Chad Darby",
         "03/2023",
         "2023-03-06T14:58:34.549+0000"
        ],
        [
         21,
         "Build Responsive Real World Websites with HTML5 and CSS3",
         "The easiest way to learn modern web design, HTML5 and CSS3 step-by-step from scratch. Design AND code a huge project.",
         197609,
         4.6,
         44710,
         "https://www.udemy.com/course/design-and-develop-a-killer-website-with-html5-and-css3/",
         "tech",
         "[Web Developer  Designer  and Teacher",
         354160,
         1624353,
         366433,
         6,
         4.7,
         " https://img-b.udemycdn.com/course/240x135/437398_46c3_10.jpg",
         4.8,
         91306,
         " Jonas Schmedtmann",
         "11/2022",
         "2023-03-06T14:58:34.549+0000"
        ],
        [
         24,
         "Vue - The Complete Guide (w/ Router, Vuex, Composition API)",
         "Vue.js is an awesome JavaScript Framework for building Frontend Applications! VueJS mixes the Best of Angular + React!",
         138636,
         4.7,
         41054,
         "https://www.udemy.com/course/vuejs-2-the-complete-guide/",
         "tech",
         "[AWS certified  Professional Web Developer and Instructor",
         906256,
         2405327,
         216043,
         58,
         4.6,
         " https://img-c.udemycdn.com/course/240x135/995016_ebf4_3.jpg",
         4.7,
         58243,
         " Maximilian Schwarzmüller",
         "11/2022",
         "2023-03-06T14:58:34.549+0000"
        ],
        [
         25,
         "The Complete Web Developer in 2020: Zero to Mastery",
         "Learn to code and become a Web Developer in 2020 with HTML, CSS, Javascript, React, Node.js, Machine Learning & more!",
         138822,
         4.7,
         40976,
         "https://www.udemy.com/course/the-complete-web-developer-zero-to-mastery/",
         "tech",
         "[Founder of zerotomastery.io",
         255552,
         988890,
         207564,
         26,
         4.6,
         " https://img-b.udemycdn.com/course/240x135/1430746_2f43_10.jpg",
         4.7,
         59957,
         " Andrei Neagoie",
         "03/2023",
         "2023-03-06T14:58:34.549+0000"
        ],
        [
         26,
         "JavaScript: Understanding the Weird Parts",
         "An advanced JavaScript course for everyone! Scope, closures, prototypes, 'this', build your own framework, and more.",
         152004,
         4.7,
         39102,
         "https://www.udemy.com/course/understand-javascript/",
         "tech",
         "[Software Developer  Architect  and UX Designer",
         101061,
         329128,
         183910,
         10,
         4.6,
         " https://img-c.udemycdn.com/course/240x135/364426_2991_6.jpg",
         4.7,
         46467,
         " Anthony Alicea",
         "11/2022",
         "2023-03-06T14:58:34.549+0000"
        ],
        [
         9358,
         "PHP 101",
         "PHP Coding for Beginners",
         514,
         4.7,
         12,
         "https://www.udemy.com/course/introduction-to-php-101/",
         "tech",
         "[Internet Marketing and Traffic Academy",
         790,
         45707,
         524,
         23,
         4.0,
         " https://img-c.udemycdn.com/course/240x135/164774_3a3b_4.jpg",
         4.5,
         15,
         " Earners Classroom",
         "03/2014",
         "2023-03-06T14:58:34.549+0000"
        ],
        [
         27,
         "C# Basics for Beginners: Learn C# Fundamentals by Coding",
         "Master C# fundamentals in 6 hours - The most popular course with 50,000+ students, packed with tips and exercises!",
         124918,
         4.5,
         38450,
         "https://www.udemy.com/course/csharp-tutorial-for-beginners/",
         "tech",
         "[Passionate Software Engineer and Best-selling Author",
         285953,
         708498,
         203626,
         20,
         4.5,
         " https://img-c.udemycdn.com/course/240x135/382002_5d4a.jpg",
         4.5,
         60706,
         " Mosh Hamedani",
         "12/2020",
         "2023-03-06T14:58:34.549+0000"
        ],
        [
         28,
         "R Programming A-Z™: R For Data Science With Real Exercises!",
         "Learn Programming In R And R Studio. Data Analytics, Data Science, Statistical Analysis, Packages, Functions, GGPlot2",
         188765,
         4.6,
         35635,
         "https://www.udemy.com/course/r-programming/",
         "tech",
         "[Data Scientist",
         609473,
         2277515,
         250375,
         104,
         4.5,
         " https://img-b.udemycdn.com/course/240x135/765242_2578_6.jpg",
         4.6,
         49583,
         " Kirill Eremenko",
         "01/2023",
         "2023-03-06T14:58:34.549+0000"
        ],
        [
         30,
         "Python and Django Full Stack Web Developer Bootcamp",
         "Learn to build websites with HTML , CSS , Bootstrap , Javascript , jQuery , Python 3 , and Django!",
         130584,
         4.5,
         33670,
         "https://www.udemy.com/course/python-and-django-full-stack-web-developer-bootcamp/",
         "tech",
         "[Head of Data Science at Pierian Training",
         1013752,
         3270570,
         194446,
         60,
         4.6,
         " https://img-c.udemycdn.com/course/240x135/822444_a6db.jpg",
         4.5,
         46686,
         " Jose Portilla",
         "09/2019",
         "2023-03-06T14:58:34.549+0000"
        ],
        [
         31,
         "Deep Learning A-Z™: Hands-On Artificial Neural Networks",
         "Learn to create Deep Learning Algorithms in Python from two Machine Learning & Data Science experts. Templates included.",
         278698,
         4.5,
         33454,
         "https://www.udemy.com/course/deeplearning/",
         "tech",
         "[Data Scientist",
         609473,
         2277515,
         350503,
         104,
         4.5,
         " https://img-c.udemycdn.com/course/240x135/1151632_de9b.jpg",
         4.6,
         42272,
         " Kirill Eremenko",
         "03/2023",
         "2023-03-06T14:58:34.549+0000"
        ],
        [
         32,
         "Docker and Kubernetes: The Complete Guide",
         "Build, test, and deploy Docker applications with Kubernetes while learning production-style development workflows",
         149882,
         4.7,
         31822,
         "https://www.udemy.com/course/docker-and-kubernetes-the-complete-guide/",
         "tech",
         "[Engineering Architect",
         410251,
         1220945,
         277134,
         32,
         4.7,
         " https://img-c.udemycdn.com/course/240x135/1793828_7999_2.jpg",
         4.7,
         53252,
         " Stephen Grider",
         "03/2023",
         "2023-03-06T14:58:34.549+0000"
        ],
        [
         34,
         "The Python Bible™ | Everything You Need to Program in Python",
         "Build 11 Projects and go from Beginner to Pro in Python with the World's Most Fun Project-Based Python Course!",
         103624,
         4.6,
         29516,
         "https://www.udemy.com/course/the-python-bible/",
         "tech",
         "[Energetic Instructor with a Project-based Approach",
         68654,
         268401,
         151769,
         3,
         4.7,
         " https://img-b.udemycdn.com/course/240x135/903378_f32d_7.jpg",
         4.6,
         45110,
         " Ziyad Yehia",
         "04/2021",
         "2023-03-06T14:58:34.549+0000"
        ],
        [
         35,
         "Beginning C++ Programming - From Beginner to Beyond",
         "Obtain Modern C++ Object-Oriented Programming (OOP) and STL skills needed for game, system, and application development.",
         108689,
         4.6,
         29286,
         "https://www.udemy.com/course/beginning-c-plus-plus-programming/",
         "tech",
         "[Professional Programmers and Teachers - 1.75M students",
         58045,
         248166,
         243448,
         2,
         4.6,
         " https://img-c.udemycdn.com/course/240x135/1576854_9aeb_2.jpg",
         4.6,
         57264,
         " Tim Buchalka's Learn Programming Academy",
         "03/2023",
         "2023-03-06T14:58:34.549+0000"
        ],
        [
         36,
         "Data Science A-Z™: Real-Life Data Science Exercises Included",
         "Learn Data Science step by step through real Analytics examples. Data Mining, Modeling, Tableau Visualization and more!",
         180119,
         4.6,
         27767,
         "https://www.udemy.com/course/datascience/",
         "tech",
         "[Data Scientist",
         609473,
         2277515,
         211228,
         104,
         4.5,
         " https://img-b.udemycdn.com/course/240x135/513244_b831_4.jpg",
         4.5,
         32920,
         " Kirill Eremenko",
         "01/2023",
         "2023-03-06T14:58:34.549+0000"
        ],
        [
         37,
         "Flutter & Dart - The Complete Guide [2020 Edition]",
         "A Complete Guide to the Flutter SDK & Flutter Framework for building native iOS and Android apps",
         99991,
         4.6,
         27084,
         "https://www.udemy.com/course/learn-flutter-dart-to-build-ios-android-apps/",
         "tech",
         "[Online Education",
         906256,
         2405327,
         239005,
         58,
         4.6,
         " https://img-b.udemycdn.com/course/240x135/1708340_7108_5.jpg",
         4.6,
         58987,
         " Academind by Maximilian Schwarzmüller",
         "11/2022",
         "2023-03-06T14:58:34.549+0000"
        ],
        [
         38,
         "The Complete Android N Developer Course",
         "Learn Android App Development with Android 7 Nougat by building real apps including Uber, Whatsapp and Instagram!",
         145069,
         4.4,
         26788,
         "https://www.udemy.com/course/complete-android-n-developer-course/",
         "tech",
         "[Web Developer And Teacher",
         463464,
         2205928,
         156176,
         80,
         4.5,
         " https://img-b.udemycdn.com/course/240x135/951618_0839_2.jpg",
         4.3,
         28485,
         " Rob Percival",
         "08/2021",
         "2023-03-06T14:58:34.549+0000"
        ],
        [
         0,
         "The Complete SQL Bootcamp 2020: Go from Zero to Hero",
         "Become an expert at SQL!",
         301243,
         4.7,
         79919,
         "https://www.udemy.com/course/the-complete-sql-bootcamp/",
         "bussiness",
         "[Head of Data Science at Pierian Training",
         1013752,
         3269886,
         641558,
         60,
         4.6,
         " https://img-c.udemycdn.com/course/240x135/762616_7693_3.jpg",
         4.7,
         164866,
         " Jose Portilla",
         "05/2022",
         "2023-03-06T14:58:34.549+0000"
        ],
        [
         1,
         "Tableau 2020 A-Z: Hands-On Tableau Training for Data Science",
         "Learn Tableau 2020 for data science step by step. Real-life data analytics exercises & quizzes included. Learn by doing!",
         211674,
         4.6,
         55582,
         "https://www.udemy.com/course/tableau10/",
         "bussiness",
         "[Data Scientist",
         609473,
         2277515,
         339236,
         104,
         4.5,
         " https://img-c.udemycdn.com/course/240x135/937678_abd2_3.jpg",
         4.6,
         88565,
         " Kirill Eremenko",
         "01/2023",
         "2023-03-06T14:58:34.549+0000"
        ],
        [
         2,
         "PMP Exam Prep Seminar - PMBOK Guide 6",
         "PMP Exam Prep Seminar - Earn 35 PDUs by completing the entire PMP course",
         157957,
         4.6,
         53858,
         "https://www.udemy.com/course/pmp-pmbok6-35-pdus/",
         "bussiness",
         "[PMP  PMI-ACP  Project+  ITIL  PSM I  CTT+",
         213474,
         682347,
         291967,
         44,
         4.6,
         " https://img-c.udemycdn.com/course/240x135/1361790_2eb7_2.jpg",
         4.6,
         92161,
         " Joseph Phillips",
         "01/2023",
         "2023-03-06T14:58:34.549+0000"
        ],
        [
         5,
         "Microsoft Power BI - A Complete Introduction [2020 EDITION]",
         "Learn how to use Microsoft's Power BI Tools, including Power BI Desktop, Power BI Pro (Service) and PowerBI Developer",
         126880,
         4.6,
         38771,
         "https://www.udemy.com/course/powerbi-complete-introduction/",
         "bussiness",
         "[Professional Business Analyst and Instructor",
         906256,
         2405327,
         254477,
         58,
         4.6,
         " https://img-c.udemycdn.com/course/240x135/1208634_cd50_2.jpg",
         4.6,
         64066,
         " Manuel Lorenz",
         "11/2022",
         "2023-03-06T14:58:34.549+0000"
        ],
        [
         6,
         "Agile Crash Course: Agile Project Management; Agile Delivery",
         "Get Agile Certified & Learn about the key and most important concepts and tools of Agile Project Management (Scrum)",
         98700,
         4.3,
         31276,
         "https://www.udemy.com/course/agile-crash-course/",
         "bussiness",
         "[Serial entrepreneur  techie  life hacker  expert PM & MBA",
         120540,
         449464,
         220113,
         44,
         4.4,
         " https://img-c.udemycdn.com/course/240x135/864146_dbd7_10.jpg",
         4.5,
         75805,
         " Mauricio Rubio - Agile Guru & Founder of AgileKB | AgileLee & Ureducation",
         "02/2023",
         "2023-03-06T14:58:34.549+0000"
        ],
        [
         10,
         "Microsoft Power BI - Up & Running With Power BI Desktop",
         "Transform, analyze & visualize data with Microsoft Power BI Desktop: hands-on demos, projects & 1-on-1 Power BI support",
         89006,
         4.6,
         24388,
         "https://www.udemy.com/course/microsoft-power-bi-up-running-with-power-bi-desktop/",
         "bussiness",
         "[Award-Winning Analytics & Business Intelligence Training",
         267024,
         922534,
         314040,
         6,
         4.6,
         " https://img-c.udemycdn.com/course/240x135/1570206_26c6_5.jpg",
         4.6,
         82767,
         " Maven Analytics",
         "11/2022",
         "2023-03-06T14:58:34.549+0000"
        ],
        [
         12,
         "Leadership: Practical Leadership Skills",
         "Master leadership skills and leadership techniques with this highly practical advice and training",
         69860,
         4.6,
         23283,
         "https://www.udemy.com/course/practical-leadership/",
         "bussiness",
         "[Management Trainer  Speaker  Author",
         219930,
         503656,
         175331,
         32,
         4.6,
         " https://img-c.udemycdn.com/course/240x135/613808_3c1c_6.jpg",
         4.6,
         60641,
         " Chris Croft",
         "03/2022",
         "2023-03-06T14:58:34.549+0000"
        ],
        [
         13,
         "The Complete Foundation Stock Trading Course",
         "Learn To Trade The Stock Market by A Trading Firm CEO. Inc: Technical Analysis, Candlesticks, Stocks, Day Trading +++",
         79089,
         4.5,
         22204,
         "https://www.udemy.com/course/foundation-course/",
         "bussiness",
         "[Finance & Programming Education",
         108457,
         332606,
         201721,
         11,
         4.6,
         " https://img-c.udemycdn.com/course/240x135/1288044_d262_5.jpg",
         4.5,
         48519,
         " Mohsen Hassan",
         "04/2022",
         "2023-03-06T14:58:34.549+0000"
        ],
        [
         14,
         "SQL - MySQL for Data Analytics and Business Intelligence",
         "SQL that will get you hired – SQL for Business Analysis, Marketing, and Data Management",
         80470,
         4.6,
         21951,
         "https://www.udemy.com/course/sql-mysql-for-data-analytics-and-business-intelligence/",
         "bussiness",
         "[Creating opportunities for Data Science and Finance students",
         652690,
         2270687,
         194798,
         91,
         4.5,
         " https://img-b.udemycdn.com/course/240x135/1405632_6e6f_2.jpg",
         4.6,
         47778,
         " 365 Careers",
         "02/2023",
         "2023-03-06T14:58:34.549+0000"
        ],
        [
         15,
         "The Complete Financial Analyst Training & Investing Course",
         "Succeed as a Financial Analyst &Investor by Award Winning MBA Prof who worked @Goldman, in Hedge Funds & Venture Capital",
         183645,
         4.5,
         21807,
         "https://www.udemy.com/course/the-complete-financial-analyst-training-and-investing-course/",
         "bussiness",
         "[CEO of Haroun MBA Degree Program®",
         208696,
         1312283,
         246955,
         70,
         4.5,
         " https://img-b.udemycdn.com/course/240x135/1202988_c73f_20.jpg",
         4.6,
         30123,
         " Chris Haroun",
         "02/2023",
         "2023-03-06T14:58:34.549+0000"
        ],
        [
         16,
         "The Ultimate Hands-On Hadoop - Tame your Big Data!",
         "Hadoop tutorial with MapReduce, HDFS, Spark, Flink, Hive, HBase, MongoDB, Cassandra, Kafka + more! Over 25 technologies.",
         116200,
         4.6,
         21636,
         "https://www.udemy.com/course/the-ultimate-hands-on-hadoop-tame-your-big-data/",
         "bussiness",
         "[Founder  Sundog Education. Machine Learning Pro",
         135796,
         636152,
         167218,
         22,
         4.6,
         " https://img-b.udemycdn.com/course/240x135/996228_af5f_3.jpg",
         4.5,
         28483,
         " Sundog Education by Frank Kane",
         "09/2022",
         "2023-03-06T14:58:34.549+0000"
        ],
        [
         18,
         "How to Start an Amazon FBA Store on a Tight Budget",
         "The complete Amazon selling blueprint. Start a brand new career today, even if you are on a very small start-up budget.",
         73088,
         4.6,
         19524,
         "https://www.udemy.com/course/sell-on-amazon-as-small-start-up/",
         "bussiness",
         "[Amazon Seller  Blogger  & Online Marketer",
         41149,
         170621,
         106439,
         4,
         4.6,
         " https://img-b.udemycdn.com/course/240x135/560388_91e3_3.jpg",
         4.6,
         26878,
         " Theo McArthur",
         "02/2023",
         "2023-03-06T14:58:34.549+0000"
        ],
        [
         19,
         "Deep Learning Prerequisites: The Numpy Stack in Python (V2+)",
         "The Numpy, Scipy, Pandas, and Matplotlib stack: prep for deep learning, machine learning, and artificial intelligence",
         239470,
         4.5,
         18388,
         "https://www.udemy.com/course/deep-learning-prerequisites-the-numpy-stack-in-python/",
         "bussiness",
         "[Artificial intelligence and machine learning engineer",
         146772,
         524664,
         247377,
         33,
         4.6,
         " https://img-c.udemycdn.com/course/240x135/980086_196d_2.jpg",
         4.6,
         20534,
         " Lazy Programmer Inc.",
         "03/2023",
         "2023-03-06T14:58:34.549+0000"
        ],
        [
         20,
         "Python for Finance: Investment Fundamentals & Data Analytics",
         "Learn Python Programming and Conduct Real-World Financial Analysis in Python - Complete Python Training",
         84195,
         4.5,
         17929,
         "https://www.udemy.com/course/python-for-finance-investment-fundamentals-data-analytics/",
         "bussiness",
         "[Creating opportunities for Data Science and Finance students",
         652690,
         2270687,
         123676,
         91,
         4.5,
         " https://img-c.udemycdn.com/course/240x135/1035472_23ce_5.jpg",
         4.6,
         25728,
         " 365 Careers",
         "12/2022",
         "2023-03-06T14:58:34.549+0000"
        ],
        [
         21,
         "Introduction to Finance, Accounting, Modeling and Valuation",
         "Learn Finance & Accounting from Scratch by an Award Winning MBA Professor, Ivy Grad, worked @ Goldman & VC",
         142904,
         4.5,
         17549,
         "https://www.udemy.com/course/introduction-to-accounting-finance-modeling-valuation-by-chris-haroun/",
         "bussiness",
         "[CEO of Haroun MBA Degree Program®",
         208696,
         1312283,
         189257,
         70,
         4.5,
         " https://img-c.udemycdn.com/course/240x135/888716_4225_8.jpg",
         4.5,
         28563,
         " Chris Haroun",
         "02/2023",
         "2023-03-06T14:58:34.549+0000"
        ],
        [
         22,
         "Forex Trading A-Z™ - With LIVE Examples of Forex Trading",
         "Forex Trading - Beginners and Experienced - Learn trading by Doing! Live examples: Forex with Real Money in Metatrader 4",
         67924,
         4.6,
         17220,
         "https://www.udemy.com/course/forex-trading/",
         "bussiness",
         "[Data Scientist",
         35411,
         116885,
         82973,
         7,
         4.5,
         " https://img-c.udemycdn.com/course/240x135/308690_6e17_6.jpg",
         4.4,
         21000,
         " Kirill Eremenko",
         "10/2022",
         "2023-03-06T14:58:34.549+0000"
        ],
        [
         23,
         "Write Better Emails: Tactics for Smarter Team Communication",
         "How to improve your email writing skills to save time & improve communication with your team; easy business writing tips",
         51707,
         4.4,
         16494,
         "https://www.udemy.com/course/write-better-emails/",
         "bussiness",
         "[Virtual Teams & PM Expert; Bestselling Author; Leader @Cisco",
         106496,
         282096,
         175964,
         14,
         4.5,
         " https://img-c.udemycdn.com/course/240x135/946654_dbfb_3.jpg",
         4.5,
         59669,
         " Hassan Osman",
         "12/2022",
         "2023-03-06T14:58:34.549+0000"
        ],
        [
         26,
         "Writing With Flair: How To Become An Exceptional Writer",
         "Ex-Wall Street Journal Editor Teaches How To Write With Confidence, Style & Impact",
         103488,
         4.5,
         12679,
         "https://www.udemy.com/course/writing-with-flair-how-to-become-an-exceptional-writer/",
         "bussiness",
         "[Ex-Wall Street Journal editor",
         66322,
         493994,
         137368,
         13,
         4.6,
         " https://img-c.udemycdn.com/course/240x135/196152_331b_3.jpg",
         4.6,
         19405,
         " Shani Raja",
         "01/2023",
         "2023-03-06T14:58:34.549+0000"
        ],
        [
         28,
         "SQL for Data Analysis: Weekender Crash Course for Beginners",
         "Using MySQL but applicable to Oracle SQL, Microsoft SQL Server, and PostgreSQL. Taught by a Data Scientist and PM.",
         59629,
         4.3,
         11820,
         "https://www.udemy.com/course/sql-for-newbs/",
         "bussiness",
         "[A Course Series",
         14924,
         71332,
         71335,
         1,
         4.4,
         " https://img-c.udemycdn.com/course/240x135/203556_5ff1_3.jpg",
         4.4,
         14924,
         " A Course You'll Actually Finish",
         "09/2022",
         "2023-03-06T14:58:34.549+0000"
        ],
        [
         29,
         "Sales Training: Practical Sales Techniques",
         "Sales Hacking: Essential sales skills, sales strategies and sales techniques to sell just about anything!",
         39333,
         4.6,
         11805,
         "https://www.udemy.com/course/master-successful-selling/",
         "bussiness",
         "[Management Trainer  Speaker  Author",
         219930,
         503656,
         69453,
         32,
         4.6,
         " https://img-c.udemycdn.com/course/240x135/563478_2c35.jpg",
         4.6,
         21572,
         " Chris Croft",
         "03/2020",
         "2023-03-06T14:58:34.549+0000"
        ],
        [
         30,
         "Ninja Writing: The Four Levels Of Writing Mastery",
         "Turn Your Business Writing, Blogs, Books & Essays Into Masterpieces",
         85844,
         4.4,
         11167,
         "https://www.udemy.com/course/ninja-writing-the-four-levels-of-writing-mastery/",
         "bussiness",
         "[Ex-Wall Street Journal editor",
         66322,
         493994,
         109111,
         13,
         4.6,
         " https://img-b.udemycdn.com/course/240x135/736456_f01e_4.jpg",
         4.6,
         15304,
         " Shani Raja",
         "11/2022",
         "2023-03-06T14:58:34.549+0000"
        ],
        [
         31,
         "Tableau 20 Advanced Training: Master Tableau in Data Science",
         "Master Tableau 20 in Data Science by solving Real-Life Analytics Problems. Learn Visualisation and Data Mining by doing!",
         63752,
         4.6,
         11121,
         "https://www.udemy.com/course/tableau10-advanced/",
         "bussiness",
         "[Data Scientist",
         609473,
         2277515,
         94353,
         104,
         4.5,
         " https://img-c.udemycdn.com/course/240x135/946194_028d_6.jpg",
         4.7,
         15875,
         " Kirill Eremenko",
         "01/2023",
         "2023-03-06T14:58:34.549+0000"
        ],
        [
         32,
         "Conscious Listening",
         "Transform your confidence and communication by becoming somebody that people love speaking to.",
         28408,
         4.5,
         11011,
         "https://www.udemy.com/course/conscious-listening/",
         "bussiness",
         "[Five-time TED speaker and author of \"How to be Heard\"",
         47723,
         121106,
         65972,
         3,
         4.5,
         " https://img-b.udemycdn.com/course/240x135/139166_cae0_6.jpg",
         4.5,
         30345,
         " Julian Treasure",
         "08/2017",
         "2023-03-06T14:58:34.549+0000"
        ],
        [
         33,
         "Email Etiquette: Write More Effective Emails At Work",
         "How to write emails that get results. How to write emails that build better working relationships.",
         34781,
         4.4,
         10908,
         "https://www.udemy.com/course/business-emails/",
         "bussiness",
         "[Cambridge University writing tutor & professional copywriter",
         74339,
         217829,
         98696,
         16,
         4.5,
         " https://img-c.udemycdn.com/course/240x135/552372_1adb.jpg",
         4.5,
         36118,
         " Clare Lynch",
         "03/2023",
         "2023-03-06T14:58:34.549+0000"
        ],
        [
         35,
         "The Complete Presentation and Public Speaking/Speech Course",
         "From page to stage; learn everything you need to know about giving a great speech for business & personal presentations.",
         159739,
         4.5,
         10441,
         "https://www.udemy.com/course/the-complete-presentation-and-public-speaking-speech-course/",
         "bussiness",
         "[CEO of Haroun MBA Degree Program®",
         208696,
         1312283,
         204179,
         70,
         4.5,
         " https://img-b.udemycdn.com/course/240x135/1098006_6917_6.jpg",
         4.5,
         15587,
         " Chris Haroun",
         "02/2023",
         "2023-03-06T14:58:34.549+0000"
        ],
        [
         38,
         "Emotional Intelligence at Work: Learn from Your Emotions",
         "Master EQ to identify emotions in yourself and others, manage your emotions, and improve your relationships at work.",
         21966,
         4.5,
         10148,
         "https://www.udemy.com/course/emotional-intelligence-at-work-learn-from-your-emotions/",
         "bussiness",
         "[Executive Coach/Creator of AwesomeLeader.com/100K+ Students",
         62391,
         124206,
         95678,
         4,
         4.5,
         " https://img-c.udemycdn.com/course/240x135/2246852_8860.jpg",
         4.5,
         47684,
         " Leila Bulling Towne",
         "06/2021",
         "2023-03-06T14:58:34.549+0000"
        ],
        [
         39,
         "Power BI A-Z: Hands-On Power BI Training For Data Science!",
         "Learn Microsoft Power BI for Data Science and Data Analytics. Build visualizations and BI reports with Power BI Desktop",
         73250,
         4.4,
         9992,
         "https://www.udemy.com/course/mspowerbi/",
         "bussiness",
         "[Data Scientist",
         609473,
         2277515,
         103063,
         104,
         4.5,
         " https://img-b.udemycdn.com/course/240x135/1007240_c694.jpg",
         4.4,
         20065,
         " Kirill Eremenko",
         "01/2023",
         "2023-03-06T14:58:34.549+0000"
        ],
        [
         2,
         "The Complete Foundation Stock Trading Course",
         "Learn To Trade The Stock Market by A Trading Firm CEO. Inc: Technical Analysis, Candlesticks, Stocks, Day Trading +++",
         79089,
         4.5,
         22239,
         "https://www.udemy.com/course/foundation-course/",
         "finance",
         "[Finance & Programming Education",
         108457,
         332606,
         201721,
         11,
         4.6,
         " https://img-c.udemycdn.com/course/240x135/1288044_d262_5.jpg",
         4.5,
         48519,
         " Mohsen Hassan",
         "04/2022",
         "2023-03-06T14:58:34.549+0000"
        ],
        [
         3,
         "The Complete Financial Analyst Training & Investing Course",
         "Succeed as a Financial Analyst &Investor by Award Winning MBA Prof who worked @Goldman, in Hedge Funds & Venture Capital",
         183645,
         4.5,
         21818,
         "https://www.udemy.com/course/the-complete-financial-analyst-training-and-investing-course/",
         "finance",
         "[CEO of Haroun MBA Degree Program®",
         208696,
         1312283,
         246955,
         70,
         4.5,
         " https://img-c.udemycdn.com/course/240x135/1202988_c73f_20.jpg",
         4.6,
         30123,
         " Chris Haroun",
         "02/2023",
         "2023-03-06T14:58:34.549+0000"
        ],
        [
         4,
         "Investing In Stocks The Complete Course! (11 Hour)",
         "Master Investing in the Stock Market with Stocks, Mutual Funds, ETF, from a Top Instructor & Millionaire Stock Portfolio",
         111937,
         4.4,
         20993,
         "https://www.udemy.com/course/investing-in-stocks/",
         "finance",
         "[Millionaire Investor|Stocks|Crypto|ChatGPT|Teaching 471 000+",
         67186,
         474439,
         186959,
         56,
         4.5,
         " https://img-b.udemycdn.com/course/240x135/964680_b329_4.jpg",
         4.5,
         34074,
         " Steve Ballinger MBA",
         "03/2023",
         "2023-03-06T14:58:34.549+0000"
        ],
        [
         5,
         "Blockchain and Bitcoin Fundamentals",
         "Learn the key elements of blockchain and Bitcoin in this bestselling video course and accompanying PDF glossary.",
         66320,
         4.6,
         20726,
         "https://www.udemy.com/course/blockchain-and-bitcoin-fundamentals/",
         "finance",
         "[BIT Instructor & Certified Blockchain Professional (CBCP)",
         56834,
         179259,
         116150,
         20,
         4.5,
         " https://img-b.udemycdn.com/course/240x135/1151036_64b6_6.jpg",
         4.5,
         37922,
         " George Levy",
         "01/2023",
         "2023-03-06T14:58:34.549+0000"
        ],
        [
         7,
         "Python for Finance: Investment Fundamentals & Data Analytics",
         "Learn Python Programming and Conduct Real-World Financial Analysis in Python - Complete Python Training",
         84202,
         4.5,
         17942,
         "https://www.udemy.com/course/python-for-finance-investment-fundamentals-data-analytics/",
         "finance",
         "[Creating opportunities for Data Science and Finance students",
         652690,
         2270687,
         123676,
         91,
         4.5,
         " https://img-c.udemycdn.com/course/240x135/1035472_23ce_5.jpg",
         4.6,
         25728,
         " 365 Careers",
         "12/2022",
         "2023-03-06T14:58:34.549+0000"
        ],
        [
         8,
         "Introduction to Finance, Accounting, Modeling and Valuation",
         "Learn Finance & Accounting from Scratch by an Award Winning MBA Professor, Ivy Grad, worked @ Goldman & VC",
         142924,
         4.5,
         17572,
         "https://www.udemy.com/course/introduction-to-accounting-finance-modeling-valuation-by-chris-haroun/",
         "finance",
         "[CEO of Haroun MBA Degree Program®",
         208696,
         1312283,
         189257,
         70,
         4.5,
         " https://img-c.udemycdn.com/course/240x135/888716_4225_8.jpg",
         4.5,
         28563,
         " Chris Haroun",
         "02/2023",
         "2023-03-06T14:58:34.549+0000"
        ],
        [
         9,
         "Forex Trading A-Z™ - With LIVE Examples of Forex Trading",
         "Forex Trading - Beginners and Experienced - Learn trading by Doing! Live examples: Forex with Real Money in Metatrader 4",
         67924,
         4.6,
         17227,
         "https://www.udemy.com/course/forex-trading/",
         "finance",
         "[Data Scientist",
         35411,
         116885,
         82973,
         7,
         4.5,
         " https://img-c.udemycdn.com/course/240x135/308690_6e17_6.jpg",
         4.4,
         21000,
         " Kirill Eremenko",
         "10/2022",
         "2023-03-06T14:58:34.549+0000"
        ],
        [
         12,
         "Accounting in 60 Minutes - A Brief Introduction",
         "Learn the very basics of accounting in just about an hour.",
         80231,
         4.5,
         9214,
         "https://www.udemy.com/course/accounting-in-60-minutes-a-brief-introduction/",
         "finance",
         "[Join Vince for an Enjoyable Class!",
         13302,
         94781,
         89530,
         3,
         4.5,
         " https://img-c.udemycdn.com/course/240x135/48841_9110_7.jpg",
         4.5,
         12858,
         " Vincent Turner",
         "07/2021",
         "2023-03-06T14:58:34.549+0000"
        ],
        [
         13,
         "Technical Analysis MasterClass:Trading By Technical Analysis",
         "Stock Market Technical Analysis Secrets for Forex , Stock Trading , Options , Swing Trading & Day Trading + ASSIGNMENTS",
         41213,
         4.4,
         8770,
         "https://www.udemy.com/course/technical_analysis/",
         "finance",
         "[\"A Mission For Financial Confidence”",
         38735,
         150239,
         103564,
         8,
         4.5,
         " https://img-c.udemycdn.com/course/240x135/1255136_1bf6_15.jpg",
         4.5,
         19969,
         " Jyoti Bansal (NCFMNISM Certified Technical Analyst & Investment Adviser )",
         "06/2022",
         "2023-03-06T14:58:34.549+0000"
        ],
        [
         14,
         "Accounting & Financial Statement Analysis: Complete Training",
         "Accounting & Financial Ratio Analysis made easy. Learn important accounting skills that will get your foot in the door!",
         38469,
         4.6,
         6381,
         "https://www.udemy.com/course/accounting-fsa-a-solid-foundation-for-a-career-in-finance/",
         "finance",
         "[Creating opportunities for Data Science and Finance students",
         652690,
         2270687,
         66164,
         91,
         4.5,
         " https://img-b.udemycdn.com/course/240x135/640100_9f85_5.jpg",
         4.6,
         14243,
         " 365 Careers",
         "10/2022",
         "2023-03-06T14:58:34.549+0000"
        ],
        [
         15,
         "Advanced Stock Trading Course + Strategies",
         "Learn To Trade The Stock Market by A Trading Firm CEO. For: Stocks, Day Trading, Swing Trading and Financial Trading",
         37703,
         4.6,
         6103,
         "https://www.udemy.com/course/advanced-course-plus-strategies/",
         "finance",
         "[Finance & Programming Education",
         108457,
         332606,
         84314,
         11,
         4.6,
         " https://img-c.udemycdn.com/course/240x135/1587644_6786_5.jpg",
         4.5,
         13106,
         " Mohsen Hassan",
         "04/2022",
         "2023-03-06T14:58:34.549+0000"
        ],
        [
         16,
         "The Complete Personal Finance Course: Save,Protect,Make More",
         "3 Courses in 1! Save,Protect & Make More! By an Award Winning MBA Professor, VC & Best Selling Online Business Teacher.",
         87783,
         4.6,
         5137,
         "https://www.udemy.com/course/the-complete-personal-finance-course-save-protect-make-more/",
         "finance",
         "[CEO of Haroun MBA Degree Program®",
         208696,
         1312283,
         133917,
         70,
         4.5,
         " https://img-c.udemycdn.com/course/240x135/1356742_c0b1_5.jpg",
         4.6,
         9005,
         " Chris Haroun",
         "02/2023",
         "2023-03-06T14:58:34.549+0000"
        ],
        [
         17,
         "Options Trading Basics (3-Course Bundle)",
         "A bundle combines 1)Intro to Call and Put Options 2) Time decay, Implied Volatility, Greeks 3) Call and Puts Live trades",
         29099,
         4.4,
         4913,
         "https://www.udemy.com/course/learn-options-trading-courses/",
         "finance",
         "[Options Mentor  Financial markets educator  Trader  Investor",
         18527,
         116221,
         51050,
         31,
         4.4,
         " https://img-c.udemycdn.com/course/240x135/43319_36fd_6.jpg",
         4.5,
         7918,
         " Hari Swaminathan",
         "12/2019",
         "2023-03-06T14:58:34.549+0000"
        ],
        [
         18,
         "Beginner to Pro in PowerPoint: Complete PowerPoint Training",
         "PowerPoint lessons that are easy to apply at work! Become the top PowerPoint user in your office. #1 PowerPoint training",
         25951,
         4.4,
         4890,
         "https://www.udemy.com/course/powerpoint-master-class-for-business-and-finance-graduates/",
         "finance",
         "[Creating opportunities for Data Science and Finance students",
         652690,
         2270687,
         45377,
         91,
         4.5,
         " https://img-c.udemycdn.com/course/240x135/383414_6091_5.jpg",
         4.5,
         10641,
         " 365 Careers",
         "07/2021",
         "2023-03-06T14:58:34.549+0000"
        ],
        [
         19,
         "Value Investing Bootcamp: How to Invest Wisely",
         "Learn the Secrets of the Best Stock Investors, Manage Your Own Portfolio, And Earn Market Beating Returns",
         29990,
         4.5,
         4270,
         "https://www.udemy.com/course/value-investing-bootcamp-how-to-invest-wisely/",
         "finance",
         "[Founder of ValueSpreadsheet.com",
         6690,
         42842,
         42844,
         1,
         4.4,
         " https://img-c.udemycdn.com/course/240x135/203732_88ed_4.jpg",
         4.4,
         6690,
         " Nick Kraakman",
         "09/2020",
         "2023-03-06T14:58:34.549+0000"
        ],
        [
         20,
         "Start Trading Stocks Using Technical Analysis!",
         "Learn the secrets of professional trading from a former stock broker, and make profits investing today!",
         18236,
         4.5,
         4237,
         "https://www.udemy.com/course/professional-stock-trader/",
         "finance",
         "[professional trader and educational instructor",
         10311,
         35956,
         25646,
         9,
         4.3,
         " https://img-c.udemycdn.com/course/240x135/746432_cae3_3.jpg",
         4.4,
         5998,
         " Corey Halliday",
         "03/2017",
         "2023-03-06T14:58:34.549+0000"
        ],
        [
         21,
         "#1 Cryptocurrency Long-term Investment Opportunity 2017/2018",
         "Learn Long-term Cryptocurrency Investing and see which Alt Coin I think is the best investment opportunity in 2017!",
         13901,
         1.8,
         4048,
         "https://www.udemy.com/course/cryptocurrency-course/",
         "finance",
         "[Superhero Instructor! I teach 400 000 Students in 30 courses",
         50033,
         415995,
         13949,
         31,
         3.9,
         " https://img-b.udemycdn.com/course/240x135/1316818_a3aa_2.jpg",
         1.5,
         4071,
         " Suppoman ™",
         "05/2020",
         "2023-03-06T14:58:34.549+0000"
        ],
        [
         22,
         "Excel Crash Course: Master Excel for Financial Analysis",
         "Beginner to Advanced: Learn Excel Shortcuts, Formulas & Functions for Financial Modeling & Corporate Finance",
         20487,
         4.4,
         3761,
         "https://www.udemy.com/course/excel-crash-course-master-excel-for-financial-analysis/",
         "finance",
         "[Corporate Finance Institute",
         22803,
         139695,
         39105,
         3,
         4.5,
         " https://img-c.udemycdn.com/course/240x135/985922_4fc9_2.jpg",
         4.6,
         11187,
         " Scott Powell",
         "11/2016",
         "2023-03-06T14:58:34.549+0000"
        ],
        [
         23,
         "Financial Planning & Analysis: Building a Company's Budget",
         "Learn the Fundamental Mechanics of Financial Planning and Position Your Career for Success!",
         17167,
         4.2,
         3671,
         "https://www.udemy.com/course/financial-planning-analysis-building-a-companys-budget/",
         "finance",
         "[Creating opportunities for Data Science and Finance students",
         652690,
         2270687,
         35246,
         91,
         4.5,
         " https://img-c.udemycdn.com/course/240x135/739390_f2ec_4.jpg",
         4.6,
         7562,
         " 365 Careers",
         "08/2022",
         "2023-03-06T14:58:34.549+0000"
        ],
        [
         24,
         "Accounting: From Beginner to Advanced!",
         "Learn accounting like never before. Learn easy and fast. Easy to understand Accounting. #1 accounting course online.",
         15937,
         4.4,
         3654,
         "https://www.udemy.com/course/accounting101/",
         "finance",
         "[Award-Winning Professor  Investor and Entrepreneur",
         12704,
         57575,
         29029,
         10,
         4.4,
         " https://img-c.udemycdn.com/course/240x135/133428_e67a_18.jpg",
         4.4,
         6562,
         " Stefan Ignatovski Ph.D.",
         "04/2022",
         "2023-03-06T14:58:34.549+0000"
        ],
        [
         25,
         "Forex Robots: Automate Your Trading - Forex Robot Included!",
         "Forex Robots - Learn the secrets to trading on a real Forex Account with Forex Trading Systems. Metatrader 4 EA",
         29014,
         4.7,
         3628,
         "https://www.udemy.com/course/backtesting/",
         "finance",
         "[Data Scientist",
         35411,
         116885,
         33785,
         7,
         4.5,
         " https://img-c.udemycdn.com/course/240x135/260470_bdcc_11.jpg",
         4.7,
         4349,
         " Kirill Eremenko",
         "10/2022",
         "2023-03-06T14:58:34.549+0000"
        ],
        [
         26,
         "Stock Trading & Investing for Beginners 4-in-1 Course Bundle",
         "Jumpstart your Stock Trading & Investing journey as Beginners in Stock Market. Learn both financial & technical analysis",
         16649,
         4.3,
         3265,
         "https://www.udemy.com/course/complete-stock-market-starter-toolkit-for-beginners/",
         "finance",
         "[Stock Advisory & Education",
         7607,
         46003,
         35107,
         6,
         4.5,
         " https://img-c.udemycdn.com/course/240x135/696616_c1a6_5.jpg",
         4.5,
         5237,
         " Indian Insight | Top 10 PAC Trading Championship",
         "12/2022",
         "2023-03-06T14:58:34.549+0000"
        ],
        [
         27,
         "Acorns' Guide to Personal Finance",
         "5 Steps to Building Wealth: Budget Better, Pay Off Debt Faster, Save and Earn More Money and Invest Wisely",
         24819,
         4.3,
         3199,
         "https://www.udemy.com/course/acorns-guide-to-personal-finance/",
         "finance",
         "[Acorns Chief Education Officer",
         4686,
         29332,
         29333,
         1,
         4.5,
         " https://img-c.udemycdn.com/course/240x135/1466336_9108_4.jpg",
         4.5,
         4686,
         " Jennifer Barrett",
         "01/2018",
         "2023-03-06T14:58:34.549+0000"
        ],
        [
         28,
         "SAP FICO (Financial Accounting & Management Accounting) ",
         "The course covers both configuration and end-user processes for SAP FICO module",
         15327,
         4.1,
         3016,
         "https://www.udemy.com/course/sap-fico-training-course/",
         "finance",
         "[SAP Functional Consultant",
         16620,
         77582,
         42618,
         8,
         4.4,
         " https://img-c.udemycdn.com/course/240x135/1592862_c178_2.jpg",
         4.3,
         7344,
         " Rana W Mehmood",
         "06/2022",
         "2023-03-06T14:58:34.549+0000"
        ],
        [
         29,
         "Algorithmic Trading In Forex: Create Your First Forex Robot!",
         "Trading With Forex Robots: Learn MQL4 Programming By Doing! Create Your First Algorithmic Trading System in MetaTrader 4",
         20193,
         4.6,
         2926,
         "https://www.udemy.com/course/learn-mql4/",
         "finance",
         "[Data Scientist",
         35411,
         116885,
         24574,
         7,
         4.5,
         " https://img-b.udemycdn.com/course/240x135/258232_52db_7.jpg",
         4.5,
         3639,
         " Kirill Eremenko",
         "10/2022",
         "2023-03-06T14:58:34.549+0000"
        ],
        [
         30,
         "Financial Modeling: Build a Complete DCF Valuation Model",
         "The Ultimate Guide to Company Valuation For Aspiring Investment Bankers and Corporate Finance Practitioners",
         17127,
         4.5,
         2850,
         "https://www.udemy.com/course/learn-how-to-value-a-company-and-build-a-dcf-model/",
         "finance",
         "[Creating opportunities for Data Science and Finance students",
         652690,
         2270687,
         29624,
         91,
         4.5,
         " https://img-b.udemycdn.com/course/240x135/358062_8e83_7.jpg",
         4.4,
         4885,
         " 365 Careers",
         "04/2022",
         "2023-03-06T14:58:34.549+0000"
        ],
        [
         31,
         "Options Trading - How to Win with Weekly Options",
         "An Exact Blueprint for Options Trading Success",
         14597,
         4.1,
         2700,
         "https://www.udemy.com/course/work-from-home-setup-your-own-options-trading-business/",
         "finance",
         "[Professional Stock  Options and Futures Trader",
         7112,
         27226,
         16987,
         7,
         4.2,
         " https://img-c.udemycdn.com/course/240x135/627540_bb3c_7.jpg",
         4.3,
         3142,
         " Jeff Tompkins",
         "11/2021",
         "2023-03-06T14:58:34.549+0000"
        ],
        [
         33,
         "Options Trading for Rookies: Understand Options Completely",
         "Part 1: Learn everything you need to know about options, what they are, how they work, buying vs. selling and more!",
         13678,
         4.7,
         2673,
         "https://www.udemy.com/course/complete-course-introduction-to-option-trading/",
         "finance",
         "[Option Trader | Founder of \"Option Trading for Rookies\"",
         20664,
         159922,
         29610,
         20,
         4.5,
         " https://img-c.udemycdn.com/course/240x135/848664_c924_7.jpg",
         4.6,
         6468,
         " Kal Zurn",
         "02/2023",
         "2023-03-06T14:58:34.549+0000"
        ],
        [
         35,
         "Mastering QuickBooks Online",
         "Become An Expert QuickBooks Online And Learn How To Keep And Maintain QuickBooks Records For Perfect Accuracy",
         9256,
         4.4,
         2587,
         "https://www.udemy.com/course/mastering-quickbooks-online/",
         "finance",
         "[Professor of Computerized Accounting",
         10046,
         46135,
         27444,
         40,
         4.5,
         " https://img-b.udemycdn.com/course/240x135/1337064_745d_3.jpg",
         4.5,
         7674,
         " Mark Smolen",
         "01/2023",
         "2023-03-06T14:58:34.549+0000"
        ],
        [
         36,
         "Accounting - A Brief Introduction - in 60 Minutes",
         "Learn the basics of financial accounting in one hour!",
         26519,
         4.7,
         2512,
         "https://www.udemy.com/course/accounting-in-less-then-one-hour/",
         "finance",
         "[Personal Finance Made Easy!",
         6878,
         64067,
         26713,
         7,
         4.4,
         " https://img-c.udemycdn.com/course/240x135/754028_c817_6.jpg",
         4.6,
         2605,
         " BrainyMoney and Son Han CFA CPA",
         "03/2016",
         "2023-03-06T14:58:34.549+0000"
        ],
        [
         37,
         "Complete Day Trading : Stock Trading With Technical Analysis",
         "Learn Stock Market Day Trading Strategies, Scanning & Trading Momentum Stocks , Nifty/Bank Nifty by Technical Analysis",
         16561,
         4.4,
         2517,
         "https://www.udemy.com/course/day-trading-strategies-day-trading-with-technical-analysis/",
         "finance",
         "[\"A Mission For Financial Confidence”",
         38735,
         150239,
         33902,
         8,
         4.5,
         " https://img-b.udemycdn.com/course/240x135/1691546_8dd1_7.jpg",
         4.3,
         4385,
         " Jyoti Bansal (NCFMNISM Certified Technical Analyst & Investment Adviser )",
         "06/2022",
         "2023-03-06T14:58:34.549+0000"
        ],
        [
         38,
         "The Ultimate QuickBooks Pro Training Bundle - 60+ Hours",
         "Master QuickBooks Pro with this training bundle consisting of 8 courses, 60+ hours, and over 400 videos.",
         17813,
         4.4,
         2499,
         "https://www.udemy.com/course/the-ultimate-quickbooks-pro-training-bundle/",
         "finance",
         "[670 000+ Students  220+ Courses  Learners in 180+ Countries",
         103350,
         677541,
         21664,
         221,
         4.5,
         " https://img-c.udemycdn.com/course/240x135/128082_5026_6.jpg",
         4.4,
         3253,
         " Simon Sez IT",
         "11/2022",
         "2023-03-06T14:58:34.549+0000"
        ],
        [
         39,
         "Options Trading MasterClass: Options With Technical Analysis",
         "Options Trading+++Strategies , Options Basics & Greeks (A 3-Course Bundle) For Stock & Day Trading By Technical Analysis",
         19775,
         4.3,
         2491,
         "https://www.udemy.com/course/option-trading-option-strategies-with-technical-analysis/",
         "finance",
         "[\"A Mission For Financial Confidence”",
         38735,
         150239,
         41890,
         8,
         4.5,
         " https://img-c.udemycdn.com/course/240x135/1568560_b2ed_13.jpg",
         4.3,
         4832,
         " Jyoti Bansal (NCFMNISM Certified Technical Analyst & Investment Adviser )",
         "06/2022",
         "2023-03-06T14:58:34.549+0000"
        ],
        [
         0,
         "The Ultimate Drawing Course - Beginner to Advanced",
         "Learn the #1 most important building block of all art",
         403865,
         4.5,
         98984,
         "https://www.udemy.com/course/the-ultimate-drawing-course-beginner-to-advanced/",
         "design",
         "[Illustrator & Designer",
         126084,
         586086,
         499868,
         11,
         4.6,
         " https://img-c.udemycdn.com/course/240x135/874012_c7f2_3.jpg",
         4.6,
         117358,
         " Jaysen Batchelor",
         "03/2022",
         "2023-03-06T14:58:34.549+0000"
        ],
        [
         2,
         "Complete Blender Creator: Learn 3D Modelling for Beginners",
         "Use Blender to Create Beautiful 3D models for Video Games, 3D Printing & More. Beginners Level Course",
         203790,
         4.6,
         39959,
         "https://www.udemy.com/course/blendertutorial/",
         "design",
         "[Learn to Make and Sell Games",
         69866,
         336880,
         292447,
         8,
         4.7,
         " https://img-c.udemycdn.com/course/240x135/438522_500f_7.jpg",
         4.7,
         57451,
         " GameDev.tv Team",
         "11/2022",
         "2023-03-06T14:58:34.549+0000"
        ],
        [
         3,
         "Design Thinking in 3 Steps",
         "Understand your audience, envision a creative solution, and test your prototype",
         63479,
         4.4,
         28014,
         "https://www.udemy.com/course/designit-design-thinking/",
         "design",
         "[Design What Matters",
         49765,
         111071,
         111076,
         1,
         4.4,
         " https://img-c.udemycdn.com/course/240x135/1065056_41ed_5.jpg",
         4.4,
         49765,
         " Designit Strategic Design",
         "06/2020",
         "2023-03-06T14:58:34.549+0000"
        ],
        [
         4,
         "Illustrator CC 2020 MasterClass",
         "Master Adobe Illustrator CC with this in-depth training for all levels.",
         117513,
         4.6,
         25858,
         "https://www.udemy.com/course/illustrator-cc-masterclass/",
         "design",
         "[Yes I'm a Designer",
         51190,
         210197,
         147740,
         26,
         4.6,
         " https://img-b.udemycdn.com/course/240x135/1197206_7201_4.jpg",
         4.6,
         32459,
         " Martin Perhiniak",
         "10/2021",
         "2023-03-06T14:58:34.549+0000"
        ],
        [
         5,
         "User Experience Design Essentials - Adobe XD UI UX Design",
         "Use XD to get a job in UI Design, User Interface, User Experience design, UX design & Web Design",
         94235,
         4.6,
         23988,
         "https://www.udemy.com/course/ui-ux-web-design-using-adobe-xd/",
         "design",
         "[Adobe Certified Instructor & Adobe Certified Expert",
         193417,
         618157,
         175335,
         33,
         4.7,
         " https://img-c.udemycdn.com/course/240x135/1452908_8741_4.jpg",
         4.7,
         43544,
         " Daniel Walter Scott",
         "08/2022",
         "2023-03-06T14:58:34.549+0000"
        ],
        [
         6,
         "Ultimate Photoshop Training: From Beginner to Pro",
         "Master Photoshop CC 2020 without any previous knowledge with this easy-to-follow course",
         121883,
         4.6,
         20629,
         "https://www.udemy.com/course/ultimate-photoshop-training-from-beginner-to-pro/",
         "design",
         "[Certified Photoshop Instructor & Expert  Web & App Designer",
         39472,
         272735,
         158216,
         12,
         4.7,
         " https://img-c.udemycdn.com/course/240x135/1046722_cbd7_6.jpg",
         4.7,
         27674,
         " Cristian Doru Barin",
         "01/2023",
         "2023-03-06T14:58:34.549+0000"
        ],
        [
         9,
         "Adobe Photoshop CC: Your Complete Beginner to Advanced Class",
         "Learn the essential tools of Adobe Photoshop CC to jump right in and design beautiful graphics and photos in Photoshop.",
         470991,
         4.6,
         16005,
         "https://www.udemy.com/course/adobe-photoshop-course/",
         "design",
         "[Top-Rated Instructor  2.5 Million+ Students",
         389023,
         2625059,
         512841,
         204,
         4.6,
         " https://img-c.udemycdn.com/course/240x135/927356_8108_6.jpg",
         4.6,
         20595,
         " Phil Ebiner",
         "12/2022",
         "2023-03-06T14:58:34.549+0000"
        ],
        [
         10,
         "Wordpress for Beginners - Master Wordpress Quickly",
         "In 2020, build a beautiful responsive Wordpress site that looks great on all devices. No experience required.",
         64732,
         4.5,
         15045,
         "https://www.udemy.com/course/wordpress-for-beginners-course/",
         "design",
         "[Wordpress  SEO & Self-Publishing Expert  teacher and author",
         36450,
         163056,
         112248,
         31,
         4.6,
         " https://img-b.udemycdn.com/course/240x135/355212_948a_10.jpg",
         4.6,
         26457,
         " Andrew Williams",
         "02/2023",
         "2023-03-06T14:58:34.549+0000"
        ],
        [
         11,
         "Adobe Photoshop CC – Essentials Training Course",
         "This Adobe Photoshop Essentials course will teach you Photoshop Retouching as well as Photoshop for graphic design.",
         53888,
         4.7,
         14453,
         "https://www.udemy.com/course/adobe-photoshop-cc-essentials-training-course/",
         "design",
         "[Adobe Certified Instructor & Adobe Certified Expert",
         193417,
         618157,
         116195,
         33,
         4.7,
         " https://img-c.udemycdn.com/course/240x135/1747782_399b_3.jpg",
         4.8,
         29372,
         " Daniel Walter Scott",
         "04/2022",
         "2023-03-06T14:58:34.549+0000"
        ],
        [
         12,
         "Graphic Design Bootcamp: Photoshop, Illustrator, InDesign",
         "Bestselling Beginner Course! Use Photoshop, Illustrator, & InDesign for logo design, web design, poster design, and more",
         86585,
         4.5,
         13338,
         "https://www.udemy.com/course/graphic-design-for-beginners/",
         "design",
         "[Creative Director; Online Teacher to over 128 000 students",
         18745,
         156510,
         116149,
         12,
         4.5,
         " https://img-c.udemycdn.com/course/240x135/749542_4762_3.jpg",
         4.4,
         15955,
         " Derrick Mitchell",
         "11/2022",
         "2023-03-06T14:58:34.549+0000"
        ],
        [
         13,
         "The complete AutoCAD 2018-21 course",
         "A complete course for learning AutoCAD from scratch to professional level",
         48556,
         4.6,
         13295,
         "https://www.udemy.com/course/autocad-2018-course/",
         "design",
         "[Author of Practical AutoCAD Book by Packt publication",
         37840,
         242179,
         89718,
         12,
         4.6,
         " https://img-b.udemycdn.com/course/240x135/1271196_5ffa_2.jpg",
         4.6,
         23536,
         " Jaiprakash Pandey",
         "05/2022",
         "2023-03-06T14:58:34.549+0000"
        ],
        [
         14,
         "Web Design for Beginners: Real World Coding in HTML & CSS",
         "Launch a career as a web designer by learning HTML5, CSS3, responsive design, Sass and more!",
         47169,
         4.6,
         12888,
         "https://www.udemy.com/course/web-design-for-beginners-real-world-coding-in-html-css/",
         "design",
         "[Web Developer",
         65329,
         221294,
         83064,
         8,
         4.7,
         " https://img-c.udemycdn.com/course/240x135/246154_d8b0_3.jpg",
         4.6,
         23418,
         " Brad Schiff",
         "07/2020",
         "2023-03-06T14:58:34.549+0000"
        ],
        [
         15,
         "Adobe Illustrator CC - Essentials Training Course",
         "Learn Adobe Illustrator CC graphic design, logo design, and more with this in-depth, practical, easy-to-follow course!",
         45570,
         4.7,
         12250,
         "https://www.udemy.com/course/adobe-illustrator-course/",
         "design",
         "[Learn Creative Skills",
         193417,
         618157,
         97482,
         33,
         4.7,
         " https://img-b.udemycdn.com/course/240x135/1514258_3768_3.jpg",
         4.8,
         23828,
         " Video School",
         "04/2022",
         "2023-03-06T14:58:34.549+0000"
        ],
        [
         16,
         "UX & Web Design Master Course: Strategy, Design, Development",
         "Learn how to apply User Experience (UX) principles to your website designs, code a variety of sites, and increase sales!",
         80706,
         4.5,
         11401,
         "https://www.udemy.com/course/ux-web-design-master-course-strategy-design-development/",
         "design",
         "[30-year UX + Design Veteran; Consultant  Author & Speaker",
         51672,
         226563,
         100540,
         11,
         4.5,
         " https://img-c.udemycdn.com/course/240x135/412738_4543_2.jpg",
         4.4,
         14400,
         " Joe Natoli",
         "03/2020",
         "2023-03-06T14:58:34.549+0000"
        ],
        [
         17,
         "Drawing and Painting on the iPad with Procreate",
         "Learn everything you need to know about Procreate with hands on drawing lessons. Now updated for Procreate 5.",
         40443,
         4.7,
         10886,
         "https://www.udemy.com/course/drawing-and-painting-on-the-ipad-with-procreate/",
         "design",
         "[Freelance Designer and Illustrator",
         24246,
         89560,
         70413,
         10,
         4.7,
         " https://img-c.udemycdn.com/course/240x135/1081714_3862.jpg",
         4.7,
         16836,
         " Brad Colbow",
         "12/2021",
         "2023-03-06T14:58:34.549+0000"
        ],
        [
         18,
         "User Experience Design Fundamentals",
         "Design Web Sites and Mobile Apps that Your Users Love and Return to Again and Again with UX Expert Joe Natoli.",
         74042,
         4.4,
         9223,
         "https://www.udemy.com/course/user-experience-design-fundamentals/",
         "design",
         "[30-year UX + Design Veteran; Consultant  Author & Speaker",
         51672,
         226563,
         98778,
         11,
         4.5,
         " https://img-c.udemycdn.com/course/240x135/58207_2ec2_7.jpg",
         4.4,
         14250,
         " Joe Natoli",
         "12/2019",
         "2023-03-06T14:58:34.549+0000"
        ],
        [
         19,
         "Adobe InDesign CC - Essentials Training Course",
         "Build company newsletters, brochures, annual reports. Learn typography, color theory & graphic design skills in InDesign",
         35860,
         4.7,
         9158,
         "https://www.udemy.com/course/indesign-tutorial-basics-course/",
         "design",
         "[Adobe Certified Instructor & Adobe Certified Expert",
         193417,
         618157,
         58943,
         33,
         4.7,
         " https://img-c.udemycdn.com/course/240x135/1316728_26f9_6.jpg",
         4.7,
         15349,
         " Daniel Walter Scott",
         "11/2021",
         "2023-03-06T14:58:34.549+0000"
        ],
        [
         20,
         "After Effects CC Masterclass: Complete After Effects Course",
         "Learn After Effects CC to improve your videos with professional motion graphics and visual effects.",
         323449,
         4.6,
         8784,
         "https://www.udemy.com/course/after-effects-cc/",
         "design",
         "[Top-Rated Instructor  2.5 Million+ Students",
         389023,
         2625059,
         341633,
         204,
         4.6,
         " https://img-c.udemycdn.com/course/240x135/927360_bab9_5.jpg",
         4.6,
         12654,
         " Phil Ebiner",
         "08/2022",
         "2023-03-06T14:58:34.549+0000"
        ],
        [
         21,
         "CSS - The Complete Guide 2020 (incl. Flexbox, Grid & Sass)",
         "Learn CSS for the first time or brush up your CSS skills and dive in even deeper. EVERY web developer has to know CSS.",
         43083,
         4.7,
         8605,
         "https://www.udemy.com/course/css-the-complete-guide-incl-flexbox-grid-sass/",
         "design",
         "[Online Education",
         102033,
         1065927,
         86701,
         11,
         4.6,
         " https://img-c.udemycdn.com/course/240x135/1561458_7f3b_2.jpg",
         4.7,
         16005,
         " Academind by Maximilian Schwarzmüller",
         "11/2022",
         "2023-03-06T14:58:34.549+0000"
        ],
        [
         22,
         "Photoshop CC 2020 MasterClass",
         "Master the World's Best Imaging and Design Application and Become an Adobe Certified Associate.",
         45107,
         4.6,
         8020,
         "https://www.udemy.com/course/photoshop-cc-masterclass/",
         "design",
         "[Yes I'm a Designer",
         51190,
         210197,
         58673,
         26,
         4.6,
         " https://img-c.udemycdn.com/course/240x135/850426_5596_4.jpg",
         4.7,
         10634,
         " Martin Perhiniak",
         "01/2022",
         "2023-03-06T14:58:34.549+0000"
        ],
        [
         23,
         "Sketch from A to Z (2020): Become an app designer",
         "Finally a comprehensive guide to using Sketch for designing mobile applications. Learn to design an app from A to Z.",
         27489,
         4.7,
         7704,
         "https://www.udemy.com/course/learnsketch3/",
         "design",
         "[UI/UX Designer & Professor of Design",
         10389,
         39027,
         36710,
         3,
         4.6,
         " https://img-c.udemycdn.com/course/240x135/371074_6c73_2.jpg",
         4.6,
         9990,
         " Joseph Angelo Todaro",
         "08/2021",
         "2023-03-06T14:58:34.549+0000"
        ],
        [
         24,
         "WordPress Theme Development with Bootstrap",
         "Learn how to confidently develop custom & profitable Responsive WordPress Themes and Websites with no prior experience.",
         46795,
         4.3,
         7501,
         "https://www.udemy.com/course/bootstrap-to-wordpress/",
         "design",
         "[Web Designer  Creator & Marketing Consultant",
         63394,
         589582,
         53039,
         12,
         4.5,
         " https://img-b.udemycdn.com/course/240x135/271228_ce5b_9.jpg",
         4.4,
         8223,
         " Brad Hussey",
         "02/2022",
         "2023-03-06T14:58:34.549+0000"
        ],
        [
         25,
         "Creating 3D environments in Blender",
         "This course helps you creating wonderful environment scenes, organizing your workflow, and find the right inspiration.",
         61021,
         4.5,
         7481,
         "https://www.udemy.com/course/blender-environments/",
         "design",
         "[Co-Founder Polyhaven",
         11973,
         96695,
         96715,
         1,
         4.6,
         " https://img-c.udemycdn.com/course/240x135/683198_ef78_8.jpg",
         4.6,
         11973,
         " Rob Tuytel",
         "12/2022",
         "2023-03-06T14:58:34.549+0000"
        ],
        [
         26,
         "Photoshop In-Depth: Master all of Photoshop's Tools Easily",
         "Learn the many tools in Adobe Photoshop with in-depth lectures that explain the tool uses, options + modes in Photoshop.",
         165767,
         4.4,
         7451,
         "https://www.udemy.com/course/photoshop-tools/",
         "design",
         "[Professor / Graphic Designer / Photographer 20+ yrs exp.",
         28674,
         536330,
         167206,
         15,
         4.4,
         " https://img-c.udemycdn.com/course/240x135/348116_e9d8_5.jpg",
         4.2,
         7841,
         " Chad Neuman Ph.D.",
         "03/2021",
         "2023-03-06T14:58:34.549+0000"
        ],
        [
         27,
         "The Complete App Design Course - UX, UI and Design Thinking",
         "Learn App Design to Make Beautiful, Lovable Apps",
         31444,
         4.4,
         6848,
         "https://www.udemy.com/course/the-complete-app-design-course-ux-and-ui-design/",
         "design",
         "[in-Person & Online Development Bootcamp",
         11456,
         74152,
         45361,
         6,
         4.4,
         " https://img-c.udemycdn.com/course/240x135/1184844_3714.jpg",
         4.4,
         10403,
         " App Brewery Co.",
         "11/2019",
         "2023-03-06T14:58:34.549+0000"
        ],
        [
         115,
         "Fundamentals of Garden Design",
         "An Introduction to Landscape Design",
         6729,
         4.4,
         1733,
         "https://www.udemy.com/course/fundamentals-of-garden-design/",
         "design",
         "[Landscape Architect & Educator",
         3878,
         17218,
         14802,
         8,
         4.5,
         " https://img-c.udemycdn.com/course/240x135/1242820_a019_2.jpg",
         4.5,
         3453,
         " Rob Littlepage",
         "08/2022",
         "2023-03-06T14:58:34.549+0000"
        ],
        [
         28,
         "The Ultimate Digital Painting Course - Beginner to Advanced",
         "Everything from drawing fundamentals to professional painting techniques",
         39814,
         4.5,
         6350,
         "https://www.udemy.com/course/the-ultimate-digital-painting-course-beginner-to-advanced/",
         "design",
         "[Illustrator & Designer",
         33057,
         257017,
         90381,
         15,
         4.5,
         " https://img-c.udemycdn.com/course/240x135/869812_1fc8_3.jpg",
         4.5,
         14424,
         " Jaysen Batchelor",
         "03/2022",
         "2023-03-06T14:58:34.549+0000"
        ],
        [
         29,
         "Become a Game Designer the Complete Series Coding to Design",
         "Master Unity, 3D game design, 2D game design, coding, C#, game development, 3D animation, programming, level design...",
         54712,
         4.2,
         6299,
         "https://www.udemy.com/course/become-a-game-designer/",
         "design",
         "[Real world training from game design experts!",
         15967,
         206050,
         67007,
         12,
         4.4,
         " https://img-c.udemycdn.com/course/240x135/526534_04bb_4.jpg",
         4.5,
         7910,
         " [ School of Game Design ]",
         "01/2023",
         "2023-03-06T14:58:34.549+0000"
        ],
        [
         30,
         "Landing Page Design & Conversion Rate Optimization 2018",
         "Triple Your Conversion Rate With These Landing Page Design Principles & Build A Landing Page From Scratch With No Code",
         35578,
         4.7,
         6248,
         "https://www.udemy.com/course/landing-page-design-best-practices/",
         "design",
         "[Certified Google AdWords Pro |Co-founder of AdVenture Media",
         63417,
         239054,
         42092,
         4,
         4.6,
         " https://img-c.udemycdn.com/course/240x135/1048360_8a17.jpg",
         4.6,
         7472,
         " Isaac Rudansky",
         "10/2021",
         "2023-03-06T14:58:34.549+0000"
        ],
        [
         31,
         "The Complete Graphic Design Theory for Beginners Course",
         "Learn Graphic Design Theory and the Basic Principles of Color Theory, Typography, Branding, Logo Design, Layout & More!",
         26910,
         4.6,
         6094,
         "https://www.udemy.com/course/graphic-design-theory-for-beginners-course/",
         "design",
         "[300 000+ Students | Graphic Design  Adobe  Affinity & More",
         24915,
         274401,
         64062,
         16,
         4.6,
         " https://img-c.udemycdn.com/course/240x135/1864390_96a5_2.jpg",
         4.6,
         15290,
         " Lindsay Marsh",
         "02/2022",
         "2023-03-06T14:58:34.549+0000"
        ],
        [
         32,
         "Crash Course Electronics and PCB Design",
         "Learn Electronics and PCB Design from the Ground up with Altium CircuitMaker and Labcenter Proteus",
         30117,
         4.6,
         6014,
         "https://www.udemy.com/course/crash-course-electronics-and-pcb-design/",
         "design",
         "[Computer Scientist / Embedded Engineer / Author",
         12028,
         66247,
         66281,
         1,
         4.6,
         " https://img-c.udemycdn.com/course/240x135/401998_6e4a.jpg",
         4.6,
         12028,
         " Andre LaMothe",
         "02/2023",
         "2023-03-06T14:58:34.549+0000"
        ],
        [
         33,
         "DESIGN RULES: Principles + Practices for Great UI Design",
         "Learn to design powerful user interfaces for apps, sites and systems",
         21705,
         4.6,
         5774,
         "https://www.udemy.com/course/design-rules/",
         "design",
         "[30-year UX + Design Veteran; Consultant  Author & Speaker",
         51672,
         226563,
         42643,
         11,
         4.5,
         " https://img-c.udemycdn.com/course/240x135/1595266_8fe6.jpg",
         4.7,
         11212,
         " Joe Natoli",
         "05/2018",
         "2023-03-06T14:58:34.549+0000"
        ],
        [
         34,
         "Photoshop Beginners Mastery: Zero to Hero in Photoshop",
         "Learn Photoshop quickly and easily with essentials of Adobe Photoshop to produce beautiful images in Adobe Photoshop.",
         215917,
         4.3,
         5731,
         "https://www.udemy.com/course/getting-started-in-photoshop/",
         "design",
         "[Professor / Graphic Designer / Photographer 20+ yrs exp.",
         28674,
         536330,
         218718,
         15,
         4.4,
         " https://img-c.udemycdn.com/course/240x135/348146_9dc0_7.jpg",
         4.4,
         6334,
         " Chad Neuman Ph.D.",
         "05/2020",
         "2023-03-06T14:58:34.549+0000"
        ],
        [
         35,
         "How to Work with Interior Design Styles Like a Pro",
         "Interior Design Styles Demystified",
         27388,
         4.4,
         5717,
         "https://www.udemy.com/course/learn-how-to-work-with-interior-design-styles-like-a-pro/",
         "design",
         "[Interior Designer",
         29452,
         88946,
         47826,
         10,
         4.5,
         " https://img-c.udemycdn.com/course/240x135/1136678_f12f_3.jpg",
         4.4,
         9563,
         " Erikka Fogleman",
         "10/2022",
         "2023-03-06T14:58:34.549+0000"
        ],
        [
         36,
         "Learn Photoshop, Web Design & Profitable Freelancing",
         "Learn Photoshop and use it to create amazing website designs and create a high, stable income. No coding needed!",
         41283,
         4.4,
         5614,
         "https://www.udemy.com/course/learn-photoshop-web-design-profitable-freelancing/",
         "design",
         "[Certified Photoshop Instructor & Expert  Web & App Designer",
         39472,
         272735,
         46217,
         12,
         4.7,
         " https://img-c.udemycdn.com/course/240x135/957940_4115_4.jpg",
         4.6,
         6421,
         " Cristian Doru Barin",
         "01/2023",
         "2023-03-06T14:58:34.549+0000"
        ],
        [
         37,
         "Learn Adobe Photoshop from Scratch",
         "The Complete Beginners Guide for Learning Adobe Photoshop",
         84955,
         4.3,
         5443,
         "https://www.udemy.com/course/learn-adobe-photoshop-from-scratch/",
         "design",
         "[1+ Million Students Worldwide | 200+ Courses",
         73526,
         1226544,
         85456,
         170,
         3.9,
         " https://img-c.udemycdn.com/course/240x135/270816_7956_3.jpg",
         4.4,
         5595,
         " Eduonix Learning Solutions",
         "12/2018",
         "2023-03-06T14:58:34.549+0000"
        ],
        [
         38,
         "User Experience (UX): The Ultimate Guide to Usability and UX",
         "Get a job in UX and build your user research and UX design skills with this hands-on user experience training course.",
         19033,
         4.6,
         5230,
         "https://www.udemy.com/course/ultimate-guide-to-ux/",
         "design",
         "[Author of 'Think Like a UX Researcher'",
         10363,
         63351,
         22513,
         5,
         4.5,
         " https://img-c.udemycdn.com/course/240x135/28258_8a7e_14.jpg",
         4.6,
         6396,
         " David Travis",
         "04/2020",
         "2023-03-06T14:58:34.549+0000"
        ],
        [
         0,
         "Cinematography Course: Shoot Expert Video on Any Camera",
         "Your Online Guide to Professional Cinematography. Learn to Shoot Stunning Video Like a Professional With Any Camera.",
         7983,
         4.5,
         2335,
         "https://www.udemy.com/course/cinematographycourse/",
         "photography",
         "[Pro Photographer  Videographer  Award Winning Youtuber",
         30193,
         119834,
         12558,
         5,
         4.5,
         " https://img-b.udemycdn.com/course/240x135/1488956_955e.jpg",
         4.6,
         3567,
         " Dale McManus",
         "06/2018",
         "2023-03-06T14:58:34.549+0000"
        ],
        [
         1,
         "Adobe Premiere Pro CC 2020: Video Editing for Beginners",
         "Learn how to edit amazing videos in Adobe Premiere Pro CC 2020 with zero experience.",
         203666,
         4.5,
         2320,
         "https://www.udemy.com/course/premiere-pro-with-brad-newton/",
         "photography",
         "[Fitness Coach & YouTuber | 312 000+ Students",
         6635,
         313783,
         212024,
         5,
         4.6,
         " https://img-b.udemycdn.com/course/240x135/1920686_e0f7_8.jpg",
         4.6,
         3647,
         " Brad Newton",
         "11/2021",
         "2023-03-06T14:58:34.549+0000"
        ],
        [
         2,
         "The Complete Final Cut Pro X Course Beginner To Intermediate",
         "In this complete course students will learn how to edit their videos using Final Cut Pro X from beginner to intermediate",
         17236,
         4.4,
         2111,
         "https://www.udemy.com/course/finalcutproxcourse/",
         "photography",
         "[Top-Rated Instructor  800 000+ Students",
         68614,
         913947,
         23012,
         85,
         4.3,
         " https://img-c.udemycdn.com/course/240x135/1400814_c83d_2.jpg",
         4.1,
         3363,
         " Joe Parys",
         "11/2020",
         "2023-03-06T14:58:34.549+0000"
        ],
        [
         3,
         "Photography - Become a Better Photographer - Part I",
         "See results today! 50 photography tips for taking amazing photos with your DSLR, Mirrorless or compact camera.",
         14264,
         4.7,
         1663,
         "https://www.udemy.com/course/great-photography-tips-photo-tutorials/",
         "photography",
         "[Award winning portrait & (ex) wedding photographer",
         4984,
         29119,
         15942,
         7,
         4.6,
         " https://img-c.udemycdn.com/course/240x135/15392_15b9_30.jpg",
         4.6,
         1969,
         " Bernie Raffe AMPA",
         "10/2020",
         "2023-03-06T14:58:34.549+0000"
        ],
        [
         4,
         "GIMP 2.10 Masterclass: From Beginner to Pro Photo Editing",
         "GIMP 2.10 Complete Guide - Learn the Free Photo Editor GIMP. Go From a Beginner to Pro in Photo Editing & Graphic Design",
         6314,
         4.6,
         1598,
         "https://www.udemy.com/course/gimp-photo-editing/",
         "photography",
         "[10+ Year GIMP & WordPress Expert  Designer & Photographer",
         3389,
         13623,
         13225,
         3,
         4.6,
         " https://img-c.udemycdn.com/course/240x135/1145580_bfd0_10.jpg",
         4.6,
         3188,
         " Michael Davies",
         "02/2023",
         "2023-03-06T14:58:34.549+0000"
        ],
        [
         5,
         "Wedding Photography: Complete Guide to Wedding Photography",
         "Learn exactly how to become a wedding photographer, start a photo business of your own, and shoot better wedding photos.",
         74287,
         4.6,
         1587,
         "https://www.udemy.com/course/wedding-photography-course/",
         "photography",
         "[Top-Rated Instructor  2.5 Million+ Students",
         389023,
         2625059,
         76090,
         204,
         4.6,
         " https://img-b.udemycdn.com/course/240x135/557386_009f_5.jpg",
         4.8,
         1933,
         " Phil Ebiner",
         "02/2023",
         "2023-03-06T14:58:34.549+0000"
        ],
        [
         6,
         "Night Photography: You Can Shoot Stunning Night Photos",
         "You will shoot amazing night photos that impress your family and friends with this complete night photography course!",
         93955,
         4.4,
         1586,
         "https://www.udemy.com/course/night-photography/",
         "photography",
         "[Top-Rated Instructor  2.5 Million+ Students",
         389023,
         2625059,
         105698,
         204,
         4.6,
         " https://img-c.udemycdn.com/course/240x135/1171588_ab12_9.jpg",
         4.5,
         2222,
         " Phil Ebiner",
         "09/2022",
         "2023-03-06T14:58:34.549+0000"
        ],
        [
         7,
         "VIDEO CINEMATOGRAPHY techniques loved by pro filmmakers",
         "Creative video. Learn what pro broadcast camera ops do to grab and excite an audience. Taught by a pro broadcaster",
         7843,
         4.5,
         1564,
         "https://www.udemy.com/course/motivate-inspire-and-empower-your-video-audience/",
         "photography",
         "[Award-winning TV broadcaster and director",
         7103,
         27907,
         9798,
         8,
         4.5,
         " https://img-c.udemycdn.com/course/240x135/420242_a7fb_9.jpg",
         4.6,
         1980,
         " Andrew St.Pierre White",
         "03/2018",
         "2023-03-06T14:58:34.549+0000"
        ],
        [
         8,
         "Learn Landscape Photography",
         "Get inspired | Learn more | Go places",
         31947,
         3.8,
         1553,
         "https://www.udemy.com/course/learn-landscapes/",
         "photography",
         "[Pro photographer | Qualified teacher | Photoshop expert",
         3299,
         56526,
         32110,
         7,
         4.3,
         " https://img-c.udemycdn.com/course/240x135/1138246_094d.jpg",
         4.0,
         1624,
         " Ray Salisbury",
         "05/2018",
         "2023-03-06T14:58:34.549+0000"
        ],
        [
         9,
         "Complete Photography : 21 Courses in 1 [Beginner to Expert]",
         "Learn Portrait Photography, Landscape Photography, Stock Photography, Photography Composition, Black and White, and more",
         69461,
         4.3,
         1462,
         "https://www.udemy.com/course/interactive-photography-basics/",
         "photography",
         "[Creative & Engaging Online Courses",
         32596,
         1329791,
         192047,
         20,
         4.1,
         " https://img-b.udemycdn.com/course/240x135/1644218_1b3a.jpg",
         4.3,
         2735,
         " Creative Online School",
         "08/2020",
         "2023-03-06T14:58:34.549+0000"
        ],
        [
         10,
         "Adobe Lightroom CC + Classic // Learn Photo Editing by Pro",
         "Lightroom - Learn all my Lightroom CC Classic secrets & photo editing techniques. Get organized & make your images pop!",
         12372,
         4.5,
         1443,
         "https://www.udemy.com/course/master-adobe-lightroom-6-in-1-day/",
         "photography",
         "[Photography | Photoshop | Lightroom | GIMP | Taught by a Pro",
         13633,
         238075,
         17602,
         33,
         4.5,
         " https://img-c.udemycdn.com/course/240x135/557194_faae_18.jpg",
         4.6,
         2245,
         " Chris Parker",
         "03/2023",
         "2023-03-06T14:58:34.549+0000"
        ],
        [
         11,
         "Long Exposure Photography: Shoot Your Own Stunning Photos",
         "A quick start long exposure tutorial that will get you shooting beautiful photographs with your DSLR and iPhone cameras.",
         20797,
         4.8,
         1403,
         "https://www.udemy.com/course/long-exposure-photography-tutorial/",
         "photography",
         "[Top-Rated Instructor  2.5 Million+ Students",
         389023,
         2625059,
         21109,
         204,
         4.6,
         " https://img-c.udemycdn.com/course/240x135/673836_f50c_4.jpg",
         4.3,
         1456,
         " Phil Ebiner",
         "09/2022",
         "2023-03-06T14:58:34.549+0000"
        ],
        [
         12,
         "Color Grading with Da Vinci Resolve: Beginner to Advanced",
         "Learn to grade like a professional with hands-on projects and guidance!",
         7739,
         4.4,
         1327,
         "https://www.udemy.com/course/color-grading-with-da-vinci-resolve-beginner-to-advanced/",
         "photography",
         "[Freelance Colourist and Visiting Lecturer at Met Film School",
         3622,
         20353,
         19075,
         2,
         4.5,
         " https://img-c.udemycdn.com/course/240x135/1924662_bf54_3.jpg",
         4.5,
         3127,
         " Matthew Falconer",
         "03/2023",
         "2023-03-06T14:58:34.549+0000"
        ],
        [
         13,
         "Street Photography: How I approach people on the streets...",
         "Learn how to get over your fear, how to approach people and how to improve the creativity and quality of your photos.",
         31866,
         4.3,
         1320,
         "https://www.udemy.com/course/streetphotography/",
         "photography",
         "[Streetphotography",
         4530,
         75114,
         32203,
         6,
         4.5,
         " https://img-c.udemycdn.com/course/240x135/272718_657b_4.jpg",
         4.2,
         1399,
         " Thomas Leuthard",
         "10/2014",
         "2023-03-06T14:58:34.549+0000"
        ],
        [
         14,
         "Photography Composition & Portrait Photography Masterclass",
         "Studio Photography Lighting / Street Photography / Creative Photography / DSLR Photography / Black & White Photography",
         11280,
         4.6,
         1265,
         "https://www.udemy.com/course/creative-photography-composition-masterclass/",
         "photography",
         "[Professional Online Training Courses For Beginners",
         7020,
         116780,
         13116,
         3,
         4.5,
         " https://img-b.udemycdn.com/course/240x135/1039840_2c07_2.jpg",
         4.3,
         1605,
         " Mark Timberlake",
         "09/2022",
         "2023-03-06T14:58:34.549+0000"
        ],
        [
         15,
         "Phantom & Mavic Filmschool 1- master autopilot with Litchi",
         "Use autopilot to get amazing cinematic shots with your drone. You will master the Litchi app & take pro footage!",
         4316,
         4.6,
         1252,
         "https://www.udemy.com/course/phantom-filmschool/",
         "photography",
         "[Aerial videographer",
         5130,
         28424,
         4504,
         9,
         4.5,
         " https://img-c.udemycdn.com/course/240x135/702694_9ea6_4.jpg",
         4.5,
         1284,
         " Laurence Seberini",
         "02/2019",
         "2023-03-06T14:58:34.549+0000"
        ],
        [
         0,
         "The Art & Science of Figure Drawing: GESTURE",
         "Learn everything you need to know about drawing dynamic, expressive figures.",
         15138,
         4.8,
         2282,
         "https://www.udemy.com/course/figuredrawing/",
         "life_style",
         "[Artist and Instructor",
         28596,
         102192,
         25419,
         12,
         4.8,
         " https://img-c.udemycdn.com/course/240x135/1693410_733a.jpg",
         4.8,
         3977,
         " Brent Eviston",
         "11/2021",
         "2023-03-06T14:58:34.549+0000"
        ],
        [
         1,
         "Paint Realistic Watercolor and Botanicals - STUDIO BASICS",
         "This foundation tutorial will help you understand essential work+studio basics for realistic watercolour and botanicals",
         11845,
         4.5,
         2265,
         "https://www.udemy.com/course/paint-realistic-watercolor-and-botanicals-studio-basics/",
         "life_style",
         "[Renowned Watercolor Artist and Art Tutor",
         4508,
         19028,
         15630,
         5,
         4.7,
         " https://img-c.udemycdn.com/course/240x135/838056_611a_3.jpg",
         4.6,
         2913,
         " Heidi Willis",
         "08/2016",
         "2023-03-06T14:58:34.549+0000"
        ],
        [
         2,
         "Anime Drawing for Beginners",
         "Learn how to draw characters in Anime Style!",
         10141,
         4.6,
         2231,
         "https://www.udemy.com/course/anime-drawing-for-beginners/",
         "life_style",
         "[Webtoon Artist",
         3084,
         14716,
         13947,
         4,
         4.7,
         " https://img-c.udemycdn.com/course/240x135/1358653_3213.jpg",
         4.7,
         2966,
         " Pluvias .",
         "03/2018",
         "2023-03-06T14:58:34.549+0000"
        ],
        [
         3,
         "HOW TO PAINT FROM BEGINNER TO MASTER",
         "Oil Painting For All Skill Levels",
         11658,
         4.6,
         2018,
         "https://www.udemy.com/course/how-to-paint-from-beginner-to-master/",
         "life_style",
         "[Top Art Instructor",
         13655,
         84481,
         19469,
         4,
         4.8,
         " https://img-b.udemycdn.com/course/240x135/1660258_a710_3.jpg",
         4.7,
         3485,
         " Joseph Patric Daniels",
         "10/2022",
         "2023-03-06T14:58:34.549+0000"
        ],
        [
         4,
         "Inside Your Dog's Mind with Victoria Stilwell",
         "Understanding canine behavior and how dogs think, feel and learn to make dog training easier & more effective.",
         8550,
         4.4,
         1957,
         "https://www.udemy.com/course/insideyourdogsmind/",
         "life_style",
         "[Dog Trainer & Behavior Expert",
         2489,
         10499,
         10499,
         1,
         4.4,
         " https://img-c.udemycdn.com/course/240x135/1177482_cafc.jpg",
         4.4,
         2489,
         " Victoria Stilwell",
         "05/2017",
         "2023-03-06T14:58:34.549+0000"
        ],
        [
         5,
         "The Beginner's Guide to Digital Art with Procreate on iPad!",
         "Learn the basics of digital art on your iPad with these step-by-step lessons for Procreate, a powerful digital art app!",
         8864,
         4.6,
         1852,
         "https://www.udemy.com/course/procreate-guide/",
         "life_style",
         "[Professional colorist & art instructor",
         9306,
         50534,
         11756,
         12,
         4.6,
         " https://img-c.udemycdn.com/course/240x135/1338296_cdd3.jpg",
         4.5,
         2519,
         " Kurt Michael Russell",
         "05/2020",
         "2023-03-06T14:58:34.549+0000"
        ],
        [
         6,
         "Essential Cooking Skills",
         "Cook like a pro, master the basic techniques used in the World's culinary industry! Key Techniques - Part 1",
         9172,
         4.5,
         1797,
         "https://www.udemy.com/course/essential-cooking-skills/",
         "life_style",
         "[Cooking Instructor",
         4172,
         17910,
         16461,
         4,
         4.5,
         " https://img-c.udemycdn.com/course/240x135/1113854_d302_2.jpg",
         4.4,
         3427,
         " Viorel Copolovici",
         "11/2017",
         "2023-03-06T14:58:34.549+0000"
        ],
        [
         7,
         "The Art & Science of Drawing / DYNAMIC MARK MAKING",
         "Create compelling drawings using expressive mark making.",
         10246,
         4.7,
         1765,
         "https://www.udemy.com/course/the-art-science-of-drawing-week-two-dynamic-mark-making/",
         "life_style",
         "[Artist and Instructor",
         28596,
         102192,
         14880,
         12,
         4.8,
         " https://img-c.udemycdn.com/course/240x135/1065192_abb5.jpg",
         4.8,
         2740,
         " Brent Eviston",
         "08/2017",
         "2023-03-06T14:58:34.549+0000"
        ],
        [
         8,
         "The Art & Science of Drawing / FORM & SPACE",
         "Learn to draw in 3-Dimensions",
         14913,
         4.8,
         1732,
         "https://www.udemy.com/course/the-art-science-of-drawing-weeks-3-4-form-space/",
         "life_style",
         "[Artist and Instructor",
         28596,
         102192,
         22587,
         12,
         4.8,
         " https://img-c.udemycdn.com/course/240x135/1071120_b439_2.jpg",
         4.8,
         2764,
         " Brent Eviston",
         "01/2017",
         "2023-03-06T14:58:34.549+0000"
        ],
        [
         9,
         "Dr. Ian Dunbar's SIRIUS® Dog Trainer Academy - All 4 Days",
         "Learn how to train dogs the SIRIUS® way! Learn how to run and promote your own dog-friendly dog training business.",
         14836,
         4.6,
         1706,
         "https://www.udemy.com/course/sirius-dog-trainer-academy-4days/",
         "life_style",
         "[Expert dog trainer  veterinarian and animal behaviorist",
         14024,
         56639,
         17502,
         22,
         4.6,
         " https://img-c.udemycdn.com/course/240x135/53424_d671_8.jpg",
         4.5,
         2098,
         " Ian Dunbar",
         "03/2017",
         "2023-03-06T14:58:34.549+0000"
        ],
        [
         10,
         "Foundations for Mastering Watercolor Painting",
         "An in-depth, approachable look at painting materials that will make mastering the medium truly possible.",
         7317,
         4.7,
         1637,
         "https://www.udemy.com/course/foundations-for-mastering-watercolor-painting/",
         "life_style",
         "[Professional Artist and Fine Arts Educator",
         7321,
         24714,
         10270,
         8,
         4.7,
         " https://img-c.udemycdn.com/course/240x135/949316_2a64_11.jpg",
         4.8,
         2488,
         " Jill Poyerd",
         "05/2020",
         "2023-03-06T14:58:34.549+0000"
        ],
        [
         11,
         "Emotional Intelligence (EQ) Practitioner Cert (ACCREDITED)",
         "Uncover the powerful Emotional Intelligence change framework & help yourself and others with Emotional Intelligence",
         7944,
         4.5,
         1607,
         "https://www.udemy.com/course/emotional-intelligence-practitioner-certification/",
         "life_style",
         "[Best Selling Instructor - Emotional & Behavioural Therapies",
         27463,
         118533,
         13443,
         15,
         4.7,
         " https://img-b.udemycdn.com/course/240x135/2226926_9301_3.jpg",
         4.6,
         2938,
         " Graham Nicholls",
         "11/2022",
         "2023-03-06T14:58:34.549+0000"
        ],
        [
         12,
         "The Complete Guide to League of Legends",
         "Learn how to improve your game mechanics, micro/macro knowledge, and rank from former LCS coach, NicoThePico.",
         4708,
         4.5,
         1599,
         "https://www.udemy.com/course/the-complete-guide-to-league-of-legends/",
         "life_style",
         "[Exclusive courses for gamers  streamers and content creators",
         1749,
         5389,
         5283,
         2,
         4.0,
         " https://img-c.udemycdn.com/course/240x135/1712886_5ce0.jpg",
         3.8,
         1724,
         " LVLUP Dojo",
         "10/2018",
         "2023-03-06T14:58:34.549+0000"
        ],
        [
         13,
         "Meditation Practitioner / Teacher Certification (ACCREDITED)",
         "A fully Accredited Meditation Practitioner / Teacher Certification course taking you from beginner to professional level",
         6390,
         4.7,
         1571,
         "https://www.udemy.com/course/meditation-practitioner-teacher-certification-accredited/",
         "life_style",
         "[Best Selling Instructor - Emotional & Behavioural Therapies",
         27463,
         118533,
         15386,
         15,
         4.7,
         " https://img-c.udemycdn.com/course/240x135/2447384_5bd0_4.jpg",
         4.7,
         3962,
         " Graham Nicholls",
         "04/2022",
         "2023-03-06T14:58:34.549+0000"
        ],
        [
         14,
         "The Basics of Household Wiring. The Electrical System A to Z",
         "Everything Electricity, from your Circuit (Breaker) Panel, Outlets, Switches, Receptacles, Light Fixtures, Cable, Wire..",
         6405,
         4.3,
         1500,
         "https://www.udemy.com/course/learn-the-basics-of-household-wiring/",
         "life_style",
         "[The Internet Electrician",
         3026,
         13428,
         13428,
         1,
         4.2,
         " https://img-b.udemycdn.com/course/240x135/1005814_f1b7_4.jpg",
         4.2,
         3026,
         " Terry Peterman",
         "02/2018",
         "2023-03-06T14:58:34.549+0000"
        ],
        [
         15,
         "Healthy Cooking Fundamentals",
         "A practical course to take your cooking skills from dull to delicious",
         18576,
         4.4,
         1484,
         "https://www.udemy.com/course/up-beet-cooking-fundamentals/",
         "life_style",
         "[Health Supportive Chef  Founder of The Up Beet Kitchen",
         2268,
         22440,
         22440,
         1,
         4.5,
         " https://img-c.udemycdn.com/course/240x135/863126_a899_5.jpg",
         4.5,
         2268,
         " Chef Nic DeMuth",
         "06/2016",
         "2023-03-06T14:58:34.549+0000"
        ],
        [
         0,
         "How To Sing #1: Complete Vocal Warm ups & Voice Physiology",
         "Singing Lessons for Vocal Warm Up Tips & Voice Essentials",
         22215,
         4.6,
         2795,
         "https://www.udemy.com/course/singing-lessons-online/",
         "music",
         "[Vocal coach  songwriter  speaker & author. entreprenuer",
         5210,
         37724,
         27451,
         11,
         4.6,
         " https://img-c.udemycdn.com/course/240x135/450918_4af0_3.jpg",
         4.8,
         3476,
         " Roma Waterman",
         "03/2023",
         "2023-03-06T14:58:34.549+0000"
        ],
        [
         1,
         "Ultimate Ableton Live 10 COMPLETE: Parts 1, 2, and 3",
         "Learning Ableton Live 10 Suite through tutorials, tracks, and more. Learn the Live software download quickly and easily!",
         10865,
         4.4,
         2634,
         "https://www.udemy.com/course/ableton-live-10-complete/",
         "music",
         "[Ph.D / Ableton Certified Trainer",
         58096,
         260517,
         14232,
         111,
         4.6,
         " https://img-c.udemycdn.com/course/240x135/1592962_53fb_3.jpg",
         4.5,
         3429,
         " Jason Allen",
         "02/2023",
         "2023-03-06T14:58:34.549+0000"
        ],
        [
         2,
         "Elite Singing Techniques - Phase I",
         "Step by step singing system proven to develop great technique and vocal mastery, Results are immediate!",
         9680,
         4.7,
         2595,
         "https://www.udemy.com/course/elite-singing-techniques-phase-1/",
         "music",
         "[Professional Vocal Coach & Recording Artist",
         4656,
         50663,
         10945,
         3,
         4.8,
         " https://img-c.udemycdn.com/course/240x135/70030_c4e7_8.jpg",
         4.7,
         2958,
         " Eric Arceneaux",
         "09/2019",
         "2023-03-06T14:58:34.549+0000"
        ],
        [
         3,
         "SINGING SIMPLIFIED #1: The Fast-Track to Singing Like a Pro",
         "Find your unique voice naturally, while having FUN doing it! A modern approach to singing lessons & vocal training.",
         19026,
         4.6,
         2458,
         "https://www.udemy.com/course/singing-simplified/",
         "music",
         "[Musician  Songwriter  Teacher  Entrepreneur",
         7088,
         51313,
         34513,
         5,
         4.7,
         " https://img-c.udemycdn.com/course/240x135/1516474_7722.jpg",
         4.7,
         4216,
         " Steve Glazer",
         "02/2023",
         "2023-03-06T14:58:34.549+0000"
        ],
        [
         4,
         "Music Theory Comprehensive Complete: Part 4, 5, & 6",
         "Learn music theory through this music theory course app, music theory exercises, and music theory tutorials.",
         30767,
         4.7,
         2107,
         "https://www.udemy.com/course/music-theory-comprehensive-combined-part-4-5-6/",
         "music",
         "[Ph.D / Ableton Certified Trainer",
         58096,
         260517,
         42589,
         111,
         4.6,
         " https://img-c.udemycdn.com/course/240x135/1148430_c2a8_4.jpg",
         4.7,
         3213,
         " Jason Allen",
         "02/2023",
         "2023-03-06T14:58:34.549+0000"
        ],
        [
         5,
         "The Complete Piano & Music Theory Beginners Course",
         "Learn all piano and music theory basics quickly, and save big on months of initial private lessons!",
         17932,
         4.4,
         2044,
         "https://www.udemy.com/course/piano-lessons-music-theory-beginners-course/",
         "music",
         "[60 000+ Students  8 000+ Reviews  11 Courses",
         8591,
         69889,
         21885,
         11,
         4.6,
         " https://img-c.udemycdn.com/course/240x135/953152_83bd_2.jpg",
         4.5,
         2654,
         " Musicians Inspired",
         "02/2022",
         "2023-03-06T14:58:34.549+0000"
        ],
        [
         6,
         "The Professional Bass Masterclass",
         "Learn the professional techniques, tools, and methods to master bass guitar from beginner to advanced player",
         13852,
         4.6,
         1919,
         "https://www.udemy.com/course/the-professional-bass-masterclass/",
         "music",
         "[Managing Director  Producer  Writer  Composer  Bassist",
         3328,
         31532,
         21297,
         4,
         4.5,
         " https://img-b.udemycdn.com/course/240x135/917432_a517_3.jpg",
         4.6,
         2898,
         " Rajiv Narang",
         "01/2023",
         "2023-03-06T14:58:34.549+0000"
        ],
        [
         7,
         "Learn To Play The Drums",
         "Become a drummer with a step by step programme to get you from being drumming novice to drumming expert",
         11889,
         4.6,
         1753,
         "https://www.udemy.com/course/learndrums/",
         "music",
         "[UK Freelance drummer",
         3620,
         23166,
         19708,
         2,
         4.5,
         " https://img-c.udemycdn.com/course/240x135/392958_b8d3.jpg",
         4.4,
         2932,
         " Billy Baker",
         "02/2023",
         "2023-03-06T14:58:34.549+0000"
        ],
        [
         8,
         "The Complete EDM Production Course - Produce, Mix & Master",
         "Learn EDM Production, mixing, mastering, sound design, arrangement, plugins, techniques & more using any software or DAW",
         9191,
         4.6,
         1752,
         "https://www.udemy.com/course/edm-production/",
         "music",
         "[Electronic Music Producer/Mixing & Mastering Engineer",
         4796,
         31262,
         14235,
         13,
         4.6,
         " https://img-c.udemycdn.com/course/240x135/1765246_4242_2.jpg",
         4.7,
         2560,
         " Fuad Murad",
         "11/2022",
         "2023-03-06T14:58:34.549+0000"
        ],
        [
         9,
         "Learn piano or keyboard from scratch - Complete piano course",
         "Piano lessons/ keyboard lessons for beginners. Complete piano course,reading music, improvisation, music theory, chords.",
         13673,
         4.6,
         1683,
         "https://www.udemy.com/course/learn-to-play-the-piano-from-scratch/",
         "music",
         "[Teacher  musician and composer",
         4918,
         41555,
         35251,
         8,
         4.7,
         " https://img-b.udemycdn.com/course/240x135/1111630_c4ba_5.jpg",
         4.7,
         3980,
         " Martin Cohen",
         "11/2022",
         "2023-03-06T14:58:34.549+0000"
        ],
        [
         11,
         "The Complete Piano Course - Master The Piano",
         "A full guide on learning how to use every single note on the piano.",
         12826,
         4.5,
         1572,
         "https://www.udemy.com/course/the-complete-piano-course/",
         "music",
         "[Music Teacher  Producer  Pianist",
         2038,
         15709,
         15709,
         1,
         4.5,
         " https://img-c.udemycdn.com/course/240x135/574974_2b9d_3.jpg",
         4.5,
         2038,
         " Iliya Ryakhovskiy",
         "12/2016",
         "2023-03-06T14:58:34.549+0000"
        ],
        [
         12,
         "Music Composition 1",
         "Learn how to compose well-written rhythms and melodies",
         10832,
         4.4,
         1484,
         "https://www.udemy.com/course/music-composition-1/",
         "music",
         "[Award-winning Composer",
         4736,
         25582,
         13804,
         10,
         4.6,
         " https://img-c.udemycdn.com/course/240x135/138902_a9a3_11.jpg",
         4.6,
         1994,
         " Jonathan Peters",
         "11/2022",
         "2023-03-06T14:58:34.549+0000"
        ],
        [
         13,
         "Learn Guitar: Zero to Guitar Fingerpicking in 30 days",
         "Learn guitar for beginners: guitar fingerpicking in 30 days",
         12023,
         4.6,
         1470,
         "https://www.udemy.com/course/zero-to-guitar-fingerpicking/",
         "music",
         "[Guitar Instructor",
         2071,
         25106,
         23379,
         1,
         4.5,
         " https://img-b.udemycdn.com/course/240x135/971962_0ee7_3.jpg",
         4.5,
         2071,
         " Patrick O'Malley",
         "02/2022",
         "2023-03-06T14:58:34.549+0000"
        ],
        [
         14,
         "Lyricology: Perfect Song Structure and Beat Selection!",
         "Simple techniques for counting bars, song structure and beat selection for aspiring hip hop artists.",
         6944,
         4.2,
         1380,
         "https://www.udemy.com/course/lyricology-101-perfect-song-structure-and-beat-selection/",
         "music",
         "[Experimental Hip Hop Artist/Producer",
         1858,
         9163,
         7087,
         3,
         4.4,
         " https://img-c.udemycdn.com/course/240x135/761130_e8b7_2.jpg",
         4.3,
         1426,
         " Andre Gainer",
         "03/2016",
         "2023-03-06T14:58:34.549+0000"
        ],
        [
         15,
         "Music Production I - Learn to be a Music Producer!",
         "Learn how to become a recording/music production engineer with little to no knowledge! Record music like a pro!",
         6712,
         4.5,
         1373,
         "https://www.udemy.com/course/music-production/",
         "music",
         "[Studio Owner/Music Production Engineer|Pro Guitar Player",
         2171,
         10715,
         7682,
         3,
         4.3,
         " https://img-c.udemycdn.com/course/240x135/1024722_23e6_6.jpg",
         4.5,
         1665,
         " Mitch Houston",
         "01/2023",
         "2023-03-06T14:58:34.549+0000"
        ],
        [
         0,
         "Microsoft Excel - Excel from Beginner to Advanced",
         "Excel with this A-Z Microsoft Excel Course. Microsoft Excel 2010, 2013, 2016, Excel 2019 and Office 365",
         558150,
         4.6,
         174080,
         "https://www.udemy.com/course/microsoft-excel-2013-from-beginner-to-advanced-and-beyond/",
         "office",
         "[Microsoft Certified Trainer - 1 Million+ Students",
         419234,
         1355021,
         1213111,
         10,
         4.6,
         " https://img-b.udemycdn.com/course/240x135/793796_0e89_2.jpg",
         4.7,
         361166,
         " Kyle Pew",
         "01/2023",
         "2023-03-06T14:58:34.549+0000"
        ],
        [
         1,
         "Microsoft Excel - Advanced Excel Formulas & Functions",
         "Master 75+ Excel formulas with hands-on demos from a best-selling Microsoft Excel instructor (Excel '07 - Excel 2019)",
         182132,
         4.7,
         38239,
         "https://www.udemy.com/course/excel-for-analysts/",
         "office",
         "[Award-Winning Analytics & Business Intelligence Training",
         267024,
         922534,
         327088,
         6,
         4.6,
         " https://img-c.udemycdn.com/course/240x135/516446_4935_5.jpg",
         4.7,
         76425,
         " Maven Analytics",
         "11/2022",
         "2023-03-06T14:58:34.549+0000"
        ],
        [
         2,
         "Unlock Excel VBA and Excel Macros",
         "Automate Complex Tasks with Microsoft Excel VBA & Excel Macros (Real-World Projects included). Achieve More. Save time.",
         97548,
         4.6,
         22865,
         "https://www.udemy.com/course/excel-vba-and-macros-course/",
         "office",
         "[Microsoft MVP  Bestselling Instructor",
         104241,
         351425,
         175067,
         11,
         4.7,
         " https://img-c.udemycdn.com/course/240x135/1506888_52b0_3.jpg",
         4.7,
         37225,
         " Leila Gharani",
         "11/2022",
         "2023-03-06T14:58:34.549+0000"
        ],
        [
         3,
         "Microsoft Excel - Data Analysis with Excel Pivot Tables",
         "Master Excel Pivot Tables & data analysis with real-world cases from a best-selling Excel instructor (Excel 2010-2019)",
         112510,
         4.6,
         21429,
         "https://www.udemy.com/course/data-analysis-with-excel-pivot-tables/",
         "office",
         "[Award-Winning Analytics & Business Intelligence Training",
         267024,
         922534,
         202208,
         6,
         4.6,
         " https://img-c.udemycdn.com/course/240x135/977438_476d_10.jpg",
         4.6,
         47255,
         " Maven Analytics",
         "11/2022",
         "2023-03-06T14:58:34.549+0000"
        ],
        [
         4,
         "Excel Essentials: The Complete Excel Series - Level 1, 2 & 3",
         "Excel: The WHOLE Excel Mastery Series In One! From Excel Novice To VBA Programmer - Excel 2013, Excel 2016, Excel 2019",
         72269,
         4.6,
         18116,
         "https://www.udemy.com/course/excel-essentials-the-complete-series-levels-1-2-3/",
         "office",
         "[Everything Is Easy  Once You Know How - 165 000+ Students!",
         26640,
         130529,
         99558,
         4,
         4.6,
         " https://img-c.udemycdn.com/course/240x135/948866_3bcc_2.jpg",
         4.6,
         25831,
         " Alan Jarvis",
         "01/2023",
         "2023-03-06T14:58:34.549+0000"
        ],
        [
         5,
         "Microsoft Excel - Data Visualization, Excel Charts & Graphs",
         "Master 20+ Excel charts & graphs and build custom visuals with a best-selling Excel instructor (Excel 2016 - Excel 2019)",
         74140,
         4.6,
         16118,
         "https://www.udemy.com/course/advanced-excel-charts-graphs/",
         "office",
         "[Award-Winning Analytics & Business Intelligence Training",
         267024,
         922534,
         144684,
         6,
         4.6,
         " https://img-b.udemycdn.com/course/240x135/636822_bb3b_4.jpg",
         4.6,
         36664,
         " Maven Analytics",
         "11/2022",
         "2023-03-06T14:58:34.549+0000"
        ],
        [
         6,
         "Microsoft Excel - From Beginner to Expert in 6 Hours",
         "This Microsoft Excel class will make you a master of Microsoft Excel. The training uses Excel 2013 for Windows.",
         101795,
         4.5,
         15046,
         "https://www.udemy.com/course/thebestexcel/",
         "office",
         "[Top-Rated Instructor  Tenured College Professor",
         69437,
         415825,
         136942,
         22,
         4.6,
         " https://img-c.udemycdn.com/course/240x135/49250_a658_8.jpg",
         4.5,
         29285,
         " Todd McLeod",
         "01/2023",
         "2023-03-06T14:58:34.549+0000"
        ],
        [
         7,
         "Master Microsoft Word Beginner to Advanced",
         "Master the most popular Word Processing tool, Microsoft Word. Microsoft Word 2010, Word 2013, Word 2016, Word 2019",
         55439,
         4.7,
         11351,
         "https://www.udemy.com/course/microsoft-word-from-beginner-to-advanced-and-beyond/",
         "office",
         "[Microsoft Certified Trainer - 1 Million+ Students",
         419234,
         1355021,
         89602,
         10,
         4.6,
         " https://img-c.udemycdn.com/course/240x135/1235430_7a1d_4.jpg",
         4.6,
         21615,
         " Kyle Pew",
         "08/2019",
         "2023-03-06T14:58:34.549+0000"
        ],
        [
         8,
         "Microsoft Project ALL: BEGINNER to EXPERT 10 Projects 9 PDU",
         "Learn MS Project all version HANDS-ON with COMPLETE real life examples BONUS 125 project files FREE PMI approved 9 PDUs",
         47664,
         4.5,
         11157,
         "https://www.udemy.com/course/microsoft-project-tutorial/",
         "office",
         "[PlanShare.ai",
         25500,
         115418,
         81156,
         10,
         4.4,
         " https://img-c.udemycdn.com/course/240x135/831116_92e7_2.jpg",
         4.5,
         18112,
         " Srikanth Shirodkar",
         "09/2021",
         "2023-03-06T14:58:34.549+0000"
        ],
        [
         9,
         "Mastering Microsoft Teams (2020)",
         "Become an expert at using Microsoft Teams to chat, collaborate, and get things done",
         33522,
         4.4,
         10988,
         "https://www.udemy.com/course/mastering-microsoft-teams/",
         "office",
         "[Uniquely Engaging eLearning",
         22599,
         102419,
         39484,
         105,
         4.3,
         " https://img-b.udemycdn.com/course/240x135/1507666_9416_6.jpg",
         4.5,
         13171,
         " Bigger Brains",
         "11/2022",
         "2023-03-06T14:58:34.549+0000"
        ],
        [
         10,
         "Microsoft Excel - Excel Power Query, Power Pivot & DAX",
         "Learn Excel business intelligence (Power Query, Power Pivot & DAX) with a best-selling Excel instructor (Excel 2013+)",
         54533,
         4.7,
         10933,
         "https://www.udemy.com/course/microsoft-excel-power-query-power-pivot-dax/",
         "office",
         "[Award-Winning Analytics & Business Intelligence Training",
         267024,
         922534,
         93125,
         6,
         4.6,
         " https://img-c.udemycdn.com/course/240x135/1137048_c1d7_4.jpg",
         4.7,
         19694,
         " Maven Analytics",
         "02/2023",
         "2023-03-06T14:58:34.549+0000"
        ],
        [
         11,
         "Microsoft Access 2016 Master Class: Beginner to Advanced",
         "Quickly learn how Microsoft Access 2016 can make your life easier and more productive!",
         43242,
         4.6,
         10265,
         "https://www.udemy.com/course/microsoftaccess/",
         "office",
         "[Top-Rated Instructor  800 000+ Students",
         68614,
         913947,
         53828,
         85,
         4.3,
         " https://img-c.udemycdn.com/course/240x135/845284_cfd2_4.jpg",
         4.6,
         13289,
         " Joe Parys",
         "02/2023",
         "2023-03-06T14:58:34.549+0000"
        ],
        [
         12,
         "Master Microsoft Excel Macros and Excel VBA",
         "Project Based Course on Excel VBA (Visual Basic for Applications) and Excel Macros",
         41348,
         4.5,
         10069,
         "https://www.udemy.com/course/master-microsoft-excel-macros-and-vba-with-5-simple-projects/",
         "office",
         "[Microsoft Certified Trainer - 1 Million+ Students",
         456192,
         1469287,
         71729,
         25,
         4.6,
         " https://img-c.udemycdn.com/course/240x135/690066_6b76_4.jpg",
         4.6,
         21111,
         " Kyle Pew",
         "02/2018",
         "2023-03-06T14:58:34.549+0000"
        ],
        [
         13,
         "Visually Effective Excel Dashboards",
         "Actionable Excel Tips (Templates Included) You Can Use Right Now to Create Eye-Catching Microsoft Excel Dashboards",
         43843,
         4.6,
         9213,
         "https://www.udemy.com/course/excel-dashboards-reports/",
         "office",
         "[Microsoft MVP  Bestselling Instructor",
         104241,
         351425,
         80500,
         11,
         4.7,
         " https://img-c.udemycdn.com/course/240x135/1122362_6b47_4.jpg",
         4.7,
         16565,
         " Leila Gharani",
         "11/2022",
         "2023-03-06T14:58:34.549+0000"
        ],
        [
         15,
         "SAP Simplified for Absolute Beginners",
         "Easy to follow Introduction into SAP ERP",
         21652,
         4.4,
         7110,
         "https://www.udemy.com/course/sap-simplified-for-absolute-beginners/",
         "office",
         "[Zertifizierte Beraterin für SAP MM  Hobby: Fotobearbeitung",
         20071,
         68217,
         52244,
         6,
         4.5,
         " https://img-c.udemycdn.com/course/240x135/826870_0677_2.jpg",
         4.4,
         16706,
         " Ulrika Garner",
         "05/2020",
         "2023-03-06T14:58:34.549+0000"
        ]
       ],
       "datasetInfos": [],
       "dbfsResultPath": null,
       "isJsonSchema": true,
       "metadata": {},
       "overflow": false,
       "plotOptions": {
        "customPlotOptions": {},
        "displayType": "table",
        "pivotAggregation": null,
        "pivotColumns": null,
        "xColumns": null,
        "yColumns": null
       },
       "removedWidgets": [],
       "schema": [
        {
         "metadata": "{}",
         "name": "index",
         "type": "\"integer\""
        },
        {
         "metadata": "{}",
         "name": "Title",
         "type": "\"string\""
        },
        {
         "metadata": "{}",
         "name": "Summary",
         "type": "\"string\""
        },
        {
         "metadata": "{}",
         "name": "Enrollment",
         "type": "\"integer\""
        },
        {
         "metadata": "{}",
         "name": "Stars",
         "type": "\"double\""
        },
        {
         "metadata": "{}",
         "name": "Rating",
         "type": "\"integer\""
        },
        {
         "metadata": "{}",
         "name": "Link",
         "type": "\"string\""
        },
        {
         "metadata": "{}",
         "name": "category",
         "type": "\"string\""
        },
        {
         "metadata": "{}",
         "name": "instructor_tag",
         "type": "\"string\""
        },
        {
         "metadata": "{}",
         "name": "written_rating",
         "type": "\"integer\""
        },
        {
         "metadata": "{}",
         "name": "total_students_author",
         "type": "\"integer\""
        },
        {
         "metadata": "{}",
         "name": "latest_enroll",
         "type": "\"integer\""
        },
        {
         "metadata": "{}",
         "name": "total_courses",
         "type": "\"integer\""
        },
        {
         "metadata": "{}",
         "name": "instructor_rating",
         "type": "\"double\""
        },
        {
         "metadata": "{}",
         "name": "img_url",
         "type": "\"string\""
        },
        {
         "metadata": "{}",
         "name": "course_rating",
         "type": "\"double\""
        },
        {
         "metadata": "{}",
         "name": "written_course_rating",
         "type": "\"integer\""
        },
        {
         "metadata": "{}",
         "name": "author_name",
         "type": "\"string\""
        },
        {
         "metadata": "{}",
         "name": "last_modified",
         "type": "\"string\""
        },
        {
         "metadata": "{}",
         "name": "created_timestamp",
         "type": "\"timestamp\""
        }
       ],
       "type": "table"
      }
     },
     "output_type": "display_data"
    }
   ],
   "source": [
    "\n",
    "# spark.sql(\"REFRESH TABLE silver.udemy2\")\n",
    "\n",
    "display(df_udemy_silver)"
   ]
  },
  {
   "cell_type": "markdown",
   "metadata": {
    "application/vnd.databricks.v1+cell": {
     "cellMetadata": {},
     "inputWidgets": {},
     "nuid": "b5b94499-7498-44b1-9843-7265203ac209",
     "showTitle": false,
     "title": ""
    }
   },
   "source": [
    "# top 5 courses which is enrolled high in few years"
   ]
  },
  {
   "cell_type": "code",
   "execution_count": 0,
   "metadata": {
    "application/vnd.databricks.v1+cell": {
     "cellMetadata": {
      "implicitDf": true
     },
     "inputWidgets": {},
     "nuid": "c9c74e42-bdd2-4d47-943b-371ebad1c4ab",
     "showTitle": false,
     "title": ""
    }
   },
   "outputs": [
    {
     "output_type": "display_data",
     "data": {
      "text/html": [
       "<style scoped>\n",
       "  .table-result-container {\n",
       "    max-height: 300px;\n",
       "    overflow: auto;\n",
       "  }\n",
       "  table, th, td {\n",
       "    border: 1px solid black;\n",
       "    border-collapse: collapse;\n",
       "  }\n",
       "  th, td {\n",
       "    padding: 5px;\n",
       "  }\n",
       "  th {\n",
       "    text-align: left;\n",
       "  }\n",
       "</style><div class='table-result-container'><table class='table-result'><thead style='background-color: white'><tr><th>link</th><th>title</th><th>enrollment</th><th>category</th><th>latest_enroll</th><th>incresed_count</th></tr></thead><tbody><tr><td>https://www.udemy.com/course/microsoft-excel-2013-from-beginner-to-advanced-and-beyond/</td><td>Microsoft Excel - Excel from Beginner to Advanced</td><td>558150</td><td>office</td><td>1213111</td><td>654961</td></tr><tr><td>https://www.udemy.com/course/complete-python-bootcamp/</td><td>2020 Complete Python Bootcamp: From Zero to Hero in Python</td><td>1100093</td><td>tech</td><td>1691703</td><td>591610</td></tr><tr><td>https://www.udemy.com/course/the-complete-javascript-course/</td><td>The Complete JavaScript Course 2020: Build Real Projects!</td><td>347979</td><td>tech</td><td>760896</td><td>412917</td></tr><tr><td>https://www.udemy.com/course/react-the-complete-guide-incl-redux/</td><td>React - The Complete Guide (incl Hooks, React Router, Redux)</td><td>304670</td><td>tech</td><td>708449</td><td>403779</td></tr><tr><td>https://www.udemy.com/course/automate/</td><td>Automate the Boring Stuff with Python Programming</td><td>692617</td><td>tech</td><td>1078173</td><td>385556</td></tr><tr><td>https://www.udemy.com/course/the-complete-sql-bootcamp/</td><td>The Complete SQL Bootcamp 2020: Go from Zero to Hero</td><td>301243</td><td>bussiness</td><td>641558</td><td>340315</td></tr><tr><td>https://www.udemy.com/course/java-the-complete-java-developer-course/</td><td>Java Programming Masterclass for Software Developers</td><td>502572</td><td>tech</td><td>761779</td><td>259207</td></tr><tr><td>https://www.udemy.com/course/the-web-developer-bootcamp/</td><td>The Web Developer Bootcamp</td><td>596726</td><td>tech</td><td>855542</td><td>258816</td></tr><tr><td>https://www.udemy.com/course/learn-digital-marketing-course/</td><td>The Complete Digital Marketing Course - 12 Courses in 1</td><td>494107</td><td>marketing</td><td>737753</td><td>243646</td></tr><tr><td>https://www.udemy.com/course/python-for-data-science-and-machine-learning-bootcamp/</td><td>Python for Data Science and Machine Learning Bootcamp</td><td>387789</td><td>tech</td><td>623047</td><td>235258</td></tr></tbody></table></div>"
      ]
     },
     "metadata": {
      "application/vnd.databricks.v1+output": {
       "addedWidgets": {},
       "aggData": [],
       "aggError": "",
       "aggOverflow": false,
       "aggSchema": [],
       "aggSeriesLimitReached": false,
       "aggType": "",
       "arguments": {},
       "columnCustomDisplayInfos": {},
       "data": [
        [
         "https://www.udemy.com/course/microsoft-excel-2013-from-beginner-to-advanced-and-beyond/",
         "Microsoft Excel - Excel from Beginner to Advanced",
         558150,
         "office",
         1213111,
         654961
        ],
        [
         "https://www.udemy.com/course/complete-python-bootcamp/",
         "2020 Complete Python Bootcamp: From Zero to Hero in Python",
         1100093,
         "tech",
         1691703,
         591610
        ],
        [
         "https://www.udemy.com/course/the-complete-javascript-course/",
         "The Complete JavaScript Course 2020: Build Real Projects!",
         347979,
         "tech",
         760896,
         412917
        ],
        [
         "https://www.udemy.com/course/react-the-complete-guide-incl-redux/",
         "React - The Complete Guide (incl Hooks, React Router, Redux)",
         304670,
         "tech",
         708449,
         403779
        ],
        [
         "https://www.udemy.com/course/automate/",
         "Automate the Boring Stuff with Python Programming",
         692617,
         "tech",
         1078173,
         385556
        ],
        [
         "https://www.udemy.com/course/the-complete-sql-bootcamp/",
         "The Complete SQL Bootcamp 2020: Go from Zero to Hero",
         301243,
         "bussiness",
         641558,
         340315
        ],
        [
         "https://www.udemy.com/course/java-the-complete-java-developer-course/",
         "Java Programming Masterclass for Software Developers",
         502572,
         "tech",
         761779,
         259207
        ],
        [
         "https://www.udemy.com/course/the-web-developer-bootcamp/",
         "The Web Developer Bootcamp",
         596726,
         "tech",
         855542,
         258816
        ],
        [
         "https://www.udemy.com/course/learn-digital-marketing-course/",
         "The Complete Digital Marketing Course - 12 Courses in 1",
         494107,
         "marketing",
         737753,
         243646
        ],
        [
         "https://www.udemy.com/course/python-for-data-science-and-machine-learning-bootcamp/",
         "Python for Data Science and Machine Learning Bootcamp",
         387789,
         "tech",
         623047,
         235258
        ]
       ],
       "datasetInfos": [],
       "dbfsResultPath": null,
       "isJsonSchema": true,
       "metadata": {},
       "overflow": false,
       "plotOptions": {
        "customPlotOptions": {},
        "displayType": "table",
        "pivotAggregation": null,
        "pivotColumns": null,
        "xColumns": null,
        "yColumns": null
       },
       "removedWidgets": [],
       "schema": [
        {
         "metadata": "{}",
         "name": "link",
         "type": "\"string\""
        },
        {
         "metadata": "{}",
         "name": "title",
         "type": "\"string\""
        },
        {
         "metadata": "{}",
         "name": "enrollment",
         "type": "\"integer\""
        },
        {
         "metadata": "{}",
         "name": "category",
         "type": "\"string\""
        },
        {
         "metadata": "{}",
         "name": "latest_enroll",
         "type": "\"integer\""
        },
        {
         "metadata": "{}",
         "name": "incresed_count",
         "type": "\"integer\""
        }
       ],
       "type": "table"
      }
     },
     "output_type": "display_data"
    },
    {
     "output_type": "display_data",
     "data": {
      "text/plain": [
       "Databricks visualization. Run in Databricks to view."
      ]
     },
     "metadata": {
      "application/vnd.databricks.v1.subcommand+json": {
       "bindings": {},
       "collapsed": false,
       "command": "%sql\nselect *,latest_enroll-enrollment as incresed_count from (\nselect title,enrollment,category,latest_enroll from silver.udemy2)x\norder by incresed_count desc\nlimit 5",
       "commandTitle": "Visualization 1",
       "commandType": "auto",
       "commandVersion": 0,
       "commentThread": [],
       "commentsVisible": false,
       "contentSha256Hex": null,
       "customPlotOptions": {
        "plotlyBar": [
         {
          "key": "grouped",
          "value": false
         },
         {
          "key": "stacked",
          "value": true
         },
         {
          "key": "100_stacked",
          "value": false
         }
        ]
       },
       "datasetPreviewNameToCmdIdMap": {},
       "diffDeletes": [],
       "diffInserts": [],
       "displayType": "plotlyBar",
       "error": null,
       "errorSummary": null,
       "errorTraceType": null,
       "finishTime": 0,
       "globalVars": {},
       "guid": "",
       "height": "auto",
       "hideCommandCode": false,
       "hideCommandResult": false,
       "iPythonMetadata": null,
       "inputWidgets": {},
       "isLockedInExamMode": false,
       "latestUser": "a user",
       "latestUserId": null,
       "listResultMetadata": null,
       "metadata": {},
       "nuid": "0891273b-eb6a-483d-959b-bbfcc9130e19",
       "origId": 0,
       "parentHierarchy": [],
       "pivotAggregation": "sum",
       "pivotColumns": [
        "title"
       ],
       "position": 3.5,
       "resultDbfsErrorMessage": null,
       "resultDbfsStatus": "INLINED_IN_TREE",
       "results": null,
       "showCommandTitle": false,
       "startTime": 0,
       "state": "input",
       "streamStates": {},
       "subcommandOptions": null,
       "submitTime": 0,
       "subtype": "tableResultSubCmd.visualization",
       "tableResultIndex": 0,
       "useConsistentColors": false,
       "version": "CommandV1",
       "width": "auto",
       "workflows": [],
       "xColumns": [
        "category"
       ],
       "yColumns": [
        "incresed_count"
       ]
      }
     },
     "output_type": "display_data"
    }
   ],
   "source": [
    "%sql\n",
    "select *,latest_enroll-enrollment as incresed_count from (\n",
    "select link,title,enrollment,category,latest_enroll from silver.udemy2)x\n",
    "order by incresed_count desc\n",
    "limit 10"
   ]
  },
  {
   "cell_type": "code",
   "execution_count": 0,
   "metadata": {
    "application/vnd.databricks.v1+cell": {
     "cellMetadata": {
      "implicitDf": true
     },
     "inputWidgets": {},
     "nuid": "49cd7bc6-92eb-4bc4-aa7d-fc9a84ee35e3",
     "showTitle": false,
     "title": ""
    }
   },
   "outputs": [
    {
     "output_type": "display_data",
     "data": {
      "text/html": [
       "<style scoped>\n",
       "  .table-result-container {\n",
       "    max-height: 300px;\n",
       "    overflow: auto;\n",
       "  }\n",
       "  table, th, td {\n",
       "    border: 1px solid black;\n",
       "    border-collapse: collapse;\n",
       "  }\n",
       "  th, td {\n",
       "    padding: 5px;\n",
       "  }\n",
       "  th {\n",
       "    text-align: left;\n",
       "  }\n",
       "</style><div class='table-result-container'><table class='table-result'><thead style='background-color: white'><tr><th>category</th><th>increse_in_enrolment</th></tr></thead><tbody><tr><td>marketing</td><td>866717</td></tr><tr><td>tech</td><td>4633016</td></tr><tr><td>finance</td><td>867141</td></tr><tr><td>bussiness</td><td>2178106</td></tr><tr><td>photography</td><td>184787</td></tr><tr><td>design</td><td>1133486</td></tr><tr><td>life_style</td><td>81697</td></tr><tr><td>music</td><td>101340</td></tr><tr><td>office</td><td>1320539</td></tr></tbody></table></div>"
      ]
     },
     "metadata": {
      "application/vnd.databricks.v1+output": {
       "addedWidgets": {},
       "aggData": [],
       "aggError": "",
       "aggOverflow": false,
       "aggSchema": [],
       "aggSeriesLimitReached": false,
       "aggType": "",
       "arguments": {},
       "columnCustomDisplayInfos": {},
       "data": [
        [
         "marketing",
         866717
        ],
        [
         "tech",
         4633016
        ],
        [
         "finance",
         867141
        ],
        [
         "bussiness",
         2178106
        ],
        [
         "photography",
         184787
        ],
        [
         "design",
         1133486
        ],
        [
         "life_style",
         81697
        ],
        [
         "music",
         101340
        ],
        [
         "office",
         1320539
        ]
       ],
       "datasetInfos": [],
       "dbfsResultPath": null,
       "isJsonSchema": true,
       "metadata": {},
       "overflow": false,
       "plotOptions": {
        "customPlotOptions": {},
        "displayType": "table",
        "pivotAggregation": null,
        "pivotColumns": null,
        "xColumns": null,
        "yColumns": null
       },
       "removedWidgets": [],
       "schema": [
        {
         "metadata": "{}",
         "name": "category",
         "type": "\"string\""
        },
        {
         "metadata": "{}",
         "name": "increse_in_enrolment",
         "type": "\"long\""
        }
       ],
       "type": "table"
      }
     },
     "output_type": "display_data"
    },
    {
     "output_type": "display_data",
     "data": {
      "text/plain": [
       "Databricks visualization. Run in Databricks to view."
      ]
     },
     "metadata": {
      "application/vnd.databricks.v1.subcommand+json": {
       "bindings": {},
       "collapsed": false,
       "command": "%sql WITH q AS (select category,sum(incre) increse_in_enrolment from(\nselect title,enrollment,category,latest_enroll,latest_enroll-enrollment as incre\nfrom silver.udemy2)x\ngroup by category) SELECT `category`,SUM(`increse_in_enrolment`) `column_ed6d56322` FROM q GROUP BY `category`",
       "commandTitle": "Visualization 1",
       "commandType": "auto",
       "commandVersion": 0,
       "commentThread": [],
       "commentsVisible": false,
       "contentSha256Hex": null,
       "customPlotOptions": {
        "redashChart": [
         {
          "key": "type",
          "value": "CHART"
         },
         {
          "key": "options",
          "value": {
           "alignYAxesAtZero": true,
           "coefficient": 1,
           "columnConfigurationMap": {
            "x": {
             "column": "category",
             "id": "column_ed6d56321"
            },
            "y": [
             {
              "column": "increse_in_enrolment",
              "id": "column_ed6d56322",
              "transform": "SUM"
             }
            ]
           },
           "dateTimeFormat": "DD/MM/YYYY HH:mm",
           "direction": {
            "type": "counterclockwise"
           },
           "error_y": {
            "type": "data",
            "visible": true
           },
           "globalSeriesType": "column",
           "isAggregationOn": true,
           "legend": {
            "traceorder": "normal"
           },
           "missingValuesAsZero": true,
           "numberFormat": "0,0[.]00000",
           "percentFormat": "0[.]00%",
           "series": {
            "error_y": {
             "type": "data",
             "visible": true
            },
            "stacking": null
           },
           "seriesOptions": {
            "column_ed6d56322": {
             "name": "increse_in_enrolment",
             "yAxis": 0
            }
           },
           "showDataLabels": false,
           "sizemode": "diameter",
           "sortX": true,
           "sortY": true,
           "swappedAxes": false,
           "textFormat": "",
           "useAggregationsUi": true,
           "valuesOptions": {},
           "version": 2,
           "xAxis": {
            "labels": {
             "enabled": true
            },
            "type": "-"
           },
           "yAxis": [
            {
             "type": "-"
            },
            {
             "opposite": true,
             "type": "-"
            }
           ]
          }
         }
        ]
       },
       "datasetPreviewNameToCmdIdMap": {},
       "diffDeletes": [],
       "diffInserts": [],
       "displayType": "redashChart",
       "error": null,
       "errorSummary": null,
       "errorTraceType": null,
       "finishTime": 0,
       "globalVars": {},
       "guid": "",
       "height": "auto",
       "hideCommandCode": false,
       "hideCommandResult": false,
       "iPythonMetadata": null,
       "inputWidgets": {},
       "isLockedInExamMode": false,
       "latestUser": "a user",
       "latestUserId": null,
       "listResultMetadata": null,
       "metadata": {},
       "nuid": "3881e542-28a0-45aa-8eb3-dc36ae50de6f",
       "origId": 0,
       "parentHierarchy": [],
       "pivotAggregation": null,
       "pivotColumns": null,
       "position": 3.75,
       "resultDbfsErrorMessage": null,
       "resultDbfsStatus": "INLINED_IN_TREE",
       "results": null,
       "showCommandTitle": false,
       "startTime": 0,
       "state": "input",
       "streamStates": {},
       "subcommandOptions": {
        "queryPlan": {
         "groups": [
          {
           "column": "category",
           "type": "column"
          }
         ],
         "selects": [
          {
           "column": "category",
           "type": "column"
          },
          {
           "alias": "column_ed6d56322",
           "args": [
            {
             "column": "increse_in_enrolment",
             "type": "column"
            }
           ],
           "function": "SUM",
           "type": "function"
          }
         ]
        }
       },
       "submitTime": 0,
       "subtype": "tableResultSubCmd.visualization",
       "tableResultIndex": 0,
       "useConsistentColors": false,
       "version": "CommandV1",
       "width": "auto",
       "workflows": [],
       "xColumns": null,
       "yColumns": null
      }
     },
     "output_type": "display_data"
    }
   ],
   "source": [
    "%sql\n",
    "\n",
    "select category,sum(incre) increse_in_enrolment from(\n",
    "select title,enrollment,category,latest_enroll,latest_enroll-enrollment as incre\n",
    "from silver.udemy2)x\n",
    "group by category\n"
   ]
  },
  {
   "cell_type": "code",
   "execution_count": 0,
   "metadata": {
    "application/vnd.databricks.v1+cell": {
     "cellMetadata": {
      "implicitDf": true
     },
     "inputWidgets": {},
     "nuid": "3db53bd5-5705-4d17-814c-93718afb5ced",
     "showTitle": false,
     "title": ""
    }
   },
   "outputs": [
    {
     "output_type": "display_data",
     "data": {
      "text/html": [
       "<style scoped>\n",
       "  .table-result-container {\n",
       "    max-height: 300px;\n",
       "    overflow: auto;\n",
       "  }\n",
       "  table, th, td {\n",
       "    border: 1px solid black;\n",
       "    border-collapse: collapse;\n",
       "  }\n",
       "  th, td {\n",
       "    padding: 5px;\n",
       "  }\n",
       "  th {\n",
       "    text-align: left;\n",
       "  }\n",
       "</style><div class='table-result-container'><table class='table-result'><thead style='background-color: white'><tr><th>author_name</th><th>latest_enroll</th><th>category</th></tr></thead><tbody><tr><td> Jose Portilla</td><td>1691703</td><td>tech</td></tr><tr><td> Kyle Pew</td><td>1213111</td><td>office</td></tr><tr><td> Al Sweigart</td><td>1078173</td><td>tech</td></tr><tr><td> Colt Steele</td><td>855542</td><td>tech</td></tr><tr><td> Tim Buchalka</td><td>761779</td><td>tech</td></tr><tr><td> Jonas Schmedtmann</td><td>760896</td><td>tech</td></tr><tr><td> Rob Percival</td><td>737753</td><td>marketing</td></tr><tr><td> Jose Portilla</td><td>641558</td><td>bussiness</td></tr><tr><td> Phil Ebiner</td><td>512841</td><td>design</td></tr><tr><td> Jaysen Batchelor</td><td>499868</td><td>design</td></tr><tr><td> Phil Ebiner</td><td>341633</td><td>design</td></tr><tr><td> Kirill Eremenko</td><td>339236</td><td>bussiness</td></tr><tr><td> Maven Analytics</td><td>327088</td><td>office</td></tr><tr><td> Maven Analytics</td><td>314040</td><td>bussiness</td></tr><tr><td> GameDev.tv Team</td><td>292447</td><td>design</td></tr><tr><td> Joseph Phillips</td><td>291967</td><td>bussiness</td></tr><tr><td> Manuel Lorenz</td><td>254477</td><td>bussiness</td></tr><tr><td> Chris Haroun</td><td>246955</td><td>finance</td></tr><tr><td> Phil Ebiner</td><td>235908</td><td>marketing</td></tr><tr><td> Chad Neuman Ph.D.</td><td>218718</td><td>design</td></tr><tr><td> Brad Newton</td><td>212024</td><td>photography</td></tr><tr><td> COURSE ENVY</td><td>208439</td><td>marketing</td></tr><tr><td> Isaac Rudansky</td><td>207369</td><td>marketing</td></tr><tr><td> Maven Analytics</td><td>202208</td><td>office</td></tr><tr><td> Mohsen Hassan</td><td>201721</td><td>finance</td></tr><tr><td> Creative Online School</td><td>192047</td><td>photography</td></tr><tr><td> Phil Ebiner</td><td>189323</td><td>marketing</td></tr><tr><td> Chris Haroun</td><td>189257</td><td>finance</td></tr><tr><td> Steve Ballinger MBA</td><td>186959</td><td>finance</td></tr><tr><td> Leila Gharani</td><td>175067</td><td>office</td></tr><tr><td> Maven Analytics</td><td>144684</td><td>office</td></tr><tr><td> Chris Haroun</td><td>133917</td><td>finance</td></tr><tr><td> Phil Ebiner</td><td>105698</td><td>photography</td></tr><tr><td> Phil Ebiner</td><td>76090</td><td>photography</td></tr><tr><td> Jason Allen</td><td>42589</td><td>music</td></tr><tr><td> Martin Cohen</td><td>35251</td><td>music</td></tr><tr><td> Steve Glazer</td><td>34513</td><td>music</td></tr><tr><td> Thomas Leuthard</td><td>32203</td><td>photography</td></tr><tr><td> Roma Waterman</td><td>27451</td><td>music</td></tr><tr><td> Brent Eviston</td><td>25419</td><td>life_style</td></tr><tr><td> Patrick O'Malley</td><td>23379</td><td>music</td></tr><tr><td> Brent Eviston</td><td>22587</td><td>life_style</td></tr><tr><td> Chef Nic DeMuth</td><td>22440</td><td>life_style</td></tr><tr><td> Joseph Patric Daniels</td><td>19469</td><td>life_style</td></tr><tr><td> Ian Dunbar</td><td>17502</td><td>life_style</td></tr></tbody></table></div>"
      ]
     },
     "metadata": {
      "application/vnd.databricks.v1+output": {
       "addedWidgets": {},
       "aggData": [],
       "aggError": "",
       "aggOverflow": false,
       "aggSchema": [],
       "aggSeriesLimitReached": false,
       "aggType": "",
       "arguments": {},
       "columnCustomDisplayInfos": {},
       "data": [
        [
         " Jose Portilla",
         1691703,
         "tech"
        ],
        [
         " Kyle Pew",
         1213111,
         "office"
        ],
        [
         " Al Sweigart",
         1078173,
         "tech"
        ],
        [
         " Colt Steele",
         855542,
         "tech"
        ],
        [
         " Tim Buchalka",
         761779,
         "tech"
        ],
        [
         " Jonas Schmedtmann",
         760896,
         "tech"
        ],
        [
         " Rob Percival",
         737753,
         "marketing"
        ],
        [
         " Jose Portilla",
         641558,
         "bussiness"
        ],
        [
         " Phil Ebiner",
         512841,
         "design"
        ],
        [
         " Jaysen Batchelor",
         499868,
         "design"
        ],
        [
         " Phil Ebiner",
         341633,
         "design"
        ],
        [
         " Kirill Eremenko",
         339236,
         "bussiness"
        ],
        [
         " Maven Analytics",
         327088,
         "office"
        ],
        [
         " Maven Analytics",
         314040,
         "bussiness"
        ],
        [
         " GameDev.tv Team",
         292447,
         "design"
        ],
        [
         " Joseph Phillips",
         291967,
         "bussiness"
        ],
        [
         " Manuel Lorenz",
         254477,
         "bussiness"
        ],
        [
         " Chris Haroun",
         246955,
         "finance"
        ],
        [
         " Phil Ebiner",
         235908,
         "marketing"
        ],
        [
         " Chad Neuman Ph.D.",
         218718,
         "design"
        ],
        [
         " Brad Newton",
         212024,
         "photography"
        ],
        [
         " COURSE ENVY",
         208439,
         "marketing"
        ],
        [
         " Isaac Rudansky",
         207369,
         "marketing"
        ],
        [
         " Maven Analytics",
         202208,
         "office"
        ],
        [
         " Mohsen Hassan",
         201721,
         "finance"
        ],
        [
         " Creative Online School",
         192047,
         "photography"
        ],
        [
         " Phil Ebiner",
         189323,
         "marketing"
        ],
        [
         " Chris Haroun",
         189257,
         "finance"
        ],
        [
         " Steve Ballinger MBA",
         186959,
         "finance"
        ],
        [
         " Leila Gharani",
         175067,
         "office"
        ],
        [
         " Maven Analytics",
         144684,
         "office"
        ],
        [
         " Chris Haroun",
         133917,
         "finance"
        ],
        [
         " Phil Ebiner",
         105698,
         "photography"
        ],
        [
         " Phil Ebiner",
         76090,
         "photography"
        ],
        [
         " Jason Allen",
         42589,
         "music"
        ],
        [
         " Martin Cohen",
         35251,
         "music"
        ],
        [
         " Steve Glazer",
         34513,
         "music"
        ],
        [
         " Thomas Leuthard",
         32203,
         "photography"
        ],
        [
         " Roma Waterman",
         27451,
         "music"
        ],
        [
         " Brent Eviston",
         25419,
         "life_style"
        ],
        [
         " Patrick O'Malley",
         23379,
         "music"
        ],
        [
         " Brent Eviston",
         22587,
         "life_style"
        ],
        [
         " Chef Nic DeMuth",
         22440,
         "life_style"
        ],
        [
         " Joseph Patric Daniels",
         19469,
         "life_style"
        ],
        [
         " Ian Dunbar",
         17502,
         "life_style"
        ]
       ],
       "datasetInfos": [],
       "dbfsResultPath": null,
       "isJsonSchema": true,
       "metadata": {},
       "overflow": false,
       "plotOptions": {
        "customPlotOptions": {},
        "displayType": "table",
        "pivotAggregation": null,
        "pivotColumns": null,
        "xColumns": null,
        "yColumns": null
       },
       "removedWidgets": [],
       "schema": [
        {
         "metadata": "{}",
         "name": "author_name",
         "type": "\"string\""
        },
        {
         "metadata": "{}",
         "name": "latest_enroll",
         "type": "\"integer\""
        },
        {
         "metadata": "{}",
         "name": "category",
         "type": "\"string\""
        }
       ],
       "type": "table"
      }
     },
     "output_type": "display_data"
    }
   ],
   "source": [
    "%sql\n",
    "select author_name,latest_enroll,category from (\n",
    "select distinct (author_name),latest_enroll,instructor_rating,category,row_number()over(partition by category order by latest_enroll desc ) as rn from silver.udemy2)x\n",
    "where rn<=5\n",
    "order by latest_enroll desc\n"
   ]
  },
  {
   "cell_type": "code",
   "execution_count": 0,
   "metadata": {
    "application/vnd.databricks.v1+cell": {
     "cellMetadata": {
      "implicitDf": true
     },
     "inputWidgets": {},
     "nuid": "1e06e653-c342-4513-af14-c0d2086e08a1",
     "showTitle": false,
     "title": ""
    }
   },
   "outputs": [
    {
     "output_type": "display_data",
     "data": {
      "text/html": [
       "<style scoped>\n",
       "  .table-result-container {\n",
       "    max-height: 300px;\n",
       "    overflow: auto;\n",
       "  }\n",
       "  table, th, td {\n",
       "    border: 1px solid black;\n",
       "    border-collapse: collapse;\n",
       "  }\n",
       "  th, td {\n",
       "    padding: 5px;\n",
       "  }\n",
       "  th {\n",
       "    text-align: left;\n",
       "  }\n",
       "</style><div class='table-result-container'><table class='table-result'><thead style='background-color: white'><tr><th>author_name</th><th>category</th><th>total_st</th><th>rn</th></tr></thead><tbody><tr><td> Jose Portilla</td><td>tech</td><td>1691703</td><td>1</td></tr><tr><td> Kyle Pew</td><td>office</td><td>1213111</td><td>1</td></tr><tr><td> Rob Percival</td><td>marketing</td><td>737753</td><td>1</td></tr><tr><td> Jose Portilla</td><td>bussiness</td><td>641558</td><td>1</td></tr><tr><td> Phil Ebiner</td><td>design</td><td>512841</td><td>1</td></tr><tr><td> Chris Haroun</td><td>finance</td><td>246955</td><td>1</td></tr><tr><td> Brad Newton</td><td>photography</td><td>212024</td><td>1</td></tr><tr><td> Jason Allen</td><td>music</td><td>42589</td><td>1</td></tr><tr><td> Brent Eviston</td><td>life_style</td><td>25419</td><td>1</td></tr></tbody></table></div>"
      ]
     },
     "metadata": {
      "application/vnd.databricks.v1+output": {
       "addedWidgets": {},
       "aggData": [],
       "aggError": "",
       "aggOverflow": false,
       "aggSchema": [],
       "aggSeriesLimitReached": false,
       "aggType": "",
       "arguments": {},
       "columnCustomDisplayInfos": {},
       "data": [
        [
         " Jose Portilla",
         "tech",
         1691703,
         1
        ],
        [
         " Kyle Pew",
         "office",
         1213111,
         1
        ],
        [
         " Rob Percival",
         "marketing",
         737753,
         1
        ],
        [
         " Jose Portilla",
         "bussiness",
         641558,
         1
        ],
        [
         " Phil Ebiner",
         "design",
         512841,
         1
        ],
        [
         " Chris Haroun",
         "finance",
         246955,
         1
        ],
        [
         " Brad Newton",
         "photography",
         212024,
         1
        ],
        [
         " Jason Allen",
         "music",
         42589,
         1
        ],
        [
         " Brent Eviston",
         "life_style",
         25419,
         1
        ]
       ],
       "datasetInfos": [],
       "dbfsResultPath": null,
       "isJsonSchema": true,
       "metadata": {},
       "overflow": false,
       "plotOptions": {
        "customPlotOptions": {},
        "displayType": "table",
        "pivotAggregation": null,
        "pivotColumns": null,
        "xColumns": null,
        "yColumns": null
       },
       "removedWidgets": [],
       "schema": [
        {
         "metadata": "{}",
         "name": "author_name",
         "type": "\"string\""
        },
        {
         "metadata": "{}",
         "name": "category",
         "type": "\"string\""
        },
        {
         "metadata": "{}",
         "name": "total_st",
         "type": "\"long\""
        },
        {
         "metadata": "{}",
         "name": "rn",
         "type": "\"integer\""
        }
       ],
       "type": "table"
      }
     },
     "output_type": "display_data"
    },
    {
     "output_type": "display_data",
     "data": {
      "text/plain": [
       "Databricks visualization. Run in Databricks to view."
      ]
     },
     "metadata": {
      "application/vnd.databricks.v1.subcommand+json": {
       "bindings": {},
       "collapsed": false,
       "command": "%sql\nselect * from (\nselect author_name,category,sum(latest_enroll) over (partition by category order by latest_enroll desc) total_st ,\nrow_number() over(partition by category order by latest_enroll desc) as rn\nfrom silver.udemy2)x\nwhere rn=1\norder by total_st desc\n",
       "commandTitle": "Visualization 1",
       "commandType": "auto",
       "commandVersion": 0,
       "commentThread": [],
       "commentsVisible": false,
       "contentSha256Hex": null,
       "customPlotOptions": {
        "plotlyBar": [
         {
          "key": "grouped",
          "value": false
         },
         {
          "key": "stacked",
          "value": true
         },
         {
          "key": "100_stacked",
          "value": false
         }
        ]
       },
       "datasetPreviewNameToCmdIdMap": {},
       "diffDeletes": [],
       "diffInserts": [],
       "displayType": "plotlyBar",
       "error": null,
       "errorSummary": null,
       "errorTraceType": null,
       "finishTime": 0,
       "globalVars": {},
       "guid": "",
       "height": "auto",
       "hideCommandCode": false,
       "hideCommandResult": false,
       "iPythonMetadata": null,
       "inputWidgets": {},
       "isLockedInExamMode": false,
       "latestUser": "a user",
       "latestUserId": null,
       "listResultMetadata": null,
       "metadata": {},
       "nuid": "20105cbb-3aff-4523-b3c5-00aac7d6900a",
       "origId": 0,
       "parentHierarchy": [],
       "pivotAggregation": "sum",
       "pivotColumns": [
        "category"
       ],
       "position": 4.75,
       "resultDbfsErrorMessage": null,
       "resultDbfsStatus": "INLINED_IN_TREE",
       "results": null,
       "showCommandTitle": false,
       "startTime": 0,
       "state": "input",
       "streamStates": {},
       "subcommandOptions": null,
       "submitTime": 0,
       "subtype": "tableResultSubCmd.visualization",
       "tableResultIndex": 0,
       "useConsistentColors": false,
       "version": "CommandV1",
       "width": "auto",
       "workflows": [],
       "xColumns": [
        "author_name"
       ],
       "yColumns": [
        "total_st"
       ]
      }
     },
     "output_type": "display_data"
    }
   ],
   "source": [
    "%sql\n",
    "select * from (\n",
    "select author_name,category,sum(latest_enroll) over (partition by category order by latest_enroll desc) total_st ,\n",
    "row_number() over(partition by category order by latest_enroll desc) as rn\n",
    "from silver.udemy2)x\n",
    "where rn=1\n",
    "order by total_st desc\n"
   ]
  },
  {
   "cell_type": "code",
   "execution_count": 0,
   "metadata": {
    "application/vnd.databricks.v1+cell": {
     "cellMetadata": {},
     "inputWidgets": {},
     "nuid": "20cf40ff-c1aa-4e88-ab56-2ca155c890a6",
     "showTitle": false,
     "title": ""
    }
   },
   "outputs": [
    {
     "output_type": "display_data",
     "data": {
      "text/html": [
       "<style scoped>\n",
       "  .table-result-container {\n",
       "    max-height: 300px;\n",
       "    overflow: auto;\n",
       "  }\n",
       "  table, th, td {\n",
       "    border: 1px solid black;\n",
       "    border-collapse: collapse;\n",
       "  }\n",
       "  th, td {\n",
       "    padding: 5px;\n",
       "  }\n",
       "  th {\n",
       "    text-align: left;\n",
       "  }\n",
       "</style><div class='table-result-container'><table class='table-result'><thead style='background-color: white'><tr><th>Title</th><th>category</th><th>Rating</th></tr></thead><tbody><tr><td>2020 Complete Python Bootcamp: From Zero to Hero in Python</td><td>tech</td><td>318066</td></tr><tr><td>The Web Developer Bootcamp</td><td>tech</td><td>182997</td></tr><tr><td>Microsoft Excel - Excel from Beginner to Advanced</td><td>office</td><td>174080</td></tr><tr><td>Java Programming Masterclass for Software Developers</td><td>tech</td><td>123798</td></tr><tr><td>The Complete Digital Marketing Course - 12 Courses in 1</td><td>marketing</td><td>117014</td></tr><tr><td>The Ultimate Drawing Course - Beginner to Advanced</td><td>design</td><td>98984</td></tr><tr><td>React - The Complete Guide (incl Hooks, React Router, Redux)</td><td>tech</td><td>90964</td></tr><tr><td>Python for Data Science and Machine Learning Bootcamp</td><td>tech</td><td>87403</td></tr><tr><td>The Complete JavaScript Course 2020: Build Real Projects!</td><td>tech</td><td>83521</td></tr><tr><td>The Complete SQL Bootcamp 2020: Go from Zero to Hero</td><td>bussiness</td><td>79919</td></tr></tbody></table></div>"
      ]
     },
     "metadata": {
      "application/vnd.databricks.v1+output": {
       "addedWidgets": {},
       "aggData": [],
       "aggError": "",
       "aggOverflow": false,
       "aggSchema": [],
       "aggSeriesLimitReached": false,
       "aggType": "",
       "arguments": {},
       "columnCustomDisplayInfos": {},
       "data": [
        [
         "2020 Complete Python Bootcamp: From Zero to Hero in Python",
         "tech",
         318066
        ],
        [
         "The Web Developer Bootcamp",
         "tech",
         182997
        ],
        [
         "Microsoft Excel - Excel from Beginner to Advanced",
         "office",
         174080
        ],
        [
         "Java Programming Masterclass for Software Developers",
         "tech",
         123798
        ],
        [
         "The Complete Digital Marketing Course - 12 Courses in 1",
         "marketing",
         117014
        ],
        [
         "The Ultimate Drawing Course - Beginner to Advanced",
         "design",
         98984
        ],
        [
         "React - The Complete Guide (incl Hooks, React Router, Redux)",
         "tech",
         90964
        ],
        [
         "Python for Data Science and Machine Learning Bootcamp",
         "tech",
         87403
        ],
        [
         "The Complete JavaScript Course 2020: Build Real Projects!",
         "tech",
         83521
        ],
        [
         "The Complete SQL Bootcamp 2020: Go from Zero to Hero",
         "bussiness",
         79919
        ]
       ],
       "datasetInfos": [],
       "dbfsResultPath": null,
       "isJsonSchema": true,
       "metadata": {},
       "overflow": false,
       "plotOptions": {
        "customPlotOptions": {},
        "displayType": "table",
        "pivotAggregation": null,
        "pivotColumns": null,
        "xColumns": null,
        "yColumns": null
       },
       "removedWidgets": [],
       "schema": [
        {
         "metadata": "{}",
         "name": "Title",
         "type": "\"string\""
        },
        {
         "metadata": "{}",
         "name": "category",
         "type": "\"string\""
        },
        {
         "metadata": "{}",
         "name": "Rating",
         "type": "\"integer\""
        }
       ],
       "type": "table"
      }
     },
     "output_type": "display_data"
    },
    {
     "output_type": "display_data",
     "data": {
      "text/plain": [
       "Databricks visualization. Run in Databricks to view."
      ]
     },
     "metadata": {
      "application/vnd.databricks.v1.subcommand+json": {
       "bindings": {},
       "collapsed": false,
       "command": "from pyspark.sql.functions import desc\nreport_df = df_udemy_silver.select(\"Title\", \"category\", \"Rating\").orderBy(desc(\"Rating\")).limit(10)\ndisplay(report_df)\n",
       "commandTitle": "Visualization 1",
       "commandType": "auto",
       "commandVersion": 0,
       "commentThread": [],
       "commentsVisible": false,
       "contentSha256Hex": null,
       "customPlotOptions": {
        "boxPlot": [],
        "mapPlot": [],
        "pieChart": [
         {
          "key": "donut",
          "value": true
         }
        ],
        "plotlyBar": [
         {
          "key": "grouped",
          "value": true
         },
         {
          "key": "stacked",
          "value": false
         },
         {
          "key": "100_stacked",
          "value": false
         }
        ],
        "plotlyLine": [
         {
          "key": "yRange",
          "value": ""
         },
         {
          "key": "showPoints",
          "value": false
         },
         {
          "key": "logScale",
          "value": false
         }
        ],
        "quantilePlot": []
       },
       "datasetPreviewNameToCmdIdMap": {},
       "diffDeletes": [],
       "diffInserts": [],
       "displayType": "pieChart",
       "error": null,
       "errorSummary": null,
       "errorTraceType": null,
       "finishTime": 0,
       "globalVars": {},
       "guid": "",
       "height": "auto",
       "hideCommandCode": false,
       "hideCommandResult": false,
       "iPythonMetadata": null,
       "inputWidgets": {},
       "isLockedInExamMode": false,
       "latestUser": "a user",
       "latestUserId": null,
       "listResultMetadata": null,
       "metadata": {},
       "nuid": "322c682f-4c1e-412d-b177-849bf788b7f6",
       "origId": 0,
       "parentHierarchy": [],
       "pivotAggregation": "sum",
       "pivotColumns": [
        "category"
       ],
       "position": 6.0,
       "resultDbfsErrorMessage": null,
       "resultDbfsStatus": "INLINED_IN_TREE",
       "results": null,
       "showCommandTitle": false,
       "startTime": 0,
       "state": "input",
       "streamStates": {},
       "subcommandOptions": null,
       "submitTime": 0,
       "subtype": "tableResultSubCmd.visualization",
       "tableResultIndex": 0,
       "useConsistentColors": false,
       "version": "CommandV1",
       "width": "auto",
       "workflows": [],
       "xColumns": [
        "Title"
       ],
       "yColumns": [
        "Rating"
       ]
      }
     },
     "output_type": "display_data"
    }
   ],
   "source": [
    "from pyspark.sql.functions import desc\n",
    "report_df = df_udemy_silver.select(\"Title\", \"category\", \"Rating\").orderBy(desc(\"Rating\")).limit(10)\n",
    "display(report_df)\n"
   ]
  },
  {
   "cell_type": "markdown",
   "metadata": {
    "application/vnd.databricks.v1+cell": {
     "cellMetadata": {},
     "inputWidgets": {},
     "nuid": "fe1b6a5b-22d5-4560-9e4f-31c302185cb0",
     "showTitle": false,
     "title": ""
    }
   },
   "source": [
    "# Total entrolments"
   ]
  },
  {
   "cell_type": "markdown",
   "metadata": {
    "application/vnd.databricks.v1+cell": {
     "cellMetadata": {},
     "inputWidgets": {},
     "nuid": "088bbd9a-6f18-4a8d-b51a-b22f295fe96f",
     "showTitle": false,
     "title": ""
    }
   },
   "source": [
    "#categorywise enrolment report"
   ]
  },
  {
   "cell_type": "code",
   "execution_count": 0,
   "metadata": {
    "application/vnd.databricks.v1+cell": {
     "cellMetadata": {},
     "inputWidgets": {},
     "nuid": "b091152c-b589-4d33-a01e-7f73be36c847",
     "showTitle": false,
     "title": ""
    }
   },
   "outputs": [
    {
     "output_type": "display_data",
     "data": {
      "text/plain": [
       "\u001B[0;31m---------------------------------------------------------------------------\u001B[0m\n",
       "\u001B[0;31mTypeError\u001B[0m                                 Traceback (most recent call last)\n",
       "\u001B[0;32m<command-4243948708432551>\u001B[0m in \u001B[0;36m<cell line: 8>\u001B[0;34m()\u001B[0m\n",
       "\u001B[1;32m      6\u001B[0m \u001B[0;34m\u001B[0m\u001B[0m\n",
       "\u001B[1;32m      7\u001B[0m \u001B[0;32mfrom\u001B[0m \u001B[0mpyspark\u001B[0m\u001B[0;34m.\u001B[0m\u001B[0msql\u001B[0m\u001B[0;34m.\u001B[0m\u001B[0mfunctions\u001B[0m \u001B[0;32mimport\u001B[0m \u001B[0mavg\u001B[0m\u001B[0;34m\u001B[0m\u001B[0;34m\u001B[0m\u001B[0m\n",
       "\u001B[0;32m----> 8\u001B[0;31m \u001B[0mreport_df\u001B[0m \u001B[0;34m=\u001B[0m \u001B[0mdf_udemy_silver\u001B[0m\u001B[0;34m.\u001B[0m\u001B[0mgroupBy\u001B[0m\u001B[0;34m(\u001B[0m\u001B[0;34m\"category\"\u001B[0m\u001B[0;34m)\u001B[0m\u001B[0;34m.\u001B[0m\u001B[0magg\u001B[0m\u001B[0;34m(\u001B[0m\u001B[0msum\u001B[0m\u001B[0;34m(\u001B[0m\u001B[0;34m\"Enrollment\"\u001B[0m\u001B[0;34m)\u001B[0m\u001B[0;34m.\u001B[0m\u001B[0malias\u001B[0m\u001B[0;34m(\u001B[0m\u001B[0;34m\"total_enrollments\"\u001B[0m\u001B[0;34m)\u001B[0m\u001B[0;34m,\u001B[0m \u001B[0mavg\u001B[0m\u001B[0;34m(\u001B[0m\u001B[0;34m\"Stars\"\u001B[0m\u001B[0;34m)\u001B[0m\u001B[0;34m.\u001B[0m\u001B[0malias\u001B[0m\u001B[0;34m(\u001B[0m\u001B[0;34m\"avg_stars\"\u001B[0m\u001B[0;34m)\u001B[0m\u001B[0;34m)\u001B[0m\u001B[0;34m\u001B[0m\u001B[0;34m\u001B[0m\u001B[0m\n",
       "\u001B[0m\u001B[1;32m      9\u001B[0m \u001B[0mdisplay\u001B[0m\u001B[0;34m(\u001B[0m\u001B[0mreport_df\u001B[0m\u001B[0;34m)\u001B[0m\u001B[0;34m\u001B[0m\u001B[0;34m\u001B[0m\u001B[0m\n",
       "\n",
       "\u001B[0;31mTypeError\u001B[0m: unsupported operand type(s) for +: 'int' and 'str'"
      ]
     },
     "metadata": {
      "application/vnd.databricks.v1+output": {
       "arguments": {},
       "data": "\u001B[0;31m---------------------------------------------------------------------------\u001B[0m\n\u001B[0;31mTypeError\u001B[0m                                 Traceback (most recent call last)\n\u001B[0;32m<command-4243948708432551>\u001B[0m in \u001B[0;36m<cell line: 8>\u001B[0;34m()\u001B[0m\n\u001B[1;32m      6\u001B[0m \u001B[0;34m\u001B[0m\u001B[0m\n\u001B[1;32m      7\u001B[0m \u001B[0;32mfrom\u001B[0m \u001B[0mpyspark\u001B[0m\u001B[0;34m.\u001B[0m\u001B[0msql\u001B[0m\u001B[0;34m.\u001B[0m\u001B[0mfunctions\u001B[0m \u001B[0;32mimport\u001B[0m \u001B[0mavg\u001B[0m\u001B[0;34m\u001B[0m\u001B[0;34m\u001B[0m\u001B[0m\n\u001B[0;32m----> 8\u001B[0;31m \u001B[0mreport_df\u001B[0m \u001B[0;34m=\u001B[0m \u001B[0mdf_udemy_silver\u001B[0m\u001B[0;34m.\u001B[0m\u001B[0mgroupBy\u001B[0m\u001B[0;34m(\u001B[0m\u001B[0;34m\"category\"\u001B[0m\u001B[0;34m)\u001B[0m\u001B[0;34m.\u001B[0m\u001B[0magg\u001B[0m\u001B[0;34m(\u001B[0m\u001B[0msum\u001B[0m\u001B[0;34m(\u001B[0m\u001B[0;34m\"Enrollment\"\u001B[0m\u001B[0;34m)\u001B[0m\u001B[0;34m.\u001B[0m\u001B[0malias\u001B[0m\u001B[0;34m(\u001B[0m\u001B[0;34m\"total_enrollments\"\u001B[0m\u001B[0;34m)\u001B[0m\u001B[0;34m,\u001B[0m \u001B[0mavg\u001B[0m\u001B[0;34m(\u001B[0m\u001B[0;34m\"Stars\"\u001B[0m\u001B[0;34m)\u001B[0m\u001B[0;34m.\u001B[0m\u001B[0malias\u001B[0m\u001B[0;34m(\u001B[0m\u001B[0;34m\"avg_stars\"\u001B[0m\u001B[0;34m)\u001B[0m\u001B[0;34m)\u001B[0m\u001B[0;34m\u001B[0m\u001B[0;34m\u001B[0m\u001B[0m\n\u001B[0m\u001B[1;32m      9\u001B[0m \u001B[0mdisplay\u001B[0m\u001B[0;34m(\u001B[0m\u001B[0mreport_df\u001B[0m\u001B[0;34m)\u001B[0m\u001B[0;34m\u001B[0m\u001B[0;34m\u001B[0m\u001B[0m\n\n\u001B[0;31mTypeError\u001B[0m: unsupported operand type(s) for +: 'int' and 'str'",
       "errorSummary": "<span class='ansi-red-fg'>TypeError</span>: unsupported operand type(s) for +: 'int' and 'str'",
       "errorTraceType": "ansi",
       "metadata": {},
       "type": "ipynbError"
      }
     },
     "output_type": "display_data"
    }
   ],
   "source": [
    "# from pyspark.sql.functions import sum\n",
    "# report_df = df_udemy_silver.groupBy(\"category\").agg(sum(\"Enrollment\").alias(\"total_enrollment\"))\n",
    "# display(report_df)\n",
    "\n",
    "\n",
    "\n",
    "from pyspark.sql.functions import avg\n",
    "report_df = df_udemy_silver.groupBy(\"category\").agg(sum(\"Enrollment\").alias(\"total_enrollments\"), avg(\"Stars\").alias(\"avg_stars\"))\n",
    "display(report_df)\n"
   ]
  },
  {
   "cell_type": "code",
   "execution_count": 0,
   "metadata": {
    "application/vnd.databricks.v1+cell": {
     "cellMetadata": {},
     "inputWidgets": {},
     "nuid": "bfb94e5c-241f-43ec-99f6-df8dd32a5c53",
     "showTitle": false,
     "title": ""
    }
   },
   "outputs": [
    {
     "output_type": "stream",
     "name": "stdout",
     "output_type": "stream",
     "text": [
      "root\n |-- index: integer (nullable = true)\n |-- Title: string (nullable = true)\n |-- Summary: string (nullable = true)\n |-- Enrollment: integer (nullable = true)\n |-- Stars: double (nullable = true)\n |-- Rating: integer (nullable = true)\n |-- Link: string (nullable = true)\n |-- category: string (nullable = true)\n |-- instructor_tag: string (nullable = true)\n |-- written_rating: integer (nullable = true)\n |-- total_students_author: integer (nullable = true)\n |-- latest_enroll: integer (nullable = true)\n |-- total_courses: integer (nullable = true)\n |-- instructor_rating: double (nullable = true)\n |-- img_url: string (nullable = true)\n |-- course_rating: double (nullable = true)\n |-- written_course_rating: integer (nullable = true)\n |-- author_name: string (nullable = true)\n |-- last_modified: string (nullable = true)\n |-- created_timestamp: timestamp (nullable = true)\n\n"
     ]
    }
   ],
   "source": [
    "df_udemy_silver.printSchema()"
   ]
  },
  {
   "cell_type": "markdown",
   "metadata": {
    "application/vnd.databricks.v1+cell": {
     "cellMetadata": {},
     "inputWidgets": {},
     "nuid": "d52d19a9-bbb9-4b63-bcc2-db3e2e5348e7",
     "showTitle": false,
     "title": ""
    }
   },
   "source": [
    "#top rated and most percentage user ratings given"
   ]
  },
  {
   "cell_type": "code",
   "execution_count": 0,
   "metadata": {
    "application/vnd.databricks.v1+cell": {
     "cellMetadata": {},
     "inputWidgets": {},
     "nuid": "178a8a10-ce00-4d77-9d77-1aa8b1cda82c",
     "showTitle": false,
     "title": ""
    }
   },
   "outputs": [
    {
     "output_type": "display_data",
     "data": {
      "text/html": [
       "<style scoped>\n",
       "  .table-result-container {\n",
       "    max-height: 300px;\n",
       "    overflow: auto;\n",
       "  }\n",
       "  table, th, td {\n",
       "    border: 1px solid black;\n",
       "    border-collapse: collapse;\n",
       "  }\n",
       "  th, td {\n",
       "    padding: 5px;\n",
       "  }\n",
       "  th {\n",
       "    text-align: left;\n",
       "  }\n",
       "</style><div class='table-result-container'><table class='table-result'><thead style='background-color: white'><tr><th>title</th><th>Stars</th><th>percent_rating</th><th>category</th><th>img_url</th><th>rank</th></tr></thead><tbody><tr><td>Emotional Intelligence at Work: Learn from Your Emotions</td><td>4.5</td><td>46.2</td><td>bussiness</td><td> https://img-c.udemycdn.com/course/240x135/2246852_8860.jpg</td><td>1</td></tr><tr><td>Design Thinking in 3 Steps</td><td>4.4</td><td>44.13</td><td>design</td><td> https://img-c.udemycdn.com/course/240x135/1065056_41ed_5.jpg</td><td>1</td></tr><tr><td>Blockchain and Bitcoin Fundamentals</td><td>4.6</td><td>31.25</td><td>finance</td><td> https://img-b.udemycdn.com/course/240x135/1151036_64b6_6.jpg</td><td>1</td></tr><tr><td>The Complete Guide to League of Legends</td><td>4.5</td><td>33.96</td><td>life_style</td><td> https://img-c.udemycdn.com/course/240x135/1712886_5ce0.jpg</td><td>1</td></tr><tr><td>Seth Godin on Presenting to Persuade</td><td>4.4</td><td>34.93</td><td>marketing</td><td> https://img-c.udemycdn.com/course/240x135/1101380_4d44.jpg</td><td>1</td></tr><tr><td>Elite Singing Techniques - Phase I</td><td>4.7</td><td>26.81</td><td>music</td><td> https://img-c.udemycdn.com/course/240x135/70030_c4e7_8.jpg</td><td>1</td></tr><tr><td>SAP Simplified for Absolute Beginners</td><td>4.4</td><td>32.84</td><td>office</td><td> https://img-c.udemycdn.com/course/240x135/826870_0677_2.jpg</td><td>1</td></tr><tr><td>Cinematography Course: Shoot Expert Video on Any Camera</td><td>4.5</td><td>29.25</td><td>photography</td><td> https://img-b.udemycdn.com/course/240x135/1488956_955e.jpg</td><td>1</td></tr><tr><td>C# Basics for Beginners: Learn C# Fundamentals by Coding</td><td>4.5</td><td>30.78</td><td>tech</td><td> https://img-c.udemycdn.com/course/240x135/382002_5d4a.jpg</td><td>1</td></tr></tbody></table></div>"
      ]
     },
     "metadata": {
      "application/vnd.databricks.v1+output": {
       "addedWidgets": {},
       "aggData": [],
       "aggError": "",
       "aggOverflow": false,
       "aggSchema": [],
       "aggSeriesLimitReached": false,
       "aggType": "",
       "arguments": {},
       "columnCustomDisplayInfos": {},
       "data": [
        [
         "Emotional Intelligence at Work: Learn from Your Emotions",
         4.5,
         46.2,
         "bussiness",
         " https://img-c.udemycdn.com/course/240x135/2246852_8860.jpg",
         1
        ],
        [
         "Design Thinking in 3 Steps",
         4.4,
         44.13,
         "design",
         " https://img-c.udemycdn.com/course/240x135/1065056_41ed_5.jpg",
         1
        ],
        [
         "Blockchain and Bitcoin Fundamentals",
         4.6,
         31.25,
         "finance",
         " https://img-b.udemycdn.com/course/240x135/1151036_64b6_6.jpg",
         1
        ],
        [
         "The Complete Guide to League of Legends",
         4.5,
         33.96,
         "life_style",
         " https://img-c.udemycdn.com/course/240x135/1712886_5ce0.jpg",
         1
        ],
        [
         "Seth Godin on Presenting to Persuade",
         4.4,
         34.93,
         "marketing",
         " https://img-c.udemycdn.com/course/240x135/1101380_4d44.jpg",
         1
        ],
        [
         "Elite Singing Techniques - Phase I",
         4.7,
         26.81,
         "music",
         " https://img-c.udemycdn.com/course/240x135/70030_c4e7_8.jpg",
         1
        ],
        [
         "SAP Simplified for Absolute Beginners",
         4.4,
         32.84,
         "office",
         " https://img-c.udemycdn.com/course/240x135/826870_0677_2.jpg",
         1
        ],
        [
         "Cinematography Course: Shoot Expert Video on Any Camera",
         4.5,
         29.25,
         "photography",
         " https://img-b.udemycdn.com/course/240x135/1488956_955e.jpg",
         1
        ],
        [
         "C# Basics for Beginners: Learn C# Fundamentals by Coding",
         4.5,
         30.78,
         "tech",
         " https://img-c.udemycdn.com/course/240x135/382002_5d4a.jpg",
         1
        ]
       ],
       "datasetInfos": [],
       "dbfsResultPath": null,
       "isJsonSchema": true,
       "metadata": {},
       "overflow": false,
       "plotOptions": {
        "customPlotOptions": {},
        "displayType": "table",
        "pivotAggregation": null,
        "pivotColumns": null,
        "xColumns": null,
        "yColumns": null
       },
       "removedWidgets": [],
       "schema": [
        {
         "metadata": "{}",
         "name": "title",
         "type": "\"string\""
        },
        {
         "metadata": "{}",
         "name": "Stars",
         "type": "\"double\""
        },
        {
         "metadata": "{}",
         "name": "percent_rating",
         "type": "\"double\""
        },
        {
         "metadata": "{}",
         "name": "category",
         "type": "\"string\""
        },
        {
         "metadata": "{}",
         "name": "img_url",
         "type": "\"string\""
        },
        {
         "metadata": "{}",
         "name": "rank",
         "type": "\"integer\""
        }
       ],
       "type": "table"
      }
     },
     "output_type": "display_data"
    },
    {
     "output_type": "display_data",
     "data": {
      "text/plain": [
       "Databricks visualization. Run in Databricks to view."
      ]
     },
     "metadata": {
      "application/vnd.databricks.v1.subcommand+json": {
       "bindings": {},
       "collapsed": false,
       "command": "# from pyspark.sql.functions import round, col\n\n# x=df_udemy_silver.select(\"title\",'Enrollment','Rating','Stars')\n\n# df = x.withColumn(\"percent_rating\", round(col(\"rating\")/col(\"Enrollment\")*100,2)).orderBy(desc(\"percent_rating\")).limit(10)\n# re=df.select(\"title\",\"Stars\",\"percent_rating\")\n# display(re)\n\n\nfrom pyspark.sql.functions import round, col,row_number\nfrom pyspark.sql.window import Window\n\ny=df_udemy_silver.select(\"title\",'Enrollment','Rating','Stars','category','img_url')\n\ndf = y.withColumn(\"percent_rating\", round(col(\"rating\")/col(\"Enrollment\")*100,2))\nre=df.select(\"title\",\"Stars\",\"percent_rating\",'category','img_url')\n\n\nwindow_spec = Window.partitionBy('category').orderBy(col('percent_rating').desc())\n\ndf_with_ranks = re.withColumn('rank', row_number().over(window_spec))\ndf_top_5 = df_with_ranks.filter(col('rank') <= 5)\ndisplay(df_top_5)\n",
       "commandTitle": "Visualization 1",
       "commandType": "auto",
       "commandVersion": 0,
       "commentThread": [],
       "commentsVisible": false,
       "contentSha256Hex": null,
       "customPlotOptions": {
        "plotlyBar": [
         {
          "key": "grouped",
          "value": false
         },
         {
          "key": "stacked",
          "value": true
         },
         {
          "key": "100_stacked",
          "value": false
         }
        ]
       },
       "datasetPreviewNameToCmdIdMap": {},
       "diffDeletes": [],
       "diffInserts": [],
       "displayType": "plotlyBar",
       "error": null,
       "errorSummary": null,
       "errorTraceType": null,
       "finishTime": 0,
       "globalVars": {},
       "guid": "",
       "height": "auto",
       "hideCommandCode": false,
       "hideCommandResult": false,
       "iPythonMetadata": null,
       "inputWidgets": {},
       "isLockedInExamMode": false,
       "latestUser": "a user",
       "latestUserId": null,
       "listResultMetadata": null,
       "metadata": {},
       "nuid": "3136546f-ab2b-4199-9209-dce767ada0bb",
       "origId": 0,
       "parentHierarchy": [],
       "pivotAggregation": "avg",
       "pivotColumns": [],
       "position": 12.0,
       "resultDbfsErrorMessage": null,
       "resultDbfsStatus": "INLINED_IN_TREE",
       "results": null,
       "showCommandTitle": false,
       "startTime": 0,
       "state": "input",
       "streamStates": {},
       "subcommandOptions": null,
       "submitTime": 0,
       "subtype": "tableResultSubCmd.visualization",
       "tableResultIndex": 0,
       "useConsistentColors": false,
       "version": "CommandV1",
       "width": "auto",
       "workflows": [],
       "xColumns": [
        "title",
        "img_url"
       ],
       "yColumns": [
        "percent_rating",
        "Stars"
       ]
      }
     },
     "output_type": "display_data"
    }
   ],
   "source": [
    "# from pyspark.sql.functions import round, col\n",
    "\n",
    "# x=df_udemy_silver.select(\"title\",'Enrollment','Rating','Stars')\n",
    "\n",
    "# df = x.withColumn(\"percent_rating\", round(col(\"rating\")/col(\"Enrollment\")*100,2)).orderBy(desc(\"percent_rating\")).limit(10)\n",
    "# re=df.select(\"title\",\"Stars\",\"percent_rating\")\n",
    "# display(re)\n",
    "\n",
    "\n",
    "from pyspark.sql.functions import round, col,row_number\n",
    "from pyspark.sql.window import Window\n",
    "\n",
    "y=df_udemy_silver.select(\"title\",'Enrollment','Rating','Stars','category','img_url')\n",
    "\n",
    "df = y.withColumn(\"percent_rating\", round(col(\"rating\")/col(\"Enrollment\")*100,2))\n",
    "re=df.select(\"title\",\"Stars\",\"percent_rating\",'category','img_url')\n",
    "\n",
    "\n",
    "window_spec = Window.partitionBy('category').orderBy(col('percent_rating').desc())\n",
    "\n",
    "df_with_ranks = re.withColumn('rank', row_number().over(window_spec))\n",
    "df_top_5 = df_with_ranks.filter(col('rank') <= 1)\n",
    "display(df_top_5)\n"
   ]
  },
  {
   "cell_type": "code",
   "execution_count": 0,
   "metadata": {
    "application/vnd.databricks.v1+cell": {
     "cellMetadata": {
      "implicitDf": true
     },
     "inputWidgets": {},
     "nuid": "67654d27-9a3a-473f-819b-3dd8a25fcdfc",
     "showTitle": false,
     "title": ""
    }
   },
   "outputs": [
    {
     "output_type": "display_data",
     "data": {
      "text/html": [
       "<style scoped>\n",
       "  .table-result-container {\n",
       "    max-height: 300px;\n",
       "    overflow: auto;\n",
       "  }\n",
       "  table, th, td {\n",
       "    border: 1px solid black;\n",
       "    border-collapse: collapse;\n",
       "  }\n",
       "  th, td {\n",
       "    padding: 5px;\n",
       "  }\n",
       "  th {\n",
       "    text-align: left;\n",
       "  }\n",
       "</style><div class='table-result-container'><table class='table-result'><thead style='background-color: white'><tr><th>author_name</th><th>category</th><th>total_courses</th></tr></thead><tbody><tr><td> Phil Ebiner</td><td>photography</td><td>612</td></tr><tr><td> Phil Ebiner</td><td>marketing</td><td>480</td></tr><tr><td> 365 Careers</td><td>finance</td><td>455</td></tr><tr><td> Phil Ebiner</td><td>design</td><td>408</td></tr><tr><td> Kirill Eremenko</td><td>bussiness</td><td>319</td></tr></tbody></table></div>"
      ]
     },
     "metadata": {
      "application/vnd.databricks.v1+output": {
       "addedWidgets": {},
       "aggData": [],
       "aggError": "",
       "aggOverflow": false,
       "aggSchema": [],
       "aggSeriesLimitReached": false,
       "aggType": "",
       "arguments": {},
       "columnCustomDisplayInfos": {},
       "data": [
        [
         " Phil Ebiner",
         "photography",
         612
        ],
        [
         " Phil Ebiner",
         "marketing",
         480
        ],
        [
         " 365 Careers",
         "finance",
         455
        ],
        [
         " Phil Ebiner",
         "design",
         408
        ],
        [
         " Kirill Eremenko",
         "bussiness",
         319
        ]
       ],
       "datasetInfos": [],
       "dbfsResultPath": null,
       "isJsonSchema": true,
       "metadata": {},
       "overflow": false,
       "plotOptions": {
        "customPlotOptions": {},
        "displayType": "table",
        "pivotAggregation": null,
        "pivotColumns": null,
        "xColumns": null,
        "yColumns": null
       },
       "removedWidgets": [],
       "schema": [
        {
         "metadata": "{}",
         "name": "author_name",
         "type": "\"string\""
        },
        {
         "metadata": "{}",
         "name": "category",
         "type": "\"string\""
        },
        {
         "metadata": "{}",
         "name": "total_courses",
         "type": "\"long\""
        }
       ],
       "type": "table"
      }
     },
     "output_type": "display_data"
    },
    {
     "output_type": "display_data",
     "data": {
      "text/plain": [
       "Databricks visualization. Run in Databricks to view."
      ]
     },
     "metadata": {
      "application/vnd.databricks.v1.subcommand+json": {
       "bindings": {},
       "collapsed": false,
       "command": "%sql WITH q AS (select  author_name,category,sum(total_courses) as total_courses from silver.udemy1\ngroup by author_name,category\norder by total_courses desc\nlimit (5)) SELECT `author_name`,`category`,SUM(`total_courses`) `column_a5bdce6236` FROM q GROUP BY `author_name`,`category`",
       "commandTitle": "Visualization 1",
       "commandType": "auto",
       "commandVersion": 0,
       "commentThread": [],
       "commentsVisible": false,
       "contentSha256Hex": null,
       "customPlotOptions": {
        "redashChart": [
         {
          "key": "type",
          "value": "CHART"
         },
         {
          "key": "options",
          "value": {
           "alignYAxesAtZero": true,
           "coefficient": 1,
           "columnConfigurationMap": {
            "series": {
             "column": "category",
             "id": "column_a5bdce6235"
            },
            "x": {
             "column": "author_name",
             "id": "column_a5bdce6234"
            },
            "y": [
             {
              "column": "total_courses",
              "id": "column_a5bdce6236",
              "transform": "SUM"
             }
            ]
           },
           "dateTimeFormat": "DD/MM/YYYY HH:mm",
           "direction": {
            "type": "counterclockwise"
           },
           "error_y": {
            "type": "data",
            "visible": true
           },
           "globalSeriesType": "column",
           "legend": {
            "traceorder": "normal"
           },
           "missingValuesAsZero": true,
           "numberFormat": "0,0[.]00000",
           "percentFormat": "0[.]00%",
           "series": {
            "error_y": {
             "type": "data",
             "visible": true
            },
            "stacking": "stack"
           },
           "seriesOptions": {
            "column_a5bdce6236": {
             "name": "total_courses",
             "yAxis": 0
            }
           },
           "showDataLabels": false,
           "sizemode": "diameter",
           "sortX": true,
           "sortY": true,
           "swappedAxes": true,
           "textFormat": "",
           "useAggregationsUi": true,
           "valuesOptions": {},
           "version": 2,
           "xAxis": {
            "labels": {
             "enabled": true
            },
            "type": "-"
           },
           "yAxis": [
            {
             "type": "-"
            },
            {
             "opposite": true,
             "type": "-"
            }
           ]
          }
         }
        ]
       },
       "datasetPreviewNameToCmdIdMap": {},
       "diffDeletes": [],
       "diffInserts": [],
       "displayType": "redashChart",
       "error": null,
       "errorSummary": null,
       "errorTraceType": null,
       "finishTime": 0,
       "globalVars": {},
       "guid": "",
       "height": "auto",
       "hideCommandCode": false,
       "hideCommandResult": false,
       "iPythonMetadata": null,
       "inputWidgets": {},
       "isLockedInExamMode": false,
       "latestUser": "a user",
       "latestUserId": null,
       "listResultMetadata": null,
       "metadata": {
        "implicitDf": true
       },
       "nuid": "071dea15-ac05-4e3f-a03b-220eb22f58e2",
       "origId": 0,
       "parentHierarchy": [],
       "pivotAggregation": null,
       "pivotColumns": null,
       "position": 13.0,
       "resultDbfsErrorMessage": null,
       "resultDbfsStatus": "INLINED_IN_TREE",
       "results": null,
       "showCommandTitle": false,
       "startTime": 0,
       "state": "input",
       "streamStates": {},
       "subcommandOptions": {
        "queryPlan": {
         "groups": [
          {
           "column": "author_name",
           "type": "column"
          },
          {
           "column": "category",
           "type": "column"
          }
         ],
         "selects": [
          {
           "column": "author_name",
           "type": "column"
          },
          {
           "column": "category",
           "type": "column"
          },
          {
           "alias": "column_a5bdce6236",
           "args": [
            {
             "column": "total_courses",
             "type": "column"
            }
           ],
           "function": "SUM",
           "type": "function"
          }
         ]
        }
       },
       "submitTime": 0,
       "subtype": "tableResultSubCmd.visualization",
       "tableResultIndex": 0,
       "useConsistentColors": false,
       "version": "CommandV1",
       "width": "auto",
       "workflows": [],
       "xColumns": null,
       "yColumns": null
      }
     },
     "output_type": "display_data"
    }
   ],
   "source": [
    "%sql\n",
    "select  author_name,category,sum(total_courses) as total_courses from silver.udemy2\n",
    "group by author_name,category\n",
    "order by total_courses desc\n",
    "limit (5)"
   ]
  },
  {
   "cell_type": "markdown",
   "metadata": {
    "application/vnd.databricks.v1+cell": {
     "cellMetadata": {},
     "inputWidgets": {},
     "nuid": "5bf75f48-e117-42d4-8a15-a476e65efdf9",
     "showTitle": false,
     "title": ""
    }
   },
   "source": [
    "#course performance top and bottom  courses categorywise"
   ]
  },
  {
   "cell_type": "code",
   "execution_count": 0,
   "metadata": {
    "application/vnd.databricks.v1+cell": {
     "cellMetadata": {},
     "inputWidgets": {},
     "nuid": "f7ddc321-a36a-4418-9db1-80bd8f043051",
     "showTitle": false,
     "title": ""
    }
   },
   "outputs": [
    {
     "output_type": "display_data",
     "data": {
      "text/html": [
       "<style scoped>\n",
       "  .table-result-container {\n",
       "    max-height: 300px;\n",
       "    overflow: auto;\n",
       "  }\n",
       "  table, th, td {\n",
       "    border: 1px solid black;\n",
       "    border-collapse: collapse;\n",
       "  }\n",
       "  th, td {\n",
       "    padding: 5px;\n",
       "  }\n",
       "  th {\n",
       "    text-align: left;\n",
       "  }\n",
       "</style><div class='table-result-container'><table class='table-result'><thead style='background-color: white'><tr><th>index</th><th>Title</th><th>Summary</th><th>Enrollment</th><th>Stars</th><th>Rating</th><th>Link</th><th>category</th><th>instructor_tag</th><th>written_rating</th><th>total_students_author</th><th>latest_enroll</th><th>total_courses</th><th>instructor_rating</th><th>img_url</th><th>course_rating</th><th>written_course_rating</th><th>author_name</th><th>last_modified</th><th>created_timestamp</th><th>enrollment_rank_desc</th><th>enrollment_rank_asc</th></tr></thead><tbody><tr><td>0</td><td>2020 Complete Python Bootcamp: From Zero to Hero in Python</td><td>Learn Python like a Professional! Start from the basics and go all the way to creating your own applications and games!</td><td>1100093</td><td>4.6</td><td>318066</td><td>https://www.udemy.com/course/complete-python-bootcamp/</td><td>tech</td><td>[Head of Data Science at Pierian Training</td><td>1013752</td><td>3270570</td><td>1691703</td><td>60</td><td>4.6</td><td> https://img-b.udemycdn.com/course/240x135/567828_67d0.jpg</td><td>4.6</td><td>454945</td><td> Jose Portilla</td><td>03/2021</td><td>2023-03-06T14:58:34.549+0000</td><td>1</td><td>30</td></tr><tr><td>0</td><td>Microsoft Excel - Excel from Beginner to Advanced</td><td>Excel with this A-Z Microsoft Excel Course. Microsoft Excel 2010, 2013, 2016, Excel 2019 and Office 365</td><td>558150</td><td>4.6</td><td>174080</td><td>https://www.udemy.com/course/microsoft-excel-2013-from-beginner-to-advanced-and-beyond/</td><td>office</td><td>[Microsoft Certified Trainer - 1 Million+ Students</td><td>419234</td><td>1355021</td><td>1213111</td><td>10</td><td>4.6</td><td> https://img-b.udemycdn.com/course/240x135/793796_0e89_2.jpg</td><td>4.7</td><td>361166</td><td> Kyle Pew</td><td>01/2023</td><td>2023-03-06T14:58:34.549+0000</td><td>1</td><td>15</td></tr><tr><td>0</td><td>The Complete Digital Marketing Course - 12 Courses in 1</td><td>Master Digital Marketing Strategy, Social Media Marketing, SEO, YouTube, Email, Facebook Marketing, Analytics & More!</td><td>494107</td><td>4.4</td><td>117014</td><td>https://www.udemy.com/course/learn-digital-marketing-course/</td><td>marketing</td><td>[Web Developer And Teacher</td><td>463464</td><td>2205928</td><td>737753</td><td>80</td><td>4.5</td><td> https://img-b.udemycdn.com/course/240x135/914296_3670_8.jpg</td><td>4.5</td><td>160871</td><td> Rob Percival</td><td>11/2022</td><td>2023-03-06T14:58:34.549+0000</td><td>1</td><td>33</td></tr><tr><td>9</td><td>Adobe Photoshop CC: Your Complete Beginner to Advanced Class</td><td>Learn the essential tools of Adobe Photoshop CC to jump right in and design beautiful graphics and photos in Photoshop.</td><td>470991</td><td>4.6</td><td>16005</td><td>https://www.udemy.com/course/adobe-photoshop-course/</td><td>design</td><td>[Top-Rated Instructor  2.5 Million+ Students</td><td>389023</td><td>2625059</td><td>512841</td><td>204</td><td>4.6</td><td> https://img-c.udemycdn.com/course/240x135/927356_8108_6.jpg</td><td>4.6</td><td>20595</td><td> Phil Ebiner</td><td>12/2022</td><td>2023-03-06T14:58:34.549+0000</td><td>1</td><td>37</td></tr><tr><td>0</td><td>The Complete SQL Bootcamp 2020: Go from Zero to Hero</td><td>Become an expert at SQL!</td><td>301243</td><td>4.7</td><td>79919</td><td>https://www.udemy.com/course/the-complete-sql-bootcamp/</td><td>bussiness</td><td>[Head of Data Science at Pierian Training</td><td>1013752</td><td>3269886</td><td>641558</td><td>60</td><td>4.6</td><td> https://img-c.udemycdn.com/course/240x135/762616_7693_3.jpg</td><td>4.7</td><td>164866</td><td> Jose Portilla</td><td>05/2022</td><td>2023-03-06T14:58:34.549+0000</td><td>1</td><td>27</td></tr><tr><td>1</td><td>Adobe Premiere Pro CC 2020: Video Editing for Beginners</td><td>Learn how to edit amazing videos in Adobe Premiere Pro CC 2020 with zero experience.</td><td>203666</td><td>4.5</td><td>2320</td><td>https://www.udemy.com/course/premiere-pro-with-brad-newton/</td><td>photography</td><td>[Fitness Coach & YouTuber | 312 000+ Students</td><td>6635</td><td>313783</td><td>212024</td><td>5</td><td>4.6</td><td> https://img-b.udemycdn.com/course/240x135/1920686_e0f7_8.jpg</td><td>4.6</td><td>3647</td><td> Brad Newton</td><td>11/2021</td><td>2023-03-06T14:58:34.549+0000</td><td>1</td><td>16</td></tr><tr><td>3</td><td>The Complete Financial Analyst Training & Investing Course</td><td>Succeed as a Financial Analyst &Investor by Award Winning MBA Prof who worked @Goldman, in Hedge Funds & Venture Capital</td><td>183645</td><td>4.5</td><td>21818</td><td>https://www.udemy.com/course/the-complete-financial-analyst-training-and-investing-course/</td><td>finance</td><td>[CEO of Haroun MBA Degree Program®</td><td>208696</td><td>1312283</td><td>246955</td><td>70</td><td>4.5</td><td> https://img-c.udemycdn.com/course/240x135/1202988_c73f_20.jpg</td><td>4.6</td><td>30123</td><td> Chris Haroun</td><td>02/2023</td><td>2023-03-06T14:58:34.549+0000</td><td>1</td><td>33</td></tr><tr><td>4</td><td>Music Theory Comprehensive Complete: Part 4, 5, & 6</td><td>Learn music theory through this music theory course app, music theory exercises, and music theory tutorials.</td><td>30767</td><td>4.7</td><td>2107</td><td>https://www.udemy.com/course/music-theory-comprehensive-combined-part-4-5-6/</td><td>music</td><td>[Ph.D / Ableton Certified Trainer</td><td>58096</td><td>260517</td><td>42589</td><td>111</td><td>4.6</td><td> https://img-c.udemycdn.com/course/240x135/1148430_c2a8_4.jpg</td><td>4.7</td><td>3213</td><td> Jason Allen</td><td>02/2023</td><td>2023-03-06T14:58:34.549+0000</td><td>1</td><td>15</td></tr><tr><td>38</td><td>Emotional Intelligence at Work: Learn from Your Emotions</td><td>Master EQ to identify emotions in yourself and others, manage your emotions, and improve your relationships at work.</td><td>21966</td><td>4.5</td><td>10148</td><td>https://www.udemy.com/course/emotional-intelligence-at-work-learn-from-your-emotions/</td><td>bussiness</td><td>[Executive Coach/Creator of AwesomeLeader.com/100K+ Students</td><td>62391</td><td>124206</td><td>95678</td><td>4</td><td>4.5</td><td> https://img-c.udemycdn.com/course/240x135/2246852_8860.jpg</td><td>4.5</td><td>47684</td><td> Leila Bulling Towne</td><td>06/2021</td><td>2023-03-06T14:58:34.549+0000</td><td>27</td><td>1</td></tr><tr><td>15</td><td>SAP Simplified for Absolute Beginners</td><td>Easy to follow Introduction into SAP ERP</td><td>21652</td><td>4.4</td><td>7110</td><td>https://www.udemy.com/course/sap-simplified-for-absolute-beginners/</td><td>office</td><td>[Zertifizierte Beraterin für SAP MM  Hobby: Fotobearbeitung</td><td>20071</td><td>68217</td><td>52244</td><td>6</td><td>4.5</td><td> https://img-c.udemycdn.com/course/240x135/826870_0677_2.jpg</td><td>4.4</td><td>16706</td><td> Ulrika Garner</td><td>05/2020</td><td>2023-03-06T14:58:34.549+0000</td><td>15</td><td>1</td></tr><tr><td>15</td><td>Healthy Cooking Fundamentals</td><td>A practical course to take your cooking skills from dull to delicious</td><td>18576</td><td>4.4</td><td>1484</td><td>https://www.udemy.com/course/up-beet-cooking-fundamentals/</td><td>life_style</td><td>[Health Supportive Chef  Founder of The Up Beet Kitchen</td><td>2268</td><td>22440</td><td>22440</td><td>1</td><td>4.5</td><td> https://img-c.udemycdn.com/course/240x135/863126_a899_5.jpg</td><td>4.5</td><td>2268</td><td> Chef Nic DeMuth</td><td>06/2016</td><td>2023-03-06T14:58:34.549+0000</td><td>1</td><td>16</td></tr><tr><td>35</td><td>Mastering QuickBooks Online</td><td>Become An Expert QuickBooks Online And Learn How To Keep And Maintain QuickBooks Records For Perfect Accuracy</td><td>9256</td><td>4.4</td><td>2587</td><td>https://www.udemy.com/course/mastering-quickbooks-online/</td><td>finance</td><td>[Professor of Computerized Accounting</td><td>10046</td><td>46135</td><td>27444</td><td>40</td><td>4.5</td><td> https://img-b.udemycdn.com/course/240x135/1337064_745d_3.jpg</td><td>4.5</td><td>7674</td><td> Mark Smolen</td><td>01/2023</td><td>2023-03-06T14:58:34.549+0000</td><td>33</td><td>1</td></tr><tr><td>34</td><td>Business Branding: The Complete Course Part 1 - Strategy</td><td>Build A Strategic Brand From The Ground Up, To Catapult Your Marketing Impact</td><td>9185</td><td>4.6</td><td>2399</td><td>https://www.udemy.com/course/business-branding-complete-course/</td><td>marketing</td><td>[Brand Creator & Strategist</td><td>9498</td><td>28503</td><td>20824</td><td>3</td><td>4.6</td><td> https://img-b.udemycdn.com/course/240x135/2222324_1478_2.jpg</td><td>4.6</td><td>5359</td><td> Steve Houraghan</td><td>11/2019</td><td>2023-03-06T14:58:34.549+0000</td><td>33</td><td>1</td></tr><tr><td>115</td><td>Fundamentals of Garden Design</td><td>An Introduction to Landscape Design</td><td>6729</td><td>4.4</td><td>1733</td><td>https://www.udemy.com/course/fundamentals-of-garden-design/</td><td>design</td><td>[Landscape Architect & Educator</td><td>3878</td><td>17218</td><td>14802</td><td>8</td><td>4.5</td><td> https://img-c.udemycdn.com/course/240x135/1242820_a019_2.jpg</td><td>4.5</td><td>3453</td><td> Rob Littlepage</td><td>08/2022</td><td>2023-03-06T14:58:34.549+0000</td><td>37</td><td>1</td></tr><tr><td>15</td><td>Music Production I - Learn to be a Music Producer!</td><td>Learn how to become a recording/music production engineer with little to no knowledge! Record music like a pro!</td><td>6712</td><td>4.5</td><td>1373</td><td>https://www.udemy.com/course/music-production/</td><td>music</td><td>[Studio Owner/Music Production Engineer|Pro Guitar Player</td><td>2171</td><td>10715</td><td>7682</td><td>3</td><td>4.3</td><td> https://img-c.udemycdn.com/course/240x135/1024722_23e6_6.jpg</td><td>4.5</td><td>1665</td><td> Mitch Houston</td><td>01/2023</td><td>2023-03-06T14:58:34.549+0000</td><td>15</td><td>1</td></tr><tr><td>12</td><td>The Complete Guide to League of Legends</td><td>Learn how to improve your game mechanics, micro/macro knowledge, and rank from former LCS coach, NicoThePico.</td><td>4708</td><td>4.5</td><td>1599</td><td>https://www.udemy.com/course/the-complete-guide-to-league-of-legends/</td><td>life_style</td><td>[Exclusive courses for gamers  streamers and content creators</td><td>1749</td><td>5389</td><td>5283</td><td>2</td><td>4.0</td><td> https://img-c.udemycdn.com/course/240x135/1712886_5ce0.jpg</td><td>3.8</td><td>1724</td><td> LVLUP Dojo</td><td>10/2018</td><td>2023-03-06T14:58:34.549+0000</td><td>16</td><td>1</td></tr><tr><td>15</td><td>Phantom & Mavic Filmschool 1- master autopilot with Litchi</td><td>Use autopilot to get amazing cinematic shots with your drone. You will master the Litchi app & take pro footage!</td><td>4316</td><td>4.6</td><td>1252</td><td>https://www.udemy.com/course/phantom-filmschool/</td><td>photography</td><td>[Aerial videographer</td><td>5130</td><td>28424</td><td>4504</td><td>9</td><td>4.5</td><td> https://img-c.udemycdn.com/course/240x135/702694_9ea6_4.jpg</td><td>4.5</td><td>1284</td><td> Laurence Seberini</td><td>02/2019</td><td>2023-03-06T14:58:34.549+0000</td><td>16</td><td>1</td></tr><tr><td>9358</td><td>PHP 101</td><td>PHP Coding for Beginners</td><td>514</td><td>4.7</td><td>12</td><td>https://www.udemy.com/course/introduction-to-php-101/</td><td>tech</td><td>[Internet Marketing and Traffic Academy</td><td>790</td><td>45707</td><td>524</td><td>23</td><td>4.0</td><td> https://img-c.udemycdn.com/course/240x135/164774_3a3b_4.jpg</td><td>4.5</td><td>15</td><td> Earners Classroom</td><td>03/2014</td><td>2023-03-06T14:58:34.549+0000</td><td>30</td><td>1</td></tr></tbody></table></div>"
      ]
     },
     "metadata": {
      "application/vnd.databricks.v1+output": {
       "addedWidgets": {},
       "aggData": [],
       "aggError": "",
       "aggOverflow": false,
       "aggSchema": [],
       "aggSeriesLimitReached": false,
       "aggType": "",
       "arguments": {},
       "columnCustomDisplayInfos": {},
       "data": [
        [
         0,
         "2020 Complete Python Bootcamp: From Zero to Hero in Python",
         "Learn Python like a Professional! Start from the basics and go all the way to creating your own applications and games!",
         1100093,
         4.6,
         318066,
         "https://www.udemy.com/course/complete-python-bootcamp/",
         "tech",
         "[Head of Data Science at Pierian Training",
         1013752,
         3270570,
         1691703,
         60,
         4.6,
         " https://img-b.udemycdn.com/course/240x135/567828_67d0.jpg",
         4.6,
         454945,
         " Jose Portilla",
         "03/2021",
         "2023-03-06T14:58:34.549+0000",
         1,
         30
        ],
        [
         0,
         "Microsoft Excel - Excel from Beginner to Advanced",
         "Excel with this A-Z Microsoft Excel Course. Microsoft Excel 2010, 2013, 2016, Excel 2019 and Office 365",
         558150,
         4.6,
         174080,
         "https://www.udemy.com/course/microsoft-excel-2013-from-beginner-to-advanced-and-beyond/",
         "office",
         "[Microsoft Certified Trainer - 1 Million+ Students",
         419234,
         1355021,
         1213111,
         10,
         4.6,
         " https://img-b.udemycdn.com/course/240x135/793796_0e89_2.jpg",
         4.7,
         361166,
         " Kyle Pew",
         "01/2023",
         "2023-03-06T14:58:34.549+0000",
         1,
         15
        ],
        [
         0,
         "The Complete Digital Marketing Course - 12 Courses in 1",
         "Master Digital Marketing Strategy, Social Media Marketing, SEO, YouTube, Email, Facebook Marketing, Analytics & More!",
         494107,
         4.4,
         117014,
         "https://www.udemy.com/course/learn-digital-marketing-course/",
         "marketing",
         "[Web Developer And Teacher",
         463464,
         2205928,
         737753,
         80,
         4.5,
         " https://img-b.udemycdn.com/course/240x135/914296_3670_8.jpg",
         4.5,
         160871,
         " Rob Percival",
         "11/2022",
         "2023-03-06T14:58:34.549+0000",
         1,
         33
        ],
        [
         9,
         "Adobe Photoshop CC: Your Complete Beginner to Advanced Class",
         "Learn the essential tools of Adobe Photoshop CC to jump right in and design beautiful graphics and photos in Photoshop.",
         470991,
         4.6,
         16005,
         "https://www.udemy.com/course/adobe-photoshop-course/",
         "design",
         "[Top-Rated Instructor  2.5 Million+ Students",
         389023,
         2625059,
         512841,
         204,
         4.6,
         " https://img-c.udemycdn.com/course/240x135/927356_8108_6.jpg",
         4.6,
         20595,
         " Phil Ebiner",
         "12/2022",
         "2023-03-06T14:58:34.549+0000",
         1,
         37
        ],
        [
         0,
         "The Complete SQL Bootcamp 2020: Go from Zero to Hero",
         "Become an expert at SQL!",
         301243,
         4.7,
         79919,
         "https://www.udemy.com/course/the-complete-sql-bootcamp/",
         "bussiness",
         "[Head of Data Science at Pierian Training",
         1013752,
         3269886,
         641558,
         60,
         4.6,
         " https://img-c.udemycdn.com/course/240x135/762616_7693_3.jpg",
         4.7,
         164866,
         " Jose Portilla",
         "05/2022",
         "2023-03-06T14:58:34.549+0000",
         1,
         27
        ],
        [
         1,
         "Adobe Premiere Pro CC 2020: Video Editing for Beginners",
         "Learn how to edit amazing videos in Adobe Premiere Pro CC 2020 with zero experience.",
         203666,
         4.5,
         2320,
         "https://www.udemy.com/course/premiere-pro-with-brad-newton/",
         "photography",
         "[Fitness Coach & YouTuber | 312 000+ Students",
         6635,
         313783,
         212024,
         5,
         4.6,
         " https://img-b.udemycdn.com/course/240x135/1920686_e0f7_8.jpg",
         4.6,
         3647,
         " Brad Newton",
         "11/2021",
         "2023-03-06T14:58:34.549+0000",
         1,
         16
        ],
        [
         3,
         "The Complete Financial Analyst Training & Investing Course",
         "Succeed as a Financial Analyst &Investor by Award Winning MBA Prof who worked @Goldman, in Hedge Funds & Venture Capital",
         183645,
         4.5,
         21818,
         "https://www.udemy.com/course/the-complete-financial-analyst-training-and-investing-course/",
         "finance",
         "[CEO of Haroun MBA Degree Program®",
         208696,
         1312283,
         246955,
         70,
         4.5,
         " https://img-c.udemycdn.com/course/240x135/1202988_c73f_20.jpg",
         4.6,
         30123,
         " Chris Haroun",
         "02/2023",
         "2023-03-06T14:58:34.549+0000",
         1,
         33
        ],
        [
         4,
         "Music Theory Comprehensive Complete: Part 4, 5, & 6",
         "Learn music theory through this music theory course app, music theory exercises, and music theory tutorials.",
         30767,
         4.7,
         2107,
         "https://www.udemy.com/course/music-theory-comprehensive-combined-part-4-5-6/",
         "music",
         "[Ph.D / Ableton Certified Trainer",
         58096,
         260517,
         42589,
         111,
         4.6,
         " https://img-c.udemycdn.com/course/240x135/1148430_c2a8_4.jpg",
         4.7,
         3213,
         " Jason Allen",
         "02/2023",
         "2023-03-06T14:58:34.549+0000",
         1,
         15
        ],
        [
         38,
         "Emotional Intelligence at Work: Learn from Your Emotions",
         "Master EQ to identify emotions in yourself and others, manage your emotions, and improve your relationships at work.",
         21966,
         4.5,
         10148,
         "https://www.udemy.com/course/emotional-intelligence-at-work-learn-from-your-emotions/",
         "bussiness",
         "[Executive Coach/Creator of AwesomeLeader.com/100K+ Students",
         62391,
         124206,
         95678,
         4,
         4.5,
         " https://img-c.udemycdn.com/course/240x135/2246852_8860.jpg",
         4.5,
         47684,
         " Leila Bulling Towne",
         "06/2021",
         "2023-03-06T14:58:34.549+0000",
         27,
         1
        ],
        [
         15,
         "SAP Simplified for Absolute Beginners",
         "Easy to follow Introduction into SAP ERP",
         21652,
         4.4,
         7110,
         "https://www.udemy.com/course/sap-simplified-for-absolute-beginners/",
         "office",
         "[Zertifizierte Beraterin für SAP MM  Hobby: Fotobearbeitung",
         20071,
         68217,
         52244,
         6,
         4.5,
         " https://img-c.udemycdn.com/course/240x135/826870_0677_2.jpg",
         4.4,
         16706,
         " Ulrika Garner",
         "05/2020",
         "2023-03-06T14:58:34.549+0000",
         15,
         1
        ],
        [
         15,
         "Healthy Cooking Fundamentals",
         "A practical course to take your cooking skills from dull to delicious",
         18576,
         4.4,
         1484,
         "https://www.udemy.com/course/up-beet-cooking-fundamentals/",
         "life_style",
         "[Health Supportive Chef  Founder of The Up Beet Kitchen",
         2268,
         22440,
         22440,
         1,
         4.5,
         " https://img-c.udemycdn.com/course/240x135/863126_a899_5.jpg",
         4.5,
         2268,
         " Chef Nic DeMuth",
         "06/2016",
         "2023-03-06T14:58:34.549+0000",
         1,
         16
        ],
        [
         35,
         "Mastering QuickBooks Online",
         "Become An Expert QuickBooks Online And Learn How To Keep And Maintain QuickBooks Records For Perfect Accuracy",
         9256,
         4.4,
         2587,
         "https://www.udemy.com/course/mastering-quickbooks-online/",
         "finance",
         "[Professor of Computerized Accounting",
         10046,
         46135,
         27444,
         40,
         4.5,
         " https://img-b.udemycdn.com/course/240x135/1337064_745d_3.jpg",
         4.5,
         7674,
         " Mark Smolen",
         "01/2023",
         "2023-03-06T14:58:34.549+0000",
         33,
         1
        ],
        [
         34,
         "Business Branding: The Complete Course Part 1 - Strategy",
         "Build A Strategic Brand From The Ground Up, To Catapult Your Marketing Impact",
         9185,
         4.6,
         2399,
         "https://www.udemy.com/course/business-branding-complete-course/",
         "marketing",
         "[Brand Creator & Strategist",
         9498,
         28503,
         20824,
         3,
         4.6,
         " https://img-b.udemycdn.com/course/240x135/2222324_1478_2.jpg",
         4.6,
         5359,
         " Steve Houraghan",
         "11/2019",
         "2023-03-06T14:58:34.549+0000",
         33,
         1
        ],
        [
         115,
         "Fundamentals of Garden Design",
         "An Introduction to Landscape Design",
         6729,
         4.4,
         1733,
         "https://www.udemy.com/course/fundamentals-of-garden-design/",
         "design",
         "[Landscape Architect & Educator",
         3878,
         17218,
         14802,
         8,
         4.5,
         " https://img-c.udemycdn.com/course/240x135/1242820_a019_2.jpg",
         4.5,
         3453,
         " Rob Littlepage",
         "08/2022",
         "2023-03-06T14:58:34.549+0000",
         37,
         1
        ],
        [
         15,
         "Music Production I - Learn to be a Music Producer!",
         "Learn how to become a recording/music production engineer with little to no knowledge! Record music like a pro!",
         6712,
         4.5,
         1373,
         "https://www.udemy.com/course/music-production/",
         "music",
         "[Studio Owner/Music Production Engineer|Pro Guitar Player",
         2171,
         10715,
         7682,
         3,
         4.3,
         " https://img-c.udemycdn.com/course/240x135/1024722_23e6_6.jpg",
         4.5,
         1665,
         " Mitch Houston",
         "01/2023",
         "2023-03-06T14:58:34.549+0000",
         15,
         1
        ],
        [
         12,
         "The Complete Guide to League of Legends",
         "Learn how to improve your game mechanics, micro/macro knowledge, and rank from former LCS coach, NicoThePico.",
         4708,
         4.5,
         1599,
         "https://www.udemy.com/course/the-complete-guide-to-league-of-legends/",
         "life_style",
         "[Exclusive courses for gamers  streamers and content creators",
         1749,
         5389,
         5283,
         2,
         4.0,
         " https://img-c.udemycdn.com/course/240x135/1712886_5ce0.jpg",
         3.8,
         1724,
         " LVLUP Dojo",
         "10/2018",
         "2023-03-06T14:58:34.549+0000",
         16,
         1
        ],
        [
         15,
         "Phantom & Mavic Filmschool 1- master autopilot with Litchi",
         "Use autopilot to get amazing cinematic shots with your drone. You will master the Litchi app & take pro footage!",
         4316,
         4.6,
         1252,
         "https://www.udemy.com/course/phantom-filmschool/",
         "photography",
         "[Aerial videographer",
         5130,
         28424,
         4504,
         9,
         4.5,
         " https://img-c.udemycdn.com/course/240x135/702694_9ea6_4.jpg",
         4.5,
         1284,
         " Laurence Seberini",
         "02/2019",
         "2023-03-06T14:58:34.549+0000",
         16,
         1
        ],
        [
         9358,
         "PHP 101",
         "PHP Coding for Beginners",
         514,
         4.7,
         12,
         "https://www.udemy.com/course/introduction-to-php-101/",
         "tech",
         "[Internet Marketing and Traffic Academy",
         790,
         45707,
         524,
         23,
         4.0,
         " https://img-c.udemycdn.com/course/240x135/164774_3a3b_4.jpg",
         4.5,
         15,
         " Earners Classroom",
         "03/2014",
         "2023-03-06T14:58:34.549+0000",
         30,
         1
        ]
       ],
       "datasetInfos": [],
       "dbfsResultPath": null,
       "isJsonSchema": true,
       "metadata": {},
       "overflow": false,
       "plotOptions": {
        "customPlotOptions": {},
        "displayType": "table",
        "pivotAggregation": null,
        "pivotColumns": null,
        "xColumns": null,
        "yColumns": null
       },
       "removedWidgets": [],
       "schema": [
        {
         "metadata": "{}",
         "name": "index",
         "type": "\"integer\""
        },
        {
         "metadata": "{}",
         "name": "Title",
         "type": "\"string\""
        },
        {
         "metadata": "{}",
         "name": "Summary",
         "type": "\"string\""
        },
        {
         "metadata": "{}",
         "name": "Enrollment",
         "type": "\"integer\""
        },
        {
         "metadata": "{}",
         "name": "Stars",
         "type": "\"double\""
        },
        {
         "metadata": "{}",
         "name": "Rating",
         "type": "\"integer\""
        },
        {
         "metadata": "{}",
         "name": "Link",
         "type": "\"string\""
        },
        {
         "metadata": "{}",
         "name": "category",
         "type": "\"string\""
        },
        {
         "metadata": "{}",
         "name": "instructor_tag",
         "type": "\"string\""
        },
        {
         "metadata": "{}",
         "name": "written_rating",
         "type": "\"integer\""
        },
        {
         "metadata": "{}",
         "name": "total_students_author",
         "type": "\"integer\""
        },
        {
         "metadata": "{}",
         "name": "latest_enroll",
         "type": "\"integer\""
        },
        {
         "metadata": "{}",
         "name": "total_courses",
         "type": "\"integer\""
        },
        {
         "metadata": "{}",
         "name": "instructor_rating",
         "type": "\"double\""
        },
        {
         "metadata": "{}",
         "name": "img_url",
         "type": "\"string\""
        },
        {
         "metadata": "{}",
         "name": "course_rating",
         "type": "\"double\""
        },
        {
         "metadata": "{}",
         "name": "written_course_rating",
         "type": "\"integer\""
        },
        {
         "metadata": "{}",
         "name": "author_name",
         "type": "\"string\""
        },
        {
         "metadata": "{}",
         "name": "last_modified",
         "type": "\"string\""
        },
        {
         "metadata": "{}",
         "name": "created_timestamp",
         "type": "\"timestamp\""
        },
        {
         "metadata": "{}",
         "name": "enrollment_rank_desc",
         "type": "\"integer\""
        },
        {
         "metadata": "{}",
         "name": "enrollment_rank_asc",
         "type": "\"integer\""
        }
       ],
       "type": "table"
      }
     },
     "output_type": "display_data"
    },
    {
     "output_type": "display_data",
     "data": {
      "text/plain": [
       "Databricks visualization. Run in Databricks to view."
      ]
     },
     "metadata": {
      "application/vnd.databricks.v1.subcommand+json": {
       "bindings": {},
       "collapsed": false,
       "command": "%python\n__backend_agg_display_orig = display\n__backend_agg_dfs = []\ndef __backend_agg_display_new(df):\n    __backend_agg_df_modules = [\"pandas.core.frame\", \"databricks.koalas.frame\", \"pyspark.sql.dataframe\", \"pyspark.pandas.frame\"]\n    if (type(df).__module__ in __backend_agg_df_modules and type(df).__name__ == 'DataFrame') or isinstance(df, list):\n        __backend_agg_dfs.append(df)\n\ndisplay = __backend_agg_display_new\n\ndef __backend_agg_user_code_fn():\n    import base64\n    exec(base64.standard_b64decode(\"IyAlc3FsCiMgc2VsZWN0ICogZnJvbSAoCiMgU0VMRUNUIAojICAgICBUaXRsZSwKIyAtLSAgICAgU1VNKEVucm9sbG1lbnQpIE9WRVIoUEFSVElUSU9OIEJZIGNhdGVnb3J5IE9SREVSIEJZIEVucm9sbG1lbnQgREVTQykgYXMgZW5yb2xsbWVudCwKIyBlbnJvbGxtZW50LAojICAgICBTdGFycywKIyAgICAgY2F0ZWdvcnkgLAojICAgICByb3dfbnVtYmVyKCkgb3ZlcihwYXJ0aXRpb24gYnkgY2F0ZWdvcnkgb3JkZXIgYnkgZW5yb2xsbWVudCBkZXNjKSBybiwKIyAgICAgcm93X251bWJlcigpIG92ZXIocGFydGl0aW9uIGJ5IGNhdGVnb3J5IG9yZGVyIGJ5IGVucm9sbG1lbnQgYXNjKSBybQojIEZST00gc2lsdmVyLnVkZW15MiApeAojIHdoZXJlIHJuPD01IG9yIHJtPD01CiMgT1JERVIgQlkgRW5yb2xsbWVudCBERVNDOwoKCmZyb20gcHlzcGFyay5zcWwud2luZG93IGltcG9ydCBXaW5kb3cKZnJvbSBweXNwYXJrLnNxbC5mdW5jdGlvbnMgaW1wb3J0IHJvd19udW1iZXIKCmRmID0gc3BhcmsudGFibGUoInNpbHZlci51ZGVteTIiKQoKdyA9IFdpbmRvdy5wYXJ0aXRpb25CeSgnY2F0ZWdvcnknKS5vcmRlckJ5KGRmWydFbnJvbGxtZW50J10uZGVzYygpKQoKZGYgPSBkZi53aXRoQ29sdW1uKCdlbnJvbGxtZW50X3JhbmtfZGVzYycsIHJvd19udW1iZXIoKS5vdmVyKHcpKQpkZiA9IGRmLndpdGhDb2x1bW4oJ2Vucm9sbG1lbnRfcmFua19hc2MnLCByb3dfbnVtYmVyKCkub3Zlcih3Lm9yZGVyQnkoZGZbJ0Vucm9sbG1lbnQnXS5hc2MoKSkpKQoKZGYgPSBkZi5maWx0ZXIoKGRmWydlbnJvbGxtZW50X3JhbmtfZGVzYyddIDw9IDUpIHwgKGRmWydlbnJvbGxtZW50X3JhbmtfYXNjJ10gPD0gNSkpCmRmID0gZGYub3JkZXJCeShkZlsnRW5yb2xsbWVudCddLmRlc2MoKSkKIyBkZj1kZi5zZWxlY3QoIkVucm9sbG1lbnQiLCdjYXRlZ29yeScsJ3RpdGxlJykKZGlzcGxheShkZikK\").decode())\n\ntry:\n    # run user code\n    __backend_agg_user_code_fn()\n\n    #reset display function\n    display = __backend_agg_display_orig\n\n    if len(__backend_agg_dfs) > 0:\n        # create a temp view\n        if hasattr(__backend_agg_dfs[0], \"to_spark\"):\n            # koalas dataframe\n            __backend_agg_dfs[0].to_spark().createOrReplaceTempView(\"DatabricksView257ec19\")\n        elif type(__backend_agg_dfs[0]).__module__ == \"pandas.core.frame\" or isinstance(__backend_agg_dfs[0], list):\n            # pandas dataframe\n            spark.createDataFrame(__backend_agg_dfs[0]).createOrReplaceTempView(\"DatabricksView257ec19\")\n        else:\n            __backend_agg_dfs[0].createOrReplaceTempView(\"DatabricksView257ec19\")\n        #run backend agg\n        display(spark.sql(\"\"\"WITH q AS (select * from DatabricksView257ec19) SELECT `Title`,SUM(`Enrollment`) `column_a5bdce6265`,`category` FROM q GROUP BY `Title`,`category`\"\"\"))\n    else:\n        displayHTML(\"dataframe no longer exists. If you're using dataframe.display(), use display(dataframe) instead.\")\n\n\nfinally:\n    spark.sql(\"drop view if exists DatabricksView257ec19\")\n    display = __backend_agg_display_orig\n    del __backend_agg_display_new\n    del __backend_agg_display_orig\n    del __backend_agg_dfs\n    del __backend_agg_user_code_fn\n\n",
       "commandTitle": "Visualization 1",
       "commandType": "auto",
       "commandVersion": 0,
       "commentThread": [],
       "commentsVisible": false,
       "contentSha256Hex": null,
       "customPlotOptions": {
        "redashChart": [
         {
          "key": "type",
          "value": "CHART"
         },
         {
          "key": "options",
          "value": {
           "alignYAxesAtZero": true,
           "coefficient": 1,
           "columnConfigurationMap": {
            "series": {
             "column": "category",
             "id": "column_a5bdce6277"
            },
            "x": {
             "column": "Title",
             "id": "column_a5bdce6275"
            },
            "y": [
             {
              "column": "Enrollment",
              "id": "column_a5bdce6265",
              "transform": "SUM"
             }
            ]
           },
           "dateTimeFormat": "DD/MM/YYYY HH:mm",
           "direction": {
            "type": "counterclockwise"
           },
           "error_y": {
            "type": "data",
            "visible": true
           },
           "globalSeriesType": "pie",
           "isAggregationOn": true,
           "legend": {
            "traceorder": "normal"
           },
           "missingValuesAsZero": true,
           "numberFormat": "0,0[.]00000",
           "percentFormat": "0[.]00%",
           "series": {
            "error_y": {
             "type": "data",
             "visible": true
            },
            "stacking": null
           },
           "seriesOptions": {
            "column_a5bdce6265": {
             "type": "pie",
             "yAxis": 0
            },
            "column_a5bdce6268": {
             "type": "pie",
             "yAxis": 0
            },
            "column_a5bdce6271": {
             "type": "pie",
             "yAxis": 0
            }
           },
           "showDataLabels": true,
           "sizemode": "diameter",
           "sortX": true,
           "sortY": true,
           "swappedAxes": false,
           "textFormat": "",
           "useAggregationsUi": true,
           "valuesOptions": {},
           "version": 2,
           "xAxis": {
            "labels": {
             "enabled": true
            },
            "type": "-"
           },
           "yAxis": [
            {
             "type": "-"
            },
            {
             "opposite": true,
             "type": "-"
            }
           ]
          }
         }
        ]
       },
       "datasetPreviewNameToCmdIdMap": {},
       "diffDeletes": [],
       "diffInserts": [],
       "displayType": "redashChart",
       "error": null,
       "errorSummary": null,
       "errorTraceType": null,
       "finishTime": 0,
       "globalVars": {},
       "guid": "",
       "height": "auto",
       "hideCommandCode": false,
       "hideCommandResult": false,
       "iPythonMetadata": null,
       "inputWidgets": {},
       "isLockedInExamMode": false,
       "latestUser": "a user",
       "latestUserId": null,
       "listResultMetadata": null,
       "metadata": {},
       "nuid": "c919380b-4321-410f-8299-6d9c8f22afa0",
       "origId": 0,
       "parentHierarchy": [],
       "pivotAggregation": null,
       "pivotColumns": null,
       "position": 17.0,
       "resultDbfsErrorMessage": null,
       "resultDbfsStatus": "INLINED_IN_TREE",
       "results": null,
       "showCommandTitle": false,
       "startTime": 0,
       "state": "input",
       "streamStates": {},
       "subcommandOptions": {
        "queryPlan": {
         "groups": [
          {
           "column": "Title",
           "type": "column"
          },
          {
           "column": "category",
           "type": "column"
          }
         ],
         "selects": [
          {
           "column": "Title",
           "type": "column"
          },
          {
           "alias": "column_a5bdce6265",
           "args": [
            {
             "column": "Enrollment",
             "type": "column"
            }
           ],
           "function": "SUM",
           "type": "function"
          },
          {
           "column": "category",
           "type": "column"
          }
         ]
        }
       },
       "submitTime": 0,
       "subtype": "tableResultSubCmd.visualization",
       "tableResultIndex": 0,
       "useConsistentColors": false,
       "version": "CommandV1",
       "width": "auto",
       "workflows": [],
       "xColumns": null,
       "yColumns": null
      }
     },
     "output_type": "display_data"
    }
   ],
   "source": [
    "from pyspark.sql.window import Window\n",
    "from pyspark.sql.functions import row_number\n",
    "\n",
    "df = spark.table(\"silver.udemy2\")\n",
    "\n",
    "w = Window.partitionBy('category').orderBy(df['Enrollment'].desc())\n",
    "\n",
    "df = df.withColumn('enrollment_rank_desc', row_number().over(w))\n",
    "df = df.withColumn('enrollment_rank_asc', row_number().over(w.orderBy(df['Enrollment'].asc())))\n",
    "\n",
    "df = df.filter((df['enrollment_rank_desc'] <= 1) | (df['enrollment_rank_asc'] <= 1))\n",
    "df = df.orderBy(df['Enrollment'].desc())\n",
    "# df=df.select(\"Enrollment\",'category','title')\n",
    "display(df)\n"
   ]
  },
  {
   "cell_type": "markdown",
   "metadata": {
    "application/vnd.databricks.v1+cell": {
     "cellMetadata": {},
     "inputWidgets": {},
     "nuid": "919ec3cb-0490-47ca-84e1-5893fc59d6ac",
     "showTitle": false,
     "title": ""
    }
   },
   "source": [
    "#top5 courses based on enrolment in both categories"
   ]
  },
  {
   "cell_type": "code",
   "execution_count": 0,
   "metadata": {
    "application/vnd.databricks.v1+cell": {
     "cellMetadata": {},
     "inputWidgets": {},
     "nuid": "fc785323-cff1-4b98-b589-eefedcc0a31a",
     "showTitle": false,
     "title": ""
    }
   },
   "outputs": [
    {
     "output_type": "display_data",
     "data": {
      "text/html": [
       "<style scoped>\n",
       "  .table-result-container {\n",
       "    max-height: 300px;\n",
       "    overflow: auto;\n",
       "  }\n",
       "  table, th, td {\n",
       "    border: 1px solid black;\n",
       "    border-collapse: collapse;\n",
       "  }\n",
       "  th, td {\n",
       "    padding: 5px;\n",
       "  }\n",
       "  th {\n",
       "    text-align: left;\n",
       "  }\n",
       "</style><div class='table-result-container'><table class='table-result'><thead style='background-color: white'><tr><th>index</th><th>Title</th><th>Summary</th><th>Enrollment</th><th>Stars</th><th>Rating</th><th>Link</th><th>category</th><th>instructor_tag</th><th>written_rating</th><th>total_students_author</th><th>latest_enroll</th><th>total_courses</th><th>instructor_rating</th><th>img_url</th><th>course_rating</th><th>written_course_rating</th><th>author_name</th><th>last_modified</th><th>created_timestamp</th><th>enrollment_rank_desc</th><th>enrollment_rank_asc</th></tr></thead><tbody><tr><td>0</td><td>2020 Complete Python Bootcamp: From Zero to Hero in Python</td><td>Learn Python like a Professional! Start from the basics and go all the way to creating your own applications and games!</td><td>1100093</td><td>4.6</td><td>318066</td><td>https://www.udemy.com/course/complete-python-bootcamp/</td><td>tech</td><td>[Head of Data Science at Pierian Training</td><td>1013752</td><td>3270570</td><td>1691703</td><td>60</td><td>4.6</td><td> https://img-b.udemycdn.com/course/240x135/567828_67d0.jpg</td><td>4.6</td><td>454945</td><td> Jose Portilla</td><td>03/2021</td><td>2023-03-06T14:58:34.549+0000</td><td>1</td><td>30</td></tr><tr><td>0</td><td>Microsoft Excel - Excel from Beginner to Advanced</td><td>Excel with this A-Z Microsoft Excel Course. Microsoft Excel 2010, 2013, 2016, Excel 2019 and Office 365</td><td>558150</td><td>4.6</td><td>174080</td><td>https://www.udemy.com/course/microsoft-excel-2013-from-beginner-to-advanced-and-beyond/</td><td>office</td><td>[Microsoft Certified Trainer - 1 Million+ Students</td><td>419234</td><td>1355021</td><td>1213111</td><td>10</td><td>4.6</td><td> https://img-b.udemycdn.com/course/240x135/793796_0e89_2.jpg</td><td>4.7</td><td>361166</td><td> Kyle Pew</td><td>01/2023</td><td>2023-03-06T14:58:34.549+0000</td><td>1</td><td>15</td></tr><tr><td>0</td><td>The Complete Digital Marketing Course - 12 Courses in 1</td><td>Master Digital Marketing Strategy, Social Media Marketing, SEO, YouTube, Email, Facebook Marketing, Analytics & More!</td><td>494107</td><td>4.4</td><td>117014</td><td>https://www.udemy.com/course/learn-digital-marketing-course/</td><td>marketing</td><td>[Web Developer And Teacher</td><td>463464</td><td>2205928</td><td>737753</td><td>80</td><td>4.5</td><td> https://img-b.udemycdn.com/course/240x135/914296_3670_8.jpg</td><td>4.5</td><td>160871</td><td> Rob Percival</td><td>11/2022</td><td>2023-03-06T14:58:34.549+0000</td><td>1</td><td>33</td></tr><tr><td>9</td><td>Adobe Photoshop CC: Your Complete Beginner to Advanced Class</td><td>Learn the essential tools of Adobe Photoshop CC to jump right in and design beautiful graphics and photos in Photoshop.</td><td>470991</td><td>4.6</td><td>16005</td><td>https://www.udemy.com/course/adobe-photoshop-course/</td><td>design</td><td>[Top-Rated Instructor  2.5 Million+ Students</td><td>389023</td><td>2625059</td><td>512841</td><td>204</td><td>4.6</td><td> https://img-c.udemycdn.com/course/240x135/927356_8108_6.jpg</td><td>4.6</td><td>20595</td><td> Phil Ebiner</td><td>12/2022</td><td>2023-03-06T14:58:34.549+0000</td><td>1</td><td>37</td></tr><tr><td>0</td><td>The Complete SQL Bootcamp 2020: Go from Zero to Hero</td><td>Become an expert at SQL!</td><td>301243</td><td>4.7</td><td>79919</td><td>https://www.udemy.com/course/the-complete-sql-bootcamp/</td><td>bussiness</td><td>[Head of Data Science at Pierian Training</td><td>1013752</td><td>3269886</td><td>641558</td><td>60</td><td>4.6</td><td> https://img-c.udemycdn.com/course/240x135/762616_7693_3.jpg</td><td>4.7</td><td>164866</td><td> Jose Portilla</td><td>05/2022</td><td>2023-03-06T14:58:34.549+0000</td><td>1</td><td>27</td></tr><tr><td>1</td><td>Adobe Premiere Pro CC 2020: Video Editing for Beginners</td><td>Learn how to edit amazing videos in Adobe Premiere Pro CC 2020 with zero experience.</td><td>203666</td><td>4.5</td><td>2320</td><td>https://www.udemy.com/course/premiere-pro-with-brad-newton/</td><td>photography</td><td>[Fitness Coach & YouTuber | 312 000+ Students</td><td>6635</td><td>313783</td><td>212024</td><td>5</td><td>4.6</td><td> https://img-b.udemycdn.com/course/240x135/1920686_e0f7_8.jpg</td><td>4.6</td><td>3647</td><td> Brad Newton</td><td>11/2021</td><td>2023-03-06T14:58:34.549+0000</td><td>1</td><td>16</td></tr><tr><td>3</td><td>The Complete Financial Analyst Training & Investing Course</td><td>Succeed as a Financial Analyst &Investor by Award Winning MBA Prof who worked @Goldman, in Hedge Funds & Venture Capital</td><td>183645</td><td>4.5</td><td>21818</td><td>https://www.udemy.com/course/the-complete-financial-analyst-training-and-investing-course/</td><td>finance</td><td>[CEO of Haroun MBA Degree Program®</td><td>208696</td><td>1312283</td><td>246955</td><td>70</td><td>4.5</td><td> https://img-c.udemycdn.com/course/240x135/1202988_c73f_20.jpg</td><td>4.6</td><td>30123</td><td> Chris Haroun</td><td>02/2023</td><td>2023-03-06T14:58:34.549+0000</td><td>1</td><td>33</td></tr><tr><td>4</td><td>Music Theory Comprehensive Complete: Part 4, 5, & 6</td><td>Learn music theory through this music theory course app, music theory exercises, and music theory tutorials.</td><td>30767</td><td>4.7</td><td>2107</td><td>https://www.udemy.com/course/music-theory-comprehensive-combined-part-4-5-6/</td><td>music</td><td>[Ph.D / Ableton Certified Trainer</td><td>58096</td><td>260517</td><td>42589</td><td>111</td><td>4.6</td><td> https://img-c.udemycdn.com/course/240x135/1148430_c2a8_4.jpg</td><td>4.7</td><td>3213</td><td> Jason Allen</td><td>02/2023</td><td>2023-03-06T14:58:34.549+0000</td><td>1</td><td>15</td></tr><tr><td>15</td><td>Healthy Cooking Fundamentals</td><td>A practical course to take your cooking skills from dull to delicious</td><td>18576</td><td>4.4</td><td>1484</td><td>https://www.udemy.com/course/up-beet-cooking-fundamentals/</td><td>life_style</td><td>[Health Supportive Chef  Founder of The Up Beet Kitchen</td><td>2268</td><td>22440</td><td>22440</td><td>1</td><td>4.5</td><td> https://img-c.udemycdn.com/course/240x135/863126_a899_5.jpg</td><td>4.5</td><td>2268</td><td> Chef Nic DeMuth</td><td>06/2016</td><td>2023-03-06T14:58:34.549+0000</td><td>1</td><td>16</td></tr></tbody></table></div>"
      ]
     },
     "metadata": {
      "application/vnd.databricks.v1+output": {
       "addedWidgets": {},
       "aggData": [],
       "aggError": "",
       "aggOverflow": false,
       "aggSchema": [],
       "aggSeriesLimitReached": false,
       "aggType": "",
       "arguments": {},
       "columnCustomDisplayInfos": {},
       "data": [
        [
         0,
         "2020 Complete Python Bootcamp: From Zero to Hero in Python",
         "Learn Python like a Professional! Start from the basics and go all the way to creating your own applications and games!",
         1100093,
         4.6,
         318066,
         "https://www.udemy.com/course/complete-python-bootcamp/",
         "tech",
         "[Head of Data Science at Pierian Training",
         1013752,
         3270570,
         1691703,
         60,
         4.6,
         " https://img-b.udemycdn.com/course/240x135/567828_67d0.jpg",
         4.6,
         454945,
         " Jose Portilla",
         "03/2021",
         "2023-03-06T14:58:34.549+0000",
         1,
         30
        ],
        [
         0,
         "Microsoft Excel - Excel from Beginner to Advanced",
         "Excel with this A-Z Microsoft Excel Course. Microsoft Excel 2010, 2013, 2016, Excel 2019 and Office 365",
         558150,
         4.6,
         174080,
         "https://www.udemy.com/course/microsoft-excel-2013-from-beginner-to-advanced-and-beyond/",
         "office",
         "[Microsoft Certified Trainer - 1 Million+ Students",
         419234,
         1355021,
         1213111,
         10,
         4.6,
         " https://img-b.udemycdn.com/course/240x135/793796_0e89_2.jpg",
         4.7,
         361166,
         " Kyle Pew",
         "01/2023",
         "2023-03-06T14:58:34.549+0000",
         1,
         15
        ],
        [
         0,
         "The Complete Digital Marketing Course - 12 Courses in 1",
         "Master Digital Marketing Strategy, Social Media Marketing, SEO, YouTube, Email, Facebook Marketing, Analytics & More!",
         494107,
         4.4,
         117014,
         "https://www.udemy.com/course/learn-digital-marketing-course/",
         "marketing",
         "[Web Developer And Teacher",
         463464,
         2205928,
         737753,
         80,
         4.5,
         " https://img-b.udemycdn.com/course/240x135/914296_3670_8.jpg",
         4.5,
         160871,
         " Rob Percival",
         "11/2022",
         "2023-03-06T14:58:34.549+0000",
         1,
         33
        ],
        [
         9,
         "Adobe Photoshop CC: Your Complete Beginner to Advanced Class",
         "Learn the essential tools of Adobe Photoshop CC to jump right in and design beautiful graphics and photos in Photoshop.",
         470991,
         4.6,
         16005,
         "https://www.udemy.com/course/adobe-photoshop-course/",
         "design",
         "[Top-Rated Instructor  2.5 Million+ Students",
         389023,
         2625059,
         512841,
         204,
         4.6,
         " https://img-c.udemycdn.com/course/240x135/927356_8108_6.jpg",
         4.6,
         20595,
         " Phil Ebiner",
         "12/2022",
         "2023-03-06T14:58:34.549+0000",
         1,
         37
        ],
        [
         0,
         "The Complete SQL Bootcamp 2020: Go from Zero to Hero",
         "Become an expert at SQL!",
         301243,
         4.7,
         79919,
         "https://www.udemy.com/course/the-complete-sql-bootcamp/",
         "bussiness",
         "[Head of Data Science at Pierian Training",
         1013752,
         3269886,
         641558,
         60,
         4.6,
         " https://img-c.udemycdn.com/course/240x135/762616_7693_3.jpg",
         4.7,
         164866,
         " Jose Portilla",
         "05/2022",
         "2023-03-06T14:58:34.549+0000",
         1,
         27
        ],
        [
         1,
         "Adobe Premiere Pro CC 2020: Video Editing for Beginners",
         "Learn how to edit amazing videos in Adobe Premiere Pro CC 2020 with zero experience.",
         203666,
         4.5,
         2320,
         "https://www.udemy.com/course/premiere-pro-with-brad-newton/",
         "photography",
         "[Fitness Coach & YouTuber | 312 000+ Students",
         6635,
         313783,
         212024,
         5,
         4.6,
         " https://img-b.udemycdn.com/course/240x135/1920686_e0f7_8.jpg",
         4.6,
         3647,
         " Brad Newton",
         "11/2021",
         "2023-03-06T14:58:34.549+0000",
         1,
         16
        ],
        [
         3,
         "The Complete Financial Analyst Training & Investing Course",
         "Succeed as a Financial Analyst &Investor by Award Winning MBA Prof who worked @Goldman, in Hedge Funds & Venture Capital",
         183645,
         4.5,
         21818,
         "https://www.udemy.com/course/the-complete-financial-analyst-training-and-investing-course/",
         "finance",
         "[CEO of Haroun MBA Degree Program®",
         208696,
         1312283,
         246955,
         70,
         4.5,
         " https://img-c.udemycdn.com/course/240x135/1202988_c73f_20.jpg",
         4.6,
         30123,
         " Chris Haroun",
         "02/2023",
         "2023-03-06T14:58:34.549+0000",
         1,
         33
        ],
        [
         4,
         "Music Theory Comprehensive Complete: Part 4, 5, & 6",
         "Learn music theory through this music theory course app, music theory exercises, and music theory tutorials.",
         30767,
         4.7,
         2107,
         "https://www.udemy.com/course/music-theory-comprehensive-combined-part-4-5-6/",
         "music",
         "[Ph.D / Ableton Certified Trainer",
         58096,
         260517,
         42589,
         111,
         4.6,
         " https://img-c.udemycdn.com/course/240x135/1148430_c2a8_4.jpg",
         4.7,
         3213,
         " Jason Allen",
         "02/2023",
         "2023-03-06T14:58:34.549+0000",
         1,
         15
        ],
        [
         15,
         "Healthy Cooking Fundamentals",
         "A practical course to take your cooking skills from dull to delicious",
         18576,
         4.4,
         1484,
         "https://www.udemy.com/course/up-beet-cooking-fundamentals/",
         "life_style",
         "[Health Supportive Chef  Founder of The Up Beet Kitchen",
         2268,
         22440,
         22440,
         1,
         4.5,
         " https://img-c.udemycdn.com/course/240x135/863126_a899_5.jpg",
         4.5,
         2268,
         " Chef Nic DeMuth",
         "06/2016",
         "2023-03-06T14:58:34.549+0000",
         1,
         16
        ]
       ],
       "datasetInfos": [],
       "dbfsResultPath": null,
       "isJsonSchema": true,
       "metadata": {},
       "overflow": false,
       "plotOptions": {
        "customPlotOptions": {},
        "displayType": "table",
        "pivotAggregation": null,
        "pivotColumns": null,
        "xColumns": null,
        "yColumns": null
       },
       "removedWidgets": [],
       "schema": [
        {
         "metadata": "{}",
         "name": "index",
         "type": "\"integer\""
        },
        {
         "metadata": "{}",
         "name": "Title",
         "type": "\"string\""
        },
        {
         "metadata": "{}",
         "name": "Summary",
         "type": "\"string\""
        },
        {
         "metadata": "{}",
         "name": "Enrollment",
         "type": "\"integer\""
        },
        {
         "metadata": "{}",
         "name": "Stars",
         "type": "\"double\""
        },
        {
         "metadata": "{}",
         "name": "Rating",
         "type": "\"integer\""
        },
        {
         "metadata": "{}",
         "name": "Link",
         "type": "\"string\""
        },
        {
         "metadata": "{}",
         "name": "category",
         "type": "\"string\""
        },
        {
         "metadata": "{}",
         "name": "instructor_tag",
         "type": "\"string\""
        },
        {
         "metadata": "{}",
         "name": "written_rating",
         "type": "\"integer\""
        },
        {
         "metadata": "{}",
         "name": "total_students_author",
         "type": "\"integer\""
        },
        {
         "metadata": "{}",
         "name": "latest_enroll",
         "type": "\"integer\""
        },
        {
         "metadata": "{}",
         "name": "total_courses",
         "type": "\"integer\""
        },
        {
         "metadata": "{}",
         "name": "instructor_rating",
         "type": "\"double\""
        },
        {
         "metadata": "{}",
         "name": "img_url",
         "type": "\"string\""
        },
        {
         "metadata": "{}",
         "name": "course_rating",
         "type": "\"double\""
        },
        {
         "metadata": "{}",
         "name": "written_course_rating",
         "type": "\"integer\""
        },
        {
         "metadata": "{}",
         "name": "author_name",
         "type": "\"string\""
        },
        {
         "metadata": "{}",
         "name": "last_modified",
         "type": "\"string\""
        },
        {
         "metadata": "{}",
         "name": "created_timestamp",
         "type": "\"timestamp\""
        },
        {
         "metadata": "{}",
         "name": "enrollment_rank_desc",
         "type": "\"integer\""
        },
        {
         "metadata": "{}",
         "name": "enrollment_rank_asc",
         "type": "\"integer\""
        }
       ],
       "type": "table"
      }
     },
     "output_type": "display_data"
    },
    {
     "output_type": "display_data",
     "data": {
      "text/plain": [
       "Databricks visualization. Run in Databricks to view."
      ]
     },
     "metadata": {
      "application/vnd.databricks.v1.subcommand+json": {
       "bindings": {},
       "collapsed": false,
       "command": "\nfrom pyspark.sql.window import Window\nfrom pyspark.sql.functions import row_number\n\ndf = spark.table(\"silver.udemy2\")\n\nw = Window.partitionBy('category').orderBy(df['Enrollment'].desc())\n\ndf = df.withColumn('enrollment_rank_desc', row_number().over(w))\ndf = df.withColumn('enrollment_rank_asc', row_number().over(w.orderBy(df['Enrollment'].asc())))\n\ndf = df.filter((df['enrollment_rank_desc'] <= 5))\ndf = df.orderBy(df['Enrollment'].desc())\n# df=df.select(\"Enrollment\",'category','title')\ndisplay(df)",
       "commandTitle": "Visualization 1",
       "commandType": "auto",
       "commandVersion": 0,
       "commentThread": [],
       "commentsVisible": false,
       "contentSha256Hex": null,
       "customPlotOptions": {
        "barChart": [
         {
          "key": "grouped",
          "value": true
         },
         {
          "key": "stacked",
          "value": false
         },
         {
          "key": "100_stacked",
          "value": false
         }
        ],
        "histogram": [
         {
          "key": "bins",
          "value": "20"
         }
        ],
        "mgLine": [
         {
          "key": "param",
          "value": "{\"top\":20,\"bottom\":50,\"area\":false,\"missing_is_hidden\":true,\"legend_target\":\".dummy\",\"animate_on_load\":false,\"transition_on_update\":false,\"legend\":[\"tech\",\"bussiness\"],\"x_label\":\"Title\",\"colors\":[\"#ff7f0e\",\"#1f77b4\"]}"
         }
        ],
        "plotlyBar": [
         {
          "key": "grouped",
          "value": false
         },
         {
          "key": "stacked",
          "value": true
         },
         {
          "key": "100_stacked",
          "value": false
         }
        ],
        "plotlyLine": [
         {
          "key": "yRange",
          "value": ""
         },
         {
          "key": "showPoints",
          "value": false
         },
         {
          "key": "logScale",
          "value": false
         }
        ],
        "scatterPlot": [
         {
          "key": "loess",
          "value": false
         },
         {
          "key": "bandwidth",
          "value": "0.53"
         }
        ]
       },
       "datasetPreviewNameToCmdIdMap": {},
       "diffDeletes": [],
       "diffInserts": [],
       "displayType": "plotlyBar",
       "error": null,
       "errorSummary": null,
       "errorTraceType": null,
       "finishTime": 0,
       "globalVars": {},
       "guid": "",
       "height": "auto",
       "hideCommandCode": false,
       "hideCommandResult": false,
       "iPythonMetadata": null,
       "inputWidgets": {},
       "isLockedInExamMode": false,
       "latestUser": "a user",
       "latestUserId": null,
       "listResultMetadata": null,
       "metadata": {},
       "nuid": "af679937-057a-4be8-b942-981dbd37ce78",
       "origId": 0,
       "parentHierarchy": [],
       "pivotAggregation": "avg",
       "pivotColumns": [
        "category"
       ],
       "position": 18.0,
       "resultDbfsErrorMessage": null,
       "resultDbfsStatus": "INLINED_IN_TREE",
       "results": null,
       "showCommandTitle": false,
       "startTime": 0,
       "state": "input",
       "streamStates": {},
       "subcommandOptions": null,
       "submitTime": 0,
       "subtype": "tableResultSubCmd.visualization",
       "tableResultIndex": 0,
       "useConsistentColors": false,
       "version": "CommandV1",
       "width": "auto",
       "workflows": [],
       "xColumns": [
        "Title"
       ],
       "yColumns": [
        "Enrollment"
       ]
      }
     },
     "output_type": "display_data"
    }
   ],
   "source": [
    "\n",
    "from pyspark.sql.window import Window\n",
    "from pyspark.sql.functions import row_number\n",
    "\n",
    "df = spark.table(\"silver.udemy2\")\n",
    "\n",
    "w = Window.partitionBy('category').orderBy(df['Enrollment'].desc())\n",
    "\n",
    "df = df.withColumn('enrollment_rank_desc', row_number().over(w))\n",
    "df = df.withColumn('enrollment_rank_asc', row_number().over(w.orderBy(df['Enrollment'].asc())))\n",
    "\n",
    "df = df.filter((df['enrollment_rank_desc'] <= 1))\n",
    "df = df.orderBy(df['Enrollment'].desc())\n",
    "# df=df.select(\"Enrollment\",'category','title')\n",
    "display(df)"
   ]
  },
  {
   "cell_type": "markdown",
   "metadata": {
    "application/vnd.databricks.v1+cell": {
     "cellMetadata": {},
     "inputWidgets": {},
     "nuid": "b4219dc8-5dd2-4a4c-8c21-c666ae4bf3ef",
     "showTitle": false,
     "title": ""
    }
   },
   "source": [
    "#improvement percentage"
   ]
  },
  {
   "cell_type": "code",
   "execution_count": 0,
   "metadata": {
    "application/vnd.databricks.v1+cell": {
     "cellMetadata": {
      "implicitDf": true
     },
     "inputWidgets": {},
     "nuid": "4e08d700-4208-4de5-84df-d4793cc9ea91",
     "showTitle": false,
     "title": ""
    }
   },
   "outputs": [
    {
     "output_type": "display_data",
     "data": {
      "text/html": [
       "<style scoped>\n",
       "  .table-result-container {\n",
       "    max-height: 300px;\n",
       "    overflow: auto;\n",
       "  }\n",
       "  table, th, td {\n",
       "    border: 1px solid black;\n",
       "    border-collapse: collapse;\n",
       "  }\n",
       "  th, td {\n",
       "    padding: 5px;\n",
       "  }\n",
       "  th {\n",
       "    text-align: left;\n",
       "  }\n",
       "</style><div class='table-result-container'><table class='table-result'><thead style='background-color: white'><tr><th>title</th><th>stars</th><th>latest_rating</th><th>improve_ment</th></tr></thead><tbody><tr><td>The Complete Guide to League of Legends</td><td>4.5</td><td>3.8</td><td>-0.7000000000000002</td></tr><tr><td>Long Exposure Photography: Shoot Your Own Stunning Photos</td><td>4.8</td><td>4.3</td><td>-0.5</td></tr><tr><td>Digital Marketing Certification: Master Digital Marketing</td><td>4.2</td><td>3.8</td><td>-0.40000000000000036</td></tr><tr><td>The Complete Final Cut Pro X Course Beginner To Intermediate</td><td>4.4</td><td>4.1</td><td>-0.3000000000000007</td></tr><tr><td>#1 Cryptocurrency Long-term Investment Opportunity 2017/2018</td><td>1.8</td><td>1.5</td><td>-0.30000000000000004</td></tr><tr><td>Photography Composition & Portrait Photography Masterclass</td><td>4.6</td><td>4.3</td><td>-0.2999999999999998</td></tr><tr><td>PHP 101</td><td>4.7</td><td>4.5</td><td>-0.20000000000000018</td></tr><tr><td>Photoshop In-Depth: Master all of Photoshop's Tools Easily</td><td>4.4</td><td>4.2</td><td>-0.20000000000000018</td></tr><tr><td>Forex Trading A-Z™ - With LIVE Examples of Forex Trading</td><td>4.6</td><td>4.4</td><td>-0.1999999999999993</td></tr><tr><td>Learn To Play The Drums</td><td>4.6</td><td>4.4</td><td>-0.1999999999999993</td></tr><tr><td>Forex Trading A-Z™ - With LIVE Examples of Forex Trading</td><td>4.6</td><td>4.4</td><td>-0.1999999999999993</td></tr><tr><td>Ultimate Google Ads Training 2020: Profit with Pay Per Click</td><td>4.7</td><td>4.6</td><td>-0.10000000000000053</td></tr><tr><td>Sketch from A to Z (2020): Become an app designer</td><td>4.7</td><td>4.6</td><td>-0.10000000000000053</td></tr><tr><td>Social Media Marketing - Complete Certificate Course</td><td>4.2</td><td>4.1</td><td>-0.10000000000000053</td></tr><tr><td>Options Trading for Rookies: Understand Options Completely</td><td>4.7</td><td>4.6</td><td>-0.10000000000000053</td></tr><tr><td>2020 Complete SEO Guide to Ranking Local Business Websites</td><td>4.4</td><td>4.3</td><td>-0.10000000000000053</td></tr><tr><td>Master Microsoft Word Beginner to Advanced</td><td>4.7</td><td>4.6</td><td>-0.10000000000000053</td></tr><tr><td>How Retargeting Works–The Complete Guide To Retargeting Ads!</td><td>4.7</td><td>4.6</td><td>-0.10000000000000053</td></tr><tr><td>Accounting - A Brief Introduction - in 60 Minutes</td><td>4.7</td><td>4.6</td><td>-0.10000000000000053</td></tr><tr><td>Writing Tools & Hacks: Copywriting/Blogging/Content Writing</td><td>4.2</td><td>4.1</td><td>-0.10000000000000053</td></tr><tr><td>Landing Page Design & Conversion Rate Optimization 2018</td><td>4.7</td><td>4.6</td><td>-0.10000000000000053</td></tr><tr><td>Copywriting - Become a Freelance Copywriter, your own boss</td><td>4.2</td><td>4.1</td><td>-0.10000000000000053</td></tr><tr><td>Complete Day Trading : Stock Trading With Technical Analysis</td><td>4.4</td><td>4.3</td><td>-0.10000000000000053</td></tr><tr><td>The Complete Node.js Developer Course (3rd Edition)</td><td>4.7</td><td>4.6</td><td>-0.10000000000000053</td></tr><tr><td>Photography - Become a Better Photographer - Part I</td><td>4.7</td><td>4.6</td><td>-0.10000000000000053</td></tr><tr><td>The Complete Android N Developer Course</td><td>4.4</td><td>4.3</td><td>-0.10000000000000053</td></tr><tr><td>The Ultimate Hands-On Hadoop - Tame your Big Data!</td><td>4.6</td><td>4.5</td><td>-0.09999999999999964</td></tr><tr><td>Google Analytics Certification: Become Certified & Earn More</td><td>4.5</td><td>4.4</td><td>-0.09999999999999964</td></tr><tr><td>The Beginner's Guide to Digital Art with Procreate on iPad!</td><td>4.6</td><td>4.5</td><td>-0.09999999999999964</td></tr><tr><td>[2020] Growth Hacking with Digital Marketing (Version 7.2)</td><td>4.5</td><td>4.4</td><td>-0.09999999999999964</td></tr><tr><td>Blockchain and Bitcoin Fundamentals</td><td>4.6</td><td>4.5</td><td>-0.09999999999999964</td></tr><tr><td>The Complete Facebook Ads Course - Beginner to Advanced</td><td>4.5</td><td>4.4</td><td>-0.09999999999999964</td></tr><tr><td>Graphic Design Bootcamp: Photoshop, Illustrator, InDesign</td><td>4.5</td><td>4.4</td><td>-0.09999999999999964</td></tr><tr><td>iOS 13 & Swift 5 - The Complete iOS App Development Bootcamp</td><td>4.8</td><td>4.7</td><td>-0.09999999999999964</td></tr><tr><td>Advanced Stock Trading Course + Strategies</td><td>4.6</td><td>4.5</td><td>-0.09999999999999964</td></tr><tr><td>Data Science A-Z™: Real-Life Data Science Exercises Included</td><td>4.6</td><td>4.5</td><td>-0.09999999999999964</td></tr><tr><td>Essential Cooking Skills</td><td>4.5</td><td>4.4</td><td>-0.09999999999999964</td></tr><tr><td>Value Investing Bootcamp: How to Invest Wisely</td><td>4.5</td><td>4.4</td><td>-0.09999999999999964</td></tr><tr><td>UX & Web Design Master Course: Strategy, Design, Development</td><td>4.5</td><td>4.4</td><td>-0.09999999999999964</td></tr><tr><td>Start Trading Stocks Using Technical Analysis!</td><td>4.5</td><td>4.4</td><td>-0.09999999999999964</td></tr><tr><td>Dr. Ian Dunbar's SIRIUS® Dog Trainer Academy - All 4 Days</td><td>4.6</td><td>4.5</td><td>-0.09999999999999964</td></tr><tr><td>Algorithmic Trading In Forex: Create Your First Forex Robot!</td><td>4.6</td><td>4.5</td><td>-0.09999999999999964</td></tr><tr><td>Street Photography: How I approach people on the streets...</td><td>4.3</td><td>4.2</td><td>-0.09999999999999964</td></tr><tr><td>Financial Modeling: Build a Complete DCF Valuation Model</td><td>4.5</td><td>4.4</td><td>-0.09999999999999964</td></tr><tr><td>The Basics of Household Wiring. The Electrical System A to Z</td><td>4.3</td><td>4.2</td><td>-0.09999999999999964</td></tr><tr><td>Phantom & Mavic Filmschool 1- master autopilot with Litchi</td><td>4.6</td><td>4.5</td><td>-0.09999999999999964</td></tr><tr><td>Learn Guitar: Zero to Guitar Fingerpicking in 30 days</td><td>4.6</td><td>4.5</td><td>-0.09999999999999964</td></tr><tr><td>Social Media Marketing MASTERY | Learn Ads on 10+ Platforms</td><td>4.4</td><td>4.4</td><td>0.0</td></tr><tr><td>The Complete SQL Bootcamp 2020: Go from Zero to Hero</td><td>4.7</td><td>4.7</td><td>0.0</td></tr><tr><td>The Complete Copywriting Course : Write to Sell Like a Pro</td><td>4.6</td><td>4.6</td><td>0.0</td></tr><tr><td>Design Thinking in 3 Steps</td><td>4.4</td><td>4.4</td><td>0.0</td></tr><tr><td>Copywriting secrets - How to write copy that sells</td><td>4.4</td><td>4.4</td><td>0.0</td></tr><tr><td>Tableau 2020 A-Z: Hands-On Tableau Training for Data Science</td><td>4.6</td><td>4.6</td><td>0.0</td></tr><tr><td>Social Media Management - The Complete 2019 Manager Bootcamp</td><td>4.4</td><td>4.4</td><td>0.0</td></tr><tr><td>Microsoft Excel - Advanced Excel Formulas & Functions</td><td>4.7</td><td>4.7</td><td>0.0</td></tr><tr><td>Complete SEO Training With Top SEO Expert Peter Kent!</td><td>4.4</td><td>4.4</td><td>0.0</td></tr><tr><td>PMP Exam Prep Seminar - PMBOK Guide 6</td><td>4.6</td><td>4.6</td><td>0.0</td></tr><tr><td>Seth Godin on Presenting to Persuade</td><td>4.4</td><td>4.4</td><td>0.0</td></tr><tr><td>Illustrator CC 2020 MasterClass</td><td>4.6</td><td>4.6</td><td>0.0</td></tr><tr><td>Google AdWords for Beginners 2020</td><td>4.2</td><td>4.2</td><td>0.0</td></tr><tr><td>Microsoft Power BI - A Complete Introduction [2020 EDITION]</td><td>4.6</td><td>4.6</td><td>0.0</td></tr><tr><td>Business Branding: The Complete Course Part 1 - Strategy</td><td>4.6</td><td>4.6</td><td>0.0</td></tr><tr><td>The Art & Science of Figure Drawing: GESTURE</td><td>4.8</td><td>4.8</td><td>0.0</td></tr><tr><td>Social Media Marketing Agency : Digital Marketing + Business</td><td>4.5</td><td>4.5</td><td>0.0</td></tr><tr><td>Microsoft Power BI - Up & Running With Power BI Desktop</td><td>4.6</td><td>4.6</td><td>0.0</td></tr><tr><td>The Complete MailChimp Email Marketing Course</td><td>4.3</td><td>4.3</td><td>0.0</td></tr><tr><td>Adobe Photoshop CC: Your Complete Beginner to Advanced Class</td><td>4.6</td><td>4.6</td><td>0.0</td></tr><tr><td>2020 Complete Python Bootcamp: From Zero to Hero in Python</td><td>4.6</td><td>4.6</td><td>0.0</td></tr><tr><td>Leadership: Practical Leadership Skills</td><td>4.6</td><td>4.6</td><td>0.0</td></tr><tr><td>Java Programming Masterclass for Software Developers</td><td>4.6</td><td>4.6</td><td>0.0</td></tr><tr><td>Microsoft Excel - Data Analysis with Excel Pivot Tables</td><td>4.6</td><td>4.6</td><td>0.0</td></tr><tr><td>React - The Complete Guide (incl Hooks, React Router, Redux)</td><td>4.6</td><td>4.6</td><td>0.0</td></tr><tr><td>The Complete Foundation Stock Trading Course</td><td>4.5</td><td>4.5</td><td>0.0</td></tr><tr><td>Python for Data Science and Machine Learning Bootcamp</td><td>4.6</td><td>4.6</td><td>0.0</td></tr><tr><td>The complete AutoCAD 2018-21 course</td><td>4.6</td><td>4.6</td><td>0.0</td></tr><tr><td>Modern React with Redux [2020 Update]</td><td>4.7</td><td>4.7</td><td>0.0</td></tr><tr><td>SQL - MySQL for Data Analytics and Business Intelligence</td><td>4.6</td><td>4.6</td><td>0.0</td></tr><tr><td>The Ultimate MySQL Bootcamp: Go from SQL Beginner to Expert</td><td>4.6</td><td>4.6</td><td>0.0</td></tr><tr><td>Inside Your Dog's Mind with Victoria Stilwell</td><td>4.4</td><td>4.4</td><td>0.0</td></tr><tr><td>Spring & Hibernate for Beginners (includes Spring Boot)</td><td>4.6</td><td>4.6</td><td>0.0</td></tr><tr><td>How to Start an Amazon FBA Store on a Tight Budget</td><td>4.6</td><td>4.6</td><td>0.0</td></tr><tr><td>Vue - The Complete Guide (w/ Router, Vuex, Composition API)</td><td>4.7</td><td>4.7</td><td>0.0</td></tr><tr><td>Web Design for Beginners: Real World Coding in HTML & CSS</td><td>4.6</td><td>4.6</td><td>0.0</td></tr><tr><td>The Complete Web Developer in 2020: Zero to Mastery</td><td>4.7</td><td>4.7</td><td>0.0</td></tr><tr><td>Introduction to Finance, Accounting, Modeling and Valuation</td><td>4.5</td><td>4.5</td><td>0.0</td></tr><tr><td>JavaScript: Understanding the Weird Parts</td><td>4.7</td><td>4.7</td><td>0.0</td></tr><tr><td>Excel Essentials: The Complete Excel Series - Level 1, 2 & 3</td><td>4.6</td><td>4.6</td><td>0.0</td></tr><tr><td>C# Basics for Beginners: Learn C# Fundamentals by Coding</td><td>4.5</td><td>4.5</td><td>0.0</td></tr><tr><td>Sales Training: Practical Sales Techniques</td><td>4.6</td><td>4.6</td><td>0.0</td></tr><tr><td>R Programming A-Z™: R For Data Science With Real Exercises!</td><td>4.6</td><td>4.6</td><td>0.0</td></tr><tr><td>Drawing and Painting on the iPad with Procreate</td><td>4.7</td><td>4.7</td><td>0.0</td></tr><tr><td>Python and Django Full Stack Web Developer Bootcamp</td><td>4.5</td><td>4.5</td><td>0.0</td></tr><tr><td>Conscious Listening</td><td>4.5</td><td>4.5</td><td>0.0</td></tr><tr><td>Docker and Kubernetes: The Complete Guide</td><td>4.7</td><td>4.7</td><td>0.0</td></tr><tr><td>The Art & Science of Drawing / FORM & SPACE</td><td>4.8</td><td>4.8</td><td>0.0</td></tr><tr><td>The Python Bible™ | Everything You Need to Program in Python</td><td>4.6</td><td>4.6</td><td>0.0</td></tr><tr><td>The Complete Presentation and Public Speaking/Speech Course</td><td>4.5</td><td>4.5</td><td>0.0</td></tr><tr><td>Beginning C++ Programming - From Beginner to Beyond</td><td>4.6</td><td>4.6</td><td>0.0</td></tr><tr><td>User Experience Design Fundamentals</td><td>4.4</td><td>4.4</td><td>0.0</td></tr><tr><td>Flutter & Dart - The Complete Guide [2020 Edition]</td><td>4.6</td><td>4.6</td><td>0.0</td></tr><tr><td>Emotional Intelligence at Work: Learn from Your Emotions</td><td>4.5</td><td>4.5</td><td>0.0</td></tr><tr><td>Microsoft Excel - Data Visualization, Excel Charts & Graphs</td><td>4.6</td><td>4.6</td><td>0.0</td></tr><tr><td>Power BI A-Z: Hands-On Power BI Training For Data Science!</td><td>4.4</td><td>4.4</td><td>0.0</td></tr><tr><td>Adobe InDesign CC - Essentials Training Course</td><td>4.7</td><td>4.7</td><td>0.0</td></tr><tr><td>The Complete Foundation Stock Trading Course</td><td>4.5</td><td>4.5</td><td>0.0</td></tr><tr><td>Meditation Practitioner / Teacher Certification (ACCREDITED)</td><td>4.7</td><td>4.7</td><td>0.0</td></tr><tr><td>Introduction to Finance, Accounting, Modeling and Valuation</td><td>4.5</td><td>4.5</td><td>0.0</td></tr><tr><td>After Effects CC Masterclass: Complete After Effects Course</td><td>4.6</td><td>4.6</td><td>0.0</td></tr><tr><td>Accounting in 60 Minutes - A Brief Introduction</td><td>4.5</td><td>4.5</td><td>0.0</td></tr><tr><td>Microsoft Excel - From Beginner to Expert in 6 Hours</td><td>4.5</td><td>4.5</td><td>0.0</td></tr><tr><td>Accounting & Financial Statement Analysis: Complete Training</td><td>4.6</td><td>4.6</td><td>0.0</td></tr><tr><td>CSS - The Complete Guide 2020 (incl. Flexbox, Grid & Sass)</td><td>4.7</td><td>4.7</td><td>0.0</td></tr><tr><td>The Complete Personal Finance Course: Save,Protect,Make More</td><td>4.6</td><td>4.6</td><td>0.0</td></tr><tr><td>Elite Singing Techniques - Phase I</td><td>4.7</td><td>4.7</td><td>0.0</td></tr><tr><td>Accounting: From Beginner to Advanced!</td><td>4.4</td><td>4.4</td><td>0.0</td></tr><tr><td>The Complete App Design Course - UX, UI and Design Thinking</td><td>4.4</td><td>4.4</td><td>0.0</td></tr><tr><td>Forex Robots: Automate Your Trading - Forex Robot Included!</td><td>4.7</td><td>4.7</td><td>0.0</td></tr><tr><td>Microsoft Project ALL: BEGINNER to EXPERT 10 Projects 9 PDU</td><td>4.5</td><td>4.5</td><td>0.0</td></tr><tr><td>The Ultimate QuickBooks Pro Training Bundle - 60+ Hours</td><td>4.4</td><td>4.4</td><td>0.0</td></tr><tr><td>The Ultimate Digital Painting Course - Beginner to Advanced</td><td>4.5</td><td>4.5</td><td>0.0</td></tr><tr><td>Options Trading MasterClass: Options With Technical Analysis</td><td>4.3</td><td>4.3</td><td>0.0</td></tr><tr><td>Music Theory Comprehensive Complete: Part 4, 5, & 6</td><td>4.7</td><td>4.7</td><td>0.0</td></tr><tr><td>The Complete Graphic Design Theory for Beginners Course</td><td>4.6</td><td>4.6</td><td>0.0</td></tr><tr><td>Microsoft Excel - Excel Power Query, Power Pivot & DAX</td><td>4.7</td><td>4.7</td><td>0.0</td></tr><tr><td>Crash Course Electronics and PCB Design</td><td>4.6</td><td>4.6</td><td>0.0</td></tr><tr><td>The Professional Bass Masterclass</td><td>4.6</td><td>4.6</td><td>0.0</td></tr><tr><td>How to Work with Interior Design Styles Like a Pro</td><td>4.4</td><td>4.4</td><td>0.0</td></tr><tr><td>Microsoft Access 2016 Master Class: Beginner to Advanced</td><td>4.6</td><td>4.6</td><td>0.0</td></tr><tr><td>User Experience (UX): The Ultimate Guide to Usability and UX</td><td>4.6</td><td>4.6</td><td>0.0</td></tr><tr><td>The Complete Piano Course - Master The Piano</td><td>4.5</td><td>4.5</td><td>0.0</td></tr><tr><td>GIMP 2.10 Masterclass: From Beginner to Pro Photo Editing</td><td>4.6</td><td>4.6</td><td>0.0</td></tr><tr><td>SAP Simplified for Absolute Beginners</td><td>4.4</td><td>4.4</td><td>0.0</td></tr><tr><td>Complete Photography : 21 Courses in 1 [Beginner to Expert]</td><td>4.3</td><td>4.3</td><td>0.0</td></tr><tr><td>Music Production I - Learn to be a Music Producer!</td><td>4.5</td><td>4.5</td><td>0.0</td></tr><tr><td>The Complete Digital Marketing Course - 12 Courses in 1</td><td>4.4</td><td>4.5</td><td>0.09999999999999964</td></tr><tr><td>The Complete Financial Analyst Training & Investing Course</td><td>4.5</td><td>4.6</td><td>0.09999999999999964</td></tr><tr><td>Instagram Marketing 2020: Complete Guide To Instagram Growth</td><td>4.4</td><td>4.5</td><td>0.09999999999999964</td></tr><tr><td>The Ultimate Drawing Course - Beginner to Advanced</td><td>4.5</td><td>4.6</td><td>0.09999999999999964</td></tr><tr><td>Facebook Ads & Facebook Marketing MASTERY 2020 | Coursenvy ®</td><td>4.4</td><td>4.5</td><td>0.09999999999999964</td></tr><tr><td>Deep Learning Prerequisites: The Numpy Stack in Python (V2+)</td><td>4.5</td><td>4.6</td><td>0.09999999999999964</td></tr><tr><td>Digital Marketing Masterclass - 23 Courses in 1</td><td>4.4</td><td>4.5</td><td>0.09999999999999964</td></tr><tr><td>Mastering Microsoft Teams (2020)</td><td>4.4</td><td>4.5</td><td>0.09999999999999964</td></tr><tr><td>Mega Digital Marketing Course A-Z: 12 Courses in 1 + Updates</td><td>4.4</td><td>4.5</td><td>0.09999999999999964</td></tr><tr><td>Python for Finance: Investment Fundamentals & Data Analytics</td><td>4.5</td><td>4.6</td><td>0.09999999999999964</td></tr><tr><td>SEO:Amazon Affiliate Marketing+SEO |250+ Videos |18.0 Hours</td><td>4.4</td><td>4.5</td><td>0.09999999999999964</td></tr><tr><td>Wordpress for Beginners - Master Wordpress Quickly</td><td>4.5</td><td>4.6</td><td>0.09999999999999964</td></tr><tr><td>Learn Python Programming Masterclass</td><td>4.5</td><td>4.6</td><td>0.09999999999999964</td></tr><tr><td>Write Better Emails: Tactics for Smarter Team Communication</td><td>4.4</td><td>4.5</td><td>0.09999999999999964</td></tr><tr><td>Deep Learning A-Z™: Hands-On Artificial Neural Networks</td><td>4.5</td><td>4.6</td><td>0.09999999999999964</td></tr><tr><td>Paint Realistic Watercolor and Botanicals - STUDIO BASICS</td><td>4.5</td><td>4.6</td><td>0.09999999999999964</td></tr><tr><td>Writing With Flair: How To Become An Exceptional Writer</td><td>4.5</td><td>4.6</td><td>0.09999999999999964</td></tr><tr><td>Adobe Photoshop CC – Essentials Training Course</td><td>4.7</td><td>4.8</td><td>0.09999999999999964</td></tr><tr><td>Email Etiquette: Write More Effective Emails At Work</td><td>4.4</td><td>4.5</td><td>0.09999999999999964</td></tr><tr><td>Master Microsoft Excel Macros and Excel VBA</td><td>4.5</td><td>4.6</td><td>0.09999999999999964</td></tr><tr><td>The Complete Financial Analyst Training & Investing Course</td><td>4.5</td><td>4.6</td><td>0.09999999999999964</td></tr><tr><td>Adobe Illustrator CC - Essentials Training Course</td><td>4.7</td><td>4.8</td><td>0.09999999999999964</td></tr><tr><td>Investing In Stocks The Complete Course! (11 Hour)</td><td>4.4</td><td>4.5</td><td>0.09999999999999964</td></tr><tr><td>The Art & Science of Drawing / DYNAMIC MARK MAKING</td><td>4.7</td><td>4.8</td><td>0.09999999999999964</td></tr><tr><td>Python for Finance: Investment Fundamentals & Data Analytics</td><td>4.5</td><td>4.6</td><td>0.09999999999999964</td></tr><tr><td>Creating 3D environments in Blender</td><td>4.5</td><td>4.6</td><td>0.09999999999999964</td></tr><tr><td>Technical Analysis MasterClass:Trading By Technical Analysis</td><td>4.4</td><td>4.5</td><td>0.09999999999999964</td></tr><tr><td>Foundations for Mastering Watercolor Painting</td><td>4.7</td><td>4.8</td><td>0.09999999999999964</td></tr><tr><td>Options Trading Basics (3-Course Bundle)</td><td>4.4</td><td>4.5</td><td>0.09999999999999964</td></tr><tr><td>Fundamentals of Garden Design</td><td>4.4</td><td>4.5</td><td>0.09999999999999964</td></tr><tr><td>Beginner to Pro in PowerPoint: Complete PowerPoint Training</td><td>4.4</td><td>4.5</td><td>0.09999999999999964</td></tr><tr><td>Emotional Intelligence (EQ) Practitioner Cert (ACCREDITED)</td><td>4.5</td><td>4.6</td><td>0.09999999999999964</td></tr><tr><td>Mastering QuickBooks Online</td><td>4.4</td><td>4.5</td><td>0.09999999999999964</td></tr><tr><td>Cinematography Course: Shoot Expert Video on Any Camera</td><td>4.5</td><td>4.6</td><td>0.09999999999999964</td></tr><tr><td>Healthy Cooking Fundamentals</td><td>4.4</td><td>4.5</td><td>0.09999999999999964</td></tr><tr><td>Adobe Premiere Pro CC 2020: Video Editing for Beginners</td><td>4.5</td><td>4.6</td><td>0.09999999999999964</td></tr><tr><td>Ultimate Ableton Live 10 COMPLETE: Parts 1, 2, and 3</td><td>4.4</td><td>4.5</td><td>0.09999999999999964</td></tr><tr><td>Night Photography: You Can Shoot Stunning Night Photos</td><td>4.4</td><td>4.5</td><td>0.09999999999999964</td></tr><tr><td>The Complete Piano & Music Theory Beginners Course</td><td>4.4</td><td>4.5</td><td>0.09999999999999964</td></tr><tr><td>VIDEO CINEMATOGRAPHY techniques loved by pro filmmakers</td><td>4.5</td><td>4.6</td><td>0.09999999999999964</td></tr><tr><td>Lyricology: Perfect Song Structure and Beat Selection!</td><td>4.2</td><td>4.3</td><td>0.09999999999999964</td></tr><tr><td>Adobe Lightroom CC + Classic // Learn Photo Editing by Pro</td><td>4.5</td><td>4.6</td><td>0.09999999999999964</td></tr><tr><td>Color Grading with Da Vinci Resolve: Beginner to Advanced</td><td>4.4</td><td>4.5</td><td>0.09999999999999964</td></tr><tr><td>SQL for Data Analysis: Weekender Crash Course for Beginners</td><td>4.3</td><td>4.4</td><td>0.10000000000000053</td></tr><tr><td>SQL for Data Analysis: Weekender Crash Course for Beginners</td><td>4.3</td><td>4.4</td><td>0.10000000000000053</td></tr><tr><td>YouTube Masterclass - Your Complete Guide to YouTube</td><td>4.3</td><td>4.4</td><td>0.10000000000000053</td></tr><tr><td>Microsoft Excel - Excel from Beginner to Advanced</td><td>4.6</td><td>4.7</td><td>0.10000000000000053</td></tr><tr><td>SEO Training: Get Free Traffic to Your Website With SEO</td><td>4.3</td><td>4.4</td><td>0.10000000000000053</td></tr><tr><td>Tableau 20 Advanced Training: Master Tableau in Data Science</td><td>4.6</td><td>4.7</td><td>0.10000000000000053</td></tr><tr><td>How to Create Animated Videos with Powerpoint</td><td>4.6</td><td>4.7</td><td>0.10000000000000053</td></tr><tr><td>Complete Blender Creator: Learn 3D Modelling for Beginners</td><td>4.6</td><td>4.7</td><td>0.10000000000000053</td></tr><tr><td>The Web Developer Bootcamp</td><td>4.6</td><td>4.7</td><td>0.10000000000000053</td></tr><tr><td>Anime Drawing for Beginners</td><td>4.6</td><td>4.7</td><td>0.10000000000000053</td></tr><tr><td>The Complete JavaScript Course 2020: Build Real Projects!</td><td>4.6</td><td>4.7</td><td>0.10000000000000053</td></tr><tr><td>User Experience Design Essentials - Adobe XD UI UX Design</td><td>4.6</td><td>4.7</td><td>0.10000000000000053</td></tr><tr><td>Complete C# Unity Game Developer 2D</td><td>4.6</td><td>4.7</td><td>0.10000000000000053</td></tr><tr><td>Unlock Excel VBA and Excel Macros</td><td>4.6</td><td>4.7</td><td>0.10000000000000053</td></tr><tr><td>Automate the Boring Stuff with Python Programming</td><td>4.6</td><td>4.7</td><td>0.10000000000000053</td></tr><tr><td>Ultimate Photoshop Training: From Beginner to Pro</td><td>4.6</td><td>4.7</td><td>0.10000000000000053</td></tr><tr><td>HOW TO PAINT FROM BEGINNER TO MASTER</td><td>4.6</td><td>4.7</td><td>0.10000000000000053</td></tr><tr><td>Photoshop CC 2020 MasterClass</td><td>4.6</td><td>4.7</td><td>0.10000000000000053</td></tr><tr><td>Visually Effective Excel Dashboards</td><td>4.6</td><td>4.7</td><td>0.10000000000000053</td></tr><tr><td>WordPress Theme Development with Bootstrap</td><td>4.3</td><td>4.4</td><td>0.10000000000000053</td></tr><tr><td>SINGING SIMPLIFIED #1: The Fast-Track to Singing Like a Pro</td><td>4.6</td><td>4.7</td><td>0.10000000000000053</td></tr><tr><td>DESIGN RULES: Principles + Practices for Great UI Design</td><td>4.6</td><td>4.7</td><td>0.10000000000000053</td></tr><tr><td>The Complete EDM Production Course - Produce, Mix & Master</td><td>4.6</td><td>4.7</td><td>0.10000000000000053</td></tr><tr><td>Photoshop Beginners Mastery: Zero to Hero in Photoshop</td><td>4.3</td><td>4.4</td><td>0.10000000000000053</td></tr><tr><td>Learn piano or keyboard from scratch - Complete piano course</td><td>4.6</td><td>4.7</td><td>0.10000000000000053</td></tr><tr><td>Learn Adobe Photoshop from Scratch</td><td>4.3</td><td>4.4</td><td>0.10000000000000053</td></tr><tr><td>Content Marketing: Grow Your Business with Content Marketing</td><td>4.4</td><td>4.6</td><td>0.1999999999999993</td></tr><tr><td>Ninja Writing: The Four Levels Of Writing Mastery</td><td>4.4</td><td>4.6</td><td>0.1999999999999993</td></tr><tr><td>Music Composition 1</td><td>4.4</td><td>4.6</td><td>0.1999999999999993</td></tr><tr><td>Excel Crash Course: Master Excel for Financial Analysis</td><td>4.4</td><td>4.6</td><td>0.1999999999999993</td></tr><tr><td>Learn Photoshop, Web Design & Profitable Freelancing</td><td>4.4</td><td>4.6</td><td>0.1999999999999993</td></tr><tr><td>The Complete Facebook Ads & Marketing Course</td><td>4.1</td><td>4.3</td><td>0.20000000000000018</td></tr><tr><td>Agile Crash Course: Agile Project Management; Agile Delivery</td><td>4.3</td><td>4.5</td><td>0.20000000000000018</td></tr><tr><td>Instagram Marketing 2020 | Grow Organic Followers Naturally!</td><td>4.2</td><td>4.4</td><td>0.20000000000000018</td></tr><tr><td>How To Sing #1: Complete Vocal Warm ups & Voice Physiology</td><td>4.6</td><td>4.8</td><td>0.20000000000000018</td></tr><tr><td>Unreal Engine C++ Developer: Learn C++ and Make Video Games</td><td>4.5</td><td>4.7</td><td>0.20000000000000018</td></tr><tr><td>Stock Trading & Investing for Beginners 4-in-1 Course Bundle</td><td>4.3</td><td>4.5</td><td>0.20000000000000018</td></tr><tr><td>Build Responsive Real World Websites with HTML5 and CSS3</td><td>4.6</td><td>4.8</td><td>0.20000000000000018</td></tr><tr><td>Wedding Photography: Complete Guide to Wedding Photography</td><td>4.6</td><td>4.8</td><td>0.20000000000000018</td></tr><tr><td>Acorns' Guide to Personal Finance</td><td>4.3</td><td>4.5</td><td>0.20000000000000018</td></tr><tr><td>Learn Landscape Photography</td><td>3.8</td><td>4.0</td><td>0.20000000000000018</td></tr><tr><td>SAP FICO (Financial Accounting & Management Accounting) </td><td>4.1</td><td>4.3</td><td>0.20000000000000018</td></tr><tr><td>Options Trading - How to Win with Weekly Options</td><td>4.1</td><td>4.3</td><td>0.20000000000000018</td></tr><tr><td>Become a Game Designer the Complete Series Coding to Design</td><td>4.2</td><td>4.5</td><td>0.2999999999999998</td></tr><tr><td>Financial Planning & Analysis: Building a Company's Budget</td><td>4.2</td><td>4.6</td><td>0.39999999999999947</td></tr></tbody></table></div>"
      ]
     },
     "metadata": {
      "application/vnd.databricks.v1+output": {
       "addedWidgets": {},
       "aggData": [],
       "aggError": "",
       "aggOverflow": false,
       "aggSchema": [],
       "aggSeriesLimitReached": false,
       "aggType": "",
       "arguments": {},
       "columnCustomDisplayInfos": {},
       "data": [
        [
         "The Complete Guide to League of Legends",
         4.5,
         3.8,
         -0.7000000000000002
        ],
        [
         "Long Exposure Photography: Shoot Your Own Stunning Photos",
         4.8,
         4.3,
         -0.5
        ],
        [
         "Digital Marketing Certification: Master Digital Marketing",
         4.2,
         3.8,
         -0.40000000000000036
        ],
        [
         "The Complete Final Cut Pro X Course Beginner To Intermediate",
         4.4,
         4.1,
         -0.3000000000000007
        ],
        [
         "#1 Cryptocurrency Long-term Investment Opportunity 2017/2018",
         1.8,
         1.5,
         -0.30000000000000004
        ],
        [
         "Photography Composition & Portrait Photography Masterclass",
         4.6,
         4.3,
         -0.2999999999999998
        ],
        [
         "PHP 101",
         4.7,
         4.5,
         -0.20000000000000018
        ],
        [
         "Photoshop In-Depth: Master all of Photoshop's Tools Easily",
         4.4,
         4.2,
         -0.20000000000000018
        ],
        [
         "Forex Trading A-Z™ - With LIVE Examples of Forex Trading",
         4.6,
         4.4,
         -0.1999999999999993
        ],
        [
         "Learn To Play The Drums",
         4.6,
         4.4,
         -0.1999999999999993
        ],
        [
         "Forex Trading A-Z™ - With LIVE Examples of Forex Trading",
         4.6,
         4.4,
         -0.1999999999999993
        ],
        [
         "Ultimate Google Ads Training 2020: Profit with Pay Per Click",
         4.7,
         4.6,
         -0.10000000000000053
        ],
        [
         "Sketch from A to Z (2020): Become an app designer",
         4.7,
         4.6,
         -0.10000000000000053
        ],
        [
         "Social Media Marketing - Complete Certificate Course",
         4.2,
         4.1,
         -0.10000000000000053
        ],
        [
         "Options Trading for Rookies: Understand Options Completely",
         4.7,
         4.6,
         -0.10000000000000053
        ],
        [
         "2020 Complete SEO Guide to Ranking Local Business Websites",
         4.4,
         4.3,
         -0.10000000000000053
        ],
        [
         "Master Microsoft Word Beginner to Advanced",
         4.7,
         4.6,
         -0.10000000000000053
        ],
        [
         "How Retargeting Works–The Complete Guide To Retargeting Ads!",
         4.7,
         4.6,
         -0.10000000000000053
        ],
        [
         "Accounting - A Brief Introduction - in 60 Minutes",
         4.7,
         4.6,
         -0.10000000000000053
        ],
        [
         "Writing Tools & Hacks: Copywriting/Blogging/Content Writing",
         4.2,
         4.1,
         -0.10000000000000053
        ],
        [
         "Landing Page Design & Conversion Rate Optimization 2018",
         4.7,
         4.6,
         -0.10000000000000053
        ],
        [
         "Copywriting - Become a Freelance Copywriter, your own boss",
         4.2,
         4.1,
         -0.10000000000000053
        ],
        [
         "Complete Day Trading : Stock Trading With Technical Analysis",
         4.4,
         4.3,
         -0.10000000000000053
        ],
        [
         "The Complete Node.js Developer Course (3rd Edition)",
         4.7,
         4.6,
         -0.10000000000000053
        ],
        [
         "Photography - Become a Better Photographer - Part I",
         4.7,
         4.6,
         -0.10000000000000053
        ],
        [
         "The Complete Android N Developer Course",
         4.4,
         4.3,
         -0.10000000000000053
        ],
        [
         "The Ultimate Hands-On Hadoop - Tame your Big Data!",
         4.6,
         4.5,
         -0.09999999999999964
        ],
        [
         "Google Analytics Certification: Become Certified & Earn More",
         4.5,
         4.4,
         -0.09999999999999964
        ],
        [
         "The Beginner's Guide to Digital Art with Procreate on iPad!",
         4.6,
         4.5,
         -0.09999999999999964
        ],
        [
         "[2020] Growth Hacking with Digital Marketing (Version 7.2)",
         4.5,
         4.4,
         -0.09999999999999964
        ],
        [
         "Blockchain and Bitcoin Fundamentals",
         4.6,
         4.5,
         -0.09999999999999964
        ],
        [
         "The Complete Facebook Ads Course - Beginner to Advanced",
         4.5,
         4.4,
         -0.09999999999999964
        ],
        [
         "Graphic Design Bootcamp: Photoshop, Illustrator, InDesign",
         4.5,
         4.4,
         -0.09999999999999964
        ],
        [
         "iOS 13 & Swift 5 - The Complete iOS App Development Bootcamp",
         4.8,
         4.7,
         -0.09999999999999964
        ],
        [
         "Advanced Stock Trading Course + Strategies",
         4.6,
         4.5,
         -0.09999999999999964
        ],
        [
         "Data Science A-Z™: Real-Life Data Science Exercises Included",
         4.6,
         4.5,
         -0.09999999999999964
        ],
        [
         "Essential Cooking Skills",
         4.5,
         4.4,
         -0.09999999999999964
        ],
        [
         "Value Investing Bootcamp: How to Invest Wisely",
         4.5,
         4.4,
         -0.09999999999999964
        ],
        [
         "UX & Web Design Master Course: Strategy, Design, Development",
         4.5,
         4.4,
         -0.09999999999999964
        ],
        [
         "Start Trading Stocks Using Technical Analysis!",
         4.5,
         4.4,
         -0.09999999999999964
        ],
        [
         "Dr. Ian Dunbar's SIRIUS® Dog Trainer Academy - All 4 Days",
         4.6,
         4.5,
         -0.09999999999999964
        ],
        [
         "Algorithmic Trading In Forex: Create Your First Forex Robot!",
         4.6,
         4.5,
         -0.09999999999999964
        ],
        [
         "Street Photography: How I approach people on the streets...",
         4.3,
         4.2,
         -0.09999999999999964
        ],
        [
         "Financial Modeling: Build a Complete DCF Valuation Model",
         4.5,
         4.4,
         -0.09999999999999964
        ],
        [
         "The Basics of Household Wiring. The Electrical System A to Z",
         4.3,
         4.2,
         -0.09999999999999964
        ],
        [
         "Phantom & Mavic Filmschool 1- master autopilot with Litchi",
         4.6,
         4.5,
         -0.09999999999999964
        ],
        [
         "Learn Guitar: Zero to Guitar Fingerpicking in 30 days",
         4.6,
         4.5,
         -0.09999999999999964
        ],
        [
         "Social Media Marketing MASTERY | Learn Ads on 10+ Platforms",
         4.4,
         4.4,
         0.0
        ],
        [
         "The Complete SQL Bootcamp 2020: Go from Zero to Hero",
         4.7,
         4.7,
         0.0
        ],
        [
         "The Complete Copywriting Course : Write to Sell Like a Pro",
         4.6,
         4.6,
         0.0
        ],
        [
         "Design Thinking in 3 Steps",
         4.4,
         4.4,
         0.0
        ],
        [
         "Copywriting secrets - How to write copy that sells",
         4.4,
         4.4,
         0.0
        ],
        [
         "Tableau 2020 A-Z: Hands-On Tableau Training for Data Science",
         4.6,
         4.6,
         0.0
        ],
        [
         "Social Media Management - The Complete 2019 Manager Bootcamp",
         4.4,
         4.4,
         0.0
        ],
        [
         "Microsoft Excel - Advanced Excel Formulas & Functions",
         4.7,
         4.7,
         0.0
        ],
        [
         "Complete SEO Training With Top SEO Expert Peter Kent!",
         4.4,
         4.4,
         0.0
        ],
        [
         "PMP Exam Prep Seminar - PMBOK Guide 6",
         4.6,
         4.6,
         0.0
        ],
        [
         "Seth Godin on Presenting to Persuade",
         4.4,
         4.4,
         0.0
        ],
        [
         "Illustrator CC 2020 MasterClass",
         4.6,
         4.6,
         0.0
        ],
        [
         "Google AdWords for Beginners 2020",
         4.2,
         4.2,
         0.0
        ],
        [
         "Microsoft Power BI - A Complete Introduction [2020 EDITION]",
         4.6,
         4.6,
         0.0
        ],
        [
         "Business Branding: The Complete Course Part 1 - Strategy",
         4.6,
         4.6,
         0.0
        ],
        [
         "The Art & Science of Figure Drawing: GESTURE",
         4.8,
         4.8,
         0.0
        ],
        [
         "Social Media Marketing Agency : Digital Marketing + Business",
         4.5,
         4.5,
         0.0
        ],
        [
         "Microsoft Power BI - Up & Running With Power BI Desktop",
         4.6,
         4.6,
         0.0
        ],
        [
         "The Complete MailChimp Email Marketing Course",
         4.3,
         4.3,
         0.0
        ],
        [
         "Adobe Photoshop CC: Your Complete Beginner to Advanced Class",
         4.6,
         4.6,
         0.0
        ],
        [
         "2020 Complete Python Bootcamp: From Zero to Hero in Python",
         4.6,
         4.6,
         0.0
        ],
        [
         "Leadership: Practical Leadership Skills",
         4.6,
         4.6,
         0.0
        ],
        [
         "Java Programming Masterclass for Software Developers",
         4.6,
         4.6,
         0.0
        ],
        [
         "Microsoft Excel - Data Analysis with Excel Pivot Tables",
         4.6,
         4.6,
         0.0
        ],
        [
         "React - The Complete Guide (incl Hooks, React Router, Redux)",
         4.6,
         4.6,
         0.0
        ],
        [
         "The Complete Foundation Stock Trading Course",
         4.5,
         4.5,
         0.0
        ],
        [
         "Python for Data Science and Machine Learning Bootcamp",
         4.6,
         4.6,
         0.0
        ],
        [
         "The complete AutoCAD 2018-21 course",
         4.6,
         4.6,
         0.0
        ],
        [
         "Modern React with Redux [2020 Update]",
         4.7,
         4.7,
         0.0
        ],
        [
         "SQL - MySQL for Data Analytics and Business Intelligence",
         4.6,
         4.6,
         0.0
        ],
        [
         "The Ultimate MySQL Bootcamp: Go from SQL Beginner to Expert",
         4.6,
         4.6,
         0.0
        ],
        [
         "Inside Your Dog's Mind with Victoria Stilwell",
         4.4,
         4.4,
         0.0
        ],
        [
         "Spring & Hibernate for Beginners (includes Spring Boot)",
         4.6,
         4.6,
         0.0
        ],
        [
         "How to Start an Amazon FBA Store on a Tight Budget",
         4.6,
         4.6,
         0.0
        ],
        [
         "Vue - The Complete Guide (w/ Router, Vuex, Composition API)",
         4.7,
         4.7,
         0.0
        ],
        [
         "Web Design for Beginners: Real World Coding in HTML & CSS",
         4.6,
         4.6,
         0.0
        ],
        [
         "The Complete Web Developer in 2020: Zero to Mastery",
         4.7,
         4.7,
         0.0
        ],
        [
         "Introduction to Finance, Accounting, Modeling and Valuation",
         4.5,
         4.5,
         0.0
        ],
        [
         "JavaScript: Understanding the Weird Parts",
         4.7,
         4.7,
         0.0
        ],
        [
         "Excel Essentials: The Complete Excel Series - Level 1, 2 & 3",
         4.6,
         4.6,
         0.0
        ],
        [
         "C# Basics for Beginners: Learn C# Fundamentals by Coding",
         4.5,
         4.5,
         0.0
        ],
        [
         "Sales Training: Practical Sales Techniques",
         4.6,
         4.6,
         0.0
        ],
        [
         "R Programming A-Z™: R For Data Science With Real Exercises!",
         4.6,
         4.6,
         0.0
        ],
        [
         "Drawing and Painting on the iPad with Procreate",
         4.7,
         4.7,
         0.0
        ],
        [
         "Python and Django Full Stack Web Developer Bootcamp",
         4.5,
         4.5,
         0.0
        ],
        [
         "Conscious Listening",
         4.5,
         4.5,
         0.0
        ],
        [
         "Docker and Kubernetes: The Complete Guide",
         4.7,
         4.7,
         0.0
        ],
        [
         "The Art & Science of Drawing / FORM & SPACE",
         4.8,
         4.8,
         0.0
        ],
        [
         "The Python Bible™ | Everything You Need to Program in Python",
         4.6,
         4.6,
         0.0
        ],
        [
         "The Complete Presentation and Public Speaking/Speech Course",
         4.5,
         4.5,
         0.0
        ],
        [
         "Beginning C++ Programming - From Beginner to Beyond",
         4.6,
         4.6,
         0.0
        ],
        [
         "User Experience Design Fundamentals",
         4.4,
         4.4,
         0.0
        ],
        [
         "Flutter & Dart - The Complete Guide [2020 Edition]",
         4.6,
         4.6,
         0.0
        ],
        [
         "Emotional Intelligence at Work: Learn from Your Emotions",
         4.5,
         4.5,
         0.0
        ],
        [
         "Microsoft Excel - Data Visualization, Excel Charts & Graphs",
         4.6,
         4.6,
         0.0
        ],
        [
         "Power BI A-Z: Hands-On Power BI Training For Data Science!",
         4.4,
         4.4,
         0.0
        ],
        [
         "Adobe InDesign CC - Essentials Training Course",
         4.7,
         4.7,
         0.0
        ],
        [
         "The Complete Foundation Stock Trading Course",
         4.5,
         4.5,
         0.0
        ],
        [
         "Meditation Practitioner / Teacher Certification (ACCREDITED)",
         4.7,
         4.7,
         0.0
        ],
        [
         "Introduction to Finance, Accounting, Modeling and Valuation",
         4.5,
         4.5,
         0.0
        ],
        [
         "After Effects CC Masterclass: Complete After Effects Course",
         4.6,
         4.6,
         0.0
        ],
        [
         "Accounting in 60 Minutes - A Brief Introduction",
         4.5,
         4.5,
         0.0
        ],
        [
         "Microsoft Excel - From Beginner to Expert in 6 Hours",
         4.5,
         4.5,
         0.0
        ],
        [
         "Accounting & Financial Statement Analysis: Complete Training",
         4.6,
         4.6,
         0.0
        ],
        [
         "CSS - The Complete Guide 2020 (incl. Flexbox, Grid & Sass)",
         4.7,
         4.7,
         0.0
        ],
        [
         "The Complete Personal Finance Course: Save,Protect,Make More",
         4.6,
         4.6,
         0.0
        ],
        [
         "Elite Singing Techniques - Phase I",
         4.7,
         4.7,
         0.0
        ],
        [
         "Accounting: From Beginner to Advanced!",
         4.4,
         4.4,
         0.0
        ],
        [
         "The Complete App Design Course - UX, UI and Design Thinking",
         4.4,
         4.4,
         0.0
        ],
        [
         "Forex Robots: Automate Your Trading - Forex Robot Included!",
         4.7,
         4.7,
         0.0
        ],
        [
         "Microsoft Project ALL: BEGINNER to EXPERT 10 Projects 9 PDU",
         4.5,
         4.5,
         0.0
        ],
        [
         "The Ultimate QuickBooks Pro Training Bundle - 60+ Hours",
         4.4,
         4.4,
         0.0
        ],
        [
         "The Ultimate Digital Painting Course - Beginner to Advanced",
         4.5,
         4.5,
         0.0
        ],
        [
         "Options Trading MasterClass: Options With Technical Analysis",
         4.3,
         4.3,
         0.0
        ],
        [
         "Music Theory Comprehensive Complete: Part 4, 5, & 6",
         4.7,
         4.7,
         0.0
        ],
        [
         "The Complete Graphic Design Theory for Beginners Course",
         4.6,
         4.6,
         0.0
        ],
        [
         "Microsoft Excel - Excel Power Query, Power Pivot & DAX",
         4.7,
         4.7,
         0.0
        ],
        [
         "Crash Course Electronics and PCB Design",
         4.6,
         4.6,
         0.0
        ],
        [
         "The Professional Bass Masterclass",
         4.6,
         4.6,
         0.0
        ],
        [
         "How to Work with Interior Design Styles Like a Pro",
         4.4,
         4.4,
         0.0
        ],
        [
         "Microsoft Access 2016 Master Class: Beginner to Advanced",
         4.6,
         4.6,
         0.0
        ],
        [
         "User Experience (UX): The Ultimate Guide to Usability and UX",
         4.6,
         4.6,
         0.0
        ],
        [
         "The Complete Piano Course - Master The Piano",
         4.5,
         4.5,
         0.0
        ],
        [
         "GIMP 2.10 Masterclass: From Beginner to Pro Photo Editing",
         4.6,
         4.6,
         0.0
        ],
        [
         "SAP Simplified for Absolute Beginners",
         4.4,
         4.4,
         0.0
        ],
        [
         "Complete Photography : 21 Courses in 1 [Beginner to Expert]",
         4.3,
         4.3,
         0.0
        ],
        [
         "Music Production I - Learn to be a Music Producer!",
         4.5,
         4.5,
         0.0
        ],
        [
         "The Complete Digital Marketing Course - 12 Courses in 1",
         4.4,
         4.5,
         0.09999999999999964
        ],
        [
         "The Complete Financial Analyst Training & Investing Course",
         4.5,
         4.6,
         0.09999999999999964
        ],
        [
         "Instagram Marketing 2020: Complete Guide To Instagram Growth",
         4.4,
         4.5,
         0.09999999999999964
        ],
        [
         "The Ultimate Drawing Course - Beginner to Advanced",
         4.5,
         4.6,
         0.09999999999999964
        ],
        [
         "Facebook Ads & Facebook Marketing MASTERY 2020 | Coursenvy ®",
         4.4,
         4.5,
         0.09999999999999964
        ],
        [
         "Deep Learning Prerequisites: The Numpy Stack in Python (V2+)",
         4.5,
         4.6,
         0.09999999999999964
        ],
        [
         "Digital Marketing Masterclass - 23 Courses in 1",
         4.4,
         4.5,
         0.09999999999999964
        ],
        [
         "Mastering Microsoft Teams (2020)",
         4.4,
         4.5,
         0.09999999999999964
        ],
        [
         "Mega Digital Marketing Course A-Z: 12 Courses in 1 + Updates",
         4.4,
         4.5,
         0.09999999999999964
        ],
        [
         "Python for Finance: Investment Fundamentals & Data Analytics",
         4.5,
         4.6,
         0.09999999999999964
        ],
        [
         "SEO:Amazon Affiliate Marketing+SEO |250+ Videos |18.0 Hours",
         4.4,
         4.5,
         0.09999999999999964
        ],
        [
         "Wordpress for Beginners - Master Wordpress Quickly",
         4.5,
         4.6,
         0.09999999999999964
        ],
        [
         "Learn Python Programming Masterclass",
         4.5,
         4.6,
         0.09999999999999964
        ],
        [
         "Write Better Emails: Tactics for Smarter Team Communication",
         4.4,
         4.5,
         0.09999999999999964
        ],
        [
         "Deep Learning A-Z™: Hands-On Artificial Neural Networks",
         4.5,
         4.6,
         0.09999999999999964
        ],
        [
         "Paint Realistic Watercolor and Botanicals - STUDIO BASICS",
         4.5,
         4.6,
         0.09999999999999964
        ],
        [
         "Writing With Flair: How To Become An Exceptional Writer",
         4.5,
         4.6,
         0.09999999999999964
        ],
        [
         "Adobe Photoshop CC – Essentials Training Course",
         4.7,
         4.8,
         0.09999999999999964
        ],
        [
         "Email Etiquette: Write More Effective Emails At Work",
         4.4,
         4.5,
         0.09999999999999964
        ],
        [
         "Master Microsoft Excel Macros and Excel VBA",
         4.5,
         4.6,
         0.09999999999999964
        ],
        [
         "The Complete Financial Analyst Training & Investing Course",
         4.5,
         4.6,
         0.09999999999999964
        ],
        [
         "Adobe Illustrator CC - Essentials Training Course",
         4.7,
         4.8,
         0.09999999999999964
        ],
        [
         "Investing In Stocks The Complete Course! (11 Hour)",
         4.4,
         4.5,
         0.09999999999999964
        ],
        [
         "The Art & Science of Drawing / DYNAMIC MARK MAKING",
         4.7,
         4.8,
         0.09999999999999964
        ],
        [
         "Python for Finance: Investment Fundamentals & Data Analytics",
         4.5,
         4.6,
         0.09999999999999964
        ],
        [
         "Creating 3D environments in Blender",
         4.5,
         4.6,
         0.09999999999999964
        ],
        [
         "Technical Analysis MasterClass:Trading By Technical Analysis",
         4.4,
         4.5,
         0.09999999999999964
        ],
        [
         "Foundations for Mastering Watercolor Painting",
         4.7,
         4.8,
         0.09999999999999964
        ],
        [
         "Options Trading Basics (3-Course Bundle)",
         4.4,
         4.5,
         0.09999999999999964
        ],
        [
         "Fundamentals of Garden Design",
         4.4,
         4.5,
         0.09999999999999964
        ],
        [
         "Beginner to Pro in PowerPoint: Complete PowerPoint Training",
         4.4,
         4.5,
         0.09999999999999964
        ],
        [
         "Emotional Intelligence (EQ) Practitioner Cert (ACCREDITED)",
         4.5,
         4.6,
         0.09999999999999964
        ],
        [
         "Mastering QuickBooks Online",
         4.4,
         4.5,
         0.09999999999999964
        ],
        [
         "Cinematography Course: Shoot Expert Video on Any Camera",
         4.5,
         4.6,
         0.09999999999999964
        ],
        [
         "Healthy Cooking Fundamentals",
         4.4,
         4.5,
         0.09999999999999964
        ],
        [
         "Adobe Premiere Pro CC 2020: Video Editing for Beginners",
         4.5,
         4.6,
         0.09999999999999964
        ],
        [
         "Ultimate Ableton Live 10 COMPLETE: Parts 1, 2, and 3",
         4.4,
         4.5,
         0.09999999999999964
        ],
        [
         "Night Photography: You Can Shoot Stunning Night Photos",
         4.4,
         4.5,
         0.09999999999999964
        ],
        [
         "The Complete Piano & Music Theory Beginners Course",
         4.4,
         4.5,
         0.09999999999999964
        ],
        [
         "VIDEO CINEMATOGRAPHY techniques loved by pro filmmakers",
         4.5,
         4.6,
         0.09999999999999964
        ],
        [
         "Lyricology: Perfect Song Structure and Beat Selection!",
         4.2,
         4.3,
         0.09999999999999964
        ],
        [
         "Adobe Lightroom CC + Classic // Learn Photo Editing by Pro",
         4.5,
         4.6,
         0.09999999999999964
        ],
        [
         "Color Grading with Da Vinci Resolve: Beginner to Advanced",
         4.4,
         4.5,
         0.09999999999999964
        ],
        [
         "SQL for Data Analysis: Weekender Crash Course for Beginners",
         4.3,
         4.4,
         0.10000000000000053
        ],
        [
         "SQL for Data Analysis: Weekender Crash Course for Beginners",
         4.3,
         4.4,
         0.10000000000000053
        ],
        [
         "YouTube Masterclass - Your Complete Guide to YouTube",
         4.3,
         4.4,
         0.10000000000000053
        ],
        [
         "Microsoft Excel - Excel from Beginner to Advanced",
         4.6,
         4.7,
         0.10000000000000053
        ],
        [
         "SEO Training: Get Free Traffic to Your Website With SEO",
         4.3,
         4.4,
         0.10000000000000053
        ],
        [
         "Tableau 20 Advanced Training: Master Tableau in Data Science",
         4.6,
         4.7,
         0.10000000000000053
        ],
        [
         "How to Create Animated Videos with Powerpoint",
         4.6,
         4.7,
         0.10000000000000053
        ],
        [
         "Complete Blender Creator: Learn 3D Modelling for Beginners",
         4.6,
         4.7,
         0.10000000000000053
        ],
        [
         "The Web Developer Bootcamp",
         4.6,
         4.7,
         0.10000000000000053
        ],
        [
         "Anime Drawing for Beginners",
         4.6,
         4.7,
         0.10000000000000053
        ],
        [
         "The Complete JavaScript Course 2020: Build Real Projects!",
         4.6,
         4.7,
         0.10000000000000053
        ],
        [
         "User Experience Design Essentials - Adobe XD UI UX Design",
         4.6,
         4.7,
         0.10000000000000053
        ],
        [
         "Complete C# Unity Game Developer 2D",
         4.6,
         4.7,
         0.10000000000000053
        ],
        [
         "Unlock Excel VBA and Excel Macros",
         4.6,
         4.7,
         0.10000000000000053
        ],
        [
         "Automate the Boring Stuff with Python Programming",
         4.6,
         4.7,
         0.10000000000000053
        ],
        [
         "Ultimate Photoshop Training: From Beginner to Pro",
         4.6,
         4.7,
         0.10000000000000053
        ],
        [
         "HOW TO PAINT FROM BEGINNER TO MASTER",
         4.6,
         4.7,
         0.10000000000000053
        ],
        [
         "Photoshop CC 2020 MasterClass",
         4.6,
         4.7,
         0.10000000000000053
        ],
        [
         "Visually Effective Excel Dashboards",
         4.6,
         4.7,
         0.10000000000000053
        ],
        [
         "WordPress Theme Development with Bootstrap",
         4.3,
         4.4,
         0.10000000000000053
        ],
        [
         "SINGING SIMPLIFIED #1: The Fast-Track to Singing Like a Pro",
         4.6,
         4.7,
         0.10000000000000053
        ],
        [
         "DESIGN RULES: Principles + Practices for Great UI Design",
         4.6,
         4.7,
         0.10000000000000053
        ],
        [
         "The Complete EDM Production Course - Produce, Mix & Master",
         4.6,
         4.7,
         0.10000000000000053
        ],
        [
         "Photoshop Beginners Mastery: Zero to Hero in Photoshop",
         4.3,
         4.4,
         0.10000000000000053
        ],
        [
         "Learn piano or keyboard from scratch - Complete piano course",
         4.6,
         4.7,
         0.10000000000000053
        ],
        [
         "Learn Adobe Photoshop from Scratch",
         4.3,
         4.4,
         0.10000000000000053
        ],
        [
         "Content Marketing: Grow Your Business with Content Marketing",
         4.4,
         4.6,
         0.1999999999999993
        ],
        [
         "Ninja Writing: The Four Levels Of Writing Mastery",
         4.4,
         4.6,
         0.1999999999999993
        ],
        [
         "Music Composition 1",
         4.4,
         4.6,
         0.1999999999999993
        ],
        [
         "Excel Crash Course: Master Excel for Financial Analysis",
         4.4,
         4.6,
         0.1999999999999993
        ],
        [
         "Learn Photoshop, Web Design & Profitable Freelancing",
         4.4,
         4.6,
         0.1999999999999993
        ],
        [
         "The Complete Facebook Ads & Marketing Course",
         4.1,
         4.3,
         0.20000000000000018
        ],
        [
         "Agile Crash Course: Agile Project Management; Agile Delivery",
         4.3,
         4.5,
         0.20000000000000018
        ],
        [
         "Instagram Marketing 2020 | Grow Organic Followers Naturally!",
         4.2,
         4.4,
         0.20000000000000018
        ],
        [
         "How To Sing #1: Complete Vocal Warm ups & Voice Physiology",
         4.6,
         4.8,
         0.20000000000000018
        ],
        [
         "Unreal Engine C++ Developer: Learn C++ and Make Video Games",
         4.5,
         4.7,
         0.20000000000000018
        ],
        [
         "Stock Trading & Investing for Beginners 4-in-1 Course Bundle",
         4.3,
         4.5,
         0.20000000000000018
        ],
        [
         "Build Responsive Real World Websites with HTML5 and CSS3",
         4.6,
         4.8,
         0.20000000000000018
        ],
        [
         "Wedding Photography: Complete Guide to Wedding Photography",
         4.6,
         4.8,
         0.20000000000000018
        ],
        [
         "Acorns' Guide to Personal Finance",
         4.3,
         4.5,
         0.20000000000000018
        ],
        [
         "Learn Landscape Photography",
         3.8,
         4.0,
         0.20000000000000018
        ],
        [
         "SAP FICO (Financial Accounting & Management Accounting) ",
         4.1,
         4.3,
         0.20000000000000018
        ],
        [
         "Options Trading - How to Win with Weekly Options",
         4.1,
         4.3,
         0.20000000000000018
        ],
        [
         "Become a Game Designer the Complete Series Coding to Design",
         4.2,
         4.5,
         0.2999999999999998
        ],
        [
         "Financial Planning & Analysis: Building a Company's Budget",
         4.2,
         4.6,
         0.39999999999999947
        ]
       ],
       "datasetInfos": [],
       "dbfsResultPath": null,
       "isJsonSchema": true,
       "metadata": {},
       "overflow": false,
       "plotOptions": {
        "customPlotOptions": {},
        "displayType": "table",
        "pivotAggregation": null,
        "pivotColumns": null,
        "xColumns": null,
        "yColumns": null
       },
       "removedWidgets": [],
       "schema": [
        {
         "metadata": "{}",
         "name": "title",
         "type": "\"string\""
        },
        {
         "metadata": "{}",
         "name": "stars",
         "type": "\"double\""
        },
        {
         "metadata": "{}",
         "name": "latest_rating",
         "type": "\"double\""
        },
        {
         "metadata": "{}",
         "name": "improve_ment",
         "type": "\"double\""
        }
       ],
       "type": "table"
      }
     },
     "output_type": "display_data"
    }
   ],
   "source": [
    "%sql\n",
    "select *,latest_rating-stars as improve_ment from (\n",
    "select title,stars,course_rating as latest_rating from silver.udemy2)x\n",
    "order by improve_ment asc"
   ]
  },
  {
   "cell_type": "markdown",
   "metadata": {
    "application/vnd.databricks.v1+cell": {
     "cellMetadata": {},
     "inputWidgets": {},
     "nuid": "94579a0d-bbe1-41b6-a5b6-0dba6b695b2b",
     "showTitle": false,
     "title": ""
    }
   },
   "source": [
    "#Giving sugestions based on user intrest"
   ]
  },
  {
   "cell_type": "code",
   "execution_count": 0,
   "metadata": {
    "application/vnd.databricks.v1+cell": {
     "cellMetadata": {},
     "inputWidgets": {},
     "nuid": "6b5d90e5-c489-4a0c-804d-b782e4eb257e",
     "showTitle": false,
     "title": ""
    }
   },
   "outputs": [
    {
     "output_type": "display_data",
     "data": {
      "text/plain": [
       "Enter string to search:  machine"
      ]
     },
     "metadata": {},
     "output_type": "display_data"
    },
    {
     "output_type": "display_data",
     "data": {
      "text/html": [
       "<style scoped>\n",
       "  .table-result-container {\n",
       "    max-height: 300px;\n",
       "    overflow: auto;\n",
       "  }\n",
       "  table, th, td {\n",
       "    border: 1px solid black;\n",
       "    border-collapse: collapse;\n",
       "  }\n",
       "  th, td {\n",
       "    padding: 5px;\n",
       "  }\n",
       "  th {\n",
       "    text-align: left;\n",
       "  }\n",
       "</style><div class='table-result-container'><table class='table-result'><thead style='background-color: white'><tr><th>index</th><th>Title</th><th>Summary</th><th>Enrollment</th><th>Stars</th><th>Rating</th><th>Link</th><th>category</th><th>instructor_tag</th><th>written_rating</th><th>total_students_author</th><th>latest_enroll</th><th>total_courses</th><th>instructor_rating</th><th>img_url</th><th>course_rating</th><th>written_course_rating</th><th>author_name</th><th>last_modified</th><th>created_timestamp</th></tr></thead><tbody><tr><td>7</td><td>Python for Data Science and Machine Learning Bootcamp</td><td>Learn how to use NumPy, Pandas, Seaborn , Matplotlib , Plotly , Scikit-Learn , Machine Learning, Tensorflow , and more!</td><td>387789</td><td>4.6</td><td>87403</td><td>https://www.udemy.com/course/python-for-data-science-and-machine-learning-bootcamp/</td><td>tech</td><td>[Head of Data Science at Pierian Training</td><td>1013752</td><td>3270570</td><td>623047</td><td>60</td><td>4.6</td><td> https://img-c.udemycdn.com/course/240x135/903744_8eb2.jpg</td><td>4.6</td><td>127705</td><td> Jose Portilla</td><td>05/2020</td><td>2023-03-06T14:58:34.549+0000</td></tr></tbody></table></div>"
      ]
     },
     "metadata": {
      "application/vnd.databricks.v1+output": {
       "addedWidgets": {},
       "aggData": [],
       "aggError": "",
       "aggOverflow": false,
       "aggSchema": [],
       "aggSeriesLimitReached": false,
       "aggType": "",
       "arguments": {},
       "columnCustomDisplayInfos": {},
       "data": [
        [
         7,
         "Python for Data Science and Machine Learning Bootcamp",
         "Learn how to use NumPy, Pandas, Seaborn , Matplotlib , Plotly , Scikit-Learn , Machine Learning, Tensorflow , and more!",
         387789,
         4.6,
         87403,
         "https://www.udemy.com/course/python-for-data-science-and-machine-learning-bootcamp/",
         "tech",
         "[Head of Data Science at Pierian Training",
         1013752,
         3270570,
         623047,
         60,
         4.6,
         " https://img-c.udemycdn.com/course/240x135/903744_8eb2.jpg",
         4.6,
         127705,
         " Jose Portilla",
         "05/2020",
         "2023-03-06T14:58:34.549+0000"
        ]
       ],
       "datasetInfos": [],
       "dbfsResultPath": null,
       "isJsonSchema": true,
       "metadata": {},
       "overflow": false,
       "plotOptions": {
        "customPlotOptions": {},
        "displayType": "table",
        "pivotAggregation": null,
        "pivotColumns": null,
        "xColumns": null,
        "yColumns": null
       },
       "removedWidgets": [],
       "schema": [
        {
         "metadata": "{}",
         "name": "index",
         "type": "\"integer\""
        },
        {
         "metadata": "{}",
         "name": "Title",
         "type": "\"string\""
        },
        {
         "metadata": "{}",
         "name": "Summary",
         "type": "\"string\""
        },
        {
         "metadata": "{}",
         "name": "Enrollment",
         "type": "\"integer\""
        },
        {
         "metadata": "{}",
         "name": "Stars",
         "type": "\"double\""
        },
        {
         "metadata": "{}",
         "name": "Rating",
         "type": "\"integer\""
        },
        {
         "metadata": "{}",
         "name": "Link",
         "type": "\"string\""
        },
        {
         "metadata": "{}",
         "name": "category",
         "type": "\"string\""
        },
        {
         "metadata": "{}",
         "name": "instructor_tag",
         "type": "\"string\""
        },
        {
         "metadata": "{}",
         "name": "written_rating",
         "type": "\"integer\""
        },
        {
         "metadata": "{}",
         "name": "total_students_author",
         "type": "\"integer\""
        },
        {
         "metadata": "{}",
         "name": "latest_enroll",
         "type": "\"integer\""
        },
        {
         "metadata": "{}",
         "name": "total_courses",
         "type": "\"integer\""
        },
        {
         "metadata": "{}",
         "name": "instructor_rating",
         "type": "\"double\""
        },
        {
         "metadata": "{}",
         "name": "img_url",
         "type": "\"string\""
        },
        {
         "metadata": "{}",
         "name": "course_rating",
         "type": "\"double\""
        },
        {
         "metadata": "{}",
         "name": "written_course_rating",
         "type": "\"integer\""
        },
        {
         "metadata": "{}",
         "name": "author_name",
         "type": "\"string\""
        },
        {
         "metadata": "{}",
         "name": "last_modified",
         "type": "\"string\""
        },
        {
         "metadata": "{}",
         "name": "created_timestamp",
         "type": "\"timestamp\""
        }
       ],
       "type": "table"
      }
     },
     "output_type": "display_data"
    }
   ],
   "source": [
    "from pyspark.sql.functions import col,lower\n",
    "input_str = input(\"Enter string to search: \")\n",
    "result_df = df_udemy_silver.filter(lower(col('title')).like(f'%{input_str}%'))\n",
    "result_df = result_df.orderBy('latest_enroll', ascending=False).limit(5)\n",
    "display(result_df)\n"
   ]
  },
  {
   "cell_type": "code",
   "execution_count": 0,
   "metadata": {
    "application/vnd.databricks.v1+cell": {
     "cellMetadata": {},
     "inputWidgets": {},
     "nuid": "b1a97167-f342-4909-a8cb-cfd765fe5a61",
     "showTitle": false,
     "title": ""
    }
   },
   "outputs": [],
   "source": []
  }
 ],
 "metadata": {
  "application/vnd.databricks.v1+notebook": {
   "dashboards": [],
   "language": "python",
   "notebookMetadata": {
    "mostRecentlyExecutedCommandWithImplicitDF": {
     "commandId": 4243948708432566,
     "dataframes": [
      "_sqldf"
     ]
    },
    "pythonIndentUnit": 4
   },
   "notebookName": "NB_GOLD_UDEMY",
   "widgets": {}
  }
 },
 "nbformat": 4,
 "nbformat_minor": 0
}
